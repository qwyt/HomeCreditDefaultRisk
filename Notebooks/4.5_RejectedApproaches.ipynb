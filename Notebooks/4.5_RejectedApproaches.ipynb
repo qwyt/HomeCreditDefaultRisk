{
 "cells": [
  {
   "cell_type": "code",
   "execution_count": null,
   "id": "initial_id",
   "metadata": {
    "collapsed": true
   },
   "outputs": [],
   "source": [
    ""
   ]
  },
  {
   "metadata": {},
   "cell_type": "markdown",
   "source": [
    "#### Clustering\n",
    "\n",
    "Clustering before using XGBoost can simplify data and possibly improve model performance by highlighting patterns that\n",
    "XGBoost may overlook. This preprocessing step reduces dimensionality and can enhance model interpretability, but its\n",
    "effectiveness depends on data relevance and feature importance evaluation.\n",
    "\n",
    "##### K-Prototypes\n",
    "\n",
    "Most suitable the dataset has clear boundaries and a roughly uniform distribution for optimal results. We've been unable\n",
    "to obtain clearly defined cluster when using it and based on the type of the dataset it's probably not the most suitable\n",
    "algorithm.\n",
    "\n",
    "#### DBSCAN\n",
    "\n",
    "Is an unsupervised algorithm which is more suitable for datasets with significant noise or irrelevant data points (e.g.\n",
    "data exhibits non-globular or irregularly shaped clusters)\n",
    "\n",
    "Feature\n",
    "\n",
    "- We've experimented\n",
    "\n",
    "#https://www.kaggle.com/c/home-credit-default-risk/data\n"
   ],
   "id": "60707094aa5f2226"
  },
  {
   "metadata": {},
   "cell_type": "markdown",
   "source": [
    "#### AutoML - EvalML\n",
    "Additionally, we've included a model selected using EvalML (an auto ML library) and a raw dataset (with Featuretools\n",
    "aggregations etc.)\n",
    "[TODO: include notebook]"
   ],
   "id": "94fac5715219023a"
  }
 ],
 "metadata": {
  "kernelspec": {
   "display_name": "Python 3",
   "language": "python",
   "name": "python3"
  },
  "language_info": {
   "codemirror_mode": {
    "name": "ipython",
    "version": 2
   },
   "file_extension": ".py",
   "mimetype": "text/x-python",
   "name": "python",
   "nbconvert_exporter": "python",
   "pygments_lexer": "ipython2",
   "version": "2.7.6"
  }
 },
 "nbformat": 4,
 "nbformat_minor": 5
}
