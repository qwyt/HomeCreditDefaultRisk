{
 "cells": [
  {
   "metadata": {},
   "cell_type": "markdown",
   "source": [
    "# Home Credit Default Risk\n",
    "\n",
    "This project is based on Home Credit's [loan application dataset](https://www.kaggle.com/c/home-credit-default-risk/data).\n",
    "\n",
    "Our goal was to advanced boosting to predict which loans Home Credit's portfolio have the highest risk of default or having payment difficulties. To do that:\n",
    "\n",
    "- We've used previous loan applications and applicants history from 3rd parties to build additional features (using Featuretools and manually) in addition to the `applications` dataset.\n",
    "\n",
    "- We were table to achieve an `AUC` of 0.78 using an LGBM tuned with Optuna (we've also built XGBoost and CatBoost models in addition to simple Logit (only on a subset of the dataset) which have achieved comparable or slightly inferior performance) \n",
    "\n",
    "- In addition to estimating the default risk we've built risk-based pricing  and loan quality grading models which allowed to build estimate \"optimal\" interest rates and risk grades for model to optimize overall return on investment.\n",
    "- Our simplified model using fixed `Loss Given Default` ratios, base interest rates and margins (can be adjusted using actual figures from Home Credit) allowed us to build a more conservative loan approval algorithm would allow Home Credit to hypotehticall reduce their loses by up to 80% or so.\n",
    "\n",
    "\n",
    "The primary goal was to develop a predictive model that not only assesses the risk of loan default more accurately but also integrates risk assessment into pricing strategies to enhance financial outcomes. Utilizing a variety of models, including LightGBM with the DART algorithm, our efforts culminated in a system that not only predicts loan defaults with a high degree of accuracy but also supports risk-based pricing and loan quality grading. Key achievements include significant reductions in potential losses and the development of a pricing model that adjusts interest rates based on estimated risk levels. These enhancements help balance risk and return, offering a conservative yet profitable lending strategy.\n",
    "\n",
    "\n",
    "### Project Structure "
   ],
   "id": "63195fc156b9917e"
  }
 ],
 "metadata": {
  "kernelspec": {
   "display_name": "Python 3",
   "language": "python",
   "name": "python3"
  },
  "language_info": {
   "codemirror_mode": {
    "name": "ipython",
    "version": 2
   },
   "file_extension": ".py",
   "mimetype": "text/x-python",
   "name": "python",
   "nbconvert_exporter": "python",
   "pygments_lexer": "ipython2",
   "version": "2.7.6"
  }
 },
 "nbformat": 4,
 "nbformat_minor": 5
}
