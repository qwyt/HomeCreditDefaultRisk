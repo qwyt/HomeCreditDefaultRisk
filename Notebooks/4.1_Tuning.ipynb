{
 "cells": [
  {
   "cell_type": "code",
   "id": "initial_id",
   "metadata": {
    "collapsed": true,
    "ExecuteTime": {
     "end_time": "2024-04-30T11:10:20.753018Z",
     "start_time": "2024-04-30T11:10:18.517380Z"
    }
   },
   "source": [
    "from itertools import chain\n",
    "from src_draft.utils import LOW_IMP_FEATURES, ZERO_IMP_FEATURES\n",
    "import shared.ml_config_core as ml_config_core\n",
    "import pandas as pd\n",
    "from shared.ml_config_core import ModelConfigsCollection\n",
    "from shared.ml_config_runner import run_tuning_for_configs_collection\n",
    "from shared.definitions import TuningResult\n",
    "\n",
    "from Draft import feature_builder_v2\n",
    "\n",
    "import importlib\n",
    "\n",
    "VERBOSE = True\n",
    "importlib.reload(feature_builder_v2)\n",
    "features_matrix = feature_builder_v2.load_datasets_and_prepare_features(\n",
    "    drop_meta_data=True, ds_type=feature_builder_v2.DatasetType.BASE\n",
    ")\n",
    "display(\"Distribution of Samples\")\n",
    "value_counts = features_matrix[\"TARGET\"].value_counts()\n",
    "df_value_counts = pd.DataFrame(\n",
    "    {\"Total Rows\": value_counts, \"Proportion\": value_counts / len(features_matrix)}\n",
    ")\n",
    "df_value_counts.round(2)\n",
    "transformers = [\n",
    "    # No feature engineering tuning for for rejected/accepted df\n",
    "    # ml_config_core.AcceptedRejectedDropAllButEmployment,  # Only used for testing\n",
    "]\n",
    "\n",
    "baseline_only_credit_ratings_config = {\n",
    "    # Only uses  ExtScore1/2/3\n",
    "    \"Baseline_Only_CreditRatings\": ml_config_core.ModelPipelineConfig(\n",
    "        model_config=ml_config_core.LGBMTuneAUC(),\n",
    "        transformer_config=ml_config_core.PipelineTransformerConfig(transformers),\n",
    "        data_loader_params={\n",
    "            \"drop_meta_data\": True,\n",
    "            \"ds_type\": feature_builder_v2.DatasetType.BASE_ONLY_CREDIT_RATINGS,\n",
    "        },\n",
    "    )\n",
    "}\n",
    "\n",
    "baseline_only_base_feats = {\n",
    "    # Only includes base table (i.e. no aggregations from client history)\n",
    "    \"LGBM_AUC_Base_Features\": ml_config_core.ModelPipelineConfig(\n",
    "        model_config=ml_config_core.LGBMTuneAUC(),\n",
    "        transformer_config=ml_config_core.PipelineTransformerConfig(transformers),\n",
    "        data_loader_params={\n",
    "            \"drop_meta_data\": True,\n",
    "            \"ds_type\": feature_builder_v2.DatasetType.BASE,\n",
    "        },\n",
    "    ),\n",
    "}\n",
    "\n",
    "weighted_log_loss_config = {\n",
    "    # Tuned on score combined from logloss and F1 score\n",
    "    \"LGBM_Weighted_LogLoss\": ml_config_core.ModelPipelineConfig(\n",
    "        model_config=ml_config_core.LGBMTuneWeightedLogLossF1(),\n",
    "        transformer_config=ml_config_core.PipelineTransformerConfig(transformers),\n",
    "        data_loader_params={\n",
    "            \"drop_meta_data\": True,\n",
    "            \"drop_cols_post_proc\": ZERO_IMP_FEATURES + LOW_IMP_FEATURES,\n",
    "        },\n",
    "    ),\n",
    "}\n",
    "\n",
    "tune_auc_config: ModelConfigsCollection = {\n",
    "    \"LGBM_AUC\": ml_config_core.ModelPipelineConfig(\n",
    "        model_config=ml_config_core.LGBMTuneAUC(),\n",
    "        transformer_config=ml_config_core.PipelineTransformerConfig(transformers),\n",
    "        data_loader_params={\n",
    "            \"drop_meta_data\": True,\n",
    "            \"ds_type\": feature_builder_v2.DatasetType.FULL,\n",
    "            \"drop_cols_post_proc\": ZERO_IMP_FEATURES + LOW_IMP_FEATURES,\n",
    "        },\n",
    "    ),\n",
    "}\n",
    "\n",
    "dart_tune_auc_config: ModelConfigsCollection = {\n",
    "    \"LGBM_Dart_AUC_NEW\": ml_config_core.ModelPipelineConfig(\n",
    "        model_config=ml_config_core.LGBMDartTuneAUC(),\n",
    "        transformer_config=ml_config_core.PipelineTransformerConfig(transformers),\n",
    "        data_loader_params={\n",
    "            \"drop_meta_data\": True,\n",
    "            \"ds_type\": feature_builder_v2.DatasetType.FULL,\n",
    "            \"drop_cols_post_proc\": ZERO_IMP_FEATURES + LOW_IMP_FEATURES,\n",
    "        },\n",
    "    ),\n",
    "}\n",
    "\n",
    "tune_auc_all_features_config: ModelConfigsCollection = {\n",
    "    \"LGBM_AUC_All_Features\": ml_config_core.ModelPipelineConfig(\n",
    "        model_config=ml_config_core.LGBMTuneAUC(),\n",
    "        transformer_config=ml_config_core.PipelineTransformerConfig(transformers),\n",
    "        data_loader_params={\n",
    "            \"drop_meta_data\": True,\n",
    "            \"ds_type\": feature_builder_v2.DatasetType.FULL,\n",
    "            # \"drop_cols_post_proc\": ZERO_IMP_FEATURES + LOW_IMP_FEATURES\n",
    "        },\n",
    "    ),\n",
    "}\n",
    "\n",
    "configs: ModelConfigsCollection = {\n",
    "    # **baseline_only_credit_ratings_config,\n",
    "    # **baseline_only_base_feats,\n",
    "    # **weighted_log_loss_config,\n",
    "    # **tune_auc_config,\n",
    "    **dart_tune_auc_config,\n",
    "    # **tune_auc_all_features_config\n",
    "}"
   ],
   "outputs": [
    {
     "name": "stdout",
     "output_type": "stream",
     "text": [
      "Full DS size: 307511\n"
     ]
    },
    {
     "data": {
      "text/plain": [
       "'Distribution of Samples'"
      ]
     },
     "metadata": {},
     "output_type": "display_data"
    }
   ],
   "execution_count": 1
  },
  {
   "cell_type": "code",
   "source": "configs.keys()",
   "metadata": {
    "collapsed": false,
    "ExecuteTime": {
     "end_time": "2024-04-30T11:10:20.755933Z",
     "start_time": "2024-04-30T11:10:20.753018Z"
    }
   },
   "id": "a61836a0a428f5e2",
   "outputs": [
    {
     "data": {
      "text/plain": [
       "dict_keys(['LGBM_Dart_AUC_NEW'])"
      ]
     },
     "execution_count": 2,
     "metadata": {},
     "output_type": "execute_result"
    }
   ],
   "execution_count": 2
  },
  {
   "cell_type": "code",
   "source": "",
   "metadata": {
    "collapsed": false,
    "ExecuteTime": {
     "end_time": "2024-04-30T11:10:20.758132Z",
     "start_time": "2024-04-30T11:10:20.755933Z"
    }
   },
   "id": "eed3fa27393d896b",
   "outputs": [],
   "execution_count": 2
  },
  {
   "cell_type": "code",
   "source": [
    "tuning_results = run_tuning_for_configs_collection(\n",
    "    configs, feature_builder_v2.load_datasets_and_prepare_features\n",
    ")"
   ],
   "metadata": {
    "collapsed": false,
    "ExecuteTime": {
     "end_time": "2024-04-30T14:29:58.830512Z",
     "start_time": "2024-04-30T11:10:20.758132Z"
    }
   },
   "id": "4b5d63234ede2e6a",
   "outputs": [
    {
     "name": "stderr",
     "output_type": "stream",
     "text": [
      "C:\\Users\\Paulius\\AppData\\Local\\pypoetry\\Cache\\virtualenvs\\ppuodz-ml-4-1-dqELbViF-py3.12\\Lib\\site-packages\\woodwork\\type_sys\\utils.py:40: UserWarning: Could not infer format, so each element will be parsed individually, falling back to `dateutil`. To ensure parsing is consistent and as-expected, please specify a format.\n",
      "  pd.to_datetime(\n",
      "C:\\Users\\Paulius\\AppData\\Local\\pypoetry\\Cache\\virtualenvs\\ppuodz-ml-4-1-dqELbViF-py3.12\\Lib\\site-packages\\woodwork\\type_sys\\utils.py:40: UserWarning: Could not infer format, so each element will be parsed individually, falling back to `dateutil`. To ensure parsing is consistent and as-expected, please specify a format.\n",
      "  pd.to_datetime(\n",
      "C:\\Users\\Paulius\\AppData\\Local\\pypoetry\\Cache\\virtualenvs\\ppuodz-ml-4-1-dqELbViF-py3.12\\Lib\\site-packages\\woodwork\\type_sys\\utils.py:40: UserWarning: Could not infer format, so each element will be parsed individually, falling back to `dateutil`. To ensure parsing is consistent and as-expected, please specify a format.\n",
      "  pd.to_datetime(\n",
      "C:\\Users\\Paulius\\AppData\\Local\\pypoetry\\Cache\\virtualenvs\\ppuodz-ml-4-1-dqELbViF-py3.12\\Lib\\site-packages\\woodwork\\type_sys\\utils.py:40: UserWarning: Could not infer format, so each element will be parsed individually, falling back to `dateutil`. To ensure parsing is consistent and as-expected, please specify a format.\n",
      "  pd.to_datetime(\n",
      "C:\\Users\\Paulius\\AppData\\Local\\pypoetry\\Cache\\virtualenvs\\ppuodz-ml-4-1-dqELbViF-py3.12\\Lib\\site-packages\\woodwork\\type_sys\\utils.py:40: UserWarning: Could not infer format, so each element will be parsed individually, falling back to `dateutil`. To ensure parsing is consistent and as-expected, please specify a format.\n",
      "  pd.to_datetime(\n",
      "C:\\Users\\Paulius\\AppData\\Local\\pypoetry\\Cache\\virtualenvs\\ppuodz-ml-4-1-dqELbViF-py3.12\\Lib\\site-packages\\woodwork\\type_sys\\utils.py:40: UserWarning: Could not infer format, so each element will be parsed individually, falling back to `dateutil`. To ensure parsing is consistent and as-expected, please specify a format.\n",
      "  pd.to_datetime(\n",
      "C:\\Users\\Paulius\\AppData\\Local\\pypoetry\\Cache\\virtualenvs\\ppuodz-ml-4-1-dqELbViF-py3.12\\Lib\\site-packages\\woodwork\\type_sys\\utils.py:40: UserWarning: Could not infer format, so each element will be parsed individually, falling back to `dateutil`. To ensure parsing is consistent and as-expected, please specify a format.\n",
      "  pd.to_datetime(\n",
      "C:\\Users\\Paulius\\AppData\\Local\\pypoetry\\Cache\\virtualenvs\\ppuodz-ml-4-1-dqELbViF-py3.12\\Lib\\site-packages\\woodwork\\type_sys\\utils.py:40: UserWarning: Could not infer format, so each element will be parsed individually, falling back to `dateutil`. To ensure parsing is consistent and as-expected, please specify a format.\n",
      "  pd.to_datetime(\n",
      "C:\\Users\\Paulius\\AppData\\Local\\pypoetry\\Cache\\virtualenvs\\ppuodz-ml-4-1-dqELbViF-py3.12\\Lib\\site-packages\\woodwork\\type_sys\\utils.py:40: UserWarning: Could not infer format, so each element will be parsed individually, falling back to `dateutil`. To ensure parsing is consistent and as-expected, please specify a format.\n",
      "  pd.to_datetime(\n",
      "C:\\Users\\Paulius\\AppData\\Local\\pypoetry\\Cache\\virtualenvs\\ppuodz-ml-4-1-dqELbViF-py3.12\\Lib\\site-packages\\woodwork\\type_sys\\utils.py:40: UserWarning: Could not infer format, so each element will be parsed individually, falling back to `dateutil`. To ensure parsing is consistent and as-expected, please specify a format.\n",
      "  pd.to_datetime(\n",
      "C:\\Users\\Paulius\\AppData\\Local\\pypoetry\\Cache\\virtualenvs\\ppuodz-ml-4-1-dqELbViF-py3.12\\Lib\\site-packages\\woodwork\\type_sys\\utils.py:40: UserWarning: Could not infer format, so each element will be parsed individually, falling back to `dateutil`. To ensure parsing is consistent and as-expected, please specify a format.\n",
      "  pd.to_datetime(\n",
      "C:\\Users\\Paulius\\AppData\\Local\\pypoetry\\Cache\\virtualenvs\\ppuodz-ml-4-1-dqELbViF-py3.12\\Lib\\site-packages\\woodwork\\type_sys\\utils.py:40: UserWarning: Could not infer format, so each element will be parsed individually, falling back to `dateutil`. To ensure parsing is consistent and as-expected, please specify a format.\n",
      "  pd.to_datetime(\n",
      "C:\\Users\\Paulius\\AppData\\Local\\pypoetry\\Cache\\virtualenvs\\ppuodz-ml-4-1-dqELbViF-py3.12\\Lib\\site-packages\\woodwork\\type_sys\\utils.py:40: UserWarning: Could not infer format, so each element will be parsed individually, falling back to `dateutil`. To ensure parsing is consistent and as-expected, please specify a format.\n",
      "  pd.to_datetime(\n",
      "C:\\Users\\Paulius\\AppData\\Local\\pypoetry\\Cache\\virtualenvs\\ppuodz-ml-4-1-dqELbViF-py3.12\\Lib\\site-packages\\woodwork\\type_sys\\utils.py:40: UserWarning: Could not infer format, so each element will be parsed individually, falling back to `dateutil`. To ensure parsing is consistent and as-expected, please specify a format.\n",
      "  pd.to_datetime(\n",
      "C:\\Users\\Paulius\\AppData\\Local\\pypoetry\\Cache\\virtualenvs\\ppuodz-ml-4-1-dqELbViF-py3.12\\Lib\\site-packages\\woodwork\\type_sys\\utils.py:40: UserWarning: Could not infer format, so each element will be parsed individually, falling back to `dateutil`. To ensure parsing is consistent and as-expected, please specify a format.\n",
      "  pd.to_datetime(\n",
      "C:\\Users\\Paulius\\AppData\\Local\\pypoetry\\Cache\\virtualenvs\\ppuodz-ml-4-1-dqELbViF-py3.12\\Lib\\site-packages\\woodwork\\type_sys\\utils.py:40: UserWarning: Could not infer format, so each element will be parsed individually, falling back to `dateutil`. To ensure parsing is consistent and as-expected, please specify a format.\n",
      "  pd.to_datetime(\n",
      "C:\\Users\\Paulius\\AppData\\Local\\pypoetry\\Cache\\virtualenvs\\ppuodz-ml-4-1-dqELbViF-py3.12\\Lib\\site-packages\\woodwork\\type_sys\\utils.py:40: UserWarning: Could not infer format, so each element will be parsed individually, falling back to `dateutil`. To ensure parsing is consistent and as-expected, please specify a format.\n",
      "  pd.to_datetime(\n",
      "C:\\Users\\Paulius\\AppData\\Local\\pypoetry\\Cache\\virtualenvs\\ppuodz-ml-4-1-dqELbViF-py3.12\\Lib\\site-packages\\woodwork\\type_sys\\utils.py:40: UserWarning: Could not infer format, so each element will be parsed individually, falling back to `dateutil`. To ensure parsing is consistent and as-expected, please specify a format.\n",
      "  pd.to_datetime(\n",
      "C:\\Users\\Paulius\\AppData\\Local\\pypoetry\\Cache\\virtualenvs\\ppuodz-ml-4-1-dqELbViF-py3.12\\Lib\\site-packages\\woodwork\\type_sys\\utils.py:40: UserWarning: Could not infer format, so each element will be parsed individually, falling back to `dateutil`. To ensure parsing is consistent and as-expected, please specify a format.\n",
      "  pd.to_datetime(\n",
      "C:\\Users\\Paulius\\AppData\\Local\\pypoetry\\Cache\\virtualenvs\\ppuodz-ml-4-1-dqELbViF-py3.12\\Lib\\site-packages\\woodwork\\type_sys\\utils.py:40: UserWarning: Could not infer format, so each element will be parsed individually, falling back to `dateutil`. To ensure parsing is consistent and as-expected, please specify a format.\n",
      "  pd.to_datetime(\n",
      "C:\\Users\\Paulius\\AppData\\Local\\pypoetry\\Cache\\virtualenvs\\ppuodz-ml-4-1-dqELbViF-py3.12\\Lib\\site-packages\\woodwork\\type_sys\\utils.py:40: UserWarning: Could not infer format, so each element will be parsed individually, falling back to `dateutil`. To ensure parsing is consistent and as-expected, please specify a format.\n",
      "  pd.to_datetime(\n",
      "C:\\Users\\Paulius\\AppData\\Local\\pypoetry\\Cache\\virtualenvs\\ppuodz-ml-4-1-dqELbViF-py3.12\\Lib\\site-packages\\woodwork\\type_sys\\utils.py:40: UserWarning: Could not infer format, so each element will be parsed individually, falling back to `dateutil`. To ensure parsing is consistent and as-expected, please specify a format.\n",
      "  pd.to_datetime(\n",
      "C:\\Users\\Paulius\\AppData\\Local\\pypoetry\\Cache\\virtualenvs\\ppuodz-ml-4-1-dqELbViF-py3.12\\Lib\\site-packages\\woodwork\\type_sys\\utils.py:40: UserWarning: Could not infer format, so each element will be parsed individually, falling back to `dateutil`. To ensure parsing is consistent and as-expected, please specify a format.\n",
      "  pd.to_datetime(\n",
      "C:\\Users\\Paulius\\AppData\\Local\\pypoetry\\Cache\\virtualenvs\\ppuodz-ml-4-1-dqELbViF-py3.12\\Lib\\site-packages\\woodwork\\type_sys\\utils.py:40: UserWarning: Could not infer format, so each element will be parsed individually, falling back to `dateutil`. To ensure parsing is consistent and as-expected, please specify a format.\n",
      "  pd.to_datetime(\n",
      "C:\\Users\\Paulius\\AppData\\Local\\pypoetry\\Cache\\virtualenvs\\ppuodz-ml-4-1-dqELbViF-py3.12\\Lib\\site-packages\\woodwork\\type_sys\\utils.py:40: UserWarning: Could not infer format, so each element will be parsed individually, falling back to `dateutil`. To ensure parsing is consistent and as-expected, please specify a format.\n",
      "  pd.to_datetime(\n",
      "C:\\Users\\Paulius\\AppData\\Local\\pypoetry\\Cache\\virtualenvs\\ppuodz-ml-4-1-dqELbViF-py3.12\\Lib\\site-packages\\woodwork\\type_sys\\utils.py:40: UserWarning: Could not infer format, so each element will be parsed individually, falling back to `dateutil`. To ensure parsing is consistent and as-expected, please specify a format.\n",
      "  pd.to_datetime(\n",
      "C:\\Users\\Paulius\\AppData\\Local\\pypoetry\\Cache\\virtualenvs\\ppuodz-ml-4-1-dqELbViF-py3.12\\Lib\\site-packages\\woodwork\\type_sys\\utils.py:40: UserWarning: Could not infer format, so each element will be parsed individually, falling back to `dateutil`. To ensure parsing is consistent and as-expected, please specify a format.\n",
      "  pd.to_datetime(\n",
      "C:\\Users\\Paulius\\AppData\\Local\\pypoetry\\Cache\\virtualenvs\\ppuodz-ml-4-1-dqELbViF-py3.12\\Lib\\site-packages\\woodwork\\type_sys\\utils.py:40: UserWarning: Could not infer format, so each element will be parsed individually, falling back to `dateutil`. To ensure parsing is consistent and as-expected, please specify a format.\n",
      "  pd.to_datetime(\n",
      "C:\\Users\\Paulius\\AppData\\Local\\pypoetry\\Cache\\virtualenvs\\ppuodz-ml-4-1-dqELbViF-py3.12\\Lib\\site-packages\\woodwork\\type_sys\\utils.py:40: UserWarning: Could not infer format, so each element will be parsed individually, falling back to `dateutil`. To ensure parsing is consistent and as-expected, please specify a format.\n",
      "  pd.to_datetime(\n",
      "C:\\Users\\Paulius\\AppData\\Local\\pypoetry\\Cache\\virtualenvs\\ppuodz-ml-4-1-dqELbViF-py3.12\\Lib\\site-packages\\woodwork\\type_sys\\utils.py:40: UserWarning: Could not infer format, so each element will be parsed individually, falling back to `dateutil`. To ensure parsing is consistent and as-expected, please specify a format.\n",
      "  pd.to_datetime(\n",
      "C:\\Users\\Paulius\\AppData\\Local\\pypoetry\\Cache\\virtualenvs\\ppuodz-ml-4-1-dqELbViF-py3.12\\Lib\\site-packages\\woodwork\\type_sys\\utils.py:40: UserWarning: Could not infer format, so each element will be parsed individually, falling back to `dateutil`. To ensure parsing is consistent and as-expected, please specify a format.\n",
      "  pd.to_datetime(\n",
      "C:\\Users\\Paulius\\AppData\\Local\\pypoetry\\Cache\\virtualenvs\\ppuodz-ml-4-1-dqELbViF-py3.12\\Lib\\site-packages\\woodwork\\type_sys\\utils.py:40: UserWarning: Could not infer format, so each element will be parsed individually, falling back to `dateutil`. To ensure parsing is consistent and as-expected, please specify a format.\n",
      "  pd.to_datetime(\n",
      "C:\\Users\\Paulius\\AppData\\Local\\pypoetry\\Cache\\virtualenvs\\ppuodz-ml-4-1-dqELbViF-py3.12\\Lib\\site-packages\\featuretools\\entityset\\entityset.py:1914: UserWarning: index SK_BUREAU_ID not found in dataframe, creating new integer column\n",
      "  warnings.warn(\n",
      "C:\\Users\\Paulius\\AppData\\Local\\pypoetry\\Cache\\virtualenvs\\ppuodz-ml-4-1-dqELbViF-py3.12\\Lib\\site-packages\\woodwork\\type_sys\\utils.py:40: UserWarning: Could not infer format, so each element will be parsed individually, falling back to `dateutil`. To ensure parsing is consistent and as-expected, please specify a format.\n",
      "  pd.to_datetime(\n",
      "C:\\Users\\Paulius\\AppData\\Local\\pypoetry\\Cache\\virtualenvs\\ppuodz-ml-4-1-dqELbViF-py3.12\\Lib\\site-packages\\woodwork\\type_sys\\utils.py:40: UserWarning: Could not infer format, so each element will be parsed individually, falling back to `dateutil`. To ensure parsing is consistent and as-expected, please specify a format.\n",
      "  pd.to_datetime(\n",
      "C:\\Users\\Paulius\\AppData\\Local\\pypoetry\\Cache\\virtualenvs\\ppuodz-ml-4-1-dqELbViF-py3.12\\Lib\\site-packages\\woodwork\\type_sys\\utils.py:40: UserWarning: Could not infer format, so each element will be parsed individually, falling back to `dateutil`. To ensure parsing is consistent and as-expected, please specify a format.\n",
      "  pd.to_datetime(\n",
      "C:\\Users\\Paulius\\AppData\\Local\\pypoetry\\Cache\\virtualenvs\\ppuodz-ml-4-1-dqELbViF-py3.12\\Lib\\site-packages\\woodwork\\type_sys\\utils.py:40: UserWarning: Could not infer format, so each element will be parsed individually, falling back to `dateutil`. To ensure parsing is consistent and as-expected, please specify a format.\n",
      "  pd.to_datetime(\n",
      "C:\\Users\\Paulius\\AppData\\Local\\pypoetry\\Cache\\virtualenvs\\ppuodz-ml-4-1-dqELbViF-py3.12\\Lib\\site-packages\\woodwork\\type_sys\\utils.py:40: UserWarning: Could not infer format, so each element will be parsed individually, falling back to `dateutil`. To ensure parsing is consistent and as-expected, please specify a format.\n",
      "  pd.to_datetime(\n",
      "C:\\Users\\Paulius\\AppData\\Local\\pypoetry\\Cache\\virtualenvs\\ppuodz-ml-4-1-dqELbViF-py3.12\\Lib\\site-packages\\woodwork\\type_sys\\utils.py:40: UserWarning: Could not infer format, so each element will be parsed individually, falling back to `dateutil`. To ensure parsing is consistent and as-expected, please specify a format.\n",
      "  pd.to_datetime(\n",
      "C:\\Users\\Paulius\\AppData\\Local\\pypoetry\\Cache\\virtualenvs\\ppuodz-ml-4-1-dqELbViF-py3.12\\Lib\\site-packages\\featuretools\\computational_backends\\feature_set_calculator.py:828: FutureWarning: The provided callable <function min at 0x000001D77E574400> is currently using SeriesGroupBy.min. In a future version of pandas, the provided callable will be used directly. To keep current behavior pass the string \"min\" instead.\n",
      "  ).agg(to_agg)\n",
      "C:\\Users\\Paulius\\AppData\\Local\\pypoetry\\Cache\\virtualenvs\\ppuodz-ml-4-1-dqELbViF-py3.12\\Lib\\site-packages\\featuretools\\computational_backends\\feature_set_calculator.py:828: FutureWarning: The provided callable <function max at 0x000001D77E5742C0> is currently using SeriesGroupBy.max. In a future version of pandas, the provided callable will be used directly. To keep current behavior pass the string \"max\" instead.\n",
      "  ).agg(to_agg)\n",
      "C:\\Users\\Paulius\\AppData\\Local\\pypoetry\\Cache\\virtualenvs\\ppuodz-ml-4-1-dqELbViF-py3.12\\Lib\\site-packages\\featuretools\\computational_backends\\feature_set_calculator.py:828: FutureWarning: The provided callable <function mean at 0x000001D77E574CC0> is currently using SeriesGroupBy.mean. In a future version of pandas, the provided callable will be used directly. To keep current behavior pass the string \"mean\" instead.\n",
      "  ).agg(to_agg)\n"
     ]
    },
    {
     "name": "stdout",
     "output_type": "stream",
     "text": [
      "Appending previous history\n"
     ]
    },
    {
     "name": "stderr",
     "output_type": "stream",
     "text": [
      "[I 2024-04-30 14:10:40,243] A new study created in memory with name: no-name-4805c4d6-1ec9-4777-906c-84869c0c80c2\n"
     ]
    },
    {
     "name": "stdout",
     "output_type": "stream",
     "text": [
      "drop drop_cols_post_proc: 227\n",
      "after drop_cols_post_proc: 121\n",
      "Full DS size: 307511\n",
      "Tunning: - transformers: transformers: 0\n",
      " total options: 0\n",
      "[]\n",
      "search_grid:\n",
      "{}\n",
      "\n",
      " - model: LGBM_Dart_AUC_NEW n_iters=10 with:\n",
      " {'model__class_weight': ['balanced', None], 'model__objective': ['binary'], 'model__boosting_type': ['gbdt', 'rf', 'dart'], 'model__n_estimators': Range(50, 1000, 50, int), 'model__learning_rate': Range(0.01, 0.3, 0.01, float), 'model__max_depth': Range(3, 11, 1, int), 'model__num_leaves': Range(8, 256, 8, int), 'model__min_gain_to_split': Range(0.0, 15.0, 0.5, float), 'model__min_data_in_leaf': Range(0, 3000, 100, int), 'model__lambda_l1': Range(0, 110, 5, int), 'model__lambda_l2': Range(0, 110, 5, int), 'model__bagging_fraction': Range(0.2, 1.0, 0.1, float), 'model__feature_fraction': Range(0.2, 1.0, 0.1, float), 'model__max_bin': Range(50, 500, 25, int), 'model__drop_rate': Range(0.0, 1.0, 0.025, float)}\n",
      "Fold: Tuning: n_train=246008, eval_set=61503\n",
      "Fold: Tuning: n_train=246009, eval_set=61502\n",
      "Fold: Tuning: n_train=246009, eval_set=61502\n",
      "Fold: Tuning: n_train=246009, eval_set=61502\n",
      "Fold: Tuning: n_train=246009, eval_set=61502\n",
      "Tune: val_score:0.7248, std_test_score:0.00209 train_set_score:0.7308\n",
      "folds val/train: [0.727, 0.7253, 0.7214, 0.7266, 0.7235] / [0.7308, 0.7311, 0.732, 0.7298, 0.7304], mean fold time: 1.24\n"
     ]
    },
    {
     "name": "stderr",
     "output_type": "stream",
     "text": [
      "C:\\Users\\Paulius\\AppData\\Local\\pypoetry\\Cache\\virtualenvs\\ppuodz-ml-4-1-dqELbViF-py3.12\\Lib\\site-packages\\sklearn\\metrics\\_classification.py:1509: UndefinedMetricWarning: Precision is ill-defined and being set to 0.0 due to no predicted samples. Use `zero_division` parameter to control this behavior.\n",
      "  _warn_prf(average, modifier, f\"{metric.capitalize()} is\", len(result))\n",
      "[I 2024-04-30 14:10:47,163] Trial 0 finished with value: 0.7247591221654156 and parameters: {'model__class_weight': None, 'model__objective': 'binary', 'model__boosting_type': 'rf', 'model__n_estimators': 900, 'model__learning_rate': 0.08, 'model__max_depth': 11, 'model__num_leaves': 112, 'model__min_gain_to_split': 12.5, 'model__min_data_in_leaf': 2700, 'model__lambda_l1': 50, 'model__lambda_l2': 15, 'model__bagging_fraction': 0.4, 'model__feature_fraction': 0.8, 'model__max_bin': 225, 'model__drop_rate': 0.55}. Best is trial 0 with value: 0.7247591221654156.\n",
      "C:\\Users\\Paulius\\AppData\\Local\\pypoetry\\Cache\\virtualenvs\\ppuodz-ml-4-1-dqELbViF-py3.12\\Lib\\site-packages\\lightgbm\\callback.py:325: UserWarning: Early stopping is not available in dart mode\n",
      "  _log_warning('Early stopping is not available in dart mode')\n"
     ]
    },
    {
     "name": "stdout",
     "output_type": "stream",
     "text": [
      "Fold: Tuning: n_train=246008, eval_set=61503\n"
     ]
    },
    {
     "name": "stderr",
     "output_type": "stream",
     "text": [
      "C:\\Users\\Paulius\\AppData\\Local\\pypoetry\\Cache\\virtualenvs\\ppuodz-ml-4-1-dqELbViF-py3.12\\Lib\\site-packages\\lightgbm\\callback.py:325: UserWarning: Early stopping is not available in dart mode\n",
      "  _log_warning('Early stopping is not available in dart mode')\n"
     ]
    },
    {
     "name": "stdout",
     "output_type": "stream",
     "text": [
      "Fold: Tuning: n_train=246009, eval_set=61502\n"
     ]
    },
    {
     "name": "stderr",
     "output_type": "stream",
     "text": [
      "C:\\Users\\Paulius\\AppData\\Local\\pypoetry\\Cache\\virtualenvs\\ppuodz-ml-4-1-dqELbViF-py3.12\\Lib\\site-packages\\lightgbm\\callback.py:325: UserWarning: Early stopping is not available in dart mode\n",
      "  _log_warning('Early stopping is not available in dart mode')\n"
     ]
    },
    {
     "name": "stdout",
     "output_type": "stream",
     "text": [
      "Fold: Tuning: n_train=246009, eval_set=61502\n"
     ]
    },
    {
     "name": "stderr",
     "output_type": "stream",
     "text": [
      "C:\\Users\\Paulius\\AppData\\Local\\pypoetry\\Cache\\virtualenvs\\ppuodz-ml-4-1-dqELbViF-py3.12\\Lib\\site-packages\\lightgbm\\callback.py:325: UserWarning: Early stopping is not available in dart mode\n",
      "  _log_warning('Early stopping is not available in dart mode')\n"
     ]
    },
    {
     "name": "stdout",
     "output_type": "stream",
     "text": [
      "Fold: Tuning: n_train=246009, eval_set=61502\n"
     ]
    },
    {
     "name": "stderr",
     "output_type": "stream",
     "text": [
      "C:\\Users\\Paulius\\AppData\\Local\\pypoetry\\Cache\\virtualenvs\\ppuodz-ml-4-1-dqELbViF-py3.12\\Lib\\site-packages\\lightgbm\\callback.py:325: UserWarning: Early stopping is not available in dart mode\n",
      "  _log_warning('Early stopping is not available in dart mode')\n"
     ]
    },
    {
     "name": "stdout",
     "output_type": "stream",
     "text": [
      "Fold: Tuning: n_train=246009, eval_set=61502\n",
      "Tune: val_score:0.7332, std_test_score:0.00291 train_set_score:0.7374\n",
      "folds val/train: [0.7347, 0.732, 0.729, 0.7378, 0.7323] / [0.7368, 0.7383, 0.7361, 0.7382, 0.7374], mean fold time: 5.41\n"
     ]
    },
    {
     "name": "stderr",
     "output_type": "stream",
     "text": [
      "C:\\Users\\Paulius\\AppData\\Local\\pypoetry\\Cache\\virtualenvs\\ppuodz-ml-4-1-dqELbViF-py3.12\\Lib\\site-packages\\sklearn\\metrics\\_classification.py:1509: UndefinedMetricWarning: Precision is ill-defined and being set to 0.0 due to no predicted samples. Use `zero_division` parameter to control this behavior.\n",
      "  _warn_prf(average, modifier, f\"{metric.capitalize()} is\", len(result))\n",
      "[I 2024-04-30 14:11:14,958] Trial 1 finished with value: 0.733164335671028 and parameters: {'model__class_weight': None, 'model__objective': 'binary', 'model__boosting_type': 'dart', 'model__n_estimators': 500, 'model__learning_rate': 0.01, 'model__max_depth': 4, 'model__num_leaves': 216, 'model__min_gain_to_split': 7.0, 'model__min_data_in_leaf': 1400, 'model__lambda_l1': 60, 'model__lambda_l2': 75, 'model__bagging_fraction': 0.5, 'model__feature_fraction': 0.30000000000000004, 'model__max_bin': 200, 'model__drop_rate': 0.05}. Best is trial 1 with value: 0.733164335671028.\n"
     ]
    },
    {
     "name": "stdout",
     "output_type": "stream",
     "text": [
      "Fold: Tuning: n_train=246008, eval_set=61503\n",
      "Fold: Tuning: n_train=246009, eval_set=61502\n",
      "Fold: Tuning: n_train=246009, eval_set=61502\n",
      "Fold: Tuning: n_train=246009, eval_set=61502\n",
      "Fold: Tuning: n_train=246009, eval_set=61502\n",
      "Tune: val_score:0.7266, std_test_score:0.00277 train_set_score:0.7356\n",
      "folds val/train: [0.7285, 0.7245, 0.7238, 0.7311, 0.7252] / [0.7353, 0.7356, 0.7359, 0.7363, 0.7348], mean fold time: 1.25\n"
     ]
    },
    {
     "name": "stderr",
     "output_type": "stream",
     "text": [
      "C:\\Users\\Paulius\\AppData\\Local\\pypoetry\\Cache\\virtualenvs\\ppuodz-ml-4-1-dqELbViF-py3.12\\Lib\\site-packages\\sklearn\\metrics\\_classification.py:1509: UndefinedMetricWarning: Precision is ill-defined and being set to 0.0 due to no predicted samples. Use `zero_division` parameter to control this behavior.\n",
      "  _warn_prf(average, modifier, f\"{metric.capitalize()} is\", len(result))\n",
      "[I 2024-04-30 14:11:21,928] Trial 2 finished with value: 0.726644314510903 and parameters: {'model__class_weight': None, 'model__objective': 'binary', 'model__boosting_type': 'rf', 'model__n_estimators': 750, 'model__learning_rate': 0.2, 'model__max_depth': 7, 'model__num_leaves': 160, 'model__min_gain_to_split': 10.5, 'model__min_data_in_leaf': 1500, 'model__lambda_l1': 30, 'model__lambda_l2': 20, 'model__bagging_fraction': 0.9000000000000001, 'model__feature_fraction': 0.2, 'model__max_bin': 175, 'model__drop_rate': 0.30000000000000004}. Best is trial 1 with value: 0.733164335671028.\n",
      "C:\\Users\\Paulius\\AppData\\Local\\pypoetry\\Cache\\virtualenvs\\ppuodz-ml-4-1-dqELbViF-py3.12\\Lib\\site-packages\\lightgbm\\callback.py:325: UserWarning: Early stopping is not available in dart mode\n",
      "  _log_warning('Early stopping is not available in dart mode')\n"
     ]
    },
    {
     "name": "stdout",
     "output_type": "stream",
     "text": [
      "Fold: Tuning: n_train=246008, eval_set=61503\n"
     ]
    },
    {
     "name": "stderr",
     "output_type": "stream",
     "text": [
      "C:\\Users\\Paulius\\AppData\\Local\\pypoetry\\Cache\\virtualenvs\\ppuodz-ml-4-1-dqELbViF-py3.12\\Lib\\site-packages\\lightgbm\\callback.py:325: UserWarning: Early stopping is not available in dart mode\n",
      "  _log_warning('Early stopping is not available in dart mode')\n"
     ]
    },
    {
     "name": "stdout",
     "output_type": "stream",
     "text": [
      "Fold: Tuning: n_train=246009, eval_set=61502\n"
     ]
    },
    {
     "name": "stderr",
     "output_type": "stream",
     "text": [
      "C:\\Users\\Paulius\\AppData\\Local\\pypoetry\\Cache\\virtualenvs\\ppuodz-ml-4-1-dqELbViF-py3.12\\Lib\\site-packages\\lightgbm\\callback.py:325: UserWarning: Early stopping is not available in dart mode\n",
      "  _log_warning('Early stopping is not available in dart mode')\n"
     ]
    },
    {
     "name": "stdout",
     "output_type": "stream",
     "text": [
      "Fold: Tuning: n_train=246009, eval_set=61502\n"
     ]
    },
    {
     "name": "stderr",
     "output_type": "stream",
     "text": [
      "C:\\Users\\Paulius\\AppData\\Local\\pypoetry\\Cache\\virtualenvs\\ppuodz-ml-4-1-dqELbViF-py3.12\\Lib\\site-packages\\lightgbm\\callback.py:325: UserWarning: Early stopping is not available in dart mode\n",
      "  _log_warning('Early stopping is not available in dart mode')\n"
     ]
    },
    {
     "name": "stdout",
     "output_type": "stream",
     "text": [
      "Fold: Tuning: n_train=246009, eval_set=61502\n"
     ]
    },
    {
     "name": "stderr",
     "output_type": "stream",
     "text": [
      "C:\\Users\\Paulius\\AppData\\Local\\pypoetry\\Cache\\virtualenvs\\ppuodz-ml-4-1-dqELbViF-py3.12\\Lib\\site-packages\\lightgbm\\callback.py:325: UserWarning: Early stopping is not available in dart mode\n",
      "  _log_warning('Early stopping is not available in dart mode')\n"
     ]
    },
    {
     "name": "stdout",
     "output_type": "stream",
     "text": [
      "Fold: Tuning: n_train=246009, eval_set=61502\n",
      "Tune: val_score:0.7681, std_test_score:0.00153 train_set_score:0.8038\n",
      "folds val/train: [0.7694, 0.7654, 0.7673, 0.7693, 0.769] / [0.8039, 0.8033, 0.8042, 0.8038, 0.8038], mean fold time: 21.81\n"
     ]
    },
    {
     "name": "stderr",
     "output_type": "stream",
     "text": [
      "[I 2024-04-30 14:13:11,758] Trial 3 finished with value: 0.7680802042485764 and parameters: {'model__class_weight': 'balanced', 'model__objective': 'binary', 'model__boosting_type': 'dart', 'model__n_estimators': 350, 'model__learning_rate': 0.08, 'model__max_depth': 9, 'model__num_leaves': 144, 'model__min_gain_to_split': 7.5, 'model__min_data_in_leaf': 700, 'model__lambda_l1': 90, 'model__lambda_l2': 0, 'model__bagging_fraction': 0.6000000000000001, 'model__feature_fraction': 0.4, 'model__max_bin': 375, 'model__drop_rate': 0.6000000000000001}. Best is trial 3 with value: 0.7680802042485764.\n"
     ]
    },
    {
     "name": "stdout",
     "output_type": "stream",
     "text": [
      "Fold: Tuning: n_train=246008, eval_set=61503\n",
      "Fold: Tuning: n_train=246009, eval_set=61502\n",
      "Fold: Tuning: n_train=246009, eval_set=61502\n",
      "Fold: Tuning: n_train=246009, eval_set=61502\n",
      "Fold: Tuning: n_train=246009, eval_set=61502\n",
      "Tune: val_score:0.7713, std_test_score:0.00130 train_set_score:0.8122\n",
      "folds val/train: [0.7734, 0.7696, 0.7704, 0.771, 0.7718] / [0.8116, 0.8118, 0.8124, 0.813, 0.8122], mean fold time: 2.36\n"
     ]
    },
    {
     "name": "stderr",
     "output_type": "stream",
     "text": [
      "[I 2024-04-30 14:13:24,340] Trial 4 finished with value: 0.771269722930656 and parameters: {'model__class_weight': 'balanced', 'model__objective': 'binary', 'model__boosting_type': 'gbdt', 'model__n_estimators': 950, 'model__learning_rate': 0.11, 'model__max_depth': 6, 'model__num_leaves': 224, 'model__min_gain_to_split': 13.0, 'model__min_data_in_leaf': 0, 'model__lambda_l1': 15, 'model__lambda_l2': 80, 'model__bagging_fraction': 0.9000000000000001, 'model__feature_fraction': 0.4, 'model__max_bin': 500, 'model__drop_rate': 0.875}. Best is trial 4 with value: 0.771269722930656.\n"
     ]
    },
    {
     "name": "stdout",
     "output_type": "stream",
     "text": [
      "Fold: Tuning: n_train=246008, eval_set=61503\n",
      "Fold: Tuning: n_train=246009, eval_set=61502\n",
      "Fold: Tuning: n_train=246009, eval_set=61502\n",
      "Fold: Tuning: n_train=246009, eval_set=61502\n",
      "Fold: Tuning: n_train=246009, eval_set=61502\n",
      "Tune: val_score:0.7296, std_test_score:0.00302 train_set_score:0.7395\n",
      "folds val/train: [0.7331, 0.7296, 0.7247, 0.7322, 0.7283] / [0.7379, 0.7399, 0.7407, 0.7397, 0.7391], mean fold time: 1.35\n"
     ]
    },
    {
     "name": "stderr",
     "output_type": "stream",
     "text": [
      "C:\\Users\\Paulius\\AppData\\Local\\pypoetry\\Cache\\virtualenvs\\ppuodz-ml-4-1-dqELbViF-py3.12\\Lib\\site-packages\\sklearn\\metrics\\_classification.py:1509: UndefinedMetricWarning: Precision is ill-defined and being set to 0.0 due to no predicted samples. Use `zero_division` parameter to control this behavior.\n",
      "  _warn_prf(average, modifier, f\"{metric.capitalize()} is\", len(result))\n",
      "[I 2024-04-30 14:13:31,840] Trial 5 finished with value: 0.7295734635518236 and parameters: {'model__class_weight': None, 'model__objective': 'binary', 'model__boosting_type': 'rf', 'model__n_estimators': 600, 'model__learning_rate': 0.17, 'model__max_depth': 11, 'model__num_leaves': 256, 'model__min_gain_to_split': 4.0, 'model__min_data_in_leaf': 300, 'model__lambda_l1': 110, 'model__lambda_l2': 85, 'model__bagging_fraction': 1.0, 'model__feature_fraction': 0.7, 'model__max_bin': 275, 'model__drop_rate': 0.325}. Best is trial 4 with value: 0.771269722930656.\n"
     ]
    },
    {
     "name": "stdout",
     "output_type": "stream",
     "text": [
      "Fold: Tuning: n_train=246008, eval_set=61503\n",
      "Fold: Tuning: n_train=246009, eval_set=61502\n",
      "Fold: Tuning: n_train=246009, eval_set=61502\n",
      "Fold: Tuning: n_train=246009, eval_set=61502\n",
      "Fold: Tuning: n_train=246009, eval_set=61502\n",
      "Tune: val_score:0.7702, std_test_score:0.00128 train_set_score:0.8221\n",
      "folds val/train: [0.7725, 0.7697, 0.7689, 0.7692, 0.7706] / [0.8388, 0.8306, 0.8252, 0.8057, 0.81], mean fold time: 2.27\n"
     ]
    },
    {
     "name": "stderr",
     "output_type": "stream",
     "text": [
      "[I 2024-04-30 14:13:44,003] Trial 6 finished with value: 0.7701777822813336 and parameters: {'model__class_weight': 'balanced', 'model__objective': 'binary', 'model__boosting_type': 'gbdt', 'model__n_estimators': 450, 'model__learning_rate': 0.24000000000000002, 'model__max_depth': 8, 'model__num_leaves': 24, 'model__min_gain_to_split': 4.5, 'model__min_data_in_leaf': 2800, 'model__lambda_l1': 0, 'model__lambda_l2': 70, 'model__bagging_fraction': 0.30000000000000004, 'model__feature_fraction': 1.0, 'model__max_bin': 450, 'model__drop_rate': 0.225}. Best is trial 4 with value: 0.771269722930656.\n"
     ]
    },
    {
     "name": "stdout",
     "output_type": "stream",
     "text": [
      "Fold: Tuning: n_train=246008, eval_set=61503\n",
      "Fold: Tuning: n_train=246009, eval_set=61502\n",
      "Fold: Tuning: n_train=246009, eval_set=61502\n",
      "Fold: Tuning: n_train=246009, eval_set=61502\n",
      "Fold: Tuning: n_train=246009, eval_set=61502\n",
      "Tune: val_score:0.7646, std_test_score:0.00148 train_set_score:0.7801\n",
      "folds val/train: [0.765, 0.7623, 0.7635, 0.7657, 0.7664] / [0.7801, 0.7805, 0.7804, 0.78, 0.7794], mean fold time: 3.33\n"
     ]
    },
    {
     "name": "stderr",
     "output_type": "stream",
     "text": [
      "[I 2024-04-30 14:14:01,738] Trial 7 finished with value: 0.7645755916988988 and parameters: {'model__class_weight': None, 'model__objective': 'binary', 'model__boosting_type': 'gbdt', 'model__n_estimators': 850, 'model__learning_rate': 0.11, 'model__max_depth': 8, 'model__num_leaves': 192, 'model__min_gain_to_split': 14.0, 'model__min_data_in_leaf': 2600, 'model__lambda_l1': 25, 'model__lambda_l2': 105, 'model__bagging_fraction': 0.2, 'model__feature_fraction': 0.9000000000000001, 'model__max_bin': 225, 'model__drop_rate': 0.17500000000000002}. Best is trial 4 with value: 0.771269722930656.\n"
     ]
    },
    {
     "name": "stdout",
     "output_type": "stream",
     "text": [
      "Fold: Tuning: n_train=246008, eval_set=61503\n",
      "Fold: Tuning: n_train=246009, eval_set=61502\n",
      "Fold: Tuning: n_train=246009, eval_set=61502\n",
      "Fold: Tuning: n_train=246009, eval_set=61502\n",
      "Fold: Tuning: n_train=246009, eval_set=61502\n",
      "Tune: val_score:0.7633, std_test_score:0.00208 train_set_score:0.7764\n",
      "folds val/train: [0.7656, 0.7601, 0.7617, 0.764, 0.765] / [0.7759, 0.7759, 0.7766, 0.777, 0.7768], mean fold time: 1.92\n"
     ]
    },
    {
     "name": "stderr",
     "output_type": "stream",
     "text": [
      "[I 2024-04-30 14:14:12,368] Trial 8 finished with value: 0.7632609111571824 and parameters: {'model__class_weight': None, 'model__objective': 'binary', 'model__boosting_type': 'gbdt', 'model__n_estimators': 550, 'model__learning_rate': 0.28, 'model__max_depth': 5, 'model__num_leaves': 240, 'model__min_gain_to_split': 14.5, 'model__min_data_in_leaf': 0, 'model__lambda_l1': 20, 'model__lambda_l2': 90, 'model__bagging_fraction': 1.0, 'model__feature_fraction': 0.6000000000000001, 'model__max_bin': 100, 'model__drop_rate': 0.9}. Best is trial 4 with value: 0.771269722930656.\n"
     ]
    },
    {
     "name": "stdout",
     "output_type": "stream",
     "text": [
      "Fold: Tuning: n_train=246008, eval_set=61503\n",
      "Fold: Tuning: n_train=246009, eval_set=61502\n",
      "Fold: Tuning: n_train=246009, eval_set=61502\n",
      "Fold: Tuning: n_train=246009, eval_set=61502\n",
      "Fold: Tuning: n_train=246009, eval_set=61502\n",
      "Tune: val_score:0.7257, std_test_score:0.00200 train_set_score:0.7356\n",
      "folds val/train: [0.7258, 0.7237, 0.7239, 0.7293, 0.7258] / [0.7357, 0.7354, 0.7359, 0.7356, 0.7351], mean fold time: 2.34\n"
     ]
    },
    {
     "name": "stderr",
     "output_type": "stream",
     "text": [
      "[I 2024-04-30 14:14:25,096] Trial 9 finished with value: 0.7256979936912922 and parameters: {'model__class_weight': None, 'model__objective': 'binary', 'model__boosting_type': 'rf', 'model__n_estimators': 650, 'model__learning_rate': 0.05, 'model__max_depth': 10, 'model__num_leaves': 56, 'model__min_gain_to_split': 7.0, 'model__min_data_in_leaf': 2100, 'model__lambda_l1': 15, 'model__lambda_l2': 5, 'model__bagging_fraction': 0.30000000000000004, 'model__feature_fraction': 0.9000000000000001, 'model__max_bin': 75, 'model__drop_rate': 0.625}. Best is trial 4 with value: 0.771269722930656.\n"
     ]
    },
    {
     "name": "stdout",
     "output_type": "stream",
     "text": [
      "Fold: Tuning: n_train=246008, eval_set=61503\n",
      "Fold: Tuning: n_train=246009, eval_set=61502\n",
      "Fold: Tuning: n_train=246009, eval_set=61502\n",
      "Fold: Tuning: n_train=246009, eval_set=61502\n",
      "Fold: Tuning: n_train=246009, eval_set=61502\n",
      "Tune: val_score:0.7638, std_test_score:0.00140 train_set_score:0.7937\n",
      "folds val/train: [0.7656, 0.7613, 0.7638, 0.7642, 0.7643] / [0.7935, 0.7939, 0.794, 0.7938, 0.7933], mean fold time: 1.91\n"
     ]
    },
    {
     "name": "stderr",
     "output_type": "stream",
     "text": [
      "[I 2024-04-30 14:14:35,466] Trial 10 finished with value: 0.7638478396414092 and parameters: {'model__class_weight': 'balanced', 'model__objective': 'binary', 'model__boosting_type': 'gbdt', 'model__n_estimators': 50, 'model__learning_rate': 0.12, 'model__max_depth': 6, 'model__num_leaves': 88, 'model__min_gain_to_split': 1.0, 'model__min_data_in_leaf': 700, 'model__lambda_l1': 50, 'model__lambda_l2': 45, 'model__bagging_fraction': 0.7, 'model__feature_fraction': 0.5, 'model__max_bin': 500, 'model__drop_rate': 0.9750000000000001}. Best is trial 4 with value: 0.771269722930656.\n"
     ]
    },
    {
     "name": "stdout",
     "output_type": "stream",
     "text": [
      "Fold: Tuning: n_train=246008, eval_set=61503\n",
      "Fold: Tuning: n_train=246009, eval_set=61502\n",
      "Fold: Tuning: n_train=246009, eval_set=61502\n",
      "Fold: Tuning: n_train=246009, eval_set=61502\n",
      "Fold: Tuning: n_train=246009, eval_set=61502\n",
      "Tune: val_score:0.7709, std_test_score:0.00211 train_set_score:0.7988\n",
      "folds val/train: [0.7743, 0.7703, 0.7685, 0.7691, 0.7722] / [0.807, 0.8008, 0.7974, 0.7913, 0.7973], mean fold time: 2.18\n"
     ]
    },
    {
     "name": "stderr",
     "output_type": "stream",
     "text": [
      "[I 2024-04-30 14:14:47,169] Trial 11 finished with value: 0.7708781891661243 and parameters: {'model__class_weight': 'balanced', 'model__objective': 'binary', 'model__boosting_type': 'gbdt', 'model__n_estimators': 300, 'model__learning_rate': 0.23, 'model__max_depth': 3, 'model__num_leaves': 8, 'model__min_gain_to_split': 3.5, 'model__min_data_in_leaf': 2100, 'model__lambda_l1': 0, 'model__lambda_l2': 60, 'model__bagging_fraction': 0.8, 'model__feature_fraction': 1.0, 'model__max_bin': 475, 'model__drop_rate': 0.775}. Best is trial 4 with value: 0.771269722930656.\n"
     ]
    },
    {
     "name": "stdout",
     "output_type": "stream",
     "text": [
      "Fold: Tuning: n_train=246008, eval_set=61503\n",
      "Fold: Tuning: n_train=246009, eval_set=61502\n",
      "Fold: Tuning: n_train=246009, eval_set=61502\n",
      "Fold: Tuning: n_train=246009, eval_set=61502\n",
      "Fold: Tuning: n_train=246009, eval_set=61502\n",
      "Tune: val_score:0.7730, std_test_score:0.00203 train_set_score:0.7982\n",
      "folds val/train: [0.7767, 0.7722, 0.7707, 0.7722, 0.7731] / [0.8062, 0.797, 0.795, 0.7971, 0.7957], mean fold time: 6.12\n"
     ]
    },
    {
     "name": "stderr",
     "output_type": "stream",
     "text": [
      "[I 2024-04-30 14:15:19,006] Trial 12 finished with value: 0.7729736600713923 and parameters: {'model__class_weight': 'balanced', 'model__objective': 'binary', 'model__boosting_type': 'gbdt', 'model__n_estimators': 250, 'model__learning_rate': 0.21000000000000002, 'model__max_depth': 3, 'model__num_leaves': 16, 'model__min_gain_to_split': 0.0, 'model__min_data_in_leaf': 2000, 'model__lambda_l1': 0, 'model__lambda_l2': 50, 'model__bagging_fraction': 0.8, 'model__feature_fraction': 0.5, 'model__max_bin': 375, 'model__drop_rate': 0.8}. Best is trial 12 with value: 0.7729736600713923.\n"
     ]
    },
    {
     "name": "stdout",
     "output_type": "stream",
     "text": [
      "Fold: Tuning: n_train=246008, eval_set=61503\n",
      "Fold: Tuning: n_train=246009, eval_set=61502\n",
      "Fold: Tuning: n_train=246009, eval_set=61502\n",
      "Fold: Tuning: n_train=246009, eval_set=61502\n",
      "Fold: Tuning: n_train=246009, eval_set=61502\n",
      "Tune: val_score:0.7673, std_test_score:0.00125 train_set_score:0.7823\n",
      "folds val/train: [0.7684, 0.7661, 0.7661, 0.7666, 0.7692] / [0.782, 0.7827, 0.7823, 0.7819, 0.7825], mean fold time: 3.38\n"
     ]
    },
    {
     "name": "stderr",
     "output_type": "stream",
     "text": [
      "[I 2024-04-30 14:15:36,908] Trial 13 finished with value: 0.7672730632046433 and parameters: {'model__class_weight': 'balanced', 'model__objective': 'binary', 'model__boosting_type': 'gbdt', 'model__n_estimators': 100, 'model__learning_rate': 0.16, 'model__max_depth': 3, 'model__num_leaves': 184, 'model__min_gain_to_split': 0.0, 'model__min_data_in_leaf': 2000, 'model__lambda_l1': 0, 'model__lambda_l2': 40, 'model__bagging_fraction': 0.8, 'model__feature_fraction': 0.5, 'model__max_bin': 400, 'model__drop_rate': 0.775}. Best is trial 12 with value: 0.7729736600713923.\n"
     ]
    },
    {
     "name": "stdout",
     "output_type": "stream",
     "text": [
      "Fold: Tuning: n_train=246008, eval_set=61503\n",
      "Fold: Tuning: n_train=246009, eval_set=61502\n",
      "Fold: Tuning: n_train=246009, eval_set=61502\n",
      "Fold: Tuning: n_train=246009, eval_set=61502\n",
      "Fold: Tuning: n_train=246009, eval_set=61502\n",
      "Tune: val_score:0.7689, std_test_score:0.00186 train_set_score:0.7956\n",
      "folds val/train: [0.7712, 0.7661, 0.7674, 0.7699, 0.7697] / [0.7959, 0.7955, 0.7953, 0.7962, 0.7952], mean fold time: 2.21\n"
     ]
    },
    {
     "name": "stderr",
     "output_type": "stream",
     "text": [
      "[I 2024-04-30 14:15:48,764] Trial 14 finished with value: 0.7688614622014904 and parameters: {'model__class_weight': 'balanced', 'model__objective': 'binary', 'model__boosting_type': 'gbdt', 'model__n_estimators': 1000, 'model__learning_rate': 0.3, 'model__max_depth': 5, 'model__num_leaves': 80, 'model__min_gain_to_split': 10.0, 'model__min_data_in_leaf': 1100, 'model__lambda_l1': 65, 'model__lambda_l2': 35, 'model__bagging_fraction': 0.8, 'model__feature_fraction': 0.4, 'model__max_bin': 350, 'model__drop_rate': 0.8}. Best is trial 12 with value: 0.7729736600713923.\n"
     ]
    },
    {
     "name": "stdout",
     "output_type": "stream",
     "text": [
      "Fold: Tuning: n_train=246008, eval_set=61503\n",
      "Fold: Tuning: n_train=246009, eval_set=61502\n",
      "Fold: Tuning: n_train=246009, eval_set=61502\n",
      "Fold: Tuning: n_train=246009, eval_set=61502\n",
      "Fold: Tuning: n_train=246009, eval_set=61502\n",
      "Tune: val_score:0.7710, std_test_score:0.00142 train_set_score:0.7985\n",
      "folds val/train: [0.7735, 0.7698, 0.7705, 0.7697, 0.7717] / [0.7988, 0.7982, 0.7994, 0.7984, 0.7977], mean fold time: 1.99\n"
     ]
    },
    {
     "name": "stderr",
     "output_type": "stream",
     "text": [
      "[I 2024-04-30 14:15:59,500] Trial 15 finished with value: 0.7710315875391158 and parameters: {'model__class_weight': 'balanced', 'model__objective': 'binary', 'model__boosting_type': 'gbdt', 'model__n_estimators': 200, 'model__learning_rate': 0.19, 'model__max_depth': 6, 'model__num_leaves': 120, 'model__min_gain_to_split': 10.0, 'model__min_data_in_leaf': 1900, 'model__lambda_l1': 35, 'model__lambda_l2': 60, 'model__bagging_fraction': 0.6000000000000001, 'model__feature_fraction': 0.2, 'model__max_bin': 325, 'model__drop_rate': 1.0}. Best is trial 12 with value: 0.7729736600713923.\n",
      "C:\\Users\\Paulius\\AppData\\Local\\pypoetry\\Cache\\virtualenvs\\ppuodz-ml-4-1-dqELbViF-py3.12\\Lib\\site-packages\\lightgbm\\callback.py:325: UserWarning: Early stopping is not available in dart mode\n",
      "  _log_warning('Early stopping is not available in dart mode')\n"
     ]
    },
    {
     "name": "stdout",
     "output_type": "stream",
     "text": [
      "Fold: Tuning: n_train=246008, eval_set=61503\n"
     ]
    },
    {
     "name": "stderr",
     "output_type": "stream",
     "text": [
      "C:\\Users\\Paulius\\AppData\\Local\\pypoetry\\Cache\\virtualenvs\\ppuodz-ml-4-1-dqELbViF-py3.12\\Lib\\site-packages\\lightgbm\\callback.py:325: UserWarning: Early stopping is not available in dart mode\n",
      "  _log_warning('Early stopping is not available in dart mode')\n"
     ]
    },
    {
     "name": "stdout",
     "output_type": "stream",
     "text": [
      "Fold: Tuning: n_train=246009, eval_set=61502\n"
     ]
    },
    {
     "name": "stderr",
     "output_type": "stream",
     "text": [
      "C:\\Users\\Paulius\\AppData\\Local\\pypoetry\\Cache\\virtualenvs\\ppuodz-ml-4-1-dqELbViF-py3.12\\Lib\\site-packages\\lightgbm\\callback.py:325: UserWarning: Early stopping is not available in dart mode\n",
      "  _log_warning('Early stopping is not available in dart mode')\n"
     ]
    },
    {
     "name": "stdout",
     "output_type": "stream",
     "text": [
      "Fold: Tuning: n_train=246009, eval_set=61502\n"
     ]
    },
    {
     "name": "stderr",
     "output_type": "stream",
     "text": [
      "C:\\Users\\Paulius\\AppData\\Local\\pypoetry\\Cache\\virtualenvs\\ppuodz-ml-4-1-dqELbViF-py3.12\\Lib\\site-packages\\lightgbm\\callback.py:325: UserWarning: Early stopping is not available in dart mode\n",
      "  _log_warning('Early stopping is not available in dart mode')\n"
     ]
    },
    {
     "name": "stdout",
     "output_type": "stream",
     "text": [
      "Fold: Tuning: n_train=246009, eval_set=61502\n"
     ]
    },
    {
     "name": "stderr",
     "output_type": "stream",
     "text": [
      "C:\\Users\\Paulius\\AppData\\Local\\pypoetry\\Cache\\virtualenvs\\ppuodz-ml-4-1-dqELbViF-py3.12\\Lib\\site-packages\\lightgbm\\callback.py:325: UserWarning: Early stopping is not available in dart mode\n",
      "  _log_warning('Early stopping is not available in dart mode')\n"
     ]
    },
    {
     "name": "stdout",
     "output_type": "stream",
     "text": [
      "Fold: Tuning: n_train=246009, eval_set=61502\n",
      "Tune: val_score:0.7676, std_test_score:0.00100 train_set_score:0.7938\n",
      "folds val/train: [0.7684, 0.7662, 0.7665, 0.7681, 0.7687] / [0.7934, 0.7942, 0.7944, 0.7936, 0.7934], mean fold time: 38.04\n"
     ]
    },
    {
     "name": "stderr",
     "output_type": "stream",
     "text": [
      "[I 2024-04-30 14:19:10,473] Trial 16 finished with value: 0.7675725766548119 and parameters: {'model__class_weight': 'balanced', 'model__objective': 'binary', 'model__boosting_type': 'dart', 'model__n_estimators': 300, 'model__learning_rate': 0.13, 'model__max_depth': 4, 'model__num_leaves': 48, 'model__min_gain_to_split': 2.0, 'model__min_data_in_leaf': 1000, 'model__lambda_l1': 10, 'model__lambda_l2': 100, 'model__bagging_fraction': 0.9000000000000001, 'model__feature_fraction': 0.6000000000000001, 'model__max_bin': 425, 'model__drop_rate': 0.42500000000000004}. Best is trial 12 with value: 0.7729736600713923.\n"
     ]
    },
    {
     "name": "stdout",
     "output_type": "stream",
     "text": [
      "Fold: Tuning: n_train=246008, eval_set=61503\n",
      "Fold: Tuning: n_train=246009, eval_set=61502\n",
      "Fold: Tuning: n_train=246009, eval_set=61502\n",
      "Fold: Tuning: n_train=246009, eval_set=61502\n",
      "Fold: Tuning: n_train=246009, eval_set=61502\n",
      "Tune: val_score:0.7691, std_test_score:0.00187 train_set_score:0.7993\n",
      "folds val/train: [0.7723, 0.7666, 0.7685, 0.7687, 0.7696] / [0.7991, 0.7992, 0.8001, 0.7993, 0.7987], mean fold time: 1.62\n"
     ]
    },
    {
     "name": "stderr",
     "output_type": "stream",
     "text": [
      "[I 2024-04-30 14:19:19,385] Trial 17 finished with value: 0.7691357518070465 and parameters: {'model__class_weight': 'balanced', 'model__objective': 'binary', 'model__boosting_type': 'gbdt', 'model__n_estimators': 750, 'model__learning_rate': 0.25, 'model__max_depth': 6, 'model__num_leaves': 176, 'model__min_gain_to_split': 11.5, 'model__min_data_in_leaf': 2400, 'model__lambda_l1': 40, 'model__lambda_l2': 75, 'model__bagging_fraction': 0.7, 'model__feature_fraction': 0.4, 'model__max_bin': 300, 'model__drop_rate': 0.7000000000000001}. Best is trial 12 with value: 0.7729736600713923.\n"
     ]
    },
    {
     "name": "stdout",
     "output_type": "stream",
     "text": [
      "Fold: Tuning: n_train=246008, eval_set=61503\n",
      "Fold: Tuning: n_train=246009, eval_set=61502\n",
      "Fold: Tuning: n_train=246009, eval_set=61502\n",
      "Fold: Tuning: n_train=246009, eval_set=61502\n",
      "Fold: Tuning: n_train=246009, eval_set=61502\n",
      "Tune: val_score:0.7712, std_test_score:0.00147 train_set_score:0.7943\n",
      "folds val/train: [0.7729, 0.7687, 0.7706, 0.7714, 0.7724] / [0.7932, 0.7941, 0.796, 0.7939, 0.7941], mean fold time: 2.13\n"
     ]
    },
    {
     "name": "stderr",
     "output_type": "stream",
     "text": [
      "[I 2024-04-30 14:19:31,234] Trial 18 finished with value: 0.7712175359581087 and parameters: {'model__class_weight': 'balanced', 'model__objective': 'binary', 'model__boosting_type': 'gbdt', 'model__n_estimators': 200, 'model__learning_rate': 0.19, 'model__max_depth': 4, 'model__num_leaves': 216, 'model__min_gain_to_split': 8.0, 'model__min_data_in_leaf': 1500, 'model__lambda_l1': 75, 'model__lambda_l2': 45, 'model__bagging_fraction': 0.9000000000000001, 'model__feature_fraction': 0.5, 'model__max_bin': 500, 'model__drop_rate': 0.875}. Best is trial 12 with value: 0.7729736600713923.\n",
      "C:\\Users\\Paulius\\AppData\\Local\\pypoetry\\Cache\\virtualenvs\\ppuodz-ml-4-1-dqELbViF-py3.12\\Lib\\site-packages\\lightgbm\\callback.py:325: UserWarning: Early stopping is not available in dart mode\n",
      "  _log_warning('Early stopping is not available in dart mode')\n"
     ]
    },
    {
     "name": "stdout",
     "output_type": "stream",
     "text": [
      "Fold: Tuning: n_train=246008, eval_set=61503\n"
     ]
    },
    {
     "name": "stderr",
     "output_type": "stream",
     "text": [
      "C:\\Users\\Paulius\\AppData\\Local\\pypoetry\\Cache\\virtualenvs\\ppuodz-ml-4-1-dqELbViF-py3.12\\Lib\\site-packages\\lightgbm\\callback.py:325: UserWarning: Early stopping is not available in dart mode\n",
      "  _log_warning('Early stopping is not available in dart mode')\n"
     ]
    },
    {
     "name": "stdout",
     "output_type": "stream",
     "text": [
      "Fold: Tuning: n_train=246009, eval_set=61502\n"
     ]
    },
    {
     "name": "stderr",
     "output_type": "stream",
     "text": [
      "C:\\Users\\Paulius\\AppData\\Local\\pypoetry\\Cache\\virtualenvs\\ppuodz-ml-4-1-dqELbViF-py3.12\\Lib\\site-packages\\lightgbm\\callback.py:325: UserWarning: Early stopping is not available in dart mode\n",
      "  _log_warning('Early stopping is not available in dart mode')\n"
     ]
    },
    {
     "name": "stdout",
     "output_type": "stream",
     "text": [
      "Fold: Tuning: n_train=246009, eval_set=61502\n"
     ]
    },
    {
     "name": "stderr",
     "output_type": "stream",
     "text": [
      "C:\\Users\\Paulius\\AppData\\Local\\pypoetry\\Cache\\virtualenvs\\ppuodz-ml-4-1-dqELbViF-py3.12\\Lib\\site-packages\\lightgbm\\callback.py:325: UserWarning: Early stopping is not available in dart mode\n",
      "  _log_warning('Early stopping is not available in dart mode')\n"
     ]
    },
    {
     "name": "stdout",
     "output_type": "stream",
     "text": [
      "Fold: Tuning: n_train=246009, eval_set=61502\n"
     ]
    },
    {
     "name": "stderr",
     "output_type": "stream",
     "text": [
      "C:\\Users\\Paulius\\AppData\\Local\\pypoetry\\Cache\\virtualenvs\\ppuodz-ml-4-1-dqELbViF-py3.12\\Lib\\site-packages\\lightgbm\\callback.py:325: UserWarning: Early stopping is not available in dart mode\n",
      "  _log_warning('Early stopping is not available in dart mode')\n"
     ]
    },
    {
     "name": "stdout",
     "output_type": "stream",
     "text": [
      "Fold: Tuning: n_train=246009, eval_set=61502\n",
      "Tune: val_score:0.7732, std_test_score:0.00156 train_set_score:0.8209\n",
      "folds val/train: [0.7756, 0.7711, 0.7719, 0.7735, 0.7739] / [0.8221, 0.8203, 0.8207, 0.8213, 0.8203], mean fold time: 25.83\n"
     ]
    },
    {
     "name": "stderr",
     "output_type": "stream",
     "text": [
      "[I 2024-04-30 14:21:41,235] Trial 19 finished with value: 0.7732021037088023 and parameters: {'model__class_weight': 'balanced', 'model__objective': 'binary', 'model__boosting_type': 'dart', 'model__n_estimators': 400, 'model__learning_rate': 0.14, 'model__max_depth': 7, 'model__num_leaves': 88, 'model__min_gain_to_split': 13.5, 'model__min_data_in_leaf': 0, 'model__lambda_l1': 10, 'model__lambda_l2': 90, 'model__bagging_fraction': 0.7, 'model__feature_fraction': 0.30000000000000004, 'model__max_bin': 425, 'model__drop_rate': 0.45}. Best is trial 19 with value: 0.7732021037088023.\n",
      "C:\\Users\\Paulius\\AppData\\Local\\pypoetry\\Cache\\virtualenvs\\ppuodz-ml-4-1-dqELbViF-py3.12\\Lib\\site-packages\\lightgbm\\callback.py:325: UserWarning: Early stopping is not available in dart mode\n",
      "  _log_warning('Early stopping is not available in dart mode')\n"
     ]
    },
    {
     "name": "stdout",
     "output_type": "stream",
     "text": [
      "Fold: Tuning: n_train=246008, eval_set=61503\n"
     ]
    },
    {
     "name": "stderr",
     "output_type": "stream",
     "text": [
      "C:\\Users\\Paulius\\AppData\\Local\\pypoetry\\Cache\\virtualenvs\\ppuodz-ml-4-1-dqELbViF-py3.12\\Lib\\site-packages\\lightgbm\\callback.py:325: UserWarning: Early stopping is not available in dart mode\n",
      "  _log_warning('Early stopping is not available in dart mode')\n"
     ]
    },
    {
     "name": "stdout",
     "output_type": "stream",
     "text": [
      "Fold: Tuning: n_train=246009, eval_set=61502\n"
     ]
    },
    {
     "name": "stderr",
     "output_type": "stream",
     "text": [
      "C:\\Users\\Paulius\\AppData\\Local\\pypoetry\\Cache\\virtualenvs\\ppuodz-ml-4-1-dqELbViF-py3.12\\Lib\\site-packages\\lightgbm\\callback.py:325: UserWarning: Early stopping is not available in dart mode\n",
      "  _log_warning('Early stopping is not available in dart mode')\n"
     ]
    },
    {
     "name": "stdout",
     "output_type": "stream",
     "text": [
      "Fold: Tuning: n_train=246009, eval_set=61502\n"
     ]
    },
    {
     "name": "stderr",
     "output_type": "stream",
     "text": [
      "C:\\Users\\Paulius\\AppData\\Local\\pypoetry\\Cache\\virtualenvs\\ppuodz-ml-4-1-dqELbViF-py3.12\\Lib\\site-packages\\lightgbm\\callback.py:325: UserWarning: Early stopping is not available in dart mode\n",
      "  _log_warning('Early stopping is not available in dart mode')\n"
     ]
    },
    {
     "name": "stdout",
     "output_type": "stream",
     "text": [
      "Fold: Tuning: n_train=246009, eval_set=61502\n"
     ]
    },
    {
     "name": "stderr",
     "output_type": "stream",
     "text": [
      "C:\\Users\\Paulius\\AppData\\Local\\pypoetry\\Cache\\virtualenvs\\ppuodz-ml-4-1-dqELbViF-py3.12\\Lib\\site-packages\\lightgbm\\callback.py:325: UserWarning: Early stopping is not available in dart mode\n",
      "  _log_warning('Early stopping is not available in dart mode')\n"
     ]
    },
    {
     "name": "stdout",
     "output_type": "stream",
     "text": [
      "Fold: Tuning: n_train=246009, eval_set=61502\n",
      "Tune: val_score:0.7737, std_test_score:0.00150 train_set_score:0.8402\n",
      "folds val/train: [0.7753, 0.7722, 0.7717, 0.7744, 0.7751] / [0.8404, 0.8396, 0.8411, 0.8404, 0.8397], mean fold time: 19.83\n"
     ]
    },
    {
     "name": "stderr",
     "output_type": "stream",
     "text": [
      "[I 2024-04-30 14:23:21,211] Trial 20 finished with value: 0.773736619748256 and parameters: {'model__class_weight': 'balanced', 'model__objective': 'binary', 'model__boosting_type': 'dart', 'model__n_estimators': 400, 'model__learning_rate': 0.22, 'model__max_depth': 8, 'model__num_leaves': 40, 'model__min_gain_to_split': 5.0, 'model__min_data_in_leaf': 3000, 'model__lambda_l1': 10, 'model__lambda_l2': 110, 'model__bagging_fraction': 0.5, 'model__feature_fraction': 0.30000000000000004, 'model__max_bin': 425, 'model__drop_rate': 0.45}. Best is trial 20 with value: 0.773736619748256.\n",
      "C:\\Users\\Paulius\\AppData\\Local\\pypoetry\\Cache\\virtualenvs\\ppuodz-ml-4-1-dqELbViF-py3.12\\Lib\\site-packages\\lightgbm\\callback.py:325: UserWarning: Early stopping is not available in dart mode\n",
      "  _log_warning('Early stopping is not available in dart mode')\n"
     ]
    },
    {
     "name": "stdout",
     "output_type": "stream",
     "text": [
      "Fold: Tuning: n_train=246008, eval_set=61503\n"
     ]
    },
    {
     "name": "stderr",
     "output_type": "stream",
     "text": [
      "C:\\Users\\Paulius\\AppData\\Local\\pypoetry\\Cache\\virtualenvs\\ppuodz-ml-4-1-dqELbViF-py3.12\\Lib\\site-packages\\lightgbm\\callback.py:325: UserWarning: Early stopping is not available in dart mode\n",
      "  _log_warning('Early stopping is not available in dart mode')\n"
     ]
    },
    {
     "name": "stdout",
     "output_type": "stream",
     "text": [
      "Fold: Tuning: n_train=246009, eval_set=61502\n"
     ]
    },
    {
     "name": "stderr",
     "output_type": "stream",
     "text": [
      "C:\\Users\\Paulius\\AppData\\Local\\pypoetry\\Cache\\virtualenvs\\ppuodz-ml-4-1-dqELbViF-py3.12\\Lib\\site-packages\\lightgbm\\callback.py:325: UserWarning: Early stopping is not available in dart mode\n",
      "  _log_warning('Early stopping is not available in dart mode')\n"
     ]
    },
    {
     "name": "stdout",
     "output_type": "stream",
     "text": [
      "Fold: Tuning: n_train=246009, eval_set=61502\n"
     ]
    },
    {
     "name": "stderr",
     "output_type": "stream",
     "text": [
      "C:\\Users\\Paulius\\AppData\\Local\\pypoetry\\Cache\\virtualenvs\\ppuodz-ml-4-1-dqELbViF-py3.12\\Lib\\site-packages\\lightgbm\\callback.py:325: UserWarning: Early stopping is not available in dart mode\n",
      "  _log_warning('Early stopping is not available in dart mode')\n"
     ]
    },
    {
     "name": "stdout",
     "output_type": "stream",
     "text": [
      "Fold: Tuning: n_train=246009, eval_set=61502\n"
     ]
    },
    {
     "name": "stderr",
     "output_type": "stream",
     "text": [
      "C:\\Users\\Paulius\\AppData\\Local\\pypoetry\\Cache\\virtualenvs\\ppuodz-ml-4-1-dqELbViF-py3.12\\Lib\\site-packages\\lightgbm\\callback.py:325: UserWarning: Early stopping is not available in dart mode\n",
      "  _log_warning('Early stopping is not available in dart mode')\n"
     ]
    },
    {
     "name": "stdout",
     "output_type": "stream",
     "text": [
      "Fold: Tuning: n_train=246009, eval_set=61502\n",
      "Tune: val_score:0.7745, std_test_score:0.00123 train_set_score:0.8443\n",
      "folds val/train: [0.776, 0.7732, 0.7729, 0.7746, 0.7756] / [0.8443, 0.843, 0.844, 0.8456, 0.8444], mean fold time: 19.61\n"
     ]
    },
    {
     "name": "stderr",
     "output_type": "stream",
     "text": [
      "[I 2024-04-30 14:25:00,094] Trial 21 finished with value: 0.7744710826089047 and parameters: {'model__class_weight': 'balanced', 'model__objective': 'binary', 'model__boosting_type': 'dart', 'model__n_estimators': 450, 'model__learning_rate': 0.23, 'model__max_depth': 8, 'model__num_leaves': 48, 'model__min_gain_to_split': 5.5, 'model__min_data_in_leaf': 2900, 'model__lambda_l1': 10, 'model__lambda_l2': 110, 'model__bagging_fraction': 0.5, 'model__feature_fraction': 0.30000000000000004, 'model__max_bin': 400, 'model__drop_rate': 0.42500000000000004}. Best is trial 21 with value: 0.7744710826089047.\n",
      "C:\\Users\\Paulius\\AppData\\Local\\pypoetry\\Cache\\virtualenvs\\ppuodz-ml-4-1-dqELbViF-py3.12\\Lib\\site-packages\\lightgbm\\callback.py:325: UserWarning: Early stopping is not available in dart mode\n",
      "  _log_warning('Early stopping is not available in dart mode')\n"
     ]
    },
    {
     "name": "stdout",
     "output_type": "stream",
     "text": [
      "Fold: Tuning: n_train=246008, eval_set=61503\n"
     ]
    },
    {
     "name": "stderr",
     "output_type": "stream",
     "text": [
      "C:\\Users\\Paulius\\AppData\\Local\\pypoetry\\Cache\\virtualenvs\\ppuodz-ml-4-1-dqELbViF-py3.12\\Lib\\site-packages\\lightgbm\\callback.py:325: UserWarning: Early stopping is not available in dart mode\n",
      "  _log_warning('Early stopping is not available in dart mode')\n"
     ]
    },
    {
     "name": "stdout",
     "output_type": "stream",
     "text": [
      "Fold: Tuning: n_train=246009, eval_set=61502\n"
     ]
    },
    {
     "name": "stderr",
     "output_type": "stream",
     "text": [
      "C:\\Users\\Paulius\\AppData\\Local\\pypoetry\\Cache\\virtualenvs\\ppuodz-ml-4-1-dqELbViF-py3.12\\Lib\\site-packages\\lightgbm\\callback.py:325: UserWarning: Early stopping is not available in dart mode\n",
      "  _log_warning('Early stopping is not available in dart mode')\n"
     ]
    },
    {
     "name": "stdout",
     "output_type": "stream",
     "text": [
      "Fold: Tuning: n_train=246009, eval_set=61502\n"
     ]
    },
    {
     "name": "stderr",
     "output_type": "stream",
     "text": [
      "C:\\Users\\Paulius\\AppData\\Local\\pypoetry\\Cache\\virtualenvs\\ppuodz-ml-4-1-dqELbViF-py3.12\\Lib\\site-packages\\lightgbm\\callback.py:325: UserWarning: Early stopping is not available in dart mode\n",
      "  _log_warning('Early stopping is not available in dart mode')\n"
     ]
    },
    {
     "name": "stdout",
     "output_type": "stream",
     "text": [
      "Fold: Tuning: n_train=246009, eval_set=61502\n"
     ]
    },
    {
     "name": "stderr",
     "output_type": "stream",
     "text": [
      "C:\\Users\\Paulius\\AppData\\Local\\pypoetry\\Cache\\virtualenvs\\ppuodz-ml-4-1-dqELbViF-py3.12\\Lib\\site-packages\\lightgbm\\callback.py:325: UserWarning: Early stopping is not available in dart mode\n",
      "  _log_warning('Early stopping is not available in dart mode')\n"
     ]
    },
    {
     "name": "stdout",
     "output_type": "stream",
     "text": [
      "Fold: Tuning: n_train=246009, eval_set=61502\n",
      "Tune: val_score:0.7732, std_test_score:0.00163 train_set_score:0.8425\n",
      "folds val/train: [0.7754, 0.7708, 0.7719, 0.7734, 0.7744] / [0.8433, 0.8433, 0.8425, 0.8428, 0.8406], mean fold time: 18.03\n"
     ]
    },
    {
     "name": "stderr",
     "output_type": "stream",
     "text": [
      "[I 2024-04-30 14:26:31,031] Trial 22 finished with value: 0.7731975885382104 and parameters: {'model__class_weight': 'balanced', 'model__objective': 'binary', 'model__boosting_type': 'dart', 'model__n_estimators': 400, 'model__learning_rate': 0.25, 'model__max_depth': 8, 'model__num_leaves': 56, 'model__min_gain_to_split': 5.5, 'model__min_data_in_leaf': 2900, 'model__lambda_l1': 10, 'model__lambda_l2': 110, 'model__bagging_fraction': 0.5, 'model__feature_fraction': 0.30000000000000004, 'model__max_bin': 450, 'model__drop_rate': 0.42500000000000004}. Best is trial 21 with value: 0.7744710826089047.\n",
      "C:\\Users\\Paulius\\AppData\\Local\\pypoetry\\Cache\\virtualenvs\\ppuodz-ml-4-1-dqELbViF-py3.12\\Lib\\site-packages\\lightgbm\\callback.py:325: UserWarning: Early stopping is not available in dart mode\n",
      "  _log_warning('Early stopping is not available in dart mode')\n"
     ]
    },
    {
     "name": "stdout",
     "output_type": "stream",
     "text": [
      "Fold: Tuning: n_train=246008, eval_set=61503\n"
     ]
    },
    {
     "name": "stderr",
     "output_type": "stream",
     "text": [
      "C:\\Users\\Paulius\\AppData\\Local\\pypoetry\\Cache\\virtualenvs\\ppuodz-ml-4-1-dqELbViF-py3.12\\Lib\\site-packages\\lightgbm\\callback.py:325: UserWarning: Early stopping is not available in dart mode\n",
      "  _log_warning('Early stopping is not available in dart mode')\n"
     ]
    },
    {
     "name": "stdout",
     "output_type": "stream",
     "text": [
      "Fold: Tuning: n_train=246009, eval_set=61502\n"
     ]
    },
    {
     "name": "stderr",
     "output_type": "stream",
     "text": [
      "C:\\Users\\Paulius\\AppData\\Local\\pypoetry\\Cache\\virtualenvs\\ppuodz-ml-4-1-dqELbViF-py3.12\\Lib\\site-packages\\lightgbm\\callback.py:325: UserWarning: Early stopping is not available in dart mode\n",
      "  _log_warning('Early stopping is not available in dart mode')\n"
     ]
    },
    {
     "name": "stdout",
     "output_type": "stream",
     "text": [
      "Fold: Tuning: n_train=246009, eval_set=61502\n"
     ]
    },
    {
     "name": "stderr",
     "output_type": "stream",
     "text": [
      "C:\\Users\\Paulius\\AppData\\Local\\pypoetry\\Cache\\virtualenvs\\ppuodz-ml-4-1-dqELbViF-py3.12\\Lib\\site-packages\\lightgbm\\callback.py:325: UserWarning: Early stopping is not available in dart mode\n",
      "  _log_warning('Early stopping is not available in dart mode')\n"
     ]
    },
    {
     "name": "stdout",
     "output_type": "stream",
     "text": [
      "Fold: Tuning: n_train=246009, eval_set=61502\n"
     ]
    },
    {
     "name": "stderr",
     "output_type": "stream",
     "text": [
      "C:\\Users\\Paulius\\AppData\\Local\\pypoetry\\Cache\\virtualenvs\\ppuodz-ml-4-1-dqELbViF-py3.12\\Lib\\site-packages\\lightgbm\\callback.py:325: UserWarning: Early stopping is not available in dart mode\n",
      "  _log_warning('Early stopping is not available in dart mode')\n"
     ]
    },
    {
     "name": "stdout",
     "output_type": "stream",
     "text": [
      "Fold: Tuning: n_train=246009, eval_set=61502\n",
      "Tune: val_score:0.7736, std_test_score:0.00140 train_set_score:0.8264\n",
      "folds val/train: [0.7753, 0.7721, 0.7719, 0.7739, 0.7748] / [0.8266, 0.8246, 0.8273, 0.8272, 0.8262], mean fold time: 20.32\n"
     ]
    },
    {
     "name": "stderr",
     "output_type": "stream",
     "text": [
      "[I 2024-04-30 14:28:13,425] Trial 23 finished with value: 0.7736188555317012 and parameters: {'model__class_weight': 'balanced', 'model__objective': 'binary', 'model__boosting_type': 'dart', 'model__n_estimators': 400, 'model__learning_rate': 0.27, 'model__max_depth': 9, 'model__num_leaves': 80, 'model__min_gain_to_split': 5.5, 'model__min_data_in_leaf': 2400, 'model__lambda_l1': 40, 'model__lambda_l2': 95, 'model__bagging_fraction': 0.5, 'model__feature_fraction': 0.30000000000000004, 'model__max_bin': 425, 'model__drop_rate': 0.45}. Best is trial 21 with value: 0.7744710826089047.\n",
      "C:\\Users\\Paulius\\AppData\\Local\\pypoetry\\Cache\\virtualenvs\\ppuodz-ml-4-1-dqELbViF-py3.12\\Lib\\site-packages\\lightgbm\\callback.py:325: UserWarning: Early stopping is not available in dart mode\n",
      "  _log_warning('Early stopping is not available in dart mode')\n"
     ]
    },
    {
     "name": "stdout",
     "output_type": "stream",
     "text": [
      "Fold: Tuning: n_train=246008, eval_set=61503\n"
     ]
    },
    {
     "name": "stderr",
     "output_type": "stream",
     "text": [
      "C:\\Users\\Paulius\\AppData\\Local\\pypoetry\\Cache\\virtualenvs\\ppuodz-ml-4-1-dqELbViF-py3.12\\Lib\\site-packages\\lightgbm\\callback.py:325: UserWarning: Early stopping is not available in dart mode\n",
      "  _log_warning('Early stopping is not available in dart mode')\n"
     ]
    },
    {
     "name": "stdout",
     "output_type": "stream",
     "text": [
      "Fold: Tuning: n_train=246009, eval_set=61502\n"
     ]
    },
    {
     "name": "stderr",
     "output_type": "stream",
     "text": [
      "C:\\Users\\Paulius\\AppData\\Local\\pypoetry\\Cache\\virtualenvs\\ppuodz-ml-4-1-dqELbViF-py3.12\\Lib\\site-packages\\lightgbm\\callback.py:325: UserWarning: Early stopping is not available in dart mode\n",
      "  _log_warning('Early stopping is not available in dart mode')\n"
     ]
    },
    {
     "name": "stdout",
     "output_type": "stream",
     "text": [
      "Fold: Tuning: n_train=246009, eval_set=61502\n"
     ]
    },
    {
     "name": "stderr",
     "output_type": "stream",
     "text": [
      "C:\\Users\\Paulius\\AppData\\Local\\pypoetry\\Cache\\virtualenvs\\ppuodz-ml-4-1-dqELbViF-py3.12\\Lib\\site-packages\\lightgbm\\callback.py:325: UserWarning: Early stopping is not available in dart mode\n",
      "  _log_warning('Early stopping is not available in dart mode')\n"
     ]
    },
    {
     "name": "stdout",
     "output_type": "stream",
     "text": [
      "Fold: Tuning: n_train=246009, eval_set=61502\n"
     ]
    },
    {
     "name": "stderr",
     "output_type": "stream",
     "text": [
      "C:\\Users\\Paulius\\AppData\\Local\\pypoetry\\Cache\\virtualenvs\\ppuodz-ml-4-1-dqELbViF-py3.12\\Lib\\site-packages\\lightgbm\\callback.py:325: UserWarning: Early stopping is not available in dart mode\n",
      "  _log_warning('Early stopping is not available in dart mode')\n"
     ]
    },
    {
     "name": "stdout",
     "output_type": "stream",
     "text": [
      "Fold: Tuning: n_train=246009, eval_set=61502\n",
      "Tune: val_score:0.7743, std_test_score:0.00114 train_set_score:0.8227\n",
      "folds val/train: [0.7754, 0.7741, 0.7725, 0.7737, 0.7756] / [0.8235, 0.8217, 0.8219, 0.8236, 0.8225], mean fold time: 24.82\n"
     ]
    },
    {
     "name": "stderr",
     "output_type": "stream",
     "text": [
      "[I 2024-04-30 14:30:18,349] Trial 24 finished with value: 0.7742569892640564 and parameters: {'model__class_weight': 'balanced', 'model__objective': 'binary', 'model__boosting_type': 'dart', 'model__n_estimators': 500, 'model__learning_rate': 0.28, 'model__max_depth': 9, 'model__num_leaves': 40, 'model__min_gain_to_split': 5.5, 'model__min_data_in_leaf': 3000, 'model__lambda_l1': 40, 'model__lambda_l2': 100, 'model__bagging_fraction': 0.5, 'model__feature_fraction': 0.30000000000000004, 'model__max_bin': 350, 'model__drop_rate': 0.35000000000000003}. Best is trial 21 with value: 0.7744710826089047.\n",
      "C:\\Users\\Paulius\\AppData\\Local\\pypoetry\\Cache\\virtualenvs\\ppuodz-ml-4-1-dqELbViF-py3.12\\Lib\\site-packages\\lightgbm\\callback.py:325: UserWarning: Early stopping is not available in dart mode\n",
      "  _log_warning('Early stopping is not available in dart mode')\n"
     ]
    },
    {
     "name": "stdout",
     "output_type": "stream",
     "text": [
      "Fold: Tuning: n_train=246008, eval_set=61503\n"
     ]
    },
    {
     "name": "stderr",
     "output_type": "stream",
     "text": [
      "C:\\Users\\Paulius\\AppData\\Local\\pypoetry\\Cache\\virtualenvs\\ppuodz-ml-4-1-dqELbViF-py3.12\\Lib\\site-packages\\lightgbm\\callback.py:325: UserWarning: Early stopping is not available in dart mode\n",
      "  _log_warning('Early stopping is not available in dart mode')\n"
     ]
    },
    {
     "name": "stdout",
     "output_type": "stream",
     "text": [
      "Fold: Tuning: n_train=246009, eval_set=61502\n"
     ]
    },
    {
     "name": "stderr",
     "output_type": "stream",
     "text": [
      "C:\\Users\\Paulius\\AppData\\Local\\pypoetry\\Cache\\virtualenvs\\ppuodz-ml-4-1-dqELbViF-py3.12\\Lib\\site-packages\\lightgbm\\callback.py:325: UserWarning: Early stopping is not available in dart mode\n",
      "  _log_warning('Early stopping is not available in dart mode')\n"
     ]
    },
    {
     "name": "stdout",
     "output_type": "stream",
     "text": [
      "Fold: Tuning: n_train=246009, eval_set=61502\n"
     ]
    },
    {
     "name": "stderr",
     "output_type": "stream",
     "text": [
      "C:\\Users\\Paulius\\AppData\\Local\\pypoetry\\Cache\\virtualenvs\\ppuodz-ml-4-1-dqELbViF-py3.12\\Lib\\site-packages\\lightgbm\\callback.py:325: UserWarning: Early stopping is not available in dart mode\n",
      "  _log_warning('Early stopping is not available in dart mode')\n"
     ]
    },
    {
     "name": "stdout",
     "output_type": "stream",
     "text": [
      "Fold: Tuning: n_train=246009, eval_set=61502\n"
     ]
    },
    {
     "name": "stderr",
     "output_type": "stream",
     "text": [
      "C:\\Users\\Paulius\\AppData\\Local\\pypoetry\\Cache\\virtualenvs\\ppuodz-ml-4-1-dqELbViF-py3.12\\Lib\\site-packages\\lightgbm\\callback.py:325: UserWarning: Early stopping is not available in dart mode\n",
      "  _log_warning('Early stopping is not available in dart mode')\n"
     ]
    },
    {
     "name": "stdout",
     "output_type": "stream",
     "text": [
      "Fold: Tuning: n_train=246009, eval_set=61502\n",
      "Tune: val_score:0.7730, std_test_score:0.00176 train_set_score:0.8582\n",
      "folds val/train: [0.776, 0.7708, 0.772, 0.7735, 0.7727] / [0.8573, 0.8581, 0.859, 0.8597, 0.8572], mean fold time: 35.85\n"
     ]
    },
    {
     "name": "stderr",
     "output_type": "stream",
     "text": [
      "[I 2024-04-30 14:33:18,399] Trial 25 finished with value: 0.772998044701975 and parameters: {'model__class_weight': 'balanced', 'model__objective': 'binary', 'model__boosting_type': 'dart', 'model__n_estimators': 700, 'model__learning_rate': 0.3, 'model__max_depth': 9, 'model__num_leaves': 40, 'model__min_gain_to_split': 2.5, 'model__min_data_in_leaf': 3000, 'model__lambda_l1': 25, 'model__lambda_l2': 110, 'model__bagging_fraction': 0.4, 'model__feature_fraction': 0.2, 'model__max_bin': 375, 'model__drop_rate': 0.325}. Best is trial 21 with value: 0.7744710826089047.\n",
      "C:\\Users\\Paulius\\AppData\\Local\\pypoetry\\Cache\\virtualenvs\\ppuodz-ml-4-1-dqELbViF-py3.12\\Lib\\site-packages\\lightgbm\\callback.py:325: UserWarning: Early stopping is not available in dart mode\n",
      "  _log_warning('Early stopping is not available in dart mode')\n"
     ]
    },
    {
     "name": "stdout",
     "output_type": "stream",
     "text": [
      "Fold: Tuning: n_train=246008, eval_set=61503\n"
     ]
    },
    {
     "name": "stderr",
     "output_type": "stream",
     "text": [
      "C:\\Users\\Paulius\\AppData\\Local\\pypoetry\\Cache\\virtualenvs\\ppuodz-ml-4-1-dqELbViF-py3.12\\Lib\\site-packages\\lightgbm\\callback.py:325: UserWarning: Early stopping is not available in dart mode\n",
      "  _log_warning('Early stopping is not available in dart mode')\n"
     ]
    },
    {
     "name": "stdout",
     "output_type": "stream",
     "text": [
      "Fold: Tuning: n_train=246009, eval_set=61502\n"
     ]
    },
    {
     "name": "stderr",
     "output_type": "stream",
     "text": [
      "C:\\Users\\Paulius\\AppData\\Local\\pypoetry\\Cache\\virtualenvs\\ppuodz-ml-4-1-dqELbViF-py3.12\\Lib\\site-packages\\lightgbm\\callback.py:325: UserWarning: Early stopping is not available in dart mode\n",
      "  _log_warning('Early stopping is not available in dart mode')\n"
     ]
    },
    {
     "name": "stdout",
     "output_type": "stream",
     "text": [
      "Fold: Tuning: n_train=246009, eval_set=61502\n"
     ]
    },
    {
     "name": "stderr",
     "output_type": "stream",
     "text": [
      "C:\\Users\\Paulius\\AppData\\Local\\pypoetry\\Cache\\virtualenvs\\ppuodz-ml-4-1-dqELbViF-py3.12\\Lib\\site-packages\\lightgbm\\callback.py:325: UserWarning: Early stopping is not available in dart mode\n",
      "  _log_warning('Early stopping is not available in dart mode')\n"
     ]
    },
    {
     "name": "stdout",
     "output_type": "stream",
     "text": [
      "Fold: Tuning: n_train=246009, eval_set=61502\n"
     ]
    },
    {
     "name": "stderr",
     "output_type": "stream",
     "text": [
      "C:\\Users\\Paulius\\AppData\\Local\\pypoetry\\Cache\\virtualenvs\\ppuodz-ml-4-1-dqELbViF-py3.12\\Lib\\site-packages\\lightgbm\\callback.py:325: UserWarning: Early stopping is not available in dart mode\n",
      "  _log_warning('Early stopping is not available in dart mode')\n"
     ]
    },
    {
     "name": "stdout",
     "output_type": "stream",
     "text": [
      "Fold: Tuning: n_train=246009, eval_set=61502\n",
      "Tune: val_score:0.7740, std_test_score:0.00162 train_set_score:0.8036\n",
      "folds val/train: [0.7761, 0.7716, 0.7726, 0.7746, 0.7748] / [0.8038, 0.8028, 0.804, 0.8039, 0.8036], mean fold time: 19.51\n"
     ]
    },
    {
     "name": "stderr",
     "output_type": "stream",
     "text": [
      "[I 2024-04-30 14:34:56,749] Trial 26 finished with value: 0.7739512652732408 and parameters: {'model__class_weight': 'balanced', 'model__objective': 'binary', 'model__boosting_type': 'dart', 'model__n_estimators': 500, 'model__learning_rate': 0.22, 'model__max_depth': 10, 'model__num_leaves': 32, 'model__min_gain_to_split': 8.5, 'model__min_data_in_leaf': 2500, 'model__lambda_l1': 45, 'model__lambda_l2': 100, 'model__bagging_fraction': 0.4, 'model__feature_fraction': 0.2, 'model__max_bin': 325, 'model__drop_rate': 0.15000000000000002}. Best is trial 21 with value: 0.7744710826089047.\n",
      "C:\\Users\\Paulius\\AppData\\Local\\pypoetry\\Cache\\virtualenvs\\ppuodz-ml-4-1-dqELbViF-py3.12\\Lib\\site-packages\\lightgbm\\callback.py:325: UserWarning: Early stopping is not available in dart mode\n",
      "  _log_warning('Early stopping is not available in dart mode')\n"
     ]
    },
    {
     "name": "stdout",
     "output_type": "stream",
     "text": [
      "Fold: Tuning: n_train=246008, eval_set=61503\n"
     ]
    },
    {
     "name": "stderr",
     "output_type": "stream",
     "text": [
      "C:\\Users\\Paulius\\AppData\\Local\\pypoetry\\Cache\\virtualenvs\\ppuodz-ml-4-1-dqELbViF-py3.12\\Lib\\site-packages\\lightgbm\\callback.py:325: UserWarning: Early stopping is not available in dart mode\n",
      "  _log_warning('Early stopping is not available in dart mode')\n"
     ]
    },
    {
     "name": "stdout",
     "output_type": "stream",
     "text": [
      "Fold: Tuning: n_train=246009, eval_set=61502\n"
     ]
    },
    {
     "name": "stderr",
     "output_type": "stream",
     "text": [
      "C:\\Users\\Paulius\\AppData\\Local\\pypoetry\\Cache\\virtualenvs\\ppuodz-ml-4-1-dqELbViF-py3.12\\Lib\\site-packages\\lightgbm\\callback.py:325: UserWarning: Early stopping is not available in dart mode\n",
      "  _log_warning('Early stopping is not available in dart mode')\n"
     ]
    },
    {
     "name": "stdout",
     "output_type": "stream",
     "text": [
      "Fold: Tuning: n_train=246009, eval_set=61502\n"
     ]
    },
    {
     "name": "stderr",
     "output_type": "stream",
     "text": [
      "C:\\Users\\Paulius\\AppData\\Local\\pypoetry\\Cache\\virtualenvs\\ppuodz-ml-4-1-dqELbViF-py3.12\\Lib\\site-packages\\lightgbm\\callback.py:325: UserWarning: Early stopping is not available in dart mode\n",
      "  _log_warning('Early stopping is not available in dart mode')\n"
     ]
    },
    {
     "name": "stdout",
     "output_type": "stream",
     "text": [
      "Fold: Tuning: n_train=246009, eval_set=61502\n"
     ]
    },
    {
     "name": "stderr",
     "output_type": "stream",
     "text": [
      "C:\\Users\\Paulius\\AppData\\Local\\pypoetry\\Cache\\virtualenvs\\ppuodz-ml-4-1-dqELbViF-py3.12\\Lib\\site-packages\\lightgbm\\callback.py:325: UserWarning: Early stopping is not available in dart mode\n",
      "  _log_warning('Early stopping is not available in dart mode')\n"
     ]
    },
    {
     "name": "stdout",
     "output_type": "stream",
     "text": [
      "Fold: Tuning: n_train=246009, eval_set=61502\n",
      "Tune: val_score:0.7738, std_test_score:0.00148 train_set_score:0.7986\n",
      "folds val/train: [0.7757, 0.772, 0.7726, 0.7734, 0.7754] / [0.7985, 0.7979, 0.7994, 0.7984, 0.7986], mean fold time: 5.78\n"
     ]
    },
    {
     "name": "stderr",
     "output_type": "stream",
     "text": [
      "[I 2024-04-30 14:35:26,433] Trial 27 finished with value: 0.7738168190120491 and parameters: {'model__class_weight': 'balanced', 'model__objective': 'binary', 'model__boosting_type': 'dart', 'model__n_estimators': 550, 'model__learning_rate': 0.27, 'model__max_depth': 10, 'model__num_leaves': 64, 'model__min_gain_to_split': 8.0, 'model__min_data_in_leaf': 2500, 'model__lambda_l1': 75, 'model__lambda_l2': 100, 'model__bagging_fraction': 0.4, 'model__feature_fraction': 0.2, 'model__max_bin': 300, 'model__drop_rate': 0.025}. Best is trial 21 with value: 0.7744710826089047.\n",
      "C:\\Users\\Paulius\\AppData\\Local\\pypoetry\\Cache\\virtualenvs\\ppuodz-ml-4-1-dqELbViF-py3.12\\Lib\\site-packages\\lightgbm\\callback.py:325: UserWarning: Early stopping is not available in dart mode\n",
      "  _log_warning('Early stopping is not available in dart mode')\n"
     ]
    },
    {
     "name": "stdout",
     "output_type": "stream",
     "text": [
      "Fold: Tuning: n_train=246008, eval_set=61503\n"
     ]
    },
    {
     "name": "stderr",
     "output_type": "stream",
     "text": [
      "C:\\Users\\Paulius\\AppData\\Local\\pypoetry\\Cache\\virtualenvs\\ppuodz-ml-4-1-dqELbViF-py3.12\\Lib\\site-packages\\lightgbm\\callback.py:325: UserWarning: Early stopping is not available in dart mode\n",
      "  _log_warning('Early stopping is not available in dart mode')\n"
     ]
    },
    {
     "name": "stdout",
     "output_type": "stream",
     "text": [
      "Fold: Tuning: n_train=246009, eval_set=61502\n"
     ]
    },
    {
     "name": "stderr",
     "output_type": "stream",
     "text": [
      "C:\\Users\\Paulius\\AppData\\Local\\pypoetry\\Cache\\virtualenvs\\ppuodz-ml-4-1-dqELbViF-py3.12\\Lib\\site-packages\\lightgbm\\callback.py:325: UserWarning: Early stopping is not available in dart mode\n",
      "  _log_warning('Early stopping is not available in dart mode')\n"
     ]
    },
    {
     "name": "stdout",
     "output_type": "stream",
     "text": [
      "Fold: Tuning: n_train=246009, eval_set=61502\n"
     ]
    },
    {
     "name": "stderr",
     "output_type": "stream",
     "text": [
      "C:\\Users\\Paulius\\AppData\\Local\\pypoetry\\Cache\\virtualenvs\\ppuodz-ml-4-1-dqELbViF-py3.12\\Lib\\site-packages\\lightgbm\\callback.py:325: UserWarning: Early stopping is not available in dart mode\n",
      "  _log_warning('Early stopping is not available in dart mode')\n"
     ]
    },
    {
     "name": "stdout",
     "output_type": "stream",
     "text": [
      "Fold: Tuning: n_train=246009, eval_set=61502\n"
     ]
    },
    {
     "name": "stderr",
     "output_type": "stream",
     "text": [
      "C:\\Users\\Paulius\\AppData\\Local\\pypoetry\\Cache\\virtualenvs\\ppuodz-ml-4-1-dqELbViF-py3.12\\Lib\\site-packages\\lightgbm\\callback.py:325: UserWarning: Early stopping is not available in dart mode\n",
      "  _log_warning('Early stopping is not available in dart mode')\n"
     ]
    },
    {
     "name": "stdout",
     "output_type": "stream",
     "text": [
      "Fold: Tuning: n_train=246009, eval_set=61502\n",
      "Tune: val_score:0.7751, std_test_score:0.00160 train_set_score:0.8100\n",
      "folds val/train: [0.7774, 0.7736, 0.7732, 0.7748, 0.7763] / [0.8103, 0.8095, 0.81, 0.81, 0.8101], mean fold time: 21.19\n"
     ]
    },
    {
     "name": "stderr",
     "output_type": "stream",
     "text": [
      "[I 2024-04-30 14:37:13,206] Trial 28 finished with value: 0.77509084497967 and parameters: {'model__class_weight': 'balanced', 'model__objective': 'binary', 'model__boosting_type': 'dart', 'model__n_estimators': 600, 'model__learning_rate': 0.26, 'model__max_depth': 10, 'model__num_leaves': 24, 'model__min_gain_to_split': 6.0, 'model__min_data_in_leaf': 2300, 'model__lambda_l1': 45, 'model__lambda_l2': 95, 'model__bagging_fraction': 0.30000000000000004, 'model__feature_fraction': 0.2, 'model__max_bin': 325, 'model__drop_rate': 0.125}. Best is trial 28 with value: 0.77509084497967.\n",
      "C:\\Users\\Paulius\\AppData\\Local\\pypoetry\\Cache\\virtualenvs\\ppuodz-ml-4-1-dqELbViF-py3.12\\Lib\\site-packages\\lightgbm\\callback.py:325: UserWarning: Early stopping is not available in dart mode\n",
      "  _log_warning('Early stopping is not available in dart mode')\n"
     ]
    },
    {
     "name": "stdout",
     "output_type": "stream",
     "text": [
      "Fold: Tuning: n_train=246008, eval_set=61503\n"
     ]
    },
    {
     "name": "stderr",
     "output_type": "stream",
     "text": [
      "C:\\Users\\Paulius\\AppData\\Local\\pypoetry\\Cache\\virtualenvs\\ppuodz-ml-4-1-dqELbViF-py3.12\\Lib\\site-packages\\lightgbm\\callback.py:325: UserWarning: Early stopping is not available in dart mode\n",
      "  _log_warning('Early stopping is not available in dart mode')\n"
     ]
    },
    {
     "name": "stdout",
     "output_type": "stream",
     "text": [
      "Fold: Tuning: n_train=246009, eval_set=61502\n"
     ]
    },
    {
     "name": "stderr",
     "output_type": "stream",
     "text": [
      "C:\\Users\\Paulius\\AppData\\Local\\pypoetry\\Cache\\virtualenvs\\ppuodz-ml-4-1-dqELbViF-py3.12\\Lib\\site-packages\\lightgbm\\callback.py:325: UserWarning: Early stopping is not available in dart mode\n",
      "  _log_warning('Early stopping is not available in dart mode')\n"
     ]
    },
    {
     "name": "stdout",
     "output_type": "stream",
     "text": [
      "Fold: Tuning: n_train=246009, eval_set=61502\n"
     ]
    },
    {
     "name": "stderr",
     "output_type": "stream",
     "text": [
      "C:\\Users\\Paulius\\AppData\\Local\\pypoetry\\Cache\\virtualenvs\\ppuodz-ml-4-1-dqELbViF-py3.12\\Lib\\site-packages\\lightgbm\\callback.py:325: UserWarning: Early stopping is not available in dart mode\n",
      "  _log_warning('Early stopping is not available in dart mode')\n"
     ]
    },
    {
     "name": "stdout",
     "output_type": "stream",
     "text": [
      "Fold: Tuning: n_train=246009, eval_set=61502\n"
     ]
    },
    {
     "name": "stderr",
     "output_type": "stream",
     "text": [
      "C:\\Users\\Paulius\\AppData\\Local\\pypoetry\\Cache\\virtualenvs\\ppuodz-ml-4-1-dqELbViF-py3.12\\Lib\\site-packages\\lightgbm\\callback.py:325: UserWarning: Early stopping is not available in dart mode\n",
      "  _log_warning('Early stopping is not available in dart mode')\n"
     ]
    },
    {
     "name": "stdout",
     "output_type": "stream",
     "text": [
      "Fold: Tuning: n_train=246009, eval_set=61502\n",
      "Tune: val_score:0.7750, std_test_score:0.00135 train_set_score:0.8244\n",
      "folds val/train: [0.7767, 0.7738, 0.7732, 0.7752, 0.7762] / [0.824, 0.8238, 0.8252, 0.8246, 0.8244], mean fold time: 33.81\n"
     ]
    },
    {
     "name": "stderr",
     "output_type": "stream",
     "text": [
      "[I 2024-04-30 14:40:03,043] Trial 29 finished with value: 0.7750172313526884 and parameters: {'model__class_weight': 'balanced', 'model__objective': 'binary', 'model__boosting_type': 'dart', 'model__n_estimators': 850, 'model__learning_rate': 0.28, 'model__max_depth': 11, 'model__num_leaves': 112, 'model__min_gain_to_split': 6.0, 'model__min_data_in_leaf': 2700, 'model__lambda_l1': 55, 'model__lambda_l2': 65, 'model__bagging_fraction': 0.2, 'model__feature_fraction': 0.7, 'model__max_bin': 250, 'model__drop_rate': 0.125}. Best is trial 28 with value: 0.77509084497967.\n",
      "C:\\Users\\Paulius\\AppData\\Local\\pypoetry\\Cache\\virtualenvs\\ppuodz-ml-4-1-dqELbViF-py3.12\\Lib\\site-packages\\lightgbm\\callback.py:325: UserWarning: Early stopping is not available in dart mode\n",
      "  _log_warning('Early stopping is not available in dart mode')\n"
     ]
    },
    {
     "name": "stdout",
     "output_type": "stream",
     "text": [
      "Fold: Tuning: n_train=246008, eval_set=61503\n"
     ]
    },
    {
     "name": "stderr",
     "output_type": "stream",
     "text": [
      "C:\\Users\\Paulius\\AppData\\Local\\pypoetry\\Cache\\virtualenvs\\ppuodz-ml-4-1-dqELbViF-py3.12\\Lib\\site-packages\\lightgbm\\callback.py:325: UserWarning: Early stopping is not available in dart mode\n",
      "  _log_warning('Early stopping is not available in dart mode')\n"
     ]
    },
    {
     "name": "stdout",
     "output_type": "stream",
     "text": [
      "Fold: Tuning: n_train=246009, eval_set=61502\n"
     ]
    },
    {
     "name": "stderr",
     "output_type": "stream",
     "text": [
      "C:\\Users\\Paulius\\AppData\\Local\\pypoetry\\Cache\\virtualenvs\\ppuodz-ml-4-1-dqELbViF-py3.12\\Lib\\site-packages\\lightgbm\\callback.py:325: UserWarning: Early stopping is not available in dart mode\n",
      "  _log_warning('Early stopping is not available in dart mode')\n"
     ]
    },
    {
     "name": "stdout",
     "output_type": "stream",
     "text": [
      "Fold: Tuning: n_train=246009, eval_set=61502\n"
     ]
    },
    {
     "name": "stderr",
     "output_type": "stream",
     "text": [
      "C:\\Users\\Paulius\\AppData\\Local\\pypoetry\\Cache\\virtualenvs\\ppuodz-ml-4-1-dqELbViF-py3.12\\Lib\\site-packages\\lightgbm\\callback.py:325: UserWarning: Early stopping is not available in dart mode\n",
      "  _log_warning('Early stopping is not available in dart mode')\n"
     ]
    },
    {
     "name": "stdout",
     "output_type": "stream",
     "text": [
      "Fold: Tuning: n_train=246009, eval_set=61502\n"
     ]
    },
    {
     "name": "stderr",
     "output_type": "stream",
     "text": [
      "C:\\Users\\Paulius\\AppData\\Local\\pypoetry\\Cache\\virtualenvs\\ppuodz-ml-4-1-dqELbViF-py3.12\\Lib\\site-packages\\lightgbm\\callback.py:325: UserWarning: Early stopping is not available in dart mode\n",
      "  _log_warning('Early stopping is not available in dart mode')\n"
     ]
    },
    {
     "name": "stdout",
     "output_type": "stream",
     "text": [
      "Fold: Tuning: n_train=246009, eval_set=61502\n",
      "Tune: val_score:0.7753, std_test_score:0.00151 train_set_score:0.8275\n",
      "folds val/train: [0.7768, 0.7735, 0.7734, 0.7762, 0.7765] / [0.8279, 0.8264, 0.8277, 0.8272, 0.8282], mean fold time: 31.25\n"
     ]
    },
    {
     "name": "stderr",
     "output_type": "stream",
     "text": [
      "[I 2024-04-30 14:42:40,077] Trial 30 finished with value: 0.7753115326000964 and parameters: {'model__class_weight': 'balanced', 'model__objective': 'binary', 'model__boosting_type': 'dart', 'model__n_estimators': 850, 'model__learning_rate': 0.26, 'model__max_depth': 11, 'model__num_leaves': 104, 'model__min_gain_to_split': 6.0, 'model__min_data_in_leaf': 2300, 'model__lambda_l1': 55, 'model__lambda_l2': 70, 'model__bagging_fraction': 0.2, 'model__feature_fraction': 0.7, 'model__max_bin': 250, 'model__drop_rate': 0.1}. Best is trial 30 with value: 0.7753115326000964.\n",
      "C:\\Users\\Paulius\\AppData\\Local\\pypoetry\\Cache\\virtualenvs\\ppuodz-ml-4-1-dqELbViF-py3.12\\Lib\\site-packages\\lightgbm\\callback.py:325: UserWarning: Early stopping is not available in dart mode\n",
      "  _log_warning('Early stopping is not available in dart mode')\n"
     ]
    },
    {
     "name": "stdout",
     "output_type": "stream",
     "text": [
      "Fold: Tuning: n_train=246008, eval_set=61503\n"
     ]
    },
    {
     "name": "stderr",
     "output_type": "stream",
     "text": [
      "C:\\Users\\Paulius\\AppData\\Local\\pypoetry\\Cache\\virtualenvs\\ppuodz-ml-4-1-dqELbViF-py3.12\\Lib\\site-packages\\lightgbm\\callback.py:325: UserWarning: Early stopping is not available in dart mode\n",
      "  _log_warning('Early stopping is not available in dart mode')\n"
     ]
    },
    {
     "name": "stdout",
     "output_type": "stream",
     "text": [
      "Fold: Tuning: n_train=246009, eval_set=61502\n"
     ]
    },
    {
     "name": "stderr",
     "output_type": "stream",
     "text": [
      "C:\\Users\\Paulius\\AppData\\Local\\pypoetry\\Cache\\virtualenvs\\ppuodz-ml-4-1-dqELbViF-py3.12\\Lib\\site-packages\\lightgbm\\callback.py:325: UserWarning: Early stopping is not available in dart mode\n",
      "  _log_warning('Early stopping is not available in dart mode')\n"
     ]
    },
    {
     "name": "stdout",
     "output_type": "stream",
     "text": [
      "Fold: Tuning: n_train=246009, eval_set=61502\n"
     ]
    },
    {
     "name": "stderr",
     "output_type": "stream",
     "text": [
      "C:\\Users\\Paulius\\AppData\\Local\\pypoetry\\Cache\\virtualenvs\\ppuodz-ml-4-1-dqELbViF-py3.12\\Lib\\site-packages\\lightgbm\\callback.py:325: UserWarning: Early stopping is not available in dart mode\n",
      "  _log_warning('Early stopping is not available in dart mode')\n"
     ]
    },
    {
     "name": "stdout",
     "output_type": "stream",
     "text": [
      "Fold: Tuning: n_train=246009, eval_set=61502\n"
     ]
    },
    {
     "name": "stderr",
     "output_type": "stream",
     "text": [
      "C:\\Users\\Paulius\\AppData\\Local\\pypoetry\\Cache\\virtualenvs\\ppuodz-ml-4-1-dqELbViF-py3.12\\Lib\\site-packages\\lightgbm\\callback.py:325: UserWarning: Early stopping is not available in dart mode\n",
      "  _log_warning('Early stopping is not available in dart mode')\n"
     ]
    },
    {
     "name": "stdout",
     "output_type": "stream",
     "text": [
      "Fold: Tuning: n_train=246009, eval_set=61502\n",
      "Tune: val_score:0.7751, std_test_score:0.00126 train_set_score:0.8239\n",
      "folds val/train: [0.7762, 0.7733, 0.7739, 0.7759, 0.7763] / [0.8239, 0.8226, 0.8247, 0.8238, 0.8243], mean fold time: 25.30\n"
     ]
    },
    {
     "name": "stderr",
     "output_type": "stream",
     "text": [
      "[I 2024-04-30 14:44:47,397] Trial 31 finished with value: 0.7751128635029536 and parameters: {'model__class_weight': 'balanced', 'model__objective': 'binary', 'model__boosting_type': 'dart', 'model__n_estimators': 800, 'model__learning_rate': 0.26, 'model__max_depth': 11, 'model__num_leaves': 112, 'model__min_gain_to_split': 6.5, 'model__min_data_in_leaf': 2700, 'model__lambda_l1': 55, 'model__lambda_l2': 65, 'model__bagging_fraction': 0.2, 'model__feature_fraction': 0.7, 'model__max_bin': 250, 'model__drop_rate': 0.1}. Best is trial 30 with value: 0.7753115326000964.\n",
      "C:\\Users\\Paulius\\AppData\\Local\\pypoetry\\Cache\\virtualenvs\\ppuodz-ml-4-1-dqELbViF-py3.12\\Lib\\site-packages\\lightgbm\\callback.py:325: UserWarning: Early stopping is not available in dart mode\n",
      "  _log_warning('Early stopping is not available in dart mode')\n"
     ]
    },
    {
     "name": "stdout",
     "output_type": "stream",
     "text": [
      "Fold: Tuning: n_train=246008, eval_set=61503\n"
     ]
    },
    {
     "name": "stderr",
     "output_type": "stream",
     "text": [
      "C:\\Users\\Paulius\\AppData\\Local\\pypoetry\\Cache\\virtualenvs\\ppuodz-ml-4-1-dqELbViF-py3.12\\Lib\\site-packages\\lightgbm\\callback.py:325: UserWarning: Early stopping is not available in dart mode\n",
      "  _log_warning('Early stopping is not available in dart mode')\n"
     ]
    },
    {
     "name": "stdout",
     "output_type": "stream",
     "text": [
      "Fold: Tuning: n_train=246009, eval_set=61502\n"
     ]
    },
    {
     "name": "stderr",
     "output_type": "stream",
     "text": [
      "C:\\Users\\Paulius\\AppData\\Local\\pypoetry\\Cache\\virtualenvs\\ppuodz-ml-4-1-dqELbViF-py3.12\\Lib\\site-packages\\lightgbm\\callback.py:325: UserWarning: Early stopping is not available in dart mode\n",
      "  _log_warning('Early stopping is not available in dart mode')\n"
     ]
    },
    {
     "name": "stdout",
     "output_type": "stream",
     "text": [
      "Fold: Tuning: n_train=246009, eval_set=61502\n"
     ]
    },
    {
     "name": "stderr",
     "output_type": "stream",
     "text": [
      "C:\\Users\\Paulius\\AppData\\Local\\pypoetry\\Cache\\virtualenvs\\ppuodz-ml-4-1-dqELbViF-py3.12\\Lib\\site-packages\\lightgbm\\callback.py:325: UserWarning: Early stopping is not available in dart mode\n",
      "  _log_warning('Early stopping is not available in dart mode')\n"
     ]
    },
    {
     "name": "stdout",
     "output_type": "stream",
     "text": [
      "Fold: Tuning: n_train=246009, eval_set=61502\n"
     ]
    },
    {
     "name": "stderr",
     "output_type": "stream",
     "text": [
      "C:\\Users\\Paulius\\AppData\\Local\\pypoetry\\Cache\\virtualenvs\\ppuodz-ml-4-1-dqELbViF-py3.12\\Lib\\site-packages\\lightgbm\\callback.py:325: UserWarning: Early stopping is not available in dart mode\n",
      "  _log_warning('Early stopping is not available in dart mode')\n"
     ]
    },
    {
     "name": "stdout",
     "output_type": "stream",
     "text": [
      "Fold: Tuning: n_train=246009, eval_set=61502\n",
      "Tune: val_score:0.7746, std_test_score:0.00142 train_set_score:0.8232\n",
      "folds val/train: [0.7762, 0.7731, 0.7728, 0.7752, 0.7759] / [0.8235, 0.8224, 0.8235, 0.824, 0.8226], mean fold time: 31.65\n"
     ]
    },
    {
     "name": "stderr",
     "output_type": "stream",
     "text": [
      "[I 2024-04-30 14:47:26,417] Trial 32 finished with value: 0.7746302453033435 and parameters: {'model__class_weight': 'balanced', 'model__objective': 'binary', 'model__boosting_type': 'dart', 'model__n_estimators': 850, 'model__learning_rate': 0.26, 'model__max_depth': 11, 'model__num_leaves': 112, 'model__min_gain_to_split': 6.5, 'model__min_data_in_leaf': 2200, 'model__lambda_l1': 60, 'model__lambda_l2': 65, 'model__bagging_fraction': 0.2, 'model__feature_fraction': 0.7, 'model__max_bin': 225, 'model__drop_rate': 0.1}. Best is trial 30 with value: 0.7753115326000964.\n",
      "C:\\Users\\Paulius\\AppData\\Local\\pypoetry\\Cache\\virtualenvs\\ppuodz-ml-4-1-dqELbViF-py3.12\\Lib\\site-packages\\lightgbm\\callback.py:325: UserWarning: Early stopping is not available in dart mode\n",
      "  _log_warning('Early stopping is not available in dart mode')\n"
     ]
    },
    {
     "name": "stdout",
     "output_type": "stream",
     "text": [
      "Fold: Tuning: n_train=246008, eval_set=61503\n"
     ]
    },
    {
     "name": "stderr",
     "output_type": "stream",
     "text": [
      "C:\\Users\\Paulius\\AppData\\Local\\pypoetry\\Cache\\virtualenvs\\ppuodz-ml-4-1-dqELbViF-py3.12\\Lib\\site-packages\\lightgbm\\callback.py:325: UserWarning: Early stopping is not available in dart mode\n",
      "  _log_warning('Early stopping is not available in dart mode')\n"
     ]
    },
    {
     "name": "stdout",
     "output_type": "stream",
     "text": [
      "Fold: Tuning: n_train=246009, eval_set=61502\n"
     ]
    },
    {
     "name": "stderr",
     "output_type": "stream",
     "text": [
      "C:\\Users\\Paulius\\AppData\\Local\\pypoetry\\Cache\\virtualenvs\\ppuodz-ml-4-1-dqELbViF-py3.12\\Lib\\site-packages\\lightgbm\\callback.py:325: UserWarning: Early stopping is not available in dart mode\n",
      "  _log_warning('Early stopping is not available in dart mode')\n"
     ]
    },
    {
     "name": "stdout",
     "output_type": "stream",
     "text": [
      "Fold: Tuning: n_train=246009, eval_set=61502\n"
     ]
    },
    {
     "name": "stderr",
     "output_type": "stream",
     "text": [
      "C:\\Users\\Paulius\\AppData\\Local\\pypoetry\\Cache\\virtualenvs\\ppuodz-ml-4-1-dqELbViF-py3.12\\Lib\\site-packages\\lightgbm\\callback.py:325: UserWarning: Early stopping is not available in dart mode\n",
      "  _log_warning('Early stopping is not available in dart mode')\n"
     ]
    },
    {
     "name": "stdout",
     "output_type": "stream",
     "text": [
      "Fold: Tuning: n_train=246009, eval_set=61502\n"
     ]
    },
    {
     "name": "stderr",
     "output_type": "stream",
     "text": [
      "C:\\Users\\Paulius\\AppData\\Local\\pypoetry\\Cache\\virtualenvs\\ppuodz-ml-4-1-dqELbViF-py3.12\\Lib\\site-packages\\lightgbm\\callback.py:325: UserWarning: Early stopping is not available in dart mode\n",
      "  _log_warning('Early stopping is not available in dart mode')\n"
     ]
    },
    {
     "name": "stdout",
     "output_type": "stream",
     "text": [
      "Fold: Tuning: n_train=246009, eval_set=61502\n",
      "Tune: val_score:0.7673, std_test_score:0.00113 train_set_score:0.8098\n",
      "folds val/train: [0.7686, 0.7672, 0.7655, 0.7684, 0.7668] / [0.8096, 0.8101, 0.8097, 0.8109, 0.8087], mean fold time: 3.90\n"
     ]
    },
    {
     "name": "stderr",
     "output_type": "stream",
     "text": [
      "[I 2024-04-30 14:47:46,728] Trial 33 finished with value: 0.7673077353749032 and parameters: {'model__class_weight': 'balanced', 'model__objective': 'binary', 'model__boosting_type': 'dart', 'model__n_estimators': 850, 'model__learning_rate': 0.29000000000000004, 'model__max_depth': 11, 'model__num_leaves': 136, 'model__min_gain_to_split': 9.0, 'model__min_data_in_leaf': 1700, 'model__lambda_l1': 70, 'model__lambda_l2': 30, 'model__bagging_fraction': 0.30000000000000004, 'model__feature_fraction': 0.7, 'model__max_bin': 175, 'model__drop_rate': 0.0}. Best is trial 30 with value: 0.7753115326000964.\n",
      "C:\\Users\\Paulius\\AppData\\Local\\pypoetry\\Cache\\virtualenvs\\ppuodz-ml-4-1-dqELbViF-py3.12\\Lib\\site-packages\\lightgbm\\callback.py:325: UserWarning: Early stopping is not available in dart mode\n",
      "  _log_warning('Early stopping is not available in dart mode')\n"
     ]
    },
    {
     "name": "stdout",
     "output_type": "stream",
     "text": [
      "Fold: Tuning: n_train=246008, eval_set=61503\n"
     ]
    },
    {
     "name": "stderr",
     "output_type": "stream",
     "text": [
      "C:\\Users\\Paulius\\AppData\\Local\\pypoetry\\Cache\\virtualenvs\\ppuodz-ml-4-1-dqELbViF-py3.12\\Lib\\site-packages\\lightgbm\\callback.py:325: UserWarning: Early stopping is not available in dart mode\n",
      "  _log_warning('Early stopping is not available in dart mode')\n"
     ]
    },
    {
     "name": "stdout",
     "output_type": "stream",
     "text": [
      "Fold: Tuning: n_train=246009, eval_set=61502\n"
     ]
    },
    {
     "name": "stderr",
     "output_type": "stream",
     "text": [
      "C:\\Users\\Paulius\\AppData\\Local\\pypoetry\\Cache\\virtualenvs\\ppuodz-ml-4-1-dqELbViF-py3.12\\Lib\\site-packages\\lightgbm\\callback.py:325: UserWarning: Early stopping is not available in dart mode\n",
      "  _log_warning('Early stopping is not available in dart mode')\n"
     ]
    },
    {
     "name": "stdout",
     "output_type": "stream",
     "text": [
      "Fold: Tuning: n_train=246009, eval_set=61502\n"
     ]
    },
    {
     "name": "stderr",
     "output_type": "stream",
     "text": [
      "C:\\Users\\Paulius\\AppData\\Local\\pypoetry\\Cache\\virtualenvs\\ppuodz-ml-4-1-dqELbViF-py3.12\\Lib\\site-packages\\lightgbm\\callback.py:325: UserWarning: Early stopping is not available in dart mode\n",
      "  _log_warning('Early stopping is not available in dart mode')\n"
     ]
    },
    {
     "name": "stdout",
     "output_type": "stream",
     "text": [
      "Fold: Tuning: n_train=246009, eval_set=61502\n"
     ]
    },
    {
     "name": "stderr",
     "output_type": "stream",
     "text": [
      "C:\\Users\\Paulius\\AppData\\Local\\pypoetry\\Cache\\virtualenvs\\ppuodz-ml-4-1-dqELbViF-py3.12\\Lib\\site-packages\\lightgbm\\callback.py:325: UserWarning: Early stopping is not available in dart mode\n",
      "  _log_warning('Early stopping is not available in dart mode')\n"
     ]
    },
    {
     "name": "stdout",
     "output_type": "stream",
     "text": [
      "Fold: Tuning: n_train=246009, eval_set=61502\n",
      "Tune: val_score:0.7692, std_test_score:0.00168 train_set_score:0.7857\n",
      "folds val/train: [0.77, 0.7671, 0.7685, 0.7683, 0.772] / [0.7857, 0.7859, 0.7858, 0.7855, 0.7855], mean fold time: 14.13\n"
     ]
    },
    {
     "name": "stderr",
     "output_type": "stream",
     "text": [
      "[I 2024-04-30 14:48:58,149] Trial 34 finished with value: 0.7691855336779547 and parameters: {'model__class_weight': None, 'model__objective': 'binary', 'model__boosting_type': 'dart', 'model__n_estimators': 750, 'model__learning_rate': 0.26, 'model__max_depth': 11, 'model__num_leaves': 104, 'model__min_gain_to_split': 7.0, 'model__min_data_in_leaf': 2700, 'model__lambda_l1': 55, 'model__lambda_l2': 70, 'model__bagging_fraction': 0.2, 'model__feature_fraction': 0.8, 'model__max_bin': 250, 'model__drop_rate': 0.1}. Best is trial 30 with value: 0.7753115326000964.\n"
     ]
    },
    {
     "name": "stdout",
     "output_type": "stream",
     "text": [
      "Fold: Tuning: n_train=246008, eval_set=61503\n",
      "Fold: Tuning: n_train=246009, eval_set=61502\n",
      "Fold: Tuning: n_train=246009, eval_set=61502\n",
      "Fold: Tuning: n_train=246009, eval_set=61502\n",
      "Fold: Tuning: n_train=246009, eval_set=61502\n",
      "Tune: val_score:0.7284, std_test_score:0.00217 train_set_score:0.7386\n",
      "folds val/train: [0.7307, 0.7277, 0.7256, 0.7311, 0.7267] / [0.7396, 0.7361, 0.7395, 0.74, 0.7379], mean fold time: 1.27\n"
     ]
    },
    {
     "name": "stderr",
     "output_type": "stream",
     "text": [
      "[I 2024-04-30 14:49:05,334] Trial 35 finished with value: 0.7283693254791357 and parameters: {'model__class_weight': 'balanced', 'model__objective': 'binary', 'model__boosting_type': 'rf', 'model__n_estimators': 900, 'model__learning_rate': 0.24000000000000002, 'model__max_depth': 10, 'model__num_leaves': 152, 'model__min_gain_to_split': 6.5, 'model__min_data_in_leaf': 2300, 'model__lambda_l1': 85, 'model__lambda_l2': 55, 'model__bagging_fraction': 0.30000000000000004, 'model__feature_fraction': 0.8, 'model__max_bin': 150, 'model__drop_rate': 0.25}. Best is trial 30 with value: 0.7753115326000964.\n",
      "C:\\Users\\Paulius\\AppData\\Local\\pypoetry\\Cache\\virtualenvs\\ppuodz-ml-4-1-dqELbViF-py3.12\\Lib\\site-packages\\lightgbm\\callback.py:325: UserWarning: Early stopping is not available in dart mode\n",
      "  _log_warning('Early stopping is not available in dart mode')\n"
     ]
    },
    {
     "name": "stdout",
     "output_type": "stream",
     "text": [
      "Fold: Tuning: n_train=246008, eval_set=61503\n"
     ]
    },
    {
     "name": "stderr",
     "output_type": "stream",
     "text": [
      "C:\\Users\\Paulius\\AppData\\Local\\pypoetry\\Cache\\virtualenvs\\ppuodz-ml-4-1-dqELbViF-py3.12\\Lib\\site-packages\\lightgbm\\callback.py:325: UserWarning: Early stopping is not available in dart mode\n",
      "  _log_warning('Early stopping is not available in dart mode')\n"
     ]
    },
    {
     "name": "stdout",
     "output_type": "stream",
     "text": [
      "Fold: Tuning: n_train=246009, eval_set=61502\n"
     ]
    },
    {
     "name": "stderr",
     "output_type": "stream",
     "text": [
      "C:\\Users\\Paulius\\AppData\\Local\\pypoetry\\Cache\\virtualenvs\\ppuodz-ml-4-1-dqELbViF-py3.12\\Lib\\site-packages\\lightgbm\\callback.py:325: UserWarning: Early stopping is not available in dart mode\n",
      "  _log_warning('Early stopping is not available in dart mode')\n"
     ]
    },
    {
     "name": "stdout",
     "output_type": "stream",
     "text": [
      "Fold: Tuning: n_train=246009, eval_set=61502\n"
     ]
    },
    {
     "name": "stderr",
     "output_type": "stream",
     "text": [
      "C:\\Users\\Paulius\\AppData\\Local\\pypoetry\\Cache\\virtualenvs\\ppuodz-ml-4-1-dqELbViF-py3.12\\Lib\\site-packages\\lightgbm\\callback.py:325: UserWarning: Early stopping is not available in dart mode\n",
      "  _log_warning('Early stopping is not available in dart mode')\n"
     ]
    },
    {
     "name": "stdout",
     "output_type": "stream",
     "text": [
      "Fold: Tuning: n_train=246009, eval_set=61502\n"
     ]
    },
    {
     "name": "stderr",
     "output_type": "stream",
     "text": [
      "C:\\Users\\Paulius\\AppData\\Local\\pypoetry\\Cache\\virtualenvs\\ppuodz-ml-4-1-dqELbViF-py3.12\\Lib\\site-packages\\lightgbm\\callback.py:325: UserWarning: Early stopping is not available in dart mode\n",
      "  _log_warning('Early stopping is not available in dart mode')\n"
     ]
    },
    {
     "name": "stdout",
     "output_type": "stream",
     "text": [
      "Fold: Tuning: n_train=246009, eval_set=61502\n",
      "Tune: val_score:0.7613, std_test_score:0.00115 train_set_score:0.7926\n",
      "folds val/train: [0.763, 0.7597, 0.7604, 0.7616, 0.7619] / [0.7923, 0.7929, 0.7932, 0.7923, 0.7924], mean fold time: 35.00\n"
     ]
    },
    {
     "name": "stderr",
     "output_type": "stream",
     "text": [
      "[I 2024-04-30 14:52:01,167] Trial 36 finished with value: 0.761320075192292 and parameters: {'model__class_weight': 'balanced', 'model__objective': 'binary', 'model__boosting_type': 'dart', 'model__n_estimators': 800, 'model__learning_rate': 0.02, 'model__max_depth': 11, 'model__num_leaves': 120, 'model__min_gain_to_split': 3.0, 'model__min_data_in_leaf': 2700, 'model__lambda_l1': 55, 'model__lambda_l2': 80, 'model__bagging_fraction': 0.2, 'model__feature_fraction': 0.7, 'model__max_bin': 250, 'model__drop_rate': 0.1}. Best is trial 30 with value: 0.7753115326000964.\n",
      "C:\\Users\\Paulius\\AppData\\Local\\pypoetry\\Cache\\virtualenvs\\ppuodz-ml-4-1-dqELbViF-py3.12\\Lib\\site-packages\\lightgbm\\callback.py:325: UserWarning: Early stopping is not available in dart mode\n",
      "  _log_warning('Early stopping is not available in dart mode')\n"
     ]
    },
    {
     "name": "stdout",
     "output_type": "stream",
     "text": [
      "Fold: Tuning: n_train=246008, eval_set=61503\n"
     ]
    },
    {
     "name": "stderr",
     "output_type": "stream",
     "text": [
      "C:\\Users\\Paulius\\AppData\\Local\\pypoetry\\Cache\\virtualenvs\\ppuodz-ml-4-1-dqELbViF-py3.12\\Lib\\site-packages\\lightgbm\\callback.py:325: UserWarning: Early stopping is not available in dart mode\n",
      "  _log_warning('Early stopping is not available in dart mode')\n"
     ]
    },
    {
     "name": "stdout",
     "output_type": "stream",
     "text": [
      "Fold: Tuning: n_train=246009, eval_set=61502\n"
     ]
    },
    {
     "name": "stderr",
     "output_type": "stream",
     "text": [
      "C:\\Users\\Paulius\\AppData\\Local\\pypoetry\\Cache\\virtualenvs\\ppuodz-ml-4-1-dqELbViF-py3.12\\Lib\\site-packages\\lightgbm\\callback.py:325: UserWarning: Early stopping is not available in dart mode\n",
      "  _log_warning('Early stopping is not available in dart mode')\n"
     ]
    },
    {
     "name": "stdout",
     "output_type": "stream",
     "text": [
      "Fold: Tuning: n_train=246009, eval_set=61502\n"
     ]
    },
    {
     "name": "stderr",
     "output_type": "stream",
     "text": [
      "C:\\Users\\Paulius\\AppData\\Local\\pypoetry\\Cache\\virtualenvs\\ppuodz-ml-4-1-dqELbViF-py3.12\\Lib\\site-packages\\lightgbm\\callback.py:325: UserWarning: Early stopping is not available in dart mode\n",
      "  _log_warning('Early stopping is not available in dart mode')\n"
     ]
    },
    {
     "name": "stdout",
     "output_type": "stream",
     "text": [
      "Fold: Tuning: n_train=246009, eval_set=61502\n"
     ]
    },
    {
     "name": "stderr",
     "output_type": "stream",
     "text": [
      "C:\\Users\\Paulius\\AppData\\Local\\pypoetry\\Cache\\virtualenvs\\ppuodz-ml-4-1-dqELbViF-py3.12\\Lib\\site-packages\\lightgbm\\callback.py:325: UserWarning: Early stopping is not available in dart mode\n",
      "  _log_warning('Early stopping is not available in dart mode')\n"
     ]
    },
    {
     "name": "stdout",
     "output_type": "stream",
     "text": [
      "Fold: Tuning: n_train=246009, eval_set=61502\n",
      "Tune: val_score:0.7706, std_test_score:0.00207 train_set_score:0.7892\n",
      "folds val/train: [0.7724, 0.7671, 0.7699, 0.7707, 0.7729] / [0.789, 0.7894, 0.79, 0.7891, 0.7883], mean fold time: 28.08\n"
     ]
    },
    {
     "name": "stderr",
     "output_type": "stream",
     "text": [
      "[I 2024-04-30 14:54:22,373] Trial 37 finished with value: 0.7705940846273202 and parameters: {'model__class_weight': None, 'model__objective': 'binary', 'model__boosting_type': 'dart', 'model__n_estimators': 950, 'model__learning_rate': 0.2, 'model__max_depth': 10, 'model__num_leaves': 168, 'model__min_gain_to_split': 4.0, 'model__min_data_in_leaf': 1800, 'model__lambda_l1': 60, 'model__lambda_l2': 75, 'model__bagging_fraction': 0.30000000000000004, 'model__feature_fraction': 0.6000000000000001, 'model__max_bin': 200, 'model__drop_rate': 0.17500000000000002}. Best is trial 30 with value: 0.7753115326000964.\n"
     ]
    },
    {
     "name": "stdout",
     "output_type": "stream",
     "text": [
      "Fold: Tuning: n_train=246008, eval_set=61503\n",
      "Fold: Tuning: n_train=246009, eval_set=61502\n",
      "Fold: Tuning: n_train=246009, eval_set=61502\n",
      "Fold: Tuning: n_train=246009, eval_set=61502\n",
      "Fold: Tuning: n_train=246009, eval_set=61502\n",
      "Tune: val_score:0.7297, std_test_score:0.00235 train_set_score:0.7412\n",
      "folds val/train: [0.7317, 0.7321, 0.7262, 0.7309, 0.7276] / [0.7405, 0.7432, 0.7418, 0.7413, 0.7393], mean fold time: 1.43\n"
     ]
    },
    {
     "name": "stderr",
     "output_type": "stream",
     "text": [
      "[I 2024-04-30 14:54:30,338] Trial 38 finished with value: 0.7297004724664784 and parameters: {'model__class_weight': 'balanced', 'model__objective': 'binary', 'model__boosting_type': 'rf', 'model__n_estimators': 650, 'model__learning_rate': 0.28, 'model__max_depth': 11, 'model__num_leaves': 104, 'model__min_gain_to_split': 6.0, 'model__min_data_in_leaf': 2600, 'model__lambda_l1': 50, 'model__lambda_l2': 65, 'model__bagging_fraction': 0.2, 'model__feature_fraction': 0.8, 'model__max_bin': 275, 'model__drop_rate': 0.05}. Best is trial 30 with value: 0.7753115326000964.\n",
      "C:\\Users\\Paulius\\AppData\\Local\\pypoetry\\Cache\\virtualenvs\\ppuodz-ml-4-1-dqELbViF-py3.12\\Lib\\site-packages\\lightgbm\\callback.py:325: UserWarning: Early stopping is not available in dart mode\n",
      "  _log_warning('Early stopping is not available in dart mode')\n"
     ]
    },
    {
     "name": "stdout",
     "output_type": "stream",
     "text": [
      "Fold: Tuning: n_train=246008, eval_set=61503\n"
     ]
    },
    {
     "name": "stderr",
     "output_type": "stream",
     "text": [
      "C:\\Users\\Paulius\\AppData\\Local\\pypoetry\\Cache\\virtualenvs\\ppuodz-ml-4-1-dqELbViF-py3.12\\Lib\\site-packages\\lightgbm\\callback.py:325: UserWarning: Early stopping is not available in dart mode\n",
      "  _log_warning('Early stopping is not available in dart mode')\n"
     ]
    },
    {
     "name": "stdout",
     "output_type": "stream",
     "text": [
      "Fold: Tuning: n_train=246009, eval_set=61502\n"
     ]
    },
    {
     "name": "stderr",
     "output_type": "stream",
     "text": [
      "C:\\Users\\Paulius\\AppData\\Local\\pypoetry\\Cache\\virtualenvs\\ppuodz-ml-4-1-dqELbViF-py3.12\\Lib\\site-packages\\lightgbm\\callback.py:325: UserWarning: Early stopping is not available in dart mode\n",
      "  _log_warning('Early stopping is not available in dart mode')\n"
     ]
    },
    {
     "name": "stdout",
     "output_type": "stream",
     "text": [
      "Fold: Tuning: n_train=246009, eval_set=61502\n"
     ]
    },
    {
     "name": "stderr",
     "output_type": "stream",
     "text": [
      "C:\\Users\\Paulius\\AppData\\Local\\pypoetry\\Cache\\virtualenvs\\ppuodz-ml-4-1-dqELbViF-py3.12\\Lib\\site-packages\\lightgbm\\callback.py:325: UserWarning: Early stopping is not available in dart mode\n",
      "  _log_warning('Early stopping is not available in dart mode')\n"
     ]
    },
    {
     "name": "stdout",
     "output_type": "stream",
     "text": [
      "Fold: Tuning: n_train=246009, eval_set=61502\n"
     ]
    },
    {
     "name": "stderr",
     "output_type": "stream",
     "text": [
      "C:\\Users\\Paulius\\AppData\\Local\\pypoetry\\Cache\\virtualenvs\\ppuodz-ml-4-1-dqELbViF-py3.12\\Lib\\site-packages\\lightgbm\\callback.py:325: UserWarning: Early stopping is not available in dart mode\n",
      "  _log_warning('Early stopping is not available in dart mode')\n"
     ]
    },
    {
     "name": "stdout",
     "output_type": "stream",
     "text": [
      "Fold: Tuning: n_train=246009, eval_set=61502\n",
      "Tune: val_score:0.7665, std_test_score:0.00171 train_set_score:0.7786\n",
      "folds val/train: [0.7674, 0.7633, 0.7664, 0.7668, 0.7684] / [0.7778, 0.7792, 0.779, 0.779, 0.778], mean fold time: 29.17\n"
     ]
    },
    {
     "name": "stderr",
     "output_type": "stream",
     "text": [
      "[I 2024-04-30 14:56:56,973] Trial 39 finished with value: 0.7664675879453234 and parameters: {'model__class_weight': None, 'model__objective': 'binary', 'model__boosting_type': 'dart', 'model__n_estimators': 1000, 'model__learning_rate': 0.18000000000000002, 'model__max_depth': 10, 'model__num_leaves': 136, 'model__min_gain_to_split': 9.0, 'model__min_data_in_leaf': 2300, 'model__lambda_l1': 85, 'model__lambda_l2': 85, 'model__bagging_fraction': 0.2, 'model__feature_fraction': 0.9000000000000001, 'model__max_bin': 250, 'model__drop_rate': 0.275}. Best is trial 30 with value: 0.7753115326000964.\n",
      "C:\\Users\\Paulius\\AppData\\Local\\pypoetry\\Cache\\virtualenvs\\ppuodz-ml-4-1-dqELbViF-py3.12\\Lib\\site-packages\\lightgbm\\callback.py:325: UserWarning: Early stopping is not available in dart mode\n",
      "  _log_warning('Early stopping is not available in dart mode')\n"
     ]
    },
    {
     "name": "stdout",
     "output_type": "stream",
     "text": [
      "Fold: Tuning: n_train=246008, eval_set=61503\n"
     ]
    },
    {
     "name": "stderr",
     "output_type": "stream",
     "text": [
      "C:\\Users\\Paulius\\AppData\\Local\\pypoetry\\Cache\\virtualenvs\\ppuodz-ml-4-1-dqELbViF-py3.12\\Lib\\site-packages\\lightgbm\\callback.py:325: UserWarning: Early stopping is not available in dart mode\n",
      "  _log_warning('Early stopping is not available in dart mode')\n"
     ]
    },
    {
     "name": "stdout",
     "output_type": "stream",
     "text": [
      "Fold: Tuning: n_train=246009, eval_set=61502\n"
     ]
    },
    {
     "name": "stderr",
     "output_type": "stream",
     "text": [
      "C:\\Users\\Paulius\\AppData\\Local\\pypoetry\\Cache\\virtualenvs\\ppuodz-ml-4-1-dqELbViF-py3.12\\Lib\\site-packages\\lightgbm\\callback.py:325: UserWarning: Early stopping is not available in dart mode\n",
      "  _log_warning('Early stopping is not available in dart mode')\n"
     ]
    },
    {
     "name": "stdout",
     "output_type": "stream",
     "text": [
      "Fold: Tuning: n_train=246009, eval_set=61502\n"
     ]
    },
    {
     "name": "stderr",
     "output_type": "stream",
     "text": [
      "C:\\Users\\Paulius\\AppData\\Local\\pypoetry\\Cache\\virtualenvs\\ppuodz-ml-4-1-dqELbViF-py3.12\\Lib\\site-packages\\lightgbm\\callback.py:325: UserWarning: Early stopping is not available in dart mode\n",
      "  _log_warning('Early stopping is not available in dart mode')\n"
     ]
    },
    {
     "name": "stdout",
     "output_type": "stream",
     "text": [
      "Fold: Tuning: n_train=246009, eval_set=61502\n"
     ]
    },
    {
     "name": "stderr",
     "output_type": "stream",
     "text": [
      "C:\\Users\\Paulius\\AppData\\Local\\pypoetry\\Cache\\virtualenvs\\ppuodz-ml-4-1-dqELbViF-py3.12\\Lib\\site-packages\\lightgbm\\callback.py:325: UserWarning: Early stopping is not available in dart mode\n",
      "  _log_warning('Early stopping is not available in dart mode')\n"
     ]
    },
    {
     "name": "stdout",
     "output_type": "stream",
     "text": [
      "Fold: Tuning: n_train=246009, eval_set=61502\n",
      "Tune: val_score:0.7747, std_test_score:0.00157 train_set_score:0.8531\n",
      "folds val/train: [0.7768, 0.7736, 0.7725, 0.7746, 0.7762] / [0.8536, 0.8507, 0.8539, 0.8545, 0.8528], mean fold time: 41.99\n"
     ]
    },
    {
     "name": "stderr",
     "output_type": "stream",
     "text": [
      "[I 2024-04-30 15:00:27,725] Trial 40 finished with value: 0.7747473413777572 and parameters: {'model__class_weight': 'balanced', 'model__objective': 'binary', 'model__boosting_type': 'dart', 'model__n_estimators': 800, 'model__learning_rate': 0.09, 'model__max_depth': 11, 'model__num_leaves': 144, 'model__min_gain_to_split': 4.5, 'model__min_data_in_leaf': 2800, 'model__lambda_l1': 30, 'model__lambda_l2': 80, 'model__bagging_fraction': 0.30000000000000004, 'model__feature_fraction': 0.7, 'model__max_bin': 150, 'model__drop_rate': 0.17500000000000002}. Best is trial 30 with value: 0.7753115326000964.\n",
      "C:\\Users\\Paulius\\AppData\\Local\\pypoetry\\Cache\\virtualenvs\\ppuodz-ml-4-1-dqELbViF-py3.12\\Lib\\site-packages\\lightgbm\\callback.py:325: UserWarning: Early stopping is not available in dart mode\n",
      "  _log_warning('Early stopping is not available in dart mode')\n"
     ]
    },
    {
     "name": "stdout",
     "output_type": "stream",
     "text": [
      "Fold: Tuning: n_train=246008, eval_set=61503\n"
     ]
    },
    {
     "name": "stderr",
     "output_type": "stream",
     "text": [
      "C:\\Users\\Paulius\\AppData\\Local\\pypoetry\\Cache\\virtualenvs\\ppuodz-ml-4-1-dqELbViF-py3.12\\Lib\\site-packages\\lightgbm\\callback.py:325: UserWarning: Early stopping is not available in dart mode\n",
      "  _log_warning('Early stopping is not available in dart mode')\n"
     ]
    },
    {
     "name": "stdout",
     "output_type": "stream",
     "text": [
      "Fold: Tuning: n_train=246009, eval_set=61502\n"
     ]
    },
    {
     "name": "stderr",
     "output_type": "stream",
     "text": [
      "C:\\Users\\Paulius\\AppData\\Local\\pypoetry\\Cache\\virtualenvs\\ppuodz-ml-4-1-dqELbViF-py3.12\\Lib\\site-packages\\lightgbm\\callback.py:325: UserWarning: Early stopping is not available in dart mode\n",
      "  _log_warning('Early stopping is not available in dart mode')\n"
     ]
    },
    {
     "name": "stdout",
     "output_type": "stream",
     "text": [
      "Fold: Tuning: n_train=246009, eval_set=61502\n"
     ]
    },
    {
     "name": "stderr",
     "output_type": "stream",
     "text": [
      "C:\\Users\\Paulius\\AppData\\Local\\pypoetry\\Cache\\virtualenvs\\ppuodz-ml-4-1-dqELbViF-py3.12\\Lib\\site-packages\\lightgbm\\callback.py:325: UserWarning: Early stopping is not available in dart mode\n",
      "  _log_warning('Early stopping is not available in dart mode')\n"
     ]
    },
    {
     "name": "stdout",
     "output_type": "stream",
     "text": [
      "Fold: Tuning: n_train=246009, eval_set=61502\n"
     ]
    },
    {
     "name": "stderr",
     "output_type": "stream",
     "text": [
      "C:\\Users\\Paulius\\AppData\\Local\\pypoetry\\Cache\\virtualenvs\\ppuodz-ml-4-1-dqELbViF-py3.12\\Lib\\site-packages\\lightgbm\\callback.py:325: UserWarning: Early stopping is not available in dart mode\n",
      "  _log_warning('Early stopping is not available in dart mode')\n"
     ]
    },
    {
     "name": "stdout",
     "output_type": "stream",
     "text": [
      "Fold: Tuning: n_train=246009, eval_set=61502\n",
      "Tune: val_score:0.7740, std_test_score:0.00138 train_set_score:0.8519\n",
      "folds val/train: [0.7749, 0.7722, 0.7725, 0.7749, 0.7755] / [0.8522, 0.8509, 0.8521, 0.8517, 0.8524], mean fold time: 42.51\n"
     ]
    },
    {
     "name": "stderr",
     "output_type": "stream",
     "text": [
      "[I 2024-04-30 15:04:01,067] Trial 41 finished with value: 0.7740293847140816 and parameters: {'model__class_weight': 'balanced', 'model__objective': 'binary', 'model__boosting_type': 'dart', 'model__n_estimators': 800, 'model__learning_rate': 0.08, 'model__max_depth': 11, 'model__num_leaves': 160, 'model__min_gain_to_split': 4.0, 'model__min_data_in_leaf': 2800, 'model__lambda_l1': 30, 'model__lambda_l2': 80, 'model__bagging_fraction': 0.30000000000000004, 'model__feature_fraction': 0.7, 'model__max_bin': 125, 'model__drop_rate': 0.2}. Best is trial 30 with value: 0.7753115326000964.\n",
      "C:\\Users\\Paulius\\AppData\\Local\\pypoetry\\Cache\\virtualenvs\\ppuodz-ml-4-1-dqELbViF-py3.12\\Lib\\site-packages\\lightgbm\\callback.py:325: UserWarning: Early stopping is not available in dart mode\n",
      "  _log_warning('Early stopping is not available in dart mode')\n"
     ]
    },
    {
     "name": "stdout",
     "output_type": "stream",
     "text": [
      "Fold: Tuning: n_train=246008, eval_set=61503\n"
     ]
    },
    {
     "name": "stderr",
     "output_type": "stream",
     "text": [
      "C:\\Users\\Paulius\\AppData\\Local\\pypoetry\\Cache\\virtualenvs\\ppuodz-ml-4-1-dqELbViF-py3.12\\Lib\\site-packages\\lightgbm\\callback.py:325: UserWarning: Early stopping is not available in dart mode\n",
      "  _log_warning('Early stopping is not available in dart mode')\n"
     ]
    },
    {
     "name": "stdout",
     "output_type": "stream",
     "text": [
      "Fold: Tuning: n_train=246009, eval_set=61502\n"
     ]
    },
    {
     "name": "stderr",
     "output_type": "stream",
     "text": [
      "C:\\Users\\Paulius\\AppData\\Local\\pypoetry\\Cache\\virtualenvs\\ppuodz-ml-4-1-dqELbViF-py3.12\\Lib\\site-packages\\lightgbm\\callback.py:325: UserWarning: Early stopping is not available in dart mode\n",
      "  _log_warning('Early stopping is not available in dart mode')\n"
     ]
    },
    {
     "name": "stdout",
     "output_type": "stream",
     "text": [
      "Fold: Tuning: n_train=246009, eval_set=61502\n"
     ]
    },
    {
     "name": "stderr",
     "output_type": "stream",
     "text": [
      "C:\\Users\\Paulius\\AppData\\Local\\pypoetry\\Cache\\virtualenvs\\ppuodz-ml-4-1-dqELbViF-py3.12\\Lib\\site-packages\\lightgbm\\callback.py:325: UserWarning: Early stopping is not available in dart mode\n",
      "  _log_warning('Early stopping is not available in dart mode')\n"
     ]
    },
    {
     "name": "stdout",
     "output_type": "stream",
     "text": [
      "Fold: Tuning: n_train=246009, eval_set=61502\n"
     ]
    },
    {
     "name": "stderr",
     "output_type": "stream",
     "text": [
      "C:\\Users\\Paulius\\AppData\\Local\\pypoetry\\Cache\\virtualenvs\\ppuodz-ml-4-1-dqELbViF-py3.12\\Lib\\site-packages\\lightgbm\\callback.py:325: UserWarning: Early stopping is not available in dart mode\n",
      "  _log_warning('Early stopping is not available in dart mode')\n"
     ]
    },
    {
     "name": "stdout",
     "output_type": "stream",
     "text": [
      "Fold: Tuning: n_train=246009, eval_set=61502\n",
      "Tune: val_score:0.7746, std_test_score:0.00136 train_set_score:0.8379\n",
      "folds val/train: [0.7759, 0.7727, 0.7734, 0.775, 0.7761] / [0.8379, 0.837, 0.8387, 0.8386, 0.8375], mean fold time: 46.51\n"
     ]
    },
    {
     "name": "stderr",
     "output_type": "stream",
     "text": [
      "[I 2024-04-30 15:07:54,430] Trial 42 finished with value: 0.7745977539160103 and parameters: {'model__class_weight': 'balanced', 'model__objective': 'binary', 'model__boosting_type': 'dart', 'model__n_estimators': 900, 'model__learning_rate': 0.09, 'model__max_depth': 10, 'model__num_leaves': 200, 'model__min_gain_to_split': 4.5, 'model__min_data_in_leaf': 2600, 'model__lambda_l1': 45, 'model__lambda_l2': 70, 'model__bagging_fraction': 0.2, 'model__feature_fraction': 0.6000000000000001, 'model__max_bin': 50, 'model__drop_rate': 0.125}. Best is trial 30 with value: 0.7753115326000964.\n",
      "C:\\Users\\Paulius\\AppData\\Local\\pypoetry\\Cache\\virtualenvs\\ppuodz-ml-4-1-dqELbViF-py3.12\\Lib\\site-packages\\lightgbm\\callback.py:325: UserWarning: Early stopping is not available in dart mode\n",
      "  _log_warning('Early stopping is not available in dart mode')\n"
     ]
    },
    {
     "name": "stdout",
     "output_type": "stream",
     "text": [
      "Fold: Tuning: n_train=246008, eval_set=61503\n"
     ]
    },
    {
     "name": "stderr",
     "output_type": "stream",
     "text": [
      "C:\\Users\\Paulius\\AppData\\Local\\pypoetry\\Cache\\virtualenvs\\ppuodz-ml-4-1-dqELbViF-py3.12\\Lib\\site-packages\\lightgbm\\callback.py:325: UserWarning: Early stopping is not available in dart mode\n",
      "  _log_warning('Early stopping is not available in dart mode')\n"
     ]
    },
    {
     "name": "stdout",
     "output_type": "stream",
     "text": [
      "Fold: Tuning: n_train=246009, eval_set=61502\n"
     ]
    },
    {
     "name": "stderr",
     "output_type": "stream",
     "text": [
      "C:\\Users\\Paulius\\AppData\\Local\\pypoetry\\Cache\\virtualenvs\\ppuodz-ml-4-1-dqELbViF-py3.12\\Lib\\site-packages\\lightgbm\\callback.py:325: UserWarning: Early stopping is not available in dart mode\n",
      "  _log_warning('Early stopping is not available in dart mode')\n"
     ]
    },
    {
     "name": "stdout",
     "output_type": "stream",
     "text": [
      "Fold: Tuning: n_train=246009, eval_set=61502\n"
     ]
    },
    {
     "name": "stderr",
     "output_type": "stream",
     "text": [
      "C:\\Users\\Paulius\\AppData\\Local\\pypoetry\\Cache\\virtualenvs\\ppuodz-ml-4-1-dqELbViF-py3.12\\Lib\\site-packages\\lightgbm\\callback.py:325: UserWarning: Early stopping is not available in dart mode\n",
      "  _log_warning('Early stopping is not available in dart mode')\n"
     ]
    },
    {
     "name": "stdout",
     "output_type": "stream",
     "text": [
      "Fold: Tuning: n_train=246009, eval_set=61502\n"
     ]
    },
    {
     "name": "stderr",
     "output_type": "stream",
     "text": [
      "C:\\Users\\Paulius\\AppData\\Local\\pypoetry\\Cache\\virtualenvs\\ppuodz-ml-4-1-dqELbViF-py3.12\\Lib\\site-packages\\lightgbm\\callback.py:325: UserWarning: Early stopping is not available in dart mode\n",
      "  _log_warning('Early stopping is not available in dart mode')\n"
     ]
    },
    {
     "name": "stdout",
     "output_type": "stream",
     "text": [
      "Fold: Tuning: n_train=246009, eval_set=61502\n",
      "Tune: val_score:0.7676, std_test_score:0.00122 train_set_score:0.8086\n",
      "folds val/train: [0.769, 0.7656, 0.7669, 0.7681, 0.7684] / [0.8083, 0.8088, 0.809, 0.8084, 0.8085], mean fold time: 19.67\n"
     ]
    },
    {
     "name": "stderr",
     "output_type": "stream",
     "text": [
      "[I 2024-04-30 15:09:33,588] Trial 43 finished with value: 0.7676253286972854 and parameters: {'model__class_weight': 'balanced', 'model__objective': 'binary', 'model__boosting_type': 'dart', 'model__n_estimators': 700, 'model__learning_rate': 0.04, 'model__max_depth': 11, 'model__num_leaves': 144, 'model__min_gain_to_split': 7.5, 'model__min_data_in_leaf': 2800, 'model__lambda_l1': 50, 'model__lambda_l2': 85, 'model__bagging_fraction': 0.30000000000000004, 'model__feature_fraction': 0.7, 'model__max_bin': 200, 'model__drop_rate': 0.05}. Best is trial 30 with value: 0.7753115326000964.\n",
      "C:\\Users\\Paulius\\AppData\\Local\\pypoetry\\Cache\\virtualenvs\\ppuodz-ml-4-1-dqELbViF-py3.12\\Lib\\site-packages\\lightgbm\\callback.py:325: UserWarning: Early stopping is not available in dart mode\n",
      "  _log_warning('Early stopping is not available in dart mode')\n"
     ]
    },
    {
     "name": "stdout",
     "output_type": "stream",
     "text": [
      "Fold: Tuning: n_train=246008, eval_set=61503\n"
     ]
    },
    {
     "name": "stderr",
     "output_type": "stream",
     "text": [
      "C:\\Users\\Paulius\\AppData\\Local\\pypoetry\\Cache\\virtualenvs\\ppuodz-ml-4-1-dqELbViF-py3.12\\Lib\\site-packages\\lightgbm\\callback.py:325: UserWarning: Early stopping is not available in dart mode\n",
      "  _log_warning('Early stopping is not available in dart mode')\n"
     ]
    },
    {
     "name": "stdout",
     "output_type": "stream",
     "text": [
      "Fold: Tuning: n_train=246009, eval_set=61502\n"
     ]
    },
    {
     "name": "stderr",
     "output_type": "stream",
     "text": [
      "C:\\Users\\Paulius\\AppData\\Local\\pypoetry\\Cache\\virtualenvs\\ppuodz-ml-4-1-dqELbViF-py3.12\\Lib\\site-packages\\lightgbm\\callback.py:325: UserWarning: Early stopping is not available in dart mode\n",
      "  _log_warning('Early stopping is not available in dart mode')\n"
     ]
    },
    {
     "name": "stdout",
     "output_type": "stream",
     "text": [
      "Fold: Tuning: n_train=246009, eval_set=61502\n"
     ]
    },
    {
     "name": "stderr",
     "output_type": "stream",
     "text": [
      "C:\\Users\\Paulius\\AppData\\Local\\pypoetry\\Cache\\virtualenvs\\ppuodz-ml-4-1-dqELbViF-py3.12\\Lib\\site-packages\\lightgbm\\callback.py:325: UserWarning: Early stopping is not available in dart mode\n",
      "  _log_warning('Early stopping is not available in dart mode')\n"
     ]
    },
    {
     "name": "stdout",
     "output_type": "stream",
     "text": [
      "Fold: Tuning: n_train=246009, eval_set=61502\n"
     ]
    },
    {
     "name": "stderr",
     "output_type": "stream",
     "text": [
      "C:\\Users\\Paulius\\AppData\\Local\\pypoetry\\Cache\\virtualenvs\\ppuodz-ml-4-1-dqELbViF-py3.12\\Lib\\site-packages\\lightgbm\\callback.py:325: UserWarning: Early stopping is not available in dart mode\n",
      "  _log_warning('Early stopping is not available in dart mode')\n"
     ]
    },
    {
     "name": "stdout",
     "output_type": "stream",
     "text": [
      "Fold: Tuning: n_train=246009, eval_set=61502\n",
      "Tune: val_score:0.7745, std_test_score:0.00191 train_set_score:0.8295\n",
      "folds val/train: [0.7767, 0.7721, 0.7724, 0.7751, 0.7762] / [0.8308, 0.8277, 0.8299, 0.8302, 0.8288], mean fold time: 42.27\n"
     ]
    },
    {
     "name": "stderr",
     "output_type": "stream",
     "text": [
      "[I 2024-04-30 15:13:05,738] Trial 44 finished with value: 0.7744982103103919 and parameters: {'model__class_weight': 'balanced', 'model__objective': 'binary', 'model__boosting_type': 'dart', 'model__n_estimators': 800, 'model__learning_rate': 0.09999999999999999, 'model__max_depth': 11, 'model__num_leaves': 128, 'model__min_gain_to_split': 6.5, 'model__min_data_in_leaf': 2200, 'model__lambda_l1': 65, 'model__lambda_l2': 55, 'model__bagging_fraction': 0.4, 'model__feature_fraction': 0.8, 'model__max_bin': 175, 'model__drop_rate': 0.2}. Best is trial 30 with value: 0.7753115326000964.\n"
     ]
    },
    {
     "name": "stdout",
     "output_type": "stream",
     "text": [
      "Fold: Tuning: n_train=246008, eval_set=61503\n",
      "Fold: Tuning: n_train=246009, eval_set=61502\n",
      "Fold: Tuning: n_train=246009, eval_set=61502\n",
      "Fold: Tuning: n_train=246009, eval_set=61502\n",
      "Fold: Tuning: n_train=246009, eval_set=61502\n",
      "Tune: val_score:0.7257, std_test_score:0.00113 train_set_score:0.7372\n",
      "folds val/train: [0.7272, 0.7255, 0.7238, 0.7264, 0.7257] / [0.7361, 0.7371, 0.7386, 0.7369, 0.7372], mean fold time: 1.43\n"
     ]
    },
    {
     "name": "stderr",
     "output_type": "stream",
     "text": [
      "[I 2024-04-30 15:13:13,707] Trial 45 finished with value: 0.7257222600803734 and parameters: {'model__class_weight': 'balanced', 'model__objective': 'binary', 'model__boosting_type': 'rf', 'model__n_estimators': 650, 'model__learning_rate': 0.060000000000000005, 'model__max_depth': 10, 'model__num_leaves': 104, 'model__min_gain_to_split': 4.5, 'model__min_data_in_leaf': 2500, 'model__lambda_l1': 30, 'model__lambda_l2': 90, 'model__bagging_fraction': 0.2, 'model__feature_fraction': 0.9000000000000001, 'model__max_bin': 275, 'model__drop_rate': 0.07500000000000001}. Best is trial 30 with value: 0.7753115326000964.\n",
      "C:\\Users\\Paulius\\AppData\\Local\\pypoetry\\Cache\\virtualenvs\\ppuodz-ml-4-1-dqELbViF-py3.12\\Lib\\site-packages\\lightgbm\\callback.py:325: UserWarning: Early stopping is not available in dart mode\n",
      "  _log_warning('Early stopping is not available in dart mode')\n"
     ]
    },
    {
     "name": "stdout",
     "output_type": "stream",
     "text": [
      "Fold: Tuning: n_train=246008, eval_set=61503\n"
     ]
    },
    {
     "name": "stderr",
     "output_type": "stream",
     "text": [
      "C:\\Users\\Paulius\\AppData\\Local\\pypoetry\\Cache\\virtualenvs\\ppuodz-ml-4-1-dqELbViF-py3.12\\Lib\\site-packages\\lightgbm\\callback.py:325: UserWarning: Early stopping is not available in dart mode\n",
      "  _log_warning('Early stopping is not available in dart mode')\n"
     ]
    },
    {
     "name": "stdout",
     "output_type": "stream",
     "text": [
      "Fold: Tuning: n_train=246009, eval_set=61502\n"
     ]
    },
    {
     "name": "stderr",
     "output_type": "stream",
     "text": [
      "C:\\Users\\Paulius\\AppData\\Local\\pypoetry\\Cache\\virtualenvs\\ppuodz-ml-4-1-dqELbViF-py3.12\\Lib\\site-packages\\lightgbm\\callback.py:325: UserWarning: Early stopping is not available in dart mode\n",
      "  _log_warning('Early stopping is not available in dart mode')\n"
     ]
    },
    {
     "name": "stdout",
     "output_type": "stream",
     "text": [
      "Fold: Tuning: n_train=246009, eval_set=61502\n"
     ]
    },
    {
     "name": "stderr",
     "output_type": "stream",
     "text": [
      "C:\\Users\\Paulius\\AppData\\Local\\pypoetry\\Cache\\virtualenvs\\ppuodz-ml-4-1-dqELbViF-py3.12\\Lib\\site-packages\\lightgbm\\callback.py:325: UserWarning: Early stopping is not available in dart mode\n",
      "  _log_warning('Early stopping is not available in dart mode')\n"
     ]
    },
    {
     "name": "stdout",
     "output_type": "stream",
     "text": [
      "Fold: Tuning: n_train=246009, eval_set=61502\n"
     ]
    },
    {
     "name": "stderr",
     "output_type": "stream",
     "text": [
      "C:\\Users\\Paulius\\AppData\\Local\\pypoetry\\Cache\\virtualenvs\\ppuodz-ml-4-1-dqELbViF-py3.12\\Lib\\site-packages\\lightgbm\\callback.py:325: UserWarning: Early stopping is not available in dart mode\n",
      "  _log_warning('Early stopping is not available in dart mode')\n"
     ]
    },
    {
     "name": "stdout",
     "output_type": "stream",
     "text": [
      "Fold: Tuning: n_train=246009, eval_set=61502\n",
      "Tune: val_score:0.7688, std_test_score:0.00178 train_set_score:0.7853\n",
      "folds val/train: [0.7693, 0.7664, 0.7687, 0.768, 0.7719] / [0.7844, 0.7861, 0.7861, 0.785, 0.7849], mean fold time: 24.21\n"
     ]
    },
    {
     "name": "stderr",
     "output_type": "stream",
     "text": [
      "[I 2024-04-30 15:15:15,565] Trial 46 finished with value: 0.7688409152353183 and parameters: {'model__class_weight': None, 'model__objective': 'binary', 'model__boosting_type': 'dart', 'model__n_estimators': 900, 'model__learning_rate': 0.25, 'model__max_depth': 11, 'model__num_leaves': 80, 'model__min_gain_to_split': 7.5, 'model__min_data_in_leaf': 2700, 'model__lambda_l1': 35, 'model__lambda_l2': 65, 'model__bagging_fraction': 0.30000000000000004, 'model__feature_fraction': 0.7, 'model__max_bin': 150, 'model__drop_rate': 0.275}. Best is trial 30 with value: 0.7753115326000964.\n",
      "C:\\Users\\Paulius\\AppData\\Local\\pypoetry\\Cache\\virtualenvs\\ppuodz-ml-4-1-dqELbViF-py3.12\\Lib\\site-packages\\lightgbm\\callback.py:325: UserWarning: Early stopping is not available in dart mode\n",
      "  _log_warning('Early stopping is not available in dart mode')\n"
     ]
    },
    {
     "name": "stdout",
     "output_type": "stream",
     "text": [
      "Fold: Tuning: n_train=246008, eval_set=61503\n"
     ]
    },
    {
     "name": "stderr",
     "output_type": "stream",
     "text": [
      "C:\\Users\\Paulius\\AppData\\Local\\pypoetry\\Cache\\virtualenvs\\ppuodz-ml-4-1-dqELbViF-py3.12\\Lib\\site-packages\\lightgbm\\callback.py:325: UserWarning: Early stopping is not available in dart mode\n",
      "  _log_warning('Early stopping is not available in dart mode')\n"
     ]
    },
    {
     "name": "stdout",
     "output_type": "stream",
     "text": [
      "Fold: Tuning: n_train=246009, eval_set=61502\n"
     ]
    },
    {
     "name": "stderr",
     "output_type": "stream",
     "text": [
      "C:\\Users\\Paulius\\AppData\\Local\\pypoetry\\Cache\\virtualenvs\\ppuodz-ml-4-1-dqELbViF-py3.12\\Lib\\site-packages\\lightgbm\\callback.py:325: UserWarning: Early stopping is not available in dart mode\n",
      "  _log_warning('Early stopping is not available in dart mode')\n"
     ]
    },
    {
     "name": "stdout",
     "output_type": "stream",
     "text": [
      "Fold: Tuning: n_train=246009, eval_set=61502\n"
     ]
    },
    {
     "name": "stderr",
     "output_type": "stream",
     "text": [
      "C:\\Users\\Paulius\\AppData\\Local\\pypoetry\\Cache\\virtualenvs\\ppuodz-ml-4-1-dqELbViF-py3.12\\Lib\\site-packages\\lightgbm\\callback.py:325: UserWarning: Early stopping is not available in dart mode\n",
      "  _log_warning('Early stopping is not available in dart mode')\n"
     ]
    },
    {
     "name": "stdout",
     "output_type": "stream",
     "text": [
      "Fold: Tuning: n_train=246009, eval_set=61502\n"
     ]
    },
    {
     "name": "stderr",
     "output_type": "stream",
     "text": [
      "C:\\Users\\Paulius\\AppData\\Local\\pypoetry\\Cache\\virtualenvs\\ppuodz-ml-4-1-dqELbViF-py3.12\\Lib\\site-packages\\lightgbm\\callback.py:325: UserWarning: Early stopping is not available in dart mode\n",
      "  _log_warning('Early stopping is not available in dart mode')\n"
     ]
    },
    {
     "name": "stdout",
     "output_type": "stream",
     "text": [
      "Fold: Tuning: n_train=246009, eval_set=61502\n",
      "Tune: val_score:0.7724, std_test_score:0.00087 train_set_score:0.8930\n",
      "folds val/train: [0.7736, 0.771, 0.7721, 0.7728, 0.7726] / [0.8932, 0.8926, 0.8927, 0.8945, 0.8922], mean fold time: 31.05\n"
     ]
    },
    {
     "name": "stderr",
     "output_type": "stream",
     "text": [
      "[I 2024-04-30 15:17:51,606] Trial 47 finished with value: 0.7724475816250334 and parameters: {'model__class_weight': 'balanced', 'model__objective': 'binary', 'model__boosting_type': 'dart', 'model__n_estimators': 600, 'model__learning_rate': 0.29000000000000004, 'model__max_depth': 9, 'model__num_leaves': 96, 'model__min_gain_to_split': 1.5, 'model__min_data_in_leaf': 1600, 'model__lambda_l1': 45, 'model__lambda_l2': 60, 'model__bagging_fraction': 0.2, 'model__feature_fraction': 0.6000000000000001, 'model__max_bin': 300, 'model__drop_rate': 0.15000000000000002}. Best is trial 30 with value: 0.7753115326000964.\n",
      "C:\\Users\\Paulius\\AppData\\Local\\pypoetry\\Cache\\virtualenvs\\ppuodz-ml-4-1-dqELbViF-py3.12\\Lib\\site-packages\\lightgbm\\callback.py:325: UserWarning: Early stopping is not available in dart mode\n",
      "  _log_warning('Early stopping is not available in dart mode')\n"
     ]
    },
    {
     "name": "stdout",
     "output_type": "stream",
     "text": [
      "Fold: Tuning: n_train=246008, eval_set=61503\n"
     ]
    },
    {
     "name": "stderr",
     "output_type": "stream",
     "text": [
      "C:\\Users\\Paulius\\AppData\\Local\\pypoetry\\Cache\\virtualenvs\\ppuodz-ml-4-1-dqELbViF-py3.12\\Lib\\site-packages\\lightgbm\\callback.py:325: UserWarning: Early stopping is not available in dart mode\n",
      "  _log_warning('Early stopping is not available in dart mode')\n"
     ]
    },
    {
     "name": "stdout",
     "output_type": "stream",
     "text": [
      "Fold: Tuning: n_train=246009, eval_set=61502\n"
     ]
    },
    {
     "name": "stderr",
     "output_type": "stream",
     "text": [
      "C:\\Users\\Paulius\\AppData\\Local\\pypoetry\\Cache\\virtualenvs\\ppuodz-ml-4-1-dqELbViF-py3.12\\Lib\\site-packages\\lightgbm\\callback.py:325: UserWarning: Early stopping is not available in dart mode\n",
      "  _log_warning('Early stopping is not available in dart mode')\n"
     ]
    },
    {
     "name": "stdout",
     "output_type": "stream",
     "text": [
      "Fold: Tuning: n_train=246009, eval_set=61502\n"
     ]
    },
    {
     "name": "stderr",
     "output_type": "stream",
     "text": [
      "C:\\Users\\Paulius\\AppData\\Local\\pypoetry\\Cache\\virtualenvs\\ppuodz-ml-4-1-dqELbViF-py3.12\\Lib\\site-packages\\lightgbm\\callback.py:325: UserWarning: Early stopping is not available in dart mode\n",
      "  _log_warning('Early stopping is not available in dart mode')\n"
     ]
    },
    {
     "name": "stdout",
     "output_type": "stream",
     "text": [
      "Fold: Tuning: n_train=246009, eval_set=61502\n"
     ]
    },
    {
     "name": "stderr",
     "output_type": "stream",
     "text": [
      "C:\\Users\\Paulius\\AppData\\Local\\pypoetry\\Cache\\virtualenvs\\ppuodz-ml-4-1-dqELbViF-py3.12\\Lib\\site-packages\\lightgbm\\callback.py:325: UserWarning: Early stopping is not available in dart mode\n",
      "  _log_warning('Early stopping is not available in dart mode')\n"
     ]
    },
    {
     "name": "stdout",
     "output_type": "stream",
     "text": [
      "Fold: Tuning: n_train=246009, eval_set=61502\n",
      "Tune: val_score:0.7757, std_test_score:0.00143 train_set_score:0.8445\n",
      "folds val/train: [0.7777, 0.7738, 0.7745, 0.776, 0.7766] / [0.845, 0.8431, 0.8453, 0.8455, 0.8438], mean fold time: 12.68\n"
     ]
    },
    {
     "name": "stderr",
     "output_type": "stream",
     "text": [
      "[I 2024-04-30 15:18:55,783] Trial 48 finished with value: 0.7757164745074661 and parameters: {'model__class_weight': 'balanced', 'model__objective': 'binary', 'model__boosting_type': 'dart', 'model__n_estimators': 700, 'model__learning_rate': 0.15000000000000002, 'model__max_depth': 10, 'model__num_leaves': 152, 'model__min_gain_to_split': 3.5, 'model__min_data_in_leaf': 2300, 'model__lambda_l1': 65, 'model__lambda_l2': 75, 'model__bagging_fraction': 0.30000000000000004, 'model__feature_fraction': 0.7, 'model__max_bin': 225, 'model__drop_rate': 0.025}. Best is trial 48 with value: 0.7757164745074661.\n"
     ]
    },
    {
     "name": "stdout",
     "output_type": "stream",
     "text": [
      "Fold: Tuning: n_train=246008, eval_set=61503\n",
      "Fold: Tuning: n_train=246009, eval_set=61502\n",
      "Fold: Tuning: n_train=246009, eval_set=61502\n",
      "Fold: Tuning: n_train=246009, eval_set=61502\n",
      "Fold: Tuning: n_train=246009, eval_set=61502\n",
      "Tune: val_score:0.7285, std_test_score:0.00233 train_set_score:0.7397\n",
      "folds val/train: [0.7317, 0.7282, 0.7272, 0.7302, 0.725] / [0.7398, 0.7388, 0.7411, 0.7393, 0.7397], mean fold time: 1.31\n"
     ]
    },
    {
     "name": "stderr",
     "output_type": "stream",
     "text": [
      "[I 2024-04-30 15:19:03,150] Trial 49 finished with value: 0.728468804419493 and parameters: {'model__class_weight': 'balanced', 'model__objective': 'binary', 'model__boosting_type': 'rf', 'model__n_estimators': 700, 'model__learning_rate': 0.14, 'model__max_depth': 10, 'model__num_leaves': 120, 'model__min_gain_to_split': 3.0, 'model__min_data_in_leaf': 2000, 'model__lambda_l1': 105, 'model__lambda_l2': 50, 'model__bagging_fraction': 0.4, 'model__feature_fraction': 0.8, 'model__max_bin': 225, 'model__drop_rate': 0.0}. Best is trial 48 with value: 0.7757164745074661.\n",
      "C:\\Users\\Paulius\\AppData\\Local\\pypoetry\\Cache\\virtualenvs\\ppuodz-ml-4-1-dqELbViF-py3.12\\Lib\\site-packages\\lightgbm\\callback.py:325: UserWarning: Early stopping is not available in dart mode\n",
      "  _log_warning('Early stopping is not available in dart mode')\n"
     ]
    },
    {
     "name": "stdout",
     "output_type": "stream",
     "text": [
      "Fold: Tuning: n_train=246008, eval_set=61503\n"
     ]
    },
    {
     "name": "stderr",
     "output_type": "stream",
     "text": [
      "C:\\Users\\Paulius\\AppData\\Local\\pypoetry\\Cache\\virtualenvs\\ppuodz-ml-4-1-dqELbViF-py3.12\\Lib\\site-packages\\lightgbm\\callback.py:325: UserWarning: Early stopping is not available in dart mode\n",
      "  _log_warning('Early stopping is not available in dart mode')\n"
     ]
    },
    {
     "name": "stdout",
     "output_type": "stream",
     "text": [
      "Fold: Tuning: n_train=246009, eval_set=61502\n"
     ]
    },
    {
     "name": "stderr",
     "output_type": "stream",
     "text": [
      "C:\\Users\\Paulius\\AppData\\Local\\pypoetry\\Cache\\virtualenvs\\ppuodz-ml-4-1-dqELbViF-py3.12\\Lib\\site-packages\\lightgbm\\callback.py:325: UserWarning: Early stopping is not available in dart mode\n",
      "  _log_warning('Early stopping is not available in dart mode')\n"
     ]
    },
    {
     "name": "stdout",
     "output_type": "stream",
     "text": [
      "Fold: Tuning: n_train=246009, eval_set=61502\n"
     ]
    },
    {
     "name": "stderr",
     "output_type": "stream",
     "text": [
      "C:\\Users\\Paulius\\AppData\\Local\\pypoetry\\Cache\\virtualenvs\\ppuodz-ml-4-1-dqELbViF-py3.12\\Lib\\site-packages\\lightgbm\\callback.py:325: UserWarning: Early stopping is not available in dart mode\n",
      "  _log_warning('Early stopping is not available in dart mode')\n"
     ]
    },
    {
     "name": "stdout",
     "output_type": "stream",
     "text": [
      "Fold: Tuning: n_train=246009, eval_set=61502\n"
     ]
    },
    {
     "name": "stderr",
     "output_type": "stream",
     "text": [
      "C:\\Users\\Paulius\\AppData\\Local\\pypoetry\\Cache\\virtualenvs\\ppuodz-ml-4-1-dqELbViF-py3.12\\Lib\\site-packages\\lightgbm\\callback.py:325: UserWarning: Early stopping is not available in dart mode\n",
      "  _log_warning('Early stopping is not available in dart mode')\n"
     ]
    },
    {
     "name": "stdout",
     "output_type": "stream",
     "text": [
      "Fold: Tuning: n_train=246009, eval_set=61502\n",
      "Tune: val_score:0.7738, std_test_score:0.00124 train_set_score:0.8446\n",
      "folds val/train: [0.7754, 0.7723, 0.7725, 0.7741, 0.7748] / [0.8454, 0.8432, 0.8451, 0.8457, 0.8436], mean fold time: 33.21\n"
     ]
    },
    {
     "name": "stderr",
     "output_type": "stream",
     "text": [
      "[I 2024-04-30 15:21:49,990] Trial 50 finished with value: 0.773824418539814 and parameters: {'model__class_weight': 'balanced', 'model__objective': 'binary', 'model__boosting_type': 'dart', 'model__n_estimators': 600, 'model__learning_rate': 0.16, 'model__max_depth': 9, 'model__num_leaves': 72, 'model__min_gain_to_split': 3.5, 'model__min_data_in_leaf': 1300, 'model__lambda_l1': 65, 'model__lambda_l2': 75, 'model__bagging_fraction': 0.2, 'model__feature_fraction': 0.5, 'model__max_bin': 250, 'model__drop_rate': 0.55}. Best is trial 48 with value: 0.7757164745074661.\n",
      "C:\\Users\\Paulius\\AppData\\Local\\pypoetry\\Cache\\virtualenvs\\ppuodz-ml-4-1-dqELbViF-py3.12\\Lib\\site-packages\\lightgbm\\callback.py:325: UserWarning: Early stopping is not available in dart mode\n",
      "  _log_warning('Early stopping is not available in dart mode')\n"
     ]
    },
    {
     "name": "stdout",
     "output_type": "stream",
     "text": [
      "Fold: Tuning: n_train=246008, eval_set=61503\n"
     ]
    },
    {
     "name": "stderr",
     "output_type": "stream",
     "text": [
      "C:\\Users\\Paulius\\AppData\\Local\\pypoetry\\Cache\\virtualenvs\\ppuodz-ml-4-1-dqELbViF-py3.12\\Lib\\site-packages\\lightgbm\\callback.py:325: UserWarning: Early stopping is not available in dart mode\n",
      "  _log_warning('Early stopping is not available in dart mode')\n"
     ]
    },
    {
     "name": "stdout",
     "output_type": "stream",
     "text": [
      "Fold: Tuning: n_train=246009, eval_set=61502\n"
     ]
    },
    {
     "name": "stderr",
     "output_type": "stream",
     "text": [
      "C:\\Users\\Paulius\\AppData\\Local\\pypoetry\\Cache\\virtualenvs\\ppuodz-ml-4-1-dqELbViF-py3.12\\Lib\\site-packages\\lightgbm\\callback.py:325: UserWarning: Early stopping is not available in dart mode\n",
      "  _log_warning('Early stopping is not available in dart mode')\n"
     ]
    },
    {
     "name": "stdout",
     "output_type": "stream",
     "text": [
      "Fold: Tuning: n_train=246009, eval_set=61502\n"
     ]
    },
    {
     "name": "stderr",
     "output_type": "stream",
     "text": [
      "C:\\Users\\Paulius\\AppData\\Local\\pypoetry\\Cache\\virtualenvs\\ppuodz-ml-4-1-dqELbViF-py3.12\\Lib\\site-packages\\lightgbm\\callback.py:325: UserWarning: Early stopping is not available in dart mode\n",
      "  _log_warning('Early stopping is not available in dart mode')\n"
     ]
    },
    {
     "name": "stdout",
     "output_type": "stream",
     "text": [
      "Fold: Tuning: n_train=246009, eval_set=61502\n"
     ]
    },
    {
     "name": "stderr",
     "output_type": "stream",
     "text": [
      "C:\\Users\\Paulius\\AppData\\Local\\pypoetry\\Cache\\virtualenvs\\ppuodz-ml-4-1-dqELbViF-py3.12\\Lib\\site-packages\\lightgbm\\callback.py:325: UserWarning: Early stopping is not available in dart mode\n",
      "  _log_warning('Early stopping is not available in dart mode')\n"
     ]
    },
    {
     "name": "stdout",
     "output_type": "stream",
     "text": [
      "Fold: Tuning: n_train=246009, eval_set=61502\n",
      "Tune: val_score:0.7755, std_test_score:0.00155 train_set_score:0.8350\n",
      "folds val/train: [0.7773, 0.7745, 0.773, 0.7762, 0.7764] / [0.8361, 0.8344, 0.8352, 0.8355, 0.8338], mean fold time: 15.63\n"
     ]
    },
    {
     "name": "stderr",
     "output_type": "stream",
     "text": [
      "[I 2024-04-30 15:23:08,949] Trial 51 finished with value: 0.7754731351684023 and parameters: {'model__class_weight': 'balanced', 'model__objective': 'binary', 'model__boosting_type': 'dart', 'model__n_estimators': 750, 'model__learning_rate': 0.27, 'model__max_depth': 11, 'model__num_leaves': 152, 'model__min_gain_to_split': 5.0, 'model__min_data_in_leaf': 2300, 'model__lambda_l1': 55, 'model__lambda_l2': 80, 'model__bagging_fraction': 0.30000000000000004, 'model__feature_fraction': 0.7, 'model__max_bin': 200, 'model__drop_rate': 0.05}. Best is trial 48 with value: 0.7757164745074661.\n",
      "C:\\Users\\Paulius\\AppData\\Local\\pypoetry\\Cache\\virtualenvs\\ppuodz-ml-4-1-dqELbViF-py3.12\\Lib\\site-packages\\lightgbm\\callback.py:325: UserWarning: Early stopping is not available in dart mode\n",
      "  _log_warning('Early stopping is not available in dart mode')\n"
     ]
    },
    {
     "name": "stdout",
     "output_type": "stream",
     "text": [
      "Fold: Tuning: n_train=246008, eval_set=61503\n"
     ]
    },
    {
     "name": "stderr",
     "output_type": "stream",
     "text": [
      "C:\\Users\\Paulius\\AppData\\Local\\pypoetry\\Cache\\virtualenvs\\ppuodz-ml-4-1-dqELbViF-py3.12\\Lib\\site-packages\\lightgbm\\callback.py:325: UserWarning: Early stopping is not available in dart mode\n",
      "  _log_warning('Early stopping is not available in dart mode')\n"
     ]
    },
    {
     "name": "stdout",
     "output_type": "stream",
     "text": [
      "Fold: Tuning: n_train=246009, eval_set=61502\n"
     ]
    },
    {
     "name": "stderr",
     "output_type": "stream",
     "text": [
      "C:\\Users\\Paulius\\AppData\\Local\\pypoetry\\Cache\\virtualenvs\\ppuodz-ml-4-1-dqELbViF-py3.12\\Lib\\site-packages\\lightgbm\\callback.py:325: UserWarning: Early stopping is not available in dart mode\n",
      "  _log_warning('Early stopping is not available in dart mode')\n"
     ]
    },
    {
     "name": "stdout",
     "output_type": "stream",
     "text": [
      "Fold: Tuning: n_train=246009, eval_set=61502\n"
     ]
    },
    {
     "name": "stderr",
     "output_type": "stream",
     "text": [
      "C:\\Users\\Paulius\\AppData\\Local\\pypoetry\\Cache\\virtualenvs\\ppuodz-ml-4-1-dqELbViF-py3.12\\Lib\\site-packages\\lightgbm\\callback.py:325: UserWarning: Early stopping is not available in dart mode\n",
      "  _log_warning('Early stopping is not available in dart mode')\n"
     ]
    },
    {
     "name": "stdout",
     "output_type": "stream",
     "text": [
      "Fold: Tuning: n_train=246009, eval_set=61502\n"
     ]
    },
    {
     "name": "stderr",
     "output_type": "stream",
     "text": [
      "C:\\Users\\Paulius\\AppData\\Local\\pypoetry\\Cache\\virtualenvs\\ppuodz-ml-4-1-dqELbViF-py3.12\\Lib\\site-packages\\lightgbm\\callback.py:325: UserWarning: Early stopping is not available in dart mode\n",
      "  _log_warning('Early stopping is not available in dart mode')\n"
     ]
    },
    {
     "name": "stdout",
     "output_type": "stream",
     "text": [
      "Fold: Tuning: n_train=246009, eval_set=61502\n",
      "Tune: val_score:0.7753, std_test_score:0.00161 train_set_score:0.8274\n",
      "folds val/train: [0.7776, 0.7739, 0.7731, 0.7754, 0.7764] / [0.8272, 0.8268, 0.8275, 0.8285, 0.8268], mean fold time: 15.11\n"
     ]
    },
    {
     "name": "stderr",
     "output_type": "stream",
     "text": [
      "[I 2024-04-30 15:24:25,262] Trial 52 finished with value: 0.7753062983005823 and parameters: {'model__class_weight': 'balanced', 'model__objective': 'binary', 'model__boosting_type': 'dart', 'model__n_estimators': 750, 'model__learning_rate': 0.27, 'model__max_depth': 11, 'model__num_leaves': 160, 'model__min_gain_to_split': 6.0, 'model__min_data_in_leaf': 2200, 'model__lambda_l1': 55, 'model__lambda_l2': 70, 'model__bagging_fraction': 0.30000000000000004, 'model__feature_fraction': 0.6000000000000001, 'model__max_bin': 200, 'model__drop_rate': 0.05}. Best is trial 48 with value: 0.7757164745074661.\n",
      "C:\\Users\\Paulius\\AppData\\Local\\pypoetry\\Cache\\virtualenvs\\ppuodz-ml-4-1-dqELbViF-py3.12\\Lib\\site-packages\\lightgbm\\callback.py:325: UserWarning: Early stopping is not available in dart mode\n",
      "  _log_warning('Early stopping is not available in dart mode')\n"
     ]
    },
    {
     "name": "stdout",
     "output_type": "stream",
     "text": [
      "Fold: Tuning: n_train=246008, eval_set=61503\n"
     ]
    },
    {
     "name": "stderr",
     "output_type": "stream",
     "text": [
      "C:\\Users\\Paulius\\AppData\\Local\\pypoetry\\Cache\\virtualenvs\\ppuodz-ml-4-1-dqELbViF-py3.12\\Lib\\site-packages\\lightgbm\\callback.py:325: UserWarning: Early stopping is not available in dart mode\n",
      "  _log_warning('Early stopping is not available in dart mode')\n"
     ]
    },
    {
     "name": "stdout",
     "output_type": "stream",
     "text": [
      "Fold: Tuning: n_train=246009, eval_set=61502\n"
     ]
    },
    {
     "name": "stderr",
     "output_type": "stream",
     "text": [
      "C:\\Users\\Paulius\\AppData\\Local\\pypoetry\\Cache\\virtualenvs\\ppuodz-ml-4-1-dqELbViF-py3.12\\Lib\\site-packages\\lightgbm\\callback.py:325: UserWarning: Early stopping is not available in dart mode\n",
      "  _log_warning('Early stopping is not available in dart mode')\n"
     ]
    },
    {
     "name": "stdout",
     "output_type": "stream",
     "text": [
      "Fold: Tuning: n_train=246009, eval_set=61502\n"
     ]
    },
    {
     "name": "stderr",
     "output_type": "stream",
     "text": [
      "C:\\Users\\Paulius\\AppData\\Local\\pypoetry\\Cache\\virtualenvs\\ppuodz-ml-4-1-dqELbViF-py3.12\\Lib\\site-packages\\lightgbm\\callback.py:325: UserWarning: Early stopping is not available in dart mode\n",
      "  _log_warning('Early stopping is not available in dart mode')\n"
     ]
    },
    {
     "name": "stdout",
     "output_type": "stream",
     "text": [
      "Fold: Tuning: n_train=246009, eval_set=61502\n"
     ]
    },
    {
     "name": "stderr",
     "output_type": "stream",
     "text": [
      "C:\\Users\\Paulius\\AppData\\Local\\pypoetry\\Cache\\virtualenvs\\ppuodz-ml-4-1-dqELbViF-py3.12\\Lib\\site-packages\\lightgbm\\callback.py:325: UserWarning: Early stopping is not available in dart mode\n",
      "  _log_warning('Early stopping is not available in dart mode')\n"
     ]
    },
    {
     "name": "stdout",
     "output_type": "stream",
     "text": [
      "Fold: Tuning: n_train=246009, eval_set=61502\n",
      "Tune: val_score:0.7754, std_test_score:0.00146 train_set_score:0.8263\n",
      "folds val/train: [0.7777, 0.7737, 0.774, 0.7751, 0.7763] / [0.8273, 0.8249, 0.8264, 0.8274, 0.8255], mean fold time: 16.15\n"
     ]
    },
    {
     "name": "stderr",
     "output_type": "stream",
     "text": [
      "[I 2024-04-30 15:25:46,823] Trial 53 finished with value: 0.7753566828181653 and parameters: {'model__class_weight': 'balanced', 'model__objective': 'binary', 'model__boosting_type': 'dart', 'model__n_estimators': 750, 'model__learning_rate': 0.24000000000000002, 'model__max_depth': 10, 'model__num_leaves': 160, 'model__min_gain_to_split': 5.0, 'model__min_data_in_leaf': 2200, 'model__lambda_l1': 70, 'model__lambda_l2': 70, 'model__bagging_fraction': 0.30000000000000004, 'model__feature_fraction': 0.6000000000000001, 'model__max_bin': 225, 'model__drop_rate': 0.05}. Best is trial 48 with value: 0.7757164745074661.\n",
      "C:\\Users\\Paulius\\AppData\\Local\\pypoetry\\Cache\\virtualenvs\\ppuodz-ml-4-1-dqELbViF-py3.12\\Lib\\site-packages\\lightgbm\\callback.py:325: UserWarning: Early stopping is not available in dart mode\n",
      "  _log_warning('Early stopping is not available in dart mode')\n"
     ]
    },
    {
     "name": "stdout",
     "output_type": "stream",
     "text": [
      "Fold: Tuning: n_train=246008, eval_set=61503\n"
     ]
    },
    {
     "name": "stderr",
     "output_type": "stream",
     "text": [
      "C:\\Users\\Paulius\\AppData\\Local\\pypoetry\\Cache\\virtualenvs\\ppuodz-ml-4-1-dqELbViF-py3.12\\Lib\\site-packages\\lightgbm\\callback.py:325: UserWarning: Early stopping is not available in dart mode\n",
      "  _log_warning('Early stopping is not available in dart mode')\n"
     ]
    },
    {
     "name": "stdout",
     "output_type": "stream",
     "text": [
      "Fold: Tuning: n_train=246009, eval_set=61502\n"
     ]
    },
    {
     "name": "stderr",
     "output_type": "stream",
     "text": [
      "C:\\Users\\Paulius\\AppData\\Local\\pypoetry\\Cache\\virtualenvs\\ppuodz-ml-4-1-dqELbViF-py3.12\\Lib\\site-packages\\lightgbm\\callback.py:325: UserWarning: Early stopping is not available in dart mode\n",
      "  _log_warning('Early stopping is not available in dart mode')\n"
     ]
    },
    {
     "name": "stdout",
     "output_type": "stream",
     "text": [
      "Fold: Tuning: n_train=246009, eval_set=61502\n"
     ]
    },
    {
     "name": "stderr",
     "output_type": "stream",
     "text": [
      "C:\\Users\\Paulius\\AppData\\Local\\pypoetry\\Cache\\virtualenvs\\ppuodz-ml-4-1-dqELbViF-py3.12\\Lib\\site-packages\\lightgbm\\callback.py:325: UserWarning: Early stopping is not available in dart mode\n",
      "  _log_warning('Early stopping is not available in dart mode')\n"
     ]
    },
    {
     "name": "stdout",
     "output_type": "stream",
     "text": [
      "Fold: Tuning: n_train=246009, eval_set=61502\n"
     ]
    },
    {
     "name": "stderr",
     "output_type": "stream",
     "text": [
      "C:\\Users\\Paulius\\AppData\\Local\\pypoetry\\Cache\\virtualenvs\\ppuodz-ml-4-1-dqELbViF-py3.12\\Lib\\site-packages\\lightgbm\\callback.py:325: UserWarning: Early stopping is not available in dart mode\n",
      "  _log_warning('Early stopping is not available in dart mode')\n"
     ]
    },
    {
     "name": "stdout",
     "output_type": "stream",
     "text": [
      "Fold: Tuning: n_train=246009, eval_set=61502\n",
      "Tune: val_score:0.7750, std_test_score:0.00138 train_set_score:0.8251\n",
      "folds val/train: [0.777, 0.7732, 0.7738, 0.7754, 0.7757] / [0.8257, 0.824, 0.8251, 0.8257, 0.8249], mean fold time: 16.04\n"
     ]
    },
    {
     "name": "stderr",
     "output_type": "stream",
     "text": [
      "[I 2024-04-30 15:27:07,820] Trial 54 finished with value: 0.7750219450606673 and parameters: {'model__class_weight': 'balanced', 'model__objective': 'binary', 'model__boosting_type': 'dart', 'model__n_estimators': 750, 'model__learning_rate': 0.24000000000000002, 'model__max_depth': 11, 'model__num_leaves': 168, 'model__min_gain_to_split': 5.0, 'model__min_data_in_leaf': 2100, 'model__lambda_l1': 75, 'model__lambda_l2': 75, 'model__bagging_fraction': 0.4, 'model__feature_fraction': 0.6000000000000001, 'model__max_bin': 225, 'model__drop_rate': 0.05}. Best is trial 48 with value: 0.7757164745074661.\n",
      "C:\\Users\\Paulius\\AppData\\Local\\pypoetry\\Cache\\virtualenvs\\ppuodz-ml-4-1-dqELbViF-py3.12\\Lib\\site-packages\\lightgbm\\callback.py:325: UserWarning: Early stopping is not available in dart mode\n",
      "  _log_warning('Early stopping is not available in dart mode')\n"
     ]
    },
    {
     "name": "stdout",
     "output_type": "stream",
     "text": [
      "Fold: Tuning: n_train=246008, eval_set=61503\n"
     ]
    },
    {
     "name": "stderr",
     "output_type": "stream",
     "text": [
      "C:\\Users\\Paulius\\AppData\\Local\\pypoetry\\Cache\\virtualenvs\\ppuodz-ml-4-1-dqELbViF-py3.12\\Lib\\site-packages\\lightgbm\\callback.py:325: UserWarning: Early stopping is not available in dart mode\n",
      "  _log_warning('Early stopping is not available in dart mode')\n"
     ]
    },
    {
     "name": "stdout",
     "output_type": "stream",
     "text": [
      "Fold: Tuning: n_train=246009, eval_set=61502\n"
     ]
    },
    {
     "name": "stderr",
     "output_type": "stream",
     "text": [
      "C:\\Users\\Paulius\\AppData\\Local\\pypoetry\\Cache\\virtualenvs\\ppuodz-ml-4-1-dqELbViF-py3.12\\Lib\\site-packages\\lightgbm\\callback.py:325: UserWarning: Early stopping is not available in dart mode\n",
      "  _log_warning('Early stopping is not available in dart mode')\n"
     ]
    },
    {
     "name": "stdout",
     "output_type": "stream",
     "text": [
      "Fold: Tuning: n_train=246009, eval_set=61502\n"
     ]
    },
    {
     "name": "stderr",
     "output_type": "stream",
     "text": [
      "C:\\Users\\Paulius\\AppData\\Local\\pypoetry\\Cache\\virtualenvs\\ppuodz-ml-4-1-dqELbViF-py3.12\\Lib\\site-packages\\lightgbm\\callback.py:325: UserWarning: Early stopping is not available in dart mode\n",
      "  _log_warning('Early stopping is not available in dart mode')\n"
     ]
    },
    {
     "name": "stdout",
     "output_type": "stream",
     "text": [
      "Fold: Tuning: n_train=246009, eval_set=61502\n"
     ]
    },
    {
     "name": "stderr",
     "output_type": "stream",
     "text": [
      "C:\\Users\\Paulius\\AppData\\Local\\pypoetry\\Cache\\virtualenvs\\ppuodz-ml-4-1-dqELbViF-py3.12\\Lib\\site-packages\\lightgbm\\callback.py:325: UserWarning: Early stopping is not available in dart mode\n",
      "  _log_warning('Early stopping is not available in dart mode')\n"
     ]
    },
    {
     "name": "stdout",
     "output_type": "stream",
     "text": [
      "Fold: Tuning: n_train=246009, eval_set=61502\n",
      "Tune: val_score:0.7695, std_test_score:0.00166 train_set_score:0.8189\n",
      "folds val/train: [0.7712, 0.767, 0.7683, 0.7701, 0.7712] / [0.8193, 0.8191, 0.8184, 0.8186, 0.8193], mean fold time: 4.07\n"
     ]
    },
    {
     "name": "stderr",
     "output_type": "stream",
     "text": [
      "[I 2024-04-30 15:27:29,006] Trial 55 finished with value: 0.7695424693808656 and parameters: {'model__class_weight': 'balanced', 'model__objective': 'binary', 'model__boosting_type': 'dart', 'model__n_estimators': 750, 'model__learning_rate': 0.21000000000000002, 'model__max_depth': 10, 'model__num_leaves': 184, 'model__min_gain_to_split': 5.0, 'model__min_data_in_leaf': 1900, 'model__lambda_l1': 70, 'model__lambda_l2': 70, 'model__bagging_fraction': 0.30000000000000004, 'model__feature_fraction': 0.6000000000000001, 'model__max_bin': 200, 'model__drop_rate': 0.0}. Best is trial 48 with value: 0.7757164745074661.\n",
      "C:\\Users\\Paulius\\AppData\\Local\\pypoetry\\Cache\\virtualenvs\\ppuodz-ml-4-1-dqELbViF-py3.12\\Lib\\site-packages\\lightgbm\\callback.py:325: UserWarning: Early stopping is not available in dart mode\n",
      "  _log_warning('Early stopping is not available in dart mode')\n"
     ]
    },
    {
     "name": "stdout",
     "output_type": "stream",
     "text": [
      "Fold: Tuning: n_train=246008, eval_set=61503\n"
     ]
    },
    {
     "name": "stderr",
     "output_type": "stream",
     "text": [
      "C:\\Users\\Paulius\\AppData\\Local\\pypoetry\\Cache\\virtualenvs\\ppuodz-ml-4-1-dqELbViF-py3.12\\Lib\\site-packages\\lightgbm\\callback.py:325: UserWarning: Early stopping is not available in dart mode\n",
      "  _log_warning('Early stopping is not available in dart mode')\n"
     ]
    },
    {
     "name": "stdout",
     "output_type": "stream",
     "text": [
      "Fold: Tuning: n_train=246009, eval_set=61502\n"
     ]
    },
    {
     "name": "stderr",
     "output_type": "stream",
     "text": [
      "C:\\Users\\Paulius\\AppData\\Local\\pypoetry\\Cache\\virtualenvs\\ppuodz-ml-4-1-dqELbViF-py3.12\\Lib\\site-packages\\lightgbm\\callback.py:325: UserWarning: Early stopping is not available in dart mode\n",
      "  _log_warning('Early stopping is not available in dart mode')\n"
     ]
    },
    {
     "name": "stdout",
     "output_type": "stream",
     "text": [
      "Fold: Tuning: n_train=246009, eval_set=61502\n"
     ]
    },
    {
     "name": "stderr",
     "output_type": "stream",
     "text": [
      "C:\\Users\\Paulius\\AppData\\Local\\pypoetry\\Cache\\virtualenvs\\ppuodz-ml-4-1-dqELbViF-py3.12\\Lib\\site-packages\\lightgbm\\callback.py:325: UserWarning: Early stopping is not available in dart mode\n",
      "  _log_warning('Early stopping is not available in dart mode')\n"
     ]
    },
    {
     "name": "stdout",
     "output_type": "stream",
     "text": [
      "Fold: Tuning: n_train=246009, eval_set=61502\n"
     ]
    },
    {
     "name": "stderr",
     "output_type": "stream",
     "text": [
      "C:\\Users\\Paulius\\AppData\\Local\\pypoetry\\Cache\\virtualenvs\\ppuodz-ml-4-1-dqELbViF-py3.12\\Lib\\site-packages\\lightgbm\\callback.py:325: UserWarning: Early stopping is not available in dart mode\n",
      "  _log_warning('Early stopping is not available in dart mode')\n"
     ]
    },
    {
     "name": "stdout",
     "output_type": "stream",
     "text": [
      "Fold: Tuning: n_train=246009, eval_set=61502\n",
      "Tune: val_score:0.7507, std_test_score:0.02849 train_set_score:0.7659\n",
      "folds val/train: [0.697, 0.7461, 0.769, 0.7685, 0.773] / [0.703, 0.7608, 0.789, 0.7877, 0.7888], mean fold time: 13.14\n"
     ]
    },
    {
     "name": "stderr",
     "output_type": "stream",
     "text": [
      "[I 2024-04-30 15:28:35,477] Trial 56 finished with value: 0.7507049422160132 and parameters: {'model__class_weight': None, 'model__objective': 'binary', 'model__boosting_type': 'dart', 'model__n_estimators': 950, 'model__learning_rate': 0.23, 'model__max_depth': 7, 'model__num_leaves': 200, 'model__min_gain_to_split': 3.5, 'model__min_data_in_leaf': 2400, 'model__lambda_l1': 70, 'model__lambda_l2': 60, 'model__bagging_fraction': 0.30000000000000004, 'model__feature_fraction': 0.5, 'model__max_bin': 175, 'model__drop_rate': 0.05}. Best is trial 48 with value: 0.7757164745074661.\n",
      "C:\\Users\\Paulius\\AppData\\Local\\pypoetry\\Cache\\virtualenvs\\ppuodz-ml-4-1-dqELbViF-py3.12\\Lib\\site-packages\\lightgbm\\callback.py:325: UserWarning: Early stopping is not available in dart mode\n",
      "  _log_warning('Early stopping is not available in dart mode')\n"
     ]
    },
    {
     "name": "stdout",
     "output_type": "stream",
     "text": [
      "Fold: Tuning: n_train=246008, eval_set=61503\n"
     ]
    },
    {
     "name": "stderr",
     "output_type": "stream",
     "text": [
      "C:\\Users\\Paulius\\AppData\\Local\\pypoetry\\Cache\\virtualenvs\\ppuodz-ml-4-1-dqELbViF-py3.12\\Lib\\site-packages\\lightgbm\\callback.py:325: UserWarning: Early stopping is not available in dart mode\n",
      "  _log_warning('Early stopping is not available in dart mode')\n"
     ]
    },
    {
     "name": "stdout",
     "output_type": "stream",
     "text": [
      "Fold: Tuning: n_train=246009, eval_set=61502\n"
     ]
    },
    {
     "name": "stderr",
     "output_type": "stream",
     "text": [
      "C:\\Users\\Paulius\\AppData\\Local\\pypoetry\\Cache\\virtualenvs\\ppuodz-ml-4-1-dqELbViF-py3.12\\Lib\\site-packages\\lightgbm\\callback.py:325: UserWarning: Early stopping is not available in dart mode\n",
      "  _log_warning('Early stopping is not available in dart mode')\n"
     ]
    },
    {
     "name": "stdout",
     "output_type": "stream",
     "text": [
      "Fold: Tuning: n_train=246009, eval_set=61502\n"
     ]
    },
    {
     "name": "stderr",
     "output_type": "stream",
     "text": [
      "C:\\Users\\Paulius\\AppData\\Local\\pypoetry\\Cache\\virtualenvs\\ppuodz-ml-4-1-dqELbViF-py3.12\\Lib\\site-packages\\lightgbm\\callback.py:325: UserWarning: Early stopping is not available in dart mode\n",
      "  _log_warning('Early stopping is not available in dart mode')\n"
     ]
    },
    {
     "name": "stdout",
     "output_type": "stream",
     "text": [
      "Fold: Tuning: n_train=246009, eval_set=61502\n"
     ]
    },
    {
     "name": "stderr",
     "output_type": "stream",
     "text": [
      "C:\\Users\\Paulius\\AppData\\Local\\pypoetry\\Cache\\virtualenvs\\ppuodz-ml-4-1-dqELbViF-py3.12\\Lib\\site-packages\\lightgbm\\callback.py:325: UserWarning: Early stopping is not available in dart mode\n",
      "  _log_warning('Early stopping is not available in dart mode')\n"
     ]
    },
    {
     "name": "stdout",
     "output_type": "stream",
     "text": [
      "Fold: Tuning: n_train=246009, eval_set=61502\n",
      "Tune: val_score:0.7746, std_test_score:0.00158 train_set_score:0.8169\n",
      "folds val/train: [0.7762, 0.7728, 0.7725, 0.7753, 0.776] / [0.817, 0.8166, 0.8175, 0.8172, 0.8161], mean fold time: 30.07\n"
     ]
    },
    {
     "name": "stderr",
     "output_type": "stream",
     "text": [
      "[I 2024-04-30 15:31:06,637] Trial 57 finished with value: 0.7745768890116641 and parameters: {'model__class_weight': 'balanced', 'model__objective': 'binary', 'model__boosting_type': 'dart', 'model__n_estimators': 700, 'model__learning_rate': 0.27, 'model__max_depth': 11, 'model__num_leaves': 152, 'model__min_gain_to_split': 7.0, 'model__min_data_in_leaf': 2200, 'model__lambda_l1': 60, 'model__lambda_l2': 80, 'model__bagging_fraction': 0.4, 'model__feature_fraction': 0.6000000000000001, 'model__max_bin': 200, 'model__drop_rate': 0.225}. Best is trial 48 with value: 0.7757164745074661.\n",
      "C:\\Users\\Paulius\\AppData\\Local\\pypoetry\\Cache\\virtualenvs\\ppuodz-ml-4-1-dqELbViF-py3.12\\Lib\\site-packages\\lightgbm\\callback.py:325: UserWarning: Early stopping is not available in dart mode\n",
      "  _log_warning('Early stopping is not available in dart mode')\n"
     ]
    },
    {
     "name": "stdout",
     "output_type": "stream",
     "text": [
      "Fold: Tuning: n_train=246008, eval_set=61503\n"
     ]
    },
    {
     "name": "stderr",
     "output_type": "stream",
     "text": [
      "C:\\Users\\Paulius\\AppData\\Local\\pypoetry\\Cache\\virtualenvs\\ppuodz-ml-4-1-dqELbViF-py3.12\\Lib\\site-packages\\lightgbm\\callback.py:325: UserWarning: Early stopping is not available in dart mode\n",
      "  _log_warning('Early stopping is not available in dart mode')\n"
     ]
    },
    {
     "name": "stdout",
     "output_type": "stream",
     "text": [
      "Fold: Tuning: n_train=246009, eval_set=61502\n"
     ]
    },
    {
     "name": "stderr",
     "output_type": "stream",
     "text": [
      "C:\\Users\\Paulius\\AppData\\Local\\pypoetry\\Cache\\virtualenvs\\ppuodz-ml-4-1-dqELbViF-py3.12\\Lib\\site-packages\\lightgbm\\callback.py:325: UserWarning: Early stopping is not available in dart mode\n",
      "  _log_warning('Early stopping is not available in dart mode')\n"
     ]
    },
    {
     "name": "stdout",
     "output_type": "stream",
     "text": [
      "Fold: Tuning: n_train=246009, eval_set=61502\n"
     ]
    },
    {
     "name": "stderr",
     "output_type": "stream",
     "text": [
      "C:\\Users\\Paulius\\AppData\\Local\\pypoetry\\Cache\\virtualenvs\\ppuodz-ml-4-1-dqELbViF-py3.12\\Lib\\site-packages\\lightgbm\\callback.py:325: UserWarning: Early stopping is not available in dart mode\n",
      "  _log_warning('Early stopping is not available in dart mode')\n"
     ]
    },
    {
     "name": "stdout",
     "output_type": "stream",
     "text": [
      "Fold: Tuning: n_train=246009, eval_set=61502\n"
     ]
    },
    {
     "name": "stderr",
     "output_type": "stream",
     "text": [
      "C:\\Users\\Paulius\\AppData\\Local\\pypoetry\\Cache\\virtualenvs\\ppuodz-ml-4-1-dqELbViF-py3.12\\Lib\\site-packages\\lightgbm\\callback.py:325: UserWarning: Early stopping is not available in dart mode\n",
      "  _log_warning('Early stopping is not available in dart mode')\n"
     ]
    },
    {
     "name": "stdout",
     "output_type": "stream",
     "text": [
      "Fold: Tuning: n_train=246009, eval_set=61502\n",
      "Tune: val_score:0.7746, std_test_score:0.00167 train_set_score:0.8732\n",
      "folds val/train: [0.7765, 0.7724, 0.7728, 0.7759, 0.7754] / [0.8739, 0.8716, 0.8734, 0.8759, 0.8714], mean fold time: 22.67\n"
     ]
    },
    {
     "name": "stderr",
     "output_type": "stream",
     "text": [
      "[I 2024-04-30 15:33:00,769] Trial 58 finished with value: 0.7746195085156403 and parameters: {'model__class_weight': 'balanced', 'model__objective': 'binary', 'model__boosting_type': 'dart', 'model__n_estimators': 650, 'model__learning_rate': 0.3, 'model__max_depth': 9, 'model__num_leaves': 176, 'model__min_gain_to_split': 1.0, 'model__min_data_in_leaf': 1900, 'model__lambda_l1': 80, 'model__lambda_l2': 70, 'model__bagging_fraction': 0.30000000000000004, 'model__feature_fraction': 0.8, 'model__max_bin': 225, 'model__drop_rate': 0.07500000000000001}. Best is trial 48 with value: 0.7757164745074661.\n",
      "C:\\Users\\Paulius\\AppData\\Local\\pypoetry\\Cache\\virtualenvs\\ppuodz-ml-4-1-dqELbViF-py3.12\\Lib\\site-packages\\lightgbm\\callback.py:325: UserWarning: Early stopping is not available in dart mode\n",
      "  _log_warning('Early stopping is not available in dart mode')\n"
     ]
    },
    {
     "name": "stdout",
     "output_type": "stream",
     "text": [
      "Fold: Tuning: n_train=246008, eval_set=61503\n"
     ]
    },
    {
     "name": "stderr",
     "output_type": "stream",
     "text": [
      "C:\\Users\\Paulius\\AppData\\Local\\pypoetry\\Cache\\virtualenvs\\ppuodz-ml-4-1-dqELbViF-py3.12\\Lib\\site-packages\\lightgbm\\callback.py:325: UserWarning: Early stopping is not available in dart mode\n",
      "  _log_warning('Early stopping is not available in dart mode')\n"
     ]
    },
    {
     "name": "stdout",
     "output_type": "stream",
     "text": [
      "Fold: Tuning: n_train=246009, eval_set=61502\n"
     ]
    },
    {
     "name": "stderr",
     "output_type": "stream",
     "text": [
      "C:\\Users\\Paulius\\AppData\\Local\\pypoetry\\Cache\\virtualenvs\\ppuodz-ml-4-1-dqELbViF-py3.12\\Lib\\site-packages\\lightgbm\\callback.py:325: UserWarning: Early stopping is not available in dart mode\n",
      "  _log_warning('Early stopping is not available in dart mode')\n"
     ]
    },
    {
     "name": "stdout",
     "output_type": "stream",
     "text": [
      "Fold: Tuning: n_train=246009, eval_set=61502\n"
     ]
    },
    {
     "name": "stderr",
     "output_type": "stream",
     "text": [
      "C:\\Users\\Paulius\\AppData\\Local\\pypoetry\\Cache\\virtualenvs\\ppuodz-ml-4-1-dqELbViF-py3.12\\Lib\\site-packages\\lightgbm\\callback.py:325: UserWarning: Early stopping is not available in dart mode\n",
      "  _log_warning('Early stopping is not available in dart mode')\n"
     ]
    },
    {
     "name": "stdout",
     "output_type": "stream",
     "text": [
      "Fold: Tuning: n_train=246009, eval_set=61502\n"
     ]
    },
    {
     "name": "stderr",
     "output_type": "stream",
     "text": [
      "C:\\Users\\Paulius\\AppData\\Local\\pypoetry\\Cache\\virtualenvs\\ppuodz-ml-4-1-dqELbViF-py3.12\\Lib\\site-packages\\lightgbm\\callback.py:325: UserWarning: Early stopping is not available in dart mode\n",
      "  _log_warning('Early stopping is not available in dart mode')\n"
     ]
    },
    {
     "name": "stdout",
     "output_type": "stream",
     "text": [
      "Fold: Tuning: n_train=246009, eval_set=61502\n",
      "Tune: val_score:0.7762, std_test_score:0.00177 train_set_score:0.8635\n",
      "folds val/train: [0.7787, 0.7741, 0.7742, 0.7772, 0.7766] / [0.8644, 0.8614, 0.8642, 0.865, 0.8623], mean fold time: 17.18\n"
     ]
    },
    {
     "name": "stderr",
     "output_type": "stream",
     "text": [
      "[I 2024-04-30 15:34:27,474] Trial 59 finished with value: 0.7761688739953272 and parameters: {'model__class_weight': 'balanced', 'model__objective': 'binary', 'model__boosting_type': 'dart', 'model__n_estimators': 850, 'model__learning_rate': 0.18000000000000002, 'model__max_depth': 10, 'model__num_leaves': 128, 'model__min_gain_to_split': 2.5, 'model__min_data_in_leaf': 2100, 'model__lambda_l1': 55, 'model__lambda_l2': 85, 'model__bagging_fraction': 0.2, 'model__feature_fraction': 0.7, 'model__max_bin': 275, 'model__drop_rate': 0.025}. Best is trial 59 with value: 0.7761688739953272.\n",
      "C:\\Users\\Paulius\\AppData\\Local\\pypoetry\\Cache\\virtualenvs\\ppuodz-ml-4-1-dqELbViF-py3.12\\Lib\\site-packages\\lightgbm\\callback.py:325: UserWarning: Early stopping is not available in dart mode\n",
      "  _log_warning('Early stopping is not available in dart mode')\n"
     ]
    },
    {
     "name": "stdout",
     "output_type": "stream",
     "text": [
      "Fold: Tuning: n_train=246008, eval_set=61503\n"
     ]
    },
    {
     "name": "stderr",
     "output_type": "stream",
     "text": [
      "C:\\Users\\Paulius\\AppData\\Local\\pypoetry\\Cache\\virtualenvs\\ppuodz-ml-4-1-dqELbViF-py3.12\\Lib\\site-packages\\lightgbm\\callback.py:325: UserWarning: Early stopping is not available in dart mode\n",
      "  _log_warning('Early stopping is not available in dart mode')\n"
     ]
    },
    {
     "name": "stdout",
     "output_type": "stream",
     "text": [
      "Fold: Tuning: n_train=246009, eval_set=61502\n"
     ]
    },
    {
     "name": "stderr",
     "output_type": "stream",
     "text": [
      "C:\\Users\\Paulius\\AppData\\Local\\pypoetry\\Cache\\virtualenvs\\ppuodz-ml-4-1-dqELbViF-py3.12\\Lib\\site-packages\\lightgbm\\callback.py:325: UserWarning: Early stopping is not available in dart mode\n",
      "  _log_warning('Early stopping is not available in dart mode')\n"
     ]
    },
    {
     "name": "stdout",
     "output_type": "stream",
     "text": [
      "Fold: Tuning: n_train=246009, eval_set=61502\n"
     ]
    },
    {
     "name": "stderr",
     "output_type": "stream",
     "text": [
      "C:\\Users\\Paulius\\AppData\\Local\\pypoetry\\Cache\\virtualenvs\\ppuodz-ml-4-1-dqELbViF-py3.12\\Lib\\site-packages\\lightgbm\\callback.py:325: UserWarning: Early stopping is not available in dart mode\n",
      "  _log_warning('Early stopping is not available in dart mode')\n"
     ]
    },
    {
     "name": "stdout",
     "output_type": "stream",
     "text": [
      "Fold: Tuning: n_train=246009, eval_set=61502\n"
     ]
    },
    {
     "name": "stderr",
     "output_type": "stream",
     "text": [
      "C:\\Users\\Paulius\\AppData\\Local\\pypoetry\\Cache\\virtualenvs\\ppuodz-ml-4-1-dqELbViF-py3.12\\Lib\\site-packages\\lightgbm\\callback.py:325: UserWarning: Early stopping is not available in dart mode\n",
      "  _log_warning('Early stopping is not available in dart mode')\n"
     ]
    },
    {
     "name": "stdout",
     "output_type": "stream",
     "text": [
      "Fold: Tuning: n_train=246009, eval_set=61502\n",
      "Tune: val_score:0.7724, std_test_score:0.00201 train_set_score:0.8264\n",
      "folds val/train: [0.7731, 0.7693, 0.771, 0.7741, 0.7747] / [0.8268, 0.8257, 0.8262, 0.827, 0.8264], mean fold time: 4.72\n"
     ]
    },
    {
     "name": "stderr",
     "output_type": "stream",
     "text": [
      "[I 2024-04-30 15:34:51,891] Trial 60 finished with value: 0.772432117479607 and parameters: {'model__class_weight': 'balanced', 'model__objective': 'binary', 'model__boosting_type': 'dart', 'model__n_estimators': 850, 'model__learning_rate': 0.15000000000000002, 'model__max_depth': 10, 'model__num_leaves': 160, 'model__min_gain_to_split': 2.0, 'model__min_data_in_leaf': 2100, 'model__lambda_l1': 95, 'model__lambda_l2': 90, 'model__bagging_fraction': 0.6000000000000001, 'model__feature_fraction': 0.6000000000000001, 'model__max_bin': 275, 'model__drop_rate': 0.0}. Best is trial 59 with value: 0.7761688739953272.\n",
      "C:\\Users\\Paulius\\AppData\\Local\\pypoetry\\Cache\\virtualenvs\\ppuodz-ml-4-1-dqELbViF-py3.12\\Lib\\site-packages\\lightgbm\\callback.py:325: UserWarning: Early stopping is not available in dart mode\n",
      "  _log_warning('Early stopping is not available in dart mode')\n"
     ]
    },
    {
     "name": "stdout",
     "output_type": "stream",
     "text": [
      "Fold: Tuning: n_train=246008, eval_set=61503\n"
     ]
    },
    {
     "name": "stderr",
     "output_type": "stream",
     "text": [
      "C:\\Users\\Paulius\\AppData\\Local\\pypoetry\\Cache\\virtualenvs\\ppuodz-ml-4-1-dqELbViF-py3.12\\Lib\\site-packages\\lightgbm\\callback.py:325: UserWarning: Early stopping is not available in dart mode\n",
      "  _log_warning('Early stopping is not available in dart mode')\n"
     ]
    },
    {
     "name": "stdout",
     "output_type": "stream",
     "text": [
      "Fold: Tuning: n_train=246009, eval_set=61502\n"
     ]
    },
    {
     "name": "stderr",
     "output_type": "stream",
     "text": [
      "C:\\Users\\Paulius\\AppData\\Local\\pypoetry\\Cache\\virtualenvs\\ppuodz-ml-4-1-dqELbViF-py3.12\\Lib\\site-packages\\lightgbm\\callback.py:325: UserWarning: Early stopping is not available in dart mode\n",
      "  _log_warning('Early stopping is not available in dart mode')\n"
     ]
    },
    {
     "name": "stdout",
     "output_type": "stream",
     "text": [
      "Fold: Tuning: n_train=246009, eval_set=61502\n"
     ]
    },
    {
     "name": "stderr",
     "output_type": "stream",
     "text": [
      "C:\\Users\\Paulius\\AppData\\Local\\pypoetry\\Cache\\virtualenvs\\ppuodz-ml-4-1-dqELbViF-py3.12\\Lib\\site-packages\\lightgbm\\callback.py:325: UserWarning: Early stopping is not available in dart mode\n",
      "  _log_warning('Early stopping is not available in dart mode')\n"
     ]
    },
    {
     "name": "stdout",
     "output_type": "stream",
     "text": [
      "Fold: Tuning: n_train=246009, eval_set=61502\n"
     ]
    },
    {
     "name": "stderr",
     "output_type": "stream",
     "text": [
      "C:\\Users\\Paulius\\AppData\\Local\\pypoetry\\Cache\\virtualenvs\\ppuodz-ml-4-1-dqELbViF-py3.12\\Lib\\site-packages\\lightgbm\\callback.py:325: UserWarning: Early stopping is not available in dart mode\n",
      "  _log_warning('Early stopping is not available in dart mode')\n"
     ]
    },
    {
     "name": "stdout",
     "output_type": "stream",
     "text": [
      "Fold: Tuning: n_train=246009, eval_set=61502\n",
      "Tune: val_score:0.7758, std_test_score:0.00151 train_set_score:0.8548\n",
      "folds val/train: [0.7772, 0.7737, 0.7743, 0.7766, 0.7773] / [0.8557, 0.854, 0.8546, 0.8558, 0.854], mean fold time: 34.88\n"
     ]
    },
    {
     "name": "stderr",
     "output_type": "stream",
     "text": [
      "[I 2024-04-30 15:37:47,124] Trial 61 finished with value: 0.7758366923779489 and parameters: {'model__class_weight': 'balanced', 'model__objective': 'binary', 'model__boosting_type': 'dart', 'model__n_estimators': 800, 'model__learning_rate': 0.17, 'model__max_depth': 10, 'model__num_leaves': 128, 'model__min_gain_to_split': 3.0, 'model__min_data_in_leaf': 2400, 'model__lambda_l1': 55, 'model__lambda_l2': 85, 'model__bagging_fraction': 0.2, 'model__feature_fraction': 0.7, 'model__max_bin': 300, 'model__drop_rate': 0.07500000000000001}. Best is trial 59 with value: 0.7761688739953272.\n",
      "C:\\Users\\Paulius\\AppData\\Local\\pypoetry\\Cache\\virtualenvs\\ppuodz-ml-4-1-dqELbViF-py3.12\\Lib\\site-packages\\lightgbm\\callback.py:325: UserWarning: Early stopping is not available in dart mode\n",
      "  _log_warning('Early stopping is not available in dart mode')\n"
     ]
    },
    {
     "name": "stdout",
     "output_type": "stream",
     "text": [
      "Fold: Tuning: n_train=246008, eval_set=61503\n"
     ]
    },
    {
     "name": "stderr",
     "output_type": "stream",
     "text": [
      "C:\\Users\\Paulius\\AppData\\Local\\pypoetry\\Cache\\virtualenvs\\ppuodz-ml-4-1-dqELbViF-py3.12\\Lib\\site-packages\\lightgbm\\callback.py:325: UserWarning: Early stopping is not available in dart mode\n",
      "  _log_warning('Early stopping is not available in dart mode')\n"
     ]
    },
    {
     "name": "stdout",
     "output_type": "stream",
     "text": [
      "Fold: Tuning: n_train=246009, eval_set=61502\n"
     ]
    },
    {
     "name": "stderr",
     "output_type": "stream",
     "text": [
      "C:\\Users\\Paulius\\AppData\\Local\\pypoetry\\Cache\\virtualenvs\\ppuodz-ml-4-1-dqELbViF-py3.12\\Lib\\site-packages\\lightgbm\\callback.py:325: UserWarning: Early stopping is not available in dart mode\n",
      "  _log_warning('Early stopping is not available in dart mode')\n"
     ]
    },
    {
     "name": "stdout",
     "output_type": "stream",
     "text": [
      "Fold: Tuning: n_train=246009, eval_set=61502\n"
     ]
    },
    {
     "name": "stderr",
     "output_type": "stream",
     "text": [
      "C:\\Users\\Paulius\\AppData\\Local\\pypoetry\\Cache\\virtualenvs\\ppuodz-ml-4-1-dqELbViF-py3.12\\Lib\\site-packages\\lightgbm\\callback.py:325: UserWarning: Early stopping is not available in dart mode\n",
      "  _log_warning('Early stopping is not available in dart mode')\n"
     ]
    },
    {
     "name": "stdout",
     "output_type": "stream",
     "text": [
      "Fold: Tuning: n_train=246009, eval_set=61502\n"
     ]
    },
    {
     "name": "stderr",
     "output_type": "stream",
     "text": [
      "C:\\Users\\Paulius\\AppData\\Local\\pypoetry\\Cache\\virtualenvs\\ppuodz-ml-4-1-dqELbViF-py3.12\\Lib\\site-packages\\lightgbm\\callback.py:325: UserWarning: Early stopping is not available in dart mode\n",
      "  _log_warning('Early stopping is not available in dart mode')\n"
     ]
    },
    {
     "name": "stdout",
     "output_type": "stream",
     "text": [
      "Fold: Tuning: n_train=246009, eval_set=61502\n",
      "Tune: val_score:0.7757, std_test_score:0.00150 train_set_score:0.8537\n",
      "folds val/train: [0.7772, 0.774, 0.7737, 0.7765, 0.7769] / [0.8545, 0.8529, 0.854, 0.8543, 0.853], mean fold time: 14.51\n"
     ]
    },
    {
     "name": "stderr",
     "output_type": "stream",
     "text": [
      "[I 2024-04-30 15:39:00,514] Trial 62 finished with value: 0.775677769622927 and parameters: {'model__class_weight': 'balanced', 'model__objective': 'binary', 'model__boosting_type': 'dart', 'model__n_estimators': 750, 'model__learning_rate': 0.17, 'model__max_depth': 9, 'model__num_leaves': 128, 'model__min_gain_to_split': 2.5, 'model__min_data_in_leaf': 2300, 'model__lambda_l1': 65, 'model__lambda_l2': 85, 'model__bagging_fraction': 0.2, 'model__feature_fraction': 0.7, 'model__max_bin': 300, 'model__drop_rate': 0.025}. Best is trial 59 with value: 0.7761688739953272.\n",
      "C:\\Users\\Paulius\\AppData\\Local\\pypoetry\\Cache\\virtualenvs\\ppuodz-ml-4-1-dqELbViF-py3.12\\Lib\\site-packages\\lightgbm\\callback.py:325: UserWarning: Early stopping is not available in dart mode\n",
      "  _log_warning('Early stopping is not available in dart mode')\n"
     ]
    },
    {
     "name": "stdout",
     "output_type": "stream",
     "text": [
      "Fold: Tuning: n_train=246008, eval_set=61503\n"
     ]
    },
    {
     "name": "stderr",
     "output_type": "stream",
     "text": [
      "C:\\Users\\Paulius\\AppData\\Local\\pypoetry\\Cache\\virtualenvs\\ppuodz-ml-4-1-dqELbViF-py3.12\\Lib\\site-packages\\lightgbm\\callback.py:325: UserWarning: Early stopping is not available in dart mode\n",
      "  _log_warning('Early stopping is not available in dart mode')\n"
     ]
    },
    {
     "name": "stdout",
     "output_type": "stream",
     "text": [
      "Fold: Tuning: n_train=246009, eval_set=61502\n"
     ]
    },
    {
     "name": "stderr",
     "output_type": "stream",
     "text": [
      "C:\\Users\\Paulius\\AppData\\Local\\pypoetry\\Cache\\virtualenvs\\ppuodz-ml-4-1-dqELbViF-py3.12\\Lib\\site-packages\\lightgbm\\callback.py:325: UserWarning: Early stopping is not available in dart mode\n",
      "  _log_warning('Early stopping is not available in dart mode')\n"
     ]
    },
    {
     "name": "stdout",
     "output_type": "stream",
     "text": [
      "Fold: Tuning: n_train=246009, eval_set=61502\n"
     ]
    },
    {
     "name": "stderr",
     "output_type": "stream",
     "text": [
      "C:\\Users\\Paulius\\AppData\\Local\\pypoetry\\Cache\\virtualenvs\\ppuodz-ml-4-1-dqELbViF-py3.12\\Lib\\site-packages\\lightgbm\\callback.py:325: UserWarning: Early stopping is not available in dart mode\n",
      "  _log_warning('Early stopping is not available in dart mode')\n"
     ]
    },
    {
     "name": "stdout",
     "output_type": "stream",
     "text": [
      "Fold: Tuning: n_train=246009, eval_set=61502\n"
     ]
    },
    {
     "name": "stderr",
     "output_type": "stream",
     "text": [
      "C:\\Users\\Paulius\\AppData\\Local\\pypoetry\\Cache\\virtualenvs\\ppuodz-ml-4-1-dqELbViF-py3.12\\Lib\\site-packages\\lightgbm\\callback.py:325: UserWarning: Early stopping is not available in dart mode\n",
      "  _log_warning('Early stopping is not available in dart mode')\n"
     ]
    },
    {
     "name": "stdout",
     "output_type": "stream",
     "text": [
      "Fold: Tuning: n_train=246009, eval_set=61502\n",
      "Tune: val_score:0.7748, std_test_score:0.00159 train_set_score:0.8789\n",
      "folds val/train: [0.776, 0.7727, 0.7733, 0.7753, 0.7769] / [0.88, 0.8773, 0.8793, 0.8786, 0.8792], mean fold time: 15.22\n"
     ]
    },
    {
     "name": "stderr",
     "output_type": "stream",
     "text": [
      "[I 2024-04-30 15:40:17,443] Trial 63 finished with value: 0.7748341380698116 and parameters: {'model__class_weight': 'balanced', 'model__objective': 'binary', 'model__boosting_type': 'dart', 'model__n_estimators': 700, 'model__learning_rate': 0.18000000000000002, 'model__max_depth': 9, 'model__num_leaves': 128, 'model__min_gain_to_split': 1.0, 'model__min_data_in_leaf': 2400, 'model__lambda_l1': 65, 'model__lambda_l2': 85, 'model__bagging_fraction': 0.2, 'model__feature_fraction': 0.7, 'model__max_bin': 300, 'model__drop_rate': 0.025}. Best is trial 59 with value: 0.7761688739953272.\n",
      "C:\\Users\\Paulius\\AppData\\Local\\pypoetry\\Cache\\virtualenvs\\ppuodz-ml-4-1-dqELbViF-py3.12\\Lib\\site-packages\\lightgbm\\callback.py:325: UserWarning: Early stopping is not available in dart mode\n",
      "  _log_warning('Early stopping is not available in dart mode')\n"
     ]
    },
    {
     "name": "stdout",
     "output_type": "stream",
     "text": [
      "Fold: Tuning: n_train=246008, eval_set=61503\n"
     ]
    },
    {
     "name": "stderr",
     "output_type": "stream",
     "text": [
      "C:\\Users\\Paulius\\AppData\\Local\\pypoetry\\Cache\\virtualenvs\\ppuodz-ml-4-1-dqELbViF-py3.12\\Lib\\site-packages\\lightgbm\\callback.py:325: UserWarning: Early stopping is not available in dart mode\n",
      "  _log_warning('Early stopping is not available in dart mode')\n"
     ]
    },
    {
     "name": "stdout",
     "output_type": "stream",
     "text": [
      "Fold: Tuning: n_train=246009, eval_set=61502\n"
     ]
    },
    {
     "name": "stderr",
     "output_type": "stream",
     "text": [
      "C:\\Users\\Paulius\\AppData\\Local\\pypoetry\\Cache\\virtualenvs\\ppuodz-ml-4-1-dqELbViF-py3.12\\Lib\\site-packages\\lightgbm\\callback.py:325: UserWarning: Early stopping is not available in dart mode\n",
      "  _log_warning('Early stopping is not available in dart mode')\n"
     ]
    },
    {
     "name": "stdout",
     "output_type": "stream",
     "text": [
      "Fold: Tuning: n_train=246009, eval_set=61502\n"
     ]
    },
    {
     "name": "stderr",
     "output_type": "stream",
     "text": [
      "C:\\Users\\Paulius\\AppData\\Local\\pypoetry\\Cache\\virtualenvs\\ppuodz-ml-4-1-dqELbViF-py3.12\\Lib\\site-packages\\lightgbm\\callback.py:325: UserWarning: Early stopping is not available in dart mode\n",
      "  _log_warning('Early stopping is not available in dart mode')\n"
     ]
    },
    {
     "name": "stdout",
     "output_type": "stream",
     "text": [
      "Fold: Tuning: n_train=246009, eval_set=61502\n"
     ]
    },
    {
     "name": "stderr",
     "output_type": "stream",
     "text": [
      "C:\\Users\\Paulius\\AppData\\Local\\pypoetry\\Cache\\virtualenvs\\ppuodz-ml-4-1-dqELbViF-py3.12\\Lib\\site-packages\\lightgbm\\callback.py:325: UserWarning: Early stopping is not available in dart mode\n",
      "  _log_warning('Early stopping is not available in dart mode')\n"
     ]
    },
    {
     "name": "stdout",
     "output_type": "stream",
     "text": [
      "Fold: Tuning: n_train=246009, eval_set=61502\n",
      "Tune: val_score:0.7755, std_test_score:0.00156 train_set_score:0.8547\n",
      "folds val/train: [0.7774, 0.7733, 0.7741, 0.7762, 0.7766] / [0.8559, 0.8537, 0.8547, 0.8554, 0.854], mean fold time: 34.40\n"
     ]
    },
    {
     "name": "stderr",
     "output_type": "stream",
     "text": [
      "[I 2024-04-30 15:43:10,244] Trial 64 finished with value: 0.7755008546468656 and parameters: {'model__class_weight': 'balanced', 'model__objective': 'binary', 'model__boosting_type': 'dart', 'model__n_estimators': 800, 'model__learning_rate': 0.17, 'model__max_depth': 10, 'model__num_leaves': 136, 'model__min_gain_to_split': 2.5, 'model__min_data_in_leaf': 2000, 'model__lambda_l1': 70, 'model__lambda_l2': 95, 'model__bagging_fraction': 0.2, 'model__feature_fraction': 0.8, 'model__max_bin': 275, 'model__drop_rate': 0.07500000000000001}. Best is trial 59 with value: 0.7761688739953272.\n"
     ]
    },
    {
     "name": "stdout",
     "output_type": "stream",
     "text": [
      "Fold: Tuning: n_train=246008, eval_set=61503\n",
      "Fold: Tuning: n_train=246009, eval_set=61502\n",
      "Fold: Tuning: n_train=246009, eval_set=61502\n",
      "Fold: Tuning: n_train=246009, eval_set=61502\n",
      "Fold: Tuning: n_train=246009, eval_set=61502\n",
      "Tune: val_score:0.7721, std_test_score:0.00119 train_set_score:0.8437\n",
      "folds val/train: [0.7738, 0.7705, 0.771, 0.7729, 0.7723] / [0.8451, 0.8428, 0.8445, 0.8444, 0.8415], mean fold time: 2.43\n"
     ]
    },
    {
     "name": "stderr",
     "output_type": "stream",
     "text": [
      "[I 2024-04-30 15:43:23,223] Trial 65 finished with value: 0.7721005135845032 and parameters: {'model__class_weight': 'balanced', 'model__objective': 'binary', 'model__boosting_type': 'gbdt', 'model__n_estimators': 800, 'model__learning_rate': 0.17, 'model__max_depth': 10, 'model__num_leaves': 136, 'model__min_gain_to_split': 2.5, 'model__min_data_in_leaf': 2000, 'model__lambda_l1': 60, 'model__lambda_l2': 90, 'model__bagging_fraction': 0.2, 'model__feature_fraction': 0.9000000000000001, 'model__max_bin': 350, 'model__drop_rate': 0.025}. Best is trial 59 with value: 0.7761688739953272.\n",
      "C:\\Users\\Paulius\\AppData\\Local\\pypoetry\\Cache\\virtualenvs\\ppuodz-ml-4-1-dqELbViF-py3.12\\Lib\\site-packages\\lightgbm\\callback.py:325: UserWarning: Early stopping is not available in dart mode\n",
      "  _log_warning('Early stopping is not available in dart mode')\n"
     ]
    },
    {
     "name": "stdout",
     "output_type": "stream",
     "text": [
      "Fold: Tuning: n_train=246008, eval_set=61503\n"
     ]
    },
    {
     "name": "stderr",
     "output_type": "stream",
     "text": [
      "C:\\Users\\Paulius\\AppData\\Local\\pypoetry\\Cache\\virtualenvs\\ppuodz-ml-4-1-dqELbViF-py3.12\\Lib\\site-packages\\lightgbm\\callback.py:325: UserWarning: Early stopping is not available in dart mode\n",
      "  _log_warning('Early stopping is not available in dart mode')\n"
     ]
    },
    {
     "name": "stdout",
     "output_type": "stream",
     "text": [
      "Fold: Tuning: n_train=246009, eval_set=61502\n"
     ]
    },
    {
     "name": "stderr",
     "output_type": "stream",
     "text": [
      "C:\\Users\\Paulius\\AppData\\Local\\pypoetry\\Cache\\virtualenvs\\ppuodz-ml-4-1-dqELbViF-py3.12\\Lib\\site-packages\\lightgbm\\callback.py:325: UserWarning: Early stopping is not available in dart mode\n",
      "  _log_warning('Early stopping is not available in dart mode')\n"
     ]
    },
    {
     "name": "stdout",
     "output_type": "stream",
     "text": [
      "Fold: Tuning: n_train=246009, eval_set=61502\n"
     ]
    },
    {
     "name": "stderr",
     "output_type": "stream",
     "text": [
      "C:\\Users\\Paulius\\AppData\\Local\\pypoetry\\Cache\\virtualenvs\\ppuodz-ml-4-1-dqELbViF-py3.12\\Lib\\site-packages\\lightgbm\\callback.py:325: UserWarning: Early stopping is not available in dart mode\n",
      "  _log_warning('Early stopping is not available in dart mode')\n"
     ]
    },
    {
     "name": "stdout",
     "output_type": "stream",
     "text": [
      "Fold: Tuning: n_train=246009, eval_set=61502\n"
     ]
    },
    {
     "name": "stderr",
     "output_type": "stream",
     "text": [
      "C:\\Users\\Paulius\\AppData\\Local\\pypoetry\\Cache\\virtualenvs\\ppuodz-ml-4-1-dqELbViF-py3.12\\Lib\\site-packages\\lightgbm\\callback.py:325: UserWarning: Early stopping is not available in dart mode\n",
      "  _log_warning('Early stopping is not available in dart mode')\n"
     ]
    },
    {
     "name": "stdout",
     "output_type": "stream",
     "text": [
      "Fold: Tuning: n_train=246009, eval_set=61502\n",
      "Tune: val_score:0.7742, std_test_score:0.00150 train_set_score:0.8669\n",
      "folds val/train: [0.7756, 0.7718, 0.773, 0.7756, 0.7748] / [0.8677, 0.8665, 0.8666, 0.8665, 0.8672], mean fold time: 41.79\n"
     ]
    },
    {
     "name": "stderr",
     "output_type": "stream",
     "text": [
      "[I 2024-04-30 15:46:52,944] Trial 66 finished with value: 0.7741657203558275 and parameters: {'model__class_weight': 'balanced', 'model__objective': 'binary', 'model__boosting_type': 'dart', 'model__n_estimators': 900, 'model__learning_rate': 0.12, 'model__max_depth': 9, 'model__num_leaves': 152, 'model__min_gain_to_split': 0.5, 'model__min_data_in_leaf': 1700, 'model__lambda_l1': 80, 'model__lambda_l2': 95, 'model__bagging_fraction': 0.2, 'model__feature_fraction': 0.8, 'model__max_bin': 325, 'model__drop_rate': 0.07500000000000001}. Best is trial 59 with value: 0.7761688739953272.\n",
      "C:\\Users\\Paulius\\AppData\\Local\\pypoetry\\Cache\\virtualenvs\\ppuodz-ml-4-1-dqELbViF-py3.12\\Lib\\site-packages\\lightgbm\\callback.py:325: UserWarning: Early stopping is not available in dart mode\n",
      "  _log_warning('Early stopping is not available in dart mode')\n"
     ]
    },
    {
     "name": "stdout",
     "output_type": "stream",
     "text": [
      "Fold: Tuning: n_train=246008, eval_set=61503\n"
     ]
    },
    {
     "name": "stderr",
     "output_type": "stream",
     "text": [
      "C:\\Users\\Paulius\\AppData\\Local\\pypoetry\\Cache\\virtualenvs\\ppuodz-ml-4-1-dqELbViF-py3.12\\Lib\\site-packages\\lightgbm\\callback.py:325: UserWarning: Early stopping is not available in dart mode\n",
      "  _log_warning('Early stopping is not available in dart mode')\n"
     ]
    },
    {
     "name": "stdout",
     "output_type": "stream",
     "text": [
      "Fold: Tuning: n_train=246009, eval_set=61502\n"
     ]
    },
    {
     "name": "stderr",
     "output_type": "stream",
     "text": [
      "C:\\Users\\Paulius\\AppData\\Local\\pypoetry\\Cache\\virtualenvs\\ppuodz-ml-4-1-dqELbViF-py3.12\\Lib\\site-packages\\lightgbm\\callback.py:325: UserWarning: Early stopping is not available in dart mode\n",
      "  _log_warning('Early stopping is not available in dart mode')\n"
     ]
    },
    {
     "name": "stdout",
     "output_type": "stream",
     "text": [
      "Fold: Tuning: n_train=246009, eval_set=61502\n"
     ]
    },
    {
     "name": "stderr",
     "output_type": "stream",
     "text": [
      "C:\\Users\\Paulius\\AppData\\Local\\pypoetry\\Cache\\virtualenvs\\ppuodz-ml-4-1-dqELbViF-py3.12\\Lib\\site-packages\\lightgbm\\callback.py:325: UserWarning: Early stopping is not available in dart mode\n",
      "  _log_warning('Early stopping is not available in dart mode')\n"
     ]
    },
    {
     "name": "stdout",
     "output_type": "stream",
     "text": [
      "Fold: Tuning: n_train=246009, eval_set=61502\n"
     ]
    },
    {
     "name": "stderr",
     "output_type": "stream",
     "text": [
      "C:\\Users\\Paulius\\AppData\\Local\\pypoetry\\Cache\\virtualenvs\\ppuodz-ml-4-1-dqELbViF-py3.12\\Lib\\site-packages\\lightgbm\\callback.py:325: UserWarning: Early stopping is not available in dart mode\n",
      "  _log_warning('Early stopping is not available in dart mode')\n"
     ]
    },
    {
     "name": "stdout",
     "output_type": "stream",
     "text": [
      "Fold: Tuning: n_train=246009, eval_set=61502\n",
      "Tune: val_score:0.7739, std_test_score:0.00161 train_set_score:0.8531\n",
      "folds val/train: [0.7763, 0.7718, 0.7726, 0.7738, 0.7748] / [0.8535, 0.8521, 0.8531, 0.8538, 0.8528], mean fold time: 40.57\n"
     ]
    },
    {
     "name": "stderr",
     "output_type": "stream",
     "text": [
      "[I 2024-04-30 15:50:16,617] Trial 67 finished with value: 0.7738564796154991 and parameters: {'model__class_weight': 'balanced', 'model__objective': 'binary', 'model__boosting_type': 'dart', 'model__n_estimators': 700, 'model__learning_rate': 0.15000000000000002, 'model__max_depth': 9, 'model__num_leaves': 128, 'model__min_gain_to_split': 2.0, 'model__min_data_in_leaf': 1800, 'model__lambda_l1': 70, 'model__lambda_l2': 95, 'model__bagging_fraction': 0.30000000000000004, 'model__feature_fraction': 0.7, 'model__max_bin': 275, 'model__drop_rate': 0.15000000000000002}. Best is trial 59 with value: 0.7761688739953272.\n"
     ]
    },
    {
     "name": "stdout",
     "output_type": "stream",
     "text": [
      "Fold: Tuning: n_train=246008, eval_set=61503\n",
      "Fold: Tuning: n_train=246009, eval_set=61502\n",
      "Fold: Tuning: n_train=246009, eval_set=61502\n",
      "Fold: Tuning: n_train=246009, eval_set=61502\n",
      "Fold: Tuning: n_train=246009, eval_set=61502\n",
      "Tune: val_score:0.7281, std_test_score:0.00248 train_set_score:0.7389\n",
      "folds val/train: [0.7314, 0.7281, 0.7249, 0.7301, 0.7257] / [0.7393, 0.7387, 0.7396, 0.7382, 0.7385], mean fold time: 1.40\n"
     ]
    },
    {
     "name": "stderr",
     "output_type": "stream",
     "text": [
      "[I 2024-04-30 15:50:24,405] Trial 68 finished with value: 0.7280675633752043 and parameters: {'model__class_weight': 'balanced', 'model__objective': 'binary', 'model__boosting_type': 'rf', 'model__n_estimators': 800, 'model__learning_rate': 0.17, 'model__max_depth': 8, 'model__num_leaves': 144, 'model__min_gain_to_split': 3.0, 'model__min_data_in_leaf': 2500, 'model__lambda_l1': 65, 'model__lambda_l2': 85, 'model__bagging_fraction': 0.30000000000000004, 'model__feature_fraction': 0.8, 'model__max_bin': 300, 'model__drop_rate': 0.0}. Best is trial 59 with value: 0.7761688739953272.\n",
      "C:\\Users\\Paulius\\AppData\\Local\\pypoetry\\Cache\\virtualenvs\\ppuodz-ml-4-1-dqELbViF-py3.12\\Lib\\site-packages\\lightgbm\\callback.py:325: UserWarning: Early stopping is not available in dart mode\n",
      "  _log_warning('Early stopping is not available in dart mode')\n"
     ]
    },
    {
     "name": "stdout",
     "output_type": "stream",
     "text": [
      "Fold: Tuning: n_train=246008, eval_set=61503\n"
     ]
    },
    {
     "name": "stderr",
     "output_type": "stream",
     "text": [
      "C:\\Users\\Paulius\\AppData\\Local\\pypoetry\\Cache\\virtualenvs\\ppuodz-ml-4-1-dqELbViF-py3.12\\Lib\\site-packages\\lightgbm\\callback.py:325: UserWarning: Early stopping is not available in dart mode\n",
      "  _log_warning('Early stopping is not available in dart mode')\n"
     ]
    },
    {
     "name": "stdout",
     "output_type": "stream",
     "text": [
      "Fold: Tuning: n_train=246009, eval_set=61502\n"
     ]
    },
    {
     "name": "stderr",
     "output_type": "stream",
     "text": [
      "C:\\Users\\Paulius\\AppData\\Local\\pypoetry\\Cache\\virtualenvs\\ppuodz-ml-4-1-dqELbViF-py3.12\\Lib\\site-packages\\lightgbm\\callback.py:325: UserWarning: Early stopping is not available in dart mode\n",
      "  _log_warning('Early stopping is not available in dart mode')\n"
     ]
    },
    {
     "name": "stdout",
     "output_type": "stream",
     "text": [
      "Fold: Tuning: n_train=246009, eval_set=61502\n"
     ]
    },
    {
     "name": "stderr",
     "output_type": "stream",
     "text": [
      "C:\\Users\\Paulius\\AppData\\Local\\pypoetry\\Cache\\virtualenvs\\ppuodz-ml-4-1-dqELbViF-py3.12\\Lib\\site-packages\\lightgbm\\callback.py:325: UserWarning: Early stopping is not available in dart mode\n",
      "  _log_warning('Early stopping is not available in dart mode')\n"
     ]
    },
    {
     "name": "stdout",
     "output_type": "stream",
     "text": [
      "Fold: Tuning: n_train=246009, eval_set=61502\n"
     ]
    },
    {
     "name": "stderr",
     "output_type": "stream",
     "text": [
      "C:\\Users\\Paulius\\AppData\\Local\\pypoetry\\Cache\\virtualenvs\\ppuodz-ml-4-1-dqELbViF-py3.12\\Lib\\site-packages\\lightgbm\\callback.py:325: UserWarning: Early stopping is not available in dart mode\n",
      "  _log_warning('Early stopping is not available in dart mode')\n"
     ]
    },
    {
     "name": "stdout",
     "output_type": "stream",
     "text": [
      "Fold: Tuning: n_train=246009, eval_set=61502\n",
      "Tune: val_score:0.7756, std_test_score:0.00171 train_set_score:0.8845\n",
      "folds val/train: [0.7779, 0.7732, 0.7743, 0.7757, 0.7769] / [0.8844, 0.8837, 0.8855, 0.8864, 0.8827], mean fold time: 35.63\n"
     ]
    },
    {
     "name": "stderr",
     "output_type": "stream",
     "text": [
      "[I 2024-04-30 15:53:23,325] Trial 69 finished with value: 0.7756038791367916 and parameters: {'model__class_weight': 'balanced', 'model__objective': 'binary', 'model__boosting_type': 'dart', 'model__n_estimators': 750, 'model__learning_rate': 0.19, 'model__max_depth': 10, 'model__num_leaves': 176, 'model__min_gain_to_split': 2.5, 'model__min_data_in_leaf': 300, 'model__lambda_l1': 50, 'model__lambda_l2': 105, 'model__bagging_fraction': 1.0, 'model__feature_fraction': 0.7, 'model__max_bin': 325, 'model__drop_rate': 0.07500000000000001}. Best is trial 59 with value: 0.7761688739953272.\n",
      "C:\\Users\\Paulius\\AppData\\Local\\pypoetry\\Cache\\virtualenvs\\ppuodz-ml-4-1-dqELbViF-py3.12\\Lib\\site-packages\\lightgbm\\callback.py:325: UserWarning: Early stopping is not available in dart mode\n",
      "  _log_warning('Early stopping is not available in dart mode')\n"
     ]
    },
    {
     "name": "stdout",
     "output_type": "stream",
     "text": [
      "Fold: Tuning: n_train=246008, eval_set=61503\n"
     ]
    },
    {
     "name": "stderr",
     "output_type": "stream",
     "text": [
      "C:\\Users\\Paulius\\AppData\\Local\\pypoetry\\Cache\\virtualenvs\\ppuodz-ml-4-1-dqELbViF-py3.12\\Lib\\site-packages\\lightgbm\\callback.py:325: UserWarning: Early stopping is not available in dart mode\n",
      "  _log_warning('Early stopping is not available in dart mode')\n"
     ]
    },
    {
     "name": "stdout",
     "output_type": "stream",
     "text": [
      "Fold: Tuning: n_train=246009, eval_set=61502\n"
     ]
    },
    {
     "name": "stderr",
     "output_type": "stream",
     "text": [
      "C:\\Users\\Paulius\\AppData\\Local\\pypoetry\\Cache\\virtualenvs\\ppuodz-ml-4-1-dqELbViF-py3.12\\Lib\\site-packages\\lightgbm\\callback.py:325: UserWarning: Early stopping is not available in dart mode\n",
      "  _log_warning('Early stopping is not available in dart mode')\n"
     ]
    },
    {
     "name": "stdout",
     "output_type": "stream",
     "text": [
      "Fold: Tuning: n_train=246009, eval_set=61502\n"
     ]
    },
    {
     "name": "stderr",
     "output_type": "stream",
     "text": [
      "C:\\Users\\Paulius\\AppData\\Local\\pypoetry\\Cache\\virtualenvs\\ppuodz-ml-4-1-dqELbViF-py3.12\\Lib\\site-packages\\lightgbm\\callback.py:325: UserWarning: Early stopping is not available in dart mode\n",
      "  _log_warning('Early stopping is not available in dart mode')\n"
     ]
    },
    {
     "name": "stdout",
     "output_type": "stream",
     "text": [
      "Fold: Tuning: n_train=246009, eval_set=61502\n"
     ]
    },
    {
     "name": "stderr",
     "output_type": "stream",
     "text": [
      "C:\\Users\\Paulius\\AppData\\Local\\pypoetry\\Cache\\virtualenvs\\ppuodz-ml-4-1-dqELbViF-py3.12\\Lib\\site-packages\\lightgbm\\callback.py:325: UserWarning: Early stopping is not available in dart mode\n",
      "  _log_warning('Early stopping is not available in dart mode')\n"
     ]
    },
    {
     "name": "stdout",
     "output_type": "stream",
     "text": [
      "Fold: Tuning: n_train=246009, eval_set=61502\n",
      "Tune: val_score:0.7752, std_test_score:0.00109 train_set_score:0.8760\n",
      "folds val/train: [0.7766, 0.7741, 0.7741, 0.7751, 0.7764] / [0.8757, 0.8735, 0.8761, 0.8799, 0.8746], mean fold time: 58.36\n"
     ]
    },
    {
     "name": "stderr",
     "output_type": "stream",
     "text": [
      "[I 2024-04-30 15:58:15,893] Trial 70 finished with value: 0.7752436921563575 and parameters: {'model__class_weight': 'balanced', 'model__objective': 'binary', 'model__boosting_type': 'dart', 'model__n_estimators': 850, 'model__learning_rate': 0.19, 'model__max_depth': 9, 'model__num_leaves': 184, 'model__min_gain_to_split': 2.5, 'model__min_data_in_leaf': 500, 'model__lambda_l1': 50, 'model__lambda_l2': 105, 'model__bagging_fraction': 0.7, 'model__feature_fraction': 0.8, 'model__max_bin': 325, 'model__drop_rate': 0.65}. Best is trial 59 with value: 0.7761688739953272.\n",
      "C:\\Users\\Paulius\\AppData\\Local\\pypoetry\\Cache\\virtualenvs\\ppuodz-ml-4-1-dqELbViF-py3.12\\Lib\\site-packages\\lightgbm\\callback.py:325: UserWarning: Early stopping is not available in dart mode\n",
      "  _log_warning('Early stopping is not available in dart mode')\n"
     ]
    },
    {
     "name": "stdout",
     "output_type": "stream",
     "text": [
      "Fold: Tuning: n_train=246008, eval_set=61503\n"
     ]
    },
    {
     "name": "stderr",
     "output_type": "stream",
     "text": [
      "C:\\Users\\Paulius\\AppData\\Local\\pypoetry\\Cache\\virtualenvs\\ppuodz-ml-4-1-dqELbViF-py3.12\\Lib\\site-packages\\lightgbm\\callback.py:325: UserWarning: Early stopping is not available in dart mode\n",
      "  _log_warning('Early stopping is not available in dart mode')\n"
     ]
    },
    {
     "name": "stdout",
     "output_type": "stream",
     "text": [
      "Fold: Tuning: n_train=246009, eval_set=61502\n"
     ]
    },
    {
     "name": "stderr",
     "output_type": "stream",
     "text": [
      "C:\\Users\\Paulius\\AppData\\Local\\pypoetry\\Cache\\virtualenvs\\ppuodz-ml-4-1-dqELbViF-py3.12\\Lib\\site-packages\\lightgbm\\callback.py:325: UserWarning: Early stopping is not available in dart mode\n",
      "  _log_warning('Early stopping is not available in dart mode')\n"
     ]
    },
    {
     "name": "stdout",
     "output_type": "stream",
     "text": [
      "Fold: Tuning: n_train=246009, eval_set=61502\n"
     ]
    },
    {
     "name": "stderr",
     "output_type": "stream",
     "text": [
      "C:\\Users\\Paulius\\AppData\\Local\\pypoetry\\Cache\\virtualenvs\\ppuodz-ml-4-1-dqELbViF-py3.12\\Lib\\site-packages\\lightgbm\\callback.py:325: UserWarning: Early stopping is not available in dart mode\n",
      "  _log_warning('Early stopping is not available in dart mode')\n"
     ]
    },
    {
     "name": "stdout",
     "output_type": "stream",
     "text": [
      "Fold: Tuning: n_train=246009, eval_set=61502\n"
     ]
    },
    {
     "name": "stderr",
     "output_type": "stream",
     "text": [
      "C:\\Users\\Paulius\\AppData\\Local\\pypoetry\\Cache\\virtualenvs\\ppuodz-ml-4-1-dqELbViF-py3.12\\Lib\\site-packages\\lightgbm\\callback.py:325: UserWarning: Early stopping is not available in dart mode\n",
      "  _log_warning('Early stopping is not available in dart mode')\n"
     ]
    },
    {
     "name": "stdout",
     "output_type": "stream",
     "text": [
      "Fold: Tuning: n_train=246009, eval_set=61502\n",
      "Tune: val_score:0.7751, std_test_score:0.00152 train_set_score:0.8807\n",
      "folds val/train: [0.7771, 0.773, 0.7739, 0.7753, 0.7764] / [0.8815, 0.8797, 0.8796, 0.8821, 0.8805], mean fold time: 37.83\n"
     ]
    },
    {
     "name": "stderr",
     "output_type": "stream",
     "text": [
      "[I 2024-04-30 16:01:25,801] Trial 71 finished with value: 0.7751270090588219 and parameters: {'model__class_weight': 'balanced', 'model__objective': 'binary', 'model__boosting_type': 'dart', 'model__n_estimators': 750, 'model__learning_rate': 0.17, 'model__max_depth': 10, 'model__num_leaves': 168, 'model__min_gain_to_split': 1.5, 'model__min_data_in_leaf': 200, 'model__lambda_l1': 75, 'model__lambda_l2': 90, 'model__bagging_fraction': 1.0, 'model__feature_fraction': 0.7, 'model__max_bin': 300, 'model__drop_rate': 0.07500000000000001}. Best is trial 59 with value: 0.7761688739953272.\n",
      "C:\\Users\\Paulius\\AppData\\Local\\pypoetry\\Cache\\virtualenvs\\ppuodz-ml-4-1-dqELbViF-py3.12\\Lib\\site-packages\\lightgbm\\callback.py:325: UserWarning: Early stopping is not available in dart mode\n",
      "  _log_warning('Early stopping is not available in dart mode')\n"
     ]
    },
    {
     "name": "stdout",
     "output_type": "stream",
     "text": [
      "Fold: Tuning: n_train=246008, eval_set=61503\n"
     ]
    },
    {
     "name": "stderr",
     "output_type": "stream",
     "text": [
      "C:\\Users\\Paulius\\AppData\\Local\\pypoetry\\Cache\\virtualenvs\\ppuodz-ml-4-1-dqELbViF-py3.12\\Lib\\site-packages\\lightgbm\\callback.py:325: UserWarning: Early stopping is not available in dart mode\n",
      "  _log_warning('Early stopping is not available in dart mode')\n"
     ]
    },
    {
     "name": "stdout",
     "output_type": "stream",
     "text": [
      "Fold: Tuning: n_train=246009, eval_set=61502\n"
     ]
    },
    {
     "name": "stderr",
     "output_type": "stream",
     "text": [
      "C:\\Users\\Paulius\\AppData\\Local\\pypoetry\\Cache\\virtualenvs\\ppuodz-ml-4-1-dqELbViF-py3.12\\Lib\\site-packages\\lightgbm\\callback.py:325: UserWarning: Early stopping is not available in dart mode\n",
      "  _log_warning('Early stopping is not available in dart mode')\n"
     ]
    },
    {
     "name": "stdout",
     "output_type": "stream",
     "text": [
      "Fold: Tuning: n_train=246009, eval_set=61502\n"
     ]
    },
    {
     "name": "stderr",
     "output_type": "stream",
     "text": [
      "C:\\Users\\Paulius\\AppData\\Local\\pypoetry\\Cache\\virtualenvs\\ppuodz-ml-4-1-dqELbViF-py3.12\\Lib\\site-packages\\lightgbm\\callback.py:325: UserWarning: Early stopping is not available in dart mode\n",
      "  _log_warning('Early stopping is not available in dart mode')\n"
     ]
    },
    {
     "name": "stdout",
     "output_type": "stream",
     "text": [
      "Fold: Tuning: n_train=246009, eval_set=61502\n"
     ]
    },
    {
     "name": "stderr",
     "output_type": "stream",
     "text": [
      "C:\\Users\\Paulius\\AppData\\Local\\pypoetry\\Cache\\virtualenvs\\ppuodz-ml-4-1-dqELbViF-py3.12\\Lib\\site-packages\\lightgbm\\callback.py:325: UserWarning: Early stopping is not available in dart mode\n",
      "  _log_warning('Early stopping is not available in dart mode')\n"
     ]
    },
    {
     "name": "stdout",
     "output_type": "stream",
     "text": [
      "Fold: Tuning: n_train=246009, eval_set=61502\n",
      "Tune: val_score:0.7751, std_test_score:0.00159 train_set_score:0.8491\n",
      "folds val/train: [0.7771, 0.7732, 0.7734, 0.7752, 0.7766] / [0.8501, 0.8488, 0.8489, 0.8498, 0.848], mean fold time: 38.68\n"
     ]
    },
    {
     "name": "stderr",
     "output_type": "stream",
     "text": [
      "[I 2024-04-30 16:04:39,998] Trial 72 finished with value: 0.7751061542010573 and parameters: {'model__class_weight': 'balanced', 'model__objective': 'binary', 'model__boosting_type': 'dart', 'model__n_estimators': 750, 'model__learning_rate': 0.14, 'model__max_depth': 10, 'model__num_leaves': 144, 'model__min_gain_to_split': 4.0, 'model__min_data_in_leaf': 1100, 'model__lambda_l1': 60, 'model__lambda_l2': 105, 'model__bagging_fraction': 0.9000000000000001, 'model__feature_fraction': 0.7, 'model__max_bin': 350, 'model__drop_rate': 0.125}. Best is trial 59 with value: 0.7761688739953272.\n",
      "C:\\Users\\Paulius\\AppData\\Local\\pypoetry\\Cache\\virtualenvs\\ppuodz-ml-4-1-dqELbViF-py3.12\\Lib\\site-packages\\lightgbm\\callback.py:325: UserWarning: Early stopping is not available in dart mode\n",
      "  _log_warning('Early stopping is not available in dart mode')\n"
     ]
    },
    {
     "name": "stdout",
     "output_type": "stream",
     "text": [
      "Fold: Tuning: n_train=246008, eval_set=61503\n"
     ]
    },
    {
     "name": "stderr",
     "output_type": "stream",
     "text": [
      "C:\\Users\\Paulius\\AppData\\Local\\pypoetry\\Cache\\virtualenvs\\ppuodz-ml-4-1-dqELbViF-py3.12\\Lib\\site-packages\\lightgbm\\callback.py:325: UserWarning: Early stopping is not available in dart mode\n",
      "  _log_warning('Early stopping is not available in dart mode')\n"
     ]
    },
    {
     "name": "stdout",
     "output_type": "stream",
     "text": [
      "Fold: Tuning: n_train=246009, eval_set=61502\n"
     ]
    },
    {
     "name": "stderr",
     "output_type": "stream",
     "text": [
      "C:\\Users\\Paulius\\AppData\\Local\\pypoetry\\Cache\\virtualenvs\\ppuodz-ml-4-1-dqELbViF-py3.12\\Lib\\site-packages\\lightgbm\\callback.py:325: UserWarning: Early stopping is not available in dart mode\n",
      "  _log_warning('Early stopping is not available in dart mode')\n"
     ]
    },
    {
     "name": "stdout",
     "output_type": "stream",
     "text": [
      "Fold: Tuning: n_train=246009, eval_set=61502\n"
     ]
    },
    {
     "name": "stderr",
     "output_type": "stream",
     "text": [
      "C:\\Users\\Paulius\\AppData\\Local\\pypoetry\\Cache\\virtualenvs\\ppuodz-ml-4-1-dqELbViF-py3.12\\Lib\\site-packages\\lightgbm\\callback.py:325: UserWarning: Early stopping is not available in dart mode\n",
      "  _log_warning('Early stopping is not available in dart mode')\n"
     ]
    },
    {
     "name": "stdout",
     "output_type": "stream",
     "text": [
      "Fold: Tuning: n_train=246009, eval_set=61502\n"
     ]
    },
    {
     "name": "stderr",
     "output_type": "stream",
     "text": [
      "C:\\Users\\Paulius\\AppData\\Local\\pypoetry\\Cache\\virtualenvs\\ppuodz-ml-4-1-dqELbViF-py3.12\\Lib\\site-packages\\lightgbm\\callback.py:325: UserWarning: Early stopping is not available in dart mode\n",
      "  _log_warning('Early stopping is not available in dart mode')\n"
     ]
    },
    {
     "name": "stdout",
     "output_type": "stream",
     "text": [
      "Fold: Tuning: n_train=246009, eval_set=61502\n",
      "Tune: val_score:0.7755, std_test_score:0.00159 train_set_score:0.8530\n",
      "folds val/train: [0.7779, 0.7735, 0.774, 0.7756, 0.7764] / [0.8535, 0.851, 0.853, 0.8536, 0.8538], mean fold time: 11.23\n"
     ]
    },
    {
     "name": "stderr",
     "output_type": "stream",
     "text": [
      "[I 2024-04-30 16:05:36,918] Trial 73 finished with value: 0.7754853353009947 and parameters: {'model__class_weight': 'balanced', 'model__objective': 'binary', 'model__boosting_type': 'dart', 'model__n_estimators': 650, 'model__learning_rate': 0.2, 'model__max_depth': 10, 'model__num_leaves': 120, 'model__min_gain_to_split': 3.5, 'model__min_data_in_leaf': 700, 'model__lambda_l1': 65, 'model__lambda_l2': 95, 'model__bagging_fraction': 0.2, 'model__feature_fraction': 0.8, 'model__max_bin': 275, 'model__drop_rate': 0.025}. Best is trial 59 with value: 0.7761688739953272.\n",
      "C:\\Users\\Paulius\\AppData\\Local\\pypoetry\\Cache\\virtualenvs\\ppuodz-ml-4-1-dqELbViF-py3.12\\Lib\\site-packages\\lightgbm\\callback.py:325: UserWarning: Early stopping is not available in dart mode\n",
      "  _log_warning('Early stopping is not available in dart mode')\n"
     ]
    },
    {
     "name": "stdout",
     "output_type": "stream",
     "text": [
      "Fold: Tuning: n_train=246008, eval_set=61503\n"
     ]
    },
    {
     "name": "stderr",
     "output_type": "stream",
     "text": [
      "C:\\Users\\Paulius\\AppData\\Local\\pypoetry\\Cache\\virtualenvs\\ppuodz-ml-4-1-dqELbViF-py3.12\\Lib\\site-packages\\lightgbm\\callback.py:325: UserWarning: Early stopping is not available in dart mode\n",
      "  _log_warning('Early stopping is not available in dart mode')\n"
     ]
    },
    {
     "name": "stdout",
     "output_type": "stream",
     "text": [
      "Fold: Tuning: n_train=246009, eval_set=61502\n"
     ]
    },
    {
     "name": "stderr",
     "output_type": "stream",
     "text": [
      "C:\\Users\\Paulius\\AppData\\Local\\pypoetry\\Cache\\virtualenvs\\ppuodz-ml-4-1-dqELbViF-py3.12\\Lib\\site-packages\\lightgbm\\callback.py:325: UserWarning: Early stopping is not available in dart mode\n",
      "  _log_warning('Early stopping is not available in dart mode')\n"
     ]
    },
    {
     "name": "stdout",
     "output_type": "stream",
     "text": [
      "Fold: Tuning: n_train=246009, eval_set=61502\n"
     ]
    },
    {
     "name": "stderr",
     "output_type": "stream",
     "text": [
      "C:\\Users\\Paulius\\AppData\\Local\\pypoetry\\Cache\\virtualenvs\\ppuodz-ml-4-1-dqELbViF-py3.12\\Lib\\site-packages\\lightgbm\\callback.py:325: UserWarning: Early stopping is not available in dart mode\n",
      "  _log_warning('Early stopping is not available in dart mode')\n"
     ]
    },
    {
     "name": "stdout",
     "output_type": "stream",
     "text": [
      "Fold: Tuning: n_train=246009, eval_set=61502\n"
     ]
    },
    {
     "name": "stderr",
     "output_type": "stream",
     "text": [
      "C:\\Users\\Paulius\\AppData\\Local\\pypoetry\\Cache\\virtualenvs\\ppuodz-ml-4-1-dqELbViF-py3.12\\Lib\\site-packages\\lightgbm\\callback.py:325: UserWarning: Early stopping is not available in dart mode\n",
      "  _log_warning('Early stopping is not available in dart mode')\n"
     ]
    },
    {
     "name": "stdout",
     "output_type": "stream",
     "text": [
      "Fold: Tuning: n_train=246009, eval_set=61502\n",
      "Tune: val_score:0.7755, std_test_score:0.00150 train_set_score:0.8678\n",
      "folds val/train: [0.777, 0.7732, 0.7744, 0.776, 0.777] / [0.8689, 0.8666, 0.8665, 0.8688, 0.8681], mean fold time: 12.65\n"
     ]
    },
    {
     "name": "stderr",
     "output_type": "stream",
     "text": [
      "[I 2024-04-30 16:06:40,961] Trial 74 finished with value: 0.7754914215199437 and parameters: {'model__class_weight': 'balanced', 'model__objective': 'binary', 'model__boosting_type': 'dart', 'model__n_estimators': 650, 'model__learning_rate': 0.18000000000000002, 'model__max_depth': 10, 'model__num_leaves': 120, 'model__min_gain_to_split': 2.5, 'model__min_data_in_leaf': 800, 'model__lambda_l1': 65, 'model__lambda_l2': 100, 'model__bagging_fraction': 0.2, 'model__feature_fraction': 0.8, 'model__max_bin': 275, 'model__drop_rate': 0.025}. Best is trial 59 with value: 0.7761688739953272.\n",
      "C:\\Users\\Paulius\\AppData\\Local\\pypoetry\\Cache\\virtualenvs\\ppuodz-ml-4-1-dqELbViF-py3.12\\Lib\\site-packages\\lightgbm\\callback.py:325: UserWarning: Early stopping is not available in dart mode\n",
      "  _log_warning('Early stopping is not available in dart mode')\n"
     ]
    },
    {
     "name": "stdout",
     "output_type": "stream",
     "text": [
      "Fold: Tuning: n_train=246008, eval_set=61503\n"
     ]
    },
    {
     "name": "stderr",
     "output_type": "stream",
     "text": [
      "C:\\Users\\Paulius\\AppData\\Local\\pypoetry\\Cache\\virtualenvs\\ppuodz-ml-4-1-dqELbViF-py3.12\\Lib\\site-packages\\lightgbm\\callback.py:325: UserWarning: Early stopping is not available in dart mode\n",
      "  _log_warning('Early stopping is not available in dart mode')\n"
     ]
    },
    {
     "name": "stdout",
     "output_type": "stream",
     "text": [
      "Fold: Tuning: n_train=246009, eval_set=61502\n"
     ]
    },
    {
     "name": "stderr",
     "output_type": "stream",
     "text": [
      "C:\\Users\\Paulius\\AppData\\Local\\pypoetry\\Cache\\virtualenvs\\ppuodz-ml-4-1-dqELbViF-py3.12\\Lib\\site-packages\\lightgbm\\callback.py:325: UserWarning: Early stopping is not available in dart mode\n",
      "  _log_warning('Early stopping is not available in dart mode')\n"
     ]
    },
    {
     "name": "stdout",
     "output_type": "stream",
     "text": [
      "Fold: Tuning: n_train=246009, eval_set=61502\n"
     ]
    },
    {
     "name": "stderr",
     "output_type": "stream",
     "text": [
      "C:\\Users\\Paulius\\AppData\\Local\\pypoetry\\Cache\\virtualenvs\\ppuodz-ml-4-1-dqELbViF-py3.12\\Lib\\site-packages\\lightgbm\\callback.py:325: UserWarning: Early stopping is not available in dart mode\n",
      "  _log_warning('Early stopping is not available in dart mode')\n"
     ]
    },
    {
     "name": "stdout",
     "output_type": "stream",
     "text": [
      "Fold: Tuning: n_train=246009, eval_set=61502\n"
     ]
    },
    {
     "name": "stderr",
     "output_type": "stream",
     "text": [
      "C:\\Users\\Paulius\\AppData\\Local\\pypoetry\\Cache\\virtualenvs\\ppuodz-ml-4-1-dqELbViF-py3.12\\Lib\\site-packages\\lightgbm\\callback.py:325: UserWarning: Early stopping is not available in dart mode\n",
      "  _log_warning('Early stopping is not available in dart mode')\n"
     ]
    },
    {
     "name": "stdout",
     "output_type": "stream",
     "text": [
      "Fold: Tuning: n_train=246009, eval_set=61502\n",
      "Tune: val_score:0.7742, std_test_score:0.00146 train_set_score:0.9000\n",
      "folds val/train: [0.7755, 0.772, 0.773, 0.7753, 0.7754] / [0.9005, 0.8974, 0.9001, 0.9022, 0.8999], mean fold time: 12.13\n"
     ]
    },
    {
     "name": "stderr",
     "output_type": "stream",
     "text": [
      "[I 2024-04-30 16:07:42,374] Trial 75 finished with value: 0.7742326340089164 and parameters: {'model__class_weight': 'balanced', 'model__objective': 'binary', 'model__boosting_type': 'dart', 'model__n_estimators': 550, 'model__learning_rate': 0.2, 'model__max_depth': 10, 'model__num_leaves': 120, 'model__min_gain_to_split': 2.0, 'model__min_data_in_leaf': 700, 'model__lambda_l1': 50, 'model__lambda_l2': 100, 'model__bagging_fraction': 0.2, 'model__feature_fraction': 1.0, 'model__max_bin': 375, 'model__drop_rate': 0.025}. Best is trial 59 with value: 0.7761688739953272.\n"
     ]
    },
    {
     "name": "stdout",
     "output_type": "stream",
     "text": [
      "Fold: Tuning: n_train=246008, eval_set=61503\n",
      "Fold: Tuning: n_train=246009, eval_set=61502\n",
      "Fold: Tuning: n_train=246009, eval_set=61502\n",
      "Fold: Tuning: n_train=246009, eval_set=61502\n",
      "Fold: Tuning: n_train=246009, eval_set=61502\n",
      "Tune: val_score:0.7691, std_test_score:0.00184 train_set_score:0.7976\n",
      "folds val/train: [0.7697, 0.7662, 0.7679, 0.7707, 0.7711] / [0.7969, 0.7978, 0.7982, 0.7974, 0.7979], mean fold time: 1.96\n"
     ]
    },
    {
     "name": "stderr",
     "output_type": "stream",
     "text": [
      "[I 2024-04-30 16:07:52,971] Trial 76 finished with value: 0.7691298684460348 and parameters: {'model__class_weight': None, 'model__objective': 'binary', 'model__boosting_type': 'gbdt', 'model__n_estimators': 650, 'model__learning_rate': 0.16, 'model__max_depth': 9, 'model__num_leaves': 120, 'model__min_gain_to_split': 1.5, 'model__min_data_in_leaf': 800, 'model__lambda_l1': 60, 'model__lambda_l2': 105, 'model__bagging_fraction': 0.2, 'model__feature_fraction': 0.8, 'model__max_bin': 275, 'model__drop_rate': 0.125}. Best is trial 59 with value: 0.7761688739953272.\n",
      "C:\\Users\\Paulius\\AppData\\Local\\pypoetry\\Cache\\virtualenvs\\ppuodz-ml-4-1-dqELbViF-py3.12\\Lib\\site-packages\\lightgbm\\callback.py:325: UserWarning: Early stopping is not available in dart mode\n",
      "  _log_warning('Early stopping is not available in dart mode')\n"
     ]
    },
    {
     "name": "stdout",
     "output_type": "stream",
     "text": [
      "Fold: Tuning: n_train=246008, eval_set=61503\n"
     ]
    },
    {
     "name": "stderr",
     "output_type": "stream",
     "text": [
      "C:\\Users\\Paulius\\AppData\\Local\\pypoetry\\Cache\\virtualenvs\\ppuodz-ml-4-1-dqELbViF-py3.12\\Lib\\site-packages\\lightgbm\\callback.py:325: UserWarning: Early stopping is not available in dart mode\n",
      "  _log_warning('Early stopping is not available in dart mode')\n"
     ]
    },
    {
     "name": "stdout",
     "output_type": "stream",
     "text": [
      "Fold: Tuning: n_train=246009, eval_set=61502\n"
     ]
    },
    {
     "name": "stderr",
     "output_type": "stream",
     "text": [
      "C:\\Users\\Paulius\\AppData\\Local\\pypoetry\\Cache\\virtualenvs\\ppuodz-ml-4-1-dqELbViF-py3.12\\Lib\\site-packages\\lightgbm\\callback.py:325: UserWarning: Early stopping is not available in dart mode\n",
      "  _log_warning('Early stopping is not available in dart mode')\n"
     ]
    },
    {
     "name": "stdout",
     "output_type": "stream",
     "text": [
      "Fold: Tuning: n_train=246009, eval_set=61502\n"
     ]
    },
    {
     "name": "stderr",
     "output_type": "stream",
     "text": [
      "C:\\Users\\Paulius\\AppData\\Local\\pypoetry\\Cache\\virtualenvs\\ppuodz-ml-4-1-dqELbViF-py3.12\\Lib\\site-packages\\lightgbm\\callback.py:325: UserWarning: Early stopping is not available in dart mode\n",
      "  _log_warning('Early stopping is not available in dart mode')\n"
     ]
    },
    {
     "name": "stdout",
     "output_type": "stream",
     "text": [
      "Fold: Tuning: n_train=246009, eval_set=61502\n"
     ]
    },
    {
     "name": "stderr",
     "output_type": "stream",
     "text": [
      "C:\\Users\\Paulius\\AppData\\Local\\pypoetry\\Cache\\virtualenvs\\ppuodz-ml-4-1-dqELbViF-py3.12\\Lib\\site-packages\\lightgbm\\callback.py:325: UserWarning: Early stopping is not available in dart mode\n",
      "  _log_warning('Early stopping is not available in dart mode')\n"
     ]
    },
    {
     "name": "stdout",
     "output_type": "stream",
     "text": [
      "Fold: Tuning: n_train=246009, eval_set=61502\n",
      "Tune: val_score:0.7733, std_test_score:0.00174 train_set_score:0.8230\n",
      "folds val/train: [0.7762, 0.7712, 0.7721, 0.7729, 0.7742] / [0.8229, 0.8232, 0.8233, 0.8232, 0.8222], mean fold time: 3.74\n"
     ]
    },
    {
     "name": "stderr",
     "output_type": "stream",
     "text": [
      "[I 2024-04-30 16:08:12,472] Trial 77 finished with value: 0.7733325779709974 and parameters: {'model__class_weight': 'balanced', 'model__objective': 'binary', 'model__boosting_type': 'dart', 'model__n_estimators': 600, 'model__learning_rate': 0.18000000000000002, 'model__max_depth': 5, 'model__num_leaves': 96, 'model__min_gain_to_split': 2.5, 'model__min_data_in_leaf': 400, 'model__lambda_l1': 65, 'model__lambda_l2': 95, 'model__bagging_fraction': 0.2, 'model__feature_fraction': 0.9000000000000001, 'model__max_bin': 300, 'model__drop_rate': 0.0}. Best is trial 59 with value: 0.7761688739953272.\n",
      "C:\\Users\\Paulius\\AppData\\Local\\pypoetry\\Cache\\virtualenvs\\ppuodz-ml-4-1-dqELbViF-py3.12\\Lib\\site-packages\\lightgbm\\callback.py:325: UserWarning: Early stopping is not available in dart mode\n",
      "  _log_warning('Early stopping is not available in dart mode')\n"
     ]
    },
    {
     "name": "stdout",
     "output_type": "stream",
     "text": [
      "Fold: Tuning: n_train=246008, eval_set=61503\n"
     ]
    },
    {
     "name": "stderr",
     "output_type": "stream",
     "text": [
      "C:\\Users\\Paulius\\AppData\\Local\\pypoetry\\Cache\\virtualenvs\\ppuodz-ml-4-1-dqELbViF-py3.12\\Lib\\site-packages\\lightgbm\\callback.py:325: UserWarning: Early stopping is not available in dart mode\n",
      "  _log_warning('Early stopping is not available in dart mode')\n"
     ]
    },
    {
     "name": "stdout",
     "output_type": "stream",
     "text": [
      "Fold: Tuning: n_train=246009, eval_set=61502\n"
     ]
    },
    {
     "name": "stderr",
     "output_type": "stream",
     "text": [
      "C:\\Users\\Paulius\\AppData\\Local\\pypoetry\\Cache\\virtualenvs\\ppuodz-ml-4-1-dqELbViF-py3.12\\Lib\\site-packages\\lightgbm\\callback.py:325: UserWarning: Early stopping is not available in dart mode\n",
      "  _log_warning('Early stopping is not available in dart mode')\n"
     ]
    },
    {
     "name": "stdout",
     "output_type": "stream",
     "text": [
      "Fold: Tuning: n_train=246009, eval_set=61502\n"
     ]
    },
    {
     "name": "stderr",
     "output_type": "stream",
     "text": [
      "C:\\Users\\Paulius\\AppData\\Local\\pypoetry\\Cache\\virtualenvs\\ppuodz-ml-4-1-dqELbViF-py3.12\\Lib\\site-packages\\lightgbm\\callback.py:325: UserWarning: Early stopping is not available in dart mode\n",
      "  _log_warning('Early stopping is not available in dart mode')\n"
     ]
    },
    {
     "name": "stdout",
     "output_type": "stream",
     "text": [
      "Fold: Tuning: n_train=246009, eval_set=61502\n"
     ]
    },
    {
     "name": "stderr",
     "output_type": "stream",
     "text": [
      "C:\\Users\\Paulius\\AppData\\Local\\pypoetry\\Cache\\virtualenvs\\ppuodz-ml-4-1-dqELbViF-py3.12\\Lib\\site-packages\\lightgbm\\callback.py:325: UserWarning: Early stopping is not available in dart mode\n",
      "  _log_warning('Early stopping is not available in dart mode')\n"
     ]
    },
    {
     "name": "stdout",
     "output_type": "stream",
     "text": [
      "Fold: Tuning: n_train=246009, eval_set=61502\n",
      "Tune: val_score:0.7750, std_test_score:0.00155 train_set_score:0.8402\n",
      "folds val/train: [0.7772, 0.7734, 0.7735, 0.7745, 0.7765] / [0.84, 0.8395, 0.8406, 0.841, 0.84], mean fold time: 31.77\n"
     ]
    },
    {
     "name": "stderr",
     "output_type": "stream",
     "text": [
      "[I 2024-04-30 16:10:52,163] Trial 78 finished with value: 0.7750098447493975 and parameters: {'model__class_weight': 'balanced', 'model__objective': 'binary', 'model__boosting_type': 'dart', 'model__n_estimators': 650, 'model__learning_rate': 0.19, 'model__max_depth': 8, 'model__num_leaves': 136, 'model__min_gain_to_split': 3.5, 'model__min_data_in_leaf': 200, 'model__lambda_l1': 80, 'model__lambda_l2': 100, 'model__bagging_fraction': 0.2, 'model__feature_fraction': 0.8, 'model__max_bin': 325, 'model__drop_rate': 0.17500000000000002}. Best is trial 59 with value: 0.7761688739953272.\n",
      "C:\\Users\\Paulius\\AppData\\Local\\pypoetry\\Cache\\virtualenvs\\ppuodz-ml-4-1-dqELbViF-py3.12\\Lib\\site-packages\\lightgbm\\callback.py:325: UserWarning: Early stopping is not available in dart mode\n",
      "  _log_warning('Early stopping is not available in dart mode')\n"
     ]
    },
    {
     "name": "stdout",
     "output_type": "stream",
     "text": [
      "Fold: Tuning: n_train=246008, eval_set=61503\n"
     ]
    },
    {
     "name": "stderr",
     "output_type": "stream",
     "text": [
      "C:\\Users\\Paulius\\AppData\\Local\\pypoetry\\Cache\\virtualenvs\\ppuodz-ml-4-1-dqELbViF-py3.12\\Lib\\site-packages\\lightgbm\\callback.py:325: UserWarning: Early stopping is not available in dart mode\n",
      "  _log_warning('Early stopping is not available in dart mode')\n"
     ]
    },
    {
     "name": "stdout",
     "output_type": "stream",
     "text": [
      "Fold: Tuning: n_train=246009, eval_set=61502\n"
     ]
    },
    {
     "name": "stderr",
     "output_type": "stream",
     "text": [
      "C:\\Users\\Paulius\\AppData\\Local\\pypoetry\\Cache\\virtualenvs\\ppuodz-ml-4-1-dqELbViF-py3.12\\Lib\\site-packages\\lightgbm\\callback.py:325: UserWarning: Early stopping is not available in dart mode\n",
      "  _log_warning('Early stopping is not available in dart mode')\n"
     ]
    },
    {
     "name": "stdout",
     "output_type": "stream",
     "text": [
      "Fold: Tuning: n_train=246009, eval_set=61502\n"
     ]
    },
    {
     "name": "stderr",
     "output_type": "stream",
     "text": [
      "C:\\Users\\Paulius\\AppData\\Local\\pypoetry\\Cache\\virtualenvs\\ppuodz-ml-4-1-dqELbViF-py3.12\\Lib\\site-packages\\lightgbm\\callback.py:325: UserWarning: Early stopping is not available in dart mode\n",
      "  _log_warning('Early stopping is not available in dart mode')\n"
     ]
    },
    {
     "name": "stdout",
     "output_type": "stream",
     "text": [
      "Fold: Tuning: n_train=246009, eval_set=61502\n"
     ]
    },
    {
     "name": "stderr",
     "output_type": "stream",
     "text": [
      "C:\\Users\\Paulius\\AppData\\Local\\pypoetry\\Cache\\virtualenvs\\ppuodz-ml-4-1-dqELbViF-py3.12\\Lib\\site-packages\\lightgbm\\callback.py:325: UserWarning: Early stopping is not available in dart mode\n",
      "  _log_warning('Early stopping is not available in dart mode')\n"
     ]
    },
    {
     "name": "stdout",
     "output_type": "stream",
     "text": [
      "Fold: Tuning: n_train=246009, eval_set=61502\n",
      "Tune: val_score:0.7756, std_test_score:0.00145 train_set_score:0.8541\n",
      "folds val/train: [0.7778, 0.7739, 0.7741, 0.7761, 0.7761] / [0.8545, 0.8528, 0.855, 0.855, 0.8533], mean fold time: 33.05\n"
     ]
    },
    {
     "name": "stderr",
     "output_type": "stream",
     "text": [
      "[I 2024-04-30 16:13:38,191] Trial 79 finished with value: 0.7755660895432817 and parameters: {'model__class_weight': 'balanced', 'model__objective': 'binary', 'model__boosting_type': 'dart', 'model__n_estimators': 700, 'model__learning_rate': 0.21000000000000002, 'model__max_depth': 10, 'model__num_leaves': 112, 'model__min_gain_to_split': 3.0, 'model__min_data_in_leaf': 900, 'model__lambda_l1': 75, 'model__lambda_l2': 15, 'model__bagging_fraction': 0.8, 'model__feature_fraction': 0.9000000000000001, 'model__max_bin': 350, 'model__drop_rate': 0.1}. Best is trial 59 with value: 0.7761688739953272.\n",
      "C:\\Users\\Paulius\\AppData\\Local\\pypoetry\\Cache\\virtualenvs\\ppuodz-ml-4-1-dqELbViF-py3.12\\Lib\\site-packages\\lightgbm\\callback.py:325: UserWarning: Early stopping is not available in dart mode\n",
      "  _log_warning('Early stopping is not available in dart mode')\n"
     ]
    },
    {
     "name": "stdout",
     "output_type": "stream",
     "text": [
      "Fold: Tuning: n_train=246008, eval_set=61503\n"
     ]
    },
    {
     "name": "stderr",
     "output_type": "stream",
     "text": [
      "C:\\Users\\Paulius\\AppData\\Local\\pypoetry\\Cache\\virtualenvs\\ppuodz-ml-4-1-dqELbViF-py3.12\\Lib\\site-packages\\lightgbm\\callback.py:325: UserWarning: Early stopping is not available in dart mode\n",
      "  _log_warning('Early stopping is not available in dart mode')\n"
     ]
    },
    {
     "name": "stdout",
     "output_type": "stream",
     "text": [
      "Fold: Tuning: n_train=246009, eval_set=61502\n"
     ]
    },
    {
     "name": "stderr",
     "output_type": "stream",
     "text": [
      "C:\\Users\\Paulius\\AppData\\Local\\pypoetry\\Cache\\virtualenvs\\ppuodz-ml-4-1-dqELbViF-py3.12\\Lib\\site-packages\\lightgbm\\callback.py:325: UserWarning: Early stopping is not available in dart mode\n",
      "  _log_warning('Early stopping is not available in dart mode')\n"
     ]
    },
    {
     "name": "stdout",
     "output_type": "stream",
     "text": [
      "Fold: Tuning: n_train=246009, eval_set=61502\n"
     ]
    },
    {
     "name": "stderr",
     "output_type": "stream",
     "text": [
      "C:\\Users\\Paulius\\AppData\\Local\\pypoetry\\Cache\\virtualenvs\\ppuodz-ml-4-1-dqELbViF-py3.12\\Lib\\site-packages\\lightgbm\\callback.py:325: UserWarning: Early stopping is not available in dart mode\n",
      "  _log_warning('Early stopping is not available in dart mode')\n"
     ]
    },
    {
     "name": "stdout",
     "output_type": "stream",
     "text": [
      "Fold: Tuning: n_train=246009, eval_set=61502\n"
     ]
    },
    {
     "name": "stderr",
     "output_type": "stream",
     "text": [
      "C:\\Users\\Paulius\\AppData\\Local\\pypoetry\\Cache\\virtualenvs\\ppuodz-ml-4-1-dqELbViF-py3.12\\Lib\\site-packages\\lightgbm\\callback.py:325: UserWarning: Early stopping is not available in dart mode\n",
      "  _log_warning('Early stopping is not available in dart mode')\n"
     ]
    },
    {
     "name": "stdout",
     "output_type": "stream",
     "text": [
      "Fold: Tuning: n_train=246009, eval_set=61502\n",
      "Tune: val_score:0.7733, std_test_score:0.00199 train_set_score:0.8953\n",
      "folds val/train: [0.7755, 0.7702, 0.772, 0.7739, 0.7751] / [0.8956, 0.8956, 0.8949, 0.8958, 0.8944], mean fold time: 31.29\n"
     ]
    },
    {
     "name": "stderr",
     "output_type": "stream",
     "text": [
      "[I 2024-04-30 16:16:15,458] Trial 80 finished with value: 0.773347375044396 and parameters: {'model__class_weight': 'balanced', 'model__objective': 'binary', 'model__boosting_type': 'dart', 'model__n_estimators': 700, 'model__learning_rate': 0.21000000000000002, 'model__max_depth': 9, 'model__num_leaves': 256, 'model__min_gain_to_split': 0.5, 'model__min_data_in_leaf': 1300, 'model__lambda_l1': 75, 'model__lambda_l2': 15, 'model__bagging_fraction': 1.0, 'model__feature_fraction': 0.9000000000000001, 'model__max_bin': 325, 'model__drop_rate': 0.07500000000000001}. Best is trial 59 with value: 0.7761688739953272.\n",
      "C:\\Users\\Paulius\\AppData\\Local\\pypoetry\\Cache\\virtualenvs\\ppuodz-ml-4-1-dqELbViF-py3.12\\Lib\\site-packages\\lightgbm\\callback.py:325: UserWarning: Early stopping is not available in dart mode\n",
      "  _log_warning('Early stopping is not available in dart mode')\n"
     ]
    },
    {
     "name": "stdout",
     "output_type": "stream",
     "text": [
      "Fold: Tuning: n_train=246008, eval_set=61503\n"
     ]
    },
    {
     "name": "stderr",
     "output_type": "stream",
     "text": [
      "C:\\Users\\Paulius\\AppData\\Local\\pypoetry\\Cache\\virtualenvs\\ppuodz-ml-4-1-dqELbViF-py3.12\\Lib\\site-packages\\lightgbm\\callback.py:325: UserWarning: Early stopping is not available in dart mode\n",
      "  _log_warning('Early stopping is not available in dart mode')\n"
     ]
    },
    {
     "name": "stdout",
     "output_type": "stream",
     "text": [
      "Fold: Tuning: n_train=246009, eval_set=61502\n"
     ]
    },
    {
     "name": "stderr",
     "output_type": "stream",
     "text": [
      "C:\\Users\\Paulius\\AppData\\Local\\pypoetry\\Cache\\virtualenvs\\ppuodz-ml-4-1-dqELbViF-py3.12\\Lib\\site-packages\\lightgbm\\callback.py:325: UserWarning: Early stopping is not available in dart mode\n",
      "  _log_warning('Early stopping is not available in dart mode')\n"
     ]
    },
    {
     "name": "stdout",
     "output_type": "stream",
     "text": [
      "Fold: Tuning: n_train=246009, eval_set=61502\n"
     ]
    },
    {
     "name": "stderr",
     "output_type": "stream",
     "text": [
      "C:\\Users\\Paulius\\AppData\\Local\\pypoetry\\Cache\\virtualenvs\\ppuodz-ml-4-1-dqELbViF-py3.12\\Lib\\site-packages\\lightgbm\\callback.py:325: UserWarning: Early stopping is not available in dart mode\n",
      "  _log_warning('Early stopping is not available in dart mode')\n"
     ]
    },
    {
     "name": "stdout",
     "output_type": "stream",
     "text": [
      "Fold: Tuning: n_train=246009, eval_set=61502\n"
     ]
    },
    {
     "name": "stderr",
     "output_type": "stream",
     "text": [
      "C:\\Users\\Paulius\\AppData\\Local\\pypoetry\\Cache\\virtualenvs\\ppuodz-ml-4-1-dqELbViF-py3.12\\Lib\\site-packages\\lightgbm\\callback.py:325: UserWarning: Early stopping is not available in dart mode\n",
      "  _log_warning('Early stopping is not available in dart mode')\n"
     ]
    },
    {
     "name": "stdout",
     "output_type": "stream",
     "text": [
      "Fold: Tuning: n_train=246009, eval_set=61502\n",
      "Tune: val_score:0.7758, std_test_score:0.00158 train_set_score:0.8618\n",
      "folds val/train: [0.7777, 0.7733, 0.7746, 0.7767, 0.7766] / [0.8627, 0.8603, 0.8616, 0.8632, 0.8613], mean fold time: 13.93\n"
     ]
    },
    {
     "name": "stderr",
     "output_type": "stream",
     "text": [
      "[I 2024-04-30 16:17:25,970] Trial 81 finished with value: 0.775779859991285 and parameters: {'model__class_weight': 'balanced', 'model__objective': 'binary', 'model__boosting_type': 'dart', 'model__n_estimators': 650, 'model__learning_rate': 0.18000000000000002, 'model__max_depth': 10, 'model__num_leaves': 112, 'model__min_gain_to_split': 3.0, 'model__min_data_in_leaf': 600, 'model__lambda_l1': 70, 'model__lambda_l2': 95, 'model__bagging_fraction': 0.8, 'model__feature_fraction': 1.0, 'model__max_bin': 400, 'model__drop_rate': 0.025}. Best is trial 59 with value: 0.7761688739953272.\n",
      "C:\\Users\\Paulius\\AppData\\Local\\pypoetry\\Cache\\virtualenvs\\ppuodz-ml-4-1-dqELbViF-py3.12\\Lib\\site-packages\\lightgbm\\callback.py:325: UserWarning: Early stopping is not available in dart mode\n",
      "  _log_warning('Early stopping is not available in dart mode')\n"
     ]
    },
    {
     "name": "stdout",
     "output_type": "stream",
     "text": [
      "Fold: Tuning: n_train=246008, eval_set=61503\n"
     ]
    },
    {
     "name": "stderr",
     "output_type": "stream",
     "text": [
      "C:\\Users\\Paulius\\AppData\\Local\\pypoetry\\Cache\\virtualenvs\\ppuodz-ml-4-1-dqELbViF-py3.12\\Lib\\site-packages\\lightgbm\\callback.py:325: UserWarning: Early stopping is not available in dart mode\n",
      "  _log_warning('Early stopping is not available in dart mode')\n"
     ]
    },
    {
     "name": "stdout",
     "output_type": "stream",
     "text": [
      "Fold: Tuning: n_train=246009, eval_set=61502\n"
     ]
    },
    {
     "name": "stderr",
     "output_type": "stream",
     "text": [
      "C:\\Users\\Paulius\\AppData\\Local\\pypoetry\\Cache\\virtualenvs\\ppuodz-ml-4-1-dqELbViF-py3.12\\Lib\\site-packages\\lightgbm\\callback.py:325: UserWarning: Early stopping is not available in dart mode\n",
      "  _log_warning('Early stopping is not available in dart mode')\n"
     ]
    },
    {
     "name": "stdout",
     "output_type": "stream",
     "text": [
      "Fold: Tuning: n_train=246009, eval_set=61502\n"
     ]
    },
    {
     "name": "stderr",
     "output_type": "stream",
     "text": [
      "C:\\Users\\Paulius\\AppData\\Local\\pypoetry\\Cache\\virtualenvs\\ppuodz-ml-4-1-dqELbViF-py3.12\\Lib\\site-packages\\lightgbm\\callback.py:325: UserWarning: Early stopping is not available in dart mode\n",
      "  _log_warning('Early stopping is not available in dart mode')\n"
     ]
    },
    {
     "name": "stdout",
     "output_type": "stream",
     "text": [
      "Fold: Tuning: n_train=246009, eval_set=61502\n"
     ]
    },
    {
     "name": "stderr",
     "output_type": "stream",
     "text": [
      "C:\\Users\\Paulius\\AppData\\Local\\pypoetry\\Cache\\virtualenvs\\ppuodz-ml-4-1-dqELbViF-py3.12\\Lib\\site-packages\\lightgbm\\callback.py:325: UserWarning: Early stopping is not available in dart mode\n",
      "  _log_warning('Early stopping is not available in dart mode')\n"
     ]
    },
    {
     "name": "stdout",
     "output_type": "stream",
     "text": [
      "Fold: Tuning: n_train=246009, eval_set=61502\n",
      "Tune: val_score:0.7745, std_test_score:0.00138 train_set_score:0.8532\n",
      "folds val/train: [0.7765, 0.7727, 0.7733, 0.7749, 0.7753] / [0.8536, 0.8521, 0.853, 0.8545, 0.853], mean fold time: 23.42\n"
     ]
    },
    {
     "name": "stderr",
     "output_type": "stream",
     "text": [
      "[I 2024-04-30 16:19:23,879] Trial 82 finished with value: 0.7745487594810218 and parameters: {'model__class_weight': 'balanced', 'model__objective': 'binary', 'model__boosting_type': 'dart', 'model__n_estimators': 550, 'model__learning_rate': 0.18000000000000002, 'model__max_depth': 10, 'model__num_leaves': 112, 'model__min_gain_to_split': 3.0, 'model__min_data_in_leaf': 900, 'model__lambda_l1': 85, 'model__lambda_l2': 25, 'model__bagging_fraction': 0.8, 'model__feature_fraction': 1.0, 'model__max_bin': 400, 'model__drop_rate': 0.1}. Best is trial 59 with value: 0.7761688739953272.\n",
      "C:\\Users\\Paulius\\AppData\\Local\\pypoetry\\Cache\\virtualenvs\\ppuodz-ml-4-1-dqELbViF-py3.12\\Lib\\site-packages\\lightgbm\\callback.py:325: UserWarning: Early stopping is not available in dart mode\n",
      "  _log_warning('Early stopping is not available in dart mode')\n"
     ]
    },
    {
     "name": "stdout",
     "output_type": "stream",
     "text": [
      "Fold: Tuning: n_train=246008, eval_set=61503\n"
     ]
    },
    {
     "name": "stderr",
     "output_type": "stream",
     "text": [
      "C:\\Users\\Paulius\\AppData\\Local\\pypoetry\\Cache\\virtualenvs\\ppuodz-ml-4-1-dqELbViF-py3.12\\Lib\\site-packages\\lightgbm\\callback.py:325: UserWarning: Early stopping is not available in dart mode\n",
      "  _log_warning('Early stopping is not available in dart mode')\n"
     ]
    },
    {
     "name": "stdout",
     "output_type": "stream",
     "text": [
      "Fold: Tuning: n_train=246009, eval_set=61502\n"
     ]
    },
    {
     "name": "stderr",
     "output_type": "stream",
     "text": [
      "C:\\Users\\Paulius\\AppData\\Local\\pypoetry\\Cache\\virtualenvs\\ppuodz-ml-4-1-dqELbViF-py3.12\\Lib\\site-packages\\lightgbm\\callback.py:325: UserWarning: Early stopping is not available in dart mode\n",
      "  _log_warning('Early stopping is not available in dart mode')\n"
     ]
    },
    {
     "name": "stdout",
     "output_type": "stream",
     "text": [
      "Fold: Tuning: n_train=246009, eval_set=61502\n"
     ]
    },
    {
     "name": "stderr",
     "output_type": "stream",
     "text": [
      "C:\\Users\\Paulius\\AppData\\Local\\pypoetry\\Cache\\virtualenvs\\ppuodz-ml-4-1-dqELbViF-py3.12\\Lib\\site-packages\\lightgbm\\callback.py:325: UserWarning: Early stopping is not available in dart mode\n",
      "  _log_warning('Early stopping is not available in dart mode')\n"
     ]
    },
    {
     "name": "stdout",
     "output_type": "stream",
     "text": [
      "Fold: Tuning: n_train=246009, eval_set=61502\n"
     ]
    },
    {
     "name": "stderr",
     "output_type": "stream",
     "text": [
      "C:\\Users\\Paulius\\AppData\\Local\\pypoetry\\Cache\\virtualenvs\\ppuodz-ml-4-1-dqELbViF-py3.12\\Lib\\site-packages\\lightgbm\\callback.py:325: UserWarning: Early stopping is not available in dart mode\n",
      "  _log_warning('Early stopping is not available in dart mode')\n"
     ]
    },
    {
     "name": "stdout",
     "output_type": "stream",
     "text": [
      "Fold: Tuning: n_train=246009, eval_set=61502\n",
      "Tune: val_score:0.7727, std_test_score:0.00172 train_set_score:0.8117\n",
      "folds val/train: [0.7746, 0.7705, 0.7709, 0.7731, 0.7743] / [0.8114, 0.8113, 0.8121, 0.8122, 0.8116], mean fold time: 36.42\n"
     ]
    },
    {
     "name": "stderr",
     "output_type": "stream",
     "text": [
      "[I 2024-04-30 16:22:26,786] Trial 83 finished with value: 0.7727030405930293 and parameters: {'model__class_weight': 'balanced', 'model__objective': 'binary', 'model__boosting_type': 'dart', 'model__n_estimators': 800, 'model__learning_rate': 0.16, 'model__max_depth': 10, 'model__num_leaves': 96, 'model__min_gain_to_split': 15.0, 'model__min_data_in_leaf': 500, 'model__lambda_l1': 70, 'model__lambda_l2': 5, 'model__bagging_fraction': 0.9000000000000001, 'model__feature_fraction': 1.0, 'model__max_bin': 375, 'model__drop_rate': 0.15000000000000002}. Best is trial 59 with value: 0.7761688739953272.\n",
      "C:\\Users\\Paulius\\AppData\\Local\\pypoetry\\Cache\\virtualenvs\\ppuodz-ml-4-1-dqELbViF-py3.12\\Lib\\site-packages\\lightgbm\\callback.py:325: UserWarning: Early stopping is not available in dart mode\n",
      "  _log_warning('Early stopping is not available in dart mode')\n"
     ]
    },
    {
     "name": "stdout",
     "output_type": "stream",
     "text": [
      "Fold: Tuning: n_train=246008, eval_set=61503\n"
     ]
    },
    {
     "name": "stderr",
     "output_type": "stream",
     "text": [
      "C:\\Users\\Paulius\\AppData\\Local\\pypoetry\\Cache\\virtualenvs\\ppuodz-ml-4-1-dqELbViF-py3.12\\Lib\\site-packages\\lightgbm\\callback.py:325: UserWarning: Early stopping is not available in dart mode\n",
      "  _log_warning('Early stopping is not available in dart mode')\n"
     ]
    },
    {
     "name": "stdout",
     "output_type": "stream",
     "text": [
      "Fold: Tuning: n_train=246009, eval_set=61502\n"
     ]
    },
    {
     "name": "stderr",
     "output_type": "stream",
     "text": [
      "C:\\Users\\Paulius\\AppData\\Local\\pypoetry\\Cache\\virtualenvs\\ppuodz-ml-4-1-dqELbViF-py3.12\\Lib\\site-packages\\lightgbm\\callback.py:325: UserWarning: Early stopping is not available in dart mode\n",
      "  _log_warning('Early stopping is not available in dart mode')\n"
     ]
    },
    {
     "name": "stdout",
     "output_type": "stream",
     "text": [
      "Fold: Tuning: n_train=246009, eval_set=61502\n"
     ]
    },
    {
     "name": "stderr",
     "output_type": "stream",
     "text": [
      "C:\\Users\\Paulius\\AppData\\Local\\pypoetry\\Cache\\virtualenvs\\ppuodz-ml-4-1-dqELbViF-py3.12\\Lib\\site-packages\\lightgbm\\callback.py:325: UserWarning: Early stopping is not available in dart mode\n",
      "  _log_warning('Early stopping is not available in dart mode')\n"
     ]
    },
    {
     "name": "stdout",
     "output_type": "stream",
     "text": [
      "Fold: Tuning: n_train=246009, eval_set=61502\n"
     ]
    },
    {
     "name": "stderr",
     "output_type": "stream",
     "text": [
      "C:\\Users\\Paulius\\AppData\\Local\\pypoetry\\Cache\\virtualenvs\\ppuodz-ml-4-1-dqELbViF-py3.12\\Lib\\site-packages\\lightgbm\\callback.py:325: UserWarning: Early stopping is not available in dart mode\n",
      "  _log_warning('Early stopping is not available in dart mode')\n"
     ]
    },
    {
     "name": "stdout",
     "output_type": "stream",
     "text": [
      "Fold: Tuning: n_train=246009, eval_set=61502\n",
      "Tune: val_score:0.7749, std_test_score:0.00199 train_set_score:0.8554\n",
      "folds val/train: [0.7771, 0.7724, 0.7726, 0.7761, 0.7762] / [0.8547, 0.8545, 0.8561, 0.8573, 0.8542], mean fold time: 63.92\n"
     ]
    },
    {
     "name": "stderr",
     "output_type": "stream",
     "text": [
      "[I 2024-04-30 16:27:47,211] Trial 84 finished with value: 0.7748771629162474 and parameters: {'model__class_weight': 'balanced', 'model__objective': 'binary', 'model__boosting_type': 'dart', 'model__n_estimators': 950, 'model__learning_rate': 0.19, 'model__max_depth': 10, 'model__num_leaves': 128, 'model__min_gain_to_split': 2.5, 'model__min_data_in_leaf': 600, 'model__lambda_l1': 75, 'model__lambda_l2': 85, 'model__bagging_fraction': 0.7, 'model__feature_fraction': 1.0, 'model__max_bin': 350, 'model__drop_rate': 0.375}. Best is trial 59 with value: 0.7761688739953272.\n",
      "C:\\Users\\Paulius\\AppData\\Local\\pypoetry\\Cache\\virtualenvs\\ppuodz-ml-4-1-dqELbViF-py3.12\\Lib\\site-packages\\lightgbm\\callback.py:325: UserWarning: Early stopping is not available in dart mode\n",
      "  _log_warning('Early stopping is not available in dart mode')\n"
     ]
    },
    {
     "name": "stdout",
     "output_type": "stream",
     "text": [
      "Fold: Tuning: n_train=246008, eval_set=61503\n"
     ]
    },
    {
     "name": "stderr",
     "output_type": "stream",
     "text": [
      "C:\\Users\\Paulius\\AppData\\Local\\pypoetry\\Cache\\virtualenvs\\ppuodz-ml-4-1-dqELbViF-py3.12\\Lib\\site-packages\\lightgbm\\callback.py:325: UserWarning: Early stopping is not available in dart mode\n",
      "  _log_warning('Early stopping is not available in dart mode')\n"
     ]
    },
    {
     "name": "stdout",
     "output_type": "stream",
     "text": [
      "Fold: Tuning: n_train=246009, eval_set=61502\n"
     ]
    },
    {
     "name": "stderr",
     "output_type": "stream",
     "text": [
      "C:\\Users\\Paulius\\AppData\\Local\\pypoetry\\Cache\\virtualenvs\\ppuodz-ml-4-1-dqELbViF-py3.12\\Lib\\site-packages\\lightgbm\\callback.py:325: UserWarning: Early stopping is not available in dart mode\n",
      "  _log_warning('Early stopping is not available in dart mode')\n"
     ]
    },
    {
     "name": "stdout",
     "output_type": "stream",
     "text": [
      "Fold: Tuning: n_train=246009, eval_set=61502\n"
     ]
    },
    {
     "name": "stderr",
     "output_type": "stream",
     "text": [
      "C:\\Users\\Paulius\\AppData\\Local\\pypoetry\\Cache\\virtualenvs\\ppuodz-ml-4-1-dqELbViF-py3.12\\Lib\\site-packages\\lightgbm\\callback.py:325: UserWarning: Early stopping is not available in dart mode\n",
      "  _log_warning('Early stopping is not available in dart mode')\n"
     ]
    },
    {
     "name": "stdout",
     "output_type": "stream",
     "text": [
      "Fold: Tuning: n_train=246009, eval_set=61502\n"
     ]
    },
    {
     "name": "stderr",
     "output_type": "stream",
     "text": [
      "C:\\Users\\Paulius\\AppData\\Local\\pypoetry\\Cache\\virtualenvs\\ppuodz-ml-4-1-dqELbViF-py3.12\\Lib\\site-packages\\lightgbm\\callback.py:325: UserWarning: Early stopping is not available in dart mode\n",
      "  _log_warning('Early stopping is not available in dart mode')\n"
     ]
    },
    {
     "name": "stdout",
     "output_type": "stream",
     "text": [
      "Fold: Tuning: n_train=246009, eval_set=61502\n",
      "Tune: val_score:0.7739, std_test_score:0.00150 train_set_score:0.8961\n",
      "folds val/train: [0.7762, 0.7717, 0.773, 0.7741, 0.7746] / [0.8969, 0.8939, 0.8964, 0.8972, 0.8962], mean fold time: 47.56\n"
     ]
    },
    {
     "name": "stderr",
     "output_type": "stream",
     "text": [
      "[I 2024-04-30 16:31:45,930] Trial 85 finished with value: 0.7738991785550662 and parameters: {'model__class_weight': 'balanced', 'model__objective': 'binary', 'model__boosting_type': 'dart', 'model__n_estimators': 700, 'model__learning_rate': 0.13, 'model__max_depth': 10, 'model__num_leaves': 240, 'model__min_gain_to_split': 1.5, 'model__min_data_in_leaf': 300, 'model__lambda_l1': 60, 'model__lambda_l2': 110, 'model__bagging_fraction': 0.8, 'model__feature_fraction': 0.9000000000000001, 'model__max_bin': 350, 'model__drop_rate': 0.1}. Best is trial 59 with value: 0.7761688739953272.\n",
      "C:\\Users\\Paulius\\AppData\\Local\\pypoetry\\Cache\\virtualenvs\\ppuodz-ml-4-1-dqELbViF-py3.12\\Lib\\site-packages\\lightgbm\\callback.py:325: UserWarning: Early stopping is not available in dart mode\n",
      "  _log_warning('Early stopping is not available in dart mode')\n"
     ]
    },
    {
     "name": "stdout",
     "output_type": "stream",
     "text": [
      "Fold: Tuning: n_train=246008, eval_set=61503\n"
     ]
    },
    {
     "name": "stderr",
     "output_type": "stream",
     "text": [
      "C:\\Users\\Paulius\\AppData\\Local\\pypoetry\\Cache\\virtualenvs\\ppuodz-ml-4-1-dqELbViF-py3.12\\Lib\\site-packages\\lightgbm\\callback.py:325: UserWarning: Early stopping is not available in dart mode\n",
      "  _log_warning('Early stopping is not available in dart mode')\n"
     ]
    },
    {
     "name": "stdout",
     "output_type": "stream",
     "text": [
      "Fold: Tuning: n_train=246009, eval_set=61502\n"
     ]
    },
    {
     "name": "stderr",
     "output_type": "stream",
     "text": [
      "C:\\Users\\Paulius\\AppData\\Local\\pypoetry\\Cache\\virtualenvs\\ppuodz-ml-4-1-dqELbViF-py3.12\\Lib\\site-packages\\lightgbm\\callback.py:325: UserWarning: Early stopping is not available in dart mode\n",
      "  _log_warning('Early stopping is not available in dart mode')\n"
     ]
    },
    {
     "name": "stdout",
     "output_type": "stream",
     "text": [
      "Fold: Tuning: n_train=246009, eval_set=61502\n"
     ]
    },
    {
     "name": "stderr",
     "output_type": "stream",
     "text": [
      "C:\\Users\\Paulius\\AppData\\Local\\pypoetry\\Cache\\virtualenvs\\ppuodz-ml-4-1-dqELbViF-py3.12\\Lib\\site-packages\\lightgbm\\callback.py:325: UserWarning: Early stopping is not available in dart mode\n",
      "  _log_warning('Early stopping is not available in dart mode')\n"
     ]
    },
    {
     "name": "stdout",
     "output_type": "stream",
     "text": [
      "Fold: Tuning: n_train=246009, eval_set=61502\n"
     ]
    },
    {
     "name": "stderr",
     "output_type": "stream",
     "text": [
      "C:\\Users\\Paulius\\AppData\\Local\\pypoetry\\Cache\\virtualenvs\\ppuodz-ml-4-1-dqELbViF-py3.12\\Lib\\site-packages\\lightgbm\\callback.py:325: UserWarning: Early stopping is not available in dart mode\n",
      "  _log_warning('Early stopping is not available in dart mode')\n"
     ]
    },
    {
     "name": "stdout",
     "output_type": "stream",
     "text": [
      "Fold: Tuning: n_train=246009, eval_set=61502\n",
      "Tune: val_score:0.7750, std_test_score:0.00159 train_set_score:0.8539\n",
      "folds val/train: [0.777, 0.7724, 0.7742, 0.775, 0.7762] / [0.8547, 0.8525, 0.8538, 0.8549, 0.8535], mean fold time: 11.96\n"
     ]
    },
    {
     "name": "stderr",
     "output_type": "stream",
     "text": [
      "[I 2024-04-30 16:32:46,558] Trial 86 finished with value: 0.7749659726611313 and parameters: {'model__class_weight': 'balanced', 'model__objective': 'binary', 'model__boosting_type': 'dart', 'model__n_estimators': 600, 'model__learning_rate': 0.15000000000000002, 'model__max_depth': 9, 'model__num_leaves': 88, 'model__min_gain_to_split': 3.0, 'model__min_data_in_leaf': 900, 'model__lambda_l1': 80, 'model__lambda_l2': 0, 'model__bagging_fraction': 0.8, 'model__feature_fraction': 0.9000000000000001, 'model__max_bin': 375, 'model__drop_rate': 0.025}. Best is trial 59 with value: 0.7761688739953272.\n"
     ]
    },
    {
     "name": "stdout",
     "output_type": "stream",
     "text": [
      "Fold: Tuning: n_train=246008, eval_set=61503\n",
      "Fold: Tuning: n_train=246009, eval_set=61502\n",
      "Fold: Tuning: n_train=246009, eval_set=61502\n",
      "Fold: Tuning: n_train=246009, eval_set=61502\n",
      "Fold: Tuning: n_train=246009, eval_set=61502\n",
      "Tune: val_score:0.7367, std_test_score:0.00301 train_set_score:0.7580\n",
      "folds val/train: [0.7354, 0.7384, 0.7314, 0.7399, 0.7381] / [0.7524, 0.7615, 0.754, 0.7611, 0.7611], mean fold time: 1.76\n"
     ]
    },
    {
     "name": "stderr",
     "output_type": "stream",
     "text": [
      "[I 2024-04-30 16:32:56,192] Trial 87 finished with value: 0.7366615449617313 and parameters: {'model__class_weight': 'balanced', 'model__objective': 'binary', 'model__boosting_type': 'rf', 'model__n_estimators': 850, 'model__learning_rate': 0.21000000000000002, 'model__max_depth': 10, 'model__num_leaves': 112, 'model__min_gain_to_split': 2.0, 'model__min_data_in_leaf': 400, 'model__lambda_l1': 65, 'model__lambda_l2': 90, 'model__bagging_fraction': 1.0, 'model__feature_fraction': 0.7, 'model__max_bin': 275, 'model__drop_rate': 0.07500000000000001}. Best is trial 59 with value: 0.7761688739953272.\n",
      "C:\\Users\\Paulius\\AppData\\Local\\pypoetry\\Cache\\virtualenvs\\ppuodz-ml-4-1-dqELbViF-py3.12\\Lib\\site-packages\\lightgbm\\callback.py:325: UserWarning: Early stopping is not available in dart mode\n",
      "  _log_warning('Early stopping is not available in dart mode')\n"
     ]
    },
    {
     "name": "stdout",
     "output_type": "stream",
     "text": [
      "Fold: Tuning: n_train=246008, eval_set=61503\n"
     ]
    },
    {
     "name": "stderr",
     "output_type": "stream",
     "text": [
      "C:\\Users\\Paulius\\AppData\\Local\\pypoetry\\Cache\\virtualenvs\\ppuodz-ml-4-1-dqELbViF-py3.12\\Lib\\site-packages\\lightgbm\\callback.py:325: UserWarning: Early stopping is not available in dart mode\n",
      "  _log_warning('Early stopping is not available in dart mode')\n"
     ]
    },
    {
     "name": "stdout",
     "output_type": "stream",
     "text": [
      "Fold: Tuning: n_train=246009, eval_set=61502\n"
     ]
    },
    {
     "name": "stderr",
     "output_type": "stream",
     "text": [
      "C:\\Users\\Paulius\\AppData\\Local\\pypoetry\\Cache\\virtualenvs\\ppuodz-ml-4-1-dqELbViF-py3.12\\Lib\\site-packages\\lightgbm\\callback.py:325: UserWarning: Early stopping is not available in dart mode\n",
      "  _log_warning('Early stopping is not available in dart mode')\n"
     ]
    },
    {
     "name": "stdout",
     "output_type": "stream",
     "text": [
      "Fold: Tuning: n_train=246009, eval_set=61502\n"
     ]
    },
    {
     "name": "stderr",
     "output_type": "stream",
     "text": [
      "C:\\Users\\Paulius\\AppData\\Local\\pypoetry\\Cache\\virtualenvs\\ppuodz-ml-4-1-dqELbViF-py3.12\\Lib\\site-packages\\lightgbm\\callback.py:325: UserWarning: Early stopping is not available in dart mode\n",
      "  _log_warning('Early stopping is not available in dart mode')\n"
     ]
    },
    {
     "name": "stdout",
     "output_type": "stream",
     "text": [
      "Fold: Tuning: n_train=246009, eval_set=61502\n"
     ]
    },
    {
     "name": "stderr",
     "output_type": "stream",
     "text": [
      "C:\\Users\\Paulius\\AppData\\Local\\pypoetry\\Cache\\virtualenvs\\ppuodz-ml-4-1-dqELbViF-py3.12\\Lib\\site-packages\\lightgbm\\callback.py:325: UserWarning: Early stopping is not available in dart mode\n",
      "  _log_warning('Early stopping is not available in dart mode')\n"
     ]
    },
    {
     "name": "stdout",
     "output_type": "stream",
     "text": [
      "Fold: Tuning: n_train=246009, eval_set=61502\n",
      "Tune: val_score:0.7716, std_test_score:0.00174 train_set_score:0.7955\n",
      "folds val/train: [0.7732, 0.7695, 0.7703, 0.7712, 0.774] / [0.7954, 0.7958, 0.7961, 0.7954, 0.795], mean fold time: 22.75\n"
     ]
    },
    {
     "name": "stderr",
     "output_type": "stream",
     "text": [
      "[I 2024-04-30 16:34:50,902] Trial 88 finished with value: 0.7716211150804543 and parameters: {'model__class_weight': None, 'model__objective': 'binary', 'model__boosting_type': 'dart', 'model__n_estimators': 700, 'model__learning_rate': 0.22, 'model__max_depth': 10, 'model__num_leaves': 136, 'model__min_gain_to_split': 3.5, 'model__min_data_in_leaf': 1100, 'model__lambda_l1': 55, 'model__lambda_l2': 100, 'model__bagging_fraction': 0.6000000000000001, 'model__feature_fraction': 0.9000000000000001, 'model__max_bin': 300, 'model__drop_rate': 0.2}. Best is trial 59 with value: 0.7761688739953272.\n"
     ]
    },
    {
     "name": "stdout",
     "output_type": "stream",
     "text": [
      "Fold: Tuning: n_train=246008, eval_set=61503\n",
      "Fold: Tuning: n_train=246009, eval_set=61502\n",
      "Fold: Tuning: n_train=246009, eval_set=61502\n",
      "Fold: Tuning: n_train=246009, eval_set=61502\n",
      "Fold: Tuning: n_train=246009, eval_set=61502\n",
      "Tune: val_score:0.7695, std_test_score:0.00191 train_set_score:0.8630\n",
      "folds val/train: [0.771, 0.7662, 0.7685, 0.7704, 0.7713] / [0.864, 0.8648, 0.8627, 0.8615, 0.8619], mean fold time: 2.26\n"
     ]
    },
    {
     "name": "stderr",
     "output_type": "stream",
     "text": [
      "[I 2024-04-30 16:35:02,995] Trial 89 finished with value: 0.7694688745259566 and parameters: {'model__class_weight': 'balanced', 'model__objective': 'binary', 'model__boosting_type': 'gbdt', 'model__n_estimators': 800, 'model__learning_rate': 0.18000000000000002, 'model__max_depth': 10, 'model__num_leaves': 128, 'model__min_gain_to_split': 4.0, 'model__min_data_in_leaf': 100, 'model__lambda_l1': 40, 'model__lambda_l2': 105, 'model__bagging_fraction': 0.9000000000000001, 'model__feature_fraction': 1.0, 'model__max_bin': 250, 'model__drop_rate': 0.025}. Best is trial 59 with value: 0.7761688739953272.\n",
      "C:\\Users\\Paulius\\AppData\\Local\\pypoetry\\Cache\\virtualenvs\\ppuodz-ml-4-1-dqELbViF-py3.12\\Lib\\site-packages\\lightgbm\\callback.py:325: UserWarning: Early stopping is not available in dart mode\n",
      "  _log_warning('Early stopping is not available in dart mode')\n"
     ]
    },
    {
     "name": "stdout",
     "output_type": "stream",
     "text": [
      "Fold: Tuning: n_train=246008, eval_set=61503\n"
     ]
    },
    {
     "name": "stderr",
     "output_type": "stream",
     "text": [
      "C:\\Users\\Paulius\\AppData\\Local\\pypoetry\\Cache\\virtualenvs\\ppuodz-ml-4-1-dqELbViF-py3.12\\Lib\\site-packages\\lightgbm\\callback.py:325: UserWarning: Early stopping is not available in dart mode\n",
      "  _log_warning('Early stopping is not available in dart mode')\n"
     ]
    },
    {
     "name": "stdout",
     "output_type": "stream",
     "text": [
      "Fold: Tuning: n_train=246009, eval_set=61502\n"
     ]
    },
    {
     "name": "stderr",
     "output_type": "stream",
     "text": [
      "C:\\Users\\Paulius\\AppData\\Local\\pypoetry\\Cache\\virtualenvs\\ppuodz-ml-4-1-dqELbViF-py3.12\\Lib\\site-packages\\lightgbm\\callback.py:325: UserWarning: Early stopping is not available in dart mode\n",
      "  _log_warning('Early stopping is not available in dart mode')\n"
     ]
    },
    {
     "name": "stdout",
     "output_type": "stream",
     "text": [
      "Fold: Tuning: n_train=246009, eval_set=61502\n"
     ]
    },
    {
     "name": "stderr",
     "output_type": "stream",
     "text": [
      "C:\\Users\\Paulius\\AppData\\Local\\pypoetry\\Cache\\virtualenvs\\ppuodz-ml-4-1-dqELbViF-py3.12\\Lib\\site-packages\\lightgbm\\callback.py:325: UserWarning: Early stopping is not available in dart mode\n",
      "  _log_warning('Early stopping is not available in dart mode')\n"
     ]
    },
    {
     "name": "stdout",
     "output_type": "stream",
     "text": [
      "Fold: Tuning: n_train=246009, eval_set=61502\n"
     ]
    },
    {
     "name": "stderr",
     "output_type": "stream",
     "text": [
      "C:\\Users\\Paulius\\AppData\\Local\\pypoetry\\Cache\\virtualenvs\\ppuodz-ml-4-1-dqELbViF-py3.12\\Lib\\site-packages\\lightgbm\\callback.py:325: UserWarning: Early stopping is not available in dart mode\n",
      "  _log_warning('Early stopping is not available in dart mode')\n"
     ]
    },
    {
     "name": "stdout",
     "output_type": "stream",
     "text": [
      "Fold: Tuning: n_train=246009, eval_set=61502\n",
      "Tune: val_score:0.7724, std_test_score:0.00166 train_set_score:0.8095\n",
      "folds val/train: [0.7744, 0.7704, 0.7705, 0.7727, 0.7739] / [0.8097, 0.8095, 0.8093, 0.8096, 0.8097], mean fold time: 27.54\n"
     ]
    },
    {
     "name": "stderr",
     "output_type": "stream",
     "text": [
      "[I 2024-04-30 16:37:21,487] Trial 90 finished with value: 0.7723829604261204 and parameters: {'model__class_weight': 'balanced', 'model__objective': 'binary', 'model__boosting_type': 'dart', 'model__n_estimators': 650, 'model__learning_rate': 0.17, 'model__max_depth': 9, 'model__num_leaves': 144, 'model__min_gain_to_split': 12.0, 'model__min_data_in_leaf': 600, 'model__lambda_l1': 90, 'model__lambda_l2': 95, 'model__bagging_fraction': 0.9000000000000001, 'model__feature_fraction': 0.8, 'model__max_bin': 450, 'model__drop_rate': 0.15000000000000002}. Best is trial 59 with value: 0.7761688739953272.\n",
      "C:\\Users\\Paulius\\AppData\\Local\\pypoetry\\Cache\\virtualenvs\\ppuodz-ml-4-1-dqELbViF-py3.12\\Lib\\site-packages\\lightgbm\\callback.py:325: UserWarning: Early stopping is not available in dart mode\n",
      "  _log_warning('Early stopping is not available in dart mode')\n"
     ]
    },
    {
     "name": "stdout",
     "output_type": "stream",
     "text": [
      "Fold: Tuning: n_train=246008, eval_set=61503\n"
     ]
    },
    {
     "name": "stderr",
     "output_type": "stream",
     "text": [
      "C:\\Users\\Paulius\\AppData\\Local\\pypoetry\\Cache\\virtualenvs\\ppuodz-ml-4-1-dqELbViF-py3.12\\Lib\\site-packages\\lightgbm\\callback.py:325: UserWarning: Early stopping is not available in dart mode\n",
      "  _log_warning('Early stopping is not available in dart mode')\n"
     ]
    },
    {
     "name": "stdout",
     "output_type": "stream",
     "text": [
      "Fold: Tuning: n_train=246009, eval_set=61502\n"
     ]
    },
    {
     "name": "stderr",
     "output_type": "stream",
     "text": [
      "C:\\Users\\Paulius\\AppData\\Local\\pypoetry\\Cache\\virtualenvs\\ppuodz-ml-4-1-dqELbViF-py3.12\\Lib\\site-packages\\lightgbm\\callback.py:325: UserWarning: Early stopping is not available in dart mode\n",
      "  _log_warning('Early stopping is not available in dart mode')\n"
     ]
    },
    {
     "name": "stdout",
     "output_type": "stream",
     "text": [
      "Fold: Tuning: n_train=246009, eval_set=61502\n"
     ]
    },
    {
     "name": "stderr",
     "output_type": "stream",
     "text": [
      "C:\\Users\\Paulius\\AppData\\Local\\pypoetry\\Cache\\virtualenvs\\ppuodz-ml-4-1-dqELbViF-py3.12\\Lib\\site-packages\\lightgbm\\callback.py:325: UserWarning: Early stopping is not available in dart mode\n",
      "  _log_warning('Early stopping is not available in dart mode')\n"
     ]
    },
    {
     "name": "stdout",
     "output_type": "stream",
     "text": [
      "Fold: Tuning: n_train=246009, eval_set=61502\n"
     ]
    },
    {
     "name": "stderr",
     "output_type": "stream",
     "text": [
      "C:\\Users\\Paulius\\AppData\\Local\\pypoetry\\Cache\\virtualenvs\\ppuodz-ml-4-1-dqELbViF-py3.12\\Lib\\site-packages\\lightgbm\\callback.py:325: UserWarning: Early stopping is not available in dart mode\n",
      "  _log_warning('Early stopping is not available in dart mode')\n"
     ]
    },
    {
     "name": "stdout",
     "output_type": "stream",
     "text": [
      "Fold: Tuning: n_train=246009, eval_set=61502\n",
      "Tune: val_score:0.7757, std_test_score:0.00151 train_set_score:0.8547\n",
      "folds val/train: [0.7778, 0.7739, 0.7743, 0.7758, 0.777] / [0.8551, 0.853, 0.8553, 0.856, 0.8542], mean fold time: 11.27\n"
     ]
    },
    {
     "name": "stderr",
     "output_type": "stream",
     "text": [
      "[I 2024-04-30 16:38:18,645] Trial 91 finished with value: 0.7757482290903817 and parameters: {'model__class_weight': 'balanced', 'model__objective': 'binary', 'model__boosting_type': 'dart', 'model__n_estimators': 600, 'model__learning_rate': 0.2, 'model__max_depth': 10, 'model__num_leaves': 120, 'model__min_gain_to_split': 3.5, 'model__min_data_in_leaf': 800, 'model__lambda_l1': 65, 'model__lambda_l2': 40, 'model__bagging_fraction': 0.2, 'model__feature_fraction': 0.8, 'model__max_bin': 325, 'model__drop_rate': 0.025}. Best is trial 59 with value: 0.7761688739953272.\n",
      "C:\\Users\\Paulius\\AppData\\Local\\pypoetry\\Cache\\virtualenvs\\ppuodz-ml-4-1-dqELbViF-py3.12\\Lib\\site-packages\\lightgbm\\callback.py:325: UserWarning: Early stopping is not available in dart mode\n",
      "  _log_warning('Early stopping is not available in dart mode')\n"
     ]
    },
    {
     "name": "stdout",
     "output_type": "stream",
     "text": [
      "Fold: Tuning: n_train=246008, eval_set=61503\n"
     ]
    },
    {
     "name": "stderr",
     "output_type": "stream",
     "text": [
      "C:\\Users\\Paulius\\AppData\\Local\\pypoetry\\Cache\\virtualenvs\\ppuodz-ml-4-1-dqELbViF-py3.12\\Lib\\site-packages\\lightgbm\\callback.py:325: UserWarning: Early stopping is not available in dart mode\n",
      "  _log_warning('Early stopping is not available in dart mode')\n"
     ]
    },
    {
     "name": "stdout",
     "output_type": "stream",
     "text": [
      "Fold: Tuning: n_train=246009, eval_set=61502\n"
     ]
    },
    {
     "name": "stderr",
     "output_type": "stream",
     "text": [
      "C:\\Users\\Paulius\\AppData\\Local\\pypoetry\\Cache\\virtualenvs\\ppuodz-ml-4-1-dqELbViF-py3.12\\Lib\\site-packages\\lightgbm\\callback.py:325: UserWarning: Early stopping is not available in dart mode\n",
      "  _log_warning('Early stopping is not available in dart mode')\n"
     ]
    },
    {
     "name": "stdout",
     "output_type": "stream",
     "text": [
      "Fold: Tuning: n_train=246009, eval_set=61502\n"
     ]
    },
    {
     "name": "stderr",
     "output_type": "stream",
     "text": [
      "C:\\Users\\Paulius\\AppData\\Local\\pypoetry\\Cache\\virtualenvs\\ppuodz-ml-4-1-dqELbViF-py3.12\\Lib\\site-packages\\lightgbm\\callback.py:325: UserWarning: Early stopping is not available in dart mode\n",
      "  _log_warning('Early stopping is not available in dart mode')\n"
     ]
    },
    {
     "name": "stdout",
     "output_type": "stream",
     "text": [
      "Fold: Tuning: n_train=246009, eval_set=61502\n"
     ]
    },
    {
     "name": "stderr",
     "output_type": "stream",
     "text": [
      "C:\\Users\\Paulius\\AppData\\Local\\pypoetry\\Cache\\virtualenvs\\ppuodz-ml-4-1-dqELbViF-py3.12\\Lib\\site-packages\\lightgbm\\callback.py:325: UserWarning: Early stopping is not available in dart mode\n",
      "  _log_warning('Early stopping is not available in dart mode')\n"
     ]
    },
    {
     "name": "stdout",
     "output_type": "stream",
     "text": [
      "Fold: Tuning: n_train=246009, eval_set=61502\n",
      "Tune: val_score:0.7709, std_test_score:0.00190 train_set_score:0.8454\n",
      "folds val/train: [0.7735, 0.7679, 0.7699, 0.7713, 0.7717] / [0.8465, 0.846, 0.8464, 0.8436, 0.8444], mean fold time: 4.43\n"
     ]
    },
    {
     "name": "stderr",
     "output_type": "stream",
     "text": [
      "[I 2024-04-30 16:38:41,623] Trial 92 finished with value: 0.770868189277009 and parameters: {'model__class_weight': 'balanced', 'model__objective': 'binary', 'model__boosting_type': 'dart', 'model__n_estimators': 500, 'model__learning_rate': 0.2, 'model__max_depth': 10, 'model__num_leaves': 104, 'model__min_gain_to_split': 2.5, 'model__min_data_in_leaf': 900, 'model__lambda_l1': 70, 'model__lambda_l2': 35, 'model__bagging_fraction': 0.2, 'model__feature_fraction': 0.7, 'model__max_bin': 325, 'model__drop_rate': 0.0}. Best is trial 59 with value: 0.7761688739953272.\n",
      "C:\\Users\\Paulius\\AppData\\Local\\pypoetry\\Cache\\virtualenvs\\ppuodz-ml-4-1-dqELbViF-py3.12\\Lib\\site-packages\\lightgbm\\callback.py:325: UserWarning: Early stopping is not available in dart mode\n",
      "  _log_warning('Early stopping is not available in dart mode')\n"
     ]
    },
    {
     "name": "stdout",
     "output_type": "stream",
     "text": [
      "Fold: Tuning: n_train=246008, eval_set=61503\n"
     ]
    },
    {
     "name": "stderr",
     "output_type": "stream",
     "text": [
      "C:\\Users\\Paulius\\AppData\\Local\\pypoetry\\Cache\\virtualenvs\\ppuodz-ml-4-1-dqELbViF-py3.12\\Lib\\site-packages\\lightgbm\\callback.py:325: UserWarning: Early stopping is not available in dart mode\n",
      "  _log_warning('Early stopping is not available in dart mode')\n"
     ]
    },
    {
     "name": "stdout",
     "output_type": "stream",
     "text": [
      "Fold: Tuning: n_train=246009, eval_set=61502\n"
     ]
    },
    {
     "name": "stderr",
     "output_type": "stream",
     "text": [
      "C:\\Users\\Paulius\\AppData\\Local\\pypoetry\\Cache\\virtualenvs\\ppuodz-ml-4-1-dqELbViF-py3.12\\Lib\\site-packages\\lightgbm\\callback.py:325: UserWarning: Early stopping is not available in dart mode\n",
      "  _log_warning('Early stopping is not available in dart mode')\n"
     ]
    },
    {
     "name": "stdout",
     "output_type": "stream",
     "text": [
      "Fold: Tuning: n_train=246009, eval_set=61502\n"
     ]
    },
    {
     "name": "stderr",
     "output_type": "stream",
     "text": [
      "C:\\Users\\Paulius\\AppData\\Local\\pypoetry\\Cache\\virtualenvs\\ppuodz-ml-4-1-dqELbViF-py3.12\\Lib\\site-packages\\lightgbm\\callback.py:325: UserWarning: Early stopping is not available in dart mode\n",
      "  _log_warning('Early stopping is not available in dart mode')\n"
     ]
    },
    {
     "name": "stdout",
     "output_type": "stream",
     "text": [
      "Fold: Tuning: n_train=246009, eval_set=61502\n"
     ]
    },
    {
     "name": "stderr",
     "output_type": "stream",
     "text": [
      "C:\\Users\\Paulius\\AppData\\Local\\pypoetry\\Cache\\virtualenvs\\ppuodz-ml-4-1-dqELbViF-py3.12\\Lib\\site-packages\\lightgbm\\callback.py:325: UserWarning: Early stopping is not available in dart mode\n",
      "  _log_warning('Early stopping is not available in dart mode')\n"
     ]
    },
    {
     "name": "stdout",
     "output_type": "stream",
     "text": [
      "Fold: Tuning: n_train=246009, eval_set=61502\n",
      "Tune: val_score:0.7744, std_test_score:0.00144 train_set_score:0.8848\n",
      "folds val/train: [0.7765, 0.7725, 0.7731, 0.775, 0.7749] / [0.8848, 0.8833, 0.8847, 0.8862, 0.885], mean fold time: 25.57\n"
     ]
    },
    {
     "name": "stderr",
     "output_type": "stream",
     "text": [
      "[I 2024-04-30 16:40:50,415] Trial 93 finished with value: 0.7743807498191898 and parameters: {'model__class_weight': 'balanced', 'model__objective': 'binary', 'model__boosting_type': 'dart', 'model__n_estimators': 550, 'model__learning_rate': 0.16, 'model__max_depth': 10, 'model__num_leaves': 120, 'model__min_gain_to_split': 3.0, 'model__min_data_in_leaf': 800, 'model__lambda_l1': 45, 'model__lambda_l2': 15, 'model__bagging_fraction': 0.2, 'model__feature_fraction': 0.8, 'model__max_bin': 350, 'model__drop_rate': 0.07500000000000001}. Best is trial 59 with value: 0.7761688739953272.\n",
      "C:\\Users\\Paulius\\AppData\\Local\\pypoetry\\Cache\\virtualenvs\\ppuodz-ml-4-1-dqELbViF-py3.12\\Lib\\site-packages\\lightgbm\\callback.py:325: UserWarning: Early stopping is not available in dart mode\n",
      "  _log_warning('Early stopping is not available in dart mode')\n"
     ]
    },
    {
     "name": "stdout",
     "output_type": "stream",
     "text": [
      "Fold: Tuning: n_train=246008, eval_set=61503\n"
     ]
    },
    {
     "name": "stderr",
     "output_type": "stream",
     "text": [
      "C:\\Users\\Paulius\\AppData\\Local\\pypoetry\\Cache\\virtualenvs\\ppuodz-ml-4-1-dqELbViF-py3.12\\Lib\\site-packages\\lightgbm\\callback.py:325: UserWarning: Early stopping is not available in dart mode\n",
      "  _log_warning('Early stopping is not available in dart mode')\n"
     ]
    },
    {
     "name": "stdout",
     "output_type": "stream",
     "text": [
      "Fold: Tuning: n_train=246009, eval_set=61502\n"
     ]
    },
    {
     "name": "stderr",
     "output_type": "stream",
     "text": [
      "C:\\Users\\Paulius\\AppData\\Local\\pypoetry\\Cache\\virtualenvs\\ppuodz-ml-4-1-dqELbViF-py3.12\\Lib\\site-packages\\lightgbm\\callback.py:325: UserWarning: Early stopping is not available in dart mode\n",
      "  _log_warning('Early stopping is not available in dart mode')\n"
     ]
    },
    {
     "name": "stdout",
     "output_type": "stream",
     "text": [
      "Fold: Tuning: n_train=246009, eval_set=61502\n"
     ]
    },
    {
     "name": "stderr",
     "output_type": "stream",
     "text": [
      "C:\\Users\\Paulius\\AppData\\Local\\pypoetry\\Cache\\virtualenvs\\ppuodz-ml-4-1-dqELbViF-py3.12\\Lib\\site-packages\\lightgbm\\callback.py:325: UserWarning: Early stopping is not available in dart mode\n",
      "  _log_warning('Early stopping is not available in dart mode')\n"
     ]
    },
    {
     "name": "stdout",
     "output_type": "stream",
     "text": [
      "Fold: Tuning: n_train=246009, eval_set=61502\n"
     ]
    },
    {
     "name": "stderr",
     "output_type": "stream",
     "text": [
      "C:\\Users\\Paulius\\AppData\\Local\\pypoetry\\Cache\\virtualenvs\\ppuodz-ml-4-1-dqELbViF-py3.12\\Lib\\site-packages\\lightgbm\\callback.py:325: UserWarning: Early stopping is not available in dart mode\n",
      "  _log_warning('Early stopping is not available in dart mode')\n"
     ]
    },
    {
     "name": "stdout",
     "output_type": "stream",
     "text": [
      "Fold: Tuning: n_train=246009, eval_set=61502\n",
      "Tune: val_score:0.7744, std_test_score:0.00151 train_set_score:0.8847\n",
      "folds val/train: [0.7763, 0.7724, 0.7729, 0.775, 0.7756] / [0.8855, 0.8835, 0.885, 0.8852, 0.8841], mean fold time: 34.76\n"
     ]
    },
    {
     "name": "stderr",
     "output_type": "stream",
     "text": [
      "[I 2024-04-30 16:43:45,044] Trial 94 finished with value: 0.774422820088884 and parameters: {'model__class_weight': 'balanced', 'model__objective': 'binary', 'model__boosting_type': 'dart', 'model__n_estimators': 600, 'model__learning_rate': 0.19, 'model__max_depth': 10, 'model__num_leaves': 112, 'model__min_gain_to_split': 2.0, 'model__min_data_in_leaf': 600, 'model__lambda_l1': 65, 'model__lambda_l2': 20, 'model__bagging_fraction': 1.0, 'model__feature_fraction': 0.9000000000000001, 'model__max_bin': 475, 'model__drop_rate': 0.1}. Best is trial 59 with value: 0.7761688739953272.\n",
      "C:\\Users\\Paulius\\AppData\\Local\\pypoetry\\Cache\\virtualenvs\\ppuodz-ml-4-1-dqELbViF-py3.12\\Lib\\site-packages\\lightgbm\\callback.py:325: UserWarning: Early stopping is not available in dart mode\n",
      "  _log_warning('Early stopping is not available in dart mode')\n"
     ]
    },
    {
     "name": "stdout",
     "output_type": "stream",
     "text": [
      "Fold: Tuning: n_train=246008, eval_set=61503\n"
     ]
    },
    {
     "name": "stderr",
     "output_type": "stream",
     "text": [
      "C:\\Users\\Paulius\\AppData\\Local\\pypoetry\\Cache\\virtualenvs\\ppuodz-ml-4-1-dqELbViF-py3.12\\Lib\\site-packages\\lightgbm\\callback.py:325: UserWarning: Early stopping is not available in dart mode\n",
      "  _log_warning('Early stopping is not available in dart mode')\n"
     ]
    },
    {
     "name": "stdout",
     "output_type": "stream",
     "text": [
      "Fold: Tuning: n_train=246009, eval_set=61502\n"
     ]
    },
    {
     "name": "stderr",
     "output_type": "stream",
     "text": [
      "C:\\Users\\Paulius\\AppData\\Local\\pypoetry\\Cache\\virtualenvs\\ppuodz-ml-4-1-dqELbViF-py3.12\\Lib\\site-packages\\lightgbm\\callback.py:325: UserWarning: Early stopping is not available in dart mode\n",
      "  _log_warning('Early stopping is not available in dart mode')\n"
     ]
    },
    {
     "name": "stdout",
     "output_type": "stream",
     "text": [
      "Fold: Tuning: n_train=246009, eval_set=61502\n"
     ]
    },
    {
     "name": "stderr",
     "output_type": "stream",
     "text": [
      "C:\\Users\\Paulius\\AppData\\Local\\pypoetry\\Cache\\virtualenvs\\ppuodz-ml-4-1-dqELbViF-py3.12\\Lib\\site-packages\\lightgbm\\callback.py:325: UserWarning: Early stopping is not available in dart mode\n",
      "  _log_warning('Early stopping is not available in dart mode')\n"
     ]
    },
    {
     "name": "stdout",
     "output_type": "stream",
     "text": [
      "Fold: Tuning: n_train=246009, eval_set=61502\n"
     ]
    },
    {
     "name": "stderr",
     "output_type": "stream",
     "text": [
      "C:\\Users\\Paulius\\AppData\\Local\\pypoetry\\Cache\\virtualenvs\\ppuodz-ml-4-1-dqELbViF-py3.12\\Lib\\site-packages\\lightgbm\\callback.py:325: UserWarning: Early stopping is not available in dart mode\n",
      "  _log_warning('Early stopping is not available in dart mode')\n"
     ]
    },
    {
     "name": "stdout",
     "output_type": "stream",
     "text": [
      "Fold: Tuning: n_train=246009, eval_set=61502\n",
      "Tune: val_score:0.7730, std_test_score:0.00123 train_set_score:0.9135\n",
      "folds val/train: [0.7739, 0.7714, 0.7716, 0.7738, 0.7743] / [0.9156, 0.9132, 0.913, 0.9128, 0.9128], mean fold time: 28.02\n"
     ]
    },
    {
     "name": "stderr",
     "output_type": "stream",
     "text": [
      "[I 2024-04-30 16:46:05,926] Trial 95 finished with value: 0.7730060317441305 and parameters: {'model__class_weight': 'balanced', 'model__objective': 'binary', 'model__boosting_type': 'dart', 'model__n_estimators': 700, 'model__learning_rate': 0.17, 'model__max_depth': 9, 'model__num_leaves': 136, 'model__min_gain_to_split': 0.5, 'model__min_data_in_leaf': 1000, 'model__lambda_l1': 50, 'model__lambda_l2': 40, 'model__bagging_fraction': 0.7, 'model__feature_fraction': 0.7, 'model__max_bin': 300, 'model__drop_rate': 0.05}. Best is trial 59 with value: 0.7761688739953272.\n",
      "C:\\Users\\Paulius\\AppData\\Local\\pypoetry\\Cache\\virtualenvs\\ppuodz-ml-4-1-dqELbViF-py3.12\\Lib\\site-packages\\lightgbm\\callback.py:325: UserWarning: Early stopping is not available in dart mode\n",
      "  _log_warning('Early stopping is not available in dart mode')\n"
     ]
    },
    {
     "name": "stdout",
     "output_type": "stream",
     "text": [
      "Fold: Tuning: n_train=246008, eval_set=61503\n"
     ]
    },
    {
     "name": "stderr",
     "output_type": "stream",
     "text": [
      "C:\\Users\\Paulius\\AppData\\Local\\pypoetry\\Cache\\virtualenvs\\ppuodz-ml-4-1-dqELbViF-py3.12\\Lib\\site-packages\\lightgbm\\callback.py:325: UserWarning: Early stopping is not available in dart mode\n",
      "  _log_warning('Early stopping is not available in dart mode')\n"
     ]
    },
    {
     "name": "stdout",
     "output_type": "stream",
     "text": [
      "Fold: Tuning: n_train=246009, eval_set=61502\n"
     ]
    },
    {
     "name": "stderr",
     "output_type": "stream",
     "text": [
      "C:\\Users\\Paulius\\AppData\\Local\\pypoetry\\Cache\\virtualenvs\\ppuodz-ml-4-1-dqELbViF-py3.12\\Lib\\site-packages\\lightgbm\\callback.py:325: UserWarning: Early stopping is not available in dart mode\n",
      "  _log_warning('Early stopping is not available in dart mode')\n"
     ]
    },
    {
     "name": "stdout",
     "output_type": "stream",
     "text": [
      "Fold: Tuning: n_train=246009, eval_set=61502\n"
     ]
    },
    {
     "name": "stderr",
     "output_type": "stream",
     "text": [
      "C:\\Users\\Paulius\\AppData\\Local\\pypoetry\\Cache\\virtualenvs\\ppuodz-ml-4-1-dqELbViF-py3.12\\Lib\\site-packages\\lightgbm\\callback.py:325: UserWarning: Early stopping is not available in dart mode\n",
      "  _log_warning('Early stopping is not available in dart mode')\n"
     ]
    },
    {
     "name": "stdout",
     "output_type": "stream",
     "text": [
      "Fold: Tuning: n_train=246009, eval_set=61502\n"
     ]
    },
    {
     "name": "stderr",
     "output_type": "stream",
     "text": [
      "C:\\Users\\Paulius\\AppData\\Local\\pypoetry\\Cache\\virtualenvs\\ppuodz-ml-4-1-dqELbViF-py3.12\\Lib\\site-packages\\lightgbm\\callback.py:325: UserWarning: Early stopping is not available in dart mode\n",
      "  _log_warning('Early stopping is not available in dart mode')\n"
     ]
    },
    {
     "name": "stdout",
     "output_type": "stream",
     "text": [
      "Fold: Tuning: n_train=246009, eval_set=61502\n",
      "Tune: val_score:0.7754, std_test_score:0.00126 train_set_score:0.8415\n",
      "folds val/train: [0.7769, 0.7733, 0.7749, 0.7764, 0.7756] / [0.842, 0.8405, 0.8433, 0.8415, 0.8401], mean fold time: 37.61\n"
     ]
    },
    {
     "name": "stderr",
     "output_type": "stream",
     "text": [
      "[I 2024-04-30 16:49:14,808] Trial 96 finished with value: 0.7754047018714463 and parameters: {'model__class_weight': 'balanced', 'model__objective': 'binary', 'model__boosting_type': 'dart', 'model__n_estimators': 750, 'model__learning_rate': 0.2, 'model__max_depth': 10, 'model__num_leaves': 128, 'model__min_gain_to_split': 4.0, 'model__min_data_in_leaf': 800, 'model__lambda_l1': 70, 'model__lambda_l2': 100, 'model__bagging_fraction': 0.2, 'model__feature_fraction': 0.8, 'model__max_bin': 325, 'model__drop_rate': 0.125}. Best is trial 59 with value: 0.7761688739953272.\n",
      "C:\\Users\\Paulius\\AppData\\Local\\pypoetry\\Cache\\virtualenvs\\ppuodz-ml-4-1-dqELbViF-py3.12\\Lib\\site-packages\\lightgbm\\callback.py:325: UserWarning: Early stopping is not available in dart mode\n",
      "  _log_warning('Early stopping is not available in dart mode')\n"
     ]
    },
    {
     "name": "stdout",
     "output_type": "stream",
     "text": [
      "Fold: Tuning: n_train=246008, eval_set=61503\n"
     ]
    },
    {
     "name": "stderr",
     "output_type": "stream",
     "text": [
      "C:\\Users\\Paulius\\AppData\\Local\\pypoetry\\Cache\\virtualenvs\\ppuodz-ml-4-1-dqELbViF-py3.12\\Lib\\site-packages\\lightgbm\\callback.py:325: UserWarning: Early stopping is not available in dart mode\n",
      "  _log_warning('Early stopping is not available in dart mode')\n"
     ]
    },
    {
     "name": "stdout",
     "output_type": "stream",
     "text": [
      "Fold: Tuning: n_train=246009, eval_set=61502\n"
     ]
    },
    {
     "name": "stderr",
     "output_type": "stream",
     "text": [
      "C:\\Users\\Paulius\\AppData\\Local\\pypoetry\\Cache\\virtualenvs\\ppuodz-ml-4-1-dqELbViF-py3.12\\Lib\\site-packages\\lightgbm\\callback.py:325: UserWarning: Early stopping is not available in dart mode\n",
      "  _log_warning('Early stopping is not available in dart mode')\n"
     ]
    },
    {
     "name": "stdout",
     "output_type": "stream",
     "text": [
      "Fold: Tuning: n_train=246009, eval_set=61502\n"
     ]
    },
    {
     "name": "stderr",
     "output_type": "stream",
     "text": [
      "C:\\Users\\Paulius\\AppData\\Local\\pypoetry\\Cache\\virtualenvs\\ppuodz-ml-4-1-dqELbViF-py3.12\\Lib\\site-packages\\lightgbm\\callback.py:325: UserWarning: Early stopping is not available in dart mode\n",
      "  _log_warning('Early stopping is not available in dart mode')\n"
     ]
    },
    {
     "name": "stdout",
     "output_type": "stream",
     "text": [
      "Fold: Tuning: n_train=246009, eval_set=61502\n"
     ]
    },
    {
     "name": "stderr",
     "output_type": "stream",
     "text": [
      "C:\\Users\\Paulius\\AppData\\Local\\pypoetry\\Cache\\virtualenvs\\ppuodz-ml-4-1-dqELbViF-py3.12\\Lib\\site-packages\\lightgbm\\callback.py:325: UserWarning: Early stopping is not available in dart mode\n",
      "  _log_warning('Early stopping is not available in dart mode')\n"
     ]
    },
    {
     "name": "stdout",
     "output_type": "stream",
     "text": [
      "Fold: Tuning: n_train=246009, eval_set=61502\n",
      "Tune: val_score:0.7702, std_test_score:0.00137 train_set_score:0.8388\n",
      "folds val/train: [0.7723, 0.7681, 0.77, 0.7709, 0.7697] / [0.8404, 0.8381, 0.8393, 0.8388, 0.8376], mean fold time: 3.77\n"
     ]
    },
    {
     "name": "stderr",
     "output_type": "stream",
     "text": [
      "[I 2024-04-30 16:49:34,456] Trial 97 finished with value: 0.7702235699309032 and parameters: {'model__class_weight': 'balanced', 'model__objective': 'binary', 'model__boosting_type': 'dart', 'model__n_estimators': 650, 'model__learning_rate': 0.22, 'model__max_depth': 10, 'model__num_leaves': 96, 'model__min_gain_to_split': 3.5, 'model__min_data_in_leaf': 1200, 'model__lambda_l1': 60, 'model__lambda_l2': 85, 'model__bagging_fraction': 0.2, 'model__feature_fraction': 0.8, 'model__max_bin': 400, 'model__drop_rate': 0.0}. Best is trial 59 with value: 0.7761688739953272.\n",
      "C:\\Users\\Paulius\\AppData\\Local\\pypoetry\\Cache\\virtualenvs\\ppuodz-ml-4-1-dqELbViF-py3.12\\Lib\\site-packages\\lightgbm\\callback.py:325: UserWarning: Early stopping is not available in dart mode\n",
      "  _log_warning('Early stopping is not available in dart mode')\n"
     ]
    },
    {
     "name": "stdout",
     "output_type": "stream",
     "text": [
      "Fold: Tuning: n_train=246008, eval_set=61503\n"
     ]
    },
    {
     "name": "stderr",
     "output_type": "stream",
     "text": [
      "C:\\Users\\Paulius\\AppData\\Local\\pypoetry\\Cache\\virtualenvs\\ppuodz-ml-4-1-dqELbViF-py3.12\\Lib\\site-packages\\lightgbm\\callback.py:325: UserWarning: Early stopping is not available in dart mode\n",
      "  _log_warning('Early stopping is not available in dart mode')\n"
     ]
    },
    {
     "name": "stdout",
     "output_type": "stream",
     "text": [
      "Fold: Tuning: n_train=246009, eval_set=61502\n"
     ]
    },
    {
     "name": "stderr",
     "output_type": "stream",
     "text": [
      "C:\\Users\\Paulius\\AppData\\Local\\pypoetry\\Cache\\virtualenvs\\ppuodz-ml-4-1-dqELbViF-py3.12\\Lib\\site-packages\\lightgbm\\callback.py:325: UserWarning: Early stopping is not available in dart mode\n",
      "  _log_warning('Early stopping is not available in dart mode')\n"
     ]
    },
    {
     "name": "stdout",
     "output_type": "stream",
     "text": [
      "Fold: Tuning: n_train=246009, eval_set=61502\n"
     ]
    },
    {
     "name": "stderr",
     "output_type": "stream",
     "text": [
      "C:\\Users\\Paulius\\AppData\\Local\\pypoetry\\Cache\\virtualenvs\\ppuodz-ml-4-1-dqELbViF-py3.12\\Lib\\site-packages\\lightgbm\\callback.py:325: UserWarning: Early stopping is not available in dart mode\n",
      "  _log_warning('Early stopping is not available in dart mode')\n"
     ]
    },
    {
     "name": "stdout",
     "output_type": "stream",
     "text": [
      "Fold: Tuning: n_train=246009, eval_set=61502\n"
     ]
    },
    {
     "name": "stderr",
     "output_type": "stream",
     "text": [
      "C:\\Users\\Paulius\\AppData\\Local\\pypoetry\\Cache\\virtualenvs\\ppuodz-ml-4-1-dqELbViF-py3.12\\Lib\\site-packages\\lightgbm\\callback.py:325: UserWarning: Early stopping is not available in dart mode\n",
      "  _log_warning('Early stopping is not available in dart mode')\n"
     ]
    },
    {
     "name": "stdout",
     "output_type": "stream",
     "text": [
      "Fold: Tuning: n_train=246009, eval_set=61502\n",
      "Tune: val_score:0.7741, std_test_score:0.00162 train_set_score:0.8647\n",
      "folds val/train: [0.7758, 0.7717, 0.7726, 0.7749, 0.7753] / [0.8658, 0.8636, 0.8637, 0.8658, 0.8646], mean fold time: 13.45\n"
     ]
    },
    {
     "name": "stderr",
     "output_type": "stream",
     "text": [
      "[I 2024-04-30 16:50:42,559] Trial 98 finished with value: 0.7740746849233707 and parameters: {'model__class_weight': 'balanced', 'model__objective': 'binary', 'model__boosting_type': 'dart', 'model__n_estimators': 450, 'model__learning_rate': 0.18000000000000002, 'model__max_depth': 11, 'model__num_leaves': 152, 'model__min_gain_to_split': 2.5, 'model__min_data_in_leaf': 500, 'model__lambda_l1': 75, 'model__lambda_l2': 50, 'model__bagging_fraction': 0.6000000000000001, 'model__feature_fraction': 0.7, 'model__max_bin': 275, 'model__drop_rate': 0.05}. Best is trial 59 with value: 0.7761688739953272.\n",
      "C:\\Users\\Paulius\\AppData\\Local\\pypoetry\\Cache\\virtualenvs\\ppuodz-ml-4-1-dqELbViF-py3.12\\Lib\\site-packages\\lightgbm\\callback.py:325: UserWarning: Early stopping is not available in dart mode\n",
      "  _log_warning('Early stopping is not available in dart mode')\n"
     ]
    },
    {
     "name": "stdout",
     "output_type": "stream",
     "text": [
      "Fold: Tuning: n_train=246008, eval_set=61503\n"
     ]
    },
    {
     "name": "stderr",
     "output_type": "stream",
     "text": [
      "C:\\Users\\Paulius\\AppData\\Local\\pypoetry\\Cache\\virtualenvs\\ppuodz-ml-4-1-dqELbViF-py3.12\\Lib\\site-packages\\lightgbm\\callback.py:325: UserWarning: Early stopping is not available in dart mode\n",
      "  _log_warning('Early stopping is not available in dart mode')\n"
     ]
    },
    {
     "name": "stdout",
     "output_type": "stream",
     "text": [
      "Fold: Tuning: n_train=246009, eval_set=61502\n"
     ]
    },
    {
     "name": "stderr",
     "output_type": "stream",
     "text": [
      "C:\\Users\\Paulius\\AppData\\Local\\pypoetry\\Cache\\virtualenvs\\ppuodz-ml-4-1-dqELbViF-py3.12\\Lib\\site-packages\\lightgbm\\callback.py:325: UserWarning: Early stopping is not available in dart mode\n",
      "  _log_warning('Early stopping is not available in dart mode')\n"
     ]
    },
    {
     "name": "stdout",
     "output_type": "stream",
     "text": [
      "Fold: Tuning: n_train=246009, eval_set=61502\n"
     ]
    },
    {
     "name": "stderr",
     "output_type": "stream",
     "text": [
      "C:\\Users\\Paulius\\AppData\\Local\\pypoetry\\Cache\\virtualenvs\\ppuodz-ml-4-1-dqELbViF-py3.12\\Lib\\site-packages\\lightgbm\\callback.py:325: UserWarning: Early stopping is not available in dart mode\n",
      "  _log_warning('Early stopping is not available in dart mode')\n"
     ]
    },
    {
     "name": "stdout",
     "output_type": "stream",
     "text": [
      "Fold: Tuning: n_train=246009, eval_set=61502\n"
     ]
    },
    {
     "name": "stderr",
     "output_type": "stream",
     "text": [
      "C:\\Users\\Paulius\\AppData\\Local\\pypoetry\\Cache\\virtualenvs\\ppuodz-ml-4-1-dqELbViF-py3.12\\Lib\\site-packages\\lightgbm\\callback.py:325: UserWarning: Early stopping is not available in dart mode\n",
      "  _log_warning('Early stopping is not available in dart mode')\n"
     ]
    },
    {
     "name": "stdout",
     "output_type": "stream",
     "text": [
      "Fold: Tuning: n_train=246009, eval_set=61502\n",
      "Tune: val_score:0.7758, std_test_score:0.00124 train_set_score:0.8553\n",
      "folds val/train: [0.7776, 0.7744, 0.7747, 0.7768, 0.7755] / [0.8556, 0.8533, 0.8544, 0.8578, 0.8554], mean fold time: 16.60\n"
     ]
    },
    {
     "name": "stderr",
     "output_type": "stream",
     "text": [
      "[I 2024-04-30 16:52:06,575] Trial 99 finished with value: 0.7758031999945074 and parameters: {'model__class_weight': 'balanced', 'model__objective': 'binary', 'model__boosting_type': 'dart', 'model__n_estimators': 800, 'model__learning_rate': 0.17, 'model__max_depth': 10, 'model__num_leaves': 112, 'model__min_gain_to_split': 3.0, 'model__min_data_in_leaf': 2400, 'model__lambda_l1': 55, 'model__lambda_l2': 90, 'model__bagging_fraction': 0.2, 'model__feature_fraction': 0.7, 'model__max_bin': 300, 'model__drop_rate': 0.025}. Best is trial 59 with value: 0.7761688739953272.\n",
      "C:\\Users\\Paulius\\AppData\\Local\\pypoetry\\Cache\\virtualenvs\\ppuodz-ml-4-1-dqELbViF-py3.12\\Lib\\site-packages\\lightgbm\\callback.py:325: UserWarning: Early stopping is not available in dart mode\n",
      "  _log_warning('Early stopping is not available in dart mode')\n"
     ]
    },
    {
     "name": "stdout",
     "output_type": "stream",
     "text": [
      "Fold: Tuning: n_train=246008, eval_set=61503\n"
     ]
    },
    {
     "name": "stderr",
     "output_type": "stream",
     "text": [
      "C:\\Users\\Paulius\\AppData\\Local\\pypoetry\\Cache\\virtualenvs\\ppuodz-ml-4-1-dqELbViF-py3.12\\Lib\\site-packages\\lightgbm\\callback.py:325: UserWarning: Early stopping is not available in dart mode\n",
      "  _log_warning('Early stopping is not available in dart mode')\n"
     ]
    },
    {
     "name": "stdout",
     "output_type": "stream",
     "text": [
      "Fold: Tuning: n_train=246009, eval_set=61502\n"
     ]
    },
    {
     "name": "stderr",
     "output_type": "stream",
     "text": [
      "C:\\Users\\Paulius\\AppData\\Local\\pypoetry\\Cache\\virtualenvs\\ppuodz-ml-4-1-dqELbViF-py3.12\\Lib\\site-packages\\lightgbm\\callback.py:325: UserWarning: Early stopping is not available in dart mode\n",
      "  _log_warning('Early stopping is not available in dart mode')\n"
     ]
    },
    {
     "name": "stdout",
     "output_type": "stream",
     "text": [
      "Fold: Tuning: n_train=246009, eval_set=61502\n"
     ]
    },
    {
     "name": "stderr",
     "output_type": "stream",
     "text": [
      "C:\\Users\\Paulius\\AppData\\Local\\pypoetry\\Cache\\virtualenvs\\ppuodz-ml-4-1-dqELbViF-py3.12\\Lib\\site-packages\\lightgbm\\callback.py:325: UserWarning: Early stopping is not available in dart mode\n",
      "  _log_warning('Early stopping is not available in dart mode')\n"
     ]
    },
    {
     "name": "stdout",
     "output_type": "stream",
     "text": [
      "Fold: Tuning: n_train=246009, eval_set=61502\n"
     ]
    },
    {
     "name": "stderr",
     "output_type": "stream",
     "text": [
      "C:\\Users\\Paulius\\AppData\\Local\\pypoetry\\Cache\\virtualenvs\\ppuodz-ml-4-1-dqELbViF-py3.12\\Lib\\site-packages\\lightgbm\\callback.py:325: UserWarning: Early stopping is not available in dart mode\n",
      "  _log_warning('Early stopping is not available in dart mode')\n"
     ]
    },
    {
     "name": "stdout",
     "output_type": "stream",
     "text": [
      "Fold: Tuning: n_train=246009, eval_set=61502\n",
      "Tune: val_score:0.7757, std_test_score:0.00150 train_set_score:0.8401\n",
      "folds val/train: [0.7778, 0.7742, 0.7738, 0.7764, 0.7765] / [0.8404, 0.8389, 0.8402, 0.841, 0.8401], mean fold time: 35.98\n"
     ]
    },
    {
     "name": "stderr",
     "output_type": "stream",
     "text": [
      "[I 2024-04-30 16:55:07,292] Trial 100 finished with value: 0.7757316271452567 and parameters: {'model__class_weight': 'balanced', 'model__objective': 'binary', 'model__boosting_type': 'dart', 'model__n_estimators': 850, 'model__learning_rate': 0.14, 'model__max_depth': 9, 'model__num_leaves': 112, 'model__min_gain_to_split': 4.5, 'model__min_data_in_leaf': 2500, 'model__lambda_l1': 55, 'model__lambda_l2': 90, 'model__bagging_fraction': 0.2, 'model__feature_fraction': 0.7, 'model__max_bin': 300, 'model__drop_rate': 0.07500000000000001}. Best is trial 59 with value: 0.7761688739953272.\n",
      "C:\\Users\\Paulius\\AppData\\Local\\pypoetry\\Cache\\virtualenvs\\ppuodz-ml-4-1-dqELbViF-py3.12\\Lib\\site-packages\\lightgbm\\callback.py:325: UserWarning: Early stopping is not available in dart mode\n",
      "  _log_warning('Early stopping is not available in dart mode')\n"
     ]
    },
    {
     "name": "stdout",
     "output_type": "stream",
     "text": [
      "Fold: Tuning: n_train=246008, eval_set=61503\n"
     ]
    },
    {
     "name": "stderr",
     "output_type": "stream",
     "text": [
      "C:\\Users\\Paulius\\AppData\\Local\\pypoetry\\Cache\\virtualenvs\\ppuodz-ml-4-1-dqELbViF-py3.12\\Lib\\site-packages\\lightgbm\\callback.py:325: UserWarning: Early stopping is not available in dart mode\n",
      "  _log_warning('Early stopping is not available in dart mode')\n"
     ]
    },
    {
     "name": "stdout",
     "output_type": "stream",
     "text": [
      "Fold: Tuning: n_train=246009, eval_set=61502\n"
     ]
    },
    {
     "name": "stderr",
     "output_type": "stream",
     "text": [
      "C:\\Users\\Paulius\\AppData\\Local\\pypoetry\\Cache\\virtualenvs\\ppuodz-ml-4-1-dqELbViF-py3.12\\Lib\\site-packages\\lightgbm\\callback.py:325: UserWarning: Early stopping is not available in dart mode\n",
      "  _log_warning('Early stopping is not available in dart mode')\n"
     ]
    },
    {
     "name": "stdout",
     "output_type": "stream",
     "text": [
      "Fold: Tuning: n_train=246009, eval_set=61502\n"
     ]
    },
    {
     "name": "stderr",
     "output_type": "stream",
     "text": [
      "C:\\Users\\Paulius\\AppData\\Local\\pypoetry\\Cache\\virtualenvs\\ppuodz-ml-4-1-dqELbViF-py3.12\\Lib\\site-packages\\lightgbm\\callback.py:325: UserWarning: Early stopping is not available in dart mode\n",
      "  _log_warning('Early stopping is not available in dart mode')\n"
     ]
    },
    {
     "name": "stdout",
     "output_type": "stream",
     "text": [
      "Fold: Tuning: n_train=246009, eval_set=61502\n"
     ]
    },
    {
     "name": "stderr",
     "output_type": "stream",
     "text": [
      "C:\\Users\\Paulius\\AppData\\Local\\pypoetry\\Cache\\virtualenvs\\ppuodz-ml-4-1-dqELbViF-py3.12\\Lib\\site-packages\\lightgbm\\callback.py:325: UserWarning: Early stopping is not available in dart mode\n",
      "  _log_warning('Early stopping is not available in dart mode')\n"
     ]
    },
    {
     "name": "stdout",
     "output_type": "stream",
     "text": [
      "Fold: Tuning: n_train=246009, eval_set=61502\n",
      "Tune: val_score:0.7754, std_test_score:0.00146 train_set_score:0.8384\n",
      "folds val/train: [0.7771, 0.774, 0.7733, 0.7762, 0.7764] / [0.8399, 0.8371, 0.8383, 0.8395, 0.8374], mean fold time: 33.75\n"
     ]
    },
    {
     "name": "stderr",
     "output_type": "stream",
     "text": [
      "[I 2024-04-30 16:57:56,835] Trial 101 finished with value: 0.7754186394673495 and parameters: {'model__class_weight': 'balanced', 'model__objective': 'binary', 'model__boosting_type': 'dart', 'model__n_estimators': 850, 'model__learning_rate': 0.14, 'model__max_depth': 8, 'model__num_leaves': 112, 'model__min_gain_to_split': 4.5, 'model__min_data_in_leaf': 2400, 'model__lambda_l1': 55, 'model__lambda_l2': 90, 'model__bagging_fraction': 0.2, 'model__feature_fraction': 0.7, 'model__max_bin': 300, 'model__drop_rate': 0.07500000000000001}. Best is trial 59 with value: 0.7761688739953272.\n",
      "C:\\Users\\Paulius\\AppData\\Local\\pypoetry\\Cache\\virtualenvs\\ppuodz-ml-4-1-dqELbViF-py3.12\\Lib\\site-packages\\lightgbm\\callback.py:325: UserWarning: Early stopping is not available in dart mode\n",
      "  _log_warning('Early stopping is not available in dart mode')\n"
     ]
    },
    {
     "name": "stdout",
     "output_type": "stream",
     "text": [
      "Fold: Tuning: n_train=246008, eval_set=61503\n"
     ]
    },
    {
     "name": "stderr",
     "output_type": "stream",
     "text": [
      "C:\\Users\\Paulius\\AppData\\Local\\pypoetry\\Cache\\virtualenvs\\ppuodz-ml-4-1-dqELbViF-py3.12\\Lib\\site-packages\\lightgbm\\callback.py:325: UserWarning: Early stopping is not available in dart mode\n",
      "  _log_warning('Early stopping is not available in dart mode')\n"
     ]
    },
    {
     "name": "stdout",
     "output_type": "stream",
     "text": [
      "Fold: Tuning: n_train=246009, eval_set=61502\n"
     ]
    },
    {
     "name": "stderr",
     "output_type": "stream",
     "text": [
      "C:\\Users\\Paulius\\AppData\\Local\\pypoetry\\Cache\\virtualenvs\\ppuodz-ml-4-1-dqELbViF-py3.12\\Lib\\site-packages\\lightgbm\\callback.py:325: UserWarning: Early stopping is not available in dart mode\n",
      "  _log_warning('Early stopping is not available in dart mode')\n"
     ]
    },
    {
     "name": "stdout",
     "output_type": "stream",
     "text": [
      "Fold: Tuning: n_train=246009, eval_set=61502\n"
     ]
    },
    {
     "name": "stderr",
     "output_type": "stream",
     "text": [
      "C:\\Users\\Paulius\\AppData\\Local\\pypoetry\\Cache\\virtualenvs\\ppuodz-ml-4-1-dqELbViF-py3.12\\Lib\\site-packages\\lightgbm\\callback.py:325: UserWarning: Early stopping is not available in dart mode\n",
      "  _log_warning('Early stopping is not available in dart mode')\n"
     ]
    },
    {
     "name": "stdout",
     "output_type": "stream",
     "text": [
      "Fold: Tuning: n_train=246009, eval_set=61502\n"
     ]
    },
    {
     "name": "stderr",
     "output_type": "stream",
     "text": [
      "C:\\Users\\Paulius\\AppData\\Local\\pypoetry\\Cache\\virtualenvs\\ppuodz-ml-4-1-dqELbViF-py3.12\\Lib\\site-packages\\lightgbm\\callback.py:325: UserWarning: Early stopping is not available in dart mode\n",
      "  _log_warning('Early stopping is not available in dart mode')\n"
     ]
    },
    {
     "name": "stdout",
     "output_type": "stream",
     "text": [
      "Fold: Tuning: n_train=246009, eval_set=61502\n",
      "Tune: val_score:0.7745, std_test_score:0.00194 train_set_score:0.8594\n",
      "folds val/train: [0.7772, 0.773, 0.7716, 0.7755, 0.775] / [0.8601, 0.8572, 0.8605, 0.8614, 0.8578], mean fold time: 52.88\n"
     ]
    },
    {
     "name": "stderr",
     "output_type": "stream",
     "text": [
      "[I 2024-04-30 17:02:22,041] Trial 102 finished with value: 0.7744561172372163 and parameters: {'model__class_weight': 'balanced', 'model__objective': 'binary', 'model__boosting_type': 'dart', 'model__n_estimators': 900, 'model__learning_rate': 0.15000000000000002, 'model__max_depth': 9, 'model__num_leaves': 104, 'model__min_gain_to_split': 3.0, 'model__min_data_in_leaf': 2500, 'model__lambda_l1': 50, 'model__lambda_l2': 85, 'model__bagging_fraction': 0.2, 'model__feature_fraction': 0.7, 'model__max_bin': 300, 'model__drop_rate': 0.5}. Best is trial 59 with value: 0.7761688739953272.\n",
      "C:\\Users\\Paulius\\AppData\\Local\\pypoetry\\Cache\\virtualenvs\\ppuodz-ml-4-1-dqELbViF-py3.12\\Lib\\site-packages\\lightgbm\\callback.py:325: UserWarning: Early stopping is not available in dart mode\n",
      "  _log_warning('Early stopping is not available in dart mode')\n"
     ]
    },
    {
     "name": "stdout",
     "output_type": "stream",
     "text": [
      "Fold: Tuning: n_train=246008, eval_set=61503\n"
     ]
    },
    {
     "name": "stderr",
     "output_type": "stream",
     "text": [
      "C:\\Users\\Paulius\\AppData\\Local\\pypoetry\\Cache\\virtualenvs\\ppuodz-ml-4-1-dqELbViF-py3.12\\Lib\\site-packages\\lightgbm\\callback.py:325: UserWarning: Early stopping is not available in dart mode\n",
      "  _log_warning('Early stopping is not available in dart mode')\n"
     ]
    },
    {
     "name": "stdout",
     "output_type": "stream",
     "text": [
      "Fold: Tuning: n_train=246009, eval_set=61502\n"
     ]
    },
    {
     "name": "stderr",
     "output_type": "stream",
     "text": [
      "C:\\Users\\Paulius\\AppData\\Local\\pypoetry\\Cache\\virtualenvs\\ppuodz-ml-4-1-dqELbViF-py3.12\\Lib\\site-packages\\lightgbm\\callback.py:325: UserWarning: Early stopping is not available in dart mode\n",
      "  _log_warning('Early stopping is not available in dart mode')\n"
     ]
    },
    {
     "name": "stdout",
     "output_type": "stream",
     "text": [
      "Fold: Tuning: n_train=246009, eval_set=61502\n"
     ]
    },
    {
     "name": "stderr",
     "output_type": "stream",
     "text": [
      "C:\\Users\\Paulius\\AppData\\Local\\pypoetry\\Cache\\virtualenvs\\ppuodz-ml-4-1-dqELbViF-py3.12\\Lib\\site-packages\\lightgbm\\callback.py:325: UserWarning: Early stopping is not available in dart mode\n",
      "  _log_warning('Early stopping is not available in dart mode')\n"
     ]
    },
    {
     "name": "stdout",
     "output_type": "stream",
     "text": [
      "Fold: Tuning: n_train=246009, eval_set=61502\n"
     ]
    },
    {
     "name": "stderr",
     "output_type": "stream",
     "text": [
      "C:\\Users\\Paulius\\AppData\\Local\\pypoetry\\Cache\\virtualenvs\\ppuodz-ml-4-1-dqELbViF-py3.12\\Lib\\site-packages\\lightgbm\\callback.py:325: UserWarning: Early stopping is not available in dart mode\n",
      "  _log_warning('Early stopping is not available in dart mode')\n"
     ]
    },
    {
     "name": "stdout",
     "output_type": "stream",
     "text": [
      "Fold: Tuning: n_train=246009, eval_set=61502\n",
      "Tune: val_score:0.7761, std_test_score:0.00172 train_set_score:0.8501\n",
      "folds val/train: [0.7781, 0.7739, 0.7742, 0.7772, 0.7771] / [0.8526, 0.8474, 0.8496, 0.8511, 0.85], mean fold time: 35.80\n"
     ]
    },
    {
     "name": "stderr",
     "output_type": "stream",
     "text": [
      "[I 2024-04-30 17:05:21,829] Trial 103 finished with value: 0.7760978932333764 and parameters: {'model__class_weight': 'balanced', 'model__objective': 'binary', 'model__boosting_type': 'dart', 'model__n_estimators': 800, 'model__learning_rate': 0.16, 'model__max_depth': 9, 'model__num_leaves': 128, 'model__min_gain_to_split': 3.0, 'model__min_data_in_leaf': 2600, 'model__lambda_l1': 55, 'model__lambda_l2': 80, 'model__bagging_fraction': 0.2, 'model__feature_fraction': 0.7, 'model__max_bin': 325, 'model__drop_rate': 0.1}. Best is trial 59 with value: 0.7761688739953272.\n",
      "C:\\Users\\Paulius\\AppData\\Local\\pypoetry\\Cache\\virtualenvs\\ppuodz-ml-4-1-dqELbViF-py3.12\\Lib\\site-packages\\lightgbm\\callback.py:325: UserWarning: Early stopping is not available in dart mode\n",
      "  _log_warning('Early stopping is not available in dart mode')\n"
     ]
    },
    {
     "name": "stdout",
     "output_type": "stream",
     "text": [
      "Fold: Tuning: n_train=246008, eval_set=61503\n"
     ]
    },
    {
     "name": "stderr",
     "output_type": "stream",
     "text": [
      "C:\\Users\\Paulius\\AppData\\Local\\pypoetry\\Cache\\virtualenvs\\ppuodz-ml-4-1-dqELbViF-py3.12\\Lib\\site-packages\\lightgbm\\callback.py:325: UserWarning: Early stopping is not available in dart mode\n",
      "  _log_warning('Early stopping is not available in dart mode')\n"
     ]
    },
    {
     "name": "stdout",
     "output_type": "stream",
     "text": [
      "Fold: Tuning: n_train=246009, eval_set=61502\n"
     ]
    },
    {
     "name": "stderr",
     "output_type": "stream",
     "text": [
      "C:\\Users\\Paulius\\AppData\\Local\\pypoetry\\Cache\\virtualenvs\\ppuodz-ml-4-1-dqELbViF-py3.12\\Lib\\site-packages\\lightgbm\\callback.py:325: UserWarning: Early stopping is not available in dart mode\n",
      "  _log_warning('Early stopping is not available in dart mode')\n"
     ]
    },
    {
     "name": "stdout",
     "output_type": "stream",
     "text": [
      "Fold: Tuning: n_train=246009, eval_set=61502\n"
     ]
    },
    {
     "name": "stderr",
     "output_type": "stream",
     "text": [
      "C:\\Users\\Paulius\\AppData\\Local\\pypoetry\\Cache\\virtualenvs\\ppuodz-ml-4-1-dqELbViF-py3.12\\Lib\\site-packages\\lightgbm\\callback.py:325: UserWarning: Early stopping is not available in dart mode\n",
      "  _log_warning('Early stopping is not available in dart mode')\n"
     ]
    },
    {
     "name": "stdout",
     "output_type": "stream",
     "text": [
      "Fold: Tuning: n_train=246009, eval_set=61502\n"
     ]
    },
    {
     "name": "stderr",
     "output_type": "stream",
     "text": [
      "C:\\Users\\Paulius\\AppData\\Local\\pypoetry\\Cache\\virtualenvs\\ppuodz-ml-4-1-dqELbViF-py3.12\\Lib\\site-packages\\lightgbm\\callback.py:325: UserWarning: Early stopping is not available in dart mode\n",
      "  _log_warning('Early stopping is not available in dart mode')\n"
     ]
    },
    {
     "name": "stdout",
     "output_type": "stream",
     "text": [
      "Fold: Tuning: n_train=246009, eval_set=61502\n",
      "Tune: val_score:0.7750, std_test_score:0.00132 train_set_score:0.8458\n",
      "folds val/train: [0.7771, 0.7735, 0.7738, 0.7748, 0.7756] / [0.8461, 0.844, 0.8456, 0.8477, 0.8455], mean fold time: 43.05\n"
     ]
    },
    {
     "name": "stderr",
     "output_type": "stream",
     "text": [
      "[I 2024-04-30 17:08:57,900] Trial 104 finished with value: 0.7749804267188923 and parameters: {'model__class_weight': 'balanced', 'model__objective': 'binary', 'model__boosting_type': 'dart', 'model__n_estimators': 850, 'model__learning_rate': 0.12, 'model__max_depth': 7, 'model__num_leaves': 104, 'model__min_gain_to_split': 3.5, 'model__min_data_in_leaf': 2600, 'model__lambda_l1': 55, 'model__lambda_l2': 75, 'model__bagging_fraction': 0.2, 'model__feature_fraction': 0.7, 'model__max_bin': 325, 'model__drop_rate': 0.925}. Best is trial 59 with value: 0.7761688739953272.\n",
      "C:\\Users\\Paulius\\AppData\\Local\\pypoetry\\Cache\\virtualenvs\\ppuodz-ml-4-1-dqELbViF-py3.12\\Lib\\site-packages\\lightgbm\\callback.py:325: UserWarning: Early stopping is not available in dart mode\n",
      "  _log_warning('Early stopping is not available in dart mode')\n"
     ]
    },
    {
     "name": "stdout",
     "output_type": "stream",
     "text": [
      "Fold: Tuning: n_train=246008, eval_set=61503\n"
     ]
    },
    {
     "name": "stderr",
     "output_type": "stream",
     "text": [
      "C:\\Users\\Paulius\\AppData\\Local\\pypoetry\\Cache\\virtualenvs\\ppuodz-ml-4-1-dqELbViF-py3.12\\Lib\\site-packages\\lightgbm\\callback.py:325: UserWarning: Early stopping is not available in dart mode\n",
      "  _log_warning('Early stopping is not available in dart mode')\n"
     ]
    },
    {
     "name": "stdout",
     "output_type": "stream",
     "text": [
      "Fold: Tuning: n_train=246009, eval_set=61502\n"
     ]
    },
    {
     "name": "stderr",
     "output_type": "stream",
     "text": [
      "C:\\Users\\Paulius\\AppData\\Local\\pypoetry\\Cache\\virtualenvs\\ppuodz-ml-4-1-dqELbViF-py3.12\\Lib\\site-packages\\lightgbm\\callback.py:325: UserWarning: Early stopping is not available in dart mode\n",
      "  _log_warning('Early stopping is not available in dart mode')\n"
     ]
    },
    {
     "name": "stdout",
     "output_type": "stream",
     "text": [
      "Fold: Tuning: n_train=246009, eval_set=61502\n"
     ]
    },
    {
     "name": "stderr",
     "output_type": "stream",
     "text": [
      "C:\\Users\\Paulius\\AppData\\Local\\pypoetry\\Cache\\virtualenvs\\ppuodz-ml-4-1-dqELbViF-py3.12\\Lib\\site-packages\\lightgbm\\callback.py:325: UserWarning: Early stopping is not available in dart mode\n",
      "  _log_warning('Early stopping is not available in dart mode')\n"
     ]
    },
    {
     "name": "stdout",
     "output_type": "stream",
     "text": [
      "Fold: Tuning: n_train=246009, eval_set=61502\n"
     ]
    },
    {
     "name": "stderr",
     "output_type": "stream",
     "text": [
      "C:\\Users\\Paulius\\AppData\\Local\\pypoetry\\Cache\\virtualenvs\\ppuodz-ml-4-1-dqELbViF-py3.12\\Lib\\site-packages\\lightgbm\\callback.py:325: UserWarning: Early stopping is not available in dart mode\n",
      "  _log_warning('Early stopping is not available in dart mode')\n"
     ]
    },
    {
     "name": "stdout",
     "output_type": "stream",
     "text": [
      "Fold: Tuning: n_train=246009, eval_set=61502\n",
      "Tune: val_score:0.7755, std_test_score:0.00135 train_set_score:0.8378\n",
      "folds val/train: [0.7769, 0.7736, 0.7748, 0.7751, 0.7771] / [0.8372, 0.8363, 0.8387, 0.8393, 0.8376], mean fold time: 36.23\n"
     ]
    },
    {
     "name": "stderr",
     "output_type": "stream",
     "text": [
      "[I 2024-04-30 17:11:59,896] Trial 105 finished with value: 0.7754972846803143 and parameters: {'model__class_weight': 'balanced', 'model__objective': 'binary', 'model__boosting_type': 'dart', 'model__n_estimators': 800, 'model__learning_rate': 0.13, 'model__max_depth': 8, 'model__num_leaves': 112, 'model__min_gain_to_split': 4.5, 'model__min_data_in_leaf': 2600, 'model__lambda_l1': 50, 'model__lambda_l2': 80, 'model__bagging_fraction': 0.30000000000000004, 'model__feature_fraction': 0.6000000000000001, 'model__max_bin': 350, 'model__drop_rate': 0.125}. Best is trial 59 with value: 0.7761688739953272.\n"
     ]
    },
    {
     "name": "stdout",
     "output_type": "stream",
     "text": [
      "Fold: Tuning: n_train=246008, eval_set=61503\n",
      "Fold: Tuning: n_train=246009, eval_set=61502\n",
      "Fold: Tuning: n_train=246009, eval_set=61502\n",
      "Fold: Tuning: n_train=246009, eval_set=61502\n",
      "Fold: Tuning: n_train=246009, eval_set=61502\n",
      "Tune: val_score:0.7310, std_test_score:0.00175 train_set_score:0.7426\n",
      "folds val/train: [0.7319, 0.7297, 0.7328, 0.7322, 0.7282] / [0.7403, 0.743, 0.7484, 0.7408, 0.7404], mean fold time: 1.32\n"
     ]
    },
    {
     "name": "stderr",
     "output_type": "stream",
     "text": [
      "[I 2024-04-30 17:12:07,323] Trial 106 finished with value: 0.7309608703167031 and parameters: {'model__class_weight': 'balanced', 'model__objective': 'binary', 'model__boosting_type': 'rf', 'model__n_estimators': 750, 'model__learning_rate': 0.16, 'model__max_depth': 9, 'model__num_leaves': 88, 'model__min_gain_to_split': 4.0, 'model__min_data_in_leaf': 2300, 'model__lambda_l1': 60, 'model__lambda_l2': 80, 'model__bagging_fraction': 0.2, 'model__feature_fraction': 0.7, 'model__max_bin': 325, 'model__drop_rate': 0.025}. Best is trial 59 with value: 0.7761688739953272.\n",
      "C:\\Users\\Paulius\\AppData\\Local\\pypoetry\\Cache\\virtualenvs\\ppuodz-ml-4-1-dqELbViF-py3.12\\Lib\\site-packages\\lightgbm\\callback.py:325: UserWarning: Early stopping is not available in dart mode\n",
      "  _log_warning('Early stopping is not available in dart mode')\n"
     ]
    },
    {
     "name": "stdout",
     "output_type": "stream",
     "text": [
      "Fold: Tuning: n_train=246008, eval_set=61503\n"
     ]
    },
    {
     "name": "stderr",
     "output_type": "stream",
     "text": [
      "C:\\Users\\Paulius\\AppData\\Local\\pypoetry\\Cache\\virtualenvs\\ppuodz-ml-4-1-dqELbViF-py3.12\\Lib\\site-packages\\lightgbm\\callback.py:325: UserWarning: Early stopping is not available in dart mode\n",
      "  _log_warning('Early stopping is not available in dart mode')\n"
     ]
    },
    {
     "name": "stdout",
     "output_type": "stream",
     "text": [
      "Fold: Tuning: n_train=246009, eval_set=61502\n"
     ]
    },
    {
     "name": "stderr",
     "output_type": "stream",
     "text": [
      "C:\\Users\\Paulius\\AppData\\Local\\pypoetry\\Cache\\virtualenvs\\ppuodz-ml-4-1-dqELbViF-py3.12\\Lib\\site-packages\\lightgbm\\callback.py:325: UserWarning: Early stopping is not available in dart mode\n",
      "  _log_warning('Early stopping is not available in dart mode')\n"
     ]
    },
    {
     "name": "stdout",
     "output_type": "stream",
     "text": [
      "Fold: Tuning: n_train=246009, eval_set=61502\n"
     ]
    },
    {
     "name": "stderr",
     "output_type": "stream",
     "text": [
      "C:\\Users\\Paulius\\AppData\\Local\\pypoetry\\Cache\\virtualenvs\\ppuodz-ml-4-1-dqELbViF-py3.12\\Lib\\site-packages\\lightgbm\\callback.py:325: UserWarning: Early stopping is not available in dart mode\n",
      "  _log_warning('Early stopping is not available in dart mode')\n"
     ]
    },
    {
     "name": "stdout",
     "output_type": "stream",
     "text": [
      "Fold: Tuning: n_train=246009, eval_set=61502\n"
     ]
    },
    {
     "name": "stderr",
     "output_type": "stream",
     "text": [
      "C:\\Users\\Paulius\\AppData\\Local\\pypoetry\\Cache\\virtualenvs\\ppuodz-ml-4-1-dqELbViF-py3.12\\Lib\\site-packages\\lightgbm\\callback.py:325: UserWarning: Early stopping is not available in dart mode\n",
      "  _log_warning('Early stopping is not available in dart mode')\n"
     ]
    },
    {
     "name": "stdout",
     "output_type": "stream",
     "text": [
      "Fold: Tuning: n_train=246009, eval_set=61502\n",
      "Tune: val_score:0.7572, std_test_score:0.00175 train_set_score:0.7737\n",
      "folds val/train: [0.7571, 0.7548, 0.7558, 0.7596, 0.7585] / [0.7723, 0.775, 0.7743, 0.774, 0.7729], mean fold time: 2.48\n"
     ]
    },
    {
     "name": "stderr",
     "output_type": "stream",
     "text": [
      "[I 2024-04-30 17:12:20,567] Trial 107 finished with value: 0.7571678211567875 and parameters: {'model__class_weight': None, 'model__objective': 'binary', 'model__boosting_type': 'dart', 'model__n_estimators': 100, 'model__learning_rate': 0.13, 'model__max_depth': 9, 'model__num_leaves': 128, 'model__min_gain_to_split': 3.0, 'model__min_data_in_leaf': 2400, 'model__lambda_l1': 45, 'model__lambda_l2': 90, 'model__bagging_fraction': 0.7, 'model__feature_fraction': 0.7, 'model__max_bin': 350, 'model__drop_rate': 0.1}. Best is trial 59 with value: 0.7761688739953272.\n",
      "C:\\Users\\Paulius\\AppData\\Local\\pypoetry\\Cache\\virtualenvs\\ppuodz-ml-4-1-dqELbViF-py3.12\\Lib\\site-packages\\lightgbm\\callback.py:325: UserWarning: Early stopping is not available in dart mode\n",
      "  _log_warning('Early stopping is not available in dart mode')\n"
     ]
    },
    {
     "name": "stdout",
     "output_type": "stream",
     "text": [
      "Fold: Tuning: n_train=246008, eval_set=61503\n"
     ]
    },
    {
     "name": "stderr",
     "output_type": "stream",
     "text": [
      "C:\\Users\\Paulius\\AppData\\Local\\pypoetry\\Cache\\virtualenvs\\ppuodz-ml-4-1-dqELbViF-py3.12\\Lib\\site-packages\\lightgbm\\callback.py:325: UserWarning: Early stopping is not available in dart mode\n",
      "  _log_warning('Early stopping is not available in dart mode')\n"
     ]
    },
    {
     "name": "stdout",
     "output_type": "stream",
     "text": [
      "Fold: Tuning: n_train=246009, eval_set=61502\n"
     ]
    },
    {
     "name": "stderr",
     "output_type": "stream",
     "text": [
      "C:\\Users\\Paulius\\AppData\\Local\\pypoetry\\Cache\\virtualenvs\\ppuodz-ml-4-1-dqELbViF-py3.12\\Lib\\site-packages\\lightgbm\\callback.py:325: UserWarning: Early stopping is not available in dart mode\n",
      "  _log_warning('Early stopping is not available in dart mode')\n"
     ]
    },
    {
     "name": "stdout",
     "output_type": "stream",
     "text": [
      "Fold: Tuning: n_train=246009, eval_set=61502\n"
     ]
    },
    {
     "name": "stderr",
     "output_type": "stream",
     "text": [
      "C:\\Users\\Paulius\\AppData\\Local\\pypoetry\\Cache\\virtualenvs\\ppuodz-ml-4-1-dqELbViF-py3.12\\Lib\\site-packages\\lightgbm\\callback.py:325: UserWarning: Early stopping is not available in dart mode\n",
      "  _log_warning('Early stopping is not available in dart mode')\n"
     ]
    },
    {
     "name": "stdout",
     "output_type": "stream",
     "text": [
      "Fold: Tuning: n_train=246009, eval_set=61502\n"
     ]
    },
    {
     "name": "stderr",
     "output_type": "stream",
     "text": [
      "C:\\Users\\Paulius\\AppData\\Local\\pypoetry\\Cache\\virtualenvs\\ppuodz-ml-4-1-dqELbViF-py3.12\\Lib\\site-packages\\lightgbm\\callback.py:325: UserWarning: Early stopping is not available in dart mode\n",
      "  _log_warning('Early stopping is not available in dart mode')\n"
     ]
    },
    {
     "name": "stdout",
     "output_type": "stream",
     "text": [
      "Fold: Tuning: n_train=246009, eval_set=61502\n",
      "Tune: val_score:0.7753, std_test_score:0.00136 train_set_score:0.8878\n",
      "folds val/train: [0.7777, 0.774, 0.7739, 0.7756, 0.7753] / [0.8879, 0.8869, 0.8887, 0.8885, 0.8869], mean fold time: 30.34\n"
     ]
    },
    {
     "name": "stderr",
     "output_type": "stream",
     "text": [
      "[I 2024-04-30 17:14:53,087] Trial 108 finished with value: 0.7752973754291087 and parameters: {'model__class_weight': 'balanced', 'model__objective': 'binary', 'model__boosting_type': 'dart', 'model__n_estimators': 900, 'model__learning_rate': 0.17, 'model__max_depth': 9, 'model__num_leaves': 192, 'model__min_gain_to_split': 1.0, 'model__min_data_in_leaf': 2100, 'model__lambda_l1': 55, 'model__lambda_l2': 85, 'model__bagging_fraction': 0.2, 'model__feature_fraction': 0.6000000000000001, 'model__max_bin': 300, 'model__drop_rate': 0.05}. Best is trial 59 with value: 0.7761688739953272.\n",
      "C:\\Users\\Paulius\\AppData\\Local\\pypoetry\\Cache\\virtualenvs\\ppuodz-ml-4-1-dqELbViF-py3.12\\Lib\\site-packages\\lightgbm\\callback.py:325: UserWarning: Early stopping is not available in dart mode\n",
      "  _log_warning('Early stopping is not available in dart mode')\n"
     ]
    },
    {
     "name": "stdout",
     "output_type": "stream",
     "text": [
      "Fold: Tuning: n_train=246008, eval_set=61503\n"
     ]
    },
    {
     "name": "stderr",
     "output_type": "stream",
     "text": [
      "C:\\Users\\Paulius\\AppData\\Local\\pypoetry\\Cache\\virtualenvs\\ppuodz-ml-4-1-dqELbViF-py3.12\\Lib\\site-packages\\lightgbm\\callback.py:325: UserWarning: Early stopping is not available in dart mode\n",
      "  _log_warning('Early stopping is not available in dart mode')\n"
     ]
    },
    {
     "name": "stdout",
     "output_type": "stream",
     "text": [
      "Fold: Tuning: n_train=246009, eval_set=61502\n"
     ]
    },
    {
     "name": "stderr",
     "output_type": "stream",
     "text": [
      "C:\\Users\\Paulius\\AppData\\Local\\pypoetry\\Cache\\virtualenvs\\ppuodz-ml-4-1-dqELbViF-py3.12\\Lib\\site-packages\\lightgbm\\callback.py:325: UserWarning: Early stopping is not available in dart mode\n",
      "  _log_warning('Early stopping is not available in dart mode')\n"
     ]
    },
    {
     "name": "stdout",
     "output_type": "stream",
     "text": [
      "Fold: Tuning: n_train=246009, eval_set=61502\n"
     ]
    },
    {
     "name": "stderr",
     "output_type": "stream",
     "text": [
      "C:\\Users\\Paulius\\AppData\\Local\\pypoetry\\Cache\\virtualenvs\\ppuodz-ml-4-1-dqELbViF-py3.12\\Lib\\site-packages\\lightgbm\\callback.py:325: UserWarning: Early stopping is not available in dart mode\n",
      "  _log_warning('Early stopping is not available in dart mode')\n"
     ]
    },
    {
     "name": "stdout",
     "output_type": "stream",
     "text": [
      "Fold: Tuning: n_train=246009, eval_set=61502\n"
     ]
    },
    {
     "name": "stderr",
     "output_type": "stream",
     "text": [
      "C:\\Users\\Paulius\\AppData\\Local\\pypoetry\\Cache\\virtualenvs\\ppuodz-ml-4-1-dqELbViF-py3.12\\Lib\\site-packages\\lightgbm\\callback.py:325: UserWarning: Early stopping is not available in dart mode\n",
      "  _log_warning('Early stopping is not available in dart mode')\n"
     ]
    },
    {
     "name": "stdout",
     "output_type": "stream",
     "text": [
      "Fold: Tuning: n_train=246009, eval_set=61502\n",
      "Tune: val_score:0.7733, std_test_score:0.00148 train_set_score:0.8433\n",
      "folds val/train: [0.7753, 0.771, 0.7732, 0.7743, 0.7728] / [0.8429, 0.8438, 0.8432, 0.843, 0.8436], mean fold time: 4.43\n"
     ]
    },
    {
     "name": "stderr",
     "output_type": "stream",
     "text": [
      "[I 2024-04-30 17:15:16,058] Trial 109 finished with value: 0.77331191667464 and parameters: {'model__class_weight': 'balanced', 'model__objective': 'binary', 'model__boosting_type': 'dart', 'model__n_estimators': 750, 'model__learning_rate': 0.15000000000000002, 'model__max_depth': 10, 'model__num_leaves': 120, 'model__min_gain_to_split': 2.0, 'model__min_data_in_leaf': 2500, 'model__lambda_l1': 60, 'model__lambda_l2': 75, 'model__bagging_fraction': 0.8, 'model__feature_fraction': 0.7, 'model__max_bin': 325, 'model__drop_rate': 0.0}. Best is trial 59 with value: 0.7761688739953272.\n"
     ]
    },
    {
     "name": "stdout",
     "output_type": "stream",
     "text": [
      "Fold: Tuning: n_train=246008, eval_set=61503\n",
      "Fold: Tuning: n_train=246009, eval_set=61502\n",
      "Fold: Tuning: n_train=246009, eval_set=61502\n",
      "Fold: Tuning: n_train=246009, eval_set=61502\n",
      "Fold: Tuning: n_train=246009, eval_set=61502\n",
      "Tune: val_score:0.7716, std_test_score:0.00161 train_set_score:0.8491\n",
      "folds val/train: [0.7726, 0.77, 0.77, 0.7712, 0.7741] / [0.8445, 0.8435, 0.8537, 0.8467, 0.8568], mean fold time: 2.29\n"
     ]
    },
    {
     "name": "stderr",
     "output_type": "stream",
     "text": [
      "[I 2024-04-30 17:15:28,304] Trial 110 finished with value: 0.7715890545145191 and parameters: {'model__class_weight': 'balanced', 'model__objective': 'binary', 'model__boosting_type': 'gbdt', 'model__n_estimators': 850, 'model__learning_rate': 0.21000000000000002, 'model__max_depth': 9, 'model__num_leaves': 144, 'model__min_gain_to_split': 1.5, 'model__min_data_in_leaf': 2900, 'model__lambda_l1': 50, 'model__lambda_l2': 45, 'model__bagging_fraction': 0.30000000000000004, 'model__feature_fraction': 0.7, 'model__max_bin': 375, 'model__drop_rate': 0.15000000000000002}. Best is trial 59 with value: 0.7761688739953272.\n",
      "C:\\Users\\Paulius\\AppData\\Local\\pypoetry\\Cache\\virtualenvs\\ppuodz-ml-4-1-dqELbViF-py3.12\\Lib\\site-packages\\lightgbm\\callback.py:325: UserWarning: Early stopping is not available in dart mode\n",
      "  _log_warning('Early stopping is not available in dart mode')\n"
     ]
    },
    {
     "name": "stdout",
     "output_type": "stream",
     "text": [
      "Fold: Tuning: n_train=246008, eval_set=61503\n"
     ]
    },
    {
     "name": "stderr",
     "output_type": "stream",
     "text": [
      "C:\\Users\\Paulius\\AppData\\Local\\pypoetry\\Cache\\virtualenvs\\ppuodz-ml-4-1-dqELbViF-py3.12\\Lib\\site-packages\\lightgbm\\callback.py:325: UserWarning: Early stopping is not available in dart mode\n",
      "  _log_warning('Early stopping is not available in dart mode')\n"
     ]
    },
    {
     "name": "stdout",
     "output_type": "stream",
     "text": [
      "Fold: Tuning: n_train=246009, eval_set=61502\n"
     ]
    },
    {
     "name": "stderr",
     "output_type": "stream",
     "text": [
      "C:\\Users\\Paulius\\AppData\\Local\\pypoetry\\Cache\\virtualenvs\\ppuodz-ml-4-1-dqELbViF-py3.12\\Lib\\site-packages\\lightgbm\\callback.py:325: UserWarning: Early stopping is not available in dart mode\n",
      "  _log_warning('Early stopping is not available in dart mode')\n"
     ]
    },
    {
     "name": "stdout",
     "output_type": "stream",
     "text": [
      "Fold: Tuning: n_train=246009, eval_set=61502\n"
     ]
    },
    {
     "name": "stderr",
     "output_type": "stream",
     "text": [
      "C:\\Users\\Paulius\\AppData\\Local\\pypoetry\\Cache\\virtualenvs\\ppuodz-ml-4-1-dqELbViF-py3.12\\Lib\\site-packages\\lightgbm\\callback.py:325: UserWarning: Early stopping is not available in dart mode\n",
      "  _log_warning('Early stopping is not available in dart mode')\n"
     ]
    },
    {
     "name": "stdout",
     "output_type": "stream",
     "text": [
      "Fold: Tuning: n_train=246009, eval_set=61502\n"
     ]
    },
    {
     "name": "stderr",
     "output_type": "stream",
     "text": [
      "C:\\Users\\Paulius\\AppData\\Local\\pypoetry\\Cache\\virtualenvs\\ppuodz-ml-4-1-dqELbViF-py3.12\\Lib\\site-packages\\lightgbm\\callback.py:325: UserWarning: Early stopping is not available in dart mode\n",
      "  _log_warning('Early stopping is not available in dart mode')\n"
     ]
    },
    {
     "name": "stdout",
     "output_type": "stream",
     "text": [
      "Fold: Tuning: n_train=246009, eval_set=61502\n",
      "Tune: val_score:0.7751, std_test_score:0.00142 train_set_score:0.8569\n",
      "folds val/train: [0.7768, 0.7733, 0.7737, 0.7753, 0.7765] / [0.8571, 0.8553, 0.8578, 0.8579, 0.8566], mean fold time: 33.26\n"
     ]
    },
    {
     "name": "stderr",
     "output_type": "stream",
     "text": [
      "[I 2024-04-30 17:18:15,411] Trial 111 finished with value: 0.775113320499737 and parameters: {'model__class_weight': 'balanced', 'model__objective': 'binary', 'model__boosting_type': 'dart', 'model__n_estimators': 800, 'model__learning_rate': 0.14, 'model__max_depth': 10, 'model__num_leaves': 136, 'model__min_gain_to_split': 3.5, 'model__min_data_in_leaf': 2300, 'model__lambda_l1': 45, 'model__lambda_l2': 95, 'model__bagging_fraction': 0.2, 'model__feature_fraction': 0.7, 'model__max_bin': 275, 'model__drop_rate': 0.07500000000000001}. Best is trial 59 with value: 0.7761688739953272.\n",
      "C:\\Users\\Paulius\\AppData\\Local\\pypoetry\\Cache\\virtualenvs\\ppuodz-ml-4-1-dqELbViF-py3.12\\Lib\\site-packages\\lightgbm\\callback.py:325: UserWarning: Early stopping is not available in dart mode\n",
      "  _log_warning('Early stopping is not available in dart mode')\n"
     ]
    },
    {
     "name": "stdout",
     "output_type": "stream",
     "text": [
      "Fold: Tuning: n_train=246008, eval_set=61503\n"
     ]
    },
    {
     "name": "stderr",
     "output_type": "stream",
     "text": [
      "C:\\Users\\Paulius\\AppData\\Local\\pypoetry\\Cache\\virtualenvs\\ppuodz-ml-4-1-dqELbViF-py3.12\\Lib\\site-packages\\lightgbm\\callback.py:325: UserWarning: Early stopping is not available in dart mode\n",
      "  _log_warning('Early stopping is not available in dart mode')\n"
     ]
    },
    {
     "name": "stdout",
     "output_type": "stream",
     "text": [
      "Fold: Tuning: n_train=246009, eval_set=61502\n"
     ]
    },
    {
     "name": "stderr",
     "output_type": "stream",
     "text": [
      "C:\\Users\\Paulius\\AppData\\Local\\pypoetry\\Cache\\virtualenvs\\ppuodz-ml-4-1-dqELbViF-py3.12\\Lib\\site-packages\\lightgbm\\callback.py:325: UserWarning: Early stopping is not available in dart mode\n",
      "  _log_warning('Early stopping is not available in dart mode')\n"
     ]
    },
    {
     "name": "stdout",
     "output_type": "stream",
     "text": [
      "Fold: Tuning: n_train=246009, eval_set=61502\n"
     ]
    },
    {
     "name": "stderr",
     "output_type": "stream",
     "text": [
      "C:\\Users\\Paulius\\AppData\\Local\\pypoetry\\Cache\\virtualenvs\\ppuodz-ml-4-1-dqELbViF-py3.12\\Lib\\site-packages\\lightgbm\\callback.py:325: UserWarning: Early stopping is not available in dart mode\n",
      "  _log_warning('Early stopping is not available in dart mode')\n"
     ]
    },
    {
     "name": "stdout",
     "output_type": "stream",
     "text": [
      "Fold: Tuning: n_train=246009, eval_set=61502\n"
     ]
    },
    {
     "name": "stderr",
     "output_type": "stream",
     "text": [
      "C:\\Users\\Paulius\\AppData\\Local\\pypoetry\\Cache\\virtualenvs\\ppuodz-ml-4-1-dqELbViF-py3.12\\Lib\\site-packages\\lightgbm\\callback.py:325: UserWarning: Early stopping is not available in dart mode\n",
      "  _log_warning('Early stopping is not available in dart mode')\n"
     ]
    },
    {
     "name": "stdout",
     "output_type": "stream",
     "text": [
      "Fold: Tuning: n_train=246009, eval_set=61502\n",
      "Tune: val_score:0.7756, std_test_score:0.00156 train_set_score:0.8568\n",
      "folds val/train: [0.777, 0.7736, 0.7738, 0.7765, 0.777] / [0.8573, 0.8556, 0.8565, 0.8583, 0.8562], mean fold time: 22.03\n"
     ]
    },
    {
     "name": "stderr",
     "output_type": "stream",
     "text": [
      "[I 2024-04-30 17:20:06,343] Trial 112 finished with value: 0.7755704469706053 and parameters: {'model__class_weight': 'balanced', 'model__objective': 'binary', 'model__boosting_type': 'dart', 'model__n_estimators': 800, 'model__learning_rate': 0.19, 'model__max_depth': 10, 'model__num_leaves': 120, 'model__min_gain_to_split': 3.0, 'model__min_data_in_leaf': 2200, 'model__lambda_l1': 55, 'model__lambda_l2': 10, 'model__bagging_fraction': 0.2, 'model__feature_fraction': 0.7, 'model__max_bin': 250, 'model__drop_rate': 0.05}. Best is trial 59 with value: 0.7761688739953272.\n",
      "C:\\Users\\Paulius\\AppData\\Local\\pypoetry\\Cache\\virtualenvs\\ppuodz-ml-4-1-dqELbViF-py3.12\\Lib\\site-packages\\lightgbm\\callback.py:325: UserWarning: Early stopping is not available in dart mode\n",
      "  _log_warning('Early stopping is not available in dart mode')\n"
     ]
    },
    {
     "name": "stdout",
     "output_type": "stream",
     "text": [
      "Fold: Tuning: n_train=246008, eval_set=61503\n"
     ]
    },
    {
     "name": "stderr",
     "output_type": "stream",
     "text": [
      "C:\\Users\\Paulius\\AppData\\Local\\pypoetry\\Cache\\virtualenvs\\ppuodz-ml-4-1-dqELbViF-py3.12\\Lib\\site-packages\\lightgbm\\callback.py:325: UserWarning: Early stopping is not available in dart mode\n",
      "  _log_warning('Early stopping is not available in dart mode')\n"
     ]
    },
    {
     "name": "stdout",
     "output_type": "stream",
     "text": [
      "Fold: Tuning: n_train=246009, eval_set=61502\n"
     ]
    },
    {
     "name": "stderr",
     "output_type": "stream",
     "text": [
      "C:\\Users\\Paulius\\AppData\\Local\\pypoetry\\Cache\\virtualenvs\\ppuodz-ml-4-1-dqELbViF-py3.12\\Lib\\site-packages\\lightgbm\\callback.py:325: UserWarning: Early stopping is not available in dart mode\n",
      "  _log_warning('Early stopping is not available in dart mode')\n"
     ]
    },
    {
     "name": "stdout",
     "output_type": "stream",
     "text": [
      "Fold: Tuning: n_train=246009, eval_set=61502\n"
     ]
    },
    {
     "name": "stderr",
     "output_type": "stream",
     "text": [
      "C:\\Users\\Paulius\\AppData\\Local\\pypoetry\\Cache\\virtualenvs\\ppuodz-ml-4-1-dqELbViF-py3.12\\Lib\\site-packages\\lightgbm\\callback.py:325: UserWarning: Early stopping is not available in dart mode\n",
      "  _log_warning('Early stopping is not available in dart mode')\n"
     ]
    },
    {
     "name": "stdout",
     "output_type": "stream",
     "text": [
      "Fold: Tuning: n_train=246009, eval_set=61502\n"
     ]
    },
    {
     "name": "stderr",
     "output_type": "stream",
     "text": [
      "C:\\Users\\Paulius\\AppData\\Local\\pypoetry\\Cache\\virtualenvs\\ppuodz-ml-4-1-dqELbViF-py3.12\\Lib\\site-packages\\lightgbm\\callback.py:325: UserWarning: Early stopping is not available in dart mode\n",
      "  _log_warning('Early stopping is not available in dart mode')\n"
     ]
    },
    {
     "name": "stdout",
     "output_type": "stream",
     "text": [
      "Fold: Tuning: n_train=246009, eval_set=61502\n",
      "Tune: val_score:0.7765, std_test_score:0.00146 train_set_score:0.8546\n",
      "folds val/train: [0.7783, 0.7756, 0.7742, 0.7776, 0.7771] / [0.8552, 0.8534, 0.8547, 0.8556, 0.8543], mean fold time: 14.86\n"
     ]
    },
    {
     "name": "stderr",
     "output_type": "stream",
     "text": [
      "[I 2024-04-30 17:21:21,449] Trial 113 finished with value: 0.7765413336056665 and parameters: {'model__class_weight': 'balanced', 'model__objective': 'binary', 'model__boosting_type': 'dart', 'model__n_estimators': 800, 'model__learning_rate': 0.19, 'model__max_depth': 10, 'model__num_leaves': 112, 'model__min_gain_to_split': 3.0, 'model__min_data_in_leaf': 2400, 'model__lambda_l1': 55, 'model__lambda_l2': 10, 'model__bagging_fraction': 0.2, 'model__feature_fraction': 0.6000000000000001, 'model__max_bin': 250, 'model__drop_rate': 0.025}. Best is trial 113 with value: 0.7765413336056665.\n",
      "C:\\Users\\Paulius\\AppData\\Local\\pypoetry\\Cache\\virtualenvs\\ppuodz-ml-4-1-dqELbViF-py3.12\\Lib\\site-packages\\lightgbm\\callback.py:325: UserWarning: Early stopping is not available in dart mode\n",
      "  _log_warning('Early stopping is not available in dart mode')\n"
     ]
    },
    {
     "name": "stdout",
     "output_type": "stream",
     "text": [
      "Fold: Tuning: n_train=246008, eval_set=61503\n"
     ]
    },
    {
     "name": "stderr",
     "output_type": "stream",
     "text": [
      "C:\\Users\\Paulius\\AppData\\Local\\pypoetry\\Cache\\virtualenvs\\ppuodz-ml-4-1-dqELbViF-py3.12\\Lib\\site-packages\\lightgbm\\callback.py:325: UserWarning: Early stopping is not available in dart mode\n",
      "  _log_warning('Early stopping is not available in dart mode')\n"
     ]
    },
    {
     "name": "stdout",
     "output_type": "stream",
     "text": [
      "Fold: Tuning: n_train=246009, eval_set=61502\n"
     ]
    },
    {
     "name": "stderr",
     "output_type": "stream",
     "text": [
      "C:\\Users\\Paulius\\AppData\\Local\\pypoetry\\Cache\\virtualenvs\\ppuodz-ml-4-1-dqELbViF-py3.12\\Lib\\site-packages\\lightgbm\\callback.py:325: UserWarning: Early stopping is not available in dart mode\n",
      "  _log_warning('Early stopping is not available in dart mode')\n"
     ]
    },
    {
     "name": "stdout",
     "output_type": "stream",
     "text": [
      "Fold: Tuning: n_train=246009, eval_set=61502\n"
     ]
    },
    {
     "name": "stderr",
     "output_type": "stream",
     "text": [
      "C:\\Users\\Paulius\\AppData\\Local\\pypoetry\\Cache\\virtualenvs\\ppuodz-ml-4-1-dqELbViF-py3.12\\Lib\\site-packages\\lightgbm\\callback.py:325: UserWarning: Early stopping is not available in dart mode\n",
      "  _log_warning('Early stopping is not available in dart mode')\n"
     ]
    },
    {
     "name": "stdout",
     "output_type": "stream",
     "text": [
      "Fold: Tuning: n_train=246009, eval_set=61502\n"
     ]
    },
    {
     "name": "stderr",
     "output_type": "stream",
     "text": [
      "C:\\Users\\Paulius\\AppData\\Local\\pypoetry\\Cache\\virtualenvs\\ppuodz-ml-4-1-dqELbViF-py3.12\\Lib\\site-packages\\lightgbm\\callback.py:325: UserWarning: Early stopping is not available in dart mode\n",
      "  _log_warning('Early stopping is not available in dart mode')\n"
     ]
    },
    {
     "name": "stdout",
     "output_type": "stream",
     "text": [
      "Fold: Tuning: n_train=246009, eval_set=61502\n",
      "Tune: val_score:0.7756, std_test_score:0.00150 train_set_score:0.8426\n",
      "folds val/train: [0.7774, 0.774, 0.7737, 0.7762, 0.7769] / [0.8434, 0.841, 0.8424, 0.8439, 0.8425], mean fold time: 22.12\n"
     ]
    },
    {
     "name": "stderr",
     "output_type": "stream",
     "text": [
      "[I 2024-04-30 17:23:12,858] Trial 114 finished with value: 0.7756165234444479 and parameters: {'model__class_weight': 'balanced', 'model__objective': 'binary', 'model__boosting_type': 'dart', 'model__n_estimators': 800, 'model__learning_rate': 0.18000000000000002, 'model__max_depth': 11, 'model__num_leaves': 128, 'model__min_gain_to_split': 4.0, 'model__min_data_in_leaf': 2600, 'model__lambda_l1': 55, 'model__lambda_l2': 10, 'model__bagging_fraction': 0.2, 'model__feature_fraction': 0.6000000000000001, 'model__max_bin': 250, 'model__drop_rate': 0.05}. Best is trial 113 with value: 0.7765413336056665.\n",
      "C:\\Users\\Paulius\\AppData\\Local\\pypoetry\\Cache\\virtualenvs\\ppuodz-ml-4-1-dqELbViF-py3.12\\Lib\\site-packages\\lightgbm\\callback.py:325: UserWarning: Early stopping is not available in dart mode\n",
      "  _log_warning('Early stopping is not available in dart mode')\n"
     ]
    },
    {
     "name": "stdout",
     "output_type": "stream",
     "text": [
      "Fold: Tuning: n_train=246008, eval_set=61503\n"
     ]
    },
    {
     "name": "stderr",
     "output_type": "stream",
     "text": [
      "C:\\Users\\Paulius\\AppData\\Local\\pypoetry\\Cache\\virtualenvs\\ppuodz-ml-4-1-dqELbViF-py3.12\\Lib\\site-packages\\lightgbm\\callback.py:325: UserWarning: Early stopping is not available in dart mode\n",
      "  _log_warning('Early stopping is not available in dart mode')\n"
     ]
    },
    {
     "name": "stdout",
     "output_type": "stream",
     "text": [
      "Fold: Tuning: n_train=246009, eval_set=61502\n"
     ]
    },
    {
     "name": "stderr",
     "output_type": "stream",
     "text": [
      "C:\\Users\\Paulius\\AppData\\Local\\pypoetry\\Cache\\virtualenvs\\ppuodz-ml-4-1-dqELbViF-py3.12\\Lib\\site-packages\\lightgbm\\callback.py:325: UserWarning: Early stopping is not available in dart mode\n",
      "  _log_warning('Early stopping is not available in dart mode')\n"
     ]
    },
    {
     "name": "stdout",
     "output_type": "stream",
     "text": [
      "Fold: Tuning: n_train=246009, eval_set=61502\n"
     ]
    },
    {
     "name": "stderr",
     "output_type": "stream",
     "text": [
      "C:\\Users\\Paulius\\AppData\\Local\\pypoetry\\Cache\\virtualenvs\\ppuodz-ml-4-1-dqELbViF-py3.12\\Lib\\site-packages\\lightgbm\\callback.py:325: UserWarning: Early stopping is not available in dart mode\n",
      "  _log_warning('Early stopping is not available in dart mode')\n"
     ]
    },
    {
     "name": "stdout",
     "output_type": "stream",
     "text": [
      "Fold: Tuning: n_train=246009, eval_set=61502\n"
     ]
    },
    {
     "name": "stderr",
     "output_type": "stream",
     "text": [
      "C:\\Users\\Paulius\\AppData\\Local\\pypoetry\\Cache\\virtualenvs\\ppuodz-ml-4-1-dqELbViF-py3.12\\Lib\\site-packages\\lightgbm\\callback.py:325: UserWarning: Early stopping is not available in dart mode\n",
      "  _log_warning('Early stopping is not available in dart mode')\n"
     ]
    },
    {
     "name": "stdout",
     "output_type": "stream",
     "text": [
      "Fold: Tuning: n_train=246009, eval_set=61502\n",
      "Tune: val_score:0.7761, std_test_score:0.00135 train_set_score:0.8373\n",
      "folds val/train: [0.7781, 0.7744, 0.7749, 0.7765, 0.7768] / [0.8377, 0.8358, 0.8372, 0.8385, 0.8371], mean fold time: 18.33\n"
     ]
    },
    {
     "name": "stderr",
     "output_type": "stream",
     "text": [
      "[I 2024-04-30 17:24:45,328] Trial 115 finished with value: 0.7761332450237166 and parameters: {'model__class_weight': 'balanced', 'model__objective': 'binary', 'model__boosting_type': 'dart', 'model__n_estimators': 950, 'model__learning_rate': 0.16, 'model__max_depth': 11, 'model__num_leaves': 128, 'model__min_gain_to_split': 4.0, 'model__min_data_in_leaf': 2400, 'model__lambda_l1': 60, 'model__lambda_l2': 10, 'model__bagging_fraction': 0.2, 'model__feature_fraction': 0.5, 'model__max_bin': 225, 'model__drop_rate': 0.025}. Best is trial 113 with value: 0.7765413336056665.\n",
      "C:\\Users\\Paulius\\AppData\\Local\\pypoetry\\Cache\\virtualenvs\\ppuodz-ml-4-1-dqELbViF-py3.12\\Lib\\site-packages\\lightgbm\\callback.py:325: UserWarning: Early stopping is not available in dart mode\n",
      "  _log_warning('Early stopping is not available in dart mode')\n"
     ]
    },
    {
     "name": "stdout",
     "output_type": "stream",
     "text": [
      "Fold: Tuning: n_train=246008, eval_set=61503\n"
     ]
    },
    {
     "name": "stderr",
     "output_type": "stream",
     "text": [
      "C:\\Users\\Paulius\\AppData\\Local\\pypoetry\\Cache\\virtualenvs\\ppuodz-ml-4-1-dqELbViF-py3.12\\Lib\\site-packages\\lightgbm\\callback.py:325: UserWarning: Early stopping is not available in dart mode\n",
      "  _log_warning('Early stopping is not available in dart mode')\n"
     ]
    },
    {
     "name": "stdout",
     "output_type": "stream",
     "text": [
      "Fold: Tuning: n_train=246009, eval_set=61502\n"
     ]
    },
    {
     "name": "stderr",
     "output_type": "stream",
     "text": [
      "C:\\Users\\Paulius\\AppData\\Local\\pypoetry\\Cache\\virtualenvs\\ppuodz-ml-4-1-dqELbViF-py3.12\\Lib\\site-packages\\lightgbm\\callback.py:325: UserWarning: Early stopping is not available in dart mode\n",
      "  _log_warning('Early stopping is not available in dart mode')\n"
     ]
    },
    {
     "name": "stdout",
     "output_type": "stream",
     "text": [
      "Fold: Tuning: n_train=246009, eval_set=61502\n"
     ]
    },
    {
     "name": "stderr",
     "output_type": "stream",
     "text": [
      "C:\\Users\\Paulius\\AppData\\Local\\pypoetry\\Cache\\virtualenvs\\ppuodz-ml-4-1-dqELbViF-py3.12\\Lib\\site-packages\\lightgbm\\callback.py:325: UserWarning: Early stopping is not available in dart mode\n",
      "  _log_warning('Early stopping is not available in dart mode')\n"
     ]
    },
    {
     "name": "stdout",
     "output_type": "stream",
     "text": [
      "Fold: Tuning: n_train=246009, eval_set=61502\n"
     ]
    },
    {
     "name": "stderr",
     "output_type": "stream",
     "text": [
      "C:\\Users\\Paulius\\AppData\\Local\\pypoetry\\Cache\\virtualenvs\\ppuodz-ml-4-1-dqELbViF-py3.12\\Lib\\site-packages\\lightgbm\\callback.py:325: UserWarning: Early stopping is not available in dart mode\n",
      "  _log_warning('Early stopping is not available in dart mode')\n"
     ]
    },
    {
     "name": "stdout",
     "output_type": "stream",
     "text": [
      "Fold: Tuning: n_train=246009, eval_set=61502\n",
      "Tune: val_score:0.7759, std_test_score:0.00154 train_set_score:0.8366\n",
      "folds val/train: [0.7781, 0.7741, 0.7742, 0.7761, 0.7769] / [0.837, 0.8361, 0.8361, 0.838, 0.8358], mean fold time: 19.93\n"
     ]
    },
    {
     "name": "stderr",
     "output_type": "stream",
     "text": [
      "[I 2024-04-30 17:26:25,792] Trial 116 finished with value: 0.7759056876493742 and parameters: {'model__class_weight': 'balanced', 'model__objective': 'binary', 'model__boosting_type': 'dart', 'model__n_estimators': 1000, 'model__learning_rate': 0.16, 'model__max_depth': 11, 'model__num_leaves': 128, 'model__min_gain_to_split': 4.0, 'model__min_data_in_leaf': 2600, 'model__lambda_l1': 60, 'model__lambda_l2': 10, 'model__bagging_fraction': 0.2, 'model__feature_fraction': 0.5, 'model__max_bin': 250, 'model__drop_rate': 0.025}. Best is trial 113 with value: 0.7765413336056665.\n",
      "C:\\Users\\Paulius\\AppData\\Local\\pypoetry\\Cache\\virtualenvs\\ppuodz-ml-4-1-dqELbViF-py3.12\\Lib\\site-packages\\lightgbm\\callback.py:325: UserWarning: Early stopping is not available in dart mode\n",
      "  _log_warning('Early stopping is not available in dart mode')\n"
     ]
    },
    {
     "name": "stdout",
     "output_type": "stream",
     "text": [
      "Fold: Tuning: n_train=246008, eval_set=61503\n"
     ]
    },
    {
     "name": "stderr",
     "output_type": "stream",
     "text": [
      "C:\\Users\\Paulius\\AppData\\Local\\pypoetry\\Cache\\virtualenvs\\ppuodz-ml-4-1-dqELbViF-py3.12\\Lib\\site-packages\\lightgbm\\callback.py:325: UserWarning: Early stopping is not available in dart mode\n",
      "  _log_warning('Early stopping is not available in dart mode')\n"
     ]
    },
    {
     "name": "stdout",
     "output_type": "stream",
     "text": [
      "Fold: Tuning: n_train=246009, eval_set=61502\n"
     ]
    },
    {
     "name": "stderr",
     "output_type": "stream",
     "text": [
      "C:\\Users\\Paulius\\AppData\\Local\\pypoetry\\Cache\\virtualenvs\\ppuodz-ml-4-1-dqELbViF-py3.12\\Lib\\site-packages\\lightgbm\\callback.py:325: UserWarning: Early stopping is not available in dart mode\n",
      "  _log_warning('Early stopping is not available in dart mode')\n"
     ]
    },
    {
     "name": "stdout",
     "output_type": "stream",
     "text": [
      "Fold: Tuning: n_train=246009, eval_set=61502\n"
     ]
    },
    {
     "name": "stderr",
     "output_type": "stream",
     "text": [
      "C:\\Users\\Paulius\\AppData\\Local\\pypoetry\\Cache\\virtualenvs\\ppuodz-ml-4-1-dqELbViF-py3.12\\Lib\\site-packages\\lightgbm\\callback.py:325: UserWarning: Early stopping is not available in dart mode\n",
      "  _log_warning('Early stopping is not available in dart mode')\n"
     ]
    },
    {
     "name": "stdout",
     "output_type": "stream",
     "text": [
      "Fold: Tuning: n_train=246009, eval_set=61502\n"
     ]
    },
    {
     "name": "stderr",
     "output_type": "stream",
     "text": [
      "C:\\Users\\Paulius\\AppData\\Local\\pypoetry\\Cache\\virtualenvs\\ppuodz-ml-4-1-dqELbViF-py3.12\\Lib\\site-packages\\lightgbm\\callback.py:325: UserWarning: Early stopping is not available in dart mode\n",
      "  _log_warning('Early stopping is not available in dart mode')\n"
     ]
    },
    {
     "name": "stdout",
     "output_type": "stream",
     "text": [
      "Fold: Tuning: n_train=246009, eval_set=61502\n",
      "Tune: val_score:0.7756, std_test_score:0.00146 train_set_score:0.8291\n",
      "folds val/train: [0.7778, 0.7741, 0.774, 0.7756, 0.7765] / [0.8294, 0.8283, 0.8287, 0.8297, 0.8295], mean fold time: 17.78\n"
     ]
    },
    {
     "name": "stderr",
     "output_type": "stream",
     "text": [
      "[I 2024-04-30 17:27:55,523] Trial 117 finished with value: 0.7756190139885522 and parameters: {'model__class_weight': 'balanced', 'model__objective': 'binary', 'model__boosting_type': 'dart', 'model__n_estimators': 1000, 'model__learning_rate': 0.16, 'model__max_depth': 11, 'model__num_leaves': 96, 'model__min_gain_to_split': 4.5, 'model__min_data_in_leaf': 2700, 'model__lambda_l1': 60, 'model__lambda_l2': 10, 'model__bagging_fraction': 0.2, 'model__feature_fraction': 0.4, 'model__max_bin': 225, 'model__drop_rate': 0.025}. Best is trial 113 with value: 0.7765413336056665.\n",
      "C:\\Users\\Paulius\\AppData\\Local\\pypoetry\\Cache\\virtualenvs\\ppuodz-ml-4-1-dqELbViF-py3.12\\Lib\\site-packages\\lightgbm\\callback.py:325: UserWarning: Early stopping is not available in dart mode\n",
      "  _log_warning('Early stopping is not available in dart mode')\n"
     ]
    },
    {
     "name": "stdout",
     "output_type": "stream",
     "text": [
      "Fold: Tuning: n_train=246008, eval_set=61503\n"
     ]
    },
    {
     "name": "stderr",
     "output_type": "stream",
     "text": [
      "C:\\Users\\Paulius\\AppData\\Local\\pypoetry\\Cache\\virtualenvs\\ppuodz-ml-4-1-dqELbViF-py3.12\\Lib\\site-packages\\lightgbm\\callback.py:325: UserWarning: Early stopping is not available in dart mode\n",
      "  _log_warning('Early stopping is not available in dart mode')\n"
     ]
    },
    {
     "name": "stdout",
     "output_type": "stream",
     "text": [
      "Fold: Tuning: n_train=246009, eval_set=61502\n"
     ]
    },
    {
     "name": "stderr",
     "output_type": "stream",
     "text": [
      "C:\\Users\\Paulius\\AppData\\Local\\pypoetry\\Cache\\virtualenvs\\ppuodz-ml-4-1-dqELbViF-py3.12\\Lib\\site-packages\\lightgbm\\callback.py:325: UserWarning: Early stopping is not available in dart mode\n",
      "  _log_warning('Early stopping is not available in dart mode')\n"
     ]
    },
    {
     "name": "stdout",
     "output_type": "stream",
     "text": [
      "Fold: Tuning: n_train=246009, eval_set=61502\n"
     ]
    },
    {
     "name": "stderr",
     "output_type": "stream",
     "text": [
      "C:\\Users\\Paulius\\AppData\\Local\\pypoetry\\Cache\\virtualenvs\\ppuodz-ml-4-1-dqELbViF-py3.12\\Lib\\site-packages\\lightgbm\\callback.py:325: UserWarning: Early stopping is not available in dart mode\n",
      "  _log_warning('Early stopping is not available in dart mode')\n"
     ]
    },
    {
     "name": "stdout",
     "output_type": "stream",
     "text": [
      "Fold: Tuning: n_train=246009, eval_set=61502\n"
     ]
    },
    {
     "name": "stderr",
     "output_type": "stream",
     "text": [
      "C:\\Users\\Paulius\\AppData\\Local\\pypoetry\\Cache\\virtualenvs\\ppuodz-ml-4-1-dqELbViF-py3.12\\Lib\\site-packages\\lightgbm\\callback.py:325: UserWarning: Early stopping is not available in dart mode\n",
      "  _log_warning('Early stopping is not available in dart mode')\n"
     ]
    },
    {
     "name": "stdout",
     "output_type": "stream",
     "text": [
      "Fold: Tuning: n_train=246009, eval_set=61502\n",
      "Tune: val_score:0.7718, std_test_score:0.00178 train_set_score:0.8200\n",
      "folds val/train: [0.7741, 0.769, 0.7708, 0.7729, 0.7723] / [0.82, 0.82, 0.8212, 0.8194, 0.8196], mean fold time: 5.72\n"
     ]
    },
    {
     "name": "stderr",
     "output_type": "stream",
     "text": [
      "[I 2024-04-30 17:28:24,986] Trial 118 finished with value: 0.771828010043889 and parameters: {'model__class_weight': 'balanced', 'model__objective': 'binary', 'model__boosting_type': 'dart', 'model__n_estimators': 950, 'model__learning_rate': 0.16, 'model__max_depth': 11, 'model__num_leaves': 128, 'model__min_gain_to_split': 4.5, 'model__min_data_in_leaf': 2500, 'model__lambda_l1': 65, 'model__lambda_l2': 5, 'model__bagging_fraction': 0.2, 'model__feature_fraction': 0.5, 'model__max_bin': 250, 'model__drop_rate': 0.0}. Best is trial 113 with value: 0.7765413336056665.\n",
      "C:\\Users\\Paulius\\AppData\\Local\\pypoetry\\Cache\\virtualenvs\\ppuodz-ml-4-1-dqELbViF-py3.12\\Lib\\site-packages\\lightgbm\\callback.py:325: UserWarning: Early stopping is not available in dart mode\n",
      "  _log_warning('Early stopping is not available in dart mode')\n"
     ]
    },
    {
     "name": "stdout",
     "output_type": "stream",
     "text": [
      "Fold: Tuning: n_train=246008, eval_set=61503\n"
     ]
    },
    {
     "name": "stderr",
     "output_type": "stream",
     "text": [
      "C:\\Users\\Paulius\\AppData\\Local\\pypoetry\\Cache\\virtualenvs\\ppuodz-ml-4-1-dqELbViF-py3.12\\Lib\\site-packages\\lightgbm\\callback.py:325: UserWarning: Early stopping is not available in dart mode\n",
      "  _log_warning('Early stopping is not available in dart mode')\n"
     ]
    },
    {
     "name": "stdout",
     "output_type": "stream",
     "text": [
      "Fold: Tuning: n_train=246009, eval_set=61502\n"
     ]
    },
    {
     "name": "stderr",
     "output_type": "stream",
     "text": [
      "C:\\Users\\Paulius\\AppData\\Local\\pypoetry\\Cache\\virtualenvs\\ppuodz-ml-4-1-dqELbViF-py3.12\\Lib\\site-packages\\lightgbm\\callback.py:325: UserWarning: Early stopping is not available in dart mode\n",
      "  _log_warning('Early stopping is not available in dart mode')\n"
     ]
    },
    {
     "name": "stdout",
     "output_type": "stream",
     "text": [
      "Fold: Tuning: n_train=246009, eval_set=61502\n"
     ]
    },
    {
     "name": "stderr",
     "output_type": "stream",
     "text": [
      "C:\\Users\\Paulius\\AppData\\Local\\pypoetry\\Cache\\virtualenvs\\ppuodz-ml-4-1-dqELbViF-py3.12\\Lib\\site-packages\\lightgbm\\callback.py:325: UserWarning: Early stopping is not available in dart mode\n",
      "  _log_warning('Early stopping is not available in dart mode')\n"
     ]
    },
    {
     "name": "stdout",
     "output_type": "stream",
     "text": [
      "Fold: Tuning: n_train=246009, eval_set=61502\n"
     ]
    },
    {
     "name": "stderr",
     "output_type": "stream",
     "text": [
      "C:\\Users\\Paulius\\AppData\\Local\\pypoetry\\Cache\\virtualenvs\\ppuodz-ml-4-1-dqELbViF-py3.12\\Lib\\site-packages\\lightgbm\\callback.py:325: UserWarning: Early stopping is not available in dart mode\n",
      "  _log_warning('Early stopping is not available in dart mode')\n"
     ]
    },
    {
     "name": "stdout",
     "output_type": "stream",
     "text": [
      "Fold: Tuning: n_train=246009, eval_set=61502\n",
      "Tune: val_score:0.7761, std_test_score:0.00144 train_set_score:0.8336\n",
      "folds val/train: [0.7776, 0.7739, 0.775, 0.7766, 0.7773] / [0.8335, 0.8328, 0.8341, 0.8345, 0.8334], mean fold time: 18.60\n"
     ]
    },
    {
     "name": "stderr",
     "output_type": "stream",
     "text": [
      "[I 2024-04-30 17:29:58,807] Trial 119 finished with value: 0.7760703157434982 and parameters: {'model__class_weight': 'balanced', 'model__objective': 'binary', 'model__boosting_type': 'dart', 'model__n_estimators': 1000, 'model__learning_rate': 0.15000000000000002, 'model__max_depth': 11, 'model__num_leaves': 104, 'model__min_gain_to_split': 4.0, 'model__min_data_in_leaf': 2400, 'model__lambda_l1': 60, 'model__lambda_l2': 25, 'model__bagging_fraction': 0.30000000000000004, 'model__feature_fraction': 0.4, 'model__max_bin': 225, 'model__drop_rate': 0.025}. Best is trial 113 with value: 0.7765413336056665.\n"
     ]
    },
    {
     "name": "stdout",
     "output_type": "stream",
     "text": [
      "\n",
      " -- -- --\n",
      " TUNING RESULT: \n",
      " LGBM_Dart_AUC_NEW: auc = 0.7765413336056665 params: {'model__class_weight': 'balanced', 'model__objective': 'binary', 'model__boosting_type': 'dart', 'model__n_estimators': 800, 'model__learning_rate': 0.19, 'model__max_depth': 10, 'model__num_leaves': 112, 'model__min_gain_to_split': 3.0, 'model__min_data_in_leaf': 2400, 'model__lambda_l1': 55, 'model__lambda_l2': 10, 'model__bagging_fraction': 0.2, 'model__feature_fraction': 0.6000000000000001, 'model__max_bin': 250, 'model__drop_rate': 0.025}\n",
      " -- --\n",
      "\n",
      "LGBM_Dart_AUC_NEW Fit, total time:11958.6\n",
      "\n"
     ]
    }
   ],
   "execution_count": 3
  },
  {
   "cell_type": "code",
   "source": [
    "for t, v in tuning_results.items():\n",
    "    display(t)\n",
    "    display(v.hyper_param_all_cv_results)"
   ],
   "metadata": {
    "collapsed": false,
    "ExecuteTime": {
     "end_time": "2024-04-30T14:35:38.313300Z",
     "start_time": "2024-04-30T14:35:38.303349Z"
    }
   },
   "id": "23fac5165a6b77dd",
   "outputs": [
    {
     "data": {
      "text/plain": [
       "'LGBM_Dart_AUC_NEW'"
      ]
     },
     "metadata": {},
     "output_type": "display_data"
    },
    {
     "data": {
      "text/plain": [
       "     Trial Number  Mean Test Score (AUC)  mean_test_score  mean_train_score  \\\n",
       "113           113               0.776541         0.776541          0.854625   \n",
       "59             59               0.776169         0.776169          0.863464   \n",
       "115           115               0.776133         0.776133          0.837253   \n",
       "103           103               0.776098         0.776098          0.850141   \n",
       "119           119               0.776070         0.776070          0.833643   \n",
       "..            ...                    ...              ...               ...   \n",
       "68             68               0.728068         0.728068          0.738853   \n",
       "2               2               0.726644         0.726644          0.735570   \n",
       "45             45               0.725722         0.725722          0.737205   \n",
       "9               9               0.725698         0.725698          0.735554   \n",
       "0               0               0.724759         0.724759          0.730835   \n",
       "\n",
       "     std_test_score  macro_f1  micro_f1  f1_target1  precision_target1  \\\n",
       "113        0.001461  0.568715  0.744595    0.293298           0.188829   \n",
       "59         0.001774  0.571076  0.748920    0.294886           0.190670   \n",
       "115        0.001353  0.563986  0.735886    0.290214           0.185310   \n",
       "103        0.001724  0.567537  0.742464    0.292491           0.187923   \n",
       "119        0.001436  0.562364  0.733788    0.288463           0.183916   \n",
       "..              ...       ...       ...         ...                ...   \n",
       "68         0.002483  0.522548  0.677790    0.250297           0.154093   \n",
       "2          0.002767  0.478969  0.919271    0.000000           0.000000   \n",
       "45         0.001131  0.520557  0.675839    0.247704           0.152405   \n",
       "9          0.002000  0.525812  0.914384    0.096562           0.325921   \n",
       "0          0.002090  0.478969  0.919271    0.000000           0.000000   \n",
       "\n",
       "     recall_target1  log_loss    pr_auc  mean_fold_time  \\\n",
       "113        0.656516  0.521725  0.266816       14.861349   \n",
       "59         0.650352  0.515669  0.265697       17.182891   \n",
       "115        0.668842  0.533418  0.265379       18.331637   \n",
       "103        0.659416  0.524208  0.266197       35.797750   \n",
       "119        0.668439  0.535529  0.265608       18.596235   \n",
       "..              ...       ...       ...             ...   \n",
       "68         0.666264  0.614381  0.201428        1.399441   \n",
       "2          0.000000  0.260398  0.204315        1.246094   \n",
       "45         0.661067  0.613808  0.194422        1.432226   \n",
       "9          0.056677  0.260996  0.197951        2.336899   \n",
       "0          0.000000  0.258624  0.199263        1.240461   \n",
       "\n",
       "                                            Parameters  \n",
       "113  {'model__boosting_type': 'dart', 'model__objec...  \n",
       "59   {'model__boosting_type': 'dart', 'model__objec...  \n",
       "115  {'model__boosting_type': 'dart', 'model__objec...  \n",
       "103  {'model__boosting_type': 'dart', 'model__objec...  \n",
       "119  {'model__boosting_type': 'dart', 'model__objec...  \n",
       "..                                                 ...  \n",
       "68   {'model__boosting_type': 'rf', 'model__objecti...  \n",
       "2    {'model__boosting_type': 'rf', 'model__objecti...  \n",
       "45   {'model__boosting_type': 'rf', 'model__objecti...  \n",
       "9    {'model__boosting_type': 'rf', 'model__objecti...  \n",
       "0    {'model__boosting_type': 'rf', 'model__objecti...  \n",
       "\n",
       "[120 rows x 14 columns]"
      ],
      "text/html": [
       "<div>\n",
       "<style scoped>\n",
       "    .dataframe tbody tr th:only-of-type {\n",
       "        vertical-align: middle;\n",
       "    }\n",
       "\n",
       "    .dataframe tbody tr th {\n",
       "        vertical-align: top;\n",
       "    }\n",
       "\n",
       "    .dataframe thead th {\n",
       "        text-align: right;\n",
       "    }\n",
       "</style>\n",
       "<table border=\"1\" class=\"dataframe\">\n",
       "  <thead>\n",
       "    <tr style=\"text-align: right;\">\n",
       "      <th></th>\n",
       "      <th>Trial Number</th>\n",
       "      <th>Mean Test Score (AUC)</th>\n",
       "      <th>mean_test_score</th>\n",
       "      <th>mean_train_score</th>\n",
       "      <th>std_test_score</th>\n",
       "      <th>macro_f1</th>\n",
       "      <th>micro_f1</th>\n",
       "      <th>f1_target1</th>\n",
       "      <th>precision_target1</th>\n",
       "      <th>recall_target1</th>\n",
       "      <th>log_loss</th>\n",
       "      <th>pr_auc</th>\n",
       "      <th>mean_fold_time</th>\n",
       "      <th>Parameters</th>\n",
       "    </tr>\n",
       "  </thead>\n",
       "  <tbody>\n",
       "    <tr>\n",
       "      <th>113</th>\n",
       "      <td>113</td>\n",
       "      <td>0.776541</td>\n",
       "      <td>0.776541</td>\n",
       "      <td>0.854625</td>\n",
       "      <td>0.001461</td>\n",
       "      <td>0.568715</td>\n",
       "      <td>0.744595</td>\n",
       "      <td>0.293298</td>\n",
       "      <td>0.188829</td>\n",
       "      <td>0.656516</td>\n",
       "      <td>0.521725</td>\n",
       "      <td>0.266816</td>\n",
       "      <td>14.861349</td>\n",
       "      <td>{'model__boosting_type': 'dart', 'model__objec...</td>\n",
       "    </tr>\n",
       "    <tr>\n",
       "      <th>59</th>\n",
       "      <td>59</td>\n",
       "      <td>0.776169</td>\n",
       "      <td>0.776169</td>\n",
       "      <td>0.863464</td>\n",
       "      <td>0.001774</td>\n",
       "      <td>0.571076</td>\n",
       "      <td>0.748920</td>\n",
       "      <td>0.294886</td>\n",
       "      <td>0.190670</td>\n",
       "      <td>0.650352</td>\n",
       "      <td>0.515669</td>\n",
       "      <td>0.265697</td>\n",
       "      <td>17.182891</td>\n",
       "      <td>{'model__boosting_type': 'dart', 'model__objec...</td>\n",
       "    </tr>\n",
       "    <tr>\n",
       "      <th>115</th>\n",
       "      <td>115</td>\n",
       "      <td>0.776133</td>\n",
       "      <td>0.776133</td>\n",
       "      <td>0.837253</td>\n",
       "      <td>0.001353</td>\n",
       "      <td>0.563986</td>\n",
       "      <td>0.735886</td>\n",
       "      <td>0.290214</td>\n",
       "      <td>0.185310</td>\n",
       "      <td>0.668842</td>\n",
       "      <td>0.533418</td>\n",
       "      <td>0.265379</td>\n",
       "      <td>18.331637</td>\n",
       "      <td>{'model__boosting_type': 'dart', 'model__objec...</td>\n",
       "    </tr>\n",
       "    <tr>\n",
       "      <th>103</th>\n",
       "      <td>103</td>\n",
       "      <td>0.776098</td>\n",
       "      <td>0.776098</td>\n",
       "      <td>0.850141</td>\n",
       "      <td>0.001724</td>\n",
       "      <td>0.567537</td>\n",
       "      <td>0.742464</td>\n",
       "      <td>0.292491</td>\n",
       "      <td>0.187923</td>\n",
       "      <td>0.659416</td>\n",
       "      <td>0.524208</td>\n",
       "      <td>0.266197</td>\n",
       "      <td>35.797750</td>\n",
       "      <td>{'model__boosting_type': 'dart', 'model__objec...</td>\n",
       "    </tr>\n",
       "    <tr>\n",
       "      <th>119</th>\n",
       "      <td>119</td>\n",
       "      <td>0.776070</td>\n",
       "      <td>0.776070</td>\n",
       "      <td>0.833643</td>\n",
       "      <td>0.001436</td>\n",
       "      <td>0.562364</td>\n",
       "      <td>0.733788</td>\n",
       "      <td>0.288463</td>\n",
       "      <td>0.183916</td>\n",
       "      <td>0.668439</td>\n",
       "      <td>0.535529</td>\n",
       "      <td>0.265608</td>\n",
       "      <td>18.596235</td>\n",
       "      <td>{'model__boosting_type': 'dart', 'model__objec...</td>\n",
       "    </tr>\n",
       "    <tr>\n",
       "      <th>...</th>\n",
       "      <td>...</td>\n",
       "      <td>...</td>\n",
       "      <td>...</td>\n",
       "      <td>...</td>\n",
       "      <td>...</td>\n",
       "      <td>...</td>\n",
       "      <td>...</td>\n",
       "      <td>...</td>\n",
       "      <td>...</td>\n",
       "      <td>...</td>\n",
       "      <td>...</td>\n",
       "      <td>...</td>\n",
       "      <td>...</td>\n",
       "      <td>...</td>\n",
       "    </tr>\n",
       "    <tr>\n",
       "      <th>68</th>\n",
       "      <td>68</td>\n",
       "      <td>0.728068</td>\n",
       "      <td>0.728068</td>\n",
       "      <td>0.738853</td>\n",
       "      <td>0.002483</td>\n",
       "      <td>0.522548</td>\n",
       "      <td>0.677790</td>\n",
       "      <td>0.250297</td>\n",
       "      <td>0.154093</td>\n",
       "      <td>0.666264</td>\n",
       "      <td>0.614381</td>\n",
       "      <td>0.201428</td>\n",
       "      <td>1.399441</td>\n",
       "      <td>{'model__boosting_type': 'rf', 'model__objecti...</td>\n",
       "    </tr>\n",
       "    <tr>\n",
       "      <th>2</th>\n",
       "      <td>2</td>\n",
       "      <td>0.726644</td>\n",
       "      <td>0.726644</td>\n",
       "      <td>0.735570</td>\n",
       "      <td>0.002767</td>\n",
       "      <td>0.478969</td>\n",
       "      <td>0.919271</td>\n",
       "      <td>0.000000</td>\n",
       "      <td>0.000000</td>\n",
       "      <td>0.000000</td>\n",
       "      <td>0.260398</td>\n",
       "      <td>0.204315</td>\n",
       "      <td>1.246094</td>\n",
       "      <td>{'model__boosting_type': 'rf', 'model__objecti...</td>\n",
       "    </tr>\n",
       "    <tr>\n",
       "      <th>45</th>\n",
       "      <td>45</td>\n",
       "      <td>0.725722</td>\n",
       "      <td>0.725722</td>\n",
       "      <td>0.737205</td>\n",
       "      <td>0.001131</td>\n",
       "      <td>0.520557</td>\n",
       "      <td>0.675839</td>\n",
       "      <td>0.247704</td>\n",
       "      <td>0.152405</td>\n",
       "      <td>0.661067</td>\n",
       "      <td>0.613808</td>\n",
       "      <td>0.194422</td>\n",
       "      <td>1.432226</td>\n",
       "      <td>{'model__boosting_type': 'rf', 'model__objecti...</td>\n",
       "    </tr>\n",
       "    <tr>\n",
       "      <th>9</th>\n",
       "      <td>9</td>\n",
       "      <td>0.725698</td>\n",
       "      <td>0.725698</td>\n",
       "      <td>0.735554</td>\n",
       "      <td>0.002000</td>\n",
       "      <td>0.525812</td>\n",
       "      <td>0.914384</td>\n",
       "      <td>0.096562</td>\n",
       "      <td>0.325921</td>\n",
       "      <td>0.056677</td>\n",
       "      <td>0.260996</td>\n",
       "      <td>0.197951</td>\n",
       "      <td>2.336899</td>\n",
       "      <td>{'model__boosting_type': 'rf', 'model__objecti...</td>\n",
       "    </tr>\n",
       "    <tr>\n",
       "      <th>0</th>\n",
       "      <td>0</td>\n",
       "      <td>0.724759</td>\n",
       "      <td>0.724759</td>\n",
       "      <td>0.730835</td>\n",
       "      <td>0.002090</td>\n",
       "      <td>0.478969</td>\n",
       "      <td>0.919271</td>\n",
       "      <td>0.000000</td>\n",
       "      <td>0.000000</td>\n",
       "      <td>0.000000</td>\n",
       "      <td>0.258624</td>\n",
       "      <td>0.199263</td>\n",
       "      <td>1.240461</td>\n",
       "      <td>{'model__boosting_type': 'rf', 'model__objecti...</td>\n",
       "    </tr>\n",
       "  </tbody>\n",
       "</table>\n",
       "<p>120 rows × 14 columns</p>\n",
       "</div>"
      ]
     },
     "metadata": {},
     "output_type": "display_data"
    }
   ],
   "execution_count": 13
  },
  {
   "cell_type": "code",
   "source": "tuning_results.keys()",
   "metadata": {
    "collapsed": false,
    "ExecuteTime": {
     "end_time": "2024-04-30T14:29:58.843942Z",
     "start_time": "2024-04-30T14:29:58.841330Z"
    }
   },
   "id": "27ceb3ef64dae1f2",
   "outputs": [
    {
     "data": {
      "text/plain": [
       "dict_keys(['LGBM_Dart_AUC_NEW'])"
      ]
     },
     "execution_count": 5,
     "metadata": {},
     "output_type": "execute_result"
    }
   ],
   "execution_count": 5
  },
  {
   "cell_type": "code",
   "source": [
    "# Results:\n",
    "\n",
    "# Only main dataset:\n",
    "# - top res      : 0.753\n",
    "# - full + gbdt  : 0.765\n",
    "# - full + dart  : 0.766"
   ],
   "metadata": {
    "collapsed": false,
    "ExecuteTime": {
     "end_time": "2024-04-30T14:29:58.846454Z",
     "start_time": "2024-04-30T14:29:58.843942Z"
    }
   },
   "id": "455694eed5002c55",
   "outputs": [],
   "execution_count": 6
  },
  {
   "cell_type": "code",
   "source": [
    "from Draft.feature_builder_v2 import DatasetType\n",
    "\n",
    "importlib.reload(feature_builder_v2)\n",
    "features_matrix_full = feature_builder_v2.load_datasets_and_prepare_features(\n",
    "    drop_meta_data=True, ds_type=DatasetType.FULL\n",
    ")"
   ],
   "metadata": {
    "collapsed": false,
    "ExecuteTime": {
     "end_time": "2024-04-30T14:30:18.747174Z",
     "start_time": "2024-04-30T14:29:58.846454Z"
    }
   },
   "id": "fed6d85344fbd3e1",
   "outputs": [
    {
     "name": "stderr",
     "output_type": "stream",
     "text": [
      "C:\\Users\\Paulius\\AppData\\Local\\pypoetry\\Cache\\virtualenvs\\ppuodz-ml-4-1-dqELbViF-py3.12\\Lib\\site-packages\\woodwork\\type_sys\\utils.py:40: UserWarning: Could not infer format, so each element will be parsed individually, falling back to `dateutil`. To ensure parsing is consistent and as-expected, please specify a format.\n",
      "  pd.to_datetime(\n",
      "C:\\Users\\Paulius\\AppData\\Local\\pypoetry\\Cache\\virtualenvs\\ppuodz-ml-4-1-dqELbViF-py3.12\\Lib\\site-packages\\woodwork\\type_sys\\utils.py:40: UserWarning: Could not infer format, so each element will be parsed individually, falling back to `dateutil`. To ensure parsing is consistent and as-expected, please specify a format.\n",
      "  pd.to_datetime(\n",
      "C:\\Users\\Paulius\\AppData\\Local\\pypoetry\\Cache\\virtualenvs\\ppuodz-ml-4-1-dqELbViF-py3.12\\Lib\\site-packages\\woodwork\\type_sys\\utils.py:40: UserWarning: Could not infer format, so each element will be parsed individually, falling back to `dateutil`. To ensure parsing is consistent and as-expected, please specify a format.\n",
      "  pd.to_datetime(\n",
      "C:\\Users\\Paulius\\AppData\\Local\\pypoetry\\Cache\\virtualenvs\\ppuodz-ml-4-1-dqELbViF-py3.12\\Lib\\site-packages\\woodwork\\type_sys\\utils.py:40: UserWarning: Could not infer format, so each element will be parsed individually, falling back to `dateutil`. To ensure parsing is consistent and as-expected, please specify a format.\n",
      "  pd.to_datetime(\n",
      "C:\\Users\\Paulius\\AppData\\Local\\pypoetry\\Cache\\virtualenvs\\ppuodz-ml-4-1-dqELbViF-py3.12\\Lib\\site-packages\\woodwork\\type_sys\\utils.py:40: UserWarning: Could not infer format, so each element will be parsed individually, falling back to `dateutil`. To ensure parsing is consistent and as-expected, please specify a format.\n",
      "  pd.to_datetime(\n",
      "C:\\Users\\Paulius\\AppData\\Local\\pypoetry\\Cache\\virtualenvs\\ppuodz-ml-4-1-dqELbViF-py3.12\\Lib\\site-packages\\woodwork\\type_sys\\utils.py:40: UserWarning: Could not infer format, so each element will be parsed individually, falling back to `dateutil`. To ensure parsing is consistent and as-expected, please specify a format.\n",
      "  pd.to_datetime(\n",
      "C:\\Users\\Paulius\\AppData\\Local\\pypoetry\\Cache\\virtualenvs\\ppuodz-ml-4-1-dqELbViF-py3.12\\Lib\\site-packages\\woodwork\\type_sys\\utils.py:40: UserWarning: Could not infer format, so each element will be parsed individually, falling back to `dateutil`. To ensure parsing is consistent and as-expected, please specify a format.\n",
      "  pd.to_datetime(\n",
      "C:\\Users\\Paulius\\AppData\\Local\\pypoetry\\Cache\\virtualenvs\\ppuodz-ml-4-1-dqELbViF-py3.12\\Lib\\site-packages\\woodwork\\type_sys\\utils.py:40: UserWarning: Could not infer format, so each element will be parsed individually, falling back to `dateutil`. To ensure parsing is consistent and as-expected, please specify a format.\n",
      "  pd.to_datetime(\n",
      "C:\\Users\\Paulius\\AppData\\Local\\pypoetry\\Cache\\virtualenvs\\ppuodz-ml-4-1-dqELbViF-py3.12\\Lib\\site-packages\\woodwork\\type_sys\\utils.py:40: UserWarning: Could not infer format, so each element will be parsed individually, falling back to `dateutil`. To ensure parsing is consistent and as-expected, please specify a format.\n",
      "  pd.to_datetime(\n",
      "C:\\Users\\Paulius\\AppData\\Local\\pypoetry\\Cache\\virtualenvs\\ppuodz-ml-4-1-dqELbViF-py3.12\\Lib\\site-packages\\woodwork\\type_sys\\utils.py:40: UserWarning: Could not infer format, so each element will be parsed individually, falling back to `dateutil`. To ensure parsing is consistent and as-expected, please specify a format.\n",
      "  pd.to_datetime(\n",
      "C:\\Users\\Paulius\\AppData\\Local\\pypoetry\\Cache\\virtualenvs\\ppuodz-ml-4-1-dqELbViF-py3.12\\Lib\\site-packages\\woodwork\\type_sys\\utils.py:40: UserWarning: Could not infer format, so each element will be parsed individually, falling back to `dateutil`. To ensure parsing is consistent and as-expected, please specify a format.\n",
      "  pd.to_datetime(\n",
      "C:\\Users\\Paulius\\AppData\\Local\\pypoetry\\Cache\\virtualenvs\\ppuodz-ml-4-1-dqELbViF-py3.12\\Lib\\site-packages\\woodwork\\type_sys\\utils.py:40: UserWarning: Could not infer format, so each element will be parsed individually, falling back to `dateutil`. To ensure parsing is consistent and as-expected, please specify a format.\n",
      "  pd.to_datetime(\n",
      "C:\\Users\\Paulius\\AppData\\Local\\pypoetry\\Cache\\virtualenvs\\ppuodz-ml-4-1-dqELbViF-py3.12\\Lib\\site-packages\\woodwork\\type_sys\\utils.py:40: UserWarning: Could not infer format, so each element will be parsed individually, falling back to `dateutil`. To ensure parsing is consistent and as-expected, please specify a format.\n",
      "  pd.to_datetime(\n",
      "C:\\Users\\Paulius\\AppData\\Local\\pypoetry\\Cache\\virtualenvs\\ppuodz-ml-4-1-dqELbViF-py3.12\\Lib\\site-packages\\woodwork\\type_sys\\utils.py:40: UserWarning: Could not infer format, so each element will be parsed individually, falling back to `dateutil`. To ensure parsing is consistent and as-expected, please specify a format.\n",
      "  pd.to_datetime(\n",
      "C:\\Users\\Paulius\\AppData\\Local\\pypoetry\\Cache\\virtualenvs\\ppuodz-ml-4-1-dqELbViF-py3.12\\Lib\\site-packages\\woodwork\\type_sys\\utils.py:40: UserWarning: Could not infer format, so each element will be parsed individually, falling back to `dateutil`. To ensure parsing is consistent and as-expected, please specify a format.\n",
      "  pd.to_datetime(\n",
      "C:\\Users\\Paulius\\AppData\\Local\\pypoetry\\Cache\\virtualenvs\\ppuodz-ml-4-1-dqELbViF-py3.12\\Lib\\site-packages\\woodwork\\type_sys\\utils.py:40: UserWarning: Could not infer format, so each element will be parsed individually, falling back to `dateutil`. To ensure parsing is consistent and as-expected, please specify a format.\n",
      "  pd.to_datetime(\n",
      "C:\\Users\\Paulius\\AppData\\Local\\pypoetry\\Cache\\virtualenvs\\ppuodz-ml-4-1-dqELbViF-py3.12\\Lib\\site-packages\\woodwork\\type_sys\\utils.py:40: UserWarning: Could not infer format, so each element will be parsed individually, falling back to `dateutil`. To ensure parsing is consistent and as-expected, please specify a format.\n",
      "  pd.to_datetime(\n",
      "C:\\Users\\Paulius\\AppData\\Local\\pypoetry\\Cache\\virtualenvs\\ppuodz-ml-4-1-dqELbViF-py3.12\\Lib\\site-packages\\woodwork\\type_sys\\utils.py:40: UserWarning: Could not infer format, so each element will be parsed individually, falling back to `dateutil`. To ensure parsing is consistent and as-expected, please specify a format.\n",
      "  pd.to_datetime(\n",
      "C:\\Users\\Paulius\\AppData\\Local\\pypoetry\\Cache\\virtualenvs\\ppuodz-ml-4-1-dqELbViF-py3.12\\Lib\\site-packages\\woodwork\\type_sys\\utils.py:40: UserWarning: Could not infer format, so each element will be parsed individually, falling back to `dateutil`. To ensure parsing is consistent and as-expected, please specify a format.\n",
      "  pd.to_datetime(\n",
      "C:\\Users\\Paulius\\AppData\\Local\\pypoetry\\Cache\\virtualenvs\\ppuodz-ml-4-1-dqELbViF-py3.12\\Lib\\site-packages\\woodwork\\type_sys\\utils.py:40: UserWarning: Could not infer format, so each element will be parsed individually, falling back to `dateutil`. To ensure parsing is consistent and as-expected, please specify a format.\n",
      "  pd.to_datetime(\n",
      "C:\\Users\\Paulius\\AppData\\Local\\pypoetry\\Cache\\virtualenvs\\ppuodz-ml-4-1-dqELbViF-py3.12\\Lib\\site-packages\\woodwork\\type_sys\\utils.py:40: UserWarning: Could not infer format, so each element will be parsed individually, falling back to `dateutil`. To ensure parsing is consistent and as-expected, please specify a format.\n",
      "  pd.to_datetime(\n",
      "C:\\Users\\Paulius\\AppData\\Local\\pypoetry\\Cache\\virtualenvs\\ppuodz-ml-4-1-dqELbViF-py3.12\\Lib\\site-packages\\woodwork\\type_sys\\utils.py:40: UserWarning: Could not infer format, so each element will be parsed individually, falling back to `dateutil`. To ensure parsing is consistent and as-expected, please specify a format.\n",
      "  pd.to_datetime(\n",
      "C:\\Users\\Paulius\\AppData\\Local\\pypoetry\\Cache\\virtualenvs\\ppuodz-ml-4-1-dqELbViF-py3.12\\Lib\\site-packages\\woodwork\\type_sys\\utils.py:40: UserWarning: Could not infer format, so each element will be parsed individually, falling back to `dateutil`. To ensure parsing is consistent and as-expected, please specify a format.\n",
      "  pd.to_datetime(\n",
      "C:\\Users\\Paulius\\AppData\\Local\\pypoetry\\Cache\\virtualenvs\\ppuodz-ml-4-1-dqELbViF-py3.12\\Lib\\site-packages\\woodwork\\type_sys\\utils.py:40: UserWarning: Could not infer format, so each element will be parsed individually, falling back to `dateutil`. To ensure parsing is consistent and as-expected, please specify a format.\n",
      "  pd.to_datetime(\n",
      "C:\\Users\\Paulius\\AppData\\Local\\pypoetry\\Cache\\virtualenvs\\ppuodz-ml-4-1-dqELbViF-py3.12\\Lib\\site-packages\\woodwork\\type_sys\\utils.py:40: UserWarning: Could not infer format, so each element will be parsed individually, falling back to `dateutil`. To ensure parsing is consistent and as-expected, please specify a format.\n",
      "  pd.to_datetime(\n",
      "C:\\Users\\Paulius\\AppData\\Local\\pypoetry\\Cache\\virtualenvs\\ppuodz-ml-4-1-dqELbViF-py3.12\\Lib\\site-packages\\woodwork\\type_sys\\utils.py:40: UserWarning: Could not infer format, so each element will be parsed individually, falling back to `dateutil`. To ensure parsing is consistent and as-expected, please specify a format.\n",
      "  pd.to_datetime(\n",
      "C:\\Users\\Paulius\\AppData\\Local\\pypoetry\\Cache\\virtualenvs\\ppuodz-ml-4-1-dqELbViF-py3.12\\Lib\\site-packages\\woodwork\\type_sys\\utils.py:40: UserWarning: Could not infer format, so each element will be parsed individually, falling back to `dateutil`. To ensure parsing is consistent and as-expected, please specify a format.\n",
      "  pd.to_datetime(\n",
      "C:\\Users\\Paulius\\AppData\\Local\\pypoetry\\Cache\\virtualenvs\\ppuodz-ml-4-1-dqELbViF-py3.12\\Lib\\site-packages\\woodwork\\type_sys\\utils.py:40: UserWarning: Could not infer format, so each element will be parsed individually, falling back to `dateutil`. To ensure parsing is consistent and as-expected, please specify a format.\n",
      "  pd.to_datetime(\n",
      "C:\\Users\\Paulius\\AppData\\Local\\pypoetry\\Cache\\virtualenvs\\ppuodz-ml-4-1-dqELbViF-py3.12\\Lib\\site-packages\\woodwork\\type_sys\\utils.py:40: UserWarning: Could not infer format, so each element will be parsed individually, falling back to `dateutil`. To ensure parsing is consistent and as-expected, please specify a format.\n",
      "  pd.to_datetime(\n",
      "C:\\Users\\Paulius\\AppData\\Local\\pypoetry\\Cache\\virtualenvs\\ppuodz-ml-4-1-dqELbViF-py3.12\\Lib\\site-packages\\woodwork\\type_sys\\utils.py:40: UserWarning: Could not infer format, so each element will be parsed individually, falling back to `dateutil`. To ensure parsing is consistent and as-expected, please specify a format.\n",
      "  pd.to_datetime(\n",
      "C:\\Users\\Paulius\\AppData\\Local\\pypoetry\\Cache\\virtualenvs\\ppuodz-ml-4-1-dqELbViF-py3.12\\Lib\\site-packages\\woodwork\\type_sys\\utils.py:40: UserWarning: Could not infer format, so each element will be parsed individually, falling back to `dateutil`. To ensure parsing is consistent and as-expected, please specify a format.\n",
      "  pd.to_datetime(\n",
      "C:\\Users\\Paulius\\AppData\\Local\\pypoetry\\Cache\\virtualenvs\\ppuodz-ml-4-1-dqELbViF-py3.12\\Lib\\site-packages\\woodwork\\type_sys\\utils.py:40: UserWarning: Could not infer format, so each element will be parsed individually, falling back to `dateutil`. To ensure parsing is consistent and as-expected, please specify a format.\n",
      "  pd.to_datetime(\n",
      "C:\\Users\\Paulius\\AppData\\Local\\pypoetry\\Cache\\virtualenvs\\ppuodz-ml-4-1-dqELbViF-py3.12\\Lib\\site-packages\\featuretools\\entityset\\entityset.py:1914: UserWarning: index SK_BUREAU_ID not found in dataframe, creating new integer column\n",
      "  warnings.warn(\n",
      "C:\\Users\\Paulius\\AppData\\Local\\pypoetry\\Cache\\virtualenvs\\ppuodz-ml-4-1-dqELbViF-py3.12\\Lib\\site-packages\\woodwork\\type_sys\\utils.py:40: UserWarning: Could not infer format, so each element will be parsed individually, falling back to `dateutil`. To ensure parsing is consistent and as-expected, please specify a format.\n",
      "  pd.to_datetime(\n",
      "C:\\Users\\Paulius\\AppData\\Local\\pypoetry\\Cache\\virtualenvs\\ppuodz-ml-4-1-dqELbViF-py3.12\\Lib\\site-packages\\woodwork\\type_sys\\utils.py:40: UserWarning: Could not infer format, so each element will be parsed individually, falling back to `dateutil`. To ensure parsing is consistent and as-expected, please specify a format.\n",
      "  pd.to_datetime(\n",
      "C:\\Users\\Paulius\\AppData\\Local\\pypoetry\\Cache\\virtualenvs\\ppuodz-ml-4-1-dqELbViF-py3.12\\Lib\\site-packages\\woodwork\\type_sys\\utils.py:40: UserWarning: Could not infer format, so each element will be parsed individually, falling back to `dateutil`. To ensure parsing is consistent and as-expected, please specify a format.\n",
      "  pd.to_datetime(\n",
      "C:\\Users\\Paulius\\AppData\\Local\\pypoetry\\Cache\\virtualenvs\\ppuodz-ml-4-1-dqELbViF-py3.12\\Lib\\site-packages\\woodwork\\type_sys\\utils.py:40: UserWarning: Could not infer format, so each element will be parsed individually, falling back to `dateutil`. To ensure parsing is consistent and as-expected, please specify a format.\n",
      "  pd.to_datetime(\n",
      "C:\\Users\\Paulius\\AppData\\Local\\pypoetry\\Cache\\virtualenvs\\ppuodz-ml-4-1-dqELbViF-py3.12\\Lib\\site-packages\\woodwork\\type_sys\\utils.py:40: UserWarning: Could not infer format, so each element will be parsed individually, falling back to `dateutil`. To ensure parsing is consistent and as-expected, please specify a format.\n",
      "  pd.to_datetime(\n",
      "C:\\Users\\Paulius\\AppData\\Local\\pypoetry\\Cache\\virtualenvs\\ppuodz-ml-4-1-dqELbViF-py3.12\\Lib\\site-packages\\woodwork\\type_sys\\utils.py:40: UserWarning: Could not infer format, so each element will be parsed individually, falling back to `dateutil`. To ensure parsing is consistent and as-expected, please specify a format.\n",
      "  pd.to_datetime(\n",
      "C:\\Users\\Paulius\\AppData\\Local\\pypoetry\\Cache\\virtualenvs\\ppuodz-ml-4-1-dqELbViF-py3.12\\Lib\\site-packages\\featuretools\\computational_backends\\feature_set_calculator.py:828: FutureWarning: The provided callable <function min at 0x000001D77E574400> is currently using SeriesGroupBy.min. In a future version of pandas, the provided callable will be used directly. To keep current behavior pass the string \"min\" instead.\n",
      "  ).agg(to_agg)\n",
      "C:\\Users\\Paulius\\AppData\\Local\\pypoetry\\Cache\\virtualenvs\\ppuodz-ml-4-1-dqELbViF-py3.12\\Lib\\site-packages\\featuretools\\computational_backends\\feature_set_calculator.py:828: FutureWarning: The provided callable <function max at 0x000001D77E5742C0> is currently using SeriesGroupBy.max. In a future version of pandas, the provided callable will be used directly. To keep current behavior pass the string \"max\" instead.\n",
      "  ).agg(to_agg)\n",
      "C:\\Users\\Paulius\\AppData\\Local\\pypoetry\\Cache\\virtualenvs\\ppuodz-ml-4-1-dqELbViF-py3.12\\Lib\\site-packages\\featuretools\\computational_backends\\feature_set_calculator.py:828: FutureWarning: The provided callable <function mean at 0x000001D77E574CC0> is currently using SeriesGroupBy.mean. In a future version of pandas, the provided callable will be used directly. To keep current behavior pass the string \"mean\" instead.\n",
      "  ).agg(to_agg)\n"
     ]
    },
    {
     "name": "stdout",
     "output_type": "stream",
     "text": [
      "Appending previous history\n",
      "Full DS size: 307511\n"
     ]
    }
   ],
   "execution_count": 7
  },
  {
   "cell_type": "code",
   "source": [
    "features_matrix_full"
   ],
   "metadata": {
    "collapsed": false,
    "ExecuteTime": {
     "end_time": "2024-04-30T14:30:18.786751Z",
     "start_time": "2024-04-30T14:30:18.747174Z"
    }
   },
   "id": "554658483974d14c",
   "outputs": [
    {
     "data": {
      "text/plain": [
       "        TARGET NameContractType CodeGender  FlagOwnCar  FlagOwnRealty  \\\n",
       "0            1       Cash loans          M       False           True   \n",
       "1            0       Cash loans          F       False          False   \n",
       "2            0  Revolving loans          M        True           True   \n",
       "3            0       Cash loans          F       False           True   \n",
       "4            0       Cash loans          M       False           True   \n",
       "...        ...              ...        ...         ...            ...   \n",
       "307506       0       Cash loans          M       False          False   \n",
       "307507       0       Cash loans          F       False           True   \n",
       "307508       0       Cash loans          F       False           True   \n",
       "307509       1       Cash loans          F       False           True   \n",
       "307510       0       Cash loans          F       False          False   \n",
       "\n",
       "        CntChildren  AmtIncomeTotal  AmtCredit  AmtAnnuity  AmtGoodsPrice  \\\n",
       "0                 0        202500.0   406597.5     24700.5       351000.0   \n",
       "1                 0        270000.0  1293502.5     35698.5      1129500.0   \n",
       "2                 0         67500.0   135000.0      6750.0       135000.0   \n",
       "3                 0        135000.0   312682.5     29686.5       297000.0   \n",
       "4                 0        121500.0   513000.0     21865.5       513000.0   \n",
       "...             ...             ...        ...         ...            ...   \n",
       "307506            0        157500.0   254700.0     27558.0       225000.0   \n",
       "307507            0         72000.0   269550.0     12001.5       225000.0   \n",
       "307508            0        153000.0   677664.0     29979.0       585000.0   \n",
       "307509            0        171000.0   370107.0     20205.0       319500.0   \n",
       "307510            0        157500.0   675000.0     49117.5       675000.0   \n",
       "\n",
       "        ... PrevCodeRejectReasonHcCount PrevCodeRejectReasonLimitCount  \\\n",
       "0       ...                         0.0                            0.0   \n",
       "1       ...                         0.0                            0.0   \n",
       "2       ...                         0.0                            0.0   \n",
       "3       ...                         0.0                            1.0   \n",
       "4       ...                         0.0                            0.0   \n",
       "...     ...                         ...                            ...   \n",
       "307506  ...                         0.0                            0.0   \n",
       "307507  ...                         0.0                            0.0   \n",
       "307508  ...                         0.0                            0.0   \n",
       "307509  ...                         0.0                            0.0   \n",
       "307510  ...                         2.0                            0.0   \n",
       "\n",
       "       PrevCodeRejectReasonScoCount PrevCodeRejectReasonScofrCount  \\\n",
       "0                               0.0                            0.0   \n",
       "1                               0.0                            0.0   \n",
       "2                               0.0                            0.0   \n",
       "3                               0.0                            0.0   \n",
       "4                               0.0                            0.0   \n",
       "...                             ...                            ...   \n",
       "307506                          0.0                            0.0   \n",
       "307507                          0.0                            0.0   \n",
       "307508                          0.0                            0.0   \n",
       "307509                          0.0                            0.0   \n",
       "307510                          0.0                            0.0   \n",
       "\n",
       "       PrevCodeRejectReasonSystemCount  PrevCodeRejectReasonVerifCount  \\\n",
       "0                                  0.0                             0.0   \n",
       "1                                  0.0                             0.0   \n",
       "2                                  0.0                             0.0   \n",
       "3                                  0.0                             0.0   \n",
       "4                                  0.0                             0.0   \n",
       "...                                ...                             ...   \n",
       "307506                             0.0                             0.0   \n",
       "307507                             0.0                             0.0   \n",
       "307508                             0.0                             0.0   \n",
       "307509                             0.0                             0.0   \n",
       "307510                             0.0                             0.0   \n",
       "\n",
       "        PrevCodeRejectReasonXapCount  PrevCodeRejectReasonXnaCount  \\\n",
       "0                                1.0                           0.0   \n",
       "1                                3.0                           0.0   \n",
       "2                                1.0                           0.0   \n",
       "3                                8.0                           0.0   \n",
       "4                                6.0                           0.0   \n",
       "...                              ...                           ...   \n",
       "307506                           1.0                           0.0   \n",
       "307507                           1.0                           0.0   \n",
       "307508                           2.0                           0.0   \n",
       "307509                           2.0                           0.0   \n",
       "307510                           6.0                           0.0   \n",
       "\n",
       "        PrevLastLoanNflagInsuredOnApproval  PrevAvgNflagInsuredOnApproval  \n",
       "0                                      0.0                       0.000000  \n",
       "1                                      1.0                       0.666667  \n",
       "2                                      0.0                       0.000000  \n",
       "3                                      NaN                       0.000000  \n",
       "4                                      1.0                       0.600000  \n",
       "...                                    ...                            ...  \n",
       "307506                                 0.0                       0.000000  \n",
       "307507                                 1.0                       1.000000  \n",
       "307508                                 0.0                       0.500000  \n",
       "307509                                 1.0                       0.500000  \n",
       "307510                                 NaN                       0.333333  \n",
       "\n",
       "[307511 rows x 227 columns]"
      ],
      "text/html": [
       "<div>\n",
       "<style scoped>\n",
       "    .dataframe tbody tr th:only-of-type {\n",
       "        vertical-align: middle;\n",
       "    }\n",
       "\n",
       "    .dataframe tbody tr th {\n",
       "        vertical-align: top;\n",
       "    }\n",
       "\n",
       "    .dataframe thead th {\n",
       "        text-align: right;\n",
       "    }\n",
       "</style>\n",
       "<table border=\"1\" class=\"dataframe\">\n",
       "  <thead>\n",
       "    <tr style=\"text-align: right;\">\n",
       "      <th></th>\n",
       "      <th>TARGET</th>\n",
       "      <th>NameContractType</th>\n",
       "      <th>CodeGender</th>\n",
       "      <th>FlagOwnCar</th>\n",
       "      <th>FlagOwnRealty</th>\n",
       "      <th>CntChildren</th>\n",
       "      <th>AmtIncomeTotal</th>\n",
       "      <th>AmtCredit</th>\n",
       "      <th>AmtAnnuity</th>\n",
       "      <th>AmtGoodsPrice</th>\n",
       "      <th>...</th>\n",
       "      <th>PrevCodeRejectReasonHcCount</th>\n",
       "      <th>PrevCodeRejectReasonLimitCount</th>\n",
       "      <th>PrevCodeRejectReasonScoCount</th>\n",
       "      <th>PrevCodeRejectReasonScofrCount</th>\n",
       "      <th>PrevCodeRejectReasonSystemCount</th>\n",
       "      <th>PrevCodeRejectReasonVerifCount</th>\n",
       "      <th>PrevCodeRejectReasonXapCount</th>\n",
       "      <th>PrevCodeRejectReasonXnaCount</th>\n",
       "      <th>PrevLastLoanNflagInsuredOnApproval</th>\n",
       "      <th>PrevAvgNflagInsuredOnApproval</th>\n",
       "    </tr>\n",
       "  </thead>\n",
       "  <tbody>\n",
       "    <tr>\n",
       "      <th>0</th>\n",
       "      <td>1</td>\n",
       "      <td>Cash loans</td>\n",
       "      <td>M</td>\n",
       "      <td>False</td>\n",
       "      <td>True</td>\n",
       "      <td>0</td>\n",
       "      <td>202500.0</td>\n",
       "      <td>406597.5</td>\n",
       "      <td>24700.5</td>\n",
       "      <td>351000.0</td>\n",
       "      <td>...</td>\n",
       "      <td>0.0</td>\n",
       "      <td>0.0</td>\n",
       "      <td>0.0</td>\n",
       "      <td>0.0</td>\n",
       "      <td>0.0</td>\n",
       "      <td>0.0</td>\n",
       "      <td>1.0</td>\n",
       "      <td>0.0</td>\n",
       "      <td>0.0</td>\n",
       "      <td>0.000000</td>\n",
       "    </tr>\n",
       "    <tr>\n",
       "      <th>1</th>\n",
       "      <td>0</td>\n",
       "      <td>Cash loans</td>\n",
       "      <td>F</td>\n",
       "      <td>False</td>\n",
       "      <td>False</td>\n",
       "      <td>0</td>\n",
       "      <td>270000.0</td>\n",
       "      <td>1293502.5</td>\n",
       "      <td>35698.5</td>\n",
       "      <td>1129500.0</td>\n",
       "      <td>...</td>\n",
       "      <td>0.0</td>\n",
       "      <td>0.0</td>\n",
       "      <td>0.0</td>\n",
       "      <td>0.0</td>\n",
       "      <td>0.0</td>\n",
       "      <td>0.0</td>\n",
       "      <td>3.0</td>\n",
       "      <td>0.0</td>\n",
       "      <td>1.0</td>\n",
       "      <td>0.666667</td>\n",
       "    </tr>\n",
       "    <tr>\n",
       "      <th>2</th>\n",
       "      <td>0</td>\n",
       "      <td>Revolving loans</td>\n",
       "      <td>M</td>\n",
       "      <td>True</td>\n",
       "      <td>True</td>\n",
       "      <td>0</td>\n",
       "      <td>67500.0</td>\n",
       "      <td>135000.0</td>\n",
       "      <td>6750.0</td>\n",
       "      <td>135000.0</td>\n",
       "      <td>...</td>\n",
       "      <td>0.0</td>\n",
       "      <td>0.0</td>\n",
       "      <td>0.0</td>\n",
       "      <td>0.0</td>\n",
       "      <td>0.0</td>\n",
       "      <td>0.0</td>\n",
       "      <td>1.0</td>\n",
       "      <td>0.0</td>\n",
       "      <td>0.0</td>\n",
       "      <td>0.000000</td>\n",
       "    </tr>\n",
       "    <tr>\n",
       "      <th>3</th>\n",
       "      <td>0</td>\n",
       "      <td>Cash loans</td>\n",
       "      <td>F</td>\n",
       "      <td>False</td>\n",
       "      <td>True</td>\n",
       "      <td>0</td>\n",
       "      <td>135000.0</td>\n",
       "      <td>312682.5</td>\n",
       "      <td>29686.5</td>\n",
       "      <td>297000.0</td>\n",
       "      <td>...</td>\n",
       "      <td>0.0</td>\n",
       "      <td>1.0</td>\n",
       "      <td>0.0</td>\n",
       "      <td>0.0</td>\n",
       "      <td>0.0</td>\n",
       "      <td>0.0</td>\n",
       "      <td>8.0</td>\n",
       "      <td>0.0</td>\n",
       "      <td>NaN</td>\n",
       "      <td>0.000000</td>\n",
       "    </tr>\n",
       "    <tr>\n",
       "      <th>4</th>\n",
       "      <td>0</td>\n",
       "      <td>Cash loans</td>\n",
       "      <td>M</td>\n",
       "      <td>False</td>\n",
       "      <td>True</td>\n",
       "      <td>0</td>\n",
       "      <td>121500.0</td>\n",
       "      <td>513000.0</td>\n",
       "      <td>21865.5</td>\n",
       "      <td>513000.0</td>\n",
       "      <td>...</td>\n",
       "      <td>0.0</td>\n",
       "      <td>0.0</td>\n",
       "      <td>0.0</td>\n",
       "      <td>0.0</td>\n",
       "      <td>0.0</td>\n",
       "      <td>0.0</td>\n",
       "      <td>6.0</td>\n",
       "      <td>0.0</td>\n",
       "      <td>1.0</td>\n",
       "      <td>0.600000</td>\n",
       "    </tr>\n",
       "    <tr>\n",
       "      <th>...</th>\n",
       "      <td>...</td>\n",
       "      <td>...</td>\n",
       "      <td>...</td>\n",
       "      <td>...</td>\n",
       "      <td>...</td>\n",
       "      <td>...</td>\n",
       "      <td>...</td>\n",
       "      <td>...</td>\n",
       "      <td>...</td>\n",
       "      <td>...</td>\n",
       "      <td>...</td>\n",
       "      <td>...</td>\n",
       "      <td>...</td>\n",
       "      <td>...</td>\n",
       "      <td>...</td>\n",
       "      <td>...</td>\n",
       "      <td>...</td>\n",
       "      <td>...</td>\n",
       "      <td>...</td>\n",
       "      <td>...</td>\n",
       "      <td>...</td>\n",
       "    </tr>\n",
       "    <tr>\n",
       "      <th>307506</th>\n",
       "      <td>0</td>\n",
       "      <td>Cash loans</td>\n",
       "      <td>M</td>\n",
       "      <td>False</td>\n",
       "      <td>False</td>\n",
       "      <td>0</td>\n",
       "      <td>157500.0</td>\n",
       "      <td>254700.0</td>\n",
       "      <td>27558.0</td>\n",
       "      <td>225000.0</td>\n",
       "      <td>...</td>\n",
       "      <td>0.0</td>\n",
       "      <td>0.0</td>\n",
       "      <td>0.0</td>\n",
       "      <td>0.0</td>\n",
       "      <td>0.0</td>\n",
       "      <td>0.0</td>\n",
       "      <td>1.0</td>\n",
       "      <td>0.0</td>\n",
       "      <td>0.0</td>\n",
       "      <td>0.000000</td>\n",
       "    </tr>\n",
       "    <tr>\n",
       "      <th>307507</th>\n",
       "      <td>0</td>\n",
       "      <td>Cash loans</td>\n",
       "      <td>F</td>\n",
       "      <td>False</td>\n",
       "      <td>True</td>\n",
       "      <td>0</td>\n",
       "      <td>72000.0</td>\n",
       "      <td>269550.0</td>\n",
       "      <td>12001.5</td>\n",
       "      <td>225000.0</td>\n",
       "      <td>...</td>\n",
       "      <td>0.0</td>\n",
       "      <td>0.0</td>\n",
       "      <td>0.0</td>\n",
       "      <td>0.0</td>\n",
       "      <td>0.0</td>\n",
       "      <td>0.0</td>\n",
       "      <td>1.0</td>\n",
       "      <td>0.0</td>\n",
       "      <td>1.0</td>\n",
       "      <td>1.000000</td>\n",
       "    </tr>\n",
       "    <tr>\n",
       "      <th>307508</th>\n",
       "      <td>0</td>\n",
       "      <td>Cash loans</td>\n",
       "      <td>F</td>\n",
       "      <td>False</td>\n",
       "      <td>True</td>\n",
       "      <td>0</td>\n",
       "      <td>153000.0</td>\n",
       "      <td>677664.0</td>\n",
       "      <td>29979.0</td>\n",
       "      <td>585000.0</td>\n",
       "      <td>...</td>\n",
       "      <td>0.0</td>\n",
       "      <td>0.0</td>\n",
       "      <td>0.0</td>\n",
       "      <td>0.0</td>\n",
       "      <td>0.0</td>\n",
       "      <td>0.0</td>\n",
       "      <td>2.0</td>\n",
       "      <td>0.0</td>\n",
       "      <td>0.0</td>\n",
       "      <td>0.500000</td>\n",
       "    </tr>\n",
       "    <tr>\n",
       "      <th>307509</th>\n",
       "      <td>1</td>\n",
       "      <td>Cash loans</td>\n",
       "      <td>F</td>\n",
       "      <td>False</td>\n",
       "      <td>True</td>\n",
       "      <td>0</td>\n",
       "      <td>171000.0</td>\n",
       "      <td>370107.0</td>\n",
       "      <td>20205.0</td>\n",
       "      <td>319500.0</td>\n",
       "      <td>...</td>\n",
       "      <td>0.0</td>\n",
       "      <td>0.0</td>\n",
       "      <td>0.0</td>\n",
       "      <td>0.0</td>\n",
       "      <td>0.0</td>\n",
       "      <td>0.0</td>\n",
       "      <td>2.0</td>\n",
       "      <td>0.0</td>\n",
       "      <td>1.0</td>\n",
       "      <td>0.500000</td>\n",
       "    </tr>\n",
       "    <tr>\n",
       "      <th>307510</th>\n",
       "      <td>0</td>\n",
       "      <td>Cash loans</td>\n",
       "      <td>F</td>\n",
       "      <td>False</td>\n",
       "      <td>False</td>\n",
       "      <td>0</td>\n",
       "      <td>157500.0</td>\n",
       "      <td>675000.0</td>\n",
       "      <td>49117.5</td>\n",
       "      <td>675000.0</td>\n",
       "      <td>...</td>\n",
       "      <td>2.0</td>\n",
       "      <td>0.0</td>\n",
       "      <td>0.0</td>\n",
       "      <td>0.0</td>\n",
       "      <td>0.0</td>\n",
       "      <td>0.0</td>\n",
       "      <td>6.0</td>\n",
       "      <td>0.0</td>\n",
       "      <td>NaN</td>\n",
       "      <td>0.333333</td>\n",
       "    </tr>\n",
       "  </tbody>\n",
       "</table>\n",
       "<p>307511 rows × 227 columns</p>\n",
       "</div>"
      ]
     },
     "execution_count": 8,
     "metadata": {},
     "output_type": "execute_result"
    }
   ],
   "execution_count": 8
  },
  {
   "cell_type": "code",
   "source": [],
   "metadata": {
    "collapsed": false,
    "ExecuteTime": {
     "end_time": "2024-04-30T14:30:18.789256Z",
     "start_time": "2024-04-30T14:30:18.787755Z"
    }
   },
   "id": "e88fb97a1bdb7db8",
   "outputs": [],
   "execution_count": 8
  },
  {
   "cell_type": "code",
   "source": [],
   "metadata": {
    "collapsed": false,
    "ExecuteTime": {
     "end_time": "2024-04-30T14:30:18.791201Z",
     "start_time": "2024-04-30T14:30:18.789256Z"
    }
   },
   "id": "b8958a4e18afe0d4",
   "outputs": [],
   "execution_count": 8
  },
  {
   "cell_type": "code",
   "source": [],
   "metadata": {
    "collapsed": false,
    "ExecuteTime": {
     "end_time": "2024-04-30T14:30:18.792911Z",
     "start_time": "2024-04-30T14:30:18.791201Z"
    }
   },
   "id": "f502809aea6263b",
   "outputs": [],
   "execution_count": 8
  },
  {
   "cell_type": "code",
   "source": [],
   "metadata": {
    "collapsed": false,
    "ExecuteTime": {
     "end_time": "2024-04-30T14:30:18.794693Z",
     "start_time": "2024-04-30T14:30:18.792911Z"
    }
   },
   "id": "f2e21b82c3053120",
   "outputs": [],
   "execution_count": 8
  },
  {
   "cell_type": "code",
   "source": [],
   "metadata": {
    "collapsed": false,
    "ExecuteTime": {
     "end_time": "2024-04-30T14:30:18.796697Z",
     "start_time": "2024-04-30T14:30:18.794693Z"
    }
   },
   "id": "4cbda67e3cec9bce",
   "outputs": [],
   "execution_count": 8
  },
  {
   "cell_type": "code",
   "source": [
    "from Draft.feature_builder_v2 import DatasetType\n",
    "\n",
    "importlib.reload(feature_builder_v2)\n",
    "features_matrix_full = feature_builder_v2.load_datasets_and_prepare_features(\n",
    "    drop_meta_data=True, ds_type=DatasetType.FULL\n",
    ")\n",
    "features_matrix_base = feature_builder_v2.load_datasets_and_prepare_features(\n",
    "    drop_meta_data=True, ds_type=DatasetType.BASE\n",
    ")"
   ],
   "metadata": {
    "collapsed": false,
    "ExecuteTime": {
     "end_time": "2024-04-30T14:30:39.244521Z",
     "start_time": "2024-04-30T14:30:18.797201Z"
    }
   },
   "id": "3417c5b9b8374dd",
   "outputs": [
    {
     "name": "stderr",
     "output_type": "stream",
     "text": [
      "C:\\Users\\Paulius\\AppData\\Local\\pypoetry\\Cache\\virtualenvs\\ppuodz-ml-4-1-dqELbViF-py3.12\\Lib\\site-packages\\woodwork\\type_sys\\utils.py:40: UserWarning: Could not infer format, so each element will be parsed individually, falling back to `dateutil`. To ensure parsing is consistent and as-expected, please specify a format.\n",
      "  pd.to_datetime(\n",
      "C:\\Users\\Paulius\\AppData\\Local\\pypoetry\\Cache\\virtualenvs\\ppuodz-ml-4-1-dqELbViF-py3.12\\Lib\\site-packages\\woodwork\\type_sys\\utils.py:40: UserWarning: Could not infer format, so each element will be parsed individually, falling back to `dateutil`. To ensure parsing is consistent and as-expected, please specify a format.\n",
      "  pd.to_datetime(\n",
      "C:\\Users\\Paulius\\AppData\\Local\\pypoetry\\Cache\\virtualenvs\\ppuodz-ml-4-1-dqELbViF-py3.12\\Lib\\site-packages\\woodwork\\type_sys\\utils.py:40: UserWarning: Could not infer format, so each element will be parsed individually, falling back to `dateutil`. To ensure parsing is consistent and as-expected, please specify a format.\n",
      "  pd.to_datetime(\n",
      "C:\\Users\\Paulius\\AppData\\Local\\pypoetry\\Cache\\virtualenvs\\ppuodz-ml-4-1-dqELbViF-py3.12\\Lib\\site-packages\\woodwork\\type_sys\\utils.py:40: UserWarning: Could not infer format, so each element will be parsed individually, falling back to `dateutil`. To ensure parsing is consistent and as-expected, please specify a format.\n",
      "  pd.to_datetime(\n",
      "C:\\Users\\Paulius\\AppData\\Local\\pypoetry\\Cache\\virtualenvs\\ppuodz-ml-4-1-dqELbViF-py3.12\\Lib\\site-packages\\woodwork\\type_sys\\utils.py:40: UserWarning: Could not infer format, so each element will be parsed individually, falling back to `dateutil`. To ensure parsing is consistent and as-expected, please specify a format.\n",
      "  pd.to_datetime(\n",
      "C:\\Users\\Paulius\\AppData\\Local\\pypoetry\\Cache\\virtualenvs\\ppuodz-ml-4-1-dqELbViF-py3.12\\Lib\\site-packages\\woodwork\\type_sys\\utils.py:40: UserWarning: Could not infer format, so each element will be parsed individually, falling back to `dateutil`. To ensure parsing is consistent and as-expected, please specify a format.\n",
      "  pd.to_datetime(\n",
      "C:\\Users\\Paulius\\AppData\\Local\\pypoetry\\Cache\\virtualenvs\\ppuodz-ml-4-1-dqELbViF-py3.12\\Lib\\site-packages\\woodwork\\type_sys\\utils.py:40: UserWarning: Could not infer format, so each element will be parsed individually, falling back to `dateutil`. To ensure parsing is consistent and as-expected, please specify a format.\n",
      "  pd.to_datetime(\n",
      "C:\\Users\\Paulius\\AppData\\Local\\pypoetry\\Cache\\virtualenvs\\ppuodz-ml-4-1-dqELbViF-py3.12\\Lib\\site-packages\\woodwork\\type_sys\\utils.py:40: UserWarning: Could not infer format, so each element will be parsed individually, falling back to `dateutil`. To ensure parsing is consistent and as-expected, please specify a format.\n",
      "  pd.to_datetime(\n",
      "C:\\Users\\Paulius\\AppData\\Local\\pypoetry\\Cache\\virtualenvs\\ppuodz-ml-4-1-dqELbViF-py3.12\\Lib\\site-packages\\woodwork\\type_sys\\utils.py:40: UserWarning: Could not infer format, so each element will be parsed individually, falling back to `dateutil`. To ensure parsing is consistent and as-expected, please specify a format.\n",
      "  pd.to_datetime(\n",
      "C:\\Users\\Paulius\\AppData\\Local\\pypoetry\\Cache\\virtualenvs\\ppuodz-ml-4-1-dqELbViF-py3.12\\Lib\\site-packages\\woodwork\\type_sys\\utils.py:40: UserWarning: Could not infer format, so each element will be parsed individually, falling back to `dateutil`. To ensure parsing is consistent and as-expected, please specify a format.\n",
      "  pd.to_datetime(\n",
      "C:\\Users\\Paulius\\AppData\\Local\\pypoetry\\Cache\\virtualenvs\\ppuodz-ml-4-1-dqELbViF-py3.12\\Lib\\site-packages\\woodwork\\type_sys\\utils.py:40: UserWarning: Could not infer format, so each element will be parsed individually, falling back to `dateutil`. To ensure parsing is consistent and as-expected, please specify a format.\n",
      "  pd.to_datetime(\n",
      "C:\\Users\\Paulius\\AppData\\Local\\pypoetry\\Cache\\virtualenvs\\ppuodz-ml-4-1-dqELbViF-py3.12\\Lib\\site-packages\\woodwork\\type_sys\\utils.py:40: UserWarning: Could not infer format, so each element will be parsed individually, falling back to `dateutil`. To ensure parsing is consistent and as-expected, please specify a format.\n",
      "  pd.to_datetime(\n",
      "C:\\Users\\Paulius\\AppData\\Local\\pypoetry\\Cache\\virtualenvs\\ppuodz-ml-4-1-dqELbViF-py3.12\\Lib\\site-packages\\woodwork\\type_sys\\utils.py:40: UserWarning: Could not infer format, so each element will be parsed individually, falling back to `dateutil`. To ensure parsing is consistent and as-expected, please specify a format.\n",
      "  pd.to_datetime(\n",
      "C:\\Users\\Paulius\\AppData\\Local\\pypoetry\\Cache\\virtualenvs\\ppuodz-ml-4-1-dqELbViF-py3.12\\Lib\\site-packages\\woodwork\\type_sys\\utils.py:40: UserWarning: Could not infer format, so each element will be parsed individually, falling back to `dateutil`. To ensure parsing is consistent and as-expected, please specify a format.\n",
      "  pd.to_datetime(\n",
      "C:\\Users\\Paulius\\AppData\\Local\\pypoetry\\Cache\\virtualenvs\\ppuodz-ml-4-1-dqELbViF-py3.12\\Lib\\site-packages\\woodwork\\type_sys\\utils.py:40: UserWarning: Could not infer format, so each element will be parsed individually, falling back to `dateutil`. To ensure parsing is consistent and as-expected, please specify a format.\n",
      "  pd.to_datetime(\n",
      "C:\\Users\\Paulius\\AppData\\Local\\pypoetry\\Cache\\virtualenvs\\ppuodz-ml-4-1-dqELbViF-py3.12\\Lib\\site-packages\\woodwork\\type_sys\\utils.py:40: UserWarning: Could not infer format, so each element will be parsed individually, falling back to `dateutil`. To ensure parsing is consistent and as-expected, please specify a format.\n",
      "  pd.to_datetime(\n",
      "C:\\Users\\Paulius\\AppData\\Local\\pypoetry\\Cache\\virtualenvs\\ppuodz-ml-4-1-dqELbViF-py3.12\\Lib\\site-packages\\woodwork\\type_sys\\utils.py:40: UserWarning: Could not infer format, so each element will be parsed individually, falling back to `dateutil`. To ensure parsing is consistent and as-expected, please specify a format.\n",
      "  pd.to_datetime(\n",
      "C:\\Users\\Paulius\\AppData\\Local\\pypoetry\\Cache\\virtualenvs\\ppuodz-ml-4-1-dqELbViF-py3.12\\Lib\\site-packages\\woodwork\\type_sys\\utils.py:40: UserWarning: Could not infer format, so each element will be parsed individually, falling back to `dateutil`. To ensure parsing is consistent and as-expected, please specify a format.\n",
      "  pd.to_datetime(\n",
      "C:\\Users\\Paulius\\AppData\\Local\\pypoetry\\Cache\\virtualenvs\\ppuodz-ml-4-1-dqELbViF-py3.12\\Lib\\site-packages\\woodwork\\type_sys\\utils.py:40: UserWarning: Could not infer format, so each element will be parsed individually, falling back to `dateutil`. To ensure parsing is consistent and as-expected, please specify a format.\n",
      "  pd.to_datetime(\n",
      "C:\\Users\\Paulius\\AppData\\Local\\pypoetry\\Cache\\virtualenvs\\ppuodz-ml-4-1-dqELbViF-py3.12\\Lib\\site-packages\\woodwork\\type_sys\\utils.py:40: UserWarning: Could not infer format, so each element will be parsed individually, falling back to `dateutil`. To ensure parsing is consistent and as-expected, please specify a format.\n",
      "  pd.to_datetime(\n",
      "C:\\Users\\Paulius\\AppData\\Local\\pypoetry\\Cache\\virtualenvs\\ppuodz-ml-4-1-dqELbViF-py3.12\\Lib\\site-packages\\woodwork\\type_sys\\utils.py:40: UserWarning: Could not infer format, so each element will be parsed individually, falling back to `dateutil`. To ensure parsing is consistent and as-expected, please specify a format.\n",
      "  pd.to_datetime(\n",
      "C:\\Users\\Paulius\\AppData\\Local\\pypoetry\\Cache\\virtualenvs\\ppuodz-ml-4-1-dqELbViF-py3.12\\Lib\\site-packages\\woodwork\\type_sys\\utils.py:40: UserWarning: Could not infer format, so each element will be parsed individually, falling back to `dateutil`. To ensure parsing is consistent and as-expected, please specify a format.\n",
      "  pd.to_datetime(\n",
      "C:\\Users\\Paulius\\AppData\\Local\\pypoetry\\Cache\\virtualenvs\\ppuodz-ml-4-1-dqELbViF-py3.12\\Lib\\site-packages\\woodwork\\type_sys\\utils.py:40: UserWarning: Could not infer format, so each element will be parsed individually, falling back to `dateutil`. To ensure parsing is consistent and as-expected, please specify a format.\n",
      "  pd.to_datetime(\n",
      "C:\\Users\\Paulius\\AppData\\Local\\pypoetry\\Cache\\virtualenvs\\ppuodz-ml-4-1-dqELbViF-py3.12\\Lib\\site-packages\\woodwork\\type_sys\\utils.py:40: UserWarning: Could not infer format, so each element will be parsed individually, falling back to `dateutil`. To ensure parsing is consistent and as-expected, please specify a format.\n",
      "  pd.to_datetime(\n",
      "C:\\Users\\Paulius\\AppData\\Local\\pypoetry\\Cache\\virtualenvs\\ppuodz-ml-4-1-dqELbViF-py3.12\\Lib\\site-packages\\woodwork\\type_sys\\utils.py:40: UserWarning: Could not infer format, so each element will be parsed individually, falling back to `dateutil`. To ensure parsing is consistent and as-expected, please specify a format.\n",
      "  pd.to_datetime(\n",
      "C:\\Users\\Paulius\\AppData\\Local\\pypoetry\\Cache\\virtualenvs\\ppuodz-ml-4-1-dqELbViF-py3.12\\Lib\\site-packages\\woodwork\\type_sys\\utils.py:40: UserWarning: Could not infer format, so each element will be parsed individually, falling back to `dateutil`. To ensure parsing is consistent and as-expected, please specify a format.\n",
      "  pd.to_datetime(\n",
      "C:\\Users\\Paulius\\AppData\\Local\\pypoetry\\Cache\\virtualenvs\\ppuodz-ml-4-1-dqELbViF-py3.12\\Lib\\site-packages\\woodwork\\type_sys\\utils.py:40: UserWarning: Could not infer format, so each element will be parsed individually, falling back to `dateutil`. To ensure parsing is consistent and as-expected, please specify a format.\n",
      "  pd.to_datetime(\n",
      "C:\\Users\\Paulius\\AppData\\Local\\pypoetry\\Cache\\virtualenvs\\ppuodz-ml-4-1-dqELbViF-py3.12\\Lib\\site-packages\\woodwork\\type_sys\\utils.py:40: UserWarning: Could not infer format, so each element will be parsed individually, falling back to `dateutil`. To ensure parsing is consistent and as-expected, please specify a format.\n",
      "  pd.to_datetime(\n",
      "C:\\Users\\Paulius\\AppData\\Local\\pypoetry\\Cache\\virtualenvs\\ppuodz-ml-4-1-dqELbViF-py3.12\\Lib\\site-packages\\woodwork\\type_sys\\utils.py:40: UserWarning: Could not infer format, so each element will be parsed individually, falling back to `dateutil`. To ensure parsing is consistent and as-expected, please specify a format.\n",
      "  pd.to_datetime(\n",
      "C:\\Users\\Paulius\\AppData\\Local\\pypoetry\\Cache\\virtualenvs\\ppuodz-ml-4-1-dqELbViF-py3.12\\Lib\\site-packages\\woodwork\\type_sys\\utils.py:40: UserWarning: Could not infer format, so each element will be parsed individually, falling back to `dateutil`. To ensure parsing is consistent and as-expected, please specify a format.\n",
      "  pd.to_datetime(\n",
      "C:\\Users\\Paulius\\AppData\\Local\\pypoetry\\Cache\\virtualenvs\\ppuodz-ml-4-1-dqELbViF-py3.12\\Lib\\site-packages\\woodwork\\type_sys\\utils.py:40: UserWarning: Could not infer format, so each element will be parsed individually, falling back to `dateutil`. To ensure parsing is consistent and as-expected, please specify a format.\n",
      "  pd.to_datetime(\n",
      "C:\\Users\\Paulius\\AppData\\Local\\pypoetry\\Cache\\virtualenvs\\ppuodz-ml-4-1-dqELbViF-py3.12\\Lib\\site-packages\\woodwork\\type_sys\\utils.py:40: UserWarning: Could not infer format, so each element will be parsed individually, falling back to `dateutil`. To ensure parsing is consistent and as-expected, please specify a format.\n",
      "  pd.to_datetime(\n",
      "C:\\Users\\Paulius\\AppData\\Local\\pypoetry\\Cache\\virtualenvs\\ppuodz-ml-4-1-dqELbViF-py3.12\\Lib\\site-packages\\featuretools\\entityset\\entityset.py:1914: UserWarning: index SK_BUREAU_ID not found in dataframe, creating new integer column\n",
      "  warnings.warn(\n",
      "C:\\Users\\Paulius\\AppData\\Local\\pypoetry\\Cache\\virtualenvs\\ppuodz-ml-4-1-dqELbViF-py3.12\\Lib\\site-packages\\woodwork\\type_sys\\utils.py:40: UserWarning: Could not infer format, so each element will be parsed individually, falling back to `dateutil`. To ensure parsing is consistent and as-expected, please specify a format.\n",
      "  pd.to_datetime(\n",
      "C:\\Users\\Paulius\\AppData\\Local\\pypoetry\\Cache\\virtualenvs\\ppuodz-ml-4-1-dqELbViF-py3.12\\Lib\\site-packages\\woodwork\\type_sys\\utils.py:40: UserWarning: Could not infer format, so each element will be parsed individually, falling back to `dateutil`. To ensure parsing is consistent and as-expected, please specify a format.\n",
      "  pd.to_datetime(\n",
      "C:\\Users\\Paulius\\AppData\\Local\\pypoetry\\Cache\\virtualenvs\\ppuodz-ml-4-1-dqELbViF-py3.12\\Lib\\site-packages\\woodwork\\type_sys\\utils.py:40: UserWarning: Could not infer format, so each element will be parsed individually, falling back to `dateutil`. To ensure parsing is consistent and as-expected, please specify a format.\n",
      "  pd.to_datetime(\n",
      "C:\\Users\\Paulius\\AppData\\Local\\pypoetry\\Cache\\virtualenvs\\ppuodz-ml-4-1-dqELbViF-py3.12\\Lib\\site-packages\\woodwork\\type_sys\\utils.py:40: UserWarning: Could not infer format, so each element will be parsed individually, falling back to `dateutil`. To ensure parsing is consistent and as-expected, please specify a format.\n",
      "  pd.to_datetime(\n",
      "C:\\Users\\Paulius\\AppData\\Local\\pypoetry\\Cache\\virtualenvs\\ppuodz-ml-4-1-dqELbViF-py3.12\\Lib\\site-packages\\woodwork\\type_sys\\utils.py:40: UserWarning: Could not infer format, so each element will be parsed individually, falling back to `dateutil`. To ensure parsing is consistent and as-expected, please specify a format.\n",
      "  pd.to_datetime(\n",
      "C:\\Users\\Paulius\\AppData\\Local\\pypoetry\\Cache\\virtualenvs\\ppuodz-ml-4-1-dqELbViF-py3.12\\Lib\\site-packages\\woodwork\\type_sys\\utils.py:40: UserWarning: Could not infer format, so each element will be parsed individually, falling back to `dateutil`. To ensure parsing is consistent and as-expected, please specify a format.\n",
      "  pd.to_datetime(\n",
      "C:\\Users\\Paulius\\AppData\\Local\\pypoetry\\Cache\\virtualenvs\\ppuodz-ml-4-1-dqELbViF-py3.12\\Lib\\site-packages\\featuretools\\computational_backends\\feature_set_calculator.py:828: FutureWarning: The provided callable <function min at 0x000001D77E574400> is currently using SeriesGroupBy.min. In a future version of pandas, the provided callable will be used directly. To keep current behavior pass the string \"min\" instead.\n",
      "  ).agg(to_agg)\n",
      "C:\\Users\\Paulius\\AppData\\Local\\pypoetry\\Cache\\virtualenvs\\ppuodz-ml-4-1-dqELbViF-py3.12\\Lib\\site-packages\\featuretools\\computational_backends\\feature_set_calculator.py:828: FutureWarning: The provided callable <function max at 0x000001D77E5742C0> is currently using SeriesGroupBy.max. In a future version of pandas, the provided callable will be used directly. To keep current behavior pass the string \"max\" instead.\n",
      "  ).agg(to_agg)\n",
      "C:\\Users\\Paulius\\AppData\\Local\\pypoetry\\Cache\\virtualenvs\\ppuodz-ml-4-1-dqELbViF-py3.12\\Lib\\site-packages\\featuretools\\computational_backends\\feature_set_calculator.py:828: FutureWarning: The provided callable <function mean at 0x000001D77E574CC0> is currently using SeriesGroupBy.mean. In a future version of pandas, the provided callable will be used directly. To keep current behavior pass the string \"mean\" instead.\n",
      "  ).agg(to_agg)\n"
     ]
    },
    {
     "name": "stdout",
     "output_type": "stream",
     "text": [
      "Appending previous history\n",
      "Full DS size: 307511\n",
      "Full DS size: 307511\n"
     ]
    }
   ],
   "execution_count": 9
  },
  {
   "cell_type": "code",
   "source": [
    "features_matrix_full"
   ],
   "metadata": {
    "collapsed": false,
    "ExecuteTime": {
     "end_time": "2024-04-30T14:30:39.282982Z",
     "start_time": "2024-04-30T14:30:39.244521Z"
    }
   },
   "id": "af6d9fe4aba1c40",
   "outputs": [
    {
     "data": {
      "text/plain": [
       "        TARGET NameContractType CodeGender  FlagOwnCar  FlagOwnRealty  \\\n",
       "0            1       Cash loans          M       False           True   \n",
       "1            0       Cash loans          F       False          False   \n",
       "2            0  Revolving loans          M        True           True   \n",
       "3            0       Cash loans          F       False           True   \n",
       "4            0       Cash loans          M       False           True   \n",
       "...        ...              ...        ...         ...            ...   \n",
       "307506       0       Cash loans          M       False          False   \n",
       "307507       0       Cash loans          F       False           True   \n",
       "307508       0       Cash loans          F       False           True   \n",
       "307509       1       Cash loans          F       False           True   \n",
       "307510       0       Cash loans          F       False          False   \n",
       "\n",
       "        CntChildren  AmtIncomeTotal  AmtCredit  AmtAnnuity  AmtGoodsPrice  \\\n",
       "0                 0        202500.0   406597.5     24700.5       351000.0   \n",
       "1                 0        270000.0  1293502.5     35698.5      1129500.0   \n",
       "2                 0         67500.0   135000.0      6750.0       135000.0   \n",
       "3                 0        135000.0   312682.5     29686.5       297000.0   \n",
       "4                 0        121500.0   513000.0     21865.5       513000.0   \n",
       "...             ...             ...        ...         ...            ...   \n",
       "307506            0        157500.0   254700.0     27558.0       225000.0   \n",
       "307507            0         72000.0   269550.0     12001.5       225000.0   \n",
       "307508            0        153000.0   677664.0     29979.0       585000.0   \n",
       "307509            0        171000.0   370107.0     20205.0       319500.0   \n",
       "307510            0        157500.0   675000.0     49117.5       675000.0   \n",
       "\n",
       "        ... PrevCodeRejectReasonHcCount PrevCodeRejectReasonLimitCount  \\\n",
       "0       ...                         0.0                            0.0   \n",
       "1       ...                         0.0                            0.0   \n",
       "2       ...                         0.0                            0.0   \n",
       "3       ...                         0.0                            1.0   \n",
       "4       ...                         0.0                            0.0   \n",
       "...     ...                         ...                            ...   \n",
       "307506  ...                         0.0                            0.0   \n",
       "307507  ...                         0.0                            0.0   \n",
       "307508  ...                         0.0                            0.0   \n",
       "307509  ...                         0.0                            0.0   \n",
       "307510  ...                         2.0                            0.0   \n",
       "\n",
       "       PrevCodeRejectReasonScoCount PrevCodeRejectReasonScofrCount  \\\n",
       "0                               0.0                            0.0   \n",
       "1                               0.0                            0.0   \n",
       "2                               0.0                            0.0   \n",
       "3                               0.0                            0.0   \n",
       "4                               0.0                            0.0   \n",
       "...                             ...                            ...   \n",
       "307506                          0.0                            0.0   \n",
       "307507                          0.0                            0.0   \n",
       "307508                          0.0                            0.0   \n",
       "307509                          0.0                            0.0   \n",
       "307510                          0.0                            0.0   \n",
       "\n",
       "       PrevCodeRejectReasonSystemCount  PrevCodeRejectReasonVerifCount  \\\n",
       "0                                  0.0                             0.0   \n",
       "1                                  0.0                             0.0   \n",
       "2                                  0.0                             0.0   \n",
       "3                                  0.0                             0.0   \n",
       "4                                  0.0                             0.0   \n",
       "...                                ...                             ...   \n",
       "307506                             0.0                             0.0   \n",
       "307507                             0.0                             0.0   \n",
       "307508                             0.0                             0.0   \n",
       "307509                             0.0                             0.0   \n",
       "307510                             0.0                             0.0   \n",
       "\n",
       "        PrevCodeRejectReasonXapCount  PrevCodeRejectReasonXnaCount  \\\n",
       "0                                1.0                           0.0   \n",
       "1                                3.0                           0.0   \n",
       "2                                1.0                           0.0   \n",
       "3                                8.0                           0.0   \n",
       "4                                6.0                           0.0   \n",
       "...                              ...                           ...   \n",
       "307506                           1.0                           0.0   \n",
       "307507                           1.0                           0.0   \n",
       "307508                           2.0                           0.0   \n",
       "307509                           2.0                           0.0   \n",
       "307510                           6.0                           0.0   \n",
       "\n",
       "        PrevLastLoanNflagInsuredOnApproval  PrevAvgNflagInsuredOnApproval  \n",
       "0                                      0.0                       0.000000  \n",
       "1                                      1.0                       0.666667  \n",
       "2                                      0.0                       0.000000  \n",
       "3                                      NaN                       0.000000  \n",
       "4                                      1.0                       0.600000  \n",
       "...                                    ...                            ...  \n",
       "307506                                 0.0                       0.000000  \n",
       "307507                                 1.0                       1.000000  \n",
       "307508                                 0.0                       0.500000  \n",
       "307509                                 1.0                       0.500000  \n",
       "307510                                 NaN                       0.333333  \n",
       "\n",
       "[307511 rows x 227 columns]"
      ],
      "text/html": [
       "<div>\n",
       "<style scoped>\n",
       "    .dataframe tbody tr th:only-of-type {\n",
       "        vertical-align: middle;\n",
       "    }\n",
       "\n",
       "    .dataframe tbody tr th {\n",
       "        vertical-align: top;\n",
       "    }\n",
       "\n",
       "    .dataframe thead th {\n",
       "        text-align: right;\n",
       "    }\n",
       "</style>\n",
       "<table border=\"1\" class=\"dataframe\">\n",
       "  <thead>\n",
       "    <tr style=\"text-align: right;\">\n",
       "      <th></th>\n",
       "      <th>TARGET</th>\n",
       "      <th>NameContractType</th>\n",
       "      <th>CodeGender</th>\n",
       "      <th>FlagOwnCar</th>\n",
       "      <th>FlagOwnRealty</th>\n",
       "      <th>CntChildren</th>\n",
       "      <th>AmtIncomeTotal</th>\n",
       "      <th>AmtCredit</th>\n",
       "      <th>AmtAnnuity</th>\n",
       "      <th>AmtGoodsPrice</th>\n",
       "      <th>...</th>\n",
       "      <th>PrevCodeRejectReasonHcCount</th>\n",
       "      <th>PrevCodeRejectReasonLimitCount</th>\n",
       "      <th>PrevCodeRejectReasonScoCount</th>\n",
       "      <th>PrevCodeRejectReasonScofrCount</th>\n",
       "      <th>PrevCodeRejectReasonSystemCount</th>\n",
       "      <th>PrevCodeRejectReasonVerifCount</th>\n",
       "      <th>PrevCodeRejectReasonXapCount</th>\n",
       "      <th>PrevCodeRejectReasonXnaCount</th>\n",
       "      <th>PrevLastLoanNflagInsuredOnApproval</th>\n",
       "      <th>PrevAvgNflagInsuredOnApproval</th>\n",
       "    </tr>\n",
       "  </thead>\n",
       "  <tbody>\n",
       "    <tr>\n",
       "      <th>0</th>\n",
       "      <td>1</td>\n",
       "      <td>Cash loans</td>\n",
       "      <td>M</td>\n",
       "      <td>False</td>\n",
       "      <td>True</td>\n",
       "      <td>0</td>\n",
       "      <td>202500.0</td>\n",
       "      <td>406597.5</td>\n",
       "      <td>24700.5</td>\n",
       "      <td>351000.0</td>\n",
       "      <td>...</td>\n",
       "      <td>0.0</td>\n",
       "      <td>0.0</td>\n",
       "      <td>0.0</td>\n",
       "      <td>0.0</td>\n",
       "      <td>0.0</td>\n",
       "      <td>0.0</td>\n",
       "      <td>1.0</td>\n",
       "      <td>0.0</td>\n",
       "      <td>0.0</td>\n",
       "      <td>0.000000</td>\n",
       "    </tr>\n",
       "    <tr>\n",
       "      <th>1</th>\n",
       "      <td>0</td>\n",
       "      <td>Cash loans</td>\n",
       "      <td>F</td>\n",
       "      <td>False</td>\n",
       "      <td>False</td>\n",
       "      <td>0</td>\n",
       "      <td>270000.0</td>\n",
       "      <td>1293502.5</td>\n",
       "      <td>35698.5</td>\n",
       "      <td>1129500.0</td>\n",
       "      <td>...</td>\n",
       "      <td>0.0</td>\n",
       "      <td>0.0</td>\n",
       "      <td>0.0</td>\n",
       "      <td>0.0</td>\n",
       "      <td>0.0</td>\n",
       "      <td>0.0</td>\n",
       "      <td>3.0</td>\n",
       "      <td>0.0</td>\n",
       "      <td>1.0</td>\n",
       "      <td>0.666667</td>\n",
       "    </tr>\n",
       "    <tr>\n",
       "      <th>2</th>\n",
       "      <td>0</td>\n",
       "      <td>Revolving loans</td>\n",
       "      <td>M</td>\n",
       "      <td>True</td>\n",
       "      <td>True</td>\n",
       "      <td>0</td>\n",
       "      <td>67500.0</td>\n",
       "      <td>135000.0</td>\n",
       "      <td>6750.0</td>\n",
       "      <td>135000.0</td>\n",
       "      <td>...</td>\n",
       "      <td>0.0</td>\n",
       "      <td>0.0</td>\n",
       "      <td>0.0</td>\n",
       "      <td>0.0</td>\n",
       "      <td>0.0</td>\n",
       "      <td>0.0</td>\n",
       "      <td>1.0</td>\n",
       "      <td>0.0</td>\n",
       "      <td>0.0</td>\n",
       "      <td>0.000000</td>\n",
       "    </tr>\n",
       "    <tr>\n",
       "      <th>3</th>\n",
       "      <td>0</td>\n",
       "      <td>Cash loans</td>\n",
       "      <td>F</td>\n",
       "      <td>False</td>\n",
       "      <td>True</td>\n",
       "      <td>0</td>\n",
       "      <td>135000.0</td>\n",
       "      <td>312682.5</td>\n",
       "      <td>29686.5</td>\n",
       "      <td>297000.0</td>\n",
       "      <td>...</td>\n",
       "      <td>0.0</td>\n",
       "      <td>1.0</td>\n",
       "      <td>0.0</td>\n",
       "      <td>0.0</td>\n",
       "      <td>0.0</td>\n",
       "      <td>0.0</td>\n",
       "      <td>8.0</td>\n",
       "      <td>0.0</td>\n",
       "      <td>NaN</td>\n",
       "      <td>0.000000</td>\n",
       "    </tr>\n",
       "    <tr>\n",
       "      <th>4</th>\n",
       "      <td>0</td>\n",
       "      <td>Cash loans</td>\n",
       "      <td>M</td>\n",
       "      <td>False</td>\n",
       "      <td>True</td>\n",
       "      <td>0</td>\n",
       "      <td>121500.0</td>\n",
       "      <td>513000.0</td>\n",
       "      <td>21865.5</td>\n",
       "      <td>513000.0</td>\n",
       "      <td>...</td>\n",
       "      <td>0.0</td>\n",
       "      <td>0.0</td>\n",
       "      <td>0.0</td>\n",
       "      <td>0.0</td>\n",
       "      <td>0.0</td>\n",
       "      <td>0.0</td>\n",
       "      <td>6.0</td>\n",
       "      <td>0.0</td>\n",
       "      <td>1.0</td>\n",
       "      <td>0.600000</td>\n",
       "    </tr>\n",
       "    <tr>\n",
       "      <th>...</th>\n",
       "      <td>...</td>\n",
       "      <td>...</td>\n",
       "      <td>...</td>\n",
       "      <td>...</td>\n",
       "      <td>...</td>\n",
       "      <td>...</td>\n",
       "      <td>...</td>\n",
       "      <td>...</td>\n",
       "      <td>...</td>\n",
       "      <td>...</td>\n",
       "      <td>...</td>\n",
       "      <td>...</td>\n",
       "      <td>...</td>\n",
       "      <td>...</td>\n",
       "      <td>...</td>\n",
       "      <td>...</td>\n",
       "      <td>...</td>\n",
       "      <td>...</td>\n",
       "      <td>...</td>\n",
       "      <td>...</td>\n",
       "      <td>...</td>\n",
       "    </tr>\n",
       "    <tr>\n",
       "      <th>307506</th>\n",
       "      <td>0</td>\n",
       "      <td>Cash loans</td>\n",
       "      <td>M</td>\n",
       "      <td>False</td>\n",
       "      <td>False</td>\n",
       "      <td>0</td>\n",
       "      <td>157500.0</td>\n",
       "      <td>254700.0</td>\n",
       "      <td>27558.0</td>\n",
       "      <td>225000.0</td>\n",
       "      <td>...</td>\n",
       "      <td>0.0</td>\n",
       "      <td>0.0</td>\n",
       "      <td>0.0</td>\n",
       "      <td>0.0</td>\n",
       "      <td>0.0</td>\n",
       "      <td>0.0</td>\n",
       "      <td>1.0</td>\n",
       "      <td>0.0</td>\n",
       "      <td>0.0</td>\n",
       "      <td>0.000000</td>\n",
       "    </tr>\n",
       "    <tr>\n",
       "      <th>307507</th>\n",
       "      <td>0</td>\n",
       "      <td>Cash loans</td>\n",
       "      <td>F</td>\n",
       "      <td>False</td>\n",
       "      <td>True</td>\n",
       "      <td>0</td>\n",
       "      <td>72000.0</td>\n",
       "      <td>269550.0</td>\n",
       "      <td>12001.5</td>\n",
       "      <td>225000.0</td>\n",
       "      <td>...</td>\n",
       "      <td>0.0</td>\n",
       "      <td>0.0</td>\n",
       "      <td>0.0</td>\n",
       "      <td>0.0</td>\n",
       "      <td>0.0</td>\n",
       "      <td>0.0</td>\n",
       "      <td>1.0</td>\n",
       "      <td>0.0</td>\n",
       "      <td>1.0</td>\n",
       "      <td>1.000000</td>\n",
       "    </tr>\n",
       "    <tr>\n",
       "      <th>307508</th>\n",
       "      <td>0</td>\n",
       "      <td>Cash loans</td>\n",
       "      <td>F</td>\n",
       "      <td>False</td>\n",
       "      <td>True</td>\n",
       "      <td>0</td>\n",
       "      <td>153000.0</td>\n",
       "      <td>677664.0</td>\n",
       "      <td>29979.0</td>\n",
       "      <td>585000.0</td>\n",
       "      <td>...</td>\n",
       "      <td>0.0</td>\n",
       "      <td>0.0</td>\n",
       "      <td>0.0</td>\n",
       "      <td>0.0</td>\n",
       "      <td>0.0</td>\n",
       "      <td>0.0</td>\n",
       "      <td>2.0</td>\n",
       "      <td>0.0</td>\n",
       "      <td>0.0</td>\n",
       "      <td>0.500000</td>\n",
       "    </tr>\n",
       "    <tr>\n",
       "      <th>307509</th>\n",
       "      <td>1</td>\n",
       "      <td>Cash loans</td>\n",
       "      <td>F</td>\n",
       "      <td>False</td>\n",
       "      <td>True</td>\n",
       "      <td>0</td>\n",
       "      <td>171000.0</td>\n",
       "      <td>370107.0</td>\n",
       "      <td>20205.0</td>\n",
       "      <td>319500.0</td>\n",
       "      <td>...</td>\n",
       "      <td>0.0</td>\n",
       "      <td>0.0</td>\n",
       "      <td>0.0</td>\n",
       "      <td>0.0</td>\n",
       "      <td>0.0</td>\n",
       "      <td>0.0</td>\n",
       "      <td>2.0</td>\n",
       "      <td>0.0</td>\n",
       "      <td>1.0</td>\n",
       "      <td>0.500000</td>\n",
       "    </tr>\n",
       "    <tr>\n",
       "      <th>307510</th>\n",
       "      <td>0</td>\n",
       "      <td>Cash loans</td>\n",
       "      <td>F</td>\n",
       "      <td>False</td>\n",
       "      <td>False</td>\n",
       "      <td>0</td>\n",
       "      <td>157500.0</td>\n",
       "      <td>675000.0</td>\n",
       "      <td>49117.5</td>\n",
       "      <td>675000.0</td>\n",
       "      <td>...</td>\n",
       "      <td>2.0</td>\n",
       "      <td>0.0</td>\n",
       "      <td>0.0</td>\n",
       "      <td>0.0</td>\n",
       "      <td>0.0</td>\n",
       "      <td>0.0</td>\n",
       "      <td>6.0</td>\n",
       "      <td>0.0</td>\n",
       "      <td>NaN</td>\n",
       "      <td>0.333333</td>\n",
       "    </tr>\n",
       "  </tbody>\n",
       "</table>\n",
       "<p>307511 rows × 227 columns</p>\n",
       "</div>"
      ]
     },
     "execution_count": 10,
     "metadata": {},
     "output_type": "execute_result"
    }
   ],
   "execution_count": 10
  },
  {
   "cell_type": "code",
   "source": [
    "importlib.reload(feature_builder_v2)\n",
    "features_matrix = feature_builder_v2.load_datasets_and_prepare_features(\n",
    "    drop_meta_data=True, ds_type=feature_builder_v2.DatasetType.BASE_ONLY_CREDIT_RATINGS\n",
    ")\n",
    "from shared import stats_utils\n",
    "\n",
    "stats_utils.nan_summary(features_matrix)"
   ],
   "metadata": {
    "collapsed": false,
    "ExecuteTime": {
     "end_time": "2024-04-30T14:30:39.486526Z",
     "start_time": "2024-04-30T14:30:39.282982Z"
    }
   },
   "id": "cdea310c0e82a4aa",
   "outputs": [
    {
     "name": "stdout",
     "output_type": "stream",
     "text": [
      "Full DS size: 307511\n"
     ]
    },
    {
     "data": {
      "text/plain": [
       "            Total NaN Values  Proportion NaN (%)\n",
       "ExtSource1            173378                56.0\n",
       "ExtSource2               660                 0.0\n",
       "ExtSource3             60965                20.0"
      ],
      "text/html": [
       "<div>\n",
       "<style scoped>\n",
       "    .dataframe tbody tr th:only-of-type {\n",
       "        vertical-align: middle;\n",
       "    }\n",
       "\n",
       "    .dataframe tbody tr th {\n",
       "        vertical-align: top;\n",
       "    }\n",
       "\n",
       "    .dataframe thead th {\n",
       "        text-align: right;\n",
       "    }\n",
       "</style>\n",
       "<table border=\"1\" class=\"dataframe\">\n",
       "  <thead>\n",
       "    <tr style=\"text-align: right;\">\n",
       "      <th></th>\n",
       "      <th>Total NaN Values</th>\n",
       "      <th>Proportion NaN (%)</th>\n",
       "    </tr>\n",
       "  </thead>\n",
       "  <tbody>\n",
       "    <tr>\n",
       "      <th>ExtSource1</th>\n",
       "      <td>173378</td>\n",
       "      <td>56.0</td>\n",
       "    </tr>\n",
       "    <tr>\n",
       "      <th>ExtSource2</th>\n",
       "      <td>660</td>\n",
       "      <td>0.0</td>\n",
       "    </tr>\n",
       "    <tr>\n",
       "      <th>ExtSource3</th>\n",
       "      <td>60965</td>\n",
       "      <td>20.0</td>\n",
       "    </tr>\n",
       "  </tbody>\n",
       "</table>\n",
       "</div>"
      ]
     },
     "execution_count": 11,
     "metadata": {},
     "output_type": "execute_result"
    }
   ],
   "execution_count": 11
  },
  {
   "cell_type": "code",
   "source": [],
   "metadata": {
    "collapsed": false,
    "ExecuteTime": {
     "end_time": "2024-04-30T14:30:39.488501Z",
     "start_time": "2024-04-30T14:30:39.486526Z"
    }
   },
   "id": "37dad6ce569a8ada",
   "outputs": [],
   "execution_count": 11
  }
 ],
 "metadata": {
  "kernelspec": {
   "display_name": "Python 3",
   "language": "python",
   "name": "python3"
  },
  "language_info": {
   "codemirror_mode": {
    "name": "ipython",
    "version": 2
   },
   "file_extension": ".py",
   "mimetype": "text/x-python",
   "name": "python",
   "nbconvert_exporter": "python",
   "pygments_lexer": "ipython2",
   "version": "2.7.6"
  }
 },
 "nbformat": 4,
 "nbformat_minor": 5
}
