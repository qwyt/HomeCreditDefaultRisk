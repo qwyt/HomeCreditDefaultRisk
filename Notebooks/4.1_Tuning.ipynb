{
 "cells": [
  {
   "cell_type": "code",
   "id": "initial_id",
   "metadata": {
    "collapsed": true,
    "ExecuteTime": {
     "end_time": "2024-04-20T13:49:16.371924Z",
     "start_time": "2024-04-20T13:49:14.034759Z"
    }
   },
   "source": [
    "from itertools import chain\n",
    "from src_draft.utils import LOW_IMP_FEATURES, ZERO_IMP_FEATURES\n",
    "import shared.ml_config_core as ml_config_core\n",
    "import pandas as pd\n",
    "from shared.ml_config_core import ModelConfigsCollection\n",
    "from shared.ml_config_runner import run_tuning_for_configs_collection\n",
    "from shared.definitions import TuningResult\n",
    "\n",
    "from Draft import feature_builder_v2\n",
    "\n",
    "import importlib\n",
    "\n",
    "VERBOSE = True\n",
    "importlib.reload(feature_builder_v2)\n",
    "features_matrix = feature_builder_v2.load_datasets_and_prepare_features(drop_meta_data=True,\n",
    "                                                                        ds_type=feature_builder_v2.DatasetType.BASE)\n",
    "display(\"Distribution of Samples\")\n",
    "value_counts = features_matrix[\"TARGET\"].value_counts()\n",
    "df_value_counts = pd.DataFrame(\n",
    "    {\"Total Rows\": value_counts, \"Proportion\": value_counts / len(features_matrix)}\n",
    ")\n",
    "df_value_counts.round(2)\n",
    "transformers = [\n",
    "    # No feature engineering tuning for for rejected/accepted df\n",
    "    # ml_config_core.AcceptedRejectedDropAllButEmployment,  # Only used for testing\n",
    "]\n",
    "\n",
    "baseline_only_credit_ratings_config = {\n",
    "    # Only uses  ExtScore1/2/3\n",
    "    \"Baseline_Only_CreditRatings\": ml_config_core.ModelPipelineConfig(\n",
    "        model_config=ml_config_core.LGBMTuneAUC(),\n",
    "        transformer_config=ml_config_core.PipelineTransformerConfig(transformers),\n",
    "        data_loader_params={\n",
    "            \"drop_meta_data\": True,\n",
    "            \"ds_type\": feature_builder_v2.DatasetType.BASE_ONLY_CREDIT_RATINGS\n",
    "        })\n",
    "}\n",
    "\n",
    "baseline_only_base_feats = {\n",
    "    # Only includes base table (i.e. no aggregations from client history)\n",
    "    \"LGBM_AUC_Base_Features\": ml_config_core.ModelPipelineConfig(\n",
    "        model_config=ml_config_core.LGBMTuneAUC(),\n",
    "        transformer_config=ml_config_core.PipelineTransformerConfig(transformers),\n",
    "        data_loader_params={\n",
    "            \"drop_meta_data\": True,\n",
    "            \"ds_type\": feature_builder_v2.DatasetType.BASE,\n",
    "        }),\n",
    "}\n",
    "\n",
    "weighted_log_loss_config = {\n",
    "    # Tuned on score combined from logloss and F1 score\n",
    "    \"LGBM_Weighted_LogLoss\": ml_config_core.ModelPipelineConfig(\n",
    "        model_config=ml_config_core.LGBMTuneWeightedLogLossF1(),\n",
    "        transformer_config=ml_config_core.PipelineTransformerConfig(transformers),\n",
    "        data_loader_params={\n",
    "            \"drop_meta_data\": True,\n",
    "            \"drop_cols_post_proc\": ZERO_IMP_FEATURES + LOW_IMP_FEATURES\n",
    "        }),\n",
    "}\n",
    "\n",
    "tune_auc_config: ModelConfigsCollection = {\n",
    "    \"LGBM_AUC\": ml_config_core.ModelPipelineConfig(\n",
    "        model_config=ml_config_core.LGBMTuneAUC(),\n",
    "        transformer_config=ml_config_core.PipelineTransformerConfig(transformers),\n",
    "        data_loader_params={\n",
    "            \"drop_meta_data\": True,\n",
    "            \"ds_type\": feature_builder_v2.DatasetType.FULL,\n",
    "            \"drop_cols_post_proc\": ZERO_IMP_FEATURES + LOW_IMP_FEATURES\n",
    "        }),\n",
    "}\n",
    "\n",
    "dart_tune_auc_config: ModelConfigsCollection = {\n",
    "    \"LGBM_Dart_AUC\": ml_config_core.ModelPipelineConfig(\n",
    "        model_config=ml_config_core.LGBMDartTuneAUC(),\n",
    "        transformer_config=ml_config_core.PipelineTransformerConfig(transformers),\n",
    "        data_loader_params={\n",
    "            \"drop_meta_data\": True,\n",
    "            \"ds_type\": feature_builder_v2.DatasetType.FULL,\n",
    "            \"drop_cols_post_proc\": ZERO_IMP_FEATURES + LOW_IMP_FEATURES\n",
    "        }),\n",
    "}\n",
    "\n",
    "tune_auc_all_features_config: ModelConfigsCollection = {\n",
    "    \"LGBM_AUC_All_Features\": ml_config_core.ModelPipelineConfig(\n",
    "        model_config=ml_config_core.LGBMTuneAUC(),\n",
    "        transformer_config=ml_config_core.PipelineTransformerConfig(transformers),\n",
    "        data_loader_params={\n",
    "            \"drop_meta_data\": True,\n",
    "            \"ds_type\": feature_builder_v2.DatasetType.FULL,\n",
    "            # \"drop_cols_post_proc\": ZERO_IMP_FEATURES + LOW_IMP_FEATURES\n",
    "        }),\n",
    "}\n",
    "\n",
    "configs: ModelConfigsCollection = {\n",
    "    # **baseline_only_credit_ratings_config,\n",
    "    # **baseline_only_base_feats,\n",
    "    # **weighted_log_loss_config,\n",
    "    **dart_tune_auc_config,\n",
    "    **tune_auc_config,\n",
    "    # **tune_auc_all_features_config\n",
    "}"
   ],
   "outputs": [
    {
     "name": "stderr",
     "output_type": "stream",
     "text": [
      "C:\\Users\\Paulius\\AppData\\Local\\pypoetry\\Cache\\virtualenvs\\ppuodz-ml-4-1-dqELbViF-py3.12\\Lib\\site-packages\\sklearn\\metrics\\_scorer.py:548: FutureWarning: The `needs_threshold` and `needs_proba` parameter are deprecated in version 1.4 and will be removed in 1.6. You can either let `response_method` be `None` or set it to `predict` to preserve the same behaviour.\n",
      "  warnings.warn(\n"
     ]
    },
    {
     "name": "stdout",
     "output_type": "stream",
     "text": [
      "Full DS size: 307511\n"
     ]
    },
    {
     "data": {
      "text/plain": [
       "'Distribution of Samples'"
      ]
     },
     "metadata": {},
     "output_type": "display_data"
    },
    {
     "name": "stderr",
     "output_type": "stream",
     "text": [
      "C:\\Users\\Paulius\\AppData\\Local\\pypoetry\\Cache\\virtualenvs\\ppuodz-ml-4-1-dqELbViF-py3.12\\Lib\\site-packages\\sklearn\\metrics\\_scorer.py:548: FutureWarning: The `needs_threshold` and `needs_proba` parameter are deprecated in version 1.4 and will be removed in 1.6. You can either let `response_method` be `None` or set it to `predict` to preserve the same behaviour.\n",
      "  warnings.warn(\n"
     ]
    }
   ],
   "execution_count": 1
  },
  {
   "cell_type": "code",
   "source": "configs.keys()",
   "metadata": {
    "collapsed": false,
    "ExecuteTime": {
     "end_time": "2024-04-20T13:49:16.375570Z",
     "start_time": "2024-04-20T13:49:16.371924Z"
    }
   },
   "id": "a61836a0a428f5e2",
   "outputs": [
    {
     "data": {
      "text/plain": [
       "dict_keys(['LGBM_Dart_AUC', 'LGBM_AUC'])"
      ]
     },
     "execution_count": 2,
     "metadata": {},
     "output_type": "execute_result"
    }
   ],
   "execution_count": 2
  },
  {
   "cell_type": "code",
   "source": [],
   "metadata": {
    "collapsed": false,
    "ExecuteTime": {
     "end_time": "2024-04-20T13:49:16.377842Z",
     "start_time": "2024-04-20T13:49:16.375570Z"
    }
   },
   "id": "eed3fa27393d896b",
   "outputs": [],
   "execution_count": 2
  },
  {
   "cell_type": "code",
   "source": [
    "tuning_results = run_tuning_for_configs_collection(configs, feature_builder_v2.load_datasets_and_prepare_features)"
   ],
   "metadata": {
    "collapsed": false,
    "ExecuteTime": {
     "end_time": "2024-04-20T17:43:58.361420Z",
     "start_time": "2024-04-20T13:49:16.377842Z"
    }
   },
   "id": "4b5d63234ede2e6a",
   "outputs": [
    {
     "name": "stderr",
     "output_type": "stream",
     "text": [
      "C:\\Users\\Paulius\\AppData\\Local\\pypoetry\\Cache\\virtualenvs\\ppuodz-ml-4-1-dqELbViF-py3.12\\Lib\\site-packages\\woodwork\\type_sys\\utils.py:40: UserWarning: Could not infer format, so each element will be parsed individually, falling back to `dateutil`. To ensure parsing is consistent and as-expected, please specify a format.\n",
      "  pd.to_datetime(\n",
      "C:\\Users\\Paulius\\AppData\\Local\\pypoetry\\Cache\\virtualenvs\\ppuodz-ml-4-1-dqELbViF-py3.12\\Lib\\site-packages\\woodwork\\type_sys\\utils.py:40: UserWarning: Could not infer format, so each element will be parsed individually, falling back to `dateutil`. To ensure parsing is consistent and as-expected, please specify a format.\n",
      "  pd.to_datetime(\n",
      "C:\\Users\\Paulius\\AppData\\Local\\pypoetry\\Cache\\virtualenvs\\ppuodz-ml-4-1-dqELbViF-py3.12\\Lib\\site-packages\\woodwork\\type_sys\\utils.py:40: UserWarning: Could not infer format, so each element will be parsed individually, falling back to `dateutil`. To ensure parsing is consistent and as-expected, please specify a format.\n",
      "  pd.to_datetime(\n",
      "C:\\Users\\Paulius\\AppData\\Local\\pypoetry\\Cache\\virtualenvs\\ppuodz-ml-4-1-dqELbViF-py3.12\\Lib\\site-packages\\woodwork\\type_sys\\utils.py:40: UserWarning: Could not infer format, so each element will be parsed individually, falling back to `dateutil`. To ensure parsing is consistent and as-expected, please specify a format.\n",
      "  pd.to_datetime(\n",
      "C:\\Users\\Paulius\\AppData\\Local\\pypoetry\\Cache\\virtualenvs\\ppuodz-ml-4-1-dqELbViF-py3.12\\Lib\\site-packages\\woodwork\\type_sys\\utils.py:40: UserWarning: Could not infer format, so each element will be parsed individually, falling back to `dateutil`. To ensure parsing is consistent and as-expected, please specify a format.\n",
      "  pd.to_datetime(\n",
      "C:\\Users\\Paulius\\AppData\\Local\\pypoetry\\Cache\\virtualenvs\\ppuodz-ml-4-1-dqELbViF-py3.12\\Lib\\site-packages\\woodwork\\type_sys\\utils.py:40: UserWarning: Could not infer format, so each element will be parsed individually, falling back to `dateutil`. To ensure parsing is consistent and as-expected, please specify a format.\n",
      "  pd.to_datetime(\n",
      "C:\\Users\\Paulius\\AppData\\Local\\pypoetry\\Cache\\virtualenvs\\ppuodz-ml-4-1-dqELbViF-py3.12\\Lib\\site-packages\\woodwork\\type_sys\\utils.py:40: UserWarning: Could not infer format, so each element will be parsed individually, falling back to `dateutil`. To ensure parsing is consistent and as-expected, please specify a format.\n",
      "  pd.to_datetime(\n",
      "C:\\Users\\Paulius\\AppData\\Local\\pypoetry\\Cache\\virtualenvs\\ppuodz-ml-4-1-dqELbViF-py3.12\\Lib\\site-packages\\woodwork\\type_sys\\utils.py:40: UserWarning: Could not infer format, so each element will be parsed individually, falling back to `dateutil`. To ensure parsing is consistent and as-expected, please specify a format.\n",
      "  pd.to_datetime(\n",
      "C:\\Users\\Paulius\\AppData\\Local\\pypoetry\\Cache\\virtualenvs\\ppuodz-ml-4-1-dqELbViF-py3.12\\Lib\\site-packages\\woodwork\\type_sys\\utils.py:40: UserWarning: Could not infer format, so each element will be parsed individually, falling back to `dateutil`. To ensure parsing is consistent and as-expected, please specify a format.\n",
      "  pd.to_datetime(\n",
      "C:\\Users\\Paulius\\AppData\\Local\\pypoetry\\Cache\\virtualenvs\\ppuodz-ml-4-1-dqELbViF-py3.12\\Lib\\site-packages\\woodwork\\type_sys\\utils.py:40: UserWarning: Could not infer format, so each element will be parsed individually, falling back to `dateutil`. To ensure parsing is consistent and as-expected, please specify a format.\n",
      "  pd.to_datetime(\n",
      "C:\\Users\\Paulius\\AppData\\Local\\pypoetry\\Cache\\virtualenvs\\ppuodz-ml-4-1-dqELbViF-py3.12\\Lib\\site-packages\\woodwork\\type_sys\\utils.py:40: UserWarning: Could not infer format, so each element will be parsed individually, falling back to `dateutil`. To ensure parsing is consistent and as-expected, please specify a format.\n",
      "  pd.to_datetime(\n",
      "C:\\Users\\Paulius\\AppData\\Local\\pypoetry\\Cache\\virtualenvs\\ppuodz-ml-4-1-dqELbViF-py3.12\\Lib\\site-packages\\woodwork\\type_sys\\utils.py:40: UserWarning: Could not infer format, so each element will be parsed individually, falling back to `dateutil`. To ensure parsing is consistent and as-expected, please specify a format.\n",
      "  pd.to_datetime(\n",
      "C:\\Users\\Paulius\\AppData\\Local\\pypoetry\\Cache\\virtualenvs\\ppuodz-ml-4-1-dqELbViF-py3.12\\Lib\\site-packages\\woodwork\\type_sys\\utils.py:40: UserWarning: Could not infer format, so each element will be parsed individually, falling back to `dateutil`. To ensure parsing is consistent and as-expected, please specify a format.\n",
      "  pd.to_datetime(\n",
      "C:\\Users\\Paulius\\AppData\\Local\\pypoetry\\Cache\\virtualenvs\\ppuodz-ml-4-1-dqELbViF-py3.12\\Lib\\site-packages\\woodwork\\type_sys\\utils.py:40: UserWarning: Could not infer format, so each element will be parsed individually, falling back to `dateutil`. To ensure parsing is consistent and as-expected, please specify a format.\n",
      "  pd.to_datetime(\n",
      "C:\\Users\\Paulius\\AppData\\Local\\pypoetry\\Cache\\virtualenvs\\ppuodz-ml-4-1-dqELbViF-py3.12\\Lib\\site-packages\\woodwork\\type_sys\\utils.py:40: UserWarning: Could not infer format, so each element will be parsed individually, falling back to `dateutil`. To ensure parsing is consistent and as-expected, please specify a format.\n",
      "  pd.to_datetime(\n",
      "C:\\Users\\Paulius\\AppData\\Local\\pypoetry\\Cache\\virtualenvs\\ppuodz-ml-4-1-dqELbViF-py3.12\\Lib\\site-packages\\woodwork\\type_sys\\utils.py:40: UserWarning: Could not infer format, so each element will be parsed individually, falling back to `dateutil`. To ensure parsing is consistent and as-expected, please specify a format.\n",
      "  pd.to_datetime(\n",
      "C:\\Users\\Paulius\\AppData\\Local\\pypoetry\\Cache\\virtualenvs\\ppuodz-ml-4-1-dqELbViF-py3.12\\Lib\\site-packages\\woodwork\\type_sys\\utils.py:40: UserWarning: Could not infer format, so each element will be parsed individually, falling back to `dateutil`. To ensure parsing is consistent and as-expected, please specify a format.\n",
      "  pd.to_datetime(\n",
      "C:\\Users\\Paulius\\AppData\\Local\\pypoetry\\Cache\\virtualenvs\\ppuodz-ml-4-1-dqELbViF-py3.12\\Lib\\site-packages\\woodwork\\type_sys\\utils.py:40: UserWarning: Could not infer format, so each element will be parsed individually, falling back to `dateutil`. To ensure parsing is consistent and as-expected, please specify a format.\n",
      "  pd.to_datetime(\n",
      "C:\\Users\\Paulius\\AppData\\Local\\pypoetry\\Cache\\virtualenvs\\ppuodz-ml-4-1-dqELbViF-py3.12\\Lib\\site-packages\\woodwork\\type_sys\\utils.py:40: UserWarning: Could not infer format, so each element will be parsed individually, falling back to `dateutil`. To ensure parsing is consistent and as-expected, please specify a format.\n",
      "  pd.to_datetime(\n",
      "C:\\Users\\Paulius\\AppData\\Local\\pypoetry\\Cache\\virtualenvs\\ppuodz-ml-4-1-dqELbViF-py3.12\\Lib\\site-packages\\woodwork\\type_sys\\utils.py:40: UserWarning: Could not infer format, so each element will be parsed individually, falling back to `dateutil`. To ensure parsing is consistent and as-expected, please specify a format.\n",
      "  pd.to_datetime(\n",
      "C:\\Users\\Paulius\\AppData\\Local\\pypoetry\\Cache\\virtualenvs\\ppuodz-ml-4-1-dqELbViF-py3.12\\Lib\\site-packages\\woodwork\\type_sys\\utils.py:40: UserWarning: Could not infer format, so each element will be parsed individually, falling back to `dateutil`. To ensure parsing is consistent and as-expected, please specify a format.\n",
      "  pd.to_datetime(\n",
      "C:\\Users\\Paulius\\AppData\\Local\\pypoetry\\Cache\\virtualenvs\\ppuodz-ml-4-1-dqELbViF-py3.12\\Lib\\site-packages\\woodwork\\type_sys\\utils.py:40: UserWarning: Could not infer format, so each element will be parsed individually, falling back to `dateutil`. To ensure parsing is consistent and as-expected, please specify a format.\n",
      "  pd.to_datetime(\n",
      "C:\\Users\\Paulius\\AppData\\Local\\pypoetry\\Cache\\virtualenvs\\ppuodz-ml-4-1-dqELbViF-py3.12\\Lib\\site-packages\\woodwork\\type_sys\\utils.py:40: UserWarning: Could not infer format, so each element will be parsed individually, falling back to `dateutil`. To ensure parsing is consistent and as-expected, please specify a format.\n",
      "  pd.to_datetime(\n",
      "C:\\Users\\Paulius\\AppData\\Local\\pypoetry\\Cache\\virtualenvs\\ppuodz-ml-4-1-dqELbViF-py3.12\\Lib\\site-packages\\woodwork\\type_sys\\utils.py:40: UserWarning: Could not infer format, so each element will be parsed individually, falling back to `dateutil`. To ensure parsing is consistent and as-expected, please specify a format.\n",
      "  pd.to_datetime(\n",
      "C:\\Users\\Paulius\\AppData\\Local\\pypoetry\\Cache\\virtualenvs\\ppuodz-ml-4-1-dqELbViF-py3.12\\Lib\\site-packages\\woodwork\\type_sys\\utils.py:40: UserWarning: Could not infer format, so each element will be parsed individually, falling back to `dateutil`. To ensure parsing is consistent and as-expected, please specify a format.\n",
      "  pd.to_datetime(\n",
      "C:\\Users\\Paulius\\AppData\\Local\\pypoetry\\Cache\\virtualenvs\\ppuodz-ml-4-1-dqELbViF-py3.12\\Lib\\site-packages\\woodwork\\type_sys\\utils.py:40: UserWarning: Could not infer format, so each element will be parsed individually, falling back to `dateutil`. To ensure parsing is consistent and as-expected, please specify a format.\n",
      "  pd.to_datetime(\n",
      "C:\\Users\\Paulius\\AppData\\Local\\pypoetry\\Cache\\virtualenvs\\ppuodz-ml-4-1-dqELbViF-py3.12\\Lib\\site-packages\\woodwork\\type_sys\\utils.py:40: UserWarning: Could not infer format, so each element will be parsed individually, falling back to `dateutil`. To ensure parsing is consistent and as-expected, please specify a format.\n",
      "  pd.to_datetime(\n",
      "C:\\Users\\Paulius\\AppData\\Local\\pypoetry\\Cache\\virtualenvs\\ppuodz-ml-4-1-dqELbViF-py3.12\\Lib\\site-packages\\woodwork\\type_sys\\utils.py:40: UserWarning: Could not infer format, so each element will be parsed individually, falling back to `dateutil`. To ensure parsing is consistent and as-expected, please specify a format.\n",
      "  pd.to_datetime(\n",
      "C:\\Users\\Paulius\\AppData\\Local\\pypoetry\\Cache\\virtualenvs\\ppuodz-ml-4-1-dqELbViF-py3.12\\Lib\\site-packages\\woodwork\\type_sys\\utils.py:40: UserWarning: Could not infer format, so each element will be parsed individually, falling back to `dateutil`. To ensure parsing is consistent and as-expected, please specify a format.\n",
      "  pd.to_datetime(\n",
      "C:\\Users\\Paulius\\AppData\\Local\\pypoetry\\Cache\\virtualenvs\\ppuodz-ml-4-1-dqELbViF-py3.12\\Lib\\site-packages\\woodwork\\type_sys\\utils.py:40: UserWarning: Could not infer format, so each element will be parsed individually, falling back to `dateutil`. To ensure parsing is consistent and as-expected, please specify a format.\n",
      "  pd.to_datetime(\n",
      "C:\\Users\\Paulius\\AppData\\Local\\pypoetry\\Cache\\virtualenvs\\ppuodz-ml-4-1-dqELbViF-py3.12\\Lib\\site-packages\\woodwork\\type_sys\\utils.py:40: UserWarning: Could not infer format, so each element will be parsed individually, falling back to `dateutil`. To ensure parsing is consistent and as-expected, please specify a format.\n",
      "  pd.to_datetime(\n",
      "C:\\Users\\Paulius\\AppData\\Local\\pypoetry\\Cache\\virtualenvs\\ppuodz-ml-4-1-dqELbViF-py3.12\\Lib\\site-packages\\woodwork\\type_sys\\utils.py:40: UserWarning: Could not infer format, so each element will be parsed individually, falling back to `dateutil`. To ensure parsing is consistent and as-expected, please specify a format.\n",
      "  pd.to_datetime(\n",
      "C:\\Users\\Paulius\\AppData\\Local\\pypoetry\\Cache\\virtualenvs\\ppuodz-ml-4-1-dqELbViF-py3.12\\Lib\\site-packages\\featuretools\\entityset\\entityset.py:1914: UserWarning: index SK_BUREAU_ID not found in dataframe, creating new integer column\n",
      "  warnings.warn(\n",
      "C:\\Users\\Paulius\\AppData\\Local\\pypoetry\\Cache\\virtualenvs\\ppuodz-ml-4-1-dqELbViF-py3.12\\Lib\\site-packages\\woodwork\\type_sys\\utils.py:40: UserWarning: Could not infer format, so each element will be parsed individually, falling back to `dateutil`. To ensure parsing is consistent and as-expected, please specify a format.\n",
      "  pd.to_datetime(\n",
      "C:\\Users\\Paulius\\AppData\\Local\\pypoetry\\Cache\\virtualenvs\\ppuodz-ml-4-1-dqELbViF-py3.12\\Lib\\site-packages\\woodwork\\type_sys\\utils.py:40: UserWarning: Could not infer format, so each element will be parsed individually, falling back to `dateutil`. To ensure parsing is consistent and as-expected, please specify a format.\n",
      "  pd.to_datetime(\n",
      "C:\\Users\\Paulius\\AppData\\Local\\pypoetry\\Cache\\virtualenvs\\ppuodz-ml-4-1-dqELbViF-py3.12\\Lib\\site-packages\\woodwork\\type_sys\\utils.py:40: UserWarning: Could not infer format, so each element will be parsed individually, falling back to `dateutil`. To ensure parsing is consistent and as-expected, please specify a format.\n",
      "  pd.to_datetime(\n",
      "C:\\Users\\Paulius\\AppData\\Local\\pypoetry\\Cache\\virtualenvs\\ppuodz-ml-4-1-dqELbViF-py3.12\\Lib\\site-packages\\woodwork\\type_sys\\utils.py:40: UserWarning: Could not infer format, so each element will be parsed individually, falling back to `dateutil`. To ensure parsing is consistent and as-expected, please specify a format.\n",
      "  pd.to_datetime(\n",
      "C:\\Users\\Paulius\\AppData\\Local\\pypoetry\\Cache\\virtualenvs\\ppuodz-ml-4-1-dqELbViF-py3.12\\Lib\\site-packages\\woodwork\\type_sys\\utils.py:40: UserWarning: Could not infer format, so each element will be parsed individually, falling back to `dateutil`. To ensure parsing is consistent and as-expected, please specify a format.\n",
      "  pd.to_datetime(\n",
      "C:\\Users\\Paulius\\AppData\\Local\\pypoetry\\Cache\\virtualenvs\\ppuodz-ml-4-1-dqELbViF-py3.12\\Lib\\site-packages\\woodwork\\type_sys\\utils.py:40: UserWarning: Could not infer format, so each element will be parsed individually, falling back to `dateutil`. To ensure parsing is consistent and as-expected, please specify a format.\n",
      "  pd.to_datetime(\n",
      "C:\\Users\\Paulius\\AppData\\Local\\pypoetry\\Cache\\virtualenvs\\ppuodz-ml-4-1-dqELbViF-py3.12\\Lib\\site-packages\\featuretools\\computational_backends\\feature_set_calculator.py:828: FutureWarning: The provided callable <function mean at 0x0000020748304D60> is currently using SeriesGroupBy.mean. In a future version of pandas, the provided callable will be used directly. To keep current behavior pass the string \"mean\" instead.\n",
      "  ).agg(to_agg)\n",
      "C:\\Users\\Paulius\\AppData\\Local\\pypoetry\\Cache\\virtualenvs\\ppuodz-ml-4-1-dqELbViF-py3.12\\Lib\\site-packages\\featuretools\\computational_backends\\feature_set_calculator.py:828: FutureWarning: The provided callable <function min at 0x00000207483044A0> is currently using SeriesGroupBy.min. In a future version of pandas, the provided callable will be used directly. To keep current behavior pass the string \"min\" instead.\n",
      "  ).agg(to_agg)\n",
      "C:\\Users\\Paulius\\AppData\\Local\\pypoetry\\Cache\\virtualenvs\\ppuodz-ml-4-1-dqELbViF-py3.12\\Lib\\site-packages\\featuretools\\computational_backends\\feature_set_calculator.py:828: FutureWarning: The provided callable <function max at 0x0000020748304360> is currently using SeriesGroupBy.max. In a future version of pandas, the provided callable will be used directly. To keep current behavior pass the string \"max\" instead.\n",
      "  ).agg(to_agg)\n"
     ]
    },
    {
     "name": "stdout",
     "output_type": "stream",
     "text": [
      "Appending previous history\n"
     ]
    },
    {
     "name": "stderr",
     "output_type": "stream",
     "text": [
      "[I 2024-04-20 16:49:35,795] A new study created in memory with name: no-name-6b22f793-987e-47dc-a5ae-322642fa7e52\n"
     ]
    },
    {
     "name": "stdout",
     "output_type": "stream",
     "text": [
      "drop drop_cols_post_proc: 227\n",
      "after drop_cols_post_proc: 121\n",
      "Full DS size: 307511\n",
      "Tunning: - transformers: transformers: 0\n",
      " total options: 0\n",
      "[]\n",
      "search_grid:\n",
      "{}\n",
      "\n",
      " - model: LGBM_Dart_AUC n_iters=10 with:\n",
      " {'model__n_estimators': Range(50, 1000, 50, int), 'model__learning_rate': Range(0.01, 0.3, 0.01, float), 'model__max_depth': Range(3, 11, 1, int), 'model__num_leaves': Range(8, 256, 8, int), 'model__min_gain_to_split': Range(0.0, 15.0, 0.5, float), 'model__min_data_in_leaf': Range(0, 3000, 100, int), 'model__lambda_l1': Range(0, 110, 5, int), 'model__lambda_l2': Range(0, 110, 5, int), 'model__bagging_fraction': Range(0.2, 1.0, 0.1, float), 'model__feature_fraction': Range(0.2, 1.0, 0.1, float), 'model__max_bin': Range(50, 500, 25, int)}\n"
     ]
    },
    {
     "name": "stderr",
     "output_type": "stream",
     "text": [
      "C:\\Users\\Paulius\\AppData\\Local\\pypoetry\\Cache\\virtualenvs\\ppuodz-ml-4-1-dqELbViF-py3.12\\Lib\\site-packages\\lightgbm\\callback.py:325: UserWarning: Early stopping is not available in dart mode\n",
      "  _log_warning('Early stopping is not available in dart mode')\n"
     ]
    },
    {
     "name": "stdout",
     "output_type": "stream",
     "text": [
      "Fold: Tuning: n_train=263580, eval_set=43931\n"
     ]
    },
    {
     "name": "stderr",
     "output_type": "stream",
     "text": [
      "C:\\Users\\Paulius\\AppData\\Local\\pypoetry\\Cache\\virtualenvs\\ppuodz-ml-4-1-dqELbViF-py3.12\\Lib\\site-packages\\lightgbm\\callback.py:325: UserWarning: Early stopping is not available in dart mode\n",
      "  _log_warning('Early stopping is not available in dart mode')\n"
     ]
    },
    {
     "name": "stdout",
     "output_type": "stream",
     "text": [
      "Fold: Tuning: n_train=263581, eval_set=43930\n"
     ]
    },
    {
     "name": "stderr",
     "output_type": "stream",
     "text": [
      "C:\\Users\\Paulius\\AppData\\Local\\pypoetry\\Cache\\virtualenvs\\ppuodz-ml-4-1-dqELbViF-py3.12\\Lib\\site-packages\\lightgbm\\callback.py:325: UserWarning: Early stopping is not available in dart mode\n",
      "  _log_warning('Early stopping is not available in dart mode')\n"
     ]
    },
    {
     "name": "stdout",
     "output_type": "stream",
     "text": [
      "Fold: Tuning: n_train=263581, eval_set=43930\n"
     ]
    },
    {
     "name": "stderr",
     "output_type": "stream",
     "text": [
      "C:\\Users\\Paulius\\AppData\\Local\\pypoetry\\Cache\\virtualenvs\\ppuodz-ml-4-1-dqELbViF-py3.12\\Lib\\site-packages\\lightgbm\\callback.py:325: UserWarning: Early stopping is not available in dart mode\n",
      "  _log_warning('Early stopping is not available in dart mode')\n"
     ]
    },
    {
     "name": "stdout",
     "output_type": "stream",
     "text": [
      "Fold: Tuning: n_train=263581, eval_set=43930\n"
     ]
    },
    {
     "name": "stderr",
     "output_type": "stream",
     "text": [
      "C:\\Users\\Paulius\\AppData\\Local\\pypoetry\\Cache\\virtualenvs\\ppuodz-ml-4-1-dqELbViF-py3.12\\Lib\\site-packages\\lightgbm\\callback.py:325: UserWarning: Early stopping is not available in dart mode\n",
      "  _log_warning('Early stopping is not available in dart mode')\n"
     ]
    },
    {
     "name": "stdout",
     "output_type": "stream",
     "text": [
      "Fold: Tuning: n_train=263581, eval_set=43930\n"
     ]
    },
    {
     "name": "stderr",
     "output_type": "stream",
     "text": [
      "C:\\Users\\Paulius\\AppData\\Local\\pypoetry\\Cache\\virtualenvs\\ppuodz-ml-4-1-dqELbViF-py3.12\\Lib\\site-packages\\lightgbm\\callback.py:325: UserWarning: Early stopping is not available in dart mode\n",
      "  _log_warning('Early stopping is not available in dart mode')\n"
     ]
    },
    {
     "name": "stdout",
     "output_type": "stream",
     "text": [
      "Fold: Tuning: n_train=263581, eval_set=43930\n"
     ]
    },
    {
     "name": "stderr",
     "output_type": "stream",
     "text": [
      "C:\\Users\\Paulius\\AppData\\Local\\pypoetry\\Cache\\virtualenvs\\ppuodz-ml-4-1-dqELbViF-py3.12\\Lib\\site-packages\\lightgbm\\callback.py:325: UserWarning: Early stopping is not available in dart mode\n",
      "  _log_warning('Early stopping is not available in dart mode')\n"
     ]
    },
    {
     "name": "stdout",
     "output_type": "stream",
     "text": [
      "Fold: Tuning: n_train=263581, eval_set=43930\n",
      "Tune: val_score:0.7683, std_test_score:0.00399 train_set_score:0.8119\n",
      "folds val/train: [0.768, 0.7656, 0.7652, 0.7712, 0.7768, 0.7668, 0.7649] / [0.8123, 0.8114, 0.8129, 0.8113, 0.8111, 0.8118, 0.8125], mean fold time: 3.53\n"
     ]
    },
    {
     "name": "stderr",
     "output_type": "stream",
     "text": [
      "[I 2024-04-20 16:50:01,246] Trial 0 finished with value: 0.7683493098292107 and parameters: {'model__n_estimators': 150, 'model__learning_rate': 0.2, 'model__max_depth': 9, 'model__num_leaves': 32, 'model__min_gain_to_split': 7.0, 'model__min_data_in_leaf': 200, 'model__lambda_l1': 0, 'model__lambda_l2': 35, 'model__bagging_fraction': 0.8, 'model__feature_fraction': 0.6000000000000001, 'model__max_bin': 75}. Best is trial 0 with value: 0.7683493098292107.\n",
      "C:\\Users\\Paulius\\AppData\\Local\\pypoetry\\Cache\\virtualenvs\\ppuodz-ml-4-1-dqELbViF-py3.12\\Lib\\site-packages\\lightgbm\\callback.py:325: UserWarning: Early stopping is not available in dart mode\n",
      "  _log_warning('Early stopping is not available in dart mode')\n"
     ]
    },
    {
     "name": "stdout",
     "output_type": "stream",
     "text": [
      "Fold: Tuning: n_train=263580, eval_set=43931\n"
     ]
    },
    {
     "name": "stderr",
     "output_type": "stream",
     "text": [
      "C:\\Users\\Paulius\\AppData\\Local\\pypoetry\\Cache\\virtualenvs\\ppuodz-ml-4-1-dqELbViF-py3.12\\Lib\\site-packages\\lightgbm\\callback.py:325: UserWarning: Early stopping is not available in dart mode\n",
      "  _log_warning('Early stopping is not available in dart mode')\n"
     ]
    },
    {
     "name": "stdout",
     "output_type": "stream",
     "text": [
      "Fold: Tuning: n_train=263581, eval_set=43930\n"
     ]
    },
    {
     "name": "stderr",
     "output_type": "stream",
     "text": [
      "C:\\Users\\Paulius\\AppData\\Local\\pypoetry\\Cache\\virtualenvs\\ppuodz-ml-4-1-dqELbViF-py3.12\\Lib\\site-packages\\lightgbm\\callback.py:325: UserWarning: Early stopping is not available in dart mode\n",
      "  _log_warning('Early stopping is not available in dart mode')\n"
     ]
    },
    {
     "name": "stdout",
     "output_type": "stream",
     "text": [
      "Fold: Tuning: n_train=263581, eval_set=43930\n"
     ]
    },
    {
     "name": "stderr",
     "output_type": "stream",
     "text": [
      "C:\\Users\\Paulius\\AppData\\Local\\pypoetry\\Cache\\virtualenvs\\ppuodz-ml-4-1-dqELbViF-py3.12\\Lib\\site-packages\\lightgbm\\callback.py:325: UserWarning: Early stopping is not available in dart mode\n",
      "  _log_warning('Early stopping is not available in dart mode')\n"
     ]
    },
    {
     "name": "stdout",
     "output_type": "stream",
     "text": [
      "Fold: Tuning: n_train=263581, eval_set=43930\n"
     ]
    },
    {
     "name": "stderr",
     "output_type": "stream",
     "text": [
      "C:\\Users\\Paulius\\AppData\\Local\\pypoetry\\Cache\\virtualenvs\\ppuodz-ml-4-1-dqELbViF-py3.12\\Lib\\site-packages\\lightgbm\\callback.py:325: UserWarning: Early stopping is not available in dart mode\n",
      "  _log_warning('Early stopping is not available in dart mode')\n"
     ]
    },
    {
     "name": "stdout",
     "output_type": "stream",
     "text": [
      "Fold: Tuning: n_train=263581, eval_set=43930\n"
     ]
    },
    {
     "name": "stderr",
     "output_type": "stream",
     "text": [
      "C:\\Users\\Paulius\\AppData\\Local\\pypoetry\\Cache\\virtualenvs\\ppuodz-ml-4-1-dqELbViF-py3.12\\Lib\\site-packages\\lightgbm\\callback.py:325: UserWarning: Early stopping is not available in dart mode\n",
      "  _log_warning('Early stopping is not available in dart mode')\n"
     ]
    },
    {
     "name": "stdout",
     "output_type": "stream",
     "text": [
      "Fold: Tuning: n_train=263581, eval_set=43930\n"
     ]
    },
    {
     "name": "stderr",
     "output_type": "stream",
     "text": [
      "C:\\Users\\Paulius\\AppData\\Local\\pypoetry\\Cache\\virtualenvs\\ppuodz-ml-4-1-dqELbViF-py3.12\\Lib\\site-packages\\lightgbm\\callback.py:325: UserWarning: Early stopping is not available in dart mode\n",
      "  _log_warning('Early stopping is not available in dart mode')\n"
     ]
    },
    {
     "name": "stdout",
     "output_type": "stream",
     "text": [
      "Fold: Tuning: n_train=263581, eval_set=43930\n",
      "Tune: val_score:0.7634, std_test_score:0.00390 train_set_score:0.8000\n",
      "folds val/train: [0.7626, 0.7601, 0.7613, 0.768, 0.7707, 0.7613, 0.7599] / [0.7996, 0.7997, 0.8006, 0.7998, 0.799, 0.8001, 0.8008], mean fold time: 1.83\n"
     ]
    },
    {
     "name": "stderr",
     "output_type": "stream",
     "text": [
      "[I 2024-04-20 16:50:14,847] Trial 1 finished with value: 0.7633990277468267 and parameters: {'model__n_estimators': 50, 'model__learning_rate': 0.22, 'model__max_depth': 11, 'model__num_leaves': 48, 'model__min_gain_to_split': 6.0, 'model__min_data_in_leaf': 2200, 'model__lambda_l1': 55, 'model__lambda_l2': 65, 'model__bagging_fraction': 0.5, 'model__feature_fraction': 1.0, 'model__max_bin': 375}. Best is trial 0 with value: 0.7683493098292107.\n",
      "C:\\Users\\Paulius\\AppData\\Local\\pypoetry\\Cache\\virtualenvs\\ppuodz-ml-4-1-dqELbViF-py3.12\\Lib\\site-packages\\lightgbm\\callback.py:325: UserWarning: Early stopping is not available in dart mode\n",
      "  _log_warning('Early stopping is not available in dart mode')\n"
     ]
    },
    {
     "name": "stdout",
     "output_type": "stream",
     "text": [
      "Fold: Tuning: n_train=263580, eval_set=43931\n"
     ]
    },
    {
     "name": "stderr",
     "output_type": "stream",
     "text": [
      "C:\\Users\\Paulius\\AppData\\Local\\pypoetry\\Cache\\virtualenvs\\ppuodz-ml-4-1-dqELbViF-py3.12\\Lib\\site-packages\\lightgbm\\callback.py:325: UserWarning: Early stopping is not available in dart mode\n",
      "  _log_warning('Early stopping is not available in dart mode')\n"
     ]
    },
    {
     "name": "stdout",
     "output_type": "stream",
     "text": [
      "Fold: Tuning: n_train=263581, eval_set=43930\n"
     ]
    },
    {
     "name": "stderr",
     "output_type": "stream",
     "text": [
      "C:\\Users\\Paulius\\AppData\\Local\\pypoetry\\Cache\\virtualenvs\\ppuodz-ml-4-1-dqELbViF-py3.12\\Lib\\site-packages\\lightgbm\\callback.py:325: UserWarning: Early stopping is not available in dart mode\n",
      "  _log_warning('Early stopping is not available in dart mode')\n"
     ]
    },
    {
     "name": "stdout",
     "output_type": "stream",
     "text": [
      "Fold: Tuning: n_train=263581, eval_set=43930\n"
     ]
    },
    {
     "name": "stderr",
     "output_type": "stream",
     "text": [
      "C:\\Users\\Paulius\\AppData\\Local\\pypoetry\\Cache\\virtualenvs\\ppuodz-ml-4-1-dqELbViF-py3.12\\Lib\\site-packages\\lightgbm\\callback.py:325: UserWarning: Early stopping is not available in dart mode\n",
      "  _log_warning('Early stopping is not available in dart mode')\n"
     ]
    },
    {
     "name": "stdout",
     "output_type": "stream",
     "text": [
      "Fold: Tuning: n_train=263581, eval_set=43930\n"
     ]
    },
    {
     "name": "stderr",
     "output_type": "stream",
     "text": [
      "C:\\Users\\Paulius\\AppData\\Local\\pypoetry\\Cache\\virtualenvs\\ppuodz-ml-4-1-dqELbViF-py3.12\\Lib\\site-packages\\lightgbm\\callback.py:325: UserWarning: Early stopping is not available in dart mode\n",
      "  _log_warning('Early stopping is not available in dart mode')\n"
     ]
    },
    {
     "name": "stdout",
     "output_type": "stream",
     "text": [
      "Fold: Tuning: n_train=263581, eval_set=43930\n"
     ]
    },
    {
     "name": "stderr",
     "output_type": "stream",
     "text": [
      "C:\\Users\\Paulius\\AppData\\Local\\pypoetry\\Cache\\virtualenvs\\ppuodz-ml-4-1-dqELbViF-py3.12\\Lib\\site-packages\\lightgbm\\callback.py:325: UserWarning: Early stopping is not available in dart mode\n",
      "  _log_warning('Early stopping is not available in dart mode')\n"
     ]
    },
    {
     "name": "stdout",
     "output_type": "stream",
     "text": [
      "Fold: Tuning: n_train=263581, eval_set=43930\n"
     ]
    },
    {
     "name": "stderr",
     "output_type": "stream",
     "text": [
      "C:\\Users\\Paulius\\AppData\\Local\\pypoetry\\Cache\\virtualenvs\\ppuodz-ml-4-1-dqELbViF-py3.12\\Lib\\site-packages\\lightgbm\\callback.py:325: UserWarning: Early stopping is not available in dart mode\n",
      "  _log_warning('Early stopping is not available in dart mode')\n"
     ]
    },
    {
     "name": "stdout",
     "output_type": "stream",
     "text": [
      "Fold: Tuning: n_train=263581, eval_set=43930\n",
      "Tune: val_score:0.7712, std_test_score:0.00363 train_set_score:0.7860\n",
      "folds val/train: [0.7705, 0.767, 0.7687, 0.7738, 0.7783, 0.7722, 0.7681] / [0.7863, 0.786, 0.7864, 0.7858, 0.7851, 0.7857, 0.7868], mean fold time: 16.17\n"
     ]
    },
    {
     "name": "stderr",
     "output_type": "stream",
     "text": [
      "[I 2024-04-20 16:52:08,797] Trial 2 finished with value: 0.7712289219743703 and parameters: {'model__n_estimators': 950, 'model__learning_rate': 0.13, 'model__max_depth': 3, 'model__num_leaves': 112, 'model__min_gain_to_split': 15.0, 'model__min_data_in_leaf': 800, 'model__lambda_l1': 75, 'model__lambda_l2': 75, 'model__bagging_fraction': 0.2, 'model__feature_fraction': 0.2, 'model__max_bin': 375}. Best is trial 2 with value: 0.7712289219743703.\n",
      "C:\\Users\\Paulius\\AppData\\Local\\pypoetry\\Cache\\virtualenvs\\ppuodz-ml-4-1-dqELbViF-py3.12\\Lib\\site-packages\\lightgbm\\callback.py:325: UserWarning: Early stopping is not available in dart mode\n",
      "  _log_warning('Early stopping is not available in dart mode')\n"
     ]
    },
    {
     "name": "stdout",
     "output_type": "stream",
     "text": [
      "Fold: Tuning: n_train=263580, eval_set=43931\n"
     ]
    },
    {
     "name": "stderr",
     "output_type": "stream",
     "text": [
      "C:\\Users\\Paulius\\AppData\\Local\\pypoetry\\Cache\\virtualenvs\\ppuodz-ml-4-1-dqELbViF-py3.12\\Lib\\site-packages\\lightgbm\\callback.py:325: UserWarning: Early stopping is not available in dart mode\n",
      "  _log_warning('Early stopping is not available in dart mode')\n"
     ]
    },
    {
     "name": "stdout",
     "output_type": "stream",
     "text": [
      "Fold: Tuning: n_train=263581, eval_set=43930\n"
     ]
    },
    {
     "name": "stderr",
     "output_type": "stream",
     "text": [
      "C:\\Users\\Paulius\\AppData\\Local\\pypoetry\\Cache\\virtualenvs\\ppuodz-ml-4-1-dqELbViF-py3.12\\Lib\\site-packages\\lightgbm\\callback.py:325: UserWarning: Early stopping is not available in dart mode\n",
      "  _log_warning('Early stopping is not available in dart mode')\n"
     ]
    },
    {
     "name": "stdout",
     "output_type": "stream",
     "text": [
      "Fold: Tuning: n_train=263581, eval_set=43930\n"
     ]
    },
    {
     "name": "stderr",
     "output_type": "stream",
     "text": [
      "C:\\Users\\Paulius\\AppData\\Local\\pypoetry\\Cache\\virtualenvs\\ppuodz-ml-4-1-dqELbViF-py3.12\\Lib\\site-packages\\lightgbm\\callback.py:325: UserWarning: Early stopping is not available in dart mode\n",
      "  _log_warning('Early stopping is not available in dart mode')\n"
     ]
    },
    {
     "name": "stdout",
     "output_type": "stream",
     "text": [
      "Fold: Tuning: n_train=263581, eval_set=43930\n"
     ]
    },
    {
     "name": "stderr",
     "output_type": "stream",
     "text": [
      "C:\\Users\\Paulius\\AppData\\Local\\pypoetry\\Cache\\virtualenvs\\ppuodz-ml-4-1-dqELbViF-py3.12\\Lib\\site-packages\\lightgbm\\callback.py:325: UserWarning: Early stopping is not available in dart mode\n",
      "  _log_warning('Early stopping is not available in dart mode')\n"
     ]
    },
    {
     "name": "stdout",
     "output_type": "stream",
     "text": [
      "Fold: Tuning: n_train=263581, eval_set=43930\n"
     ]
    },
    {
     "name": "stderr",
     "output_type": "stream",
     "text": [
      "C:\\Users\\Paulius\\AppData\\Local\\pypoetry\\Cache\\virtualenvs\\ppuodz-ml-4-1-dqELbViF-py3.12\\Lib\\site-packages\\lightgbm\\callback.py:325: UserWarning: Early stopping is not available in dart mode\n",
      "  _log_warning('Early stopping is not available in dart mode')\n"
     ]
    },
    {
     "name": "stdout",
     "output_type": "stream",
     "text": [
      "Fold: Tuning: n_train=263581, eval_set=43930\n"
     ]
    },
    {
     "name": "stderr",
     "output_type": "stream",
     "text": [
      "C:\\Users\\Paulius\\AppData\\Local\\pypoetry\\Cache\\virtualenvs\\ppuodz-ml-4-1-dqELbViF-py3.12\\Lib\\site-packages\\lightgbm\\callback.py:325: UserWarning: Early stopping is not available in dart mode\n",
      "  _log_warning('Early stopping is not available in dart mode')\n"
     ]
    },
    {
     "name": "stdout",
     "output_type": "stream",
     "text": [
      "Fold: Tuning: n_train=263581, eval_set=43930\n",
      "Tune: val_score:0.7638, std_test_score:0.00356 train_set_score:0.7801\n",
      "folds val/train: [0.7649, 0.7604, 0.7612, 0.7665, 0.7709, 0.7616, 0.7613] / [0.7801, 0.7805, 0.7808, 0.7798, 0.7787, 0.78, 0.7808], mean fold time: 7.35\n"
     ]
    },
    {
     "name": "stderr",
     "output_type": "stream",
     "text": [
      "[I 2024-04-20 16:53:01,002] Trial 3 finished with value: 0.7638279684925691 and parameters: {'model__n_estimators': 400, 'model__learning_rate': 0.09999999999999999, 'model__max_depth': 4, 'model__num_leaves': 168, 'model__min_gain_to_split': 11.5, 'model__min_data_in_leaf': 2400, 'model__lambda_l1': 65, 'model__lambda_l2': 110, 'model__bagging_fraction': 0.4, 'model__feature_fraction': 0.6000000000000001, 'model__max_bin': 225}. Best is trial 2 with value: 0.7712289219743703.\n",
      "C:\\Users\\Paulius\\AppData\\Local\\pypoetry\\Cache\\virtualenvs\\ppuodz-ml-4-1-dqELbViF-py3.12\\Lib\\site-packages\\lightgbm\\callback.py:325: UserWarning: Early stopping is not available in dart mode\n",
      "  _log_warning('Early stopping is not available in dart mode')\n"
     ]
    },
    {
     "name": "stdout",
     "output_type": "stream",
     "text": [
      "Fold: Tuning: n_train=263580, eval_set=43931\n"
     ]
    },
    {
     "name": "stderr",
     "output_type": "stream",
     "text": [
      "C:\\Users\\Paulius\\AppData\\Local\\pypoetry\\Cache\\virtualenvs\\ppuodz-ml-4-1-dqELbViF-py3.12\\Lib\\site-packages\\lightgbm\\callback.py:325: UserWarning: Early stopping is not available in dart mode\n",
      "  _log_warning('Early stopping is not available in dart mode')\n"
     ]
    },
    {
     "name": "stdout",
     "output_type": "stream",
     "text": [
      "Fold: Tuning: n_train=263581, eval_set=43930\n"
     ]
    },
    {
     "name": "stderr",
     "output_type": "stream",
     "text": [
      "C:\\Users\\Paulius\\AppData\\Local\\pypoetry\\Cache\\virtualenvs\\ppuodz-ml-4-1-dqELbViF-py3.12\\Lib\\site-packages\\lightgbm\\callback.py:325: UserWarning: Early stopping is not available in dart mode\n",
      "  _log_warning('Early stopping is not available in dart mode')\n"
     ]
    },
    {
     "name": "stdout",
     "output_type": "stream",
     "text": [
      "Fold: Tuning: n_train=263581, eval_set=43930\n"
     ]
    },
    {
     "name": "stderr",
     "output_type": "stream",
     "text": [
      "C:\\Users\\Paulius\\AppData\\Local\\pypoetry\\Cache\\virtualenvs\\ppuodz-ml-4-1-dqELbViF-py3.12\\Lib\\site-packages\\lightgbm\\callback.py:325: UserWarning: Early stopping is not available in dart mode\n",
      "  _log_warning('Early stopping is not available in dart mode')\n"
     ]
    },
    {
     "name": "stdout",
     "output_type": "stream",
     "text": [
      "Fold: Tuning: n_train=263581, eval_set=43930\n"
     ]
    },
    {
     "name": "stderr",
     "output_type": "stream",
     "text": [
      "C:\\Users\\Paulius\\AppData\\Local\\pypoetry\\Cache\\virtualenvs\\ppuodz-ml-4-1-dqELbViF-py3.12\\Lib\\site-packages\\lightgbm\\callback.py:325: UserWarning: Early stopping is not available in dart mode\n",
      "  _log_warning('Early stopping is not available in dart mode')\n"
     ]
    },
    {
     "name": "stdout",
     "output_type": "stream",
     "text": [
      "Fold: Tuning: n_train=263581, eval_set=43930\n"
     ]
    },
    {
     "name": "stderr",
     "output_type": "stream",
     "text": [
      "C:\\Users\\Paulius\\AppData\\Local\\pypoetry\\Cache\\virtualenvs\\ppuodz-ml-4-1-dqELbViF-py3.12\\Lib\\site-packages\\lightgbm\\callback.py:325: UserWarning: Early stopping is not available in dart mode\n",
      "  _log_warning('Early stopping is not available in dart mode')\n"
     ]
    },
    {
     "name": "stdout",
     "output_type": "stream",
     "text": [
      "Fold: Tuning: n_train=263581, eval_set=43930\n"
     ]
    },
    {
     "name": "stderr",
     "output_type": "stream",
     "text": [
      "C:\\Users\\Paulius\\AppData\\Local\\pypoetry\\Cache\\virtualenvs\\ppuodz-ml-4-1-dqELbViF-py3.12\\Lib\\site-packages\\lightgbm\\callback.py:325: UserWarning: Early stopping is not available in dart mode\n",
      "  _log_warning('Early stopping is not available in dart mode')\n"
     ]
    },
    {
     "name": "stdout",
     "output_type": "stream",
     "text": [
      "Fold: Tuning: n_train=263581, eval_set=43930\n",
      "Tune: val_score:0.7697, std_test_score:0.00380 train_set_score:0.7975\n",
      "folds val/train: [0.7687, 0.7664, 0.7663, 0.772, 0.7772, 0.7714, 0.7661] / [0.7973, 0.7973, 0.7983, 0.7974, 0.7972, 0.7972, 0.798], mean fold time: 3.09\n"
     ]
    },
    {
     "name": "stderr",
     "output_type": "stream",
     "text": [
      "[I 2024-04-20 16:53:23,365] Trial 4 finished with value: 0.7697180479308728 and parameters: {'model__n_estimators': 150, 'model__learning_rate': 0.26, 'model__max_depth': 8, 'model__num_leaves': 200, 'model__min_gain_to_split': 8.0, 'model__min_data_in_leaf': 1900, 'model__lambda_l1': 55, 'model__lambda_l2': 100, 'model__bagging_fraction': 0.7, 'model__feature_fraction': 0.2, 'model__max_bin': 300}. Best is trial 2 with value: 0.7712289219743703.\n",
      "C:\\Users\\Paulius\\AppData\\Local\\pypoetry\\Cache\\virtualenvs\\ppuodz-ml-4-1-dqELbViF-py3.12\\Lib\\site-packages\\lightgbm\\callback.py:325: UserWarning: Early stopping is not available in dart mode\n",
      "  _log_warning('Early stopping is not available in dart mode')\n"
     ]
    },
    {
     "name": "stdout",
     "output_type": "stream",
     "text": [
      "Fold: Tuning: n_train=263580, eval_set=43931\n"
     ]
    },
    {
     "name": "stderr",
     "output_type": "stream",
     "text": [
      "C:\\Users\\Paulius\\AppData\\Local\\pypoetry\\Cache\\virtualenvs\\ppuodz-ml-4-1-dqELbViF-py3.12\\Lib\\site-packages\\lightgbm\\callback.py:325: UserWarning: Early stopping is not available in dart mode\n",
      "  _log_warning('Early stopping is not available in dart mode')\n"
     ]
    },
    {
     "name": "stdout",
     "output_type": "stream",
     "text": [
      "Fold: Tuning: n_train=263581, eval_set=43930\n"
     ]
    },
    {
     "name": "stderr",
     "output_type": "stream",
     "text": [
      "C:\\Users\\Paulius\\AppData\\Local\\pypoetry\\Cache\\virtualenvs\\ppuodz-ml-4-1-dqELbViF-py3.12\\Lib\\site-packages\\lightgbm\\callback.py:325: UserWarning: Early stopping is not available in dart mode\n",
      "  _log_warning('Early stopping is not available in dart mode')\n"
     ]
    },
    {
     "name": "stdout",
     "output_type": "stream",
     "text": [
      "Fold: Tuning: n_train=263581, eval_set=43930\n"
     ]
    },
    {
     "name": "stderr",
     "output_type": "stream",
     "text": [
      "C:\\Users\\Paulius\\AppData\\Local\\pypoetry\\Cache\\virtualenvs\\ppuodz-ml-4-1-dqELbViF-py3.12\\Lib\\site-packages\\lightgbm\\callback.py:325: UserWarning: Early stopping is not available in dart mode\n",
      "  _log_warning('Early stopping is not available in dart mode')\n"
     ]
    },
    {
     "name": "stdout",
     "output_type": "stream",
     "text": [
      "Fold: Tuning: n_train=263581, eval_set=43930\n"
     ]
    },
    {
     "name": "stderr",
     "output_type": "stream",
     "text": [
      "C:\\Users\\Paulius\\AppData\\Local\\pypoetry\\Cache\\virtualenvs\\ppuodz-ml-4-1-dqELbViF-py3.12\\Lib\\site-packages\\lightgbm\\callback.py:325: UserWarning: Early stopping is not available in dart mode\n",
      "  _log_warning('Early stopping is not available in dart mode')\n"
     ]
    },
    {
     "name": "stdout",
     "output_type": "stream",
     "text": [
      "Fold: Tuning: n_train=263581, eval_set=43930\n"
     ]
    },
    {
     "name": "stderr",
     "output_type": "stream",
     "text": [
      "C:\\Users\\Paulius\\AppData\\Local\\pypoetry\\Cache\\virtualenvs\\ppuodz-ml-4-1-dqELbViF-py3.12\\Lib\\site-packages\\lightgbm\\callback.py:325: UserWarning: Early stopping is not available in dart mode\n",
      "  _log_warning('Early stopping is not available in dart mode')\n"
     ]
    },
    {
     "name": "stdout",
     "output_type": "stream",
     "text": [
      "Fold: Tuning: n_train=263581, eval_set=43930\n"
     ]
    },
    {
     "name": "stderr",
     "output_type": "stream",
     "text": [
      "C:\\Users\\Paulius\\AppData\\Local\\pypoetry\\Cache\\virtualenvs\\ppuodz-ml-4-1-dqELbViF-py3.12\\Lib\\site-packages\\lightgbm\\callback.py:325: UserWarning: Early stopping is not available in dart mode\n",
      "  _log_warning('Early stopping is not available in dart mode')\n"
     ]
    },
    {
     "name": "stdout",
     "output_type": "stream",
     "text": [
      "Fold: Tuning: n_train=263581, eval_set=43930\n",
      "Tune: val_score:0.7672, std_test_score:0.00365 train_set_score:0.7922\n",
      "folds val/train: [0.7674, 0.7626, 0.7636, 0.7699, 0.7739, 0.7681, 0.7647] / [0.7927, 0.7919, 0.7938, 0.7916, 0.7905, 0.7924, 0.7926], mean fold time: 2.19\n"
     ]
    },
    {
     "name": "stderr",
     "output_type": "stream",
     "text": [
      "[I 2024-04-20 16:53:39,453] Trial 5 finished with value: 0.7671594589202327 and parameters: {'model__n_estimators': 100, 'model__learning_rate': 0.27, 'model__max_depth': 6, 'model__num_leaves': 184, 'model__min_gain_to_split': 4.0, 'model__min_data_in_leaf': 1100, 'model__lambda_l1': 105, 'model__lambda_l2': 75, 'model__bagging_fraction': 0.8, 'model__feature_fraction': 0.30000000000000004, 'model__max_bin': 500}. Best is trial 2 with value: 0.7712289219743703.\n",
      "C:\\Users\\Paulius\\AppData\\Local\\pypoetry\\Cache\\virtualenvs\\ppuodz-ml-4-1-dqELbViF-py3.12\\Lib\\site-packages\\lightgbm\\callback.py:325: UserWarning: Early stopping is not available in dart mode\n",
      "  _log_warning('Early stopping is not available in dart mode')\n"
     ]
    },
    {
     "name": "stdout",
     "output_type": "stream",
     "text": [
      "Fold: Tuning: n_train=263580, eval_set=43931\n"
     ]
    },
    {
     "name": "stderr",
     "output_type": "stream",
     "text": [
      "C:\\Users\\Paulius\\AppData\\Local\\pypoetry\\Cache\\virtualenvs\\ppuodz-ml-4-1-dqELbViF-py3.12\\Lib\\site-packages\\lightgbm\\callback.py:325: UserWarning: Early stopping is not available in dart mode\n",
      "  _log_warning('Early stopping is not available in dart mode')\n"
     ]
    },
    {
     "name": "stdout",
     "output_type": "stream",
     "text": [
      "Fold: Tuning: n_train=263581, eval_set=43930\n"
     ]
    },
    {
     "name": "stderr",
     "output_type": "stream",
     "text": [
      "C:\\Users\\Paulius\\AppData\\Local\\pypoetry\\Cache\\virtualenvs\\ppuodz-ml-4-1-dqELbViF-py3.12\\Lib\\site-packages\\lightgbm\\callback.py:325: UserWarning: Early stopping is not available in dart mode\n",
      "  _log_warning('Early stopping is not available in dart mode')\n"
     ]
    },
    {
     "name": "stdout",
     "output_type": "stream",
     "text": [
      "Fold: Tuning: n_train=263581, eval_set=43930\n"
     ]
    },
    {
     "name": "stderr",
     "output_type": "stream",
     "text": [
      "C:\\Users\\Paulius\\AppData\\Local\\pypoetry\\Cache\\virtualenvs\\ppuodz-ml-4-1-dqELbViF-py3.12\\Lib\\site-packages\\lightgbm\\callback.py:325: UserWarning: Early stopping is not available in dart mode\n",
      "  _log_warning('Early stopping is not available in dart mode')\n"
     ]
    },
    {
     "name": "stdout",
     "output_type": "stream",
     "text": [
      "Fold: Tuning: n_train=263581, eval_set=43930\n"
     ]
    },
    {
     "name": "stderr",
     "output_type": "stream",
     "text": [
      "C:\\Users\\Paulius\\AppData\\Local\\pypoetry\\Cache\\virtualenvs\\ppuodz-ml-4-1-dqELbViF-py3.12\\Lib\\site-packages\\lightgbm\\callback.py:325: UserWarning: Early stopping is not available in dart mode\n",
      "  _log_warning('Early stopping is not available in dart mode')\n"
     ]
    },
    {
     "name": "stdout",
     "output_type": "stream",
     "text": [
      "Fold: Tuning: n_train=263581, eval_set=43930\n"
     ]
    },
    {
     "name": "stderr",
     "output_type": "stream",
     "text": [
      "C:\\Users\\Paulius\\AppData\\Local\\pypoetry\\Cache\\virtualenvs\\ppuodz-ml-4-1-dqELbViF-py3.12\\Lib\\site-packages\\lightgbm\\callback.py:325: UserWarning: Early stopping is not available in dart mode\n",
      "  _log_warning('Early stopping is not available in dart mode')\n"
     ]
    },
    {
     "name": "stdout",
     "output_type": "stream",
     "text": [
      "Fold: Tuning: n_train=263581, eval_set=43930\n"
     ]
    },
    {
     "name": "stderr",
     "output_type": "stream",
     "text": [
      "C:\\Users\\Paulius\\AppData\\Local\\pypoetry\\Cache\\virtualenvs\\ppuodz-ml-4-1-dqELbViF-py3.12\\Lib\\site-packages\\lightgbm\\callback.py:325: UserWarning: Early stopping is not available in dart mode\n",
      "  _log_warning('Early stopping is not available in dart mode')\n"
     ]
    },
    {
     "name": "stdout",
     "output_type": "stream",
     "text": [
      "Fold: Tuning: n_train=263581, eval_set=43930\n",
      "Tune: val_score:0.7746, std_test_score:0.00368 train_set_score:0.8208\n",
      "folds val/train: [0.7746, 0.7714, 0.7717, 0.7782, 0.7816, 0.7739, 0.7708] / [0.8205, 0.8216, 0.8216, 0.8206, 0.8198, 0.8203, 0.8209], mean fold time: 12.50\n"
     ]
    },
    {
     "name": "stderr",
     "output_type": "stream",
     "text": [
      "[I 2024-04-20 16:55:07,718] Trial 6 finished with value: 0.7745947219070999 and parameters: {'model__n_estimators': 450, 'model__learning_rate': 0.3, 'model__max_depth': 11, 'model__num_leaves': 184, 'model__min_gain_to_split': 6.0, 'model__min_data_in_leaf': 2400, 'model__lambda_l1': 90, 'model__lambda_l2': 85, 'model__bagging_fraction': 0.4, 'model__feature_fraction': 0.8, 'model__max_bin': 400}. Best is trial 6 with value: 0.7745947219070999.\n",
      "C:\\Users\\Paulius\\AppData\\Local\\pypoetry\\Cache\\virtualenvs\\ppuodz-ml-4-1-dqELbViF-py3.12\\Lib\\site-packages\\lightgbm\\callback.py:325: UserWarning: Early stopping is not available in dart mode\n",
      "  _log_warning('Early stopping is not available in dart mode')\n"
     ]
    },
    {
     "name": "stdout",
     "output_type": "stream",
     "text": [
      "Fold: Tuning: n_train=263580, eval_set=43931\n"
     ]
    },
    {
     "name": "stderr",
     "output_type": "stream",
     "text": [
      "C:\\Users\\Paulius\\AppData\\Local\\pypoetry\\Cache\\virtualenvs\\ppuodz-ml-4-1-dqELbViF-py3.12\\Lib\\site-packages\\lightgbm\\callback.py:325: UserWarning: Early stopping is not available in dart mode\n",
      "  _log_warning('Early stopping is not available in dart mode')\n"
     ]
    },
    {
     "name": "stdout",
     "output_type": "stream",
     "text": [
      "Fold: Tuning: n_train=263581, eval_set=43930\n"
     ]
    },
    {
     "name": "stderr",
     "output_type": "stream",
     "text": [
      "C:\\Users\\Paulius\\AppData\\Local\\pypoetry\\Cache\\virtualenvs\\ppuodz-ml-4-1-dqELbViF-py3.12\\Lib\\site-packages\\lightgbm\\callback.py:325: UserWarning: Early stopping is not available in dart mode\n",
      "  _log_warning('Early stopping is not available in dart mode')\n"
     ]
    },
    {
     "name": "stdout",
     "output_type": "stream",
     "text": [
      "Fold: Tuning: n_train=263581, eval_set=43930\n"
     ]
    },
    {
     "name": "stderr",
     "output_type": "stream",
     "text": [
      "C:\\Users\\Paulius\\AppData\\Local\\pypoetry\\Cache\\virtualenvs\\ppuodz-ml-4-1-dqELbViF-py3.12\\Lib\\site-packages\\lightgbm\\callback.py:325: UserWarning: Early stopping is not available in dart mode\n",
      "  _log_warning('Early stopping is not available in dart mode')\n"
     ]
    },
    {
     "name": "stdout",
     "output_type": "stream",
     "text": [
      "Fold: Tuning: n_train=263581, eval_set=43930\n"
     ]
    },
    {
     "name": "stderr",
     "output_type": "stream",
     "text": [
      "C:\\Users\\Paulius\\AppData\\Local\\pypoetry\\Cache\\virtualenvs\\ppuodz-ml-4-1-dqELbViF-py3.12\\Lib\\site-packages\\lightgbm\\callback.py:325: UserWarning: Early stopping is not available in dart mode\n",
      "  _log_warning('Early stopping is not available in dart mode')\n"
     ]
    },
    {
     "name": "stdout",
     "output_type": "stream",
     "text": [
      "Fold: Tuning: n_train=263581, eval_set=43930\n"
     ]
    },
    {
     "name": "stderr",
     "output_type": "stream",
     "text": [
      "C:\\Users\\Paulius\\AppData\\Local\\pypoetry\\Cache\\virtualenvs\\ppuodz-ml-4-1-dqELbViF-py3.12\\Lib\\site-packages\\lightgbm\\callback.py:325: UserWarning: Early stopping is not available in dart mode\n",
      "  _log_warning('Early stopping is not available in dart mode')\n"
     ]
    },
    {
     "name": "stdout",
     "output_type": "stream",
     "text": [
      "Fold: Tuning: n_train=263581, eval_set=43930\n"
     ]
    },
    {
     "name": "stderr",
     "output_type": "stream",
     "text": [
      "C:\\Users\\Paulius\\AppData\\Local\\pypoetry\\Cache\\virtualenvs\\ppuodz-ml-4-1-dqELbViF-py3.12\\Lib\\site-packages\\lightgbm\\callback.py:325: UserWarning: Early stopping is not available in dart mode\n",
      "  _log_warning('Early stopping is not available in dart mode')\n"
     ]
    },
    {
     "name": "stdout",
     "output_type": "stream",
     "text": [
      "Fold: Tuning: n_train=263581, eval_set=43930\n",
      "Tune: val_score:0.7676, std_test_score:0.00378 train_set_score:0.7875\n",
      "folds val/train: [0.7687, 0.7644, 0.7642, 0.77, 0.7753, 0.7664, 0.7644] / [0.7873, 0.7881, 0.7884, 0.7873, 0.7859, 0.7882, 0.7875], mean fold time: 3.32\n"
     ]
    },
    {
     "name": "stderr",
     "output_type": "stream",
     "text": [
      "[I 2024-04-20 16:55:31,690] Trial 7 finished with value: 0.7676369112845342 and parameters: {'model__n_estimators': 200, 'model__learning_rate': 0.28, 'model__max_depth': 4, 'model__num_leaves': 88, 'model__min_gain_to_split': 6.5, 'model__min_data_in_leaf': 1500, 'model__lambda_l1': 80, 'model__lambda_l2': 45, 'model__bagging_fraction': 0.9000000000000001, 'model__feature_fraction': 0.5, 'model__max_bin': 75}. Best is trial 6 with value: 0.7745947219070999.\n",
      "C:\\Users\\Paulius\\AppData\\Local\\pypoetry\\Cache\\virtualenvs\\ppuodz-ml-4-1-dqELbViF-py3.12\\Lib\\site-packages\\lightgbm\\callback.py:325: UserWarning: Early stopping is not available in dart mode\n",
      "  _log_warning('Early stopping is not available in dart mode')\n"
     ]
    },
    {
     "name": "stdout",
     "output_type": "stream",
     "text": [
      "Fold: Tuning: n_train=263580, eval_set=43931\n"
     ]
    },
    {
     "name": "stderr",
     "output_type": "stream",
     "text": [
      "C:\\Users\\Paulius\\AppData\\Local\\pypoetry\\Cache\\virtualenvs\\ppuodz-ml-4-1-dqELbViF-py3.12\\Lib\\site-packages\\lightgbm\\callback.py:325: UserWarning: Early stopping is not available in dart mode\n",
      "  _log_warning('Early stopping is not available in dart mode')\n"
     ]
    },
    {
     "name": "stdout",
     "output_type": "stream",
     "text": [
      "Fold: Tuning: n_train=263581, eval_set=43930\n"
     ]
    },
    {
     "name": "stderr",
     "output_type": "stream",
     "text": [
      "C:\\Users\\Paulius\\AppData\\Local\\pypoetry\\Cache\\virtualenvs\\ppuodz-ml-4-1-dqELbViF-py3.12\\Lib\\site-packages\\lightgbm\\callback.py:325: UserWarning: Early stopping is not available in dart mode\n",
      "  _log_warning('Early stopping is not available in dart mode')\n"
     ]
    },
    {
     "name": "stdout",
     "output_type": "stream",
     "text": [
      "Fold: Tuning: n_train=263581, eval_set=43930\n"
     ]
    },
    {
     "name": "stderr",
     "output_type": "stream",
     "text": [
      "C:\\Users\\Paulius\\AppData\\Local\\pypoetry\\Cache\\virtualenvs\\ppuodz-ml-4-1-dqELbViF-py3.12\\Lib\\site-packages\\lightgbm\\callback.py:325: UserWarning: Early stopping is not available in dart mode\n",
      "  _log_warning('Early stopping is not available in dart mode')\n"
     ]
    },
    {
     "name": "stdout",
     "output_type": "stream",
     "text": [
      "Fold: Tuning: n_train=263581, eval_set=43930\n"
     ]
    },
    {
     "name": "stderr",
     "output_type": "stream",
     "text": [
      "C:\\Users\\Paulius\\AppData\\Local\\pypoetry\\Cache\\virtualenvs\\ppuodz-ml-4-1-dqELbViF-py3.12\\Lib\\site-packages\\lightgbm\\callback.py:325: UserWarning: Early stopping is not available in dart mode\n",
      "  _log_warning('Early stopping is not available in dart mode')\n"
     ]
    },
    {
     "name": "stdout",
     "output_type": "stream",
     "text": [
      "Fold: Tuning: n_train=263581, eval_set=43930\n"
     ]
    },
    {
     "name": "stderr",
     "output_type": "stream",
     "text": [
      "C:\\Users\\Paulius\\AppData\\Local\\pypoetry\\Cache\\virtualenvs\\ppuodz-ml-4-1-dqELbViF-py3.12\\Lib\\site-packages\\lightgbm\\callback.py:325: UserWarning: Early stopping is not available in dart mode\n",
      "  _log_warning('Early stopping is not available in dart mode')\n"
     ]
    },
    {
     "name": "stdout",
     "output_type": "stream",
     "text": [
      "Fold: Tuning: n_train=263581, eval_set=43930\n"
     ]
    },
    {
     "name": "stderr",
     "output_type": "stream",
     "text": [
      "C:\\Users\\Paulius\\AppData\\Local\\pypoetry\\Cache\\virtualenvs\\ppuodz-ml-4-1-dqELbViF-py3.12\\Lib\\site-packages\\lightgbm\\callback.py:325: UserWarning: Early stopping is not available in dart mode\n",
      "  _log_warning('Early stopping is not available in dart mode')\n"
     ]
    },
    {
     "name": "stdout",
     "output_type": "stream",
     "text": [
      "Fold: Tuning: n_train=263581, eval_set=43930\n",
      "Tune: val_score:0.7675, std_test_score:0.00379 train_set_score:0.7929\n",
      "folds val/train: [0.7688, 0.7632, 0.7649, 0.7698, 0.7748, 0.7673, 0.7637] / [0.7933, 0.7928, 0.7938, 0.7928, 0.7915, 0.7924, 0.7937], mean fold time: 3.20\n"
     ]
    },
    {
     "name": "stderr",
     "output_type": "stream",
     "text": [
      "[I 2024-04-20 16:55:54,875] Trial 8 finished with value: 0.767499934617827 and parameters: {'model__n_estimators': 150, 'model__learning_rate': 0.21000000000000002, 'model__max_depth': 9, 'model__num_leaves': 136, 'model__min_gain_to_split': 10.5, 'model__min_data_in_leaf': 900, 'model__lambda_l1': 105, 'model__lambda_l2': 20, 'model__bagging_fraction': 0.30000000000000004, 'model__feature_fraction': 0.30000000000000004, 'model__max_bin': 325}. Best is trial 6 with value: 0.7745947219070999.\n",
      "C:\\Users\\Paulius\\AppData\\Local\\pypoetry\\Cache\\virtualenvs\\ppuodz-ml-4-1-dqELbViF-py3.12\\Lib\\site-packages\\lightgbm\\callback.py:325: UserWarning: Early stopping is not available in dart mode\n",
      "  _log_warning('Early stopping is not available in dart mode')\n"
     ]
    },
    {
     "name": "stdout",
     "output_type": "stream",
     "text": [
      "Fold: Tuning: n_train=263580, eval_set=43931\n"
     ]
    },
    {
     "name": "stderr",
     "output_type": "stream",
     "text": [
      "C:\\Users\\Paulius\\AppData\\Local\\pypoetry\\Cache\\virtualenvs\\ppuodz-ml-4-1-dqELbViF-py3.12\\Lib\\site-packages\\lightgbm\\callback.py:325: UserWarning: Early stopping is not available in dart mode\n",
      "  _log_warning('Early stopping is not available in dart mode')\n"
     ]
    },
    {
     "name": "stdout",
     "output_type": "stream",
     "text": [
      "Fold: Tuning: n_train=263581, eval_set=43930\n"
     ]
    },
    {
     "name": "stderr",
     "output_type": "stream",
     "text": [
      "C:\\Users\\Paulius\\AppData\\Local\\pypoetry\\Cache\\virtualenvs\\ppuodz-ml-4-1-dqELbViF-py3.12\\Lib\\site-packages\\lightgbm\\callback.py:325: UserWarning: Early stopping is not available in dart mode\n",
      "  _log_warning('Early stopping is not available in dart mode')\n"
     ]
    },
    {
     "name": "stdout",
     "output_type": "stream",
     "text": [
      "Fold: Tuning: n_train=263581, eval_set=43930\n"
     ]
    },
    {
     "name": "stderr",
     "output_type": "stream",
     "text": [
      "C:\\Users\\Paulius\\AppData\\Local\\pypoetry\\Cache\\virtualenvs\\ppuodz-ml-4-1-dqELbViF-py3.12\\Lib\\site-packages\\lightgbm\\callback.py:325: UserWarning: Early stopping is not available in dart mode\n",
      "  _log_warning('Early stopping is not available in dart mode')\n"
     ]
    },
    {
     "name": "stdout",
     "output_type": "stream",
     "text": [
      "Fold: Tuning: n_train=263581, eval_set=43930\n"
     ]
    },
    {
     "name": "stderr",
     "output_type": "stream",
     "text": [
      "C:\\Users\\Paulius\\AppData\\Local\\pypoetry\\Cache\\virtualenvs\\ppuodz-ml-4-1-dqELbViF-py3.12\\Lib\\site-packages\\lightgbm\\callback.py:325: UserWarning: Early stopping is not available in dart mode\n",
      "  _log_warning('Early stopping is not available in dart mode')\n"
     ]
    },
    {
     "name": "stdout",
     "output_type": "stream",
     "text": [
      "Fold: Tuning: n_train=263581, eval_set=43930\n"
     ]
    },
    {
     "name": "stderr",
     "output_type": "stream",
     "text": [
      "C:\\Users\\Paulius\\AppData\\Local\\pypoetry\\Cache\\virtualenvs\\ppuodz-ml-4-1-dqELbViF-py3.12\\Lib\\site-packages\\lightgbm\\callback.py:325: UserWarning: Early stopping is not available in dart mode\n",
      "  _log_warning('Early stopping is not available in dart mode')\n"
     ]
    },
    {
     "name": "stdout",
     "output_type": "stream",
     "text": [
      "Fold: Tuning: n_train=263581, eval_set=43930\n"
     ]
    },
    {
     "name": "stderr",
     "output_type": "stream",
     "text": [
      "C:\\Users\\Paulius\\AppData\\Local\\pypoetry\\Cache\\virtualenvs\\ppuodz-ml-4-1-dqELbViF-py3.12\\Lib\\site-packages\\lightgbm\\callback.py:325: UserWarning: Early stopping is not available in dart mode\n",
      "  _log_warning('Early stopping is not available in dart mode')\n"
     ]
    },
    {
     "name": "stdout",
     "output_type": "stream",
     "text": [
      "Fold: Tuning: n_train=263581, eval_set=43930\n",
      "Tune: val_score:0.7593, std_test_score:0.00353 train_set_score:0.7807\n",
      "folds val/train: [0.7584, 0.7553, 0.758, 0.7627, 0.7663, 0.7581, 0.7567] / [0.781, 0.7809, 0.7812, 0.7805, 0.7792, 0.7807, 0.7811], mean fold time: 17.66\n"
     ]
    },
    {
     "name": "stderr",
     "output_type": "stream",
     "text": [
      "[I 2024-04-20 16:57:59,231] Trial 9 finished with value: 0.7593422211592149 and parameters: {'model__n_estimators': 550, 'model__learning_rate': 0.02, 'model__max_depth': 6, 'model__num_leaves': 184, 'model__min_gain_to_split': 5.0, 'model__min_data_in_leaf': 2100, 'model__lambda_l1': 5, 'model__lambda_l2': 10, 'model__bagging_fraction': 0.7, 'model__feature_fraction': 0.4, 'model__max_bin': 150}. Best is trial 6 with value: 0.7745947219070999.\n",
      "C:\\Users\\Paulius\\AppData\\Local\\pypoetry\\Cache\\virtualenvs\\ppuodz-ml-4-1-dqELbViF-py3.12\\Lib\\site-packages\\lightgbm\\callback.py:325: UserWarning: Early stopping is not available in dart mode\n",
      "  _log_warning('Early stopping is not available in dart mode')\n"
     ]
    },
    {
     "name": "stdout",
     "output_type": "stream",
     "text": [
      "Fold: Tuning: n_train=263580, eval_set=43931\n"
     ]
    },
    {
     "name": "stderr",
     "output_type": "stream",
     "text": [
      "C:\\Users\\Paulius\\AppData\\Local\\pypoetry\\Cache\\virtualenvs\\ppuodz-ml-4-1-dqELbViF-py3.12\\Lib\\site-packages\\lightgbm\\callback.py:325: UserWarning: Early stopping is not available in dart mode\n",
      "  _log_warning('Early stopping is not available in dart mode')\n"
     ]
    },
    {
     "name": "stdout",
     "output_type": "stream",
     "text": [
      "Fold: Tuning: n_train=263581, eval_set=43930\n"
     ]
    },
    {
     "name": "stderr",
     "output_type": "stream",
     "text": [
      "C:\\Users\\Paulius\\AppData\\Local\\pypoetry\\Cache\\virtualenvs\\ppuodz-ml-4-1-dqELbViF-py3.12\\Lib\\site-packages\\lightgbm\\callback.py:325: UserWarning: Early stopping is not available in dart mode\n",
      "  _log_warning('Early stopping is not available in dart mode')\n"
     ]
    },
    {
     "name": "stdout",
     "output_type": "stream",
     "text": [
      "Fold: Tuning: n_train=263581, eval_set=43930\n"
     ]
    },
    {
     "name": "stderr",
     "output_type": "stream",
     "text": [
      "C:\\Users\\Paulius\\AppData\\Local\\pypoetry\\Cache\\virtualenvs\\ppuodz-ml-4-1-dqELbViF-py3.12\\Lib\\site-packages\\lightgbm\\callback.py:325: UserWarning: Early stopping is not available in dart mode\n",
      "  _log_warning('Early stopping is not available in dart mode')\n"
     ]
    },
    {
     "name": "stdout",
     "output_type": "stream",
     "text": [
      "Fold: Tuning: n_train=263581, eval_set=43930\n"
     ]
    },
    {
     "name": "stderr",
     "output_type": "stream",
     "text": [
      "C:\\Users\\Paulius\\AppData\\Local\\pypoetry\\Cache\\virtualenvs\\ppuodz-ml-4-1-dqELbViF-py3.12\\Lib\\site-packages\\lightgbm\\callback.py:325: UserWarning: Early stopping is not available in dart mode\n",
      "  _log_warning('Early stopping is not available in dart mode')\n"
     ]
    },
    {
     "name": "stdout",
     "output_type": "stream",
     "text": [
      "Fold: Tuning: n_train=263581, eval_set=43930\n"
     ]
    },
    {
     "name": "stderr",
     "output_type": "stream",
     "text": [
      "C:\\Users\\Paulius\\AppData\\Local\\pypoetry\\Cache\\virtualenvs\\ppuodz-ml-4-1-dqELbViF-py3.12\\Lib\\site-packages\\lightgbm\\callback.py:325: UserWarning: Early stopping is not available in dart mode\n",
      "  _log_warning('Early stopping is not available in dart mode')\n"
     ]
    },
    {
     "name": "stdout",
     "output_type": "stream",
     "text": [
      "Fold: Tuning: n_train=263581, eval_set=43930\n"
     ]
    },
    {
     "name": "stderr",
     "output_type": "stream",
     "text": [
      "C:\\Users\\Paulius\\AppData\\Local\\pypoetry\\Cache\\virtualenvs\\ppuodz-ml-4-1-dqELbViF-py3.12\\Lib\\site-packages\\lightgbm\\callback.py:325: UserWarning: Early stopping is not available in dart mode\n",
      "  _log_warning('Early stopping is not available in dart mode')\n"
     ]
    },
    {
     "name": "stdout",
     "output_type": "stream",
     "text": [
      "Fold: Tuning: n_train=263581, eval_set=43930\n",
      "Tune: val_score:0.7700, std_test_score:0.00364 train_set_score:0.8242\n",
      "folds val/train: [0.7705, 0.7662, 0.767, 0.7733, 0.777, 0.7689, 0.7673] / [0.8244, 0.8238, 0.8248, 0.8243, 0.8228, 0.8246, 0.8245], mean fold time: 31.53\n"
     ]
    },
    {
     "name": "stderr",
     "output_type": "stream",
     "text": [
      "[I 2024-04-20 17:01:40,708] Trial 10 finished with value: 0.7700281908254356 and parameters: {'model__n_estimators': 700, 'model__learning_rate': 0.05, 'model__max_depth': 11, 'model__num_leaves': 248, 'model__min_gain_to_split': 0.5, 'model__min_data_in_leaf': 3000, 'model__lambda_l1': 35, 'model__lambda_l2': 90, 'model__bagging_fraction': 0.5, 'model__feature_fraction': 0.9000000000000001, 'model__max_bin': 500}. Best is trial 6 with value: 0.7745947219070999.\n",
      "C:\\Users\\Paulius\\AppData\\Local\\pypoetry\\Cache\\virtualenvs\\ppuodz-ml-4-1-dqELbViF-py3.12\\Lib\\site-packages\\lightgbm\\callback.py:325: UserWarning: Early stopping is not available in dart mode\n",
      "  _log_warning('Early stopping is not available in dart mode')\n"
     ]
    },
    {
     "name": "stdout",
     "output_type": "stream",
     "text": [
      "Fold: Tuning: n_train=263580, eval_set=43931\n"
     ]
    },
    {
     "name": "stderr",
     "output_type": "stream",
     "text": [
      "C:\\Users\\Paulius\\AppData\\Local\\pypoetry\\Cache\\virtualenvs\\ppuodz-ml-4-1-dqELbViF-py3.12\\Lib\\site-packages\\lightgbm\\callback.py:325: UserWarning: Early stopping is not available in dart mode\n",
      "  _log_warning('Early stopping is not available in dart mode')\n"
     ]
    },
    {
     "name": "stdout",
     "output_type": "stream",
     "text": [
      "Fold: Tuning: n_train=263581, eval_set=43930\n"
     ]
    },
    {
     "name": "stderr",
     "output_type": "stream",
     "text": [
      "C:\\Users\\Paulius\\AppData\\Local\\pypoetry\\Cache\\virtualenvs\\ppuodz-ml-4-1-dqELbViF-py3.12\\Lib\\site-packages\\lightgbm\\callback.py:325: UserWarning: Early stopping is not available in dart mode\n",
      "  _log_warning('Early stopping is not available in dart mode')\n"
     ]
    },
    {
     "name": "stdout",
     "output_type": "stream",
     "text": [
      "Fold: Tuning: n_train=263581, eval_set=43930\n"
     ]
    },
    {
     "name": "stderr",
     "output_type": "stream",
     "text": [
      "C:\\Users\\Paulius\\AppData\\Local\\pypoetry\\Cache\\virtualenvs\\ppuodz-ml-4-1-dqELbViF-py3.12\\Lib\\site-packages\\lightgbm\\callback.py:325: UserWarning: Early stopping is not available in dart mode\n",
      "  _log_warning('Early stopping is not available in dart mode')\n"
     ]
    },
    {
     "name": "stdout",
     "output_type": "stream",
     "text": [
      "Fold: Tuning: n_train=263581, eval_set=43930\n"
     ]
    },
    {
     "name": "stderr",
     "output_type": "stream",
     "text": [
      "C:\\Users\\Paulius\\AppData\\Local\\pypoetry\\Cache\\virtualenvs\\ppuodz-ml-4-1-dqELbViF-py3.12\\Lib\\site-packages\\lightgbm\\callback.py:325: UserWarning: Early stopping is not available in dart mode\n",
      "  _log_warning('Early stopping is not available in dart mode')\n"
     ]
    },
    {
     "name": "stdout",
     "output_type": "stream",
     "text": [
      "Fold: Tuning: n_train=263581, eval_set=43930\n"
     ]
    },
    {
     "name": "stderr",
     "output_type": "stream",
     "text": [
      "C:\\Users\\Paulius\\AppData\\Local\\pypoetry\\Cache\\virtualenvs\\ppuodz-ml-4-1-dqELbViF-py3.12\\Lib\\site-packages\\lightgbm\\callback.py:325: UserWarning: Early stopping is not available in dart mode\n",
      "  _log_warning('Early stopping is not available in dart mode')\n"
     ]
    },
    {
     "name": "stdout",
     "output_type": "stream",
     "text": [
      "Fold: Tuning: n_train=263581, eval_set=43930\n"
     ]
    },
    {
     "name": "stderr",
     "output_type": "stream",
     "text": [
      "C:\\Users\\Paulius\\AppData\\Local\\pypoetry\\Cache\\virtualenvs\\ppuodz-ml-4-1-dqELbViF-py3.12\\Lib\\site-packages\\lightgbm\\callback.py:325: UserWarning: Early stopping is not available in dart mode\n",
      "  _log_warning('Early stopping is not available in dart mode')\n"
     ]
    },
    {
     "name": "stdout",
     "output_type": "stream",
     "text": [
      "Fold: Tuning: n_train=263581, eval_set=43930\n",
      "Tune: val_score:0.7720, std_test_score:0.00331 train_set_score:0.7907\n",
      "folds val/train: [0.7721, 0.7685, 0.7692, 0.7754, 0.778, 0.7717, 0.769] / [0.7911, 0.7915, 0.7913, 0.79, 0.7892, 0.7906, 0.7916], mean fold time: 16.34\n"
     ]
    },
    {
     "name": "stderr",
     "output_type": "stream",
     "text": [
      "[I 2024-04-20 17:03:35,914] Trial 11 finished with value: 0.7719871753142534 and parameters: {'model__n_estimators': 950, 'model__learning_rate': 0.13, 'model__max_depth': 3, 'model__num_leaves': 104, 'model__min_gain_to_split': 15.0, 'model__min_data_in_leaf': 300, 'model__lambda_l1': 85, 'model__lambda_l2': 80, 'model__bagging_fraction': 0.2, 'model__feature_fraction': 0.8, 'model__max_bin': 400}. Best is trial 6 with value: 0.7745947219070999.\n",
      "C:\\Users\\Paulius\\AppData\\Local\\pypoetry\\Cache\\virtualenvs\\ppuodz-ml-4-1-dqELbViF-py3.12\\Lib\\site-packages\\lightgbm\\callback.py:325: UserWarning: Early stopping is not available in dart mode\n",
      "  _log_warning('Early stopping is not available in dart mode')\n"
     ]
    },
    {
     "name": "stdout",
     "output_type": "stream",
     "text": [
      "Fold: Tuning: n_train=263580, eval_set=43931\n"
     ]
    },
    {
     "name": "stderr",
     "output_type": "stream",
     "text": [
      "C:\\Users\\Paulius\\AppData\\Local\\pypoetry\\Cache\\virtualenvs\\ppuodz-ml-4-1-dqELbViF-py3.12\\Lib\\site-packages\\lightgbm\\callback.py:325: UserWarning: Early stopping is not available in dart mode\n",
      "  _log_warning('Early stopping is not available in dart mode')\n"
     ]
    },
    {
     "name": "stdout",
     "output_type": "stream",
     "text": [
      "Fold: Tuning: n_train=263581, eval_set=43930\n"
     ]
    },
    {
     "name": "stderr",
     "output_type": "stream",
     "text": [
      "C:\\Users\\Paulius\\AppData\\Local\\pypoetry\\Cache\\virtualenvs\\ppuodz-ml-4-1-dqELbViF-py3.12\\Lib\\site-packages\\lightgbm\\callback.py:325: UserWarning: Early stopping is not available in dart mode\n",
      "  _log_warning('Early stopping is not available in dart mode')\n"
     ]
    },
    {
     "name": "stdout",
     "output_type": "stream",
     "text": [
      "Fold: Tuning: n_train=263581, eval_set=43930\n"
     ]
    },
    {
     "name": "stderr",
     "output_type": "stream",
     "text": [
      "C:\\Users\\Paulius\\AppData\\Local\\pypoetry\\Cache\\virtualenvs\\ppuodz-ml-4-1-dqELbViF-py3.12\\Lib\\site-packages\\lightgbm\\callback.py:325: UserWarning: Early stopping is not available in dart mode\n",
      "  _log_warning('Early stopping is not available in dart mode')\n"
     ]
    },
    {
     "name": "stdout",
     "output_type": "stream",
     "text": [
      "Fold: Tuning: n_train=263581, eval_set=43930\n"
     ]
    },
    {
     "name": "stderr",
     "output_type": "stream",
     "text": [
      "C:\\Users\\Paulius\\AppData\\Local\\pypoetry\\Cache\\virtualenvs\\ppuodz-ml-4-1-dqELbViF-py3.12\\Lib\\site-packages\\lightgbm\\callback.py:325: UserWarning: Early stopping is not available in dart mode\n",
      "  _log_warning('Early stopping is not available in dart mode')\n"
     ]
    },
    {
     "name": "stdout",
     "output_type": "stream",
     "text": [
      "Fold: Tuning: n_train=263581, eval_set=43930\n"
     ]
    },
    {
     "name": "stderr",
     "output_type": "stream",
     "text": [
      "C:\\Users\\Paulius\\AppData\\Local\\pypoetry\\Cache\\virtualenvs\\ppuodz-ml-4-1-dqELbViF-py3.12\\Lib\\site-packages\\lightgbm\\callback.py:325: UserWarning: Early stopping is not available in dart mode\n",
      "  _log_warning('Early stopping is not available in dart mode')\n"
     ]
    },
    {
     "name": "stdout",
     "output_type": "stream",
     "text": [
      "Fold: Tuning: n_train=263581, eval_set=43930\n"
     ]
    },
    {
     "name": "stderr",
     "output_type": "stream",
     "text": [
      "C:\\Users\\Paulius\\AppData\\Local\\pypoetry\\Cache\\virtualenvs\\ppuodz-ml-4-1-dqELbViF-py3.12\\Lib\\site-packages\\lightgbm\\callback.py:325: UserWarning: Early stopping is not available in dart mode\n",
      "  _log_warning('Early stopping is not available in dart mode')\n"
     ]
    },
    {
     "name": "stdout",
     "output_type": "stream",
     "text": [
      "Fold: Tuning: n_train=263581, eval_set=43930\n",
      "Tune: val_score:0.7723, std_test_score:0.00359 train_set_score:0.8026\n",
      "folds val/train: [0.7726, 0.7689, 0.7696, 0.7752, 0.7793, 0.772, 0.7687] / [0.8027, 0.8031, 0.8037, 0.8017, 0.801, 0.8027, 0.8035], mean fold time: 27.87\n"
     ]
    },
    {
     "name": "stderr",
     "output_type": "stream",
     "text": [
      "[I 2024-04-20 17:06:51,800] Trial 12 finished with value: 0.7723128316396529 and parameters: {'model__n_estimators': 950, 'model__learning_rate': 0.15000000000000002, 'model__max_depth': 7, 'model__num_leaves': 72, 'model__min_gain_to_split': 15.0, 'model__min_data_in_leaf': 100, 'model__lambda_l1': 90, 'model__lambda_l2': 85, 'model__bagging_fraction': 0.2, 'model__feature_fraction': 0.8, 'model__max_bin': 425}. Best is trial 6 with value: 0.7745947219070999.\n",
      "C:\\Users\\Paulius\\AppData\\Local\\pypoetry\\Cache\\virtualenvs\\ppuodz-ml-4-1-dqELbViF-py3.12\\Lib\\site-packages\\lightgbm\\callback.py:325: UserWarning: Early stopping is not available in dart mode\n",
      "  _log_warning('Early stopping is not available in dart mode')\n"
     ]
    },
    {
     "name": "stdout",
     "output_type": "stream",
     "text": [
      "Fold: Tuning: n_train=263580, eval_set=43931\n"
     ]
    },
    {
     "name": "stderr",
     "output_type": "stream",
     "text": [
      "C:\\Users\\Paulius\\AppData\\Local\\pypoetry\\Cache\\virtualenvs\\ppuodz-ml-4-1-dqELbViF-py3.12\\Lib\\site-packages\\lightgbm\\callback.py:325: UserWarning: Early stopping is not available in dart mode\n",
      "  _log_warning('Early stopping is not available in dart mode')\n"
     ]
    },
    {
     "name": "stdout",
     "output_type": "stream",
     "text": [
      "Fold: Tuning: n_train=263581, eval_set=43930\n"
     ]
    },
    {
     "name": "stderr",
     "output_type": "stream",
     "text": [
      "C:\\Users\\Paulius\\AppData\\Local\\pypoetry\\Cache\\virtualenvs\\ppuodz-ml-4-1-dqELbViF-py3.12\\Lib\\site-packages\\lightgbm\\callback.py:325: UserWarning: Early stopping is not available in dart mode\n",
      "  _log_warning('Early stopping is not available in dart mode')\n"
     ]
    },
    {
     "name": "stdout",
     "output_type": "stream",
     "text": [
      "Fold: Tuning: n_train=263581, eval_set=43930\n"
     ]
    },
    {
     "name": "stderr",
     "output_type": "stream",
     "text": [
      "C:\\Users\\Paulius\\AppData\\Local\\pypoetry\\Cache\\virtualenvs\\ppuodz-ml-4-1-dqELbViF-py3.12\\Lib\\site-packages\\lightgbm\\callback.py:325: UserWarning: Early stopping is not available in dart mode\n",
      "  _log_warning('Early stopping is not available in dart mode')\n"
     ]
    },
    {
     "name": "stdout",
     "output_type": "stream",
     "text": [
      "Fold: Tuning: n_train=263581, eval_set=43930\n"
     ]
    },
    {
     "name": "stderr",
     "output_type": "stream",
     "text": [
      "C:\\Users\\Paulius\\AppData\\Local\\pypoetry\\Cache\\virtualenvs\\ppuodz-ml-4-1-dqELbViF-py3.12\\Lib\\site-packages\\lightgbm\\callback.py:325: UserWarning: Early stopping is not available in dart mode\n",
      "  _log_warning('Early stopping is not available in dart mode')\n"
     ]
    },
    {
     "name": "stdout",
     "output_type": "stream",
     "text": [
      "Fold: Tuning: n_train=263581, eval_set=43930\n"
     ]
    },
    {
     "name": "stderr",
     "output_type": "stream",
     "text": [
      "C:\\Users\\Paulius\\AppData\\Local\\pypoetry\\Cache\\virtualenvs\\ppuodz-ml-4-1-dqELbViF-py3.12\\Lib\\site-packages\\lightgbm\\callback.py:325: UserWarning: Early stopping is not available in dart mode\n",
      "  _log_warning('Early stopping is not available in dart mode')\n"
     ]
    },
    {
     "name": "stdout",
     "output_type": "stream",
     "text": [
      "Fold: Tuning: n_train=263581, eval_set=43930\n"
     ]
    },
    {
     "name": "stderr",
     "output_type": "stream",
     "text": [
      "C:\\Users\\Paulius\\AppData\\Local\\pypoetry\\Cache\\virtualenvs\\ppuodz-ml-4-1-dqELbViF-py3.12\\Lib\\site-packages\\lightgbm\\callback.py:325: UserWarning: Early stopping is not available in dart mode\n",
      "  _log_warning('Early stopping is not available in dart mode')\n"
     ]
    },
    {
     "name": "stdout",
     "output_type": "stream",
     "text": [
      "Fold: Tuning: n_train=263581, eval_set=43930\n",
      "Tune: val_score:0.7756, std_test_score:0.00378 train_set_score:0.8371\n",
      "folds val/train: [0.7759, 0.7724, 0.7722, 0.7792, 0.7825, 0.7759, 0.7714] / [0.8372, 0.8382, 0.8381, 0.8373, 0.8348, 0.8369, 0.8373], mean fold time: 25.16\n"
     ]
    },
    {
     "name": "stderr",
     "output_type": "stream",
     "text": [
      "[I 2024-04-20 17:09:48,715] Trial 13 finished with value: 0.7756350970240453 and parameters: {'model__n_estimators': 750, 'model__learning_rate': 0.17, 'model__max_depth': 7, 'model__num_leaves': 64, 'model__min_gain_to_split': 2.0, 'model__min_data_in_leaf': 2900, 'model__lambda_l1': 90, 'model__lambda_l2': 60, 'model__bagging_fraction': 0.4, 'model__feature_fraction': 0.8, 'model__max_bin': 425}. Best is trial 13 with value: 0.7756350970240453.\n",
      "C:\\Users\\Paulius\\AppData\\Local\\pypoetry\\Cache\\virtualenvs\\ppuodz-ml-4-1-dqELbViF-py3.12\\Lib\\site-packages\\lightgbm\\callback.py:325: UserWarning: Early stopping is not available in dart mode\n",
      "  _log_warning('Early stopping is not available in dart mode')\n"
     ]
    },
    {
     "name": "stdout",
     "output_type": "stream",
     "text": [
      "Fold: Tuning: n_train=263580, eval_set=43931\n"
     ]
    },
    {
     "name": "stderr",
     "output_type": "stream",
     "text": [
      "C:\\Users\\Paulius\\AppData\\Local\\pypoetry\\Cache\\virtualenvs\\ppuodz-ml-4-1-dqELbViF-py3.12\\Lib\\site-packages\\lightgbm\\callback.py:325: UserWarning: Early stopping is not available in dart mode\n",
      "  _log_warning('Early stopping is not available in dart mode')\n"
     ]
    },
    {
     "name": "stdout",
     "output_type": "stream",
     "text": [
      "Fold: Tuning: n_train=263581, eval_set=43930\n"
     ]
    },
    {
     "name": "stderr",
     "output_type": "stream",
     "text": [
      "C:\\Users\\Paulius\\AppData\\Local\\pypoetry\\Cache\\virtualenvs\\ppuodz-ml-4-1-dqELbViF-py3.12\\Lib\\site-packages\\lightgbm\\callback.py:325: UserWarning: Early stopping is not available in dart mode\n",
      "  _log_warning('Early stopping is not available in dart mode')\n"
     ]
    },
    {
     "name": "stdout",
     "output_type": "stream",
     "text": [
      "Fold: Tuning: n_train=263581, eval_set=43930\n"
     ]
    },
    {
     "name": "stderr",
     "output_type": "stream",
     "text": [
      "C:\\Users\\Paulius\\AppData\\Local\\pypoetry\\Cache\\virtualenvs\\ppuodz-ml-4-1-dqELbViF-py3.12\\Lib\\site-packages\\lightgbm\\callback.py:325: UserWarning: Early stopping is not available in dart mode\n",
      "  _log_warning('Early stopping is not available in dart mode')\n"
     ]
    },
    {
     "name": "stdout",
     "output_type": "stream",
     "text": [
      "Fold: Tuning: n_train=263581, eval_set=43930\n"
     ]
    },
    {
     "name": "stderr",
     "output_type": "stream",
     "text": [
      "C:\\Users\\Paulius\\AppData\\Local\\pypoetry\\Cache\\virtualenvs\\ppuodz-ml-4-1-dqELbViF-py3.12\\Lib\\site-packages\\lightgbm\\callback.py:325: UserWarning: Early stopping is not available in dart mode\n",
      "  _log_warning('Early stopping is not available in dart mode')\n"
     ]
    },
    {
     "name": "stdout",
     "output_type": "stream",
     "text": [
      "Fold: Tuning: n_train=263581, eval_set=43930\n"
     ]
    },
    {
     "name": "stderr",
     "output_type": "stream",
     "text": [
      "C:\\Users\\Paulius\\AppData\\Local\\pypoetry\\Cache\\virtualenvs\\ppuodz-ml-4-1-dqELbViF-py3.12\\Lib\\site-packages\\lightgbm\\callback.py:325: UserWarning: Early stopping is not available in dart mode\n",
      "  _log_warning('Early stopping is not available in dart mode')\n"
     ]
    },
    {
     "name": "stdout",
     "output_type": "stream",
     "text": [
      "Fold: Tuning: n_train=263581, eval_set=43930\n"
     ]
    },
    {
     "name": "stderr",
     "output_type": "stream",
     "text": [
      "C:\\Users\\Paulius\\AppData\\Local\\pypoetry\\Cache\\virtualenvs\\ppuodz-ml-4-1-dqELbViF-py3.12\\Lib\\site-packages\\lightgbm\\callback.py:325: UserWarning: Early stopping is not available in dart mode\n",
      "  _log_warning('Early stopping is not available in dart mode')\n"
     ]
    },
    {
     "name": "stdout",
     "output_type": "stream",
     "text": [
      "Fold: Tuning: n_train=263581, eval_set=43930\n",
      "Tune: val_score:0.7756, std_test_score:0.00412 train_set_score:0.8316\n",
      "folds val/train: [0.7748, 0.7726, 0.7715, 0.779, 0.7837, 0.776, 0.7718] / [0.8318, 0.8321, 0.8338, 0.8319, 0.8292, 0.8316, 0.8307], mean fold time: 22.60\n"
     ]
    },
    {
     "name": "stderr",
     "output_type": "stream",
     "text": [
      "[I 2024-04-20 17:12:27,693] Trial 14 finished with value: 0.7756245445801543 and parameters: {'model__n_estimators': 700, 'model__learning_rate': 0.3, 'model__max_depth': 10, 'model__num_leaves': 240, 'model__min_gain_to_split': 2.0, 'model__min_data_in_leaf': 3000, 'model__lambda_l1': 110, 'model__lambda_l2': 55, 'model__bagging_fraction': 0.4, 'model__feature_fraction': 0.7, 'model__max_bin': 250}. Best is trial 13 with value: 0.7756350970240453.\n",
      "C:\\Users\\Paulius\\AppData\\Local\\pypoetry\\Cache\\virtualenvs\\ppuodz-ml-4-1-dqELbViF-py3.12\\Lib\\site-packages\\lightgbm\\callback.py:325: UserWarning: Early stopping is not available in dart mode\n",
      "  _log_warning('Early stopping is not available in dart mode')\n"
     ]
    },
    {
     "name": "stdout",
     "output_type": "stream",
     "text": [
      "Fold: Tuning: n_train=263580, eval_set=43931\n"
     ]
    },
    {
     "name": "stderr",
     "output_type": "stream",
     "text": [
      "C:\\Users\\Paulius\\AppData\\Local\\pypoetry\\Cache\\virtualenvs\\ppuodz-ml-4-1-dqELbViF-py3.12\\Lib\\site-packages\\lightgbm\\callback.py:325: UserWarning: Early stopping is not available in dart mode\n",
      "  _log_warning('Early stopping is not available in dart mode')\n"
     ]
    },
    {
     "name": "stdout",
     "output_type": "stream",
     "text": [
      "Fold: Tuning: n_train=263581, eval_set=43930\n"
     ]
    },
    {
     "name": "stderr",
     "output_type": "stream",
     "text": [
      "C:\\Users\\Paulius\\AppData\\Local\\pypoetry\\Cache\\virtualenvs\\ppuodz-ml-4-1-dqELbViF-py3.12\\Lib\\site-packages\\lightgbm\\callback.py:325: UserWarning: Early stopping is not available in dart mode\n",
      "  _log_warning('Early stopping is not available in dart mode')\n"
     ]
    },
    {
     "name": "stdout",
     "output_type": "stream",
     "text": [
      "Fold: Tuning: n_train=263581, eval_set=43930\n"
     ]
    },
    {
     "name": "stderr",
     "output_type": "stream",
     "text": [
      "C:\\Users\\Paulius\\AppData\\Local\\pypoetry\\Cache\\virtualenvs\\ppuodz-ml-4-1-dqELbViF-py3.12\\Lib\\site-packages\\lightgbm\\callback.py:325: UserWarning: Early stopping is not available in dart mode\n",
      "  _log_warning('Early stopping is not available in dart mode')\n"
     ]
    },
    {
     "name": "stdout",
     "output_type": "stream",
     "text": [
      "Fold: Tuning: n_train=263581, eval_set=43930\n"
     ]
    },
    {
     "name": "stderr",
     "output_type": "stream",
     "text": [
      "C:\\Users\\Paulius\\AppData\\Local\\pypoetry\\Cache\\virtualenvs\\ppuodz-ml-4-1-dqELbViF-py3.12\\Lib\\site-packages\\lightgbm\\callback.py:325: UserWarning: Early stopping is not available in dart mode\n",
      "  _log_warning('Early stopping is not available in dart mode')\n"
     ]
    },
    {
     "name": "stdout",
     "output_type": "stream",
     "text": [
      "Fold: Tuning: n_train=263581, eval_set=43930\n"
     ]
    },
    {
     "name": "stderr",
     "output_type": "stream",
     "text": [
      "C:\\Users\\Paulius\\AppData\\Local\\pypoetry\\Cache\\virtualenvs\\ppuodz-ml-4-1-dqELbViF-py3.12\\Lib\\site-packages\\lightgbm\\callback.py:325: UserWarning: Early stopping is not available in dart mode\n",
      "  _log_warning('Early stopping is not available in dart mode')\n"
     ]
    },
    {
     "name": "stdout",
     "output_type": "stream",
     "text": [
      "Fold: Tuning: n_train=263581, eval_set=43930\n"
     ]
    },
    {
     "name": "stderr",
     "output_type": "stream",
     "text": [
      "C:\\Users\\Paulius\\AppData\\Local\\pypoetry\\Cache\\virtualenvs\\ppuodz-ml-4-1-dqELbViF-py3.12\\Lib\\site-packages\\lightgbm\\callback.py:325: UserWarning: Early stopping is not available in dart mode\n",
      "  _log_warning('Early stopping is not available in dart mode')\n"
     ]
    },
    {
     "name": "stdout",
     "output_type": "stream",
     "text": [
      "Fold: Tuning: n_train=263581, eval_set=43930\n",
      "Tune: val_score:0.7684, std_test_score:0.00355 train_set_score:0.7824\n",
      "folds val/train: [0.7691, 0.765, 0.7659, 0.771, 0.7755, 0.7668, 0.7652] / [0.7823, 0.7826, 0.783, 0.7819, 0.7814, 0.7825, 0.7829], mean fold time: 14.63\n"
     ]
    },
    {
     "name": "stderr",
     "output_type": "stream",
     "text": [
      "[I 2024-04-20 17:14:10,906] Trial 15 finished with value: 0.7683543997533521 and parameters: {'model__n_estimators': 750, 'model__learning_rate': 0.08, 'model__max_depth': 9, 'model__num_leaves': 8, 'model__min_gain_to_split': 0.0, 'model__min_data_in_leaf': 3000, 'model__lambda_l1': 110, 'model__lambda_l2': 50, 'model__bagging_fraction': 0.5, 'model__feature_fraction': 0.7, 'model__max_bin': 225}. Best is trial 13 with value: 0.7756350970240453.\n",
      "C:\\Users\\Paulius\\AppData\\Local\\pypoetry\\Cache\\virtualenvs\\ppuodz-ml-4-1-dqELbViF-py3.12\\Lib\\site-packages\\lightgbm\\callback.py:325: UserWarning: Early stopping is not available in dart mode\n",
      "  _log_warning('Early stopping is not available in dart mode')\n"
     ]
    },
    {
     "name": "stdout",
     "output_type": "stream",
     "text": [
      "Fold: Tuning: n_train=263580, eval_set=43931\n"
     ]
    },
    {
     "name": "stderr",
     "output_type": "stream",
     "text": [
      "C:\\Users\\Paulius\\AppData\\Local\\pypoetry\\Cache\\virtualenvs\\ppuodz-ml-4-1-dqELbViF-py3.12\\Lib\\site-packages\\lightgbm\\callback.py:325: UserWarning: Early stopping is not available in dart mode\n",
      "  _log_warning('Early stopping is not available in dart mode')\n"
     ]
    },
    {
     "name": "stdout",
     "output_type": "stream",
     "text": [
      "Fold: Tuning: n_train=263581, eval_set=43930\n"
     ]
    },
    {
     "name": "stderr",
     "output_type": "stream",
     "text": [
      "C:\\Users\\Paulius\\AppData\\Local\\pypoetry\\Cache\\virtualenvs\\ppuodz-ml-4-1-dqELbViF-py3.12\\Lib\\site-packages\\lightgbm\\callback.py:325: UserWarning: Early stopping is not available in dart mode\n",
      "  _log_warning('Early stopping is not available in dart mode')\n"
     ]
    },
    {
     "name": "stdout",
     "output_type": "stream",
     "text": [
      "Fold: Tuning: n_train=263581, eval_set=43930\n"
     ]
    },
    {
     "name": "stderr",
     "output_type": "stream",
     "text": [
      "C:\\Users\\Paulius\\AppData\\Local\\pypoetry\\Cache\\virtualenvs\\ppuodz-ml-4-1-dqELbViF-py3.12\\Lib\\site-packages\\lightgbm\\callback.py:325: UserWarning: Early stopping is not available in dart mode\n",
      "  _log_warning('Early stopping is not available in dart mode')\n"
     ]
    },
    {
     "name": "stdout",
     "output_type": "stream",
     "text": [
      "Fold: Tuning: n_train=263581, eval_set=43930\n"
     ]
    },
    {
     "name": "stderr",
     "output_type": "stream",
     "text": [
      "C:\\Users\\Paulius\\AppData\\Local\\pypoetry\\Cache\\virtualenvs\\ppuodz-ml-4-1-dqELbViF-py3.12\\Lib\\site-packages\\lightgbm\\callback.py:325: UserWarning: Early stopping is not available in dart mode\n",
      "  _log_warning('Early stopping is not available in dart mode')\n"
     ]
    },
    {
     "name": "stdout",
     "output_type": "stream",
     "text": [
      "Fold: Tuning: n_train=263581, eval_set=43930\n"
     ]
    },
    {
     "name": "stderr",
     "output_type": "stream",
     "text": [
      "C:\\Users\\Paulius\\AppData\\Local\\pypoetry\\Cache\\virtualenvs\\ppuodz-ml-4-1-dqELbViF-py3.12\\Lib\\site-packages\\lightgbm\\callback.py:325: UserWarning: Early stopping is not available in dart mode\n",
      "  _log_warning('Early stopping is not available in dart mode')\n"
     ]
    },
    {
     "name": "stdout",
     "output_type": "stream",
     "text": [
      "Fold: Tuning: n_train=263581, eval_set=43930\n"
     ]
    },
    {
     "name": "stderr",
     "output_type": "stream",
     "text": [
      "C:\\Users\\Paulius\\AppData\\Local\\pypoetry\\Cache\\virtualenvs\\ppuodz-ml-4-1-dqELbViF-py3.12\\Lib\\site-packages\\lightgbm\\callback.py:325: UserWarning: Early stopping is not available in dart mode\n",
      "  _log_warning('Early stopping is not available in dart mode')\n"
     ]
    },
    {
     "name": "stdout",
     "output_type": "stream",
     "text": [
      "Fold: Tuning: n_train=263581, eval_set=43930\n",
      "Tune: val_score:0.7756, std_test_score:0.00371 train_set_score:0.8613\n",
      "folds val/train: [0.7751, 0.772, 0.7711, 0.7792, 0.7823, 0.7756, 0.7736] / [0.8611, 0.8623, 0.8627, 0.861, 0.8592, 0.8627, 0.8599], mean fold time: 25.31\n"
     ]
    },
    {
     "name": "stderr",
     "output_type": "stream",
     "text": [
      "[I 2024-04-20 17:17:08,854] Trial 16 finished with value: 0.7755539553563767 and parameters: {'model__n_estimators': 750, 'model__learning_rate': 0.18000000000000002, 'model__max_depth': 7, 'model__num_leaves': 256, 'model__min_gain_to_split': 2.5, 'model__min_data_in_leaf': 2700, 'model__lambda_l1': 35, 'model__lambda_l2': 60, 'model__bagging_fraction': 0.4, 'model__feature_fraction': 1.0, 'model__max_bin': 225}. Best is trial 13 with value: 0.7756350970240453.\n",
      "C:\\Users\\Paulius\\AppData\\Local\\pypoetry\\Cache\\virtualenvs\\ppuodz-ml-4-1-dqELbViF-py3.12\\Lib\\site-packages\\lightgbm\\callback.py:325: UserWarning: Early stopping is not available in dart mode\n",
      "  _log_warning('Early stopping is not available in dart mode')\n"
     ]
    },
    {
     "name": "stdout",
     "output_type": "stream",
     "text": [
      "Fold: Tuning: n_train=263580, eval_set=43931\n"
     ]
    },
    {
     "name": "stderr",
     "output_type": "stream",
     "text": [
      "C:\\Users\\Paulius\\AppData\\Local\\pypoetry\\Cache\\virtualenvs\\ppuodz-ml-4-1-dqELbViF-py3.12\\Lib\\site-packages\\lightgbm\\callback.py:325: UserWarning: Early stopping is not available in dart mode\n",
      "  _log_warning('Early stopping is not available in dart mode')\n"
     ]
    },
    {
     "name": "stdout",
     "output_type": "stream",
     "text": [
      "Fold: Tuning: n_train=263581, eval_set=43930\n"
     ]
    },
    {
     "name": "stderr",
     "output_type": "stream",
     "text": [
      "C:\\Users\\Paulius\\AppData\\Local\\pypoetry\\Cache\\virtualenvs\\ppuodz-ml-4-1-dqELbViF-py3.12\\Lib\\site-packages\\lightgbm\\callback.py:325: UserWarning: Early stopping is not available in dart mode\n",
      "  _log_warning('Early stopping is not available in dart mode')\n"
     ]
    },
    {
     "name": "stdout",
     "output_type": "stream",
     "text": [
      "Fold: Tuning: n_train=263581, eval_set=43930\n"
     ]
    },
    {
     "name": "stderr",
     "output_type": "stream",
     "text": [
      "C:\\Users\\Paulius\\AppData\\Local\\pypoetry\\Cache\\virtualenvs\\ppuodz-ml-4-1-dqELbViF-py3.12\\Lib\\site-packages\\lightgbm\\callback.py:325: UserWarning: Early stopping is not available in dart mode\n",
      "  _log_warning('Early stopping is not available in dart mode')\n"
     ]
    },
    {
     "name": "stdout",
     "output_type": "stream",
     "text": [
      "Fold: Tuning: n_train=263581, eval_set=43930\n"
     ]
    },
    {
     "name": "stderr",
     "output_type": "stream",
     "text": [
      "C:\\Users\\Paulius\\AppData\\Local\\pypoetry\\Cache\\virtualenvs\\ppuodz-ml-4-1-dqELbViF-py3.12\\Lib\\site-packages\\lightgbm\\callback.py:325: UserWarning: Early stopping is not available in dart mode\n",
      "  _log_warning('Early stopping is not available in dart mode')\n"
     ]
    },
    {
     "name": "stdout",
     "output_type": "stream",
     "text": [
      "Fold: Tuning: n_train=263581, eval_set=43930\n"
     ]
    },
    {
     "name": "stderr",
     "output_type": "stream",
     "text": [
      "C:\\Users\\Paulius\\AppData\\Local\\pypoetry\\Cache\\virtualenvs\\ppuodz-ml-4-1-dqELbViF-py3.12\\Lib\\site-packages\\lightgbm\\callback.py:325: UserWarning: Early stopping is not available in dart mode\n",
      "  _log_warning('Early stopping is not available in dart mode')\n"
     ]
    },
    {
     "name": "stdout",
     "output_type": "stream",
     "text": [
      "Fold: Tuning: n_train=263581, eval_set=43930\n"
     ]
    },
    {
     "name": "stderr",
     "output_type": "stream",
     "text": [
      "C:\\Users\\Paulius\\AppData\\Local\\pypoetry\\Cache\\virtualenvs\\ppuodz-ml-4-1-dqELbViF-py3.12\\Lib\\site-packages\\lightgbm\\callback.py:325: UserWarning: Early stopping is not available in dart mode\n",
      "  _log_warning('Early stopping is not available in dart mode')\n"
     ]
    },
    {
     "name": "stdout",
     "output_type": "stream",
     "text": [
      "Fold: Tuning: n_train=263581, eval_set=43930\n",
      "Tune: val_score:0.7755, std_test_score:0.00375 train_set_score:0.8488\n",
      "folds val/train: [0.7748, 0.7726, 0.7717, 0.7788, 0.7824, 0.7764, 0.7716] / [0.8491, 0.8498, 0.85, 0.8478, 0.8471, 0.8491, 0.8485], mean fold time: 24.36\n"
     ]
    },
    {
     "name": "stderr",
     "output_type": "stream",
     "text": [
      "[I 2024-04-20 17:20:00,186] Trial 17 finished with value: 0.7754630876377261 and parameters: {'model__n_estimators': 650, 'model__learning_rate': 0.24000000000000002, 'model__max_depth': 10, 'model__num_leaves': 224, 'model__min_gain_to_split': 1.5, 'model__min_data_in_leaf': 1700, 'model__lambda_l1': 100, 'model__lambda_l2': 35, 'model__bagging_fraction': 0.6000000000000001, 'model__feature_fraction': 0.7, 'model__max_bin': 150}. Best is trial 13 with value: 0.7756350970240453.\n",
      "C:\\Users\\Paulius\\AppData\\Local\\pypoetry\\Cache\\virtualenvs\\ppuodz-ml-4-1-dqELbViF-py3.12\\Lib\\site-packages\\lightgbm\\callback.py:325: UserWarning: Early stopping is not available in dart mode\n",
      "  _log_warning('Early stopping is not available in dart mode')\n"
     ]
    },
    {
     "name": "stdout",
     "output_type": "stream",
     "text": [
      "Fold: Tuning: n_train=263580, eval_set=43931\n"
     ]
    },
    {
     "name": "stderr",
     "output_type": "stream",
     "text": [
      "C:\\Users\\Paulius\\AppData\\Local\\pypoetry\\Cache\\virtualenvs\\ppuodz-ml-4-1-dqELbViF-py3.12\\Lib\\site-packages\\lightgbm\\callback.py:325: UserWarning: Early stopping is not available in dart mode\n",
      "  _log_warning('Early stopping is not available in dart mode')\n"
     ]
    },
    {
     "name": "stdout",
     "output_type": "stream",
     "text": [
      "Fold: Tuning: n_train=263581, eval_set=43930\n"
     ]
    },
    {
     "name": "stderr",
     "output_type": "stream",
     "text": [
      "C:\\Users\\Paulius\\AppData\\Local\\pypoetry\\Cache\\virtualenvs\\ppuodz-ml-4-1-dqELbViF-py3.12\\Lib\\site-packages\\lightgbm\\callback.py:325: UserWarning: Early stopping is not available in dart mode\n",
      "  _log_warning('Early stopping is not available in dart mode')\n"
     ]
    },
    {
     "name": "stdout",
     "output_type": "stream",
     "text": [
      "Fold: Tuning: n_train=263581, eval_set=43930\n"
     ]
    },
    {
     "name": "stderr",
     "output_type": "stream",
     "text": [
      "C:\\Users\\Paulius\\AppData\\Local\\pypoetry\\Cache\\virtualenvs\\ppuodz-ml-4-1-dqELbViF-py3.12\\Lib\\site-packages\\lightgbm\\callback.py:325: UserWarning: Early stopping is not available in dart mode\n",
      "  _log_warning('Early stopping is not available in dart mode')\n"
     ]
    },
    {
     "name": "stdout",
     "output_type": "stream",
     "text": [
      "Fold: Tuning: n_train=263581, eval_set=43930\n"
     ]
    },
    {
     "name": "stderr",
     "output_type": "stream",
     "text": [
      "C:\\Users\\Paulius\\AppData\\Local\\pypoetry\\Cache\\virtualenvs\\ppuodz-ml-4-1-dqELbViF-py3.12\\Lib\\site-packages\\lightgbm\\callback.py:325: UserWarning: Early stopping is not available in dart mode\n",
      "  _log_warning('Early stopping is not available in dart mode')\n"
     ]
    },
    {
     "name": "stdout",
     "output_type": "stream",
     "text": [
      "Fold: Tuning: n_train=263581, eval_set=43930\n"
     ]
    },
    {
     "name": "stderr",
     "output_type": "stream",
     "text": [
      "C:\\Users\\Paulius\\AppData\\Local\\pypoetry\\Cache\\virtualenvs\\ppuodz-ml-4-1-dqELbViF-py3.12\\Lib\\site-packages\\lightgbm\\callback.py:325: UserWarning: Early stopping is not available in dart mode\n",
      "  _log_warning('Early stopping is not available in dart mode')\n"
     ]
    },
    {
     "name": "stdout",
     "output_type": "stream",
     "text": [
      "Fold: Tuning: n_train=263581, eval_set=43930\n"
     ]
    },
    {
     "name": "stderr",
     "output_type": "stream",
     "text": [
      "C:\\Users\\Paulius\\AppData\\Local\\pypoetry\\Cache\\virtualenvs\\ppuodz-ml-4-1-dqELbViF-py3.12\\Lib\\site-packages\\lightgbm\\callback.py:325: UserWarning: Early stopping is not available in dart mode\n",
      "  _log_warning('Early stopping is not available in dart mode')\n"
     ]
    },
    {
     "name": "stdout",
     "output_type": "stream",
     "text": [
      "Fold: Tuning: n_train=263581, eval_set=43930\n",
      "Tune: val_score:0.7761, std_test_score:0.00379 train_set_score:0.8323\n",
      "folds val/train: [0.7747, 0.7734, 0.7728, 0.7797, 0.7836, 0.7757, 0.7728] / [0.8314, 0.8332, 0.8339, 0.8325, 0.8305, 0.8323, 0.832], mean fold time: 25.67\n"
     ]
    },
    {
     "name": "stderr",
     "output_type": "stream",
     "text": [
      "[I 2024-04-20 17:23:00,698] Trial 18 finished with value: 0.7760892744471336 and parameters: {'model__n_estimators': 850, 'model__learning_rate': 0.18000000000000002, 'model__max_depth': 6, 'model__num_leaves': 136, 'model__min_gain_to_split': 3.0, 'model__min_data_in_leaf': 2700, 'model__lambda_l1': 70, 'model__lambda_l2': 35, 'model__bagging_fraction': 0.30000000000000004, 'model__feature_fraction': 0.7, 'model__max_bin': 450}. Best is trial 18 with value: 0.7760892744471336.\n",
      "C:\\Users\\Paulius\\AppData\\Local\\pypoetry\\Cache\\virtualenvs\\ppuodz-ml-4-1-dqELbViF-py3.12\\Lib\\site-packages\\lightgbm\\callback.py:325: UserWarning: Early stopping is not available in dart mode\n",
      "  _log_warning('Early stopping is not available in dart mode')\n"
     ]
    },
    {
     "name": "stdout",
     "output_type": "stream",
     "text": [
      "Fold: Tuning: n_train=263580, eval_set=43931\n"
     ]
    },
    {
     "name": "stderr",
     "output_type": "stream",
     "text": [
      "C:\\Users\\Paulius\\AppData\\Local\\pypoetry\\Cache\\virtualenvs\\ppuodz-ml-4-1-dqELbViF-py3.12\\Lib\\site-packages\\lightgbm\\callback.py:325: UserWarning: Early stopping is not available in dart mode\n",
      "  _log_warning('Early stopping is not available in dart mode')\n"
     ]
    },
    {
     "name": "stdout",
     "output_type": "stream",
     "text": [
      "Fold: Tuning: n_train=263581, eval_set=43930\n"
     ]
    },
    {
     "name": "stderr",
     "output_type": "stream",
     "text": [
      "C:\\Users\\Paulius\\AppData\\Local\\pypoetry\\Cache\\virtualenvs\\ppuodz-ml-4-1-dqELbViF-py3.12\\Lib\\site-packages\\lightgbm\\callback.py:325: UserWarning: Early stopping is not available in dart mode\n",
      "  _log_warning('Early stopping is not available in dart mode')\n"
     ]
    },
    {
     "name": "stdout",
     "output_type": "stream",
     "text": [
      "Fold: Tuning: n_train=263581, eval_set=43930\n"
     ]
    },
    {
     "name": "stderr",
     "output_type": "stream",
     "text": [
      "C:\\Users\\Paulius\\AppData\\Local\\pypoetry\\Cache\\virtualenvs\\ppuodz-ml-4-1-dqELbViF-py3.12\\Lib\\site-packages\\lightgbm\\callback.py:325: UserWarning: Early stopping is not available in dart mode\n",
      "  _log_warning('Early stopping is not available in dart mode')\n"
     ]
    },
    {
     "name": "stdout",
     "output_type": "stream",
     "text": [
      "Fold: Tuning: n_train=263581, eval_set=43930\n"
     ]
    },
    {
     "name": "stderr",
     "output_type": "stream",
     "text": [
      "C:\\Users\\Paulius\\AppData\\Local\\pypoetry\\Cache\\virtualenvs\\ppuodz-ml-4-1-dqELbViF-py3.12\\Lib\\site-packages\\lightgbm\\callback.py:325: UserWarning: Early stopping is not available in dart mode\n",
      "  _log_warning('Early stopping is not available in dart mode')\n"
     ]
    },
    {
     "name": "stdout",
     "output_type": "stream",
     "text": [
      "Fold: Tuning: n_train=263581, eval_set=43930\n"
     ]
    },
    {
     "name": "stderr",
     "output_type": "stream",
     "text": [
      "C:\\Users\\Paulius\\AppData\\Local\\pypoetry\\Cache\\virtualenvs\\ppuodz-ml-4-1-dqELbViF-py3.12\\Lib\\site-packages\\lightgbm\\callback.py:325: UserWarning: Early stopping is not available in dart mode\n",
      "  _log_warning('Early stopping is not available in dart mode')\n"
     ]
    },
    {
     "name": "stdout",
     "output_type": "stream",
     "text": [
      "Fold: Tuning: n_train=263581, eval_set=43930\n"
     ]
    },
    {
     "name": "stderr",
     "output_type": "stream",
     "text": [
      "C:\\Users\\Paulius\\AppData\\Local\\pypoetry\\Cache\\virtualenvs\\ppuodz-ml-4-1-dqELbViF-py3.12\\Lib\\site-packages\\lightgbm\\callback.py:325: UserWarning: Early stopping is not available in dart mode\n",
      "  _log_warning('Early stopping is not available in dart mode')\n"
     ]
    },
    {
     "name": "stdout",
     "output_type": "stream",
     "text": [
      "Fold: Tuning: n_train=263581, eval_set=43930\n",
      "Tune: val_score:0.7763, std_test_score:0.00343 train_set_score:0.8248\n",
      "folds val/train: [0.7764, 0.7742, 0.7731, 0.7794, 0.7828, 0.7763, 0.7723] / [0.824, 0.8256, 0.8263, 0.8237, 0.8234, 0.8246, 0.826], mean fold time: 20.91\n"
     ]
    },
    {
     "name": "stderr",
     "output_type": "stream",
     "text": [
      "[I 2024-04-20 17:25:27,847] Trial 19 finished with value: 0.776348422018213 and parameters: {'model__n_estimators': 800, 'model__learning_rate': 0.19, 'model__max_depth': 5, 'model__num_leaves': 144, 'model__min_gain_to_split': 3.5, 'model__min_data_in_leaf': 2600, 'model__lambda_l1': 70, 'model__lambda_l2': 20, 'model__bagging_fraction': 0.30000000000000004, 'model__feature_fraction': 0.9000000000000001, 'model__max_bin': 475}. Best is trial 19 with value: 0.776348422018213.\n",
      "C:\\Users\\Paulius\\AppData\\Local\\pypoetry\\Cache\\virtualenvs\\ppuodz-ml-4-1-dqELbViF-py3.12\\Lib\\site-packages\\lightgbm\\callback.py:325: UserWarning: Early stopping is not available in dart mode\n",
      "  _log_warning('Early stopping is not available in dart mode')\n"
     ]
    },
    {
     "name": "stdout",
     "output_type": "stream",
     "text": [
      "Fold: Tuning: n_train=263580, eval_set=43931\n"
     ]
    },
    {
     "name": "stderr",
     "output_type": "stream",
     "text": [
      "C:\\Users\\Paulius\\AppData\\Local\\pypoetry\\Cache\\virtualenvs\\ppuodz-ml-4-1-dqELbViF-py3.12\\Lib\\site-packages\\lightgbm\\callback.py:325: UserWarning: Early stopping is not available in dart mode\n",
      "  _log_warning('Early stopping is not available in dart mode')\n"
     ]
    },
    {
     "name": "stdout",
     "output_type": "stream",
     "text": [
      "Fold: Tuning: n_train=263581, eval_set=43930\n"
     ]
    },
    {
     "name": "stderr",
     "output_type": "stream",
     "text": [
      "C:\\Users\\Paulius\\AppData\\Local\\pypoetry\\Cache\\virtualenvs\\ppuodz-ml-4-1-dqELbViF-py3.12\\Lib\\site-packages\\lightgbm\\callback.py:325: UserWarning: Early stopping is not available in dart mode\n",
      "  _log_warning('Early stopping is not available in dart mode')\n"
     ]
    },
    {
     "name": "stdout",
     "output_type": "stream",
     "text": [
      "Fold: Tuning: n_train=263581, eval_set=43930\n"
     ]
    },
    {
     "name": "stderr",
     "output_type": "stream",
     "text": [
      "C:\\Users\\Paulius\\AppData\\Local\\pypoetry\\Cache\\virtualenvs\\ppuodz-ml-4-1-dqELbViF-py3.12\\Lib\\site-packages\\lightgbm\\callback.py:325: UserWarning: Early stopping is not available in dart mode\n",
      "  _log_warning('Early stopping is not available in dart mode')\n"
     ]
    },
    {
     "name": "stdout",
     "output_type": "stream",
     "text": [
      "Fold: Tuning: n_train=263581, eval_set=43930\n"
     ]
    },
    {
     "name": "stderr",
     "output_type": "stream",
     "text": [
      "C:\\Users\\Paulius\\AppData\\Local\\pypoetry\\Cache\\virtualenvs\\ppuodz-ml-4-1-dqELbViF-py3.12\\Lib\\site-packages\\lightgbm\\callback.py:325: UserWarning: Early stopping is not available in dart mode\n",
      "  _log_warning('Early stopping is not available in dart mode')\n"
     ]
    },
    {
     "name": "stdout",
     "output_type": "stream",
     "text": [
      "Fold: Tuning: n_train=263581, eval_set=43930\n"
     ]
    },
    {
     "name": "stderr",
     "output_type": "stream",
     "text": [
      "C:\\Users\\Paulius\\AppData\\Local\\pypoetry\\Cache\\virtualenvs\\ppuodz-ml-4-1-dqELbViF-py3.12\\Lib\\site-packages\\lightgbm\\callback.py:325: UserWarning: Early stopping is not available in dart mode\n",
      "  _log_warning('Early stopping is not available in dart mode')\n"
     ]
    },
    {
     "name": "stdout",
     "output_type": "stream",
     "text": [
      "Fold: Tuning: n_train=263581, eval_set=43930\n"
     ]
    },
    {
     "name": "stderr",
     "output_type": "stream",
     "text": [
      "C:\\Users\\Paulius\\AppData\\Local\\pypoetry\\Cache\\virtualenvs\\ppuodz-ml-4-1-dqELbViF-py3.12\\Lib\\site-packages\\lightgbm\\callback.py:325: UserWarning: Early stopping is not available in dart mode\n",
      "  _log_warning('Early stopping is not available in dart mode')\n"
     ]
    },
    {
     "name": "stdout",
     "output_type": "stream",
     "text": [
      "Fold: Tuning: n_train=263581, eval_set=43930\n",
      "Tune: val_score:0.7752, std_test_score:0.00386 train_set_score:0.8159\n",
      "folds val/train: [0.7746, 0.7721, 0.7721, 0.7788, 0.7828, 0.7747, 0.7714] / [0.8165, 0.8164, 0.8163, 0.8152, 0.8146, 0.8161, 0.8163], mean fold time: 22.01\n"
     ]
    },
    {
     "name": "stderr",
     "output_type": "stream",
     "text": [
      "[I 2024-04-20 17:28:02,725] Trial 20 finished with value: 0.7752153986832878 and parameters: {'model__n_estimators': 850, 'model__learning_rate': 0.19, 'model__max_depth': 5, 'model__num_leaves': 144, 'model__min_gain_to_split': 8.5, 'model__min_data_in_leaf': 2600, 'model__lambda_l1': 45, 'model__lambda_l2': 0, 'model__bagging_fraction': 0.30000000000000004, 'model__feature_fraction': 0.9000000000000001, 'model__max_bin': 450}. Best is trial 19 with value: 0.776348422018213.\n",
      "C:\\Users\\Paulius\\AppData\\Local\\pypoetry\\Cache\\virtualenvs\\ppuodz-ml-4-1-dqELbViF-py3.12\\Lib\\site-packages\\lightgbm\\callback.py:325: UserWarning: Early stopping is not available in dart mode\n",
      "  _log_warning('Early stopping is not available in dart mode')\n"
     ]
    },
    {
     "name": "stdout",
     "output_type": "stream",
     "text": [
      "Fold: Tuning: n_train=263580, eval_set=43931\n"
     ]
    },
    {
     "name": "stderr",
     "output_type": "stream",
     "text": [
      "C:\\Users\\Paulius\\AppData\\Local\\pypoetry\\Cache\\virtualenvs\\ppuodz-ml-4-1-dqELbViF-py3.12\\Lib\\site-packages\\lightgbm\\callback.py:325: UserWarning: Early stopping is not available in dart mode\n",
      "  _log_warning('Early stopping is not available in dart mode')\n"
     ]
    },
    {
     "name": "stdout",
     "output_type": "stream",
     "text": [
      "Fold: Tuning: n_train=263581, eval_set=43930\n"
     ]
    },
    {
     "name": "stderr",
     "output_type": "stream",
     "text": [
      "C:\\Users\\Paulius\\AppData\\Local\\pypoetry\\Cache\\virtualenvs\\ppuodz-ml-4-1-dqELbViF-py3.12\\Lib\\site-packages\\lightgbm\\callback.py:325: UserWarning: Early stopping is not available in dart mode\n",
      "  _log_warning('Early stopping is not available in dart mode')\n"
     ]
    },
    {
     "name": "stdout",
     "output_type": "stream",
     "text": [
      "Fold: Tuning: n_train=263581, eval_set=43930\n"
     ]
    },
    {
     "name": "stderr",
     "output_type": "stream",
     "text": [
      "C:\\Users\\Paulius\\AppData\\Local\\pypoetry\\Cache\\virtualenvs\\ppuodz-ml-4-1-dqELbViF-py3.12\\Lib\\site-packages\\lightgbm\\callback.py:325: UserWarning: Early stopping is not available in dart mode\n",
      "  _log_warning('Early stopping is not available in dart mode')\n"
     ]
    },
    {
     "name": "stdout",
     "output_type": "stream",
     "text": [
      "Fold: Tuning: n_train=263581, eval_set=43930\n"
     ]
    },
    {
     "name": "stderr",
     "output_type": "stream",
     "text": [
      "C:\\Users\\Paulius\\AppData\\Local\\pypoetry\\Cache\\virtualenvs\\ppuodz-ml-4-1-dqELbViF-py3.12\\Lib\\site-packages\\lightgbm\\callback.py:325: UserWarning: Early stopping is not available in dart mode\n",
      "  _log_warning('Early stopping is not available in dart mode')\n"
     ]
    },
    {
     "name": "stdout",
     "output_type": "stream",
     "text": [
      "Fold: Tuning: n_train=263581, eval_set=43930\n"
     ]
    },
    {
     "name": "stderr",
     "output_type": "stream",
     "text": [
      "C:\\Users\\Paulius\\AppData\\Local\\pypoetry\\Cache\\virtualenvs\\ppuodz-ml-4-1-dqELbViF-py3.12\\Lib\\site-packages\\lightgbm\\callback.py:325: UserWarning: Early stopping is not available in dart mode\n",
      "  _log_warning('Early stopping is not available in dart mode')\n"
     ]
    },
    {
     "name": "stdout",
     "output_type": "stream",
     "text": [
      "Fold: Tuning: n_train=263581, eval_set=43930\n"
     ]
    },
    {
     "name": "stderr",
     "output_type": "stream",
     "text": [
      "C:\\Users\\Paulius\\AppData\\Local\\pypoetry\\Cache\\virtualenvs\\ppuodz-ml-4-1-dqELbViF-py3.12\\Lib\\site-packages\\lightgbm\\callback.py:325: UserWarning: Early stopping is not available in dart mode\n",
      "  _log_warning('Early stopping is not available in dart mode')\n"
     ]
    },
    {
     "name": "stdout",
     "output_type": "stream",
     "text": [
      "Fold: Tuning: n_train=263581, eval_set=43930\n",
      "Tune: val_score:0.7762, std_test_score:0.00373 train_set_score:0.8310\n",
      "folds val/train: [0.7754, 0.7733, 0.773, 0.7801, 0.783, 0.7765, 0.7721] / [0.8305, 0.8312, 0.8319, 0.8306, 0.8287, 0.8313, 0.8329], mean fold time: 26.42\n"
     ]
    },
    {
     "name": "stderr",
     "output_type": "stream",
     "text": [
      "[I 2024-04-20 17:31:08,432] Trial 21 finished with value: 0.7761916826404839 and parameters: {'model__n_estimators': 850, 'model__learning_rate': 0.16, 'model__max_depth': 6, 'model__num_leaves': 152, 'model__min_gain_to_split': 3.5, 'model__min_data_in_leaf': 2700, 'model__lambda_l1': 70, 'model__lambda_l2': 25, 'model__bagging_fraction': 0.30000000000000004, 'model__feature_fraction': 0.9000000000000001, 'model__max_bin': 450}. Best is trial 19 with value: 0.776348422018213.\n",
      "C:\\Users\\Paulius\\AppData\\Local\\pypoetry\\Cache\\virtualenvs\\ppuodz-ml-4-1-dqELbViF-py3.12\\Lib\\site-packages\\lightgbm\\callback.py:325: UserWarning: Early stopping is not available in dart mode\n",
      "  _log_warning('Early stopping is not available in dart mode')\n"
     ]
    },
    {
     "name": "stdout",
     "output_type": "stream",
     "text": [
      "Fold: Tuning: n_train=263580, eval_set=43931\n"
     ]
    },
    {
     "name": "stderr",
     "output_type": "stream",
     "text": [
      "C:\\Users\\Paulius\\AppData\\Local\\pypoetry\\Cache\\virtualenvs\\ppuodz-ml-4-1-dqELbViF-py3.12\\Lib\\site-packages\\lightgbm\\callback.py:325: UserWarning: Early stopping is not available in dart mode\n",
      "  _log_warning('Early stopping is not available in dart mode')\n"
     ]
    },
    {
     "name": "stdout",
     "output_type": "stream",
     "text": [
      "Fold: Tuning: n_train=263581, eval_set=43930\n"
     ]
    },
    {
     "name": "stderr",
     "output_type": "stream",
     "text": [
      "C:\\Users\\Paulius\\AppData\\Local\\pypoetry\\Cache\\virtualenvs\\ppuodz-ml-4-1-dqELbViF-py3.12\\Lib\\site-packages\\lightgbm\\callback.py:325: UserWarning: Early stopping is not available in dart mode\n",
      "  _log_warning('Early stopping is not available in dart mode')\n"
     ]
    },
    {
     "name": "stdout",
     "output_type": "stream",
     "text": [
      "Fold: Tuning: n_train=263581, eval_set=43930\n"
     ]
    },
    {
     "name": "stderr",
     "output_type": "stream",
     "text": [
      "C:\\Users\\Paulius\\AppData\\Local\\pypoetry\\Cache\\virtualenvs\\ppuodz-ml-4-1-dqELbViF-py3.12\\Lib\\site-packages\\lightgbm\\callback.py:325: UserWarning: Early stopping is not available in dart mode\n",
      "  _log_warning('Early stopping is not available in dart mode')\n"
     ]
    },
    {
     "name": "stdout",
     "output_type": "stream",
     "text": [
      "Fold: Tuning: n_train=263581, eval_set=43930\n"
     ]
    },
    {
     "name": "stderr",
     "output_type": "stream",
     "text": [
      "C:\\Users\\Paulius\\AppData\\Local\\pypoetry\\Cache\\virtualenvs\\ppuodz-ml-4-1-dqELbViF-py3.12\\Lib\\site-packages\\lightgbm\\callback.py:325: UserWarning: Early stopping is not available in dart mode\n",
      "  _log_warning('Early stopping is not available in dart mode')\n"
     ]
    },
    {
     "name": "stdout",
     "output_type": "stream",
     "text": [
      "Fold: Tuning: n_train=263581, eval_set=43930\n"
     ]
    },
    {
     "name": "stderr",
     "output_type": "stream",
     "text": [
      "C:\\Users\\Paulius\\AppData\\Local\\pypoetry\\Cache\\virtualenvs\\ppuodz-ml-4-1-dqELbViF-py3.12\\Lib\\site-packages\\lightgbm\\callback.py:325: UserWarning: Early stopping is not available in dart mode\n",
      "  _log_warning('Early stopping is not available in dart mode')\n"
     ]
    },
    {
     "name": "stdout",
     "output_type": "stream",
     "text": [
      "Fold: Tuning: n_train=263581, eval_set=43930\n"
     ]
    },
    {
     "name": "stderr",
     "output_type": "stream",
     "text": [
      "C:\\Users\\Paulius\\AppData\\Local\\pypoetry\\Cache\\virtualenvs\\ppuodz-ml-4-1-dqELbViF-py3.12\\Lib\\site-packages\\lightgbm\\callback.py:325: UserWarning: Early stopping is not available in dart mode\n",
      "  _log_warning('Early stopping is not available in dart mode')\n"
     ]
    },
    {
     "name": "stdout",
     "output_type": "stream",
     "text": [
      "Fold: Tuning: n_train=263581, eval_set=43930\n",
      "Tune: val_score:0.7760, std_test_score:0.00366 train_set_score:0.8222\n",
      "folds val/train: [0.7763, 0.7734, 0.7722, 0.7792, 0.783, 0.7758, 0.7724] / [0.8219, 0.8224, 0.8232, 0.8215, 0.8206, 0.8228, 0.8229], mean fold time: 22.50\n"
     ]
    },
    {
     "name": "stderr",
     "output_type": "stream",
     "text": [
      "[I 2024-04-20 17:33:46,718] Trial 22 finished with value: 0.7760346282822559 and parameters: {'model__n_estimators': 850, 'model__learning_rate': 0.15000000000000002, 'model__max_depth': 5, 'model__num_leaves': 152, 'model__min_gain_to_split': 4.0, 'model__min_data_in_leaf': 2600, 'model__lambda_l1': 70, 'model__lambda_l2': 25, 'model__bagging_fraction': 0.30000000000000004, 'model__feature_fraction': 0.9000000000000001, 'model__max_bin': 475}. Best is trial 19 with value: 0.776348422018213.\n",
      "C:\\Users\\Paulius\\AppData\\Local\\pypoetry\\Cache\\virtualenvs\\ppuodz-ml-4-1-dqELbViF-py3.12\\Lib\\site-packages\\lightgbm\\callback.py:325: UserWarning: Early stopping is not available in dart mode\n",
      "  _log_warning('Early stopping is not available in dart mode')\n"
     ]
    },
    {
     "name": "stdout",
     "output_type": "stream",
     "text": [
      "Fold: Tuning: n_train=263580, eval_set=43931\n"
     ]
    },
    {
     "name": "stderr",
     "output_type": "stream",
     "text": [
      "C:\\Users\\Paulius\\AppData\\Local\\pypoetry\\Cache\\virtualenvs\\ppuodz-ml-4-1-dqELbViF-py3.12\\Lib\\site-packages\\lightgbm\\callback.py:325: UserWarning: Early stopping is not available in dart mode\n",
      "  _log_warning('Early stopping is not available in dart mode')\n"
     ]
    },
    {
     "name": "stdout",
     "output_type": "stream",
     "text": [
      "Fold: Tuning: n_train=263581, eval_set=43930\n"
     ]
    },
    {
     "name": "stderr",
     "output_type": "stream",
     "text": [
      "C:\\Users\\Paulius\\AppData\\Local\\pypoetry\\Cache\\virtualenvs\\ppuodz-ml-4-1-dqELbViF-py3.12\\Lib\\site-packages\\lightgbm\\callback.py:325: UserWarning: Early stopping is not available in dart mode\n",
      "  _log_warning('Early stopping is not available in dart mode')\n"
     ]
    },
    {
     "name": "stdout",
     "output_type": "stream",
     "text": [
      "Fold: Tuning: n_train=263581, eval_set=43930\n"
     ]
    },
    {
     "name": "stderr",
     "output_type": "stream",
     "text": [
      "C:\\Users\\Paulius\\AppData\\Local\\pypoetry\\Cache\\virtualenvs\\ppuodz-ml-4-1-dqELbViF-py3.12\\Lib\\site-packages\\lightgbm\\callback.py:325: UserWarning: Early stopping is not available in dart mode\n",
      "  _log_warning('Early stopping is not available in dart mode')\n"
     ]
    },
    {
     "name": "stdout",
     "output_type": "stream",
     "text": [
      "Fold: Tuning: n_train=263581, eval_set=43930\n"
     ]
    },
    {
     "name": "stderr",
     "output_type": "stream",
     "text": [
      "C:\\Users\\Paulius\\AppData\\Local\\pypoetry\\Cache\\virtualenvs\\ppuodz-ml-4-1-dqELbViF-py3.12\\Lib\\site-packages\\lightgbm\\callback.py:325: UserWarning: Early stopping is not available in dart mode\n",
      "  _log_warning('Early stopping is not available in dart mode')\n"
     ]
    },
    {
     "name": "stdout",
     "output_type": "stream",
     "text": [
      "Fold: Tuning: n_train=263581, eval_set=43930\n"
     ]
    },
    {
     "name": "stderr",
     "output_type": "stream",
     "text": [
      "C:\\Users\\Paulius\\AppData\\Local\\pypoetry\\Cache\\virtualenvs\\ppuodz-ml-4-1-dqELbViF-py3.12\\Lib\\site-packages\\lightgbm\\callback.py:325: UserWarning: Early stopping is not available in dart mode\n",
      "  _log_warning('Early stopping is not available in dart mode')\n"
     ]
    },
    {
     "name": "stdout",
     "output_type": "stream",
     "text": [
      "Fold: Tuning: n_train=263581, eval_set=43930\n"
     ]
    },
    {
     "name": "stderr",
     "output_type": "stream",
     "text": [
      "C:\\Users\\Paulius\\AppData\\Local\\pypoetry\\Cache\\virtualenvs\\ppuodz-ml-4-1-dqELbViF-py3.12\\Lib\\site-packages\\lightgbm\\callback.py:325: UserWarning: Early stopping is not available in dart mode\n",
      "  _log_warning('Early stopping is not available in dart mode')\n"
     ]
    },
    {
     "name": "stdout",
     "output_type": "stream",
     "text": [
      "Fold: Tuning: n_train=263581, eval_set=43930\n",
      "Tune: val_score:0.7756, std_test_score:0.00367 train_set_score:0.8324\n",
      "folds val/train: [0.7759, 0.7731, 0.7717, 0.7786, 0.7825, 0.7755, 0.7716] / [0.8318, 0.8323, 0.8333, 0.8311, 0.8314, 0.8333, 0.8335], mean fold time: 27.49\n"
     ]
    },
    {
     "name": "stderr",
     "output_type": "stream",
     "text": [
      "[I 2024-04-20 17:36:59,974] Trial 23 finished with value: 0.7755668528251282 and parameters: {'model__n_estimators': 850, 'model__learning_rate': 0.11, 'model__max_depth': 6, 'model__num_leaves': 112, 'model__min_gain_to_split': 4.0, 'model__min_data_in_leaf': 2100, 'model__lambda_l1': 65, 'model__lambda_l2': 20, 'model__bagging_fraction': 0.30000000000000004, 'model__feature_fraction': 1.0, 'model__max_bin': 350}. Best is trial 19 with value: 0.776348422018213.\n",
      "C:\\Users\\Paulius\\AppData\\Local\\pypoetry\\Cache\\virtualenvs\\ppuodz-ml-4-1-dqELbViF-py3.12\\Lib\\site-packages\\lightgbm\\callback.py:325: UserWarning: Early stopping is not available in dart mode\n",
      "  _log_warning('Early stopping is not available in dart mode')\n"
     ]
    },
    {
     "name": "stdout",
     "output_type": "stream",
     "text": [
      "Fold: Tuning: n_train=263580, eval_set=43931\n"
     ]
    },
    {
     "name": "stderr",
     "output_type": "stream",
     "text": [
      "C:\\Users\\Paulius\\AppData\\Local\\pypoetry\\Cache\\virtualenvs\\ppuodz-ml-4-1-dqELbViF-py3.12\\Lib\\site-packages\\lightgbm\\callback.py:325: UserWarning: Early stopping is not available in dart mode\n",
      "  _log_warning('Early stopping is not available in dart mode')\n"
     ]
    },
    {
     "name": "stdout",
     "output_type": "stream",
     "text": [
      "Fold: Tuning: n_train=263581, eval_set=43930\n"
     ]
    },
    {
     "name": "stderr",
     "output_type": "stream",
     "text": [
      "C:\\Users\\Paulius\\AppData\\Local\\pypoetry\\Cache\\virtualenvs\\ppuodz-ml-4-1-dqELbViF-py3.12\\Lib\\site-packages\\lightgbm\\callback.py:325: UserWarning: Early stopping is not available in dart mode\n",
      "  _log_warning('Early stopping is not available in dart mode')\n"
     ]
    },
    {
     "name": "stdout",
     "output_type": "stream",
     "text": [
      "Fold: Tuning: n_train=263581, eval_set=43930\n"
     ]
    },
    {
     "name": "stderr",
     "output_type": "stream",
     "text": [
      "C:\\Users\\Paulius\\AppData\\Local\\pypoetry\\Cache\\virtualenvs\\ppuodz-ml-4-1-dqELbViF-py3.12\\Lib\\site-packages\\lightgbm\\callback.py:325: UserWarning: Early stopping is not available in dart mode\n",
      "  _log_warning('Early stopping is not available in dart mode')\n"
     ]
    },
    {
     "name": "stdout",
     "output_type": "stream",
     "text": [
      "Fold: Tuning: n_train=263581, eval_set=43930\n"
     ]
    },
    {
     "name": "stderr",
     "output_type": "stream",
     "text": [
      "C:\\Users\\Paulius\\AppData\\Local\\pypoetry\\Cache\\virtualenvs\\ppuodz-ml-4-1-dqELbViF-py3.12\\Lib\\site-packages\\lightgbm\\callback.py:325: UserWarning: Early stopping is not available in dart mode\n",
      "  _log_warning('Early stopping is not available in dart mode')\n"
     ]
    },
    {
     "name": "stdout",
     "output_type": "stream",
     "text": [
      "Fold: Tuning: n_train=263581, eval_set=43930\n"
     ]
    },
    {
     "name": "stderr",
     "output_type": "stream",
     "text": [
      "C:\\Users\\Paulius\\AppData\\Local\\pypoetry\\Cache\\virtualenvs\\ppuodz-ml-4-1-dqELbViF-py3.12\\Lib\\site-packages\\lightgbm\\callback.py:325: UserWarning: Early stopping is not available in dart mode\n",
      "  _log_warning('Early stopping is not available in dart mode')\n"
     ]
    },
    {
     "name": "stdout",
     "output_type": "stream",
     "text": [
      "Fold: Tuning: n_train=263581, eval_set=43930\n"
     ]
    },
    {
     "name": "stderr",
     "output_type": "stream",
     "text": [
      "C:\\Users\\Paulius\\AppData\\Local\\pypoetry\\Cache\\virtualenvs\\ppuodz-ml-4-1-dqELbViF-py3.12\\Lib\\site-packages\\lightgbm\\callback.py:325: UserWarning: Early stopping is not available in dart mode\n",
      "  _log_warning('Early stopping is not available in dart mode')\n"
     ]
    },
    {
     "name": "stdout",
     "output_type": "stream",
     "text": [
      "Fold: Tuning: n_train=263581, eval_set=43930\n",
      "Tune: val_score:0.7746, std_test_score:0.00362 train_set_score:0.8301\n",
      "folds val/train: [0.7741, 0.7705, 0.7713, 0.7788, 0.7806, 0.7754, 0.7715] / [0.8293, 0.8309, 0.8298, 0.8297, 0.8286, 0.8307, 0.8318], mean fold time: 15.18\n"
     ]
    },
    {
     "name": "stderr",
     "output_type": "stream",
     "text": [
      "[I 2024-04-20 17:38:47,039] Trial 24 finished with value: 0.7745910338302011 and parameters: {'model__n_estimators': 600, 'model__learning_rate': 0.23, 'model__max_depth': 5, 'model__num_leaves': 160, 'model__min_gain_to_split': 3.0, 'model__min_data_in_leaf': 2400, 'model__lambda_l1': 45, 'model__lambda_l2': 35, 'model__bagging_fraction': 1.0, 'model__feature_fraction': 0.9000000000000001, 'model__max_bin': 450}. Best is trial 19 with value: 0.776348422018213.\n",
      "C:\\Users\\Paulius\\AppData\\Local\\pypoetry\\Cache\\virtualenvs\\ppuodz-ml-4-1-dqELbViF-py3.12\\Lib\\site-packages\\lightgbm\\callback.py:325: UserWarning: Early stopping is not available in dart mode\n",
      "  _log_warning('Early stopping is not available in dart mode')\n"
     ]
    },
    {
     "name": "stdout",
     "output_type": "stream",
     "text": [
      "Fold: Tuning: n_train=263580, eval_set=43931\n"
     ]
    },
    {
     "name": "stderr",
     "output_type": "stream",
     "text": [
      "C:\\Users\\Paulius\\AppData\\Local\\pypoetry\\Cache\\virtualenvs\\ppuodz-ml-4-1-dqELbViF-py3.12\\Lib\\site-packages\\lightgbm\\callback.py:325: UserWarning: Early stopping is not available in dart mode\n",
      "  _log_warning('Early stopping is not available in dart mode')\n"
     ]
    },
    {
     "name": "stdout",
     "output_type": "stream",
     "text": [
      "Fold: Tuning: n_train=263581, eval_set=43930\n"
     ]
    },
    {
     "name": "stderr",
     "output_type": "stream",
     "text": [
      "C:\\Users\\Paulius\\AppData\\Local\\pypoetry\\Cache\\virtualenvs\\ppuodz-ml-4-1-dqELbViF-py3.12\\Lib\\site-packages\\lightgbm\\callback.py:325: UserWarning: Early stopping is not available in dart mode\n",
      "  _log_warning('Early stopping is not available in dart mode')\n"
     ]
    },
    {
     "name": "stdout",
     "output_type": "stream",
     "text": [
      "Fold: Tuning: n_train=263581, eval_set=43930\n"
     ]
    },
    {
     "name": "stderr",
     "output_type": "stream",
     "text": [
      "C:\\Users\\Paulius\\AppData\\Local\\pypoetry\\Cache\\virtualenvs\\ppuodz-ml-4-1-dqELbViF-py3.12\\Lib\\site-packages\\lightgbm\\callback.py:325: UserWarning: Early stopping is not available in dart mode\n",
      "  _log_warning('Early stopping is not available in dart mode')\n"
     ]
    },
    {
     "name": "stdout",
     "output_type": "stream",
     "text": [
      "Fold: Tuning: n_train=263581, eval_set=43930\n"
     ]
    },
    {
     "name": "stderr",
     "output_type": "stream",
     "text": [
      "C:\\Users\\Paulius\\AppData\\Local\\pypoetry\\Cache\\virtualenvs\\ppuodz-ml-4-1-dqELbViF-py3.12\\Lib\\site-packages\\lightgbm\\callback.py:325: UserWarning: Early stopping is not available in dart mode\n",
      "  _log_warning('Early stopping is not available in dart mode')\n"
     ]
    },
    {
     "name": "stdout",
     "output_type": "stream",
     "text": [
      "Fold: Tuning: n_train=263581, eval_set=43930\n"
     ]
    },
    {
     "name": "stderr",
     "output_type": "stream",
     "text": [
      "C:\\Users\\Paulius\\AppData\\Local\\pypoetry\\Cache\\virtualenvs\\ppuodz-ml-4-1-dqELbViF-py3.12\\Lib\\site-packages\\lightgbm\\callback.py:325: UserWarning: Early stopping is not available in dart mode\n",
      "  _log_warning('Early stopping is not available in dart mode')\n"
     ]
    },
    {
     "name": "stdout",
     "output_type": "stream",
     "text": [
      "Fold: Tuning: n_train=263581, eval_set=43930\n"
     ]
    },
    {
     "name": "stderr",
     "output_type": "stream",
     "text": [
      "C:\\Users\\Paulius\\AppData\\Local\\pypoetry\\Cache\\virtualenvs\\ppuodz-ml-4-1-dqELbViF-py3.12\\Lib\\site-packages\\lightgbm\\callback.py:325: UserWarning: Early stopping is not available in dart mode\n",
      "  _log_warning('Early stopping is not available in dart mode')\n"
     ]
    },
    {
     "name": "stdout",
     "output_type": "stream",
     "text": [
      "Fold: Tuning: n_train=263581, eval_set=43930\n",
      "Tune: val_score:0.7756, std_test_score:0.00367 train_set_score:0.8093\n",
      "folds val/train: [0.7756, 0.7727, 0.7723, 0.7784, 0.7829, 0.7755, 0.7718] / [0.8094, 0.8095, 0.8099, 0.8089, 0.8072, 0.8104, 0.8097], mean fold time: 22.34\n"
     ]
    },
    {
     "name": "stderr",
     "output_type": "stream",
     "text": [
      "[I 2024-04-20 17:41:24,215] Trial 25 finished with value: 0.7756021871659659 and parameters: {'model__n_estimators': 1000, 'model__learning_rate': 0.16, 'model__max_depth': 4, 'model__num_leaves': 128, 'model__min_gain_to_split': 5.0, 'model__min_data_in_leaf': 2700, 'model__lambda_l1': 70, 'model__lambda_l2': 5, 'model__bagging_fraction': 0.2, 'model__feature_fraction': 0.5, 'model__max_bin': 475}. Best is trial 19 with value: 0.776348422018213.\n",
      "C:\\Users\\Paulius\\AppData\\Local\\pypoetry\\Cache\\virtualenvs\\ppuodz-ml-4-1-dqELbViF-py3.12\\Lib\\site-packages\\lightgbm\\callback.py:325: UserWarning: Early stopping is not available in dart mode\n",
      "  _log_warning('Early stopping is not available in dart mode')\n"
     ]
    },
    {
     "name": "stdout",
     "output_type": "stream",
     "text": [
      "Fold: Tuning: n_train=263580, eval_set=43931\n"
     ]
    },
    {
     "name": "stderr",
     "output_type": "stream",
     "text": [
      "C:\\Users\\Paulius\\AppData\\Local\\pypoetry\\Cache\\virtualenvs\\ppuodz-ml-4-1-dqELbViF-py3.12\\Lib\\site-packages\\lightgbm\\callback.py:325: UserWarning: Early stopping is not available in dart mode\n",
      "  _log_warning('Early stopping is not available in dart mode')\n"
     ]
    },
    {
     "name": "stdout",
     "output_type": "stream",
     "text": [
      "Fold: Tuning: n_train=263581, eval_set=43930\n"
     ]
    },
    {
     "name": "stderr",
     "output_type": "stream",
     "text": [
      "C:\\Users\\Paulius\\AppData\\Local\\pypoetry\\Cache\\virtualenvs\\ppuodz-ml-4-1-dqELbViF-py3.12\\Lib\\site-packages\\lightgbm\\callback.py:325: UserWarning: Early stopping is not available in dart mode\n",
      "  _log_warning('Early stopping is not available in dart mode')\n"
     ]
    },
    {
     "name": "stdout",
     "output_type": "stream",
     "text": [
      "Fold: Tuning: n_train=263581, eval_set=43930\n"
     ]
    },
    {
     "name": "stderr",
     "output_type": "stream",
     "text": [
      "C:\\Users\\Paulius\\AppData\\Local\\pypoetry\\Cache\\virtualenvs\\ppuodz-ml-4-1-dqELbViF-py3.12\\Lib\\site-packages\\lightgbm\\callback.py:325: UserWarning: Early stopping is not available in dart mode\n",
      "  _log_warning('Early stopping is not available in dart mode')\n"
     ]
    },
    {
     "name": "stdout",
     "output_type": "stream",
     "text": [
      "Fold: Tuning: n_train=263581, eval_set=43930\n"
     ]
    },
    {
     "name": "stderr",
     "output_type": "stream",
     "text": [
      "C:\\Users\\Paulius\\AppData\\Local\\pypoetry\\Cache\\virtualenvs\\ppuodz-ml-4-1-dqELbViF-py3.12\\Lib\\site-packages\\lightgbm\\callback.py:325: UserWarning: Early stopping is not available in dart mode\n",
      "  _log_warning('Early stopping is not available in dart mode')\n"
     ]
    },
    {
     "name": "stdout",
     "output_type": "stream",
     "text": [
      "Fold: Tuning: n_train=263581, eval_set=43930\n"
     ]
    },
    {
     "name": "stderr",
     "output_type": "stream",
     "text": [
      "C:\\Users\\Paulius\\AppData\\Local\\pypoetry\\Cache\\virtualenvs\\ppuodz-ml-4-1-dqELbViF-py3.12\\Lib\\site-packages\\lightgbm\\callback.py:325: UserWarning: Early stopping is not available in dart mode\n",
      "  _log_warning('Early stopping is not available in dart mode')\n"
     ]
    },
    {
     "name": "stdout",
     "output_type": "stream",
     "text": [
      "Fold: Tuning: n_train=263581, eval_set=43930\n"
     ]
    },
    {
     "name": "stderr",
     "output_type": "stream",
     "text": [
      "C:\\Users\\Paulius\\AppData\\Local\\pypoetry\\Cache\\virtualenvs\\ppuodz-ml-4-1-dqELbViF-py3.12\\Lib\\site-packages\\lightgbm\\callback.py:325: UserWarning: Early stopping is not available in dart mode\n",
      "  _log_warning('Early stopping is not available in dart mode')\n"
     ]
    },
    {
     "name": "stdout",
     "output_type": "stream",
     "text": [
      "Fold: Tuning: n_train=263581, eval_set=43930\n",
      "Tune: val_score:0.7753, std_test_score:0.00343 train_set_score:0.8629\n",
      "folds val/train: [0.7745, 0.7733, 0.7719, 0.7789, 0.7818, 0.7748, 0.7721] / [0.8608, 0.8627, 0.8643, 0.8632, 0.8624, 0.8641, 0.8628], mean fold time: 27.02\n"
     ]
    },
    {
     "name": "stderr",
     "output_type": "stream",
     "text": [
      "[I 2024-04-20 17:44:34,148] Trial 26 finished with value: 0.7753129546686146 and parameters: {'model__n_estimators': 850, 'model__learning_rate': 0.19, 'model__max_depth': 6, 'model__num_leaves': 208, 'model__min_gain_to_split': 1.0, 'model__min_data_in_leaf': 1800, 'model__lambda_l1': 60, 'model__lambda_l2': 15, 'model__bagging_fraction': 0.30000000000000004, 'model__feature_fraction': 0.7, 'model__max_bin': 500}. Best is trial 19 with value: 0.776348422018213.\n",
      "C:\\Users\\Paulius\\AppData\\Local\\pypoetry\\Cache\\virtualenvs\\ppuodz-ml-4-1-dqELbViF-py3.12\\Lib\\site-packages\\lightgbm\\callback.py:325: UserWarning: Early stopping is not available in dart mode\n",
      "  _log_warning('Early stopping is not available in dart mode')\n"
     ]
    },
    {
     "name": "stdout",
     "output_type": "stream",
     "text": [
      "Fold: Tuning: n_train=263580, eval_set=43931\n"
     ]
    },
    {
     "name": "stderr",
     "output_type": "stream",
     "text": [
      "C:\\Users\\Paulius\\AppData\\Local\\pypoetry\\Cache\\virtualenvs\\ppuodz-ml-4-1-dqELbViF-py3.12\\Lib\\site-packages\\lightgbm\\callback.py:325: UserWarning: Early stopping is not available in dart mode\n",
      "  _log_warning('Early stopping is not available in dart mode')\n"
     ]
    },
    {
     "name": "stdout",
     "output_type": "stream",
     "text": [
      "Fold: Tuning: n_train=263581, eval_set=43930\n"
     ]
    },
    {
     "name": "stderr",
     "output_type": "stream",
     "text": [
      "C:\\Users\\Paulius\\AppData\\Local\\pypoetry\\Cache\\virtualenvs\\ppuodz-ml-4-1-dqELbViF-py3.12\\Lib\\site-packages\\lightgbm\\callback.py:325: UserWarning: Early stopping is not available in dart mode\n",
      "  _log_warning('Early stopping is not available in dart mode')\n"
     ]
    },
    {
     "name": "stdout",
     "output_type": "stream",
     "text": [
      "Fold: Tuning: n_train=263581, eval_set=43930\n"
     ]
    },
    {
     "name": "stderr",
     "output_type": "stream",
     "text": [
      "C:\\Users\\Paulius\\AppData\\Local\\pypoetry\\Cache\\virtualenvs\\ppuodz-ml-4-1-dqELbViF-py3.12\\Lib\\site-packages\\lightgbm\\callback.py:325: UserWarning: Early stopping is not available in dart mode\n",
      "  _log_warning('Early stopping is not available in dart mode')\n"
     ]
    },
    {
     "name": "stdout",
     "output_type": "stream",
     "text": [
      "Fold: Tuning: n_train=263581, eval_set=43930\n"
     ]
    },
    {
     "name": "stderr",
     "output_type": "stream",
     "text": [
      "C:\\Users\\Paulius\\AppData\\Local\\pypoetry\\Cache\\virtualenvs\\ppuodz-ml-4-1-dqELbViF-py3.12\\Lib\\site-packages\\lightgbm\\callback.py:325: UserWarning: Early stopping is not available in dart mode\n",
      "  _log_warning('Early stopping is not available in dart mode')\n"
     ]
    },
    {
     "name": "stdout",
     "output_type": "stream",
     "text": [
      "Fold: Tuning: n_train=263581, eval_set=43930\n"
     ]
    },
    {
     "name": "stderr",
     "output_type": "stream",
     "text": [
      "C:\\Users\\Paulius\\AppData\\Local\\pypoetry\\Cache\\virtualenvs\\ppuodz-ml-4-1-dqELbViF-py3.12\\Lib\\site-packages\\lightgbm\\callback.py:325: UserWarning: Early stopping is not available in dart mode\n",
      "  _log_warning('Early stopping is not available in dart mode')\n"
     ]
    },
    {
     "name": "stdout",
     "output_type": "stream",
     "text": [
      "Fold: Tuning: n_train=263581, eval_set=43930\n"
     ]
    },
    {
     "name": "stderr",
     "output_type": "stream",
     "text": [
      "C:\\Users\\Paulius\\AppData\\Local\\pypoetry\\Cache\\virtualenvs\\ppuodz-ml-4-1-dqELbViF-py3.12\\Lib\\site-packages\\lightgbm\\callback.py:325: UserWarning: Early stopping is not available in dart mode\n",
      "  _log_warning('Early stopping is not available in dart mode')\n"
     ]
    },
    {
     "name": "stdout",
     "output_type": "stream",
     "text": [
      "Fold: Tuning: n_train=263581, eval_set=43930\n",
      "Tune: val_score:0.7703, std_test_score:0.00357 train_set_score:0.8091\n",
      "folds val/train: [0.7708, 0.767, 0.7672, 0.7738, 0.7771, 0.7689, 0.7674] / [0.8093, 0.8089, 0.8101, 0.8091, 0.8081, 0.8081, 0.8098], mean fold time: 10.89\n"
     ]
    },
    {
     "name": "stderr",
     "output_type": "stream",
     "text": [
      "[I 2024-04-20 17:45:51,152] Trial 27 finished with value: 0.7703323997987074 and parameters: {'model__n_estimators': 450, 'model__learning_rate': 0.13, 'model__max_depth': 5, 'model__num_leaves': 128, 'model__min_gain_to_split': 9.5, 'model__min_data_in_leaf': 1500, 'model__lambda_l1': 20, 'model__lambda_l2': 30, 'model__bagging_fraction': 0.6000000000000001, 'model__feature_fraction': 0.9000000000000001, 'model__max_bin': 450}. Best is trial 19 with value: 0.776348422018213.\n",
      "C:\\Users\\Paulius\\AppData\\Local\\pypoetry\\Cache\\virtualenvs\\ppuodz-ml-4-1-dqELbViF-py3.12\\Lib\\site-packages\\lightgbm\\callback.py:325: UserWarning: Early stopping is not available in dart mode\n",
      "  _log_warning('Early stopping is not available in dart mode')\n"
     ]
    },
    {
     "name": "stdout",
     "output_type": "stream",
     "text": [
      "Fold: Tuning: n_train=263580, eval_set=43931\n"
     ]
    },
    {
     "name": "stderr",
     "output_type": "stream",
     "text": [
      "C:\\Users\\Paulius\\AppData\\Local\\pypoetry\\Cache\\virtualenvs\\ppuodz-ml-4-1-dqELbViF-py3.12\\Lib\\site-packages\\lightgbm\\callback.py:325: UserWarning: Early stopping is not available in dart mode\n",
      "  _log_warning('Early stopping is not available in dart mode')\n"
     ]
    },
    {
     "name": "stdout",
     "output_type": "stream",
     "text": [
      "Fold: Tuning: n_train=263581, eval_set=43930\n"
     ]
    },
    {
     "name": "stderr",
     "output_type": "stream",
     "text": [
      "C:\\Users\\Paulius\\AppData\\Local\\pypoetry\\Cache\\virtualenvs\\ppuodz-ml-4-1-dqELbViF-py3.12\\Lib\\site-packages\\lightgbm\\callback.py:325: UserWarning: Early stopping is not available in dart mode\n",
      "  _log_warning('Early stopping is not available in dart mode')\n"
     ]
    },
    {
     "name": "stdout",
     "output_type": "stream",
     "text": [
      "Fold: Tuning: n_train=263581, eval_set=43930\n"
     ]
    },
    {
     "name": "stderr",
     "output_type": "stream",
     "text": [
      "C:\\Users\\Paulius\\AppData\\Local\\pypoetry\\Cache\\virtualenvs\\ppuodz-ml-4-1-dqELbViF-py3.12\\Lib\\site-packages\\lightgbm\\callback.py:325: UserWarning: Early stopping is not available in dart mode\n",
      "  _log_warning('Early stopping is not available in dart mode')\n"
     ]
    },
    {
     "name": "stdout",
     "output_type": "stream",
     "text": [
      "Fold: Tuning: n_train=263581, eval_set=43930\n"
     ]
    },
    {
     "name": "stderr",
     "output_type": "stream",
     "text": [
      "C:\\Users\\Paulius\\AppData\\Local\\pypoetry\\Cache\\virtualenvs\\ppuodz-ml-4-1-dqELbViF-py3.12\\Lib\\site-packages\\lightgbm\\callback.py:325: UserWarning: Early stopping is not available in dart mode\n",
      "  _log_warning('Early stopping is not available in dart mode')\n"
     ]
    },
    {
     "name": "stdout",
     "output_type": "stream",
     "text": [
      "Fold: Tuning: n_train=263581, eval_set=43930\n"
     ]
    },
    {
     "name": "stderr",
     "output_type": "stream",
     "text": [
      "C:\\Users\\Paulius\\AppData\\Local\\pypoetry\\Cache\\virtualenvs\\ppuodz-ml-4-1-dqELbViF-py3.12\\Lib\\site-packages\\lightgbm\\callback.py:325: UserWarning: Early stopping is not available in dart mode\n",
      "  _log_warning('Early stopping is not available in dart mode')\n"
     ]
    },
    {
     "name": "stdout",
     "output_type": "stream",
     "text": [
      "Fold: Tuning: n_train=263581, eval_set=43930\n"
     ]
    },
    {
     "name": "stderr",
     "output_type": "stream",
     "text": [
      "C:\\Users\\Paulius\\AppData\\Local\\pypoetry\\Cache\\virtualenvs\\ppuodz-ml-4-1-dqELbViF-py3.12\\Lib\\site-packages\\lightgbm\\callback.py:325: UserWarning: Early stopping is not available in dart mode\n",
      "  _log_warning('Early stopping is not available in dart mode')\n"
     ]
    },
    {
     "name": "stdout",
     "output_type": "stream",
     "text": [
      "Fold: Tuning: n_train=263581, eval_set=43930\n",
      "Tune: val_score:0.7755, std_test_score:0.00361 train_set_score:0.8581\n",
      "folds val/train: [0.7745, 0.7726, 0.7713, 0.7794, 0.7819, 0.7761, 0.7728] / [0.8575, 0.8584, 0.8585, 0.8589, 0.8571, 0.8571, 0.859], mean fold time: 30.05\n"
     ]
    },
    {
     "name": "stderr",
     "output_type": "stream",
     "text": [
      "[I 2024-04-20 17:49:22,318] Trial 28 finished with value: 0.7755242668653374 and parameters: {'model__n_estimators': 800, 'model__learning_rate': 0.24000000000000002, 'model__max_depth': 8, 'model__num_leaves': 160, 'model__min_gain_to_split': 3.0, 'model__min_data_in_leaf': 2800, 'model__lambda_l1': 45, 'model__lambda_l2': 45, 'model__bagging_fraction': 0.5, 'model__feature_fraction': 1.0, 'model__max_bin': 325}. Best is trial 19 with value: 0.776348422018213.\n",
      "C:\\Users\\Paulius\\AppData\\Local\\pypoetry\\Cache\\virtualenvs\\ppuodz-ml-4-1-dqELbViF-py3.12\\Lib\\site-packages\\lightgbm\\callback.py:325: UserWarning: Early stopping is not available in dart mode\n",
      "  _log_warning('Early stopping is not available in dart mode')\n"
     ]
    },
    {
     "name": "stdout",
     "output_type": "stream",
     "text": [
      "Fold: Tuning: n_train=263580, eval_set=43931\n"
     ]
    },
    {
     "name": "stderr",
     "output_type": "stream",
     "text": [
      "C:\\Users\\Paulius\\AppData\\Local\\pypoetry\\Cache\\virtualenvs\\ppuodz-ml-4-1-dqELbViF-py3.12\\Lib\\site-packages\\lightgbm\\callback.py:325: UserWarning: Early stopping is not available in dart mode\n",
      "  _log_warning('Early stopping is not available in dart mode')\n"
     ]
    },
    {
     "name": "stdout",
     "output_type": "stream",
     "text": [
      "Fold: Tuning: n_train=263581, eval_set=43930\n"
     ]
    },
    {
     "name": "stderr",
     "output_type": "stream",
     "text": [
      "C:\\Users\\Paulius\\AppData\\Local\\pypoetry\\Cache\\virtualenvs\\ppuodz-ml-4-1-dqELbViF-py3.12\\Lib\\site-packages\\lightgbm\\callback.py:325: UserWarning: Early stopping is not available in dart mode\n",
      "  _log_warning('Early stopping is not available in dart mode')\n"
     ]
    },
    {
     "name": "stdout",
     "output_type": "stream",
     "text": [
      "Fold: Tuning: n_train=263581, eval_set=43930\n"
     ]
    },
    {
     "name": "stderr",
     "output_type": "stream",
     "text": [
      "C:\\Users\\Paulius\\AppData\\Local\\pypoetry\\Cache\\virtualenvs\\ppuodz-ml-4-1-dqELbViF-py3.12\\Lib\\site-packages\\lightgbm\\callback.py:325: UserWarning: Early stopping is not available in dart mode\n",
      "  _log_warning('Early stopping is not available in dart mode')\n"
     ]
    },
    {
     "name": "stdout",
     "output_type": "stream",
     "text": [
      "Fold: Tuning: n_train=263581, eval_set=43930\n"
     ]
    },
    {
     "name": "stderr",
     "output_type": "stream",
     "text": [
      "C:\\Users\\Paulius\\AppData\\Local\\pypoetry\\Cache\\virtualenvs\\ppuodz-ml-4-1-dqELbViF-py3.12\\Lib\\site-packages\\lightgbm\\callback.py:325: UserWarning: Early stopping is not available in dart mode\n",
      "  _log_warning('Early stopping is not available in dart mode')\n"
     ]
    },
    {
     "name": "stdout",
     "output_type": "stream",
     "text": [
      "Fold: Tuning: n_train=263581, eval_set=43930\n"
     ]
    },
    {
     "name": "stderr",
     "output_type": "stream",
     "text": [
      "C:\\Users\\Paulius\\AppData\\Local\\pypoetry\\Cache\\virtualenvs\\ppuodz-ml-4-1-dqELbViF-py3.12\\Lib\\site-packages\\lightgbm\\callback.py:325: UserWarning: Early stopping is not available in dart mode\n",
      "  _log_warning('Early stopping is not available in dart mode')\n"
     ]
    },
    {
     "name": "stdout",
     "output_type": "stream",
     "text": [
      "Fold: Tuning: n_train=263581, eval_set=43930\n"
     ]
    },
    {
     "name": "stderr",
     "output_type": "stream",
     "text": [
      "C:\\Users\\Paulius\\AppData\\Local\\pypoetry\\Cache\\virtualenvs\\ppuodz-ml-4-1-dqELbViF-py3.12\\Lib\\site-packages\\lightgbm\\callback.py:325: UserWarning: Early stopping is not available in dart mode\n",
      "  _log_warning('Early stopping is not available in dart mode')\n"
     ]
    },
    {
     "name": "stdout",
     "output_type": "stream",
     "text": [
      "Fold: Tuning: n_train=263581, eval_set=43930\n",
      "Tune: val_score:0.7721, std_test_score:0.00344 train_set_score:0.8216\n",
      "folds val/train: [0.7714, 0.7692, 0.7693, 0.7755, 0.7787, 0.7718, 0.7688] / [0.8222, 0.821, 0.8224, 0.8208, 0.8206, 0.8217, 0.8226], mean fold time: 7.72\n"
     ]
    },
    {
     "name": "stderr",
     "output_type": "stream",
     "text": [
      "[I 2024-04-20 17:50:17,162] Trial 29 finished with value: 0.772094421364791 and parameters: {'model__n_estimators': 300, 'model__learning_rate': 0.2, 'model__max_depth': 8, 'model__num_leaves': 88, 'model__min_gain_to_split': 4.5, 'model__min_data_in_leaf': 2300, 'model__lambda_l1': 80, 'model__lambda_l2': 40, 'model__bagging_fraction': 0.2, 'model__feature_fraction': 0.6000000000000001, 'model__max_bin': 400}. Best is trial 19 with value: 0.776348422018213.\n",
      "C:\\Users\\Paulius\\AppData\\Local\\pypoetry\\Cache\\virtualenvs\\ppuodz-ml-4-1-dqELbViF-py3.12\\Lib\\site-packages\\lightgbm\\callback.py:325: UserWarning: Early stopping is not available in dart mode\n",
      "  _log_warning('Early stopping is not available in dart mode')\n"
     ]
    },
    {
     "name": "stdout",
     "output_type": "stream",
     "text": [
      "Fold: Tuning: n_train=263580, eval_set=43931\n"
     ]
    },
    {
     "name": "stderr",
     "output_type": "stream",
     "text": [
      "C:\\Users\\Paulius\\AppData\\Local\\pypoetry\\Cache\\virtualenvs\\ppuodz-ml-4-1-dqELbViF-py3.12\\Lib\\site-packages\\lightgbm\\callback.py:325: UserWarning: Early stopping is not available in dart mode\n",
      "  _log_warning('Early stopping is not available in dart mode')\n"
     ]
    },
    {
     "name": "stdout",
     "output_type": "stream",
     "text": [
      "Fold: Tuning: n_train=263581, eval_set=43930\n"
     ]
    },
    {
     "name": "stderr",
     "output_type": "stream",
     "text": [
      "C:\\Users\\Paulius\\AppData\\Local\\pypoetry\\Cache\\virtualenvs\\ppuodz-ml-4-1-dqELbViF-py3.12\\Lib\\site-packages\\lightgbm\\callback.py:325: UserWarning: Early stopping is not available in dart mode\n",
      "  _log_warning('Early stopping is not available in dart mode')\n"
     ]
    },
    {
     "name": "stdout",
     "output_type": "stream",
     "text": [
      "Fold: Tuning: n_train=263581, eval_set=43930\n"
     ]
    },
    {
     "name": "stderr",
     "output_type": "stream",
     "text": [
      "C:\\Users\\Paulius\\AppData\\Local\\pypoetry\\Cache\\virtualenvs\\ppuodz-ml-4-1-dqELbViF-py3.12\\Lib\\site-packages\\lightgbm\\callback.py:325: UserWarning: Early stopping is not available in dart mode\n",
      "  _log_warning('Early stopping is not available in dart mode')\n"
     ]
    },
    {
     "name": "stdout",
     "output_type": "stream",
     "text": [
      "Fold: Tuning: n_train=263581, eval_set=43930\n"
     ]
    },
    {
     "name": "stderr",
     "output_type": "stream",
     "text": [
      "C:\\Users\\Paulius\\AppData\\Local\\pypoetry\\Cache\\virtualenvs\\ppuodz-ml-4-1-dqELbViF-py3.12\\Lib\\site-packages\\lightgbm\\callback.py:325: UserWarning: Early stopping is not available in dart mode\n",
      "  _log_warning('Early stopping is not available in dart mode')\n"
     ]
    },
    {
     "name": "stdout",
     "output_type": "stream",
     "text": [
      "Fold: Tuning: n_train=263581, eval_set=43930\n"
     ]
    },
    {
     "name": "stderr",
     "output_type": "stream",
     "text": [
      "C:\\Users\\Paulius\\AppData\\Local\\pypoetry\\Cache\\virtualenvs\\ppuodz-ml-4-1-dqELbViF-py3.12\\Lib\\site-packages\\lightgbm\\callback.py:325: UserWarning: Early stopping is not available in dart mode\n",
      "  _log_warning('Early stopping is not available in dart mode')\n"
     ]
    },
    {
     "name": "stdout",
     "output_type": "stream",
     "text": [
      "Fold: Tuning: n_train=263581, eval_set=43930\n"
     ]
    },
    {
     "name": "stderr",
     "output_type": "stream",
     "text": [
      "C:\\Users\\Paulius\\AppData\\Local\\pypoetry\\Cache\\virtualenvs\\ppuodz-ml-4-1-dqELbViF-py3.12\\Lib\\site-packages\\lightgbm\\callback.py:325: UserWarning: Early stopping is not available in dart mode\n",
      "  _log_warning('Early stopping is not available in dart mode')\n"
     ]
    },
    {
     "name": "stdout",
     "output_type": "stream",
     "text": [
      "Fold: Tuning: n_train=263581, eval_set=43930\n",
      "Tune: val_score:0.7751, std_test_score:0.00360 train_set_score:0.8170\n",
      "folds val/train: [0.7746, 0.7726, 0.7715, 0.7782, 0.7822, 0.7748, 0.7716] / [0.8171, 0.8182, 0.8181, 0.816, 0.8155, 0.8172, 0.817], mean fold time: 32.19\n"
     ]
    },
    {
     "name": "stderr",
     "output_type": "stream",
     "text": [
      "[I 2024-04-20 17:54:03,248] Trial 30 finished with value: 0.7750590692409673 and parameters: {'model__n_estimators': 1000, 'model__learning_rate': 0.17, 'model__max_depth': 7, 'model__num_leaves': 176, 'model__min_gain_to_split': 7.0, 'model__min_data_in_leaf': 2500, 'model__lambda_l1': 75, 'model__lambda_l2': 25, 'model__bagging_fraction': 0.30000000000000004, 'model__feature_fraction': 0.8, 'model__max_bin': 425}. Best is trial 19 with value: 0.776348422018213.\n",
      "C:\\Users\\Paulius\\AppData\\Local\\pypoetry\\Cache\\virtualenvs\\ppuodz-ml-4-1-dqELbViF-py3.12\\Lib\\site-packages\\lightgbm\\callback.py:325: UserWarning: Early stopping is not available in dart mode\n",
      "  _log_warning('Early stopping is not available in dart mode')\n"
     ]
    },
    {
     "name": "stdout",
     "output_type": "stream",
     "text": [
      "Fold: Tuning: n_train=263580, eval_set=43931\n"
     ]
    },
    {
     "name": "stderr",
     "output_type": "stream",
     "text": [
      "C:\\Users\\Paulius\\AppData\\Local\\pypoetry\\Cache\\virtualenvs\\ppuodz-ml-4-1-dqELbViF-py3.12\\Lib\\site-packages\\lightgbm\\callback.py:325: UserWarning: Early stopping is not available in dart mode\n",
      "  _log_warning('Early stopping is not available in dart mode')\n"
     ]
    },
    {
     "name": "stdout",
     "output_type": "stream",
     "text": [
      "Fold: Tuning: n_train=263581, eval_set=43930\n"
     ]
    },
    {
     "name": "stderr",
     "output_type": "stream",
     "text": [
      "C:\\Users\\Paulius\\AppData\\Local\\pypoetry\\Cache\\virtualenvs\\ppuodz-ml-4-1-dqELbViF-py3.12\\Lib\\site-packages\\lightgbm\\callback.py:325: UserWarning: Early stopping is not available in dart mode\n",
      "  _log_warning('Early stopping is not available in dart mode')\n"
     ]
    },
    {
     "name": "stdout",
     "output_type": "stream",
     "text": [
      "Fold: Tuning: n_train=263581, eval_set=43930\n"
     ]
    },
    {
     "name": "stderr",
     "output_type": "stream",
     "text": [
      "C:\\Users\\Paulius\\AppData\\Local\\pypoetry\\Cache\\virtualenvs\\ppuodz-ml-4-1-dqELbViF-py3.12\\Lib\\site-packages\\lightgbm\\callback.py:325: UserWarning: Early stopping is not available in dart mode\n",
      "  _log_warning('Early stopping is not available in dart mode')\n"
     ]
    },
    {
     "name": "stdout",
     "output_type": "stream",
     "text": [
      "Fold: Tuning: n_train=263581, eval_set=43930\n"
     ]
    },
    {
     "name": "stderr",
     "output_type": "stream",
     "text": [
      "C:\\Users\\Paulius\\AppData\\Local\\pypoetry\\Cache\\virtualenvs\\ppuodz-ml-4-1-dqELbViF-py3.12\\Lib\\site-packages\\lightgbm\\callback.py:325: UserWarning: Early stopping is not available in dart mode\n",
      "  _log_warning('Early stopping is not available in dart mode')\n"
     ]
    },
    {
     "name": "stdout",
     "output_type": "stream",
     "text": [
      "Fold: Tuning: n_train=263581, eval_set=43930\n"
     ]
    },
    {
     "name": "stderr",
     "output_type": "stream",
     "text": [
      "C:\\Users\\Paulius\\AppData\\Local\\pypoetry\\Cache\\virtualenvs\\ppuodz-ml-4-1-dqELbViF-py3.12\\Lib\\site-packages\\lightgbm\\callback.py:325: UserWarning: Early stopping is not available in dart mode\n",
      "  _log_warning('Early stopping is not available in dart mode')\n"
     ]
    },
    {
     "name": "stdout",
     "output_type": "stream",
     "text": [
      "Fold: Tuning: n_train=263581, eval_set=43930\n"
     ]
    },
    {
     "name": "stderr",
     "output_type": "stream",
     "text": [
      "C:\\Users\\Paulius\\AppData\\Local\\pypoetry\\Cache\\virtualenvs\\ppuodz-ml-4-1-dqELbViF-py3.12\\Lib\\site-packages\\lightgbm\\callback.py:325: UserWarning: Early stopping is not available in dart mode\n",
      "  _log_warning('Early stopping is not available in dart mode')\n"
     ]
    },
    {
     "name": "stdout",
     "output_type": "stream",
     "text": [
      "Fold: Tuning: n_train=263581, eval_set=43930\n",
      "Tune: val_score:0.7762, std_test_score:0.00356 train_set_score:0.8267\n",
      "folds val/train: [0.7761, 0.7734, 0.7729, 0.7786, 0.7834, 0.7763, 0.7726] / [0.8266, 0.8275, 0.8271, 0.8262, 0.826, 0.8272, 0.8266], mean fold time: 24.18\n"
     ]
    },
    {
     "name": "stderr",
     "output_type": "stream",
     "text": [
      "[I 2024-04-20 17:56:53,306] Trial 31 finished with value: 0.7761779422948957 and parameters: {'model__n_estimators': 900, 'model__learning_rate': 0.15000000000000002, 'model__max_depth': 5, 'model__num_leaves': 152, 'model__min_gain_to_split': 3.0, 'model__min_data_in_leaf': 2600, 'model__lambda_l1': 70, 'model__lambda_l2': 25, 'model__bagging_fraction': 0.30000000000000004, 'model__feature_fraction': 0.9000000000000001, 'model__max_bin': 475}. Best is trial 19 with value: 0.776348422018213.\n",
      "C:\\Users\\Paulius\\AppData\\Local\\pypoetry\\Cache\\virtualenvs\\ppuodz-ml-4-1-dqELbViF-py3.12\\Lib\\site-packages\\lightgbm\\callback.py:325: UserWarning: Early stopping is not available in dart mode\n",
      "  _log_warning('Early stopping is not available in dart mode')\n"
     ]
    },
    {
     "name": "stdout",
     "output_type": "stream",
     "text": [
      "Fold: Tuning: n_train=263580, eval_set=43931\n"
     ]
    },
    {
     "name": "stderr",
     "output_type": "stream",
     "text": [
      "C:\\Users\\Paulius\\AppData\\Local\\pypoetry\\Cache\\virtualenvs\\ppuodz-ml-4-1-dqELbViF-py3.12\\Lib\\site-packages\\lightgbm\\callback.py:325: UserWarning: Early stopping is not available in dart mode\n",
      "  _log_warning('Early stopping is not available in dart mode')\n"
     ]
    },
    {
     "name": "stdout",
     "output_type": "stream",
     "text": [
      "Fold: Tuning: n_train=263581, eval_set=43930\n"
     ]
    },
    {
     "name": "stderr",
     "output_type": "stream",
     "text": [
      "C:\\Users\\Paulius\\AppData\\Local\\pypoetry\\Cache\\virtualenvs\\ppuodz-ml-4-1-dqELbViF-py3.12\\Lib\\site-packages\\lightgbm\\callback.py:325: UserWarning: Early stopping is not available in dart mode\n",
      "  _log_warning('Early stopping is not available in dart mode')\n"
     ]
    },
    {
     "name": "stdout",
     "output_type": "stream",
     "text": [
      "Fold: Tuning: n_train=263581, eval_set=43930\n"
     ]
    },
    {
     "name": "stderr",
     "output_type": "stream",
     "text": [
      "C:\\Users\\Paulius\\AppData\\Local\\pypoetry\\Cache\\virtualenvs\\ppuodz-ml-4-1-dqELbViF-py3.12\\Lib\\site-packages\\lightgbm\\callback.py:325: UserWarning: Early stopping is not available in dart mode\n",
      "  _log_warning('Early stopping is not available in dart mode')\n"
     ]
    },
    {
     "name": "stdout",
     "output_type": "stream",
     "text": [
      "Fold: Tuning: n_train=263581, eval_set=43930\n"
     ]
    },
    {
     "name": "stderr",
     "output_type": "stream",
     "text": [
      "C:\\Users\\Paulius\\AppData\\Local\\pypoetry\\Cache\\virtualenvs\\ppuodz-ml-4-1-dqELbViF-py3.12\\Lib\\site-packages\\lightgbm\\callback.py:325: UserWarning: Early stopping is not available in dart mode\n",
      "  _log_warning('Early stopping is not available in dart mode')\n"
     ]
    },
    {
     "name": "stdout",
     "output_type": "stream",
     "text": [
      "Fold: Tuning: n_train=263581, eval_set=43930\n"
     ]
    },
    {
     "name": "stderr",
     "output_type": "stream",
     "text": [
      "C:\\Users\\Paulius\\AppData\\Local\\pypoetry\\Cache\\virtualenvs\\ppuodz-ml-4-1-dqELbViF-py3.12\\Lib\\site-packages\\lightgbm\\callback.py:325: UserWarning: Early stopping is not available in dart mode\n",
      "  _log_warning('Early stopping is not available in dart mode')\n"
     ]
    },
    {
     "name": "stdout",
     "output_type": "stream",
     "text": [
      "Fold: Tuning: n_train=263581, eval_set=43930\n"
     ]
    },
    {
     "name": "stderr",
     "output_type": "stream",
     "text": [
      "C:\\Users\\Paulius\\AppData\\Local\\pypoetry\\Cache\\virtualenvs\\ppuodz-ml-4-1-dqELbViF-py3.12\\Lib\\site-packages\\lightgbm\\callback.py:325: UserWarning: Early stopping is not available in dart mode\n",
      "  _log_warning('Early stopping is not available in dart mode')\n"
     ]
    },
    {
     "name": "stdout",
     "output_type": "stream",
     "text": [
      "Fold: Tuning: n_train=263581, eval_set=43930\n",
      "Tune: val_score:0.7762, std_test_score:0.00334 train_set_score:0.8428\n",
      "folds val/train: [0.7755, 0.7741, 0.7724, 0.7796, 0.7825, 0.776, 0.7735] / [0.8439, 0.8423, 0.8442, 0.8421, 0.8402, 0.8435, 0.8431], mean fold time: 28.92\n"
     ]
    },
    {
     "name": "stderr",
     "output_type": "stream",
     "text": [
      "[I 2024-04-20 18:00:16,516] Trial 32 finished with value: 0.7762244561333568 and parameters: {'model__n_estimators': 900, 'model__learning_rate': 0.21000000000000002, 'model__max_depth': 6, 'model__num_leaves': 144, 'model__min_gain_to_split': 3.0, 'model__min_data_in_leaf': 2000, 'model__lambda_l1': 60, 'model__lambda_l2': 10, 'model__bagging_fraction': 0.4, 'model__feature_fraction': 1.0, 'model__max_bin': 450}. Best is trial 19 with value: 0.776348422018213.\n",
      "C:\\Users\\Paulius\\AppData\\Local\\pypoetry\\Cache\\virtualenvs\\ppuodz-ml-4-1-dqELbViF-py3.12\\Lib\\site-packages\\lightgbm\\callback.py:325: UserWarning: Early stopping is not available in dart mode\n",
      "  _log_warning('Early stopping is not available in dart mode')\n"
     ]
    },
    {
     "name": "stdout",
     "output_type": "stream",
     "text": [
      "Fold: Tuning: n_train=263580, eval_set=43931\n"
     ]
    },
    {
     "name": "stderr",
     "output_type": "stream",
     "text": [
      "C:\\Users\\Paulius\\AppData\\Local\\pypoetry\\Cache\\virtualenvs\\ppuodz-ml-4-1-dqELbViF-py3.12\\Lib\\site-packages\\lightgbm\\callback.py:325: UserWarning: Early stopping is not available in dart mode\n",
      "  _log_warning('Early stopping is not available in dart mode')\n"
     ]
    },
    {
     "name": "stdout",
     "output_type": "stream",
     "text": [
      "Fold: Tuning: n_train=263581, eval_set=43930\n"
     ]
    },
    {
     "name": "stderr",
     "output_type": "stream",
     "text": [
      "C:\\Users\\Paulius\\AppData\\Local\\pypoetry\\Cache\\virtualenvs\\ppuodz-ml-4-1-dqELbViF-py3.12\\Lib\\site-packages\\lightgbm\\callback.py:325: UserWarning: Early stopping is not available in dart mode\n",
      "  _log_warning('Early stopping is not available in dart mode')\n"
     ]
    },
    {
     "name": "stdout",
     "output_type": "stream",
     "text": [
      "Fold: Tuning: n_train=263581, eval_set=43930\n"
     ]
    },
    {
     "name": "stderr",
     "output_type": "stream",
     "text": [
      "C:\\Users\\Paulius\\AppData\\Local\\pypoetry\\Cache\\virtualenvs\\ppuodz-ml-4-1-dqELbViF-py3.12\\Lib\\site-packages\\lightgbm\\callback.py:325: UserWarning: Early stopping is not available in dart mode\n",
      "  _log_warning('Early stopping is not available in dart mode')\n"
     ]
    },
    {
     "name": "stdout",
     "output_type": "stream",
     "text": [
      "Fold: Tuning: n_train=263581, eval_set=43930\n"
     ]
    },
    {
     "name": "stderr",
     "output_type": "stream",
     "text": [
      "C:\\Users\\Paulius\\AppData\\Local\\pypoetry\\Cache\\virtualenvs\\ppuodz-ml-4-1-dqELbViF-py3.12\\Lib\\site-packages\\lightgbm\\callback.py:325: UserWarning: Early stopping is not available in dart mode\n",
      "  _log_warning('Early stopping is not available in dart mode')\n"
     ]
    },
    {
     "name": "stdout",
     "output_type": "stream",
     "text": [
      "Fold: Tuning: n_train=263581, eval_set=43930\n"
     ]
    },
    {
     "name": "stderr",
     "output_type": "stream",
     "text": [
      "C:\\Users\\Paulius\\AppData\\Local\\pypoetry\\Cache\\virtualenvs\\ppuodz-ml-4-1-dqELbViF-py3.12\\Lib\\site-packages\\lightgbm\\callback.py:325: UserWarning: Early stopping is not available in dart mode\n",
      "  _log_warning('Early stopping is not available in dart mode')\n"
     ]
    },
    {
     "name": "stdout",
     "output_type": "stream",
     "text": [
      "Fold: Tuning: n_train=263581, eval_set=43930\n"
     ]
    },
    {
     "name": "stderr",
     "output_type": "stream",
     "text": [
      "C:\\Users\\Paulius\\AppData\\Local\\pypoetry\\Cache\\virtualenvs\\ppuodz-ml-4-1-dqELbViF-py3.12\\Lib\\site-packages\\lightgbm\\callback.py:325: UserWarning: Early stopping is not available in dart mode\n",
      "  _log_warning('Early stopping is not available in dart mode')\n"
     ]
    },
    {
     "name": "stdout",
     "output_type": "stream",
     "text": [
      "Fold: Tuning: n_train=263581, eval_set=43930\n",
      "Tune: val_score:0.7757, std_test_score:0.00322 train_set_score:0.8211\n",
      "folds val/train: [0.776, 0.7731, 0.7725, 0.7782, 0.7817, 0.7765, 0.7722] / [0.8209, 0.8206, 0.8229, 0.8201, 0.819, 0.8216, 0.8225], mean fold time: 23.74\n"
     ]
    },
    {
     "name": "stderr",
     "output_type": "stream",
     "text": [
      "[I 2024-04-20 18:03:03,482] Trial 33 finished with value: 0.7757357602162681 and parameters: {'model__n_estimators': 900, 'model__learning_rate': 0.21000000000000002, 'model__max_depth': 5, 'model__num_leaves': 120, 'model__min_gain_to_split': 5.5, 'model__min_data_in_leaf': 2000, 'model__lambda_l1': 60, 'model__lambda_l2': 10, 'model__bagging_fraction': 0.5, 'model__feature_fraction': 1.0, 'model__max_bin': 375}. Best is trial 19 with value: 0.776348422018213.\n",
      "C:\\Users\\Paulius\\AppData\\Local\\pypoetry\\Cache\\virtualenvs\\ppuodz-ml-4-1-dqELbViF-py3.12\\Lib\\site-packages\\lightgbm\\callback.py:325: UserWarning: Early stopping is not available in dart mode\n",
      "  _log_warning('Early stopping is not available in dart mode')\n"
     ]
    },
    {
     "name": "stdout",
     "output_type": "stream",
     "text": [
      "Fold: Tuning: n_train=263580, eval_set=43931\n"
     ]
    },
    {
     "name": "stderr",
     "output_type": "stream",
     "text": [
      "C:\\Users\\Paulius\\AppData\\Local\\pypoetry\\Cache\\virtualenvs\\ppuodz-ml-4-1-dqELbViF-py3.12\\Lib\\site-packages\\lightgbm\\callback.py:325: UserWarning: Early stopping is not available in dart mode\n",
      "  _log_warning('Early stopping is not available in dart mode')\n"
     ]
    },
    {
     "name": "stdout",
     "output_type": "stream",
     "text": [
      "Fold: Tuning: n_train=263581, eval_set=43930\n"
     ]
    },
    {
     "name": "stderr",
     "output_type": "stream",
     "text": [
      "C:\\Users\\Paulius\\AppData\\Local\\pypoetry\\Cache\\virtualenvs\\ppuodz-ml-4-1-dqELbViF-py3.12\\Lib\\site-packages\\lightgbm\\callback.py:325: UserWarning: Early stopping is not available in dart mode\n",
      "  _log_warning('Early stopping is not available in dart mode')\n"
     ]
    },
    {
     "name": "stdout",
     "output_type": "stream",
     "text": [
      "Fold: Tuning: n_train=263581, eval_set=43930\n"
     ]
    },
    {
     "name": "stderr",
     "output_type": "stream",
     "text": [
      "C:\\Users\\Paulius\\AppData\\Local\\pypoetry\\Cache\\virtualenvs\\ppuodz-ml-4-1-dqELbViF-py3.12\\Lib\\site-packages\\lightgbm\\callback.py:325: UserWarning: Early stopping is not available in dart mode\n",
      "  _log_warning('Early stopping is not available in dart mode')\n"
     ]
    },
    {
     "name": "stdout",
     "output_type": "stream",
     "text": [
      "Fold: Tuning: n_train=263581, eval_set=43930\n"
     ]
    },
    {
     "name": "stderr",
     "output_type": "stream",
     "text": [
      "C:\\Users\\Paulius\\AppData\\Local\\pypoetry\\Cache\\virtualenvs\\ppuodz-ml-4-1-dqELbViF-py3.12\\Lib\\site-packages\\lightgbm\\callback.py:325: UserWarning: Early stopping is not available in dart mode\n",
      "  _log_warning('Early stopping is not available in dart mode')\n"
     ]
    },
    {
     "name": "stdout",
     "output_type": "stream",
     "text": [
      "Fold: Tuning: n_train=263581, eval_set=43930\n"
     ]
    },
    {
     "name": "stderr",
     "output_type": "stream",
     "text": [
      "C:\\Users\\Paulius\\AppData\\Local\\pypoetry\\Cache\\virtualenvs\\ppuodz-ml-4-1-dqELbViF-py3.12\\Lib\\site-packages\\lightgbm\\callback.py:325: UserWarning: Early stopping is not available in dart mode\n",
      "  _log_warning('Early stopping is not available in dart mode')\n"
     ]
    },
    {
     "name": "stdout",
     "output_type": "stream",
     "text": [
      "Fold: Tuning: n_train=263581, eval_set=43930\n"
     ]
    },
    {
     "name": "stderr",
     "output_type": "stream",
     "text": [
      "C:\\Users\\Paulius\\AppData\\Local\\pypoetry\\Cache\\virtualenvs\\ppuodz-ml-4-1-dqELbViF-py3.12\\Lib\\site-packages\\lightgbm\\callback.py:325: UserWarning: Early stopping is not available in dart mode\n",
      "  _log_warning('Early stopping is not available in dart mode')\n"
     ]
    },
    {
     "name": "stdout",
     "output_type": "stream",
     "text": [
      "Fold: Tuning: n_train=263581, eval_set=43930\n",
      "Tune: val_score:0.7746, std_test_score:0.00368 train_set_score:0.8168\n",
      "folds val/train: [0.7754, 0.7711, 0.771, 0.7783, 0.781, 0.7748, 0.7708] / [0.8164, 0.8174, 0.8179, 0.8159, 0.8155, 0.8169, 0.8176], mean fold time: 20.17\n"
     ]
    },
    {
     "name": "stderr",
     "output_type": "stream",
     "text": [
      "[I 2024-04-20 18:05:25,468] Trial 34 finished with value: 0.774609376785319 and parameters: {'model__n_estimators': 900, 'model__learning_rate': 0.14, 'model__max_depth': 4, 'model__num_leaves': 200, 'model__min_gain_to_split': 3.5, 'model__min_data_in_leaf': 2200, 'model__lambda_l1': 50, 'model__lambda_l2': 0, 'model__bagging_fraction': 0.4, 'model__feature_fraction': 1.0, 'model__max_bin': 475}. Best is trial 19 with value: 0.776348422018213.\n",
      "C:\\Users\\Paulius\\AppData\\Local\\pypoetry\\Cache\\virtualenvs\\ppuodz-ml-4-1-dqELbViF-py3.12\\Lib\\site-packages\\lightgbm\\callback.py:325: UserWarning: Early stopping is not available in dart mode\n",
      "  _log_warning('Early stopping is not available in dart mode')\n"
     ]
    },
    {
     "name": "stdout",
     "output_type": "stream",
     "text": [
      "Fold: Tuning: n_train=263580, eval_set=43931\n"
     ]
    },
    {
     "name": "stderr",
     "output_type": "stream",
     "text": [
      "C:\\Users\\Paulius\\AppData\\Local\\pypoetry\\Cache\\virtualenvs\\ppuodz-ml-4-1-dqELbViF-py3.12\\Lib\\site-packages\\lightgbm\\callback.py:325: UserWarning: Early stopping is not available in dart mode\n",
      "  _log_warning('Early stopping is not available in dart mode')\n"
     ]
    },
    {
     "name": "stdout",
     "output_type": "stream",
     "text": [
      "Fold: Tuning: n_train=263581, eval_set=43930\n"
     ]
    },
    {
     "name": "stderr",
     "output_type": "stream",
     "text": [
      "C:\\Users\\Paulius\\AppData\\Local\\pypoetry\\Cache\\virtualenvs\\ppuodz-ml-4-1-dqELbViF-py3.12\\Lib\\site-packages\\lightgbm\\callback.py:325: UserWarning: Early stopping is not available in dart mode\n",
      "  _log_warning('Early stopping is not available in dart mode')\n"
     ]
    },
    {
     "name": "stdout",
     "output_type": "stream",
     "text": [
      "Fold: Tuning: n_train=263581, eval_set=43930\n"
     ]
    },
    {
     "name": "stderr",
     "output_type": "stream",
     "text": [
      "C:\\Users\\Paulius\\AppData\\Local\\pypoetry\\Cache\\virtualenvs\\ppuodz-ml-4-1-dqELbViF-py3.12\\Lib\\site-packages\\lightgbm\\callback.py:325: UserWarning: Early stopping is not available in dart mode\n",
      "  _log_warning('Early stopping is not available in dart mode')\n"
     ]
    },
    {
     "name": "stdout",
     "output_type": "stream",
     "text": [
      "Fold: Tuning: n_train=263581, eval_set=43930\n"
     ]
    },
    {
     "name": "stderr",
     "output_type": "stream",
     "text": [
      "C:\\Users\\Paulius\\AppData\\Local\\pypoetry\\Cache\\virtualenvs\\ppuodz-ml-4-1-dqELbViF-py3.12\\Lib\\site-packages\\lightgbm\\callback.py:325: UserWarning: Early stopping is not available in dart mode\n",
      "  _log_warning('Early stopping is not available in dart mode')\n"
     ]
    },
    {
     "name": "stdout",
     "output_type": "stream",
     "text": [
      "Fold: Tuning: n_train=263581, eval_set=43930\n"
     ]
    },
    {
     "name": "stderr",
     "output_type": "stream",
     "text": [
      "C:\\Users\\Paulius\\AppData\\Local\\pypoetry\\Cache\\virtualenvs\\ppuodz-ml-4-1-dqELbViF-py3.12\\Lib\\site-packages\\lightgbm\\callback.py:325: UserWarning: Early stopping is not available in dart mode\n",
      "  _log_warning('Early stopping is not available in dart mode')\n"
     ]
    },
    {
     "name": "stdout",
     "output_type": "stream",
     "text": [
      "Fold: Tuning: n_train=263581, eval_set=43930\n"
     ]
    },
    {
     "name": "stderr",
     "output_type": "stream",
     "text": [
      "C:\\Users\\Paulius\\AppData\\Local\\pypoetry\\Cache\\virtualenvs\\ppuodz-ml-4-1-dqELbViF-py3.12\\Lib\\site-packages\\lightgbm\\callback.py:325: UserWarning: Early stopping is not available in dart mode\n",
      "  _log_warning('Early stopping is not available in dart mode')\n"
     ]
    },
    {
     "name": "stdout",
     "output_type": "stream",
     "text": [
      "Fold: Tuning: n_train=263581, eval_set=43930\n",
      "Tune: val_score:0.7746, std_test_score:0.00386 train_set_score:0.8439\n",
      "folds val/train: [0.7746, 0.7716, 0.7707, 0.7786, 0.7817, 0.7745, 0.7709] / [0.8435, 0.8445, 0.8448, 0.8435, 0.8425, 0.8445, 0.8437], mean fold time: 33.01\n"
     ]
    },
    {
     "name": "stderr",
     "output_type": "stream",
     "text": [
      "[I 2024-04-20 18:09:17,302] Trial 35 finished with value: 0.7746356456608102 and parameters: {'model__n_estimators': 950, 'model__learning_rate': 0.09999999999999999, 'model__max_depth': 6, 'model__num_leaves': 152, 'model__min_gain_to_split': 1.5, 'model__min_data_in_leaf': 1600, 'model__lambda_l1': 60, 'model__lambda_l2': 10, 'model__bagging_fraction': 0.2, 'model__feature_fraction': 0.9000000000000001, 'model__max_bin': 375}. Best is trial 19 with value: 0.776348422018213.\n",
      "C:\\Users\\Paulius\\AppData\\Local\\pypoetry\\Cache\\virtualenvs\\ppuodz-ml-4-1-dqELbViF-py3.12\\Lib\\site-packages\\lightgbm\\callback.py:325: UserWarning: Early stopping is not available in dart mode\n",
      "  _log_warning('Early stopping is not available in dart mode')\n"
     ]
    },
    {
     "name": "stdout",
     "output_type": "stream",
     "text": [
      "Fold: Tuning: n_train=263580, eval_set=43931\n"
     ]
    },
    {
     "name": "stderr",
     "output_type": "stream",
     "text": [
      "C:\\Users\\Paulius\\AppData\\Local\\pypoetry\\Cache\\virtualenvs\\ppuodz-ml-4-1-dqELbViF-py3.12\\Lib\\site-packages\\lightgbm\\callback.py:325: UserWarning: Early stopping is not available in dart mode\n",
      "  _log_warning('Early stopping is not available in dart mode')\n"
     ]
    },
    {
     "name": "stdout",
     "output_type": "stream",
     "text": [
      "Fold: Tuning: n_train=263581, eval_set=43930\n"
     ]
    },
    {
     "name": "stderr",
     "output_type": "stream",
     "text": [
      "C:\\Users\\Paulius\\AppData\\Local\\pypoetry\\Cache\\virtualenvs\\ppuodz-ml-4-1-dqELbViF-py3.12\\Lib\\site-packages\\lightgbm\\callback.py:325: UserWarning: Early stopping is not available in dart mode\n",
      "  _log_warning('Early stopping is not available in dart mode')\n"
     ]
    },
    {
     "name": "stdout",
     "output_type": "stream",
     "text": [
      "Fold: Tuning: n_train=263581, eval_set=43930\n"
     ]
    },
    {
     "name": "stderr",
     "output_type": "stream",
     "text": [
      "C:\\Users\\Paulius\\AppData\\Local\\pypoetry\\Cache\\virtualenvs\\ppuodz-ml-4-1-dqELbViF-py3.12\\Lib\\site-packages\\lightgbm\\callback.py:325: UserWarning: Early stopping is not available in dart mode\n",
      "  _log_warning('Early stopping is not available in dart mode')\n"
     ]
    },
    {
     "name": "stdout",
     "output_type": "stream",
     "text": [
      "Fold: Tuning: n_train=263581, eval_set=43930\n"
     ]
    },
    {
     "name": "stderr",
     "output_type": "stream",
     "text": [
      "C:\\Users\\Paulius\\AppData\\Local\\pypoetry\\Cache\\virtualenvs\\ppuodz-ml-4-1-dqELbViF-py3.12\\Lib\\site-packages\\lightgbm\\callback.py:325: UserWarning: Early stopping is not available in dart mode\n",
      "  _log_warning('Early stopping is not available in dart mode')\n"
     ]
    },
    {
     "name": "stdout",
     "output_type": "stream",
     "text": [
      "Fold: Tuning: n_train=263581, eval_set=43930\n"
     ]
    },
    {
     "name": "stderr",
     "output_type": "stream",
     "text": [
      "C:\\Users\\Paulius\\AppData\\Local\\pypoetry\\Cache\\virtualenvs\\ppuodz-ml-4-1-dqELbViF-py3.12\\Lib\\site-packages\\lightgbm\\callback.py:325: UserWarning: Early stopping is not available in dart mode\n",
      "  _log_warning('Early stopping is not available in dart mode')\n"
     ]
    },
    {
     "name": "stdout",
     "output_type": "stream",
     "text": [
      "Fold: Tuning: n_train=263581, eval_set=43930\n"
     ]
    },
    {
     "name": "stderr",
     "output_type": "stream",
     "text": [
      "C:\\Users\\Paulius\\AppData\\Local\\pypoetry\\Cache\\virtualenvs\\ppuodz-ml-4-1-dqELbViF-py3.12\\Lib\\site-packages\\lightgbm\\callback.py:325: UserWarning: Early stopping is not available in dart mode\n",
      "  _log_warning('Early stopping is not available in dart mode')\n"
     ]
    },
    {
     "name": "stdout",
     "output_type": "stream",
     "text": [
      "Fold: Tuning: n_train=263581, eval_set=43930\n",
      "Tune: val_score:0.7726, std_test_score:0.00381 train_set_score:0.7988\n",
      "folds val/train: [0.774, 0.7688, 0.7688, 0.7758, 0.7795, 0.7726, 0.769] / [0.799, 0.7997, 0.7991, 0.7983, 0.7971, 0.7989, 0.7992], mean fold time: 10.88\n"
     ]
    },
    {
     "name": "stderr",
     "output_type": "stream",
     "text": [
      "[I 2024-04-20 18:10:34,274] Trial 36 finished with value: 0.7726351960378189 and parameters: {'model__n_estimators': 650, 'model__learning_rate': 0.23, 'model__max_depth': 3, 'model__num_leaves': 168, 'model__min_gain_to_split': 0.5, 'model__min_data_in_leaf': 1300, 'model__lambda_l1': 55, 'model__lambda_l2': 20, 'model__bagging_fraction': 0.4, 'model__feature_fraction': 1.0, 'model__max_bin': 500}. Best is trial 19 with value: 0.776348422018213.\n",
      "C:\\Users\\Paulius\\AppData\\Local\\pypoetry\\Cache\\virtualenvs\\ppuodz-ml-4-1-dqELbViF-py3.12\\Lib\\site-packages\\lightgbm\\callback.py:325: UserWarning: Early stopping is not available in dart mode\n",
      "  _log_warning('Early stopping is not available in dart mode')\n"
     ]
    },
    {
     "name": "stdout",
     "output_type": "stream",
     "text": [
      "Fold: Tuning: n_train=263580, eval_set=43931\n"
     ]
    },
    {
     "name": "stderr",
     "output_type": "stream",
     "text": [
      "C:\\Users\\Paulius\\AppData\\Local\\pypoetry\\Cache\\virtualenvs\\ppuodz-ml-4-1-dqELbViF-py3.12\\Lib\\site-packages\\lightgbm\\callback.py:325: UserWarning: Early stopping is not available in dart mode\n",
      "  _log_warning('Early stopping is not available in dart mode')\n"
     ]
    },
    {
     "name": "stdout",
     "output_type": "stream",
     "text": [
      "Fold: Tuning: n_train=263581, eval_set=43930\n"
     ]
    },
    {
     "name": "stderr",
     "output_type": "stream",
     "text": [
      "C:\\Users\\Paulius\\AppData\\Local\\pypoetry\\Cache\\virtualenvs\\ppuodz-ml-4-1-dqELbViF-py3.12\\Lib\\site-packages\\lightgbm\\callback.py:325: UserWarning: Early stopping is not available in dart mode\n",
      "  _log_warning('Early stopping is not available in dart mode')\n"
     ]
    },
    {
     "name": "stdout",
     "output_type": "stream",
     "text": [
      "Fold: Tuning: n_train=263581, eval_set=43930\n"
     ]
    },
    {
     "name": "stderr",
     "output_type": "stream",
     "text": [
      "C:\\Users\\Paulius\\AppData\\Local\\pypoetry\\Cache\\virtualenvs\\ppuodz-ml-4-1-dqELbViF-py3.12\\Lib\\site-packages\\lightgbm\\callback.py:325: UserWarning: Early stopping is not available in dart mode\n",
      "  _log_warning('Early stopping is not available in dart mode')\n"
     ]
    },
    {
     "name": "stdout",
     "output_type": "stream",
     "text": [
      "Fold: Tuning: n_train=263581, eval_set=43930\n"
     ]
    },
    {
     "name": "stderr",
     "output_type": "stream",
     "text": [
      "C:\\Users\\Paulius\\AppData\\Local\\pypoetry\\Cache\\virtualenvs\\ppuodz-ml-4-1-dqELbViF-py3.12\\Lib\\site-packages\\lightgbm\\callback.py:325: UserWarning: Early stopping is not available in dart mode\n",
      "  _log_warning('Early stopping is not available in dart mode')\n"
     ]
    },
    {
     "name": "stdout",
     "output_type": "stream",
     "text": [
      "Fold: Tuning: n_train=263581, eval_set=43930\n"
     ]
    },
    {
     "name": "stderr",
     "output_type": "stream",
     "text": [
      "C:\\Users\\Paulius\\AppData\\Local\\pypoetry\\Cache\\virtualenvs\\ppuodz-ml-4-1-dqELbViF-py3.12\\Lib\\site-packages\\lightgbm\\callback.py:325: UserWarning: Early stopping is not available in dart mode\n",
      "  _log_warning('Early stopping is not available in dart mode')\n"
     ]
    },
    {
     "name": "stdout",
     "output_type": "stream",
     "text": [
      "Fold: Tuning: n_train=263581, eval_set=43930\n"
     ]
    },
    {
     "name": "stderr",
     "output_type": "stream",
     "text": [
      "C:\\Users\\Paulius\\AppData\\Local\\pypoetry\\Cache\\virtualenvs\\ppuodz-ml-4-1-dqELbViF-py3.12\\Lib\\site-packages\\lightgbm\\callback.py:325: UserWarning: Early stopping is not available in dart mode\n",
      "  _log_warning('Early stopping is not available in dart mode')\n"
     ]
    },
    {
     "name": "stdout",
     "output_type": "stream",
     "text": [
      "Fold: Tuning: n_train=263581, eval_set=43930\n",
      "Tune: val_score:0.7744, std_test_score:0.00354 train_set_score:0.8117\n",
      "folds val/train: [0.7742, 0.7714, 0.7719, 0.778, 0.7811, 0.7737, 0.7707] / [0.8117, 0.8123, 0.8126, 0.8104, 0.8098, 0.8125, 0.8126], mean fold time: 21.28\n"
     ]
    },
    {
     "name": "stderr",
     "output_type": "stream",
     "text": [
      "[I 2024-04-20 18:13:04,040] Trial 37 finished with value: 0.7744336934519905 and parameters: {'model__n_estimators': 800, 'model__learning_rate': 0.12, 'model__max_depth': 5, 'model__num_leaves': 104, 'model__min_gain_to_split': 7.5, 'model__min_data_in_leaf': 2300, 'model__lambda_l1': 80, 'model__lambda_l2': 25, 'model__bagging_fraction': 0.30000000000000004, 'model__feature_fraction': 0.9000000000000001, 'model__max_bin': 475}. Best is trial 19 with value: 0.776348422018213.\n",
      "C:\\Users\\Paulius\\AppData\\Local\\pypoetry\\Cache\\virtualenvs\\ppuodz-ml-4-1-dqELbViF-py3.12\\Lib\\site-packages\\lightgbm\\callback.py:325: UserWarning: Early stopping is not available in dart mode\n",
      "  _log_warning('Early stopping is not available in dart mode')\n"
     ]
    },
    {
     "name": "stdout",
     "output_type": "stream",
     "text": [
      "Fold: Tuning: n_train=263580, eval_set=43931\n"
     ]
    },
    {
     "name": "stderr",
     "output_type": "stream",
     "text": [
      "C:\\Users\\Paulius\\AppData\\Local\\pypoetry\\Cache\\virtualenvs\\ppuodz-ml-4-1-dqELbViF-py3.12\\Lib\\site-packages\\lightgbm\\callback.py:325: UserWarning: Early stopping is not available in dart mode\n",
      "  _log_warning('Early stopping is not available in dart mode')\n"
     ]
    },
    {
     "name": "stdout",
     "output_type": "stream",
     "text": [
      "Fold: Tuning: n_train=263581, eval_set=43930\n"
     ]
    },
    {
     "name": "stderr",
     "output_type": "stream",
     "text": [
      "C:\\Users\\Paulius\\AppData\\Local\\pypoetry\\Cache\\virtualenvs\\ppuodz-ml-4-1-dqELbViF-py3.12\\Lib\\site-packages\\lightgbm\\callback.py:325: UserWarning: Early stopping is not available in dart mode\n",
      "  _log_warning('Early stopping is not available in dart mode')\n"
     ]
    },
    {
     "name": "stdout",
     "output_type": "stream",
     "text": [
      "Fold: Tuning: n_train=263581, eval_set=43930\n"
     ]
    },
    {
     "name": "stderr",
     "output_type": "stream",
     "text": [
      "C:\\Users\\Paulius\\AppData\\Local\\pypoetry\\Cache\\virtualenvs\\ppuodz-ml-4-1-dqELbViF-py3.12\\Lib\\site-packages\\lightgbm\\callback.py:325: UserWarning: Early stopping is not available in dart mode\n",
      "  _log_warning('Early stopping is not available in dart mode')\n"
     ]
    },
    {
     "name": "stdout",
     "output_type": "stream",
     "text": [
      "Fold: Tuning: n_train=263581, eval_set=43930\n"
     ]
    },
    {
     "name": "stderr",
     "output_type": "stream",
     "text": [
      "C:\\Users\\Paulius\\AppData\\Local\\pypoetry\\Cache\\virtualenvs\\ppuodz-ml-4-1-dqELbViF-py3.12\\Lib\\site-packages\\lightgbm\\callback.py:325: UserWarning: Early stopping is not available in dart mode\n",
      "  _log_warning('Early stopping is not available in dart mode')\n"
     ]
    },
    {
     "name": "stdout",
     "output_type": "stream",
     "text": [
      "Fold: Tuning: n_train=263581, eval_set=43930\n"
     ]
    },
    {
     "name": "stderr",
     "output_type": "stream",
     "text": [
      "C:\\Users\\Paulius\\AppData\\Local\\pypoetry\\Cache\\virtualenvs\\ppuodz-ml-4-1-dqELbViF-py3.12\\Lib\\site-packages\\lightgbm\\callback.py:325: UserWarning: Early stopping is not available in dart mode\n",
      "  _log_warning('Early stopping is not available in dart mode')\n"
     ]
    },
    {
     "name": "stdout",
     "output_type": "stream",
     "text": [
      "Fold: Tuning: n_train=263581, eval_set=43930\n"
     ]
    },
    {
     "name": "stderr",
     "output_type": "stream",
     "text": [
      "C:\\Users\\Paulius\\AppData\\Local\\pypoetry\\Cache\\virtualenvs\\ppuodz-ml-4-1-dqELbViF-py3.12\\Lib\\site-packages\\lightgbm\\callback.py:325: UserWarning: Early stopping is not available in dart mode\n",
      "  _log_warning('Early stopping is not available in dart mode')\n"
     ]
    },
    {
     "name": "stdout",
     "output_type": "stream",
     "text": [
      "Fold: Tuning: n_train=263581, eval_set=43930\n",
      "Tune: val_score:0.7735, std_test_score:0.00366 train_set_score:0.8036\n",
      "folds val/train: [0.7739, 0.7696, 0.7701, 0.777, 0.7802, 0.7734, 0.7704] / [0.8032, 0.8043, 0.8044, 0.8027, 0.802, 0.804, 0.8046], mean fold time: 22.56\n"
     ]
    },
    {
     "name": "stderr",
     "output_type": "stream",
     "text": [
      "[I 2024-04-20 18:15:42,767] Trial 38 finished with value: 0.7735189517784012 and parameters: {'model__n_estimators': 1000, 'model__learning_rate': 0.09, 'model__max_depth': 4, 'model__num_leaves': 144, 'model__min_gain_to_split': 13.5, 'model__min_data_in_leaf': 2500, 'model__lambda_l1': 35, 'model__lambda_l2': 15, 'model__bagging_fraction': 0.2, 'model__feature_fraction': 0.8, 'model__max_bin': 350}. Best is trial 19 with value: 0.776348422018213.\n",
      "C:\\Users\\Paulius\\AppData\\Local\\pypoetry\\Cache\\virtualenvs\\ppuodz-ml-4-1-dqELbViF-py3.12\\Lib\\site-packages\\lightgbm\\callback.py:325: UserWarning: Early stopping is not available in dart mode\n",
      "  _log_warning('Early stopping is not available in dart mode')\n"
     ]
    },
    {
     "name": "stdout",
     "output_type": "stream",
     "text": [
      "Fold: Tuning: n_train=263580, eval_set=43931\n"
     ]
    },
    {
     "name": "stderr",
     "output_type": "stream",
     "text": [
      "C:\\Users\\Paulius\\AppData\\Local\\pypoetry\\Cache\\virtualenvs\\ppuodz-ml-4-1-dqELbViF-py3.12\\Lib\\site-packages\\lightgbm\\callback.py:325: UserWarning: Early stopping is not available in dart mode\n",
      "  _log_warning('Early stopping is not available in dart mode')\n"
     ]
    },
    {
     "name": "stdout",
     "output_type": "stream",
     "text": [
      "Fold: Tuning: n_train=263581, eval_set=43930\n"
     ]
    },
    {
     "name": "stderr",
     "output_type": "stream",
     "text": [
      "C:\\Users\\Paulius\\AppData\\Local\\pypoetry\\Cache\\virtualenvs\\ppuodz-ml-4-1-dqELbViF-py3.12\\Lib\\site-packages\\lightgbm\\callback.py:325: UserWarning: Early stopping is not available in dart mode\n",
      "  _log_warning('Early stopping is not available in dart mode')\n"
     ]
    },
    {
     "name": "stdout",
     "output_type": "stream",
     "text": [
      "Fold: Tuning: n_train=263581, eval_set=43930\n"
     ]
    },
    {
     "name": "stderr",
     "output_type": "stream",
     "text": [
      "C:\\Users\\Paulius\\AppData\\Local\\pypoetry\\Cache\\virtualenvs\\ppuodz-ml-4-1-dqELbViF-py3.12\\Lib\\site-packages\\lightgbm\\callback.py:325: UserWarning: Early stopping is not available in dart mode\n",
      "  _log_warning('Early stopping is not available in dart mode')\n"
     ]
    },
    {
     "name": "stdout",
     "output_type": "stream",
     "text": [
      "Fold: Tuning: n_train=263581, eval_set=43930\n"
     ]
    },
    {
     "name": "stderr",
     "output_type": "stream",
     "text": [
      "C:\\Users\\Paulius\\AppData\\Local\\pypoetry\\Cache\\virtualenvs\\ppuodz-ml-4-1-dqELbViF-py3.12\\Lib\\site-packages\\lightgbm\\callback.py:325: UserWarning: Early stopping is not available in dart mode\n",
      "  _log_warning('Early stopping is not available in dart mode')\n"
     ]
    },
    {
     "name": "stdout",
     "output_type": "stream",
     "text": [
      "Fold: Tuning: n_train=263581, eval_set=43930\n"
     ]
    },
    {
     "name": "stderr",
     "output_type": "stream",
     "text": [
      "C:\\Users\\Paulius\\AppData\\Local\\pypoetry\\Cache\\virtualenvs\\ppuodz-ml-4-1-dqELbViF-py3.12\\Lib\\site-packages\\lightgbm\\callback.py:325: UserWarning: Early stopping is not available in dart mode\n",
      "  _log_warning('Early stopping is not available in dart mode')\n"
     ]
    },
    {
     "name": "stdout",
     "output_type": "stream",
     "text": [
      "Fold: Tuning: n_train=263581, eval_set=43930\n"
     ]
    },
    {
     "name": "stderr",
     "output_type": "stream",
     "text": [
      "C:\\Users\\Paulius\\AppData\\Local\\pypoetry\\Cache\\virtualenvs\\ppuodz-ml-4-1-dqELbViF-py3.12\\Lib\\site-packages\\lightgbm\\callback.py:325: UserWarning: Early stopping is not available in dart mode\n",
      "  _log_warning('Early stopping is not available in dart mode')\n"
     ]
    },
    {
     "name": "stdout",
     "output_type": "stream",
     "text": [
      "Fold: Tuning: n_train=263581, eval_set=43930\n",
      "Tune: val_score:0.7755, std_test_score:0.00364 train_set_score:0.8237\n",
      "folds val/train: [0.7749, 0.7723, 0.7723, 0.7788, 0.7822, 0.7763, 0.7715] / [0.8235, 0.824, 0.8245, 0.8232, 0.822, 0.8241, 0.8246], mean fold time: 27.78\n"
     ]
    },
    {
     "name": "stderr",
     "output_type": "stream",
     "text": [
      "[I 2024-04-20 18:18:58,031] Trial 39 finished with value: 0.7754735051389609 and parameters: {'model__n_estimators': 900, 'model__learning_rate': 0.2, 'model__max_depth': 6, 'model__num_leaves': 192, 'model__min_gain_to_split': 6.0, 'model__min_data_in_leaf': 1900, 'model__lambda_l1': 65, 'model__lambda_l2': 5, 'model__bagging_fraction': 0.5, 'model__feature_fraction': 1.0, 'model__max_bin': 425}. Best is trial 19 with value: 0.776348422018213.\n",
      "C:\\Users\\Paulius\\AppData\\Local\\pypoetry\\Cache\\virtualenvs\\ppuodz-ml-4-1-dqELbViF-py3.12\\Lib\\site-packages\\lightgbm\\callback.py:325: UserWarning: Early stopping is not available in dart mode\n",
      "  _log_warning('Early stopping is not available in dart mode')\n"
     ]
    },
    {
     "name": "stdout",
     "output_type": "stream",
     "text": [
      "Fold: Tuning: n_train=263580, eval_set=43931\n"
     ]
    },
    {
     "name": "stderr",
     "output_type": "stream",
     "text": [
      "C:\\Users\\Paulius\\AppData\\Local\\pypoetry\\Cache\\virtualenvs\\ppuodz-ml-4-1-dqELbViF-py3.12\\Lib\\site-packages\\lightgbm\\callback.py:325: UserWarning: Early stopping is not available in dart mode\n",
      "  _log_warning('Early stopping is not available in dart mode')\n"
     ]
    },
    {
     "name": "stdout",
     "output_type": "stream",
     "text": [
      "Fold: Tuning: n_train=263581, eval_set=43930\n"
     ]
    },
    {
     "name": "stderr",
     "output_type": "stream",
     "text": [
      "C:\\Users\\Paulius\\AppData\\Local\\pypoetry\\Cache\\virtualenvs\\ppuodz-ml-4-1-dqELbViF-py3.12\\Lib\\site-packages\\lightgbm\\callback.py:325: UserWarning: Early stopping is not available in dart mode\n",
      "  _log_warning('Early stopping is not available in dart mode')\n"
     ]
    },
    {
     "name": "stdout",
     "output_type": "stream",
     "text": [
      "Fold: Tuning: n_train=263581, eval_set=43930\n"
     ]
    },
    {
     "name": "stderr",
     "output_type": "stream",
     "text": [
      "C:\\Users\\Paulius\\AppData\\Local\\pypoetry\\Cache\\virtualenvs\\ppuodz-ml-4-1-dqELbViF-py3.12\\Lib\\site-packages\\lightgbm\\callback.py:325: UserWarning: Early stopping is not available in dart mode\n",
      "  _log_warning('Early stopping is not available in dart mode')\n"
     ]
    },
    {
     "name": "stdout",
     "output_type": "stream",
     "text": [
      "Fold: Tuning: n_train=263581, eval_set=43930\n"
     ]
    },
    {
     "name": "stderr",
     "output_type": "stream",
     "text": [
      "C:\\Users\\Paulius\\AppData\\Local\\pypoetry\\Cache\\virtualenvs\\ppuodz-ml-4-1-dqELbViF-py3.12\\Lib\\site-packages\\lightgbm\\callback.py:325: UserWarning: Early stopping is not available in dart mode\n",
      "  _log_warning('Early stopping is not available in dart mode')\n"
     ]
    },
    {
     "name": "stdout",
     "output_type": "stream",
     "text": [
      "Fold: Tuning: n_train=263581, eval_set=43930\n"
     ]
    },
    {
     "name": "stderr",
     "output_type": "stream",
     "text": [
      "C:\\Users\\Paulius\\AppData\\Local\\pypoetry\\Cache\\virtualenvs\\ppuodz-ml-4-1-dqELbViF-py3.12\\Lib\\site-packages\\lightgbm\\callback.py:325: UserWarning: Early stopping is not available in dart mode\n",
      "  _log_warning('Early stopping is not available in dart mode')\n"
     ]
    },
    {
     "name": "stdout",
     "output_type": "stream",
     "text": [
      "Fold: Tuning: n_train=263581, eval_set=43930\n"
     ]
    },
    {
     "name": "stderr",
     "output_type": "stream",
     "text": [
      "C:\\Users\\Paulius\\AppData\\Local\\pypoetry\\Cache\\virtualenvs\\ppuodz-ml-4-1-dqELbViF-py3.12\\Lib\\site-packages\\lightgbm\\callback.py:325: UserWarning: Early stopping is not available in dart mode\n",
      "  _log_warning('Early stopping is not available in dart mode')\n"
     ]
    },
    {
     "name": "stdout",
     "output_type": "stream",
     "text": [
      "Fold: Tuning: n_train=263581, eval_set=43930\n",
      "Tune: val_score:0.7754, std_test_score:0.00349 train_set_score:0.8090\n",
      "folds val/train: [0.7744, 0.7721, 0.7726, 0.7782, 0.7823, 0.7757, 0.7722] / [0.8091, 0.809, 0.8104, 0.8087, 0.8072, 0.8084, 0.81], mean fold time: 17.09\n"
     ]
    },
    {
     "name": "stderr",
     "output_type": "stream",
     "text": [
      "[I 2024-04-20 18:20:58,455] Trial 40 finished with value: 0.775358377030577 and parameters: {'model__n_estimators': 800, 'model__learning_rate': 0.25, 'model__max_depth': 4, 'model__num_leaves': 168, 'model__min_gain_to_split': 4.5, 'model__min_data_in_leaf': 500, 'model__lambda_l1': 95, 'model__lambda_l2': 30, 'model__bagging_fraction': 0.4, 'model__feature_fraction': 0.9000000000000001, 'model__max_bin': 275}. Best is trial 19 with value: 0.776348422018213.\n",
      "C:\\Users\\Paulius\\AppData\\Local\\pypoetry\\Cache\\virtualenvs\\ppuodz-ml-4-1-dqELbViF-py3.12\\Lib\\site-packages\\lightgbm\\callback.py:325: UserWarning: Early stopping is not available in dart mode\n",
      "  _log_warning('Early stopping is not available in dart mode')\n"
     ]
    },
    {
     "name": "stdout",
     "output_type": "stream",
     "text": [
      "Fold: Tuning: n_train=263580, eval_set=43931\n"
     ]
    },
    {
     "name": "stderr",
     "output_type": "stream",
     "text": [
      "C:\\Users\\Paulius\\AppData\\Local\\pypoetry\\Cache\\virtualenvs\\ppuodz-ml-4-1-dqELbViF-py3.12\\Lib\\site-packages\\lightgbm\\callback.py:325: UserWarning: Early stopping is not available in dart mode\n",
      "  _log_warning('Early stopping is not available in dart mode')\n"
     ]
    },
    {
     "name": "stdout",
     "output_type": "stream",
     "text": [
      "Fold: Tuning: n_train=263581, eval_set=43930\n"
     ]
    },
    {
     "name": "stderr",
     "output_type": "stream",
     "text": [
      "C:\\Users\\Paulius\\AppData\\Local\\pypoetry\\Cache\\virtualenvs\\ppuodz-ml-4-1-dqELbViF-py3.12\\Lib\\site-packages\\lightgbm\\callback.py:325: UserWarning: Early stopping is not available in dart mode\n",
      "  _log_warning('Early stopping is not available in dart mode')\n"
     ]
    },
    {
     "name": "stdout",
     "output_type": "stream",
     "text": [
      "Fold: Tuning: n_train=263581, eval_set=43930\n"
     ]
    },
    {
     "name": "stderr",
     "output_type": "stream",
     "text": [
      "C:\\Users\\Paulius\\AppData\\Local\\pypoetry\\Cache\\virtualenvs\\ppuodz-ml-4-1-dqELbViF-py3.12\\Lib\\site-packages\\lightgbm\\callback.py:325: UserWarning: Early stopping is not available in dart mode\n",
      "  _log_warning('Early stopping is not available in dart mode')\n"
     ]
    },
    {
     "name": "stdout",
     "output_type": "stream",
     "text": [
      "Fold: Tuning: n_train=263581, eval_set=43930\n"
     ]
    },
    {
     "name": "stderr",
     "output_type": "stream",
     "text": [
      "C:\\Users\\Paulius\\AppData\\Local\\pypoetry\\Cache\\virtualenvs\\ppuodz-ml-4-1-dqELbViF-py3.12\\Lib\\site-packages\\lightgbm\\callback.py:325: UserWarning: Early stopping is not available in dart mode\n",
      "  _log_warning('Early stopping is not available in dart mode')\n"
     ]
    },
    {
     "name": "stdout",
     "output_type": "stream",
     "text": [
      "Fold: Tuning: n_train=263581, eval_set=43930\n"
     ]
    },
    {
     "name": "stderr",
     "output_type": "stream",
     "text": [
      "C:\\Users\\Paulius\\AppData\\Local\\pypoetry\\Cache\\virtualenvs\\ppuodz-ml-4-1-dqELbViF-py3.12\\Lib\\site-packages\\lightgbm\\callback.py:325: UserWarning: Early stopping is not available in dart mode\n",
      "  _log_warning('Early stopping is not available in dart mode')\n"
     ]
    },
    {
     "name": "stdout",
     "output_type": "stream",
     "text": [
      "Fold: Tuning: n_train=263581, eval_set=43930\n"
     ]
    },
    {
     "name": "stderr",
     "output_type": "stream",
     "text": [
      "C:\\Users\\Paulius\\AppData\\Local\\pypoetry\\Cache\\virtualenvs\\ppuodz-ml-4-1-dqELbViF-py3.12\\Lib\\site-packages\\lightgbm\\callback.py:325: UserWarning: Early stopping is not available in dart mode\n",
      "  _log_warning('Early stopping is not available in dart mode')\n"
     ]
    },
    {
     "name": "stdout",
     "output_type": "stream",
     "text": [
      "Fold: Tuning: n_train=263581, eval_set=43930\n",
      "Tune: val_score:0.7759, std_test_score:0.00358 train_set_score:0.8291\n",
      "folds val/train: [0.7764, 0.7729, 0.7722, 0.7778, 0.783, 0.7766, 0.7726] / [0.8291, 0.8294, 0.8293, 0.8287, 0.8282, 0.8303, 0.829], mean fold time: 27.32\n"
     ]
    },
    {
     "name": "stderr",
     "output_type": "stream",
     "text": [
      "[I 2024-04-20 18:24:10,522] Trial 41 finished with value: 0.7759300774054421 and parameters: {'model__n_estimators': 900, 'model__learning_rate': 0.18000000000000002, 'model__max_depth': 6, 'model__num_leaves': 144, 'model__min_gain_to_split': 3.0, 'model__min_data_in_leaf': 2800, 'model__lambda_l1': 70, 'model__lambda_l2': 35, 'model__bagging_fraction': 0.30000000000000004, 'model__feature_fraction': 0.5, 'model__max_bin': 450}. Best is trial 19 with value: 0.776348422018213.\n",
      "C:\\Users\\Paulius\\AppData\\Local\\pypoetry\\Cache\\virtualenvs\\ppuodz-ml-4-1-dqELbViF-py3.12\\Lib\\site-packages\\lightgbm\\callback.py:325: UserWarning: Early stopping is not available in dart mode\n",
      "  _log_warning('Early stopping is not available in dart mode')\n"
     ]
    },
    {
     "name": "stdout",
     "output_type": "stream",
     "text": [
      "Fold: Tuning: n_train=263580, eval_set=43931\n"
     ]
    },
    {
     "name": "stderr",
     "output_type": "stream",
     "text": [
      "C:\\Users\\Paulius\\AppData\\Local\\pypoetry\\Cache\\virtualenvs\\ppuodz-ml-4-1-dqELbViF-py3.12\\Lib\\site-packages\\lightgbm\\callback.py:325: UserWarning: Early stopping is not available in dart mode\n",
      "  _log_warning('Early stopping is not available in dart mode')\n"
     ]
    },
    {
     "name": "stdout",
     "output_type": "stream",
     "text": [
      "Fold: Tuning: n_train=263581, eval_set=43930\n"
     ]
    },
    {
     "name": "stderr",
     "output_type": "stream",
     "text": [
      "C:\\Users\\Paulius\\AppData\\Local\\pypoetry\\Cache\\virtualenvs\\ppuodz-ml-4-1-dqELbViF-py3.12\\Lib\\site-packages\\lightgbm\\callback.py:325: UserWarning: Early stopping is not available in dart mode\n",
      "  _log_warning('Early stopping is not available in dart mode')\n"
     ]
    },
    {
     "name": "stdout",
     "output_type": "stream",
     "text": [
      "Fold: Tuning: n_train=263581, eval_set=43930\n"
     ]
    },
    {
     "name": "stderr",
     "output_type": "stream",
     "text": [
      "C:\\Users\\Paulius\\AppData\\Local\\pypoetry\\Cache\\virtualenvs\\ppuodz-ml-4-1-dqELbViF-py3.12\\Lib\\site-packages\\lightgbm\\callback.py:325: UserWarning: Early stopping is not available in dart mode\n",
      "  _log_warning('Early stopping is not available in dart mode')\n"
     ]
    },
    {
     "name": "stdout",
     "output_type": "stream",
     "text": [
      "Fold: Tuning: n_train=263581, eval_set=43930\n"
     ]
    },
    {
     "name": "stderr",
     "output_type": "stream",
     "text": [
      "C:\\Users\\Paulius\\AppData\\Local\\pypoetry\\Cache\\virtualenvs\\ppuodz-ml-4-1-dqELbViF-py3.12\\Lib\\site-packages\\lightgbm\\callback.py:325: UserWarning: Early stopping is not available in dart mode\n",
      "  _log_warning('Early stopping is not available in dart mode')\n"
     ]
    },
    {
     "name": "stdout",
     "output_type": "stream",
     "text": [
      "Fold: Tuning: n_train=263581, eval_set=43930\n"
     ]
    },
    {
     "name": "stderr",
     "output_type": "stream",
     "text": [
      "C:\\Users\\Paulius\\AppData\\Local\\pypoetry\\Cache\\virtualenvs\\ppuodz-ml-4-1-dqELbViF-py3.12\\Lib\\site-packages\\lightgbm\\callback.py:325: UserWarning: Early stopping is not available in dart mode\n",
      "  _log_warning('Early stopping is not available in dart mode')\n"
     ]
    },
    {
     "name": "stdout",
     "output_type": "stream",
     "text": [
      "Fold: Tuning: n_train=263581, eval_set=43930\n"
     ]
    },
    {
     "name": "stderr",
     "output_type": "stream",
     "text": [
      "C:\\Users\\Paulius\\AppData\\Local\\pypoetry\\Cache\\virtualenvs\\ppuodz-ml-4-1-dqELbViF-py3.12\\Lib\\site-packages\\lightgbm\\callback.py:325: UserWarning: Early stopping is not available in dart mode\n",
      "  _log_warning('Early stopping is not available in dart mode')\n"
     ]
    },
    {
     "name": "stdout",
     "output_type": "stream",
     "text": [
      "Fold: Tuning: n_train=263581, eval_set=43930\n",
      "Tune: val_score:0.7761, std_test_score:0.00367 train_set_score:0.8379\n",
      "folds val/train: [0.7758, 0.7734, 0.7735, 0.7793, 0.7832, 0.7761, 0.7717] / [0.8375, 0.838, 0.8389, 0.8377, 0.836, 0.8378, 0.8394], mean fold time: 26.49\n"
     ]
    },
    {
     "name": "stderr",
     "output_type": "stream",
     "text": [
      "[I 2024-04-20 18:27:16,707] Trial 42 finished with value: 0.7761223205548473 and parameters: {'model__n_estimators': 800, 'model__learning_rate': 0.22, 'model__max_depth': 7, 'model__num_leaves': 128, 'model__min_gain_to_split': 2.5, 'model__min_data_in_leaf': 2800, 'model__lambda_l1': 80, 'model__lambda_l2': 15, 'model__bagging_fraction': 0.30000000000000004, 'model__feature_fraction': 0.8, 'model__max_bin': 400}. Best is trial 19 with value: 0.776348422018213.\n",
      "C:\\Users\\Paulius\\AppData\\Local\\pypoetry\\Cache\\virtualenvs\\ppuodz-ml-4-1-dqELbViF-py3.12\\Lib\\site-packages\\lightgbm\\callback.py:325: UserWarning: Early stopping is not available in dart mode\n",
      "  _log_warning('Early stopping is not available in dart mode')\n"
     ]
    },
    {
     "name": "stdout",
     "output_type": "stream",
     "text": [
      "Fold: Tuning: n_train=263580, eval_set=43931\n"
     ]
    },
    {
     "name": "stderr",
     "output_type": "stream",
     "text": [
      "C:\\Users\\Paulius\\AppData\\Local\\pypoetry\\Cache\\virtualenvs\\ppuodz-ml-4-1-dqELbViF-py3.12\\Lib\\site-packages\\lightgbm\\callback.py:325: UserWarning: Early stopping is not available in dart mode\n",
      "  _log_warning('Early stopping is not available in dart mode')\n"
     ]
    },
    {
     "name": "stdout",
     "output_type": "stream",
     "text": [
      "Fold: Tuning: n_train=263581, eval_set=43930\n"
     ]
    },
    {
     "name": "stderr",
     "output_type": "stream",
     "text": [
      "C:\\Users\\Paulius\\AppData\\Local\\pypoetry\\Cache\\virtualenvs\\ppuodz-ml-4-1-dqELbViF-py3.12\\Lib\\site-packages\\lightgbm\\callback.py:325: UserWarning: Early stopping is not available in dart mode\n",
      "  _log_warning('Early stopping is not available in dart mode')\n"
     ]
    },
    {
     "name": "stdout",
     "output_type": "stream",
     "text": [
      "Fold: Tuning: n_train=263581, eval_set=43930\n"
     ]
    },
    {
     "name": "stderr",
     "output_type": "stream",
     "text": [
      "C:\\Users\\Paulius\\AppData\\Local\\pypoetry\\Cache\\virtualenvs\\ppuodz-ml-4-1-dqELbViF-py3.12\\Lib\\site-packages\\lightgbm\\callback.py:325: UserWarning: Early stopping is not available in dart mode\n",
      "  _log_warning('Early stopping is not available in dart mode')\n"
     ]
    },
    {
     "name": "stdout",
     "output_type": "stream",
     "text": [
      "Fold: Tuning: n_train=263581, eval_set=43930\n"
     ]
    },
    {
     "name": "stderr",
     "output_type": "stream",
     "text": [
      "C:\\Users\\Paulius\\AppData\\Local\\pypoetry\\Cache\\virtualenvs\\ppuodz-ml-4-1-dqELbViF-py3.12\\Lib\\site-packages\\lightgbm\\callback.py:325: UserWarning: Early stopping is not available in dart mode\n",
      "  _log_warning('Early stopping is not available in dart mode')\n"
     ]
    },
    {
     "name": "stdout",
     "output_type": "stream",
     "text": [
      "Fold: Tuning: n_train=263581, eval_set=43930\n"
     ]
    },
    {
     "name": "stderr",
     "output_type": "stream",
     "text": [
      "C:\\Users\\Paulius\\AppData\\Local\\pypoetry\\Cache\\virtualenvs\\ppuodz-ml-4-1-dqELbViF-py3.12\\Lib\\site-packages\\lightgbm\\callback.py:325: UserWarning: Early stopping is not available in dart mode\n",
      "  _log_warning('Early stopping is not available in dart mode')\n"
     ]
    },
    {
     "name": "stdout",
     "output_type": "stream",
     "text": [
      "Fold: Tuning: n_train=263581, eval_set=43930\n"
     ]
    },
    {
     "name": "stderr",
     "output_type": "stream",
     "text": [
      "C:\\Users\\Paulius\\AppData\\Local\\pypoetry\\Cache\\virtualenvs\\ppuodz-ml-4-1-dqELbViF-py3.12\\Lib\\site-packages\\lightgbm\\callback.py:325: UserWarning: Early stopping is not available in dart mode\n",
      "  _log_warning('Early stopping is not available in dart mode')\n"
     ]
    },
    {
     "name": "stdout",
     "output_type": "stream",
     "text": [
      "Fold: Tuning: n_train=263581, eval_set=43930\n",
      "Tune: val_score:0.7758, std_test_score:0.00352 train_set_score:0.8432\n",
      "folds val/train: [0.7754, 0.7725, 0.7722, 0.7792, 0.7825, 0.7758, 0.7732] / [0.843, 0.8434, 0.8459, 0.8425, 0.8414, 0.8431, 0.8435], mean fold time: 23.19\n"
     ]
    },
    {
     "name": "stderr",
     "output_type": "stream",
     "text": [
      "[I 2024-04-20 18:29:59,846] Trial 43 finished with value: 0.7758343536468532 and parameters: {'model__n_estimators': 700, 'model__learning_rate': 0.21000000000000002, 'model__max_depth': 7, 'model__num_leaves': 120, 'model__min_gain_to_split': 2.0, 'model__min_data_in_leaf': 2800, 'model__lambda_l1': 80, 'model__lambda_l2': 15, 'model__bagging_fraction': 0.4, 'model__feature_fraction': 0.8, 'model__max_bin': 400}. Best is trial 19 with value: 0.776348422018213.\n",
      "C:\\Users\\Paulius\\AppData\\Local\\pypoetry\\Cache\\virtualenvs\\ppuodz-ml-4-1-dqELbViF-py3.12\\Lib\\site-packages\\lightgbm\\callback.py:325: UserWarning: Early stopping is not available in dart mode\n",
      "  _log_warning('Early stopping is not available in dart mode')\n"
     ]
    },
    {
     "name": "stdout",
     "output_type": "stream",
     "text": [
      "Fold: Tuning: n_train=263580, eval_set=43931\n"
     ]
    },
    {
     "name": "stderr",
     "output_type": "stream",
     "text": [
      "C:\\Users\\Paulius\\AppData\\Local\\pypoetry\\Cache\\virtualenvs\\ppuodz-ml-4-1-dqELbViF-py3.12\\Lib\\site-packages\\lightgbm\\callback.py:325: UserWarning: Early stopping is not available in dart mode\n",
      "  _log_warning('Early stopping is not available in dart mode')\n"
     ]
    },
    {
     "name": "stdout",
     "output_type": "stream",
     "text": [
      "Fold: Tuning: n_train=263581, eval_set=43930\n"
     ]
    },
    {
     "name": "stderr",
     "output_type": "stream",
     "text": [
      "C:\\Users\\Paulius\\AppData\\Local\\pypoetry\\Cache\\virtualenvs\\ppuodz-ml-4-1-dqELbViF-py3.12\\Lib\\site-packages\\lightgbm\\callback.py:325: UserWarning: Early stopping is not available in dart mode\n",
      "  _log_warning('Early stopping is not available in dart mode')\n"
     ]
    },
    {
     "name": "stdout",
     "output_type": "stream",
     "text": [
      "Fold: Tuning: n_train=263581, eval_set=43930\n"
     ]
    },
    {
     "name": "stderr",
     "output_type": "stream",
     "text": [
      "C:\\Users\\Paulius\\AppData\\Local\\pypoetry\\Cache\\virtualenvs\\ppuodz-ml-4-1-dqELbViF-py3.12\\Lib\\site-packages\\lightgbm\\callback.py:325: UserWarning: Early stopping is not available in dart mode\n",
      "  _log_warning('Early stopping is not available in dart mode')\n"
     ]
    },
    {
     "name": "stdout",
     "output_type": "stream",
     "text": [
      "Fold: Tuning: n_train=263581, eval_set=43930\n"
     ]
    },
    {
     "name": "stderr",
     "output_type": "stream",
     "text": [
      "C:\\Users\\Paulius\\AppData\\Local\\pypoetry\\Cache\\virtualenvs\\ppuodz-ml-4-1-dqELbViF-py3.12\\Lib\\site-packages\\lightgbm\\callback.py:325: UserWarning: Early stopping is not available in dart mode\n",
      "  _log_warning('Early stopping is not available in dart mode')\n"
     ]
    },
    {
     "name": "stdout",
     "output_type": "stream",
     "text": [
      "Fold: Tuning: n_train=263581, eval_set=43930\n"
     ]
    },
    {
     "name": "stderr",
     "output_type": "stream",
     "text": [
      "C:\\Users\\Paulius\\AppData\\Local\\pypoetry\\Cache\\virtualenvs\\ppuodz-ml-4-1-dqELbViF-py3.12\\Lib\\site-packages\\lightgbm\\callback.py:325: UserWarning: Early stopping is not available in dart mode\n",
      "  _log_warning('Early stopping is not available in dart mode')\n"
     ]
    },
    {
     "name": "stdout",
     "output_type": "stream",
     "text": [
      "Fold: Tuning: n_train=263581, eval_set=43930\n"
     ]
    },
    {
     "name": "stderr",
     "output_type": "stream",
     "text": [
      "C:\\Users\\Paulius\\AppData\\Local\\pypoetry\\Cache\\virtualenvs\\ppuodz-ml-4-1-dqELbViF-py3.12\\Lib\\site-packages\\lightgbm\\callback.py:325: UserWarning: Early stopping is not available in dart mode\n",
      "  _log_warning('Early stopping is not available in dart mode')\n"
     ]
    },
    {
     "name": "stdout",
     "output_type": "stream",
     "text": [
      "Fold: Tuning: n_train=263581, eval_set=43930\n",
      "Tune: val_score:0.7758, std_test_score:0.00352 train_set_score:0.8328\n",
      "folds val/train: [0.7751, 0.7729, 0.7722, 0.7792, 0.7823, 0.7766, 0.7726] / [0.8329, 0.8329, 0.8345, 0.832, 0.8308, 0.8333, 0.8331], mean fold time: 27.65\n"
     ]
    },
    {
     "name": "stderr",
     "output_type": "stream",
     "text": [
      "[I 2024-04-20 18:33:14,195] Trial 44 finished with value: 0.7758292011603827 and parameters: {'model__n_estimators': 800, 'model__learning_rate': 0.16, 'model__max_depth': 7, 'model__num_leaves': 96, 'model__min_gain_to_split': 4.0, 'model__min_data_in_leaf': 2500, 'model__lambda_l1': 75, 'model__lambda_l2': 5, 'model__bagging_fraction': 0.2, 'model__feature_fraction': 0.9000000000000001, 'model__max_bin': 500}. Best is trial 19 with value: 0.776348422018213.\n",
      "C:\\Users\\Paulius\\AppData\\Local\\pypoetry\\Cache\\virtualenvs\\ppuodz-ml-4-1-dqELbViF-py3.12\\Lib\\site-packages\\lightgbm\\callback.py:325: UserWarning: Early stopping is not available in dart mode\n",
      "  _log_warning('Early stopping is not available in dart mode')\n"
     ]
    },
    {
     "name": "stdout",
     "output_type": "stream",
     "text": [
      "Fold: Tuning: n_train=263580, eval_set=43931\n"
     ]
    },
    {
     "name": "stderr",
     "output_type": "stream",
     "text": [
      "C:\\Users\\Paulius\\AppData\\Local\\pypoetry\\Cache\\virtualenvs\\ppuodz-ml-4-1-dqELbViF-py3.12\\Lib\\site-packages\\lightgbm\\callback.py:325: UserWarning: Early stopping is not available in dart mode\n",
      "  _log_warning('Early stopping is not available in dart mode')\n"
     ]
    },
    {
     "name": "stdout",
     "output_type": "stream",
     "text": [
      "Fold: Tuning: n_train=263581, eval_set=43930\n"
     ]
    },
    {
     "name": "stderr",
     "output_type": "stream",
     "text": [
      "C:\\Users\\Paulius\\AppData\\Local\\pypoetry\\Cache\\virtualenvs\\ppuodz-ml-4-1-dqELbViF-py3.12\\Lib\\site-packages\\lightgbm\\callback.py:325: UserWarning: Early stopping is not available in dart mode\n",
      "  _log_warning('Early stopping is not available in dart mode')\n"
     ]
    },
    {
     "name": "stdout",
     "output_type": "stream",
     "text": [
      "Fold: Tuning: n_train=263581, eval_set=43930\n"
     ]
    },
    {
     "name": "stderr",
     "output_type": "stream",
     "text": [
      "C:\\Users\\Paulius\\AppData\\Local\\pypoetry\\Cache\\virtualenvs\\ppuodz-ml-4-1-dqELbViF-py3.12\\Lib\\site-packages\\lightgbm\\callback.py:325: UserWarning: Early stopping is not available in dart mode\n",
      "  _log_warning('Early stopping is not available in dart mode')\n"
     ]
    },
    {
     "name": "stdout",
     "output_type": "stream",
     "text": [
      "Fold: Tuning: n_train=263581, eval_set=43930\n"
     ]
    },
    {
     "name": "stderr",
     "output_type": "stream",
     "text": [
      "C:\\Users\\Paulius\\AppData\\Local\\pypoetry\\Cache\\virtualenvs\\ppuodz-ml-4-1-dqELbViF-py3.12\\Lib\\site-packages\\lightgbm\\callback.py:325: UserWarning: Early stopping is not available in dart mode\n",
      "  _log_warning('Early stopping is not available in dart mode')\n"
     ]
    },
    {
     "name": "stdout",
     "output_type": "stream",
     "text": [
      "Fold: Tuning: n_train=263581, eval_set=43930\n"
     ]
    },
    {
     "name": "stderr",
     "output_type": "stream",
     "text": [
      "C:\\Users\\Paulius\\AppData\\Local\\pypoetry\\Cache\\virtualenvs\\ppuodz-ml-4-1-dqELbViF-py3.12\\Lib\\site-packages\\lightgbm\\callback.py:325: UserWarning: Early stopping is not available in dart mode\n",
      "  _log_warning('Early stopping is not available in dart mode')\n"
     ]
    },
    {
     "name": "stdout",
     "output_type": "stream",
     "text": [
      "Fold: Tuning: n_train=263581, eval_set=43930\n"
     ]
    },
    {
     "name": "stderr",
     "output_type": "stream",
     "text": [
      "C:\\Users\\Paulius\\AppData\\Local\\pypoetry\\Cache\\virtualenvs\\ppuodz-ml-4-1-dqELbViF-py3.12\\Lib\\site-packages\\lightgbm\\callback.py:325: UserWarning: Early stopping is not available in dart mode\n",
      "  _log_warning('Early stopping is not available in dart mode')\n"
     ]
    },
    {
     "name": "stdout",
     "output_type": "stream",
     "text": [
      "Fold: Tuning: n_train=263581, eval_set=43930\n",
      "Tune: val_score:0.7754, std_test_score:0.00368 train_set_score:0.8155\n",
      "folds val/train: [0.7756, 0.7727, 0.7714, 0.7784, 0.7824, 0.7754, 0.7717] / [0.8152, 0.8159, 0.8173, 0.8147, 0.814, 0.8153, 0.816], mean fold time: 14.50\n"
     ]
    },
    {
     "name": "stderr",
     "output_type": "stream",
     "text": [
      "[I 2024-04-20 18:34:56,467] Trial 45 finished with value: 0.7753626833794739 and parameters: {'model__n_estimators': 600, 'model__learning_rate': 0.27, 'model__max_depth': 5, 'model__num_leaves': 120, 'model__min_gain_to_split': 5.0, 'model__min_data_in_leaf': 2200, 'model__lambda_l1': 85, 'model__lambda_l2': 20, 'model__bagging_fraction': 0.30000000000000004, 'model__feature_fraction': 0.8, 'model__max_bin': 475}. Best is trial 19 with value: 0.776348422018213.\n",
      "C:\\Users\\Paulius\\AppData\\Local\\pypoetry\\Cache\\virtualenvs\\ppuodz-ml-4-1-dqELbViF-py3.12\\Lib\\site-packages\\lightgbm\\callback.py:325: UserWarning: Early stopping is not available in dart mode\n",
      "  _log_warning('Early stopping is not available in dart mode')\n"
     ]
    },
    {
     "name": "stdout",
     "output_type": "stream",
     "text": [
      "Fold: Tuning: n_train=263580, eval_set=43931\n"
     ]
    },
    {
     "name": "stderr",
     "output_type": "stream",
     "text": [
      "C:\\Users\\Paulius\\AppData\\Local\\pypoetry\\Cache\\virtualenvs\\ppuodz-ml-4-1-dqELbViF-py3.12\\Lib\\site-packages\\lightgbm\\callback.py:325: UserWarning: Early stopping is not available in dart mode\n",
      "  _log_warning('Early stopping is not available in dart mode')\n"
     ]
    },
    {
     "name": "stdout",
     "output_type": "stream",
     "text": [
      "Fold: Tuning: n_train=263581, eval_set=43930\n"
     ]
    },
    {
     "name": "stderr",
     "output_type": "stream",
     "text": [
      "C:\\Users\\Paulius\\AppData\\Local\\pypoetry\\Cache\\virtualenvs\\ppuodz-ml-4-1-dqELbViF-py3.12\\Lib\\site-packages\\lightgbm\\callback.py:325: UserWarning: Early stopping is not available in dart mode\n",
      "  _log_warning('Early stopping is not available in dart mode')\n"
     ]
    },
    {
     "name": "stdout",
     "output_type": "stream",
     "text": [
      "Fold: Tuning: n_train=263581, eval_set=43930\n"
     ]
    },
    {
     "name": "stderr",
     "output_type": "stream",
     "text": [
      "C:\\Users\\Paulius\\AppData\\Local\\pypoetry\\Cache\\virtualenvs\\ppuodz-ml-4-1-dqELbViF-py3.12\\Lib\\site-packages\\lightgbm\\callback.py:325: UserWarning: Early stopping is not available in dart mode\n",
      "  _log_warning('Early stopping is not available in dart mode')\n"
     ]
    },
    {
     "name": "stdout",
     "output_type": "stream",
     "text": [
      "Fold: Tuning: n_train=263581, eval_set=43930\n"
     ]
    },
    {
     "name": "stderr",
     "output_type": "stream",
     "text": [
      "C:\\Users\\Paulius\\AppData\\Local\\pypoetry\\Cache\\virtualenvs\\ppuodz-ml-4-1-dqELbViF-py3.12\\Lib\\site-packages\\lightgbm\\callback.py:325: UserWarning: Early stopping is not available in dart mode\n",
      "  _log_warning('Early stopping is not available in dart mode')\n"
     ]
    },
    {
     "name": "stdout",
     "output_type": "stream",
     "text": [
      "Fold: Tuning: n_train=263581, eval_set=43930\n"
     ]
    },
    {
     "name": "stderr",
     "output_type": "stream",
     "text": [
      "C:\\Users\\Paulius\\AppData\\Local\\pypoetry\\Cache\\virtualenvs\\ppuodz-ml-4-1-dqELbViF-py3.12\\Lib\\site-packages\\lightgbm\\callback.py:325: UserWarning: Early stopping is not available in dart mode\n",
      "  _log_warning('Early stopping is not available in dart mode')\n"
     ]
    },
    {
     "name": "stdout",
     "output_type": "stream",
     "text": [
      "Fold: Tuning: n_train=263581, eval_set=43930\n"
     ]
    },
    {
     "name": "stderr",
     "output_type": "stream",
     "text": [
      "C:\\Users\\Paulius\\AppData\\Local\\pypoetry\\Cache\\virtualenvs\\ppuodz-ml-4-1-dqELbViF-py3.12\\Lib\\site-packages\\lightgbm\\callback.py:325: UserWarning: Early stopping is not available in dart mode\n",
      "  _log_warning('Early stopping is not available in dart mode')\n"
     ]
    },
    {
     "name": "stdout",
     "output_type": "stream",
     "text": [
      "Fold: Tuning: n_train=263581, eval_set=43930\n",
      "Tune: val_score:0.7749, std_test_score:0.00348 train_set_score:0.8882\n",
      "folds val/train: [0.7743, 0.7727, 0.7718, 0.7787, 0.7814, 0.7744, 0.7712] / [0.888, 0.8886, 0.8875, 0.8887, 0.8881, 0.889, 0.8874], mean fold time: 38.23\n"
     ]
    },
    {
     "name": "stderr",
     "output_type": "stream",
     "text": [
      "[I 2024-04-20 18:39:24,875] Trial 46 finished with value: 0.7749136759368165 and parameters: {'model__n_estimators': 950, 'model__learning_rate': 0.22, 'model__max_depth': 8, 'model__num_leaves': 72, 'model__min_gain_to_split': 1.0, 'model__min_data_in_leaf': 2900, 'model__lambda_l1': 55, 'model__lambda_l2': 70, 'model__bagging_fraction': 0.7, 'model__feature_fraction': 1.0, 'model__max_bin': 425}. Best is trial 19 with value: 0.776348422018213.\n",
      "C:\\Users\\Paulius\\AppData\\Local\\pypoetry\\Cache\\virtualenvs\\ppuodz-ml-4-1-dqELbViF-py3.12\\Lib\\site-packages\\lightgbm\\callback.py:325: UserWarning: Early stopping is not available in dart mode\n",
      "  _log_warning('Early stopping is not available in dart mode')\n"
     ]
    },
    {
     "name": "stdout",
     "output_type": "stream",
     "text": [
      "Fold: Tuning: n_train=263580, eval_set=43931\n"
     ]
    },
    {
     "name": "stderr",
     "output_type": "stream",
     "text": [
      "C:\\Users\\Paulius\\AppData\\Local\\pypoetry\\Cache\\virtualenvs\\ppuodz-ml-4-1-dqELbViF-py3.12\\Lib\\site-packages\\lightgbm\\callback.py:325: UserWarning: Early stopping is not available in dart mode\n",
      "  _log_warning('Early stopping is not available in dart mode')\n"
     ]
    },
    {
     "name": "stdout",
     "output_type": "stream",
     "text": [
      "Fold: Tuning: n_train=263581, eval_set=43930\n"
     ]
    },
    {
     "name": "stderr",
     "output_type": "stream",
     "text": [
      "C:\\Users\\Paulius\\AppData\\Local\\pypoetry\\Cache\\virtualenvs\\ppuodz-ml-4-1-dqELbViF-py3.12\\Lib\\site-packages\\lightgbm\\callback.py:325: UserWarning: Early stopping is not available in dart mode\n",
      "  _log_warning('Early stopping is not available in dart mode')\n"
     ]
    },
    {
     "name": "stdout",
     "output_type": "stream",
     "text": [
      "Fold: Tuning: n_train=263581, eval_set=43930\n"
     ]
    },
    {
     "name": "stderr",
     "output_type": "stream",
     "text": [
      "C:\\Users\\Paulius\\AppData\\Local\\pypoetry\\Cache\\virtualenvs\\ppuodz-ml-4-1-dqELbViF-py3.12\\Lib\\site-packages\\lightgbm\\callback.py:325: UserWarning: Early stopping is not available in dart mode\n",
      "  _log_warning('Early stopping is not available in dart mode')\n"
     ]
    },
    {
     "name": "stdout",
     "output_type": "stream",
     "text": [
      "Fold: Tuning: n_train=263581, eval_set=43930\n"
     ]
    },
    {
     "name": "stderr",
     "output_type": "stream",
     "text": [
      "C:\\Users\\Paulius\\AppData\\Local\\pypoetry\\Cache\\virtualenvs\\ppuodz-ml-4-1-dqELbViF-py3.12\\Lib\\site-packages\\lightgbm\\callback.py:325: UserWarning: Early stopping is not available in dart mode\n",
      "  _log_warning('Early stopping is not available in dart mode')\n"
     ]
    },
    {
     "name": "stdout",
     "output_type": "stream",
     "text": [
      "Fold: Tuning: n_train=263581, eval_set=43930\n"
     ]
    },
    {
     "name": "stderr",
     "output_type": "stream",
     "text": [
      "C:\\Users\\Paulius\\AppData\\Local\\pypoetry\\Cache\\virtualenvs\\ppuodz-ml-4-1-dqELbViF-py3.12\\Lib\\site-packages\\lightgbm\\callback.py:325: UserWarning: Early stopping is not available in dart mode\n",
      "  _log_warning('Early stopping is not available in dart mode')\n"
     ]
    },
    {
     "name": "stdout",
     "output_type": "stream",
     "text": [
      "Fold: Tuning: n_train=263581, eval_set=43930\n"
     ]
    },
    {
     "name": "stderr",
     "output_type": "stream",
     "text": [
      "C:\\Users\\Paulius\\AppData\\Local\\pypoetry\\Cache\\virtualenvs\\ppuodz-ml-4-1-dqELbViF-py3.12\\Lib\\site-packages\\lightgbm\\callback.py:325: UserWarning: Early stopping is not available in dart mode\n",
      "  _log_warning('Early stopping is not available in dart mode')\n"
     ]
    },
    {
     "name": "stdout",
     "output_type": "stream",
     "text": [
      "Fold: Tuning: n_train=263581, eval_set=43930\n",
      "Tune: val_score:0.7754, std_test_score:0.00381 train_set_score:0.8328\n",
      "folds val/train: [0.7758, 0.7715, 0.7718, 0.7789, 0.7823, 0.7755, 0.7717] / [0.8316, 0.8344, 0.8333, 0.8316, 0.8314, 0.8337, 0.8333], mean fold time: 23.54\n"
     ]
    },
    {
     "name": "stderr",
     "output_type": "stream",
     "text": [
      "[I 2024-04-20 18:42:10,417] Trial 47 finished with value: 0.7753595699386372 and parameters: {'model__n_estimators': 750, 'model__learning_rate': 0.14, 'model__max_depth': 6, 'model__num_leaves': 176, 'model__min_gain_to_split': 2.5, 'model__min_data_in_leaf': 2300, 'model__lambda_l1': 75, 'model__lambda_l2': 30, 'model__bagging_fraction': 0.4, 'model__feature_fraction': 0.9000000000000001, 'model__max_bin': 400}. Best is trial 19 with value: 0.776348422018213.\n",
      "C:\\Users\\Paulius\\AppData\\Local\\pypoetry\\Cache\\virtualenvs\\ppuodz-ml-4-1-dqELbViF-py3.12\\Lib\\site-packages\\lightgbm\\callback.py:325: UserWarning: Early stopping is not available in dart mode\n",
      "  _log_warning('Early stopping is not available in dart mode')\n"
     ]
    },
    {
     "name": "stdout",
     "output_type": "stream",
     "text": [
      "Fold: Tuning: n_train=263580, eval_set=43931\n"
     ]
    },
    {
     "name": "stderr",
     "output_type": "stream",
     "text": [
      "C:\\Users\\Paulius\\AppData\\Local\\pypoetry\\Cache\\virtualenvs\\ppuodz-ml-4-1-dqELbViF-py3.12\\Lib\\site-packages\\lightgbm\\callback.py:325: UserWarning: Early stopping is not available in dart mode\n",
      "  _log_warning('Early stopping is not available in dart mode')\n"
     ]
    },
    {
     "name": "stdout",
     "output_type": "stream",
     "text": [
      "Fold: Tuning: n_train=263581, eval_set=43930\n"
     ]
    },
    {
     "name": "stderr",
     "output_type": "stream",
     "text": [
      "C:\\Users\\Paulius\\AppData\\Local\\pypoetry\\Cache\\virtualenvs\\ppuodz-ml-4-1-dqELbViF-py3.12\\Lib\\site-packages\\lightgbm\\callback.py:325: UserWarning: Early stopping is not available in dart mode\n",
      "  _log_warning('Early stopping is not available in dart mode')\n"
     ]
    },
    {
     "name": "stdout",
     "output_type": "stream",
     "text": [
      "Fold: Tuning: n_train=263581, eval_set=43930\n"
     ]
    },
    {
     "name": "stderr",
     "output_type": "stream",
     "text": [
      "C:\\Users\\Paulius\\AppData\\Local\\pypoetry\\Cache\\virtualenvs\\ppuodz-ml-4-1-dqELbViF-py3.12\\Lib\\site-packages\\lightgbm\\callback.py:325: UserWarning: Early stopping is not available in dart mode\n",
      "  _log_warning('Early stopping is not available in dart mode')\n"
     ]
    },
    {
     "name": "stdout",
     "output_type": "stream",
     "text": [
      "Fold: Tuning: n_train=263581, eval_set=43930\n"
     ]
    },
    {
     "name": "stderr",
     "output_type": "stream",
     "text": [
      "C:\\Users\\Paulius\\AppData\\Local\\pypoetry\\Cache\\virtualenvs\\ppuodz-ml-4-1-dqELbViF-py3.12\\Lib\\site-packages\\lightgbm\\callback.py:325: UserWarning: Early stopping is not available in dart mode\n",
      "  _log_warning('Early stopping is not available in dart mode')\n"
     ]
    },
    {
     "name": "stdout",
     "output_type": "stream",
     "text": [
      "Fold: Tuning: n_train=263581, eval_set=43930\n"
     ]
    },
    {
     "name": "stderr",
     "output_type": "stream",
     "text": [
      "C:\\Users\\Paulius\\AppData\\Local\\pypoetry\\Cache\\virtualenvs\\ppuodz-ml-4-1-dqELbViF-py3.12\\Lib\\site-packages\\lightgbm\\callback.py:325: UserWarning: Early stopping is not available in dart mode\n",
      "  _log_warning('Early stopping is not available in dart mode')\n"
     ]
    },
    {
     "name": "stdout",
     "output_type": "stream",
     "text": [
      "Fold: Tuning: n_train=263581, eval_set=43930\n"
     ]
    },
    {
     "name": "stderr",
     "output_type": "stream",
     "text": [
      "C:\\Users\\Paulius\\AppData\\Local\\pypoetry\\Cache\\virtualenvs\\ppuodz-ml-4-1-dqELbViF-py3.12\\Lib\\site-packages\\lightgbm\\callback.py:325: UserWarning: Early stopping is not available in dart mode\n",
      "  _log_warning('Early stopping is not available in dart mode')\n"
     ]
    },
    {
     "name": "stdout",
     "output_type": "stream",
     "text": [
      "Fold: Tuning: n_train=263581, eval_set=43930\n",
      "Tune: val_score:0.7460, std_test_score:0.00383 train_set_score:0.7628\n",
      "folds val/train: [0.7462, 0.7438, 0.7441, 0.7504, 0.7529, 0.7419, 0.7428] / [0.7629, 0.7629, 0.7632, 0.7626, 0.7616, 0.7633, 0.7632], mean fold time: 1.71\n"
     ]
    },
    {
     "name": "stderr",
     "output_type": "stream",
     "text": [
      "[I 2024-04-20 18:42:23,156] Trial 48 finished with value: 0.7460042366792285 and parameters: {'model__n_estimators': 50, 'model__learning_rate': 0.060000000000000005, 'model__max_depth': 8, 'model__num_leaves': 152, 'model__min_gain_to_split': 6.0, 'model__min_data_in_leaf': 2500, 'model__lambda_l1': 85, 'model__lambda_l2': 15, 'model__bagging_fraction': 0.2, 'model__feature_fraction': 0.8, 'model__max_bin': 375}. Best is trial 19 with value: 0.776348422018213.\n",
      "C:\\Users\\Paulius\\AppData\\Local\\pypoetry\\Cache\\virtualenvs\\ppuodz-ml-4-1-dqELbViF-py3.12\\Lib\\site-packages\\lightgbm\\callback.py:325: UserWarning: Early stopping is not available in dart mode\n",
      "  _log_warning('Early stopping is not available in dart mode')\n"
     ]
    },
    {
     "name": "stdout",
     "output_type": "stream",
     "text": [
      "Fold: Tuning: n_train=263580, eval_set=43931\n"
     ]
    },
    {
     "name": "stderr",
     "output_type": "stream",
     "text": [
      "C:\\Users\\Paulius\\AppData\\Local\\pypoetry\\Cache\\virtualenvs\\ppuodz-ml-4-1-dqELbViF-py3.12\\Lib\\site-packages\\lightgbm\\callback.py:325: UserWarning: Early stopping is not available in dart mode\n",
      "  _log_warning('Early stopping is not available in dart mode')\n"
     ]
    },
    {
     "name": "stdout",
     "output_type": "stream",
     "text": [
      "Fold: Tuning: n_train=263581, eval_set=43930\n"
     ]
    },
    {
     "name": "stderr",
     "output_type": "stream",
     "text": [
      "C:\\Users\\Paulius\\AppData\\Local\\pypoetry\\Cache\\virtualenvs\\ppuodz-ml-4-1-dqELbViF-py3.12\\Lib\\site-packages\\lightgbm\\callback.py:325: UserWarning: Early stopping is not available in dart mode\n",
      "  _log_warning('Early stopping is not available in dart mode')\n"
     ]
    },
    {
     "name": "stdout",
     "output_type": "stream",
     "text": [
      "Fold: Tuning: n_train=263581, eval_set=43930\n"
     ]
    },
    {
     "name": "stderr",
     "output_type": "stream",
     "text": [
      "C:\\Users\\Paulius\\AppData\\Local\\pypoetry\\Cache\\virtualenvs\\ppuodz-ml-4-1-dqELbViF-py3.12\\Lib\\site-packages\\lightgbm\\callback.py:325: UserWarning: Early stopping is not available in dart mode\n",
      "  _log_warning('Early stopping is not available in dart mode')\n"
     ]
    },
    {
     "name": "stdout",
     "output_type": "stream",
     "text": [
      "Fold: Tuning: n_train=263581, eval_set=43930\n"
     ]
    },
    {
     "name": "stderr",
     "output_type": "stream",
     "text": [
      "C:\\Users\\Paulius\\AppData\\Local\\pypoetry\\Cache\\virtualenvs\\ppuodz-ml-4-1-dqELbViF-py3.12\\Lib\\site-packages\\lightgbm\\callback.py:325: UserWarning: Early stopping is not available in dart mode\n",
      "  _log_warning('Early stopping is not available in dart mode')\n"
     ]
    },
    {
     "name": "stdout",
     "output_type": "stream",
     "text": [
      "Fold: Tuning: n_train=263581, eval_set=43930\n"
     ]
    },
    {
     "name": "stderr",
     "output_type": "stream",
     "text": [
      "C:\\Users\\Paulius\\AppData\\Local\\pypoetry\\Cache\\virtualenvs\\ppuodz-ml-4-1-dqELbViF-py3.12\\Lib\\site-packages\\lightgbm\\callback.py:325: UserWarning: Early stopping is not available in dart mode\n",
      "  _log_warning('Early stopping is not available in dart mode')\n"
     ]
    },
    {
     "name": "stdout",
     "output_type": "stream",
     "text": [
      "Fold: Tuning: n_train=263581, eval_set=43930\n"
     ]
    },
    {
     "name": "stderr",
     "output_type": "stream",
     "text": [
      "C:\\Users\\Paulius\\AppData\\Local\\pypoetry\\Cache\\virtualenvs\\ppuodz-ml-4-1-dqELbViF-py3.12\\Lib\\site-packages\\lightgbm\\callback.py:325: UserWarning: Early stopping is not available in dart mode\n",
      "  _log_warning('Early stopping is not available in dart mode')\n"
     ]
    },
    {
     "name": "stdout",
     "output_type": "stream",
     "text": [
      "Fold: Tuning: n_train=263581, eval_set=43930\n",
      "Tune: val_score:0.7718, std_test_score:0.00419 train_set_score:0.8847\n",
      "folds val/train: [0.7713, 0.767, 0.7676, 0.7751, 0.7798, 0.7727, 0.7691] / [0.8841, 0.8854, 0.8852, 0.8855, 0.8835, 0.8859, 0.8836], mean fold time: 32.25\n"
     ]
    },
    {
     "name": "stderr",
     "output_type": "stream",
     "text": [
      "[I 2024-04-20 18:46:09,714] Trial 49 finished with value: 0.771804782570715 and parameters: {'model__n_estimators': 900, 'model__learning_rate': 0.22, 'model__max_depth': 7, 'model__num_leaves': 136, 'model__min_gain_to_split': 0.0, 'model__min_data_in_leaf': 2000, 'model__lambda_l1': 95, 'model__lambda_l2': 45, 'model__bagging_fraction': 0.4, 'model__feature_fraction': 0.9000000000000001, 'model__max_bin': 50}. Best is trial 19 with value: 0.776348422018213.\n",
      "C:\\Users\\Paulius\\AppData\\Local\\pypoetry\\Cache\\virtualenvs\\ppuodz-ml-4-1-dqELbViF-py3.12\\Lib\\site-packages\\lightgbm\\callback.py:325: UserWarning: Early stopping is not available in dart mode\n",
      "  _log_warning('Early stopping is not available in dart mode')\n"
     ]
    },
    {
     "name": "stdout",
     "output_type": "stream",
     "text": [
      "Fold: Tuning: n_train=263580, eval_set=43931\n"
     ]
    },
    {
     "name": "stderr",
     "output_type": "stream",
     "text": [
      "C:\\Users\\Paulius\\AppData\\Local\\pypoetry\\Cache\\virtualenvs\\ppuodz-ml-4-1-dqELbViF-py3.12\\Lib\\site-packages\\lightgbm\\callback.py:325: UserWarning: Early stopping is not available in dart mode\n",
      "  _log_warning('Early stopping is not available in dart mode')\n"
     ]
    },
    {
     "name": "stdout",
     "output_type": "stream",
     "text": [
      "Fold: Tuning: n_train=263581, eval_set=43930\n"
     ]
    },
    {
     "name": "stderr",
     "output_type": "stream",
     "text": [
      "C:\\Users\\Paulius\\AppData\\Local\\pypoetry\\Cache\\virtualenvs\\ppuodz-ml-4-1-dqELbViF-py3.12\\Lib\\site-packages\\lightgbm\\callback.py:325: UserWarning: Early stopping is not available in dart mode\n",
      "  _log_warning('Early stopping is not available in dart mode')\n"
     ]
    },
    {
     "name": "stdout",
     "output_type": "stream",
     "text": [
      "Fold: Tuning: n_train=263581, eval_set=43930\n"
     ]
    },
    {
     "name": "stderr",
     "output_type": "stream",
     "text": [
      "C:\\Users\\Paulius\\AppData\\Local\\pypoetry\\Cache\\virtualenvs\\ppuodz-ml-4-1-dqELbViF-py3.12\\Lib\\site-packages\\lightgbm\\callback.py:325: UserWarning: Early stopping is not available in dart mode\n",
      "  _log_warning('Early stopping is not available in dart mode')\n"
     ]
    },
    {
     "name": "stdout",
     "output_type": "stream",
     "text": [
      "Fold: Tuning: n_train=263581, eval_set=43930\n"
     ]
    },
    {
     "name": "stderr",
     "output_type": "stream",
     "text": [
      "C:\\Users\\Paulius\\AppData\\Local\\pypoetry\\Cache\\virtualenvs\\ppuodz-ml-4-1-dqELbViF-py3.12\\Lib\\site-packages\\lightgbm\\callback.py:325: UserWarning: Early stopping is not available in dart mode\n",
      "  _log_warning('Early stopping is not available in dart mode')\n"
     ]
    },
    {
     "name": "stdout",
     "output_type": "stream",
     "text": [
      "Fold: Tuning: n_train=263581, eval_set=43930\n"
     ]
    },
    {
     "name": "stderr",
     "output_type": "stream",
     "text": [
      "C:\\Users\\Paulius\\AppData\\Local\\pypoetry\\Cache\\virtualenvs\\ppuodz-ml-4-1-dqELbViF-py3.12\\Lib\\site-packages\\lightgbm\\callback.py:325: UserWarning: Early stopping is not available in dart mode\n",
      "  _log_warning('Early stopping is not available in dart mode')\n"
     ]
    },
    {
     "name": "stdout",
     "output_type": "stream",
     "text": [
      "Fold: Tuning: n_train=263581, eval_set=43930\n"
     ]
    },
    {
     "name": "stderr",
     "output_type": "stream",
     "text": [
      "C:\\Users\\Paulius\\AppData\\Local\\pypoetry\\Cache\\virtualenvs\\ppuodz-ml-4-1-dqELbViF-py3.12\\Lib\\site-packages\\lightgbm\\callback.py:325: UserWarning: Early stopping is not available in dart mode\n",
      "  _log_warning('Early stopping is not available in dart mode')\n"
     ]
    },
    {
     "name": "stdout",
     "output_type": "stream",
     "text": [
      "Fold: Tuning: n_train=263581, eval_set=43930\n",
      "Tune: val_score:0.7750, std_test_score:0.00335 train_set_score:0.8029\n",
      "folds val/train: [0.7741, 0.7722, 0.7727, 0.7777, 0.7817, 0.7754, 0.7715] / [0.8023, 0.8031, 0.8033, 0.8027, 0.8024, 0.8021, 0.8045], mean fold time: 13.59\n"
     ]
    },
    {
     "name": "stderr",
     "output_type": "stream",
     "text": [
      "[I 2024-04-20 18:47:45,628] Trial 50 finished with value: 0.7750427109682521 and parameters: {'model__n_estimators': 700, 'model__learning_rate': 0.26, 'model__max_depth': 4, 'model__num_leaves': 112, 'model__min_gain_to_split': 3.5, 'model__min_data_in_leaf': 2900, 'model__lambda_l1': 65, 'model__lambda_l2': 10, 'model__bagging_fraction': 0.30000000000000004, 'model__feature_fraction': 0.2, 'model__max_bin': 125}. Best is trial 19 with value: 0.776348422018213.\n",
      "C:\\Users\\Paulius\\AppData\\Local\\pypoetry\\Cache\\virtualenvs\\ppuodz-ml-4-1-dqELbViF-py3.12\\Lib\\site-packages\\lightgbm\\callback.py:325: UserWarning: Early stopping is not available in dart mode\n",
      "  _log_warning('Early stopping is not available in dart mode')\n"
     ]
    },
    {
     "name": "stdout",
     "output_type": "stream",
     "text": [
      "Fold: Tuning: n_train=263580, eval_set=43931\n"
     ]
    },
    {
     "name": "stderr",
     "output_type": "stream",
     "text": [
      "C:\\Users\\Paulius\\AppData\\Local\\pypoetry\\Cache\\virtualenvs\\ppuodz-ml-4-1-dqELbViF-py3.12\\Lib\\site-packages\\lightgbm\\callback.py:325: UserWarning: Early stopping is not available in dart mode\n",
      "  _log_warning('Early stopping is not available in dart mode')\n"
     ]
    },
    {
     "name": "stdout",
     "output_type": "stream",
     "text": [
      "Fold: Tuning: n_train=263581, eval_set=43930\n"
     ]
    },
    {
     "name": "stderr",
     "output_type": "stream",
     "text": [
      "C:\\Users\\Paulius\\AppData\\Local\\pypoetry\\Cache\\virtualenvs\\ppuodz-ml-4-1-dqELbViF-py3.12\\Lib\\site-packages\\lightgbm\\callback.py:325: UserWarning: Early stopping is not available in dart mode\n",
      "  _log_warning('Early stopping is not available in dart mode')\n"
     ]
    },
    {
     "name": "stdout",
     "output_type": "stream",
     "text": [
      "Fold: Tuning: n_train=263581, eval_set=43930\n"
     ]
    },
    {
     "name": "stderr",
     "output_type": "stream",
     "text": [
      "C:\\Users\\Paulius\\AppData\\Local\\pypoetry\\Cache\\virtualenvs\\ppuodz-ml-4-1-dqELbViF-py3.12\\Lib\\site-packages\\lightgbm\\callback.py:325: UserWarning: Early stopping is not available in dart mode\n",
      "  _log_warning('Early stopping is not available in dart mode')\n"
     ]
    },
    {
     "name": "stdout",
     "output_type": "stream",
     "text": [
      "Fold: Tuning: n_train=263581, eval_set=43930\n"
     ]
    },
    {
     "name": "stderr",
     "output_type": "stream",
     "text": [
      "C:\\Users\\Paulius\\AppData\\Local\\pypoetry\\Cache\\virtualenvs\\ppuodz-ml-4-1-dqELbViF-py3.12\\Lib\\site-packages\\lightgbm\\callback.py:325: UserWarning: Early stopping is not available in dart mode\n",
      "  _log_warning('Early stopping is not available in dart mode')\n"
     ]
    },
    {
     "name": "stdout",
     "output_type": "stream",
     "text": [
      "Fold: Tuning: n_train=263581, eval_set=43930\n"
     ]
    },
    {
     "name": "stderr",
     "output_type": "stream",
     "text": [
      "C:\\Users\\Paulius\\AppData\\Local\\pypoetry\\Cache\\virtualenvs\\ppuodz-ml-4-1-dqELbViF-py3.12\\Lib\\site-packages\\lightgbm\\callback.py:325: UserWarning: Early stopping is not available in dart mode\n",
      "  _log_warning('Early stopping is not available in dart mode')\n"
     ]
    },
    {
     "name": "stdout",
     "output_type": "stream",
     "text": [
      "Fold: Tuning: n_train=263581, eval_set=43930\n"
     ]
    },
    {
     "name": "stderr",
     "output_type": "stream",
     "text": [
      "C:\\Users\\Paulius\\AppData\\Local\\pypoetry\\Cache\\virtualenvs\\ppuodz-ml-4-1-dqELbViF-py3.12\\Lib\\site-packages\\lightgbm\\callback.py:325: UserWarning: Early stopping is not available in dart mode\n",
      "  _log_warning('Early stopping is not available in dart mode')\n"
     ]
    },
    {
     "name": "stdout",
     "output_type": "stream",
     "text": [
      "Fold: Tuning: n_train=263581, eval_set=43930\n",
      "Tune: val_score:0.7763, std_test_score:0.00411 train_set_score:0.8362\n",
      "folds val/train: [0.7757, 0.7729, 0.7723, 0.7796, 0.7841, 0.7775, 0.7723] / [0.8364, 0.8356, 0.8377, 0.8357, 0.8352, 0.8368, 0.8361], mean fold time: 25.92\n"
     ]
    },
    {
     "name": "stderr",
     "output_type": "stream",
     "text": [
      "[I 2024-04-20 18:50:47,828] Trial 51 finished with value: 0.7763439343144436 and parameters: {'model__n_estimators': 850, 'model__learning_rate': 0.18000000000000002, 'model__max_depth': 6, 'model__num_leaves': 136, 'model__min_gain_to_split': 2.5, 'model__min_data_in_leaf': 2600, 'model__lambda_l1': 70, 'model__lambda_l2': 25, 'model__bagging_fraction': 0.30000000000000004, 'model__feature_fraction': 0.7, 'model__max_bin': 450}. Best is trial 19 with value: 0.776348422018213.\n",
      "C:\\Users\\Paulius\\AppData\\Local\\pypoetry\\Cache\\virtualenvs\\ppuodz-ml-4-1-dqELbViF-py3.12\\Lib\\site-packages\\lightgbm\\callback.py:325: UserWarning: Early stopping is not available in dart mode\n",
      "  _log_warning('Early stopping is not available in dart mode')\n"
     ]
    },
    {
     "name": "stdout",
     "output_type": "stream",
     "text": [
      "Fold: Tuning: n_train=263580, eval_set=43931\n"
     ]
    },
    {
     "name": "stderr",
     "output_type": "stream",
     "text": [
      "C:\\Users\\Paulius\\AppData\\Local\\pypoetry\\Cache\\virtualenvs\\ppuodz-ml-4-1-dqELbViF-py3.12\\Lib\\site-packages\\lightgbm\\callback.py:325: UserWarning: Early stopping is not available in dart mode\n",
      "  _log_warning('Early stopping is not available in dart mode')\n"
     ]
    },
    {
     "name": "stdout",
     "output_type": "stream",
     "text": [
      "Fold: Tuning: n_train=263581, eval_set=43930\n"
     ]
    },
    {
     "name": "stderr",
     "output_type": "stream",
     "text": [
      "C:\\Users\\Paulius\\AppData\\Local\\pypoetry\\Cache\\virtualenvs\\ppuodz-ml-4-1-dqELbViF-py3.12\\Lib\\site-packages\\lightgbm\\callback.py:325: UserWarning: Early stopping is not available in dart mode\n",
      "  _log_warning('Early stopping is not available in dart mode')\n"
     ]
    },
    {
     "name": "stdout",
     "output_type": "stream",
     "text": [
      "Fold: Tuning: n_train=263581, eval_set=43930\n"
     ]
    },
    {
     "name": "stderr",
     "output_type": "stream",
     "text": [
      "C:\\Users\\Paulius\\AppData\\Local\\pypoetry\\Cache\\virtualenvs\\ppuodz-ml-4-1-dqELbViF-py3.12\\Lib\\site-packages\\lightgbm\\callback.py:325: UserWarning: Early stopping is not available in dart mode\n",
      "  _log_warning('Early stopping is not available in dart mode')\n"
     ]
    },
    {
     "name": "stdout",
     "output_type": "stream",
     "text": [
      "Fold: Tuning: n_train=263581, eval_set=43930\n"
     ]
    },
    {
     "name": "stderr",
     "output_type": "stream",
     "text": [
      "C:\\Users\\Paulius\\AppData\\Local\\pypoetry\\Cache\\virtualenvs\\ppuodz-ml-4-1-dqELbViF-py3.12\\Lib\\site-packages\\lightgbm\\callback.py:325: UserWarning: Early stopping is not available in dart mode\n",
      "  _log_warning('Early stopping is not available in dart mode')\n"
     ]
    },
    {
     "name": "stdout",
     "output_type": "stream",
     "text": [
      "Fold: Tuning: n_train=263581, eval_set=43930\n"
     ]
    },
    {
     "name": "stderr",
     "output_type": "stream",
     "text": [
      "C:\\Users\\Paulius\\AppData\\Local\\pypoetry\\Cache\\virtualenvs\\ppuodz-ml-4-1-dqELbViF-py3.12\\Lib\\site-packages\\lightgbm\\callback.py:325: UserWarning: Early stopping is not available in dart mode\n",
      "  _log_warning('Early stopping is not available in dart mode')\n"
     ]
    },
    {
     "name": "stdout",
     "output_type": "stream",
     "text": [
      "Fold: Tuning: n_train=263581, eval_set=43930\n"
     ]
    },
    {
     "name": "stderr",
     "output_type": "stream",
     "text": [
      "C:\\Users\\Paulius\\AppData\\Local\\pypoetry\\Cache\\virtualenvs\\ppuodz-ml-4-1-dqELbViF-py3.12\\Lib\\site-packages\\lightgbm\\callback.py:325: UserWarning: Early stopping is not available in dart mode\n",
      "  _log_warning('Early stopping is not available in dart mode')\n"
     ]
    },
    {
     "name": "stdout",
     "output_type": "stream",
     "text": [
      "Fold: Tuning: n_train=263581, eval_set=43930\n",
      "Tune: val_score:0.7752, std_test_score:0.00392 train_set_score:0.8261\n",
      "folds val/train: [0.7751, 0.771, 0.7717, 0.7788, 0.7825, 0.7757, 0.7718] / [0.8254, 0.8263, 0.8275, 0.8256, 0.8242, 0.8266, 0.827], mean fold time: 20.96\n"
     ]
    },
    {
     "name": "stderr",
     "output_type": "stream",
     "text": [
      "[I 2024-04-20 18:53:15,369] Trial 52 finished with value: 0.7752305682127699 and parameters: {'model__n_estimators': 800, 'model__learning_rate': 0.17, 'model__max_depth': 5, 'model__num_leaves': 136, 'model__min_gain_to_split': 2.0, 'model__min_data_in_leaf': 2700, 'model__lambda_l1': 65, 'model__lambda_l2': 110, 'model__bagging_fraction': 0.30000000000000004, 'model__feature_fraction': 0.7, 'model__max_bin': 425}. Best is trial 19 with value: 0.776348422018213.\n",
      "C:\\Users\\Paulius\\AppData\\Local\\pypoetry\\Cache\\virtualenvs\\ppuodz-ml-4-1-dqELbViF-py3.12\\Lib\\site-packages\\lightgbm\\callback.py:325: UserWarning: Early stopping is not available in dart mode\n",
      "  _log_warning('Early stopping is not available in dart mode')\n"
     ]
    },
    {
     "name": "stdout",
     "output_type": "stream",
     "text": [
      "Fold: Tuning: n_train=263580, eval_set=43931\n"
     ]
    },
    {
     "name": "stderr",
     "output_type": "stream",
     "text": [
      "C:\\Users\\Paulius\\AppData\\Local\\pypoetry\\Cache\\virtualenvs\\ppuodz-ml-4-1-dqELbViF-py3.12\\Lib\\site-packages\\lightgbm\\callback.py:325: UserWarning: Early stopping is not available in dart mode\n",
      "  _log_warning('Early stopping is not available in dart mode')\n"
     ]
    },
    {
     "name": "stdout",
     "output_type": "stream",
     "text": [
      "Fold: Tuning: n_train=263581, eval_set=43930\n"
     ]
    },
    {
     "name": "stderr",
     "output_type": "stream",
     "text": [
      "C:\\Users\\Paulius\\AppData\\Local\\pypoetry\\Cache\\virtualenvs\\ppuodz-ml-4-1-dqELbViF-py3.12\\Lib\\site-packages\\lightgbm\\callback.py:325: UserWarning: Early stopping is not available in dart mode\n",
      "  _log_warning('Early stopping is not available in dart mode')\n"
     ]
    },
    {
     "name": "stdout",
     "output_type": "stream",
     "text": [
      "Fold: Tuning: n_train=263581, eval_set=43930\n"
     ]
    },
    {
     "name": "stderr",
     "output_type": "stream",
     "text": [
      "C:\\Users\\Paulius\\AppData\\Local\\pypoetry\\Cache\\virtualenvs\\ppuodz-ml-4-1-dqELbViF-py3.12\\Lib\\site-packages\\lightgbm\\callback.py:325: UserWarning: Early stopping is not available in dart mode\n",
      "  _log_warning('Early stopping is not available in dart mode')\n"
     ]
    },
    {
     "name": "stdout",
     "output_type": "stream",
     "text": [
      "Fold: Tuning: n_train=263581, eval_set=43930\n"
     ]
    },
    {
     "name": "stderr",
     "output_type": "stream",
     "text": [
      "C:\\Users\\Paulius\\AppData\\Local\\pypoetry\\Cache\\virtualenvs\\ppuodz-ml-4-1-dqELbViF-py3.12\\Lib\\site-packages\\lightgbm\\callback.py:325: UserWarning: Early stopping is not available in dart mode\n",
      "  _log_warning('Early stopping is not available in dart mode')\n"
     ]
    },
    {
     "name": "stdout",
     "output_type": "stream",
     "text": [
      "Fold: Tuning: n_train=263581, eval_set=43930\n"
     ]
    },
    {
     "name": "stderr",
     "output_type": "stream",
     "text": [
      "C:\\Users\\Paulius\\AppData\\Local\\pypoetry\\Cache\\virtualenvs\\ppuodz-ml-4-1-dqELbViF-py3.12\\Lib\\site-packages\\lightgbm\\callback.py:325: UserWarning: Early stopping is not available in dart mode\n",
      "  _log_warning('Early stopping is not available in dart mode')\n"
     ]
    },
    {
     "name": "stdout",
     "output_type": "stream",
     "text": [
      "Fold: Tuning: n_train=263581, eval_set=43930\n"
     ]
    },
    {
     "name": "stderr",
     "output_type": "stream",
     "text": [
      "C:\\Users\\Paulius\\AppData\\Local\\pypoetry\\Cache\\virtualenvs\\ppuodz-ml-4-1-dqELbViF-py3.12\\Lib\\site-packages\\lightgbm\\callback.py:325: UserWarning: Early stopping is not available in dart mode\n",
      "  _log_warning('Early stopping is not available in dart mode')\n"
     ]
    },
    {
     "name": "stdout",
     "output_type": "stream",
     "text": [
      "Fold: Tuning: n_train=263581, eval_set=43930\n",
      "Tune: val_score:0.7766, std_test_score:0.00388 train_set_score:0.8355\n",
      "folds val/train: [0.7757, 0.7734, 0.7728, 0.7796, 0.7841, 0.7775, 0.7729] / [0.8355, 0.8351, 0.8369, 0.8348, 0.8349, 0.8364, 0.8351], mean fold time: 29.80\n"
     ]
    },
    {
     "name": "stderr",
     "output_type": "stream",
     "text": [
      "[I 2024-04-20 18:56:44,736] Trial 53 finished with value: 0.7765713912708517 and parameters: {'model__n_estimators': 950, 'model__learning_rate': 0.19, 'model__max_depth': 6, 'model__num_leaves': 152, 'model__min_gain_to_split': 2.5, 'model__min_data_in_leaf': 2600, 'model__lambda_l1': 75, 'model__lambda_l2': 25, 'model__bagging_fraction': 0.2, 'model__feature_fraction': 0.8, 'model__max_bin': 500}. Best is trial 53 with value: 0.7765713912708517.\n",
      "C:\\Users\\Paulius\\AppData\\Local\\pypoetry\\Cache\\virtualenvs\\ppuodz-ml-4-1-dqELbViF-py3.12\\Lib\\site-packages\\lightgbm\\callback.py:325: UserWarning: Early stopping is not available in dart mode\n",
      "  _log_warning('Early stopping is not available in dart mode')\n"
     ]
    },
    {
     "name": "stdout",
     "output_type": "stream",
     "text": [
      "Fold: Tuning: n_train=263580, eval_set=43931\n"
     ]
    },
    {
     "name": "stderr",
     "output_type": "stream",
     "text": [
      "C:\\Users\\Paulius\\AppData\\Local\\pypoetry\\Cache\\virtualenvs\\ppuodz-ml-4-1-dqELbViF-py3.12\\Lib\\site-packages\\lightgbm\\callback.py:325: UserWarning: Early stopping is not available in dart mode\n",
      "  _log_warning('Early stopping is not available in dart mode')\n"
     ]
    },
    {
     "name": "stdout",
     "output_type": "stream",
     "text": [
      "Fold: Tuning: n_train=263581, eval_set=43930\n"
     ]
    },
    {
     "name": "stderr",
     "output_type": "stream",
     "text": [
      "C:\\Users\\Paulius\\AppData\\Local\\pypoetry\\Cache\\virtualenvs\\ppuodz-ml-4-1-dqELbViF-py3.12\\Lib\\site-packages\\lightgbm\\callback.py:325: UserWarning: Early stopping is not available in dart mode\n",
      "  _log_warning('Early stopping is not available in dart mode')\n"
     ]
    },
    {
     "name": "stdout",
     "output_type": "stream",
     "text": [
      "Fold: Tuning: n_train=263581, eval_set=43930\n"
     ]
    },
    {
     "name": "stderr",
     "output_type": "stream",
     "text": [
      "C:\\Users\\Paulius\\AppData\\Local\\pypoetry\\Cache\\virtualenvs\\ppuodz-ml-4-1-dqELbViF-py3.12\\Lib\\site-packages\\lightgbm\\callback.py:325: UserWarning: Early stopping is not available in dart mode\n",
      "  _log_warning('Early stopping is not available in dart mode')\n"
     ]
    },
    {
     "name": "stdout",
     "output_type": "stream",
     "text": [
      "Fold: Tuning: n_train=263581, eval_set=43930\n"
     ]
    },
    {
     "name": "stderr",
     "output_type": "stream",
     "text": [
      "C:\\Users\\Paulius\\AppData\\Local\\pypoetry\\Cache\\virtualenvs\\ppuodz-ml-4-1-dqELbViF-py3.12\\Lib\\site-packages\\lightgbm\\callback.py:325: UserWarning: Early stopping is not available in dart mode\n",
      "  _log_warning('Early stopping is not available in dart mode')\n"
     ]
    },
    {
     "name": "stdout",
     "output_type": "stream",
     "text": [
      "Fold: Tuning: n_train=263581, eval_set=43930\n"
     ]
    },
    {
     "name": "stderr",
     "output_type": "stream",
     "text": [
      "C:\\Users\\Paulius\\AppData\\Local\\pypoetry\\Cache\\virtualenvs\\ppuodz-ml-4-1-dqELbViF-py3.12\\Lib\\site-packages\\lightgbm\\callback.py:325: UserWarning: Early stopping is not available in dart mode\n",
      "  _log_warning('Early stopping is not available in dart mode')\n"
     ]
    },
    {
     "name": "stdout",
     "output_type": "stream",
     "text": [
      "Fold: Tuning: n_train=263581, eval_set=43930\n"
     ]
    },
    {
     "name": "stderr",
     "output_type": "stream",
     "text": [
      "C:\\Users\\Paulius\\AppData\\Local\\pypoetry\\Cache\\virtualenvs\\ppuodz-ml-4-1-dqELbViF-py3.12\\Lib\\site-packages\\lightgbm\\callback.py:325: UserWarning: Early stopping is not available in dart mode\n",
      "  _log_warning('Early stopping is not available in dart mode')\n"
     ]
    },
    {
     "name": "stdout",
     "output_type": "stream",
     "text": [
      "Fold: Tuning: n_train=263581, eval_set=43930\n",
      "Tune: val_score:0.7763, std_test_score:0.00371 train_set_score:0.8381\n",
      "folds val/train: [0.7768, 0.7723, 0.7726, 0.7789, 0.7832, 0.7774, 0.7729] / [0.8379, 0.8383, 0.8394, 0.8378, 0.836, 0.839, 0.8385], mean fold time: 29.58\n"
     ]
    },
    {
     "name": "stderr",
     "output_type": "stream",
     "text": [
      "[I 2024-04-20 19:00:12,615] Trial 54 finished with value: 0.7763194161478226 and parameters: {'model__n_estimators': 950, 'model__learning_rate': 0.19, 'model__max_depth': 6, 'model__num_leaves': 160, 'model__min_gain_to_split': 3.5, 'model__min_data_in_leaf': 2600, 'model__lambda_l1': 50, 'model__lambda_l2': 25, 'model__bagging_fraction': 0.2, 'model__feature_fraction': 0.7, 'model__max_bin': 500}. Best is trial 53 with value: 0.7765713912708517.\n",
      "C:\\Users\\Paulius\\AppData\\Local\\pypoetry\\Cache\\virtualenvs\\ppuodz-ml-4-1-dqELbViF-py3.12\\Lib\\site-packages\\lightgbm\\callback.py:325: UserWarning: Early stopping is not available in dart mode\n",
      "  _log_warning('Early stopping is not available in dart mode')\n"
     ]
    },
    {
     "name": "stdout",
     "output_type": "stream",
     "text": [
      "Fold: Tuning: n_train=263580, eval_set=43931\n"
     ]
    },
    {
     "name": "stderr",
     "output_type": "stream",
     "text": [
      "C:\\Users\\Paulius\\AppData\\Local\\pypoetry\\Cache\\virtualenvs\\ppuodz-ml-4-1-dqELbViF-py3.12\\Lib\\site-packages\\lightgbm\\callback.py:325: UserWarning: Early stopping is not available in dart mode\n",
      "  _log_warning('Early stopping is not available in dart mode')\n"
     ]
    },
    {
     "name": "stdout",
     "output_type": "stream",
     "text": [
      "Fold: Tuning: n_train=263581, eval_set=43930\n"
     ]
    },
    {
     "name": "stderr",
     "output_type": "stream",
     "text": [
      "C:\\Users\\Paulius\\AppData\\Local\\pypoetry\\Cache\\virtualenvs\\ppuodz-ml-4-1-dqELbViF-py3.12\\Lib\\site-packages\\lightgbm\\callback.py:325: UserWarning: Early stopping is not available in dart mode\n",
      "  _log_warning('Early stopping is not available in dart mode')\n"
     ]
    },
    {
     "name": "stdout",
     "output_type": "stream",
     "text": [
      "Fold: Tuning: n_train=263581, eval_set=43930\n"
     ]
    },
    {
     "name": "stderr",
     "output_type": "stream",
     "text": [
      "C:\\Users\\Paulius\\AppData\\Local\\pypoetry\\Cache\\virtualenvs\\ppuodz-ml-4-1-dqELbViF-py3.12\\Lib\\site-packages\\lightgbm\\callback.py:325: UserWarning: Early stopping is not available in dart mode\n",
      "  _log_warning('Early stopping is not available in dart mode')\n"
     ]
    },
    {
     "name": "stdout",
     "output_type": "stream",
     "text": [
      "Fold: Tuning: n_train=263581, eval_set=43930\n"
     ]
    },
    {
     "name": "stderr",
     "output_type": "stream",
     "text": [
      "C:\\Users\\Paulius\\AppData\\Local\\pypoetry\\Cache\\virtualenvs\\ppuodz-ml-4-1-dqELbViF-py3.12\\Lib\\site-packages\\lightgbm\\callback.py:325: UserWarning: Early stopping is not available in dart mode\n",
      "  _log_warning('Early stopping is not available in dart mode')\n"
     ]
    },
    {
     "name": "stdout",
     "output_type": "stream",
     "text": [
      "Fold: Tuning: n_train=263581, eval_set=43930\n"
     ]
    },
    {
     "name": "stderr",
     "output_type": "stream",
     "text": [
      "C:\\Users\\Paulius\\AppData\\Local\\pypoetry\\Cache\\virtualenvs\\ppuodz-ml-4-1-dqELbViF-py3.12\\Lib\\site-packages\\lightgbm\\callback.py:325: UserWarning: Early stopping is not available in dart mode\n",
      "  _log_warning('Early stopping is not available in dart mode')\n"
     ]
    },
    {
     "name": "stdout",
     "output_type": "stream",
     "text": [
      "Fold: Tuning: n_train=263581, eval_set=43930\n"
     ]
    },
    {
     "name": "stderr",
     "output_type": "stream",
     "text": [
      "C:\\Users\\Paulius\\AppData\\Local\\pypoetry\\Cache\\virtualenvs\\ppuodz-ml-4-1-dqELbViF-py3.12\\Lib\\site-packages\\lightgbm\\callback.py:325: UserWarning: Early stopping is not available in dart mode\n",
      "  _log_warning('Early stopping is not available in dart mode')\n"
     ]
    },
    {
     "name": "stdout",
     "output_type": "stream",
     "text": [
      "Fold: Tuning: n_train=263581, eval_set=43930\n",
      "Tune: val_score:0.7755, std_test_score:0.00375 train_set_score:0.8633\n",
      "folds val/train: [0.7748, 0.7732, 0.7703, 0.7791, 0.7821, 0.7766, 0.7726] / [0.864, 0.8634, 0.8632, 0.8632, 0.8615, 0.864, 0.8638], mean fold time: 30.50\n"
     ]
    },
    {
     "name": "stderr",
     "output_type": "stream",
     "text": [
      "[I 2024-04-20 19:03:46,948] Trial 55 finished with value: 0.7755349039898503 and parameters: {'model__n_estimators': 950, 'model__learning_rate': 0.19, 'model__max_depth': 6, 'model__num_leaves': 176, 'model__min_gain_to_split': 1.5, 'model__min_data_in_leaf': 2400, 'model__lambda_l1': 40, 'model__lambda_l2': 40, 'model__bagging_fraction': 0.2, 'model__feature_fraction': 0.6000000000000001, 'model__max_bin': 500}. Best is trial 53 with value: 0.7765713912708517.\n",
      "C:\\Users\\Paulius\\AppData\\Local\\pypoetry\\Cache\\virtualenvs\\ppuodz-ml-4-1-dqELbViF-py3.12\\Lib\\site-packages\\lightgbm\\callback.py:325: UserWarning: Early stopping is not available in dart mode\n",
      "  _log_warning('Early stopping is not available in dart mode')\n"
     ]
    },
    {
     "name": "stdout",
     "output_type": "stream",
     "text": [
      "Fold: Tuning: n_train=263580, eval_set=43931\n"
     ]
    },
    {
     "name": "stderr",
     "output_type": "stream",
     "text": [
      "C:\\Users\\Paulius\\AppData\\Local\\pypoetry\\Cache\\virtualenvs\\ppuodz-ml-4-1-dqELbViF-py3.12\\Lib\\site-packages\\lightgbm\\callback.py:325: UserWarning: Early stopping is not available in dart mode\n",
      "  _log_warning('Early stopping is not available in dart mode')\n"
     ]
    },
    {
     "name": "stdout",
     "output_type": "stream",
     "text": [
      "Fold: Tuning: n_train=263581, eval_set=43930\n"
     ]
    },
    {
     "name": "stderr",
     "output_type": "stream",
     "text": [
      "C:\\Users\\Paulius\\AppData\\Local\\pypoetry\\Cache\\virtualenvs\\ppuodz-ml-4-1-dqELbViF-py3.12\\Lib\\site-packages\\lightgbm\\callback.py:325: UserWarning: Early stopping is not available in dart mode\n",
      "  _log_warning('Early stopping is not available in dart mode')\n"
     ]
    },
    {
     "name": "stdout",
     "output_type": "stream",
     "text": [
      "Fold: Tuning: n_train=263581, eval_set=43930\n"
     ]
    },
    {
     "name": "stderr",
     "output_type": "stream",
     "text": [
      "C:\\Users\\Paulius\\AppData\\Local\\pypoetry\\Cache\\virtualenvs\\ppuodz-ml-4-1-dqELbViF-py3.12\\Lib\\site-packages\\lightgbm\\callback.py:325: UserWarning: Early stopping is not available in dart mode\n",
      "  _log_warning('Early stopping is not available in dart mode')\n"
     ]
    },
    {
     "name": "stdout",
     "output_type": "stream",
     "text": [
      "Fold: Tuning: n_train=263581, eval_set=43930\n"
     ]
    },
    {
     "name": "stderr",
     "output_type": "stream",
     "text": [
      "C:\\Users\\Paulius\\AppData\\Local\\pypoetry\\Cache\\virtualenvs\\ppuodz-ml-4-1-dqELbViF-py3.12\\Lib\\site-packages\\lightgbm\\callback.py:325: UserWarning: Early stopping is not available in dart mode\n",
      "  _log_warning('Early stopping is not available in dart mode')\n"
     ]
    },
    {
     "name": "stdout",
     "output_type": "stream",
     "text": [
      "Fold: Tuning: n_train=263581, eval_set=43930\n"
     ]
    },
    {
     "name": "stderr",
     "output_type": "stream",
     "text": [
      "C:\\Users\\Paulius\\AppData\\Local\\pypoetry\\Cache\\virtualenvs\\ppuodz-ml-4-1-dqELbViF-py3.12\\Lib\\site-packages\\lightgbm\\callback.py:325: UserWarning: Early stopping is not available in dart mode\n",
      "  _log_warning('Early stopping is not available in dart mode')\n"
     ]
    },
    {
     "name": "stdout",
     "output_type": "stream",
     "text": [
      "Fold: Tuning: n_train=263581, eval_set=43930\n"
     ]
    },
    {
     "name": "stderr",
     "output_type": "stream",
     "text": [
      "C:\\Users\\Paulius\\AppData\\Local\\pypoetry\\Cache\\virtualenvs\\ppuodz-ml-4-1-dqELbViF-py3.12\\Lib\\site-packages\\lightgbm\\callback.py:325: UserWarning: Early stopping is not available in dart mode\n",
      "  _log_warning('Early stopping is not available in dart mode')\n"
     ]
    },
    {
     "name": "stdout",
     "output_type": "stream",
     "text": [
      "Fold: Tuning: n_train=263581, eval_set=43930\n",
      "Tune: val_score:0.7763, std_test_score:0.00338 train_set_score:0.8367\n",
      "folds val/train: [0.7757, 0.7751, 0.7725, 0.7794, 0.7825, 0.7765, 0.7723] / [0.8358, 0.8368, 0.8379, 0.8357, 0.8358, 0.8374, 0.8372], mean fold time: 31.01\n"
     ]
    },
    {
     "name": "stderr",
     "output_type": "stream",
     "text": [
      "[I 2024-04-20 19:07:24,829] Trial 56 finished with value: 0.7762999472964041 and parameters: {'model__n_estimators': 1000, 'model__learning_rate': 0.2, 'model__max_depth': 6, 'model__num_leaves': 160, 'model__min_gain_to_split': 3.5, 'model__min_data_in_leaf': 3000, 'model__lambda_l1': 50, 'model__lambda_l2': 20, 'model__bagging_fraction': 0.2, 'model__feature_fraction': 0.7, 'model__max_bin': 500}. Best is trial 53 with value: 0.7765713912708517.\n",
      "C:\\Users\\Paulius\\AppData\\Local\\pypoetry\\Cache\\virtualenvs\\ppuodz-ml-4-1-dqELbViF-py3.12\\Lib\\site-packages\\lightgbm\\callback.py:325: UserWarning: Early stopping is not available in dart mode\n",
      "  _log_warning('Early stopping is not available in dart mode')\n"
     ]
    },
    {
     "name": "stdout",
     "output_type": "stream",
     "text": [
      "Fold: Tuning: n_train=263580, eval_set=43931\n"
     ]
    },
    {
     "name": "stderr",
     "output_type": "stream",
     "text": [
      "C:\\Users\\Paulius\\AppData\\Local\\pypoetry\\Cache\\virtualenvs\\ppuodz-ml-4-1-dqELbViF-py3.12\\Lib\\site-packages\\lightgbm\\callback.py:325: UserWarning: Early stopping is not available in dart mode\n",
      "  _log_warning('Early stopping is not available in dart mode')\n"
     ]
    },
    {
     "name": "stdout",
     "output_type": "stream",
     "text": [
      "Fold: Tuning: n_train=263581, eval_set=43930\n"
     ]
    },
    {
     "name": "stderr",
     "output_type": "stream",
     "text": [
      "C:\\Users\\Paulius\\AppData\\Local\\pypoetry\\Cache\\virtualenvs\\ppuodz-ml-4-1-dqELbViF-py3.12\\Lib\\site-packages\\lightgbm\\callback.py:325: UserWarning: Early stopping is not available in dart mode\n",
      "  _log_warning('Early stopping is not available in dart mode')\n"
     ]
    },
    {
     "name": "stdout",
     "output_type": "stream",
     "text": [
      "Fold: Tuning: n_train=263581, eval_set=43930\n"
     ]
    },
    {
     "name": "stderr",
     "output_type": "stream",
     "text": [
      "C:\\Users\\Paulius\\AppData\\Local\\pypoetry\\Cache\\virtualenvs\\ppuodz-ml-4-1-dqELbViF-py3.12\\Lib\\site-packages\\lightgbm\\callback.py:325: UserWarning: Early stopping is not available in dart mode\n",
      "  _log_warning('Early stopping is not available in dart mode')\n"
     ]
    },
    {
     "name": "stdout",
     "output_type": "stream",
     "text": [
      "Fold: Tuning: n_train=263581, eval_set=43930\n"
     ]
    },
    {
     "name": "stderr",
     "output_type": "stream",
     "text": [
      "C:\\Users\\Paulius\\AppData\\Local\\pypoetry\\Cache\\virtualenvs\\ppuodz-ml-4-1-dqELbViF-py3.12\\Lib\\site-packages\\lightgbm\\callback.py:325: UserWarning: Early stopping is not available in dart mode\n",
      "  _log_warning('Early stopping is not available in dart mode')\n"
     ]
    },
    {
     "name": "stdout",
     "output_type": "stream",
     "text": [
      "Fold: Tuning: n_train=263581, eval_set=43930\n"
     ]
    },
    {
     "name": "stderr",
     "output_type": "stream",
     "text": [
      "C:\\Users\\Paulius\\AppData\\Local\\pypoetry\\Cache\\virtualenvs\\ppuodz-ml-4-1-dqELbViF-py3.12\\Lib\\site-packages\\lightgbm\\callback.py:325: UserWarning: Early stopping is not available in dart mode\n",
      "  _log_warning('Early stopping is not available in dart mode')\n"
     ]
    },
    {
     "name": "stdout",
     "output_type": "stream",
     "text": [
      "Fold: Tuning: n_train=263581, eval_set=43930\n"
     ]
    },
    {
     "name": "stderr",
     "output_type": "stream",
     "text": [
      "C:\\Users\\Paulius\\AppData\\Local\\pypoetry\\Cache\\virtualenvs\\ppuodz-ml-4-1-dqELbViF-py3.12\\Lib\\site-packages\\lightgbm\\callback.py:325: UserWarning: Early stopping is not available in dart mode\n",
      "  _log_warning('Early stopping is not available in dart mode')\n"
     ]
    },
    {
     "name": "stdout",
     "output_type": "stream",
     "text": [
      "Fold: Tuning: n_train=263581, eval_set=43930\n",
      "Tune: val_score:0.7762, std_test_score:0.00359 train_set_score:0.8282\n",
      "folds val/train: [0.7751, 0.7735, 0.773, 0.7792, 0.7831, 0.777, 0.7725] / [0.8276, 0.8278, 0.8296, 0.8283, 0.8273, 0.8277, 0.8289], mean fold time: 30.52\n"
     ]
    },
    {
     "name": "stderr",
     "output_type": "stream",
     "text": [
      "[I 2024-04-20 19:10:59,274] Trial 57 finished with value: 0.7761923901017965 and parameters: {'model__n_estimators': 1000, 'model__learning_rate': 0.2, 'model__max_depth': 6, 'model__num_leaves': 192, 'model__min_gain_to_split': 4.5, 'model__min_data_in_leaf': 3000, 'model__lambda_l1': 50, 'model__lambda_l2': 95, 'model__bagging_fraction': 0.2, 'model__feature_fraction': 0.7, 'model__max_bin': 500}. Best is trial 53 with value: 0.7765713912708517.\n",
      "C:\\Users\\Paulius\\AppData\\Local\\pypoetry\\Cache\\virtualenvs\\ppuodz-ml-4-1-dqELbViF-py3.12\\Lib\\site-packages\\lightgbm\\callback.py:325: UserWarning: Early stopping is not available in dart mode\n",
      "  _log_warning('Early stopping is not available in dart mode')\n"
     ]
    },
    {
     "name": "stdout",
     "output_type": "stream",
     "text": [
      "Fold: Tuning: n_train=263580, eval_set=43931\n"
     ]
    },
    {
     "name": "stderr",
     "output_type": "stream",
     "text": [
      "C:\\Users\\Paulius\\AppData\\Local\\pypoetry\\Cache\\virtualenvs\\ppuodz-ml-4-1-dqELbViF-py3.12\\Lib\\site-packages\\lightgbm\\callback.py:325: UserWarning: Early stopping is not available in dart mode\n",
      "  _log_warning('Early stopping is not available in dart mode')\n"
     ]
    },
    {
     "name": "stdout",
     "output_type": "stream",
     "text": [
      "Fold: Tuning: n_train=263581, eval_set=43930\n"
     ]
    },
    {
     "name": "stderr",
     "output_type": "stream",
     "text": [
      "C:\\Users\\Paulius\\AppData\\Local\\pypoetry\\Cache\\virtualenvs\\ppuodz-ml-4-1-dqELbViF-py3.12\\Lib\\site-packages\\lightgbm\\callback.py:325: UserWarning: Early stopping is not available in dart mode\n",
      "  _log_warning('Early stopping is not available in dart mode')\n"
     ]
    },
    {
     "name": "stdout",
     "output_type": "stream",
     "text": [
      "Fold: Tuning: n_train=263581, eval_set=43930\n"
     ]
    },
    {
     "name": "stderr",
     "output_type": "stream",
     "text": [
      "C:\\Users\\Paulius\\AppData\\Local\\pypoetry\\Cache\\virtualenvs\\ppuodz-ml-4-1-dqELbViF-py3.12\\Lib\\site-packages\\lightgbm\\callback.py:325: UserWarning: Early stopping is not available in dart mode\n",
      "  _log_warning('Early stopping is not available in dart mode')\n"
     ]
    },
    {
     "name": "stdout",
     "output_type": "stream",
     "text": [
      "Fold: Tuning: n_train=263581, eval_set=43930\n"
     ]
    },
    {
     "name": "stderr",
     "output_type": "stream",
     "text": [
      "C:\\Users\\Paulius\\AppData\\Local\\pypoetry\\Cache\\virtualenvs\\ppuodz-ml-4-1-dqELbViF-py3.12\\Lib\\site-packages\\lightgbm\\callback.py:325: UserWarning: Early stopping is not available in dart mode\n",
      "  _log_warning('Early stopping is not available in dart mode')\n"
     ]
    },
    {
     "name": "stdout",
     "output_type": "stream",
     "text": [
      "Fold: Tuning: n_train=263581, eval_set=43930\n"
     ]
    },
    {
     "name": "stderr",
     "output_type": "stream",
     "text": [
      "C:\\Users\\Paulius\\AppData\\Local\\pypoetry\\Cache\\virtualenvs\\ppuodz-ml-4-1-dqELbViF-py3.12\\Lib\\site-packages\\lightgbm\\callback.py:325: UserWarning: Early stopping is not available in dart mode\n",
      "  _log_warning('Early stopping is not available in dart mode')\n"
     ]
    },
    {
     "name": "stdout",
     "output_type": "stream",
     "text": [
      "Fold: Tuning: n_train=263581, eval_set=43930\n"
     ]
    },
    {
     "name": "stderr",
     "output_type": "stream",
     "text": [
      "C:\\Users\\Paulius\\AppData\\Local\\pypoetry\\Cache\\virtualenvs\\ppuodz-ml-4-1-dqELbViF-py3.12\\Lib\\site-packages\\lightgbm\\callback.py:325: UserWarning: Early stopping is not available in dart mode\n",
      "  _log_warning('Early stopping is not available in dart mode')\n"
     ]
    },
    {
     "name": "stdout",
     "output_type": "stream",
     "text": [
      "Fold: Tuning: n_train=263581, eval_set=43930\n",
      "Tune: val_score:0.7733, std_test_score:0.00399 train_set_score:0.8970\n",
      "folds val/train: [0.7742, 0.7696, 0.7694, 0.7777, 0.7798, 0.7733, 0.7688] / [0.8967, 0.8973, 0.8975, 0.8966, 0.8959, 0.8982, 0.897], mean fold time: 32.73\n"
     ]
    },
    {
     "name": "stderr",
     "output_type": "stream",
     "text": [
      "[I 2024-04-20 19:14:49,166] Trial 58 finished with value: 0.773260342152345 and parameters: {'model__n_estimators': 950, 'model__learning_rate': 0.19, 'model__max_depth': 6, 'model__num_leaves': 168, 'model__min_gain_to_split': 1.0, 'model__min_data_in_leaf': 800, 'model__lambda_l1': 25, 'model__lambda_l2': 30, 'model__bagging_fraction': 0.2, 'model__feature_fraction': 0.6000000000000001, 'model__max_bin': 475}. Best is trial 53 with value: 0.7765713912708517.\n",
      "C:\\Users\\Paulius\\AppData\\Local\\pypoetry\\Cache\\virtualenvs\\ppuodz-ml-4-1-dqELbViF-py3.12\\Lib\\site-packages\\lightgbm\\callback.py:325: UserWarning: Early stopping is not available in dart mode\n",
      "  _log_warning('Early stopping is not available in dart mode')\n"
     ]
    },
    {
     "name": "stdout",
     "output_type": "stream",
     "text": [
      "Fold: Tuning: n_train=263580, eval_set=43931\n"
     ]
    },
    {
     "name": "stderr",
     "output_type": "stream",
     "text": [
      "C:\\Users\\Paulius\\AppData\\Local\\pypoetry\\Cache\\virtualenvs\\ppuodz-ml-4-1-dqELbViF-py3.12\\Lib\\site-packages\\lightgbm\\callback.py:325: UserWarning: Early stopping is not available in dart mode\n",
      "  _log_warning('Early stopping is not available in dart mode')\n"
     ]
    },
    {
     "name": "stdout",
     "output_type": "stream",
     "text": [
      "Fold: Tuning: n_train=263581, eval_set=43930\n"
     ]
    },
    {
     "name": "stderr",
     "output_type": "stream",
     "text": [
      "C:\\Users\\Paulius\\AppData\\Local\\pypoetry\\Cache\\virtualenvs\\ppuodz-ml-4-1-dqELbViF-py3.12\\Lib\\site-packages\\lightgbm\\callback.py:325: UserWarning: Early stopping is not available in dart mode\n",
      "  _log_warning('Early stopping is not available in dart mode')\n"
     ]
    },
    {
     "name": "stdout",
     "output_type": "stream",
     "text": [
      "Fold: Tuning: n_train=263581, eval_set=43930\n"
     ]
    },
    {
     "name": "stderr",
     "output_type": "stream",
     "text": [
      "C:\\Users\\Paulius\\AppData\\Local\\pypoetry\\Cache\\virtualenvs\\ppuodz-ml-4-1-dqELbViF-py3.12\\Lib\\site-packages\\lightgbm\\callback.py:325: UserWarning: Early stopping is not available in dart mode\n",
      "  _log_warning('Early stopping is not available in dart mode')\n"
     ]
    },
    {
     "name": "stdout",
     "output_type": "stream",
     "text": [
      "Fold: Tuning: n_train=263581, eval_set=43930\n"
     ]
    },
    {
     "name": "stderr",
     "output_type": "stream",
     "text": [
      "C:\\Users\\Paulius\\AppData\\Local\\pypoetry\\Cache\\virtualenvs\\ppuodz-ml-4-1-dqELbViF-py3.12\\Lib\\site-packages\\lightgbm\\callback.py:325: UserWarning: Early stopping is not available in dart mode\n",
      "  _log_warning('Early stopping is not available in dart mode')\n"
     ]
    },
    {
     "name": "stdout",
     "output_type": "stream",
     "text": [
      "Fold: Tuning: n_train=263581, eval_set=43930\n"
     ]
    },
    {
     "name": "stderr",
     "output_type": "stream",
     "text": [
      "C:\\Users\\Paulius\\AppData\\Local\\pypoetry\\Cache\\virtualenvs\\ppuodz-ml-4-1-dqELbViF-py3.12\\Lib\\site-packages\\lightgbm\\callback.py:325: UserWarning: Early stopping is not available in dart mode\n",
      "  _log_warning('Early stopping is not available in dart mode')\n"
     ]
    },
    {
     "name": "stdout",
     "output_type": "stream",
     "text": [
      "Fold: Tuning: n_train=263581, eval_set=43930\n"
     ]
    },
    {
     "name": "stderr",
     "output_type": "stream",
     "text": [
      "C:\\Users\\Paulius\\AppData\\Local\\pypoetry\\Cache\\virtualenvs\\ppuodz-ml-4-1-dqELbViF-py3.12\\Lib\\site-packages\\lightgbm\\callback.py:325: UserWarning: Early stopping is not available in dart mode\n",
      "  _log_warning('Early stopping is not available in dart mode')\n"
     ]
    },
    {
     "name": "stdout",
     "output_type": "stream",
     "text": [
      "Fold: Tuning: n_train=263581, eval_set=43930\n",
      "Tune: val_score:0.7562, std_test_score:0.00369 train_set_score:0.7781\n",
      "folds val/train: [0.7564, 0.7532, 0.7539, 0.7605, 0.7629, 0.7529, 0.7535] / [0.7784, 0.7784, 0.7787, 0.7779, 0.7767, 0.7785, 0.7784], mean fold time: 38.95\n"
     ]
    },
    {
     "name": "stderr",
     "output_type": "stream",
     "text": [
      "[I 2024-04-20 19:19:22,638] Trial 59 finished with value: 0.7561808307183077 and parameters: {'model__n_estimators': 1000, 'model__learning_rate': 0.01, 'model__max_depth': 7, 'model__num_leaves': 40, 'model__min_gain_to_split': 5.5, 'model__min_data_in_leaf': 2200, 'model__lambda_l1': 50, 'model__lambda_l2': 20, 'model__bagging_fraction': 0.2, 'model__feature_fraction': 0.7, 'model__max_bin': 500}. Best is trial 53 with value: 0.7765713912708517.\n",
      "C:\\Users\\Paulius\\AppData\\Local\\pypoetry\\Cache\\virtualenvs\\ppuodz-ml-4-1-dqELbViF-py3.12\\Lib\\site-packages\\lightgbm\\callback.py:325: UserWarning: Early stopping is not available in dart mode\n",
      "  _log_warning('Early stopping is not available in dart mode')\n"
     ]
    },
    {
     "name": "stdout",
     "output_type": "stream",
     "text": [
      "Fold: Tuning: n_train=263580, eval_set=43931\n"
     ]
    },
    {
     "name": "stderr",
     "output_type": "stream",
     "text": [
      "C:\\Users\\Paulius\\AppData\\Local\\pypoetry\\Cache\\virtualenvs\\ppuodz-ml-4-1-dqELbViF-py3.12\\Lib\\site-packages\\lightgbm\\callback.py:325: UserWarning: Early stopping is not available in dart mode\n",
      "  _log_warning('Early stopping is not available in dart mode')\n"
     ]
    },
    {
     "name": "stdout",
     "output_type": "stream",
     "text": [
      "Fold: Tuning: n_train=263581, eval_set=43930\n"
     ]
    },
    {
     "name": "stderr",
     "output_type": "stream",
     "text": [
      "C:\\Users\\Paulius\\AppData\\Local\\pypoetry\\Cache\\virtualenvs\\ppuodz-ml-4-1-dqELbViF-py3.12\\Lib\\site-packages\\lightgbm\\callback.py:325: UserWarning: Early stopping is not available in dart mode\n",
      "  _log_warning('Early stopping is not available in dart mode')\n"
     ]
    },
    {
     "name": "stdout",
     "output_type": "stream",
     "text": [
      "Fold: Tuning: n_train=263581, eval_set=43930\n"
     ]
    },
    {
     "name": "stderr",
     "output_type": "stream",
     "text": [
      "C:\\Users\\Paulius\\AppData\\Local\\pypoetry\\Cache\\virtualenvs\\ppuodz-ml-4-1-dqELbViF-py3.12\\Lib\\site-packages\\lightgbm\\callback.py:325: UserWarning: Early stopping is not available in dart mode\n",
      "  _log_warning('Early stopping is not available in dart mode')\n"
     ]
    },
    {
     "name": "stdout",
     "output_type": "stream",
     "text": [
      "Fold: Tuning: n_train=263581, eval_set=43930\n"
     ]
    },
    {
     "name": "stderr",
     "output_type": "stream",
     "text": [
      "C:\\Users\\Paulius\\AppData\\Local\\pypoetry\\Cache\\virtualenvs\\ppuodz-ml-4-1-dqELbViF-py3.12\\Lib\\site-packages\\lightgbm\\callback.py:325: UserWarning: Early stopping is not available in dart mode\n",
      "  _log_warning('Early stopping is not available in dart mode')\n"
     ]
    },
    {
     "name": "stdout",
     "output_type": "stream",
     "text": [
      "Fold: Tuning: n_train=263581, eval_set=43930\n"
     ]
    },
    {
     "name": "stderr",
     "output_type": "stream",
     "text": [
      "C:\\Users\\Paulius\\AppData\\Local\\pypoetry\\Cache\\virtualenvs\\ppuodz-ml-4-1-dqELbViF-py3.12\\Lib\\site-packages\\lightgbm\\callback.py:325: UserWarning: Early stopping is not available in dart mode\n",
      "  _log_warning('Early stopping is not available in dart mode')\n"
     ]
    },
    {
     "name": "stdout",
     "output_type": "stream",
     "text": [
      "Fold: Tuning: n_train=263581, eval_set=43930\n"
     ]
    },
    {
     "name": "stderr",
     "output_type": "stream",
     "text": [
      "C:\\Users\\Paulius\\AppData\\Local\\pypoetry\\Cache\\virtualenvs\\ppuodz-ml-4-1-dqELbViF-py3.12\\Lib\\site-packages\\lightgbm\\callback.py:325: UserWarning: Early stopping is not available in dart mode\n",
      "  _log_warning('Early stopping is not available in dart mode')\n"
     ]
    },
    {
     "name": "stdout",
     "output_type": "stream",
     "text": [
      "Fold: Tuning: n_train=263581, eval_set=43930\n",
      "Tune: val_score:0.7765, std_test_score:0.00372 train_set_score:0.8237\n",
      "folds val/train: [0.7761, 0.7733, 0.7726, 0.7792, 0.7839, 0.7766, 0.7736] / [0.8237, 0.8237, 0.8251, 0.8224, 0.823, 0.8246, 0.8231], mean fold time: 25.27\n"
     ]
    },
    {
     "name": "stderr",
     "output_type": "stream",
     "text": [
      "[I 2024-04-20 19:22:20,343] Trial 60 finished with value: 0.776484641143173 and parameters: {'model__n_estimators': 950, 'model__learning_rate': 0.18000000000000002, 'model__max_depth': 5, 'model__num_leaves': 160, 'model__min_gain_to_split': 4.0, 'model__min_data_in_leaf': 2600, 'model__lambda_l1': 60, 'model__lambda_l2': 40, 'model__bagging_fraction': 0.2, 'model__feature_fraction': 0.7, 'model__max_bin': 450}. Best is trial 53 with value: 0.7765713912708517.\n",
      "C:\\Users\\Paulius\\AppData\\Local\\pypoetry\\Cache\\virtualenvs\\ppuodz-ml-4-1-dqELbViF-py3.12\\Lib\\site-packages\\lightgbm\\callback.py:325: UserWarning: Early stopping is not available in dart mode\n",
      "  _log_warning('Early stopping is not available in dart mode')\n"
     ]
    },
    {
     "name": "stdout",
     "output_type": "stream",
     "text": [
      "Fold: Tuning: n_train=263580, eval_set=43931\n"
     ]
    },
    {
     "name": "stderr",
     "output_type": "stream",
     "text": [
      "C:\\Users\\Paulius\\AppData\\Local\\pypoetry\\Cache\\virtualenvs\\ppuodz-ml-4-1-dqELbViF-py3.12\\Lib\\site-packages\\lightgbm\\callback.py:325: UserWarning: Early stopping is not available in dart mode\n",
      "  _log_warning('Early stopping is not available in dart mode')\n"
     ]
    },
    {
     "name": "stdout",
     "output_type": "stream",
     "text": [
      "Fold: Tuning: n_train=263581, eval_set=43930\n"
     ]
    },
    {
     "name": "stderr",
     "output_type": "stream",
     "text": [
      "C:\\Users\\Paulius\\AppData\\Local\\pypoetry\\Cache\\virtualenvs\\ppuodz-ml-4-1-dqELbViF-py3.12\\Lib\\site-packages\\lightgbm\\callback.py:325: UserWarning: Early stopping is not available in dart mode\n",
      "  _log_warning('Early stopping is not available in dart mode')\n"
     ]
    },
    {
     "name": "stdout",
     "output_type": "stream",
     "text": [
      "Fold: Tuning: n_train=263581, eval_set=43930\n"
     ]
    },
    {
     "name": "stderr",
     "output_type": "stream",
     "text": [
      "C:\\Users\\Paulius\\AppData\\Local\\pypoetry\\Cache\\virtualenvs\\ppuodz-ml-4-1-dqELbViF-py3.12\\Lib\\site-packages\\lightgbm\\callback.py:325: UserWarning: Early stopping is not available in dart mode\n",
      "  _log_warning('Early stopping is not available in dart mode')\n"
     ]
    },
    {
     "name": "stdout",
     "output_type": "stream",
     "text": [
      "Fold: Tuning: n_train=263581, eval_set=43930\n"
     ]
    },
    {
     "name": "stderr",
     "output_type": "stream",
     "text": [
      "C:\\Users\\Paulius\\AppData\\Local\\pypoetry\\Cache\\virtualenvs\\ppuodz-ml-4-1-dqELbViF-py3.12\\Lib\\site-packages\\lightgbm\\callback.py:325: UserWarning: Early stopping is not available in dart mode\n",
      "  _log_warning('Early stopping is not available in dart mode')\n"
     ]
    },
    {
     "name": "stdout",
     "output_type": "stream",
     "text": [
      "Fold: Tuning: n_train=263581, eval_set=43930\n"
     ]
    },
    {
     "name": "stderr",
     "output_type": "stream",
     "text": [
      "C:\\Users\\Paulius\\AppData\\Local\\pypoetry\\Cache\\virtualenvs\\ppuodz-ml-4-1-dqELbViF-py3.12\\Lib\\site-packages\\lightgbm\\callback.py:325: UserWarning: Early stopping is not available in dart mode\n",
      "  _log_warning('Early stopping is not available in dart mode')\n"
     ]
    },
    {
     "name": "stdout",
     "output_type": "stream",
     "text": [
      "Fold: Tuning: n_train=263581, eval_set=43930\n"
     ]
    },
    {
     "name": "stderr",
     "output_type": "stream",
     "text": [
      "C:\\Users\\Paulius\\AppData\\Local\\pypoetry\\Cache\\virtualenvs\\ppuodz-ml-4-1-dqELbViF-py3.12\\Lib\\site-packages\\lightgbm\\callback.py:325: UserWarning: Early stopping is not available in dart mode\n",
      "  _log_warning('Early stopping is not available in dart mode')\n"
     ]
    },
    {
     "name": "stdout",
     "output_type": "stream",
     "text": [
      "Fold: Tuning: n_train=263581, eval_set=43930\n",
      "Tune: val_score:0.7765, std_test_score:0.00372 train_set_score:0.8237\n",
      "folds val/train: [0.7761, 0.7733, 0.7726, 0.7792, 0.7839, 0.7766, 0.7736] / [0.8237, 0.8237, 0.8251, 0.8224, 0.823, 0.8246, 0.8231], mean fold time: 25.21\n"
     ]
    },
    {
     "name": "stderr",
     "output_type": "stream",
     "text": [
      "[I 2024-04-20 19:25:17,647] Trial 61 finished with value: 0.776484641143173 and parameters: {'model__n_estimators': 950, 'model__learning_rate': 0.18000000000000002, 'model__max_depth': 5, 'model__num_leaves': 160, 'model__min_gain_to_split': 4.0, 'model__min_data_in_leaf': 2600, 'model__lambda_l1': 60, 'model__lambda_l2': 40, 'model__bagging_fraction': 0.2, 'model__feature_fraction': 0.7, 'model__max_bin': 450}. Best is trial 53 with value: 0.7765713912708517.\n",
      "C:\\Users\\Paulius\\AppData\\Local\\pypoetry\\Cache\\virtualenvs\\ppuodz-ml-4-1-dqELbViF-py3.12\\Lib\\site-packages\\lightgbm\\callback.py:325: UserWarning: Early stopping is not available in dart mode\n",
      "  _log_warning('Early stopping is not available in dart mode')\n"
     ]
    },
    {
     "name": "stdout",
     "output_type": "stream",
     "text": [
      "Fold: Tuning: n_train=263580, eval_set=43931\n"
     ]
    },
    {
     "name": "stderr",
     "output_type": "stream",
     "text": [
      "C:\\Users\\Paulius\\AppData\\Local\\pypoetry\\Cache\\virtualenvs\\ppuodz-ml-4-1-dqELbViF-py3.12\\Lib\\site-packages\\lightgbm\\callback.py:325: UserWarning: Early stopping is not available in dart mode\n",
      "  _log_warning('Early stopping is not available in dart mode')\n"
     ]
    },
    {
     "name": "stdout",
     "output_type": "stream",
     "text": [
      "Fold: Tuning: n_train=263581, eval_set=43930\n"
     ]
    },
    {
     "name": "stderr",
     "output_type": "stream",
     "text": [
      "C:\\Users\\Paulius\\AppData\\Local\\pypoetry\\Cache\\virtualenvs\\ppuodz-ml-4-1-dqELbViF-py3.12\\Lib\\site-packages\\lightgbm\\callback.py:325: UserWarning: Early stopping is not available in dart mode\n",
      "  _log_warning('Early stopping is not available in dart mode')\n"
     ]
    },
    {
     "name": "stdout",
     "output_type": "stream",
     "text": [
      "Fold: Tuning: n_train=263581, eval_set=43930\n"
     ]
    },
    {
     "name": "stderr",
     "output_type": "stream",
     "text": [
      "C:\\Users\\Paulius\\AppData\\Local\\pypoetry\\Cache\\virtualenvs\\ppuodz-ml-4-1-dqELbViF-py3.12\\Lib\\site-packages\\lightgbm\\callback.py:325: UserWarning: Early stopping is not available in dart mode\n",
      "  _log_warning('Early stopping is not available in dart mode')\n"
     ]
    },
    {
     "name": "stdout",
     "output_type": "stream",
     "text": [
      "Fold: Tuning: n_train=263581, eval_set=43930\n"
     ]
    },
    {
     "name": "stderr",
     "output_type": "stream",
     "text": [
      "C:\\Users\\Paulius\\AppData\\Local\\pypoetry\\Cache\\virtualenvs\\ppuodz-ml-4-1-dqELbViF-py3.12\\Lib\\site-packages\\lightgbm\\callback.py:325: UserWarning: Early stopping is not available in dart mode\n",
      "  _log_warning('Early stopping is not available in dart mode')\n"
     ]
    },
    {
     "name": "stdout",
     "output_type": "stream",
     "text": [
      "Fold: Tuning: n_train=263581, eval_set=43930\n"
     ]
    },
    {
     "name": "stderr",
     "output_type": "stream",
     "text": [
      "C:\\Users\\Paulius\\AppData\\Local\\pypoetry\\Cache\\virtualenvs\\ppuodz-ml-4-1-dqELbViF-py3.12\\Lib\\site-packages\\lightgbm\\callback.py:325: UserWarning: Early stopping is not available in dart mode\n",
      "  _log_warning('Early stopping is not available in dart mode')\n"
     ]
    },
    {
     "name": "stdout",
     "output_type": "stream",
     "text": [
      "Fold: Tuning: n_train=263581, eval_set=43930\n"
     ]
    },
    {
     "name": "stderr",
     "output_type": "stream",
     "text": [
      "C:\\Users\\Paulius\\AppData\\Local\\pypoetry\\Cache\\virtualenvs\\ppuodz-ml-4-1-dqELbViF-py3.12\\Lib\\site-packages\\lightgbm\\callback.py:325: UserWarning: Early stopping is not available in dart mode\n",
      "  _log_warning('Early stopping is not available in dart mode')\n"
     ]
    },
    {
     "name": "stdout",
     "output_type": "stream",
     "text": [
      "Fold: Tuning: n_train=263581, eval_set=43930\n",
      "Tune: val_score:0.7762, std_test_score:0.00395 train_set_score:0.8276\n",
      "folds val/train: [0.7759, 0.7739, 0.7718, 0.7795, 0.7835, 0.7768, 0.7718] / [0.8269, 0.8277, 0.8303, 0.8278, 0.8252, 0.8269, 0.8283], mean fold time: 25.26\n"
     ]
    },
    {
     "name": "stderr",
     "output_type": "stream",
     "text": [
      "[I 2024-04-20 19:28:15,302] Trial 62 finished with value: 0.7761747551865629 and parameters: {'model__n_estimators': 950, 'model__learning_rate': 0.18000000000000002, 'model__max_depth': 5, 'model__num_leaves': 160, 'model__min_gain_to_split': 4.0, 'model__min_data_in_leaf': 2600, 'model__lambda_l1': 50, 'model__lambda_l2': 50, 'model__bagging_fraction': 0.2, 'model__feature_fraction': 0.7, 'model__max_bin': 475}. Best is trial 53 with value: 0.7765713912708517.\n",
      "C:\\Users\\Paulius\\AppData\\Local\\pypoetry\\Cache\\virtualenvs\\ppuodz-ml-4-1-dqELbViF-py3.12\\Lib\\site-packages\\lightgbm\\callback.py:325: UserWarning: Early stopping is not available in dart mode\n",
      "  _log_warning('Early stopping is not available in dart mode')\n"
     ]
    },
    {
     "name": "stdout",
     "output_type": "stream",
     "text": [
      "Fold: Tuning: n_train=263580, eval_set=43931\n"
     ]
    },
    {
     "name": "stderr",
     "output_type": "stream",
     "text": [
      "C:\\Users\\Paulius\\AppData\\Local\\pypoetry\\Cache\\virtualenvs\\ppuodz-ml-4-1-dqELbViF-py3.12\\Lib\\site-packages\\lightgbm\\callback.py:325: UserWarning: Early stopping is not available in dart mode\n",
      "  _log_warning('Early stopping is not available in dart mode')\n"
     ]
    },
    {
     "name": "stdout",
     "output_type": "stream",
     "text": [
      "Fold: Tuning: n_train=263581, eval_set=43930\n"
     ]
    },
    {
     "name": "stderr",
     "output_type": "stream",
     "text": [
      "C:\\Users\\Paulius\\AppData\\Local\\pypoetry\\Cache\\virtualenvs\\ppuodz-ml-4-1-dqELbViF-py3.12\\Lib\\site-packages\\lightgbm\\callback.py:325: UserWarning: Early stopping is not available in dart mode\n",
      "  _log_warning('Early stopping is not available in dart mode')\n"
     ]
    },
    {
     "name": "stdout",
     "output_type": "stream",
     "text": [
      "Fold: Tuning: n_train=263581, eval_set=43930\n"
     ]
    },
    {
     "name": "stderr",
     "output_type": "stream",
     "text": [
      "C:\\Users\\Paulius\\AppData\\Local\\pypoetry\\Cache\\virtualenvs\\ppuodz-ml-4-1-dqELbViF-py3.12\\Lib\\site-packages\\lightgbm\\callback.py:325: UserWarning: Early stopping is not available in dart mode\n",
      "  _log_warning('Early stopping is not available in dart mode')\n"
     ]
    },
    {
     "name": "stdout",
     "output_type": "stream",
     "text": [
      "Fold: Tuning: n_train=263581, eval_set=43930\n"
     ]
    },
    {
     "name": "stderr",
     "output_type": "stream",
     "text": [
      "C:\\Users\\Paulius\\AppData\\Local\\pypoetry\\Cache\\virtualenvs\\ppuodz-ml-4-1-dqELbViF-py3.12\\Lib\\site-packages\\lightgbm\\callback.py:325: UserWarning: Early stopping is not available in dart mode\n",
      "  _log_warning('Early stopping is not available in dart mode')\n"
     ]
    },
    {
     "name": "stdout",
     "output_type": "stream",
     "text": [
      "Fold: Tuning: n_train=263581, eval_set=43930\n"
     ]
    },
    {
     "name": "stderr",
     "output_type": "stream",
     "text": [
      "C:\\Users\\Paulius\\AppData\\Local\\pypoetry\\Cache\\virtualenvs\\ppuodz-ml-4-1-dqELbViF-py3.12\\Lib\\site-packages\\lightgbm\\callback.py:325: UserWarning: Early stopping is not available in dart mode\n",
      "  _log_warning('Early stopping is not available in dart mode')\n"
     ]
    },
    {
     "name": "stdout",
     "output_type": "stream",
     "text": [
      "Fold: Tuning: n_train=263581, eval_set=43930\n"
     ]
    },
    {
     "name": "stderr",
     "output_type": "stream",
     "text": [
      "C:\\Users\\Paulius\\AppData\\Local\\pypoetry\\Cache\\virtualenvs\\ppuodz-ml-4-1-dqELbViF-py3.12\\Lib\\site-packages\\lightgbm\\callback.py:325: UserWarning: Early stopping is not available in dart mode\n",
      "  _log_warning('Early stopping is not available in dart mode')\n"
     ]
    },
    {
     "name": "stdout",
     "output_type": "stream",
     "text": [
      "Fold: Tuning: n_train=263581, eval_set=43930\n",
      "Tune: val_score:0.7761, std_test_score:0.00384 train_set_score:0.8193\n",
      "folds val/train: [0.7766, 0.7726, 0.772, 0.7791, 0.7832, 0.7769, 0.7724] / [0.8188, 0.8198, 0.8206, 0.8181, 0.8177, 0.8196, 0.8204], mean fold time: 26.92\n"
     ]
    },
    {
     "name": "stderr",
     "output_type": "stream",
     "text": [
      "[I 2024-04-20 19:31:24,518] Trial 63 finished with value: 0.7761158567418844 and parameters: {'model__n_estimators': 1000, 'model__learning_rate': 0.17, 'model__max_depth': 5, 'model__num_leaves': 216, 'model__min_gain_to_split': 5.0, 'model__min_data_in_leaf': 2900, 'model__lambda_l1': 55, 'model__lambda_l2': 40, 'model__bagging_fraction': 0.2, 'model__feature_fraction': 0.6000000000000001, 'model__max_bin': 450}. Best is trial 53 with value: 0.7765713912708517.\n",
      "C:\\Users\\Paulius\\AppData\\Local\\pypoetry\\Cache\\virtualenvs\\ppuodz-ml-4-1-dqELbViF-py3.12\\Lib\\site-packages\\lightgbm\\callback.py:325: UserWarning: Early stopping is not available in dart mode\n",
      "  _log_warning('Early stopping is not available in dart mode')\n"
     ]
    },
    {
     "name": "stdout",
     "output_type": "stream",
     "text": [
      "Fold: Tuning: n_train=263580, eval_set=43931\n"
     ]
    },
    {
     "name": "stderr",
     "output_type": "stream",
     "text": [
      "C:\\Users\\Paulius\\AppData\\Local\\pypoetry\\Cache\\virtualenvs\\ppuodz-ml-4-1-dqELbViF-py3.12\\Lib\\site-packages\\lightgbm\\callback.py:325: UserWarning: Early stopping is not available in dart mode\n",
      "  _log_warning('Early stopping is not available in dart mode')\n"
     ]
    },
    {
     "name": "stdout",
     "output_type": "stream",
     "text": [
      "Fold: Tuning: n_train=263581, eval_set=43930\n"
     ]
    },
    {
     "name": "stderr",
     "output_type": "stream",
     "text": [
      "C:\\Users\\Paulius\\AppData\\Local\\pypoetry\\Cache\\virtualenvs\\ppuodz-ml-4-1-dqELbViF-py3.12\\Lib\\site-packages\\lightgbm\\callback.py:325: UserWarning: Early stopping is not available in dart mode\n",
      "  _log_warning('Early stopping is not available in dart mode')\n"
     ]
    },
    {
     "name": "stdout",
     "output_type": "stream",
     "text": [
      "Fold: Tuning: n_train=263581, eval_set=43930\n"
     ]
    },
    {
     "name": "stderr",
     "output_type": "stream",
     "text": [
      "C:\\Users\\Paulius\\AppData\\Local\\pypoetry\\Cache\\virtualenvs\\ppuodz-ml-4-1-dqELbViF-py3.12\\Lib\\site-packages\\lightgbm\\callback.py:325: UserWarning: Early stopping is not available in dart mode\n",
      "  _log_warning('Early stopping is not available in dart mode')\n"
     ]
    },
    {
     "name": "stdout",
     "output_type": "stream",
     "text": [
      "Fold: Tuning: n_train=263581, eval_set=43930\n"
     ]
    },
    {
     "name": "stderr",
     "output_type": "stream",
     "text": [
      "C:\\Users\\Paulius\\AppData\\Local\\pypoetry\\Cache\\virtualenvs\\ppuodz-ml-4-1-dqELbViF-py3.12\\Lib\\site-packages\\lightgbm\\callback.py:325: UserWarning: Early stopping is not available in dart mode\n",
      "  _log_warning('Early stopping is not available in dart mode')\n"
     ]
    },
    {
     "name": "stdout",
     "output_type": "stream",
     "text": [
      "Fold: Tuning: n_train=263581, eval_set=43930\n"
     ]
    },
    {
     "name": "stderr",
     "output_type": "stream",
     "text": [
      "C:\\Users\\Paulius\\AppData\\Local\\pypoetry\\Cache\\virtualenvs\\ppuodz-ml-4-1-dqELbViF-py3.12\\Lib\\site-packages\\lightgbm\\callback.py:325: UserWarning: Early stopping is not available in dart mode\n",
      "  _log_warning('Early stopping is not available in dart mode')\n"
     ]
    },
    {
     "name": "stdout",
     "output_type": "stream",
     "text": [
      "Fold: Tuning: n_train=263581, eval_set=43930\n"
     ]
    },
    {
     "name": "stderr",
     "output_type": "stream",
     "text": [
      "C:\\Users\\Paulius\\AppData\\Local\\pypoetry\\Cache\\virtualenvs\\ppuodz-ml-4-1-dqELbViF-py3.12\\Lib\\site-packages\\lightgbm\\callback.py:325: UserWarning: Early stopping is not available in dart mode\n",
      "  _log_warning('Early stopping is not available in dart mode')\n"
     ]
    },
    {
     "name": "stdout",
     "output_type": "stream",
     "text": [
      "Fold: Tuning: n_train=263581, eval_set=43930\n",
      "Tune: val_score:0.7765, std_test_score:0.00351 train_set_score:0.8270\n",
      "folds val/train: [0.7758, 0.774, 0.7736, 0.7793, 0.7835, 0.7765, 0.7728] / [0.8266, 0.8264, 0.828, 0.8259, 0.8253, 0.8282, 0.8282], mean fold time: 25.30\n"
     ]
    },
    {
     "name": "stderr",
     "output_type": "stream",
     "text": [
      "[I 2024-04-20 19:34:22,399] Trial 64 finished with value: 0.7764813682045537 and parameters: {'model__n_estimators': 950, 'model__learning_rate': 0.2, 'model__max_depth': 5, 'model__num_leaves': 184, 'model__min_gain_to_split': 3.5, 'model__min_data_in_leaf': 2400, 'model__lambda_l1': 60, 'model__lambda_l2': 50, 'model__bagging_fraction': 0.2, 'model__feature_fraction': 0.7, 'model__max_bin': 500}. Best is trial 53 with value: 0.7765713912708517.\n",
      "C:\\Users\\Paulius\\AppData\\Local\\pypoetry\\Cache\\virtualenvs\\ppuodz-ml-4-1-dqELbViF-py3.12\\Lib\\site-packages\\lightgbm\\callback.py:325: UserWarning: Early stopping is not available in dart mode\n",
      "  _log_warning('Early stopping is not available in dart mode')\n"
     ]
    },
    {
     "name": "stdout",
     "output_type": "stream",
     "text": [
      "Fold: Tuning: n_train=263580, eval_set=43931\n"
     ]
    },
    {
     "name": "stderr",
     "output_type": "stream",
     "text": [
      "C:\\Users\\Paulius\\AppData\\Local\\pypoetry\\Cache\\virtualenvs\\ppuodz-ml-4-1-dqELbViF-py3.12\\Lib\\site-packages\\lightgbm\\callback.py:325: UserWarning: Early stopping is not available in dart mode\n",
      "  _log_warning('Early stopping is not available in dart mode')\n"
     ]
    },
    {
     "name": "stdout",
     "output_type": "stream",
     "text": [
      "Fold: Tuning: n_train=263581, eval_set=43930\n"
     ]
    },
    {
     "name": "stderr",
     "output_type": "stream",
     "text": [
      "C:\\Users\\Paulius\\AppData\\Local\\pypoetry\\Cache\\virtualenvs\\ppuodz-ml-4-1-dqELbViF-py3.12\\Lib\\site-packages\\lightgbm\\callback.py:325: UserWarning: Early stopping is not available in dart mode\n",
      "  _log_warning('Early stopping is not available in dart mode')\n"
     ]
    },
    {
     "name": "stdout",
     "output_type": "stream",
     "text": [
      "Fold: Tuning: n_train=263581, eval_set=43930\n"
     ]
    },
    {
     "name": "stderr",
     "output_type": "stream",
     "text": [
      "C:\\Users\\Paulius\\AppData\\Local\\pypoetry\\Cache\\virtualenvs\\ppuodz-ml-4-1-dqELbViF-py3.12\\Lib\\site-packages\\lightgbm\\callback.py:325: UserWarning: Early stopping is not available in dart mode\n",
      "  _log_warning('Early stopping is not available in dart mode')\n"
     ]
    },
    {
     "name": "stdout",
     "output_type": "stream",
     "text": [
      "Fold: Tuning: n_train=263581, eval_set=43930\n"
     ]
    },
    {
     "name": "stderr",
     "output_type": "stream",
     "text": [
      "C:\\Users\\Paulius\\AppData\\Local\\pypoetry\\Cache\\virtualenvs\\ppuodz-ml-4-1-dqELbViF-py3.12\\Lib\\site-packages\\lightgbm\\callback.py:325: UserWarning: Early stopping is not available in dart mode\n",
      "  _log_warning('Early stopping is not available in dart mode')\n"
     ]
    },
    {
     "name": "stdout",
     "output_type": "stream",
     "text": [
      "Fold: Tuning: n_train=263581, eval_set=43930\n"
     ]
    },
    {
     "name": "stderr",
     "output_type": "stream",
     "text": [
      "C:\\Users\\Paulius\\AppData\\Local\\pypoetry\\Cache\\virtualenvs\\ppuodz-ml-4-1-dqELbViF-py3.12\\Lib\\site-packages\\lightgbm\\callback.py:325: UserWarning: Early stopping is not available in dart mode\n",
      "  _log_warning('Early stopping is not available in dart mode')\n"
     ]
    },
    {
     "name": "stdout",
     "output_type": "stream",
     "text": [
      "Fold: Tuning: n_train=263581, eval_set=43930\n"
     ]
    },
    {
     "name": "stderr",
     "output_type": "stream",
     "text": [
      "C:\\Users\\Paulius\\AppData\\Local\\pypoetry\\Cache\\virtualenvs\\ppuodz-ml-4-1-dqELbViF-py3.12\\Lib\\site-packages\\lightgbm\\callback.py:325: UserWarning: Early stopping is not available in dart mode\n",
      "  _log_warning('Early stopping is not available in dart mode')\n"
     ]
    },
    {
     "name": "stdout",
     "output_type": "stream",
     "text": [
      "Fold: Tuning: n_train=263581, eval_set=43930\n",
      "Tune: val_score:0.7752, std_test_score:0.00345 train_set_score:0.8082\n",
      "folds val/train: [0.775, 0.7723, 0.7723, 0.7785, 0.7813, 0.7759, 0.771] / [0.8084, 0.8081, 0.8094, 0.8075, 0.8065, 0.8083, 0.8091], mean fold time: 18.13\n"
     ]
    },
    {
     "name": "stderr",
     "output_type": "stream",
     "text": [
      "[I 2024-04-20 19:36:30,103] Trial 65 finished with value: 0.7751881767612907 and parameters: {'model__n_estimators': 850, 'model__learning_rate': 0.18000000000000002, 'model__max_depth': 4, 'model__num_leaves': 184, 'model__min_gain_to_split': 6.5, 'model__min_data_in_leaf': 2400, 'model__lambda_l1': 60, 'model__lambda_l2': 60, 'model__bagging_fraction': 0.2, 'model__feature_fraction': 0.6000000000000001, 'model__max_bin': 475}. Best is trial 53 with value: 0.7765713912708517.\n",
      "C:\\Users\\Paulius\\AppData\\Local\\pypoetry\\Cache\\virtualenvs\\ppuodz-ml-4-1-dqELbViF-py3.12\\Lib\\site-packages\\lightgbm\\callback.py:325: UserWarning: Early stopping is not available in dart mode\n",
      "  _log_warning('Early stopping is not available in dart mode')\n"
     ]
    },
    {
     "name": "stdout",
     "output_type": "stream",
     "text": [
      "Fold: Tuning: n_train=263580, eval_set=43931\n"
     ]
    },
    {
     "name": "stderr",
     "output_type": "stream",
     "text": [
      "C:\\Users\\Paulius\\AppData\\Local\\pypoetry\\Cache\\virtualenvs\\ppuodz-ml-4-1-dqELbViF-py3.12\\Lib\\site-packages\\lightgbm\\callback.py:325: UserWarning: Early stopping is not available in dart mode\n",
      "  _log_warning('Early stopping is not available in dart mode')\n"
     ]
    },
    {
     "name": "stdout",
     "output_type": "stream",
     "text": [
      "Fold: Tuning: n_train=263581, eval_set=43930\n"
     ]
    },
    {
     "name": "stderr",
     "output_type": "stream",
     "text": [
      "C:\\Users\\Paulius\\AppData\\Local\\pypoetry\\Cache\\virtualenvs\\ppuodz-ml-4-1-dqELbViF-py3.12\\Lib\\site-packages\\lightgbm\\callback.py:325: UserWarning: Early stopping is not available in dart mode\n",
      "  _log_warning('Early stopping is not available in dart mode')\n"
     ]
    },
    {
     "name": "stdout",
     "output_type": "stream",
     "text": [
      "Fold: Tuning: n_train=263581, eval_set=43930\n"
     ]
    },
    {
     "name": "stderr",
     "output_type": "stream",
     "text": [
      "C:\\Users\\Paulius\\AppData\\Local\\pypoetry\\Cache\\virtualenvs\\ppuodz-ml-4-1-dqELbViF-py3.12\\Lib\\site-packages\\lightgbm\\callback.py:325: UserWarning: Early stopping is not available in dart mode\n",
      "  _log_warning('Early stopping is not available in dart mode')\n"
     ]
    },
    {
     "name": "stdout",
     "output_type": "stream",
     "text": [
      "Fold: Tuning: n_train=263581, eval_set=43930\n"
     ]
    },
    {
     "name": "stderr",
     "output_type": "stream",
     "text": [
      "C:\\Users\\Paulius\\AppData\\Local\\pypoetry\\Cache\\virtualenvs\\ppuodz-ml-4-1-dqELbViF-py3.12\\Lib\\site-packages\\lightgbm\\callback.py:325: UserWarning: Early stopping is not available in dart mode\n",
      "  _log_warning('Early stopping is not available in dart mode')\n"
     ]
    },
    {
     "name": "stdout",
     "output_type": "stream",
     "text": [
      "Fold: Tuning: n_train=263581, eval_set=43930\n"
     ]
    },
    {
     "name": "stderr",
     "output_type": "stream",
     "text": [
      "C:\\Users\\Paulius\\AppData\\Local\\pypoetry\\Cache\\virtualenvs\\ppuodz-ml-4-1-dqELbViF-py3.12\\Lib\\site-packages\\lightgbm\\callback.py:325: UserWarning: Early stopping is not available in dart mode\n",
      "  _log_warning('Early stopping is not available in dart mode')\n"
     ]
    },
    {
     "name": "stdout",
     "output_type": "stream",
     "text": [
      "Fold: Tuning: n_train=263581, eval_set=43930\n"
     ]
    },
    {
     "name": "stderr",
     "output_type": "stream",
     "text": [
      "C:\\Users\\Paulius\\AppData\\Local\\pypoetry\\Cache\\virtualenvs\\ppuodz-ml-4-1-dqELbViF-py3.12\\Lib\\site-packages\\lightgbm\\callback.py:325: UserWarning: Early stopping is not available in dart mode\n",
      "  _log_warning('Early stopping is not available in dart mode')\n"
     ]
    },
    {
     "name": "stdout",
     "output_type": "stream",
     "text": [
      "Fold: Tuning: n_train=263581, eval_set=43930\n",
      "Tune: val_score:0.7766, std_test_score:0.00327 train_set_score:0.8304\n",
      "folds val/train: [0.7764, 0.7732, 0.7741, 0.7788, 0.7831, 0.7769, 0.7735] / [0.8298, 0.8313, 0.8314, 0.8294, 0.8275, 0.8318, 0.8312], mean fold time: 25.29\n"
     ]
    },
    {
     "name": "stderr",
     "output_type": "stream",
     "text": [
      "[I 2024-04-20 19:39:27,957] Trial 66 finished with value: 0.7765879174187701 and parameters: {'model__n_estimators': 950, 'model__learning_rate': 0.19, 'model__max_depth': 5, 'model__num_leaves': 192, 'model__min_gain_to_split': 2.5, 'model__min_data_in_leaf': 2600, 'model__lambda_l1': 65, 'model__lambda_l2': 55, 'model__bagging_fraction': 0.2, 'model__feature_fraction': 0.7, 'model__max_bin': 425}. Best is trial 66 with value: 0.7765879174187701.\n",
      "C:\\Users\\Paulius\\AppData\\Local\\pypoetry\\Cache\\virtualenvs\\ppuodz-ml-4-1-dqELbViF-py3.12\\Lib\\site-packages\\lightgbm\\callback.py:325: UserWarning: Early stopping is not available in dart mode\n",
      "  _log_warning('Early stopping is not available in dart mode')\n"
     ]
    },
    {
     "name": "stdout",
     "output_type": "stream",
     "text": [
      "Fold: Tuning: n_train=263580, eval_set=43931\n"
     ]
    },
    {
     "name": "stderr",
     "output_type": "stream",
     "text": [
      "C:\\Users\\Paulius\\AppData\\Local\\pypoetry\\Cache\\virtualenvs\\ppuodz-ml-4-1-dqELbViF-py3.12\\Lib\\site-packages\\lightgbm\\callback.py:325: UserWarning: Early stopping is not available in dart mode\n",
      "  _log_warning('Early stopping is not available in dart mode')\n"
     ]
    },
    {
     "name": "stdout",
     "output_type": "stream",
     "text": [
      "Fold: Tuning: n_train=263581, eval_set=43930\n"
     ]
    },
    {
     "name": "stderr",
     "output_type": "stream",
     "text": [
      "C:\\Users\\Paulius\\AppData\\Local\\pypoetry\\Cache\\virtualenvs\\ppuodz-ml-4-1-dqELbViF-py3.12\\Lib\\site-packages\\lightgbm\\callback.py:325: UserWarning: Early stopping is not available in dart mode\n",
      "  _log_warning('Early stopping is not available in dart mode')\n"
     ]
    },
    {
     "name": "stdout",
     "output_type": "stream",
     "text": [
      "Fold: Tuning: n_train=263581, eval_set=43930\n"
     ]
    },
    {
     "name": "stderr",
     "output_type": "stream",
     "text": [
      "C:\\Users\\Paulius\\AppData\\Local\\pypoetry\\Cache\\virtualenvs\\ppuodz-ml-4-1-dqELbViF-py3.12\\Lib\\site-packages\\lightgbm\\callback.py:325: UserWarning: Early stopping is not available in dart mode\n",
      "  _log_warning('Early stopping is not available in dart mode')\n"
     ]
    },
    {
     "name": "stdout",
     "output_type": "stream",
     "text": [
      "Fold: Tuning: n_train=263581, eval_set=43930\n"
     ]
    },
    {
     "name": "stderr",
     "output_type": "stream",
     "text": [
      "C:\\Users\\Paulius\\AppData\\Local\\pypoetry\\Cache\\virtualenvs\\ppuodz-ml-4-1-dqELbViF-py3.12\\Lib\\site-packages\\lightgbm\\callback.py:325: UserWarning: Early stopping is not available in dart mode\n",
      "  _log_warning('Early stopping is not available in dart mode')\n"
     ]
    },
    {
     "name": "stdout",
     "output_type": "stream",
     "text": [
      "Fold: Tuning: n_train=263581, eval_set=43930\n"
     ]
    },
    {
     "name": "stderr",
     "output_type": "stream",
     "text": [
      "C:\\Users\\Paulius\\AppData\\Local\\pypoetry\\Cache\\virtualenvs\\ppuodz-ml-4-1-dqELbViF-py3.12\\Lib\\site-packages\\lightgbm\\callback.py:325: UserWarning: Early stopping is not available in dart mode\n",
      "  _log_warning('Early stopping is not available in dart mode')\n"
     ]
    },
    {
     "name": "stdout",
     "output_type": "stream",
     "text": [
      "Fold: Tuning: n_train=263581, eval_set=43930\n"
     ]
    },
    {
     "name": "stderr",
     "output_type": "stream",
     "text": [
      "C:\\Users\\Paulius\\AppData\\Local\\pypoetry\\Cache\\virtualenvs\\ppuodz-ml-4-1-dqELbViF-py3.12\\Lib\\site-packages\\lightgbm\\callback.py:325: UserWarning: Early stopping is not available in dart mode\n",
      "  _log_warning('Early stopping is not available in dart mode')\n"
     ]
    },
    {
     "name": "stdout",
     "output_type": "stream",
     "text": [
      "Fold: Tuning: n_train=263581, eval_set=43930\n",
      "Tune: val_score:0.7703, std_test_score:0.00373 train_set_score:0.8024\n",
      "folds val/train: [0.7712, 0.7671, 0.7674, 0.7741, 0.777, 0.7692, 0.7662] / [0.8027, 0.8026, 0.8031, 0.8021, 0.8015, 0.8023, 0.8027], mean fold time: 7.30\n"
     ]
    },
    {
     "name": "stderr",
     "output_type": "stream",
     "text": [
      "[I 2024-04-20 19:40:19,860] Trial 67 finished with value: 0.7703206374733043 and parameters: {'model__n_estimators': 350, 'model__learning_rate': 0.16, 'model__max_depth': 5, 'model__num_leaves': 200, 'model__min_gain_to_split': 2.5, 'model__min_data_in_leaf': 2400, 'model__lambda_l1': 65, 'model__lambda_l2': 55, 'model__bagging_fraction': 0.9000000000000001, 'model__feature_fraction': 0.8, 'model__max_bin': 425}. Best is trial 66 with value: 0.7765879174187701.\n",
      "C:\\Users\\Paulius\\AppData\\Local\\pypoetry\\Cache\\virtualenvs\\ppuodz-ml-4-1-dqELbViF-py3.12\\Lib\\site-packages\\lightgbm\\callback.py:325: UserWarning: Early stopping is not available in dart mode\n",
      "  _log_warning('Early stopping is not available in dart mode')\n"
     ]
    },
    {
     "name": "stdout",
     "output_type": "stream",
     "text": [
      "Fold: Tuning: n_train=263580, eval_set=43931\n"
     ]
    },
    {
     "name": "stderr",
     "output_type": "stream",
     "text": [
      "C:\\Users\\Paulius\\AppData\\Local\\pypoetry\\Cache\\virtualenvs\\ppuodz-ml-4-1-dqELbViF-py3.12\\Lib\\site-packages\\lightgbm\\callback.py:325: UserWarning: Early stopping is not available in dart mode\n",
      "  _log_warning('Early stopping is not available in dart mode')\n"
     ]
    },
    {
     "name": "stdout",
     "output_type": "stream",
     "text": [
      "Fold: Tuning: n_train=263581, eval_set=43930\n"
     ]
    },
    {
     "name": "stderr",
     "output_type": "stream",
     "text": [
      "C:\\Users\\Paulius\\AppData\\Local\\pypoetry\\Cache\\virtualenvs\\ppuodz-ml-4-1-dqELbViF-py3.12\\Lib\\site-packages\\lightgbm\\callback.py:325: UserWarning: Early stopping is not available in dart mode\n",
      "  _log_warning('Early stopping is not available in dart mode')\n"
     ]
    },
    {
     "name": "stdout",
     "output_type": "stream",
     "text": [
      "Fold: Tuning: n_train=263581, eval_set=43930\n"
     ]
    },
    {
     "name": "stderr",
     "output_type": "stream",
     "text": [
      "C:\\Users\\Paulius\\AppData\\Local\\pypoetry\\Cache\\virtualenvs\\ppuodz-ml-4-1-dqELbViF-py3.12\\Lib\\site-packages\\lightgbm\\callback.py:325: UserWarning: Early stopping is not available in dart mode\n",
      "  _log_warning('Early stopping is not available in dart mode')\n"
     ]
    },
    {
     "name": "stdout",
     "output_type": "stream",
     "text": [
      "Fold: Tuning: n_train=263581, eval_set=43930\n"
     ]
    },
    {
     "name": "stderr",
     "output_type": "stream",
     "text": [
      "C:\\Users\\Paulius\\AppData\\Local\\pypoetry\\Cache\\virtualenvs\\ppuodz-ml-4-1-dqELbViF-py3.12\\Lib\\site-packages\\lightgbm\\callback.py:325: UserWarning: Early stopping is not available in dart mode\n",
      "  _log_warning('Early stopping is not available in dart mode')\n"
     ]
    },
    {
     "name": "stdout",
     "output_type": "stream",
     "text": [
      "Fold: Tuning: n_train=263581, eval_set=43930\n"
     ]
    },
    {
     "name": "stderr",
     "output_type": "stream",
     "text": [
      "C:\\Users\\Paulius\\AppData\\Local\\pypoetry\\Cache\\virtualenvs\\ppuodz-ml-4-1-dqELbViF-py3.12\\Lib\\site-packages\\lightgbm\\callback.py:325: UserWarning: Early stopping is not available in dart mode\n",
      "  _log_warning('Early stopping is not available in dart mode')\n"
     ]
    },
    {
     "name": "stdout",
     "output_type": "stream",
     "text": [
      "Fold: Tuning: n_train=263581, eval_set=43930\n"
     ]
    },
    {
     "name": "stderr",
     "output_type": "stream",
     "text": [
      "C:\\Users\\Paulius\\AppData\\Local\\pypoetry\\Cache\\virtualenvs\\ppuodz-ml-4-1-dqELbViF-py3.12\\Lib\\site-packages\\lightgbm\\callback.py:325: UserWarning: Early stopping is not available in dart mode\n",
      "  _log_warning('Early stopping is not available in dart mode')\n"
     ]
    },
    {
     "name": "stdout",
     "output_type": "stream",
     "text": [
      "Fold: Tuning: n_train=263581, eval_set=43930\n",
      "Tune: val_score:0.7733, std_test_score:0.00379 train_set_score:0.7979\n",
      "folds val/train: [0.7725, 0.7704, 0.7703, 0.7766, 0.7809, 0.7733, 0.7695] / [0.7982, 0.798, 0.7987, 0.7973, 0.7965, 0.7977, 0.7987], mean fold time: 17.53\n"
     ]
    },
    {
     "name": "stderr",
     "output_type": "stream",
     "text": [
      "[I 2024-04-20 19:42:23,362] Trial 68 finished with value: 0.7733470784569121 and parameters: {'model__n_estimators': 850, 'model__learning_rate': 0.23, 'model__max_depth': 4, 'model__num_leaves': 224, 'model__min_gain_to_split': 11.5, 'model__min_data_in_leaf': 2700, 'model__lambda_l1': 75, 'model__lambda_l2': 50, 'model__bagging_fraction': 0.2, 'model__feature_fraction': 0.7, 'model__max_bin': 450}. Best is trial 66 with value: 0.7765879174187701.\n",
      "C:\\Users\\Paulius\\AppData\\Local\\pypoetry\\Cache\\virtualenvs\\ppuodz-ml-4-1-dqELbViF-py3.12\\Lib\\site-packages\\lightgbm\\callback.py:325: UserWarning: Early stopping is not available in dart mode\n",
      "  _log_warning('Early stopping is not available in dart mode')\n"
     ]
    },
    {
     "name": "stdout",
     "output_type": "stream",
     "text": [
      "Fold: Tuning: n_train=263580, eval_set=43931\n"
     ]
    },
    {
     "name": "stderr",
     "output_type": "stream",
     "text": [
      "C:\\Users\\Paulius\\AppData\\Local\\pypoetry\\Cache\\virtualenvs\\ppuodz-ml-4-1-dqELbViF-py3.12\\Lib\\site-packages\\lightgbm\\callback.py:325: UserWarning: Early stopping is not available in dart mode\n",
      "  _log_warning('Early stopping is not available in dart mode')\n"
     ]
    },
    {
     "name": "stdout",
     "output_type": "stream",
     "text": [
      "Fold: Tuning: n_train=263581, eval_set=43930\n"
     ]
    },
    {
     "name": "stderr",
     "output_type": "stream",
     "text": [
      "C:\\Users\\Paulius\\AppData\\Local\\pypoetry\\Cache\\virtualenvs\\ppuodz-ml-4-1-dqELbViF-py3.12\\Lib\\site-packages\\lightgbm\\callback.py:325: UserWarning: Early stopping is not available in dart mode\n",
      "  _log_warning('Early stopping is not available in dart mode')\n"
     ]
    },
    {
     "name": "stdout",
     "output_type": "stream",
     "text": [
      "Fold: Tuning: n_train=263581, eval_set=43930\n"
     ]
    },
    {
     "name": "stderr",
     "output_type": "stream",
     "text": [
      "C:\\Users\\Paulius\\AppData\\Local\\pypoetry\\Cache\\virtualenvs\\ppuodz-ml-4-1-dqELbViF-py3.12\\Lib\\site-packages\\lightgbm\\callback.py:325: UserWarning: Early stopping is not available in dart mode\n",
      "  _log_warning('Early stopping is not available in dart mode')\n"
     ]
    },
    {
     "name": "stdout",
     "output_type": "stream",
     "text": [
      "Fold: Tuning: n_train=263581, eval_set=43930\n"
     ]
    },
    {
     "name": "stderr",
     "output_type": "stream",
     "text": [
      "C:\\Users\\Paulius\\AppData\\Local\\pypoetry\\Cache\\virtualenvs\\ppuodz-ml-4-1-dqELbViF-py3.12\\Lib\\site-packages\\lightgbm\\callback.py:325: UserWarning: Early stopping is not available in dart mode\n",
      "  _log_warning('Early stopping is not available in dart mode')\n"
     ]
    },
    {
     "name": "stdout",
     "output_type": "stream",
     "text": [
      "Fold: Tuning: n_train=263581, eval_set=43930\n"
     ]
    },
    {
     "name": "stderr",
     "output_type": "stream",
     "text": [
      "C:\\Users\\Paulius\\AppData\\Local\\pypoetry\\Cache\\virtualenvs\\ppuodz-ml-4-1-dqELbViF-py3.12\\Lib\\site-packages\\lightgbm\\callback.py:325: UserWarning: Early stopping is not available in dart mode\n",
      "  _log_warning('Early stopping is not available in dart mode')\n"
     ]
    },
    {
     "name": "stdout",
     "output_type": "stream",
     "text": [
      "Fold: Tuning: n_train=263581, eval_set=43930\n"
     ]
    },
    {
     "name": "stderr",
     "output_type": "stream",
     "text": [
      "C:\\Users\\Paulius\\AppData\\Local\\pypoetry\\Cache\\virtualenvs\\ppuodz-ml-4-1-dqELbViF-py3.12\\Lib\\site-packages\\lightgbm\\callback.py:325: UserWarning: Early stopping is not available in dart mode\n",
      "  _log_warning('Early stopping is not available in dart mode')\n"
     ]
    },
    {
     "name": "stdout",
     "output_type": "stream",
     "text": [
      "Fold: Tuning: n_train=263581, eval_set=43930\n",
      "Tune: val_score:0.7756, std_test_score:0.00358 train_set_score:0.8259\n",
      "folds val/train: [0.7747, 0.7726, 0.772, 0.7776, 0.7833, 0.7755, 0.7737] / [0.825, 0.8263, 0.8265, 0.8257, 0.8244, 0.8259, 0.8273], mean fold time: 24.30\n"
     ]
    },
    {
     "name": "stderr",
     "output_type": "stream",
     "text": [
      "[I 2024-04-20 19:45:14,268] Trial 69 finished with value: 0.7756286330417155 and parameters: {'model__n_estimators': 900, 'model__learning_rate': 0.14, 'model__max_depth': 5, 'model__num_leaves': 192, 'model__min_gain_to_split': 1.5, 'model__min_data_in_leaf': 2500, 'model__lambda_l1': 60, 'model__lambda_l2': 65, 'model__bagging_fraction': 0.30000000000000004, 'model__feature_fraction': 0.5, 'model__max_bin': 425}. Best is trial 66 with value: 0.7765879174187701.\n",
      "C:\\Users\\Paulius\\AppData\\Local\\pypoetry\\Cache\\virtualenvs\\ppuodz-ml-4-1-dqELbViF-py3.12\\Lib\\site-packages\\lightgbm\\callback.py:325: UserWarning: Early stopping is not available in dart mode\n",
      "  _log_warning('Early stopping is not available in dart mode')\n"
     ]
    },
    {
     "name": "stdout",
     "output_type": "stream",
     "text": [
      "Fold: Tuning: n_train=263580, eval_set=43931\n"
     ]
    },
    {
     "name": "stderr",
     "output_type": "stream",
     "text": [
      "C:\\Users\\Paulius\\AppData\\Local\\pypoetry\\Cache\\virtualenvs\\ppuodz-ml-4-1-dqELbViF-py3.12\\Lib\\site-packages\\lightgbm\\callback.py:325: UserWarning: Early stopping is not available in dart mode\n",
      "  _log_warning('Early stopping is not available in dart mode')\n"
     ]
    },
    {
     "name": "stdout",
     "output_type": "stream",
     "text": [
      "Fold: Tuning: n_train=263581, eval_set=43930\n"
     ]
    },
    {
     "name": "stderr",
     "output_type": "stream",
     "text": [
      "C:\\Users\\Paulius\\AppData\\Local\\pypoetry\\Cache\\virtualenvs\\ppuodz-ml-4-1-dqELbViF-py3.12\\Lib\\site-packages\\lightgbm\\callback.py:325: UserWarning: Early stopping is not available in dart mode\n",
      "  _log_warning('Early stopping is not available in dart mode')\n"
     ]
    },
    {
     "name": "stdout",
     "output_type": "stream",
     "text": [
      "Fold: Tuning: n_train=263581, eval_set=43930\n"
     ]
    },
    {
     "name": "stderr",
     "output_type": "stream",
     "text": [
      "C:\\Users\\Paulius\\AppData\\Local\\pypoetry\\Cache\\virtualenvs\\ppuodz-ml-4-1-dqELbViF-py3.12\\Lib\\site-packages\\lightgbm\\callback.py:325: UserWarning: Early stopping is not available in dart mode\n",
      "  _log_warning('Early stopping is not available in dart mode')\n"
     ]
    },
    {
     "name": "stdout",
     "output_type": "stream",
     "text": [
      "Fold: Tuning: n_train=263581, eval_set=43930\n"
     ]
    },
    {
     "name": "stderr",
     "output_type": "stream",
     "text": [
      "C:\\Users\\Paulius\\AppData\\Local\\pypoetry\\Cache\\virtualenvs\\ppuodz-ml-4-1-dqELbViF-py3.12\\Lib\\site-packages\\lightgbm\\callback.py:325: UserWarning: Early stopping is not available in dart mode\n",
      "  _log_warning('Early stopping is not available in dart mode')\n"
     ]
    },
    {
     "name": "stdout",
     "output_type": "stream",
     "text": [
      "Fold: Tuning: n_train=263581, eval_set=43930\n"
     ]
    },
    {
     "name": "stderr",
     "output_type": "stream",
     "text": [
      "C:\\Users\\Paulius\\AppData\\Local\\pypoetry\\Cache\\virtualenvs\\ppuodz-ml-4-1-dqELbViF-py3.12\\Lib\\site-packages\\lightgbm\\callback.py:325: UserWarning: Early stopping is not available in dart mode\n",
      "  _log_warning('Early stopping is not available in dart mode')\n"
     ]
    },
    {
     "name": "stdout",
     "output_type": "stream",
     "text": [
      "Fold: Tuning: n_train=263581, eval_set=43930\n"
     ]
    },
    {
     "name": "stderr",
     "output_type": "stream",
     "text": [
      "C:\\Users\\Paulius\\AppData\\Local\\pypoetry\\Cache\\virtualenvs\\ppuodz-ml-4-1-dqELbViF-py3.12\\Lib\\site-packages\\lightgbm\\callback.py:325: UserWarning: Early stopping is not available in dart mode\n",
      "  _log_warning('Early stopping is not available in dart mode')\n"
     ]
    },
    {
     "name": "stdout",
     "output_type": "stream",
     "text": [
      "Fold: Tuning: n_train=263581, eval_set=43930\n",
      "Tune: val_score:0.7713, std_test_score:0.00351 train_set_score:0.7980\n",
      "folds val/train: [0.7718, 0.7676, 0.7684, 0.7742, 0.7781, 0.7708, 0.7683] / [0.7978, 0.7985, 0.7986, 0.7983, 0.7968, 0.798, 0.7983], mean fold time: 9.45\n"
     ]
    },
    {
     "name": "stderr",
     "output_type": "stream",
     "text": [
      "[I 2024-04-20 19:46:21,228] Trial 70 finished with value: 0.7713113124866682 and parameters: {'model__n_estimators': 500, 'model__learning_rate': 0.17, 'model__max_depth': 4, 'model__num_leaves': 176, 'model__min_gain_to_split': 2.5, 'model__min_data_in_leaf': 2300, 'model__lambda_l1': 70, 'model__lambda_l2': 50, 'model__bagging_fraction': 0.2, 'model__feature_fraction': 0.8, 'model__max_bin': 200}. Best is trial 66 with value: 0.7765879174187701.\n",
      "C:\\Users\\Paulius\\AppData\\Local\\pypoetry\\Cache\\virtualenvs\\ppuodz-ml-4-1-dqELbViF-py3.12\\Lib\\site-packages\\lightgbm\\callback.py:325: UserWarning: Early stopping is not available in dart mode\n",
      "  _log_warning('Early stopping is not available in dart mode')\n"
     ]
    },
    {
     "name": "stdout",
     "output_type": "stream",
     "text": [
      "Fold: Tuning: n_train=263580, eval_set=43931\n"
     ]
    },
    {
     "name": "stderr",
     "output_type": "stream",
     "text": [
      "C:\\Users\\Paulius\\AppData\\Local\\pypoetry\\Cache\\virtualenvs\\ppuodz-ml-4-1-dqELbViF-py3.12\\Lib\\site-packages\\lightgbm\\callback.py:325: UserWarning: Early stopping is not available in dart mode\n",
      "  _log_warning('Early stopping is not available in dart mode')\n"
     ]
    },
    {
     "name": "stdout",
     "output_type": "stream",
     "text": [
      "Fold: Tuning: n_train=263581, eval_set=43930\n"
     ]
    },
    {
     "name": "stderr",
     "output_type": "stream",
     "text": [
      "C:\\Users\\Paulius\\AppData\\Local\\pypoetry\\Cache\\virtualenvs\\ppuodz-ml-4-1-dqELbViF-py3.12\\Lib\\site-packages\\lightgbm\\callback.py:325: UserWarning: Early stopping is not available in dart mode\n",
      "  _log_warning('Early stopping is not available in dart mode')\n"
     ]
    },
    {
     "name": "stdout",
     "output_type": "stream",
     "text": [
      "Fold: Tuning: n_train=263581, eval_set=43930\n"
     ]
    },
    {
     "name": "stderr",
     "output_type": "stream",
     "text": [
      "C:\\Users\\Paulius\\AppData\\Local\\pypoetry\\Cache\\virtualenvs\\ppuodz-ml-4-1-dqELbViF-py3.12\\Lib\\site-packages\\lightgbm\\callback.py:325: UserWarning: Early stopping is not available in dart mode\n",
      "  _log_warning('Early stopping is not available in dart mode')\n"
     ]
    },
    {
     "name": "stdout",
     "output_type": "stream",
     "text": [
      "Fold: Tuning: n_train=263581, eval_set=43930\n"
     ]
    },
    {
     "name": "stderr",
     "output_type": "stream",
     "text": [
      "C:\\Users\\Paulius\\AppData\\Local\\pypoetry\\Cache\\virtualenvs\\ppuodz-ml-4-1-dqELbViF-py3.12\\Lib\\site-packages\\lightgbm\\callback.py:325: UserWarning: Early stopping is not available in dart mode\n",
      "  _log_warning('Early stopping is not available in dart mode')\n"
     ]
    },
    {
     "name": "stdout",
     "output_type": "stream",
     "text": [
      "Fold: Tuning: n_train=263581, eval_set=43930\n"
     ]
    },
    {
     "name": "stderr",
     "output_type": "stream",
     "text": [
      "C:\\Users\\Paulius\\AppData\\Local\\pypoetry\\Cache\\virtualenvs\\ppuodz-ml-4-1-dqELbViF-py3.12\\Lib\\site-packages\\lightgbm\\callback.py:325: UserWarning: Early stopping is not available in dart mode\n",
      "  _log_warning('Early stopping is not available in dart mode')\n"
     ]
    },
    {
     "name": "stdout",
     "output_type": "stream",
     "text": [
      "Fold: Tuning: n_train=263581, eval_set=43930\n"
     ]
    },
    {
     "name": "stderr",
     "output_type": "stream",
     "text": [
      "C:\\Users\\Paulius\\AppData\\Local\\pypoetry\\Cache\\virtualenvs\\ppuodz-ml-4-1-dqELbViF-py3.12\\Lib\\site-packages\\lightgbm\\callback.py:325: UserWarning: Early stopping is not available in dart mode\n",
      "  _log_warning('Early stopping is not available in dart mode')\n"
     ]
    },
    {
     "name": "stdout",
     "output_type": "stream",
     "text": [
      "Fold: Tuning: n_train=263581, eval_set=43930\n",
      "Tune: val_score:0.7763, std_test_score:0.00353 train_set_score:0.8231\n",
      "folds val/train: [0.7761, 0.7729, 0.7729, 0.7788, 0.7833, 0.7765, 0.7733] / [0.8236, 0.824, 0.8242, 0.8219, 0.8213, 0.8226, 0.824], mean fold time: 25.22\n"
     ]
    },
    {
     "name": "stderr",
     "output_type": "stream",
     "text": [
      "[I 2024-04-20 19:49:18,567] Trial 71 finished with value: 0.7762583822745109 and parameters: {'model__n_estimators': 950, 'model__learning_rate': 0.19, 'model__max_depth': 5, 'model__num_leaves': 160, 'model__min_gain_to_split': 4.5, 'model__min_data_in_leaf': 2600, 'model__lambda_l1': 55, 'model__lambda_l2': 55, 'model__bagging_fraction': 0.2, 'model__feature_fraction': 0.7, 'model__max_bin': 500}. Best is trial 66 with value: 0.7765879174187701.\n",
      "C:\\Users\\Paulius\\AppData\\Local\\pypoetry\\Cache\\virtualenvs\\ppuodz-ml-4-1-dqELbViF-py3.12\\Lib\\site-packages\\lightgbm\\callback.py:325: UserWarning: Early stopping is not available in dart mode\n",
      "  _log_warning('Early stopping is not available in dart mode')\n"
     ]
    },
    {
     "name": "stdout",
     "output_type": "stream",
     "text": [
      "Fold: Tuning: n_train=263580, eval_set=43931\n"
     ]
    },
    {
     "name": "stderr",
     "output_type": "stream",
     "text": [
      "C:\\Users\\Paulius\\AppData\\Local\\pypoetry\\Cache\\virtualenvs\\ppuodz-ml-4-1-dqELbViF-py3.12\\Lib\\site-packages\\lightgbm\\callback.py:325: UserWarning: Early stopping is not available in dart mode\n",
      "  _log_warning('Early stopping is not available in dart mode')\n"
     ]
    },
    {
     "name": "stdout",
     "output_type": "stream",
     "text": [
      "Fold: Tuning: n_train=263581, eval_set=43930\n"
     ]
    },
    {
     "name": "stderr",
     "output_type": "stream",
     "text": [
      "C:\\Users\\Paulius\\AppData\\Local\\pypoetry\\Cache\\virtualenvs\\ppuodz-ml-4-1-dqELbViF-py3.12\\Lib\\site-packages\\lightgbm\\callback.py:325: UserWarning: Early stopping is not available in dart mode\n",
      "  _log_warning('Early stopping is not available in dart mode')\n"
     ]
    },
    {
     "name": "stdout",
     "output_type": "stream",
     "text": [
      "Fold: Tuning: n_train=263581, eval_set=43930\n"
     ]
    },
    {
     "name": "stderr",
     "output_type": "stream",
     "text": [
      "C:\\Users\\Paulius\\AppData\\Local\\pypoetry\\Cache\\virtualenvs\\ppuodz-ml-4-1-dqELbViF-py3.12\\Lib\\site-packages\\lightgbm\\callback.py:325: UserWarning: Early stopping is not available in dart mode\n",
      "  _log_warning('Early stopping is not available in dart mode')\n"
     ]
    },
    {
     "name": "stdout",
     "output_type": "stream",
     "text": [
      "Fold: Tuning: n_train=263581, eval_set=43930\n"
     ]
    },
    {
     "name": "stderr",
     "output_type": "stream",
     "text": [
      "C:\\Users\\Paulius\\AppData\\Local\\pypoetry\\Cache\\virtualenvs\\ppuodz-ml-4-1-dqELbViF-py3.12\\Lib\\site-packages\\lightgbm\\callback.py:325: UserWarning: Early stopping is not available in dart mode\n",
      "  _log_warning('Early stopping is not available in dart mode')\n"
     ]
    },
    {
     "name": "stdout",
     "output_type": "stream",
     "text": [
      "Fold: Tuning: n_train=263581, eval_set=43930\n"
     ]
    },
    {
     "name": "stderr",
     "output_type": "stream",
     "text": [
      "C:\\Users\\Paulius\\AppData\\Local\\pypoetry\\Cache\\virtualenvs\\ppuodz-ml-4-1-dqELbViF-py3.12\\Lib\\site-packages\\lightgbm\\callback.py:325: UserWarning: Early stopping is not available in dart mode\n",
      "  _log_warning('Early stopping is not available in dart mode')\n"
     ]
    },
    {
     "name": "stdout",
     "output_type": "stream",
     "text": [
      "Fold: Tuning: n_train=263581, eval_set=43930\n"
     ]
    },
    {
     "name": "stderr",
     "output_type": "stream",
     "text": [
      "C:\\Users\\Paulius\\AppData\\Local\\pypoetry\\Cache\\virtualenvs\\ppuodz-ml-4-1-dqELbViF-py3.12\\Lib\\site-packages\\lightgbm\\callback.py:325: UserWarning: Early stopping is not available in dart mode\n",
      "  _log_warning('Early stopping is not available in dart mode')\n"
     ]
    },
    {
     "name": "stdout",
     "output_type": "stream",
     "text": [
      "Fold: Tuning: n_train=263581, eval_set=43930\n",
      "Tune: val_score:0.7764, std_test_score:0.00344 train_set_score:0.8245\n",
      "folds val/train: [0.7755, 0.7735, 0.7724, 0.7795, 0.7827, 0.7775, 0.7738] / [0.8243, 0.8245, 0.8257, 0.8243, 0.8233, 0.8238, 0.8254], mean fold time: 25.23\n"
     ]
    },
    {
     "name": "stderr",
     "output_type": "stream",
     "text": [
      "[I 2024-04-20 19:52:15,989] Trial 72 finished with value: 0.776408772068222 and parameters: {'model__n_estimators': 950, 'model__learning_rate': 0.2, 'model__max_depth': 5, 'model__num_leaves': 184, 'model__min_gain_to_split': 3.5, 'model__min_data_in_leaf': 2600, 'model__lambda_l1': 65, 'model__lambda_l2': 40, 'model__bagging_fraction': 0.2, 'model__feature_fraction': 0.7, 'model__max_bin': 475}. Best is trial 66 with value: 0.7765879174187701.\n",
      "C:\\Users\\Paulius\\AppData\\Local\\pypoetry\\Cache\\virtualenvs\\ppuodz-ml-4-1-dqELbViF-py3.12\\Lib\\site-packages\\lightgbm\\callback.py:325: UserWarning: Early stopping is not available in dart mode\n",
      "  _log_warning('Early stopping is not available in dart mode')\n"
     ]
    },
    {
     "name": "stdout",
     "output_type": "stream",
     "text": [
      "Fold: Tuning: n_train=263580, eval_set=43931\n"
     ]
    },
    {
     "name": "stderr",
     "output_type": "stream",
     "text": [
      "C:\\Users\\Paulius\\AppData\\Local\\pypoetry\\Cache\\virtualenvs\\ppuodz-ml-4-1-dqELbViF-py3.12\\Lib\\site-packages\\lightgbm\\callback.py:325: UserWarning: Early stopping is not available in dart mode\n",
      "  _log_warning('Early stopping is not available in dart mode')\n"
     ]
    },
    {
     "name": "stdout",
     "output_type": "stream",
     "text": [
      "Fold: Tuning: n_train=263581, eval_set=43930\n"
     ]
    },
    {
     "name": "stderr",
     "output_type": "stream",
     "text": [
      "C:\\Users\\Paulius\\AppData\\Local\\pypoetry\\Cache\\virtualenvs\\ppuodz-ml-4-1-dqELbViF-py3.12\\Lib\\site-packages\\lightgbm\\callback.py:325: UserWarning: Early stopping is not available in dart mode\n",
      "  _log_warning('Early stopping is not available in dart mode')\n"
     ]
    },
    {
     "name": "stdout",
     "output_type": "stream",
     "text": [
      "Fold: Tuning: n_train=263581, eval_set=43930\n"
     ]
    },
    {
     "name": "stderr",
     "output_type": "stream",
     "text": [
      "C:\\Users\\Paulius\\AppData\\Local\\pypoetry\\Cache\\virtualenvs\\ppuodz-ml-4-1-dqELbViF-py3.12\\Lib\\site-packages\\lightgbm\\callback.py:325: UserWarning: Early stopping is not available in dart mode\n",
      "  _log_warning('Early stopping is not available in dart mode')\n"
     ]
    },
    {
     "name": "stdout",
     "output_type": "stream",
     "text": [
      "Fold: Tuning: n_train=263581, eval_set=43930\n"
     ]
    },
    {
     "name": "stderr",
     "output_type": "stream",
     "text": [
      "C:\\Users\\Paulius\\AppData\\Local\\pypoetry\\Cache\\virtualenvs\\ppuodz-ml-4-1-dqELbViF-py3.12\\Lib\\site-packages\\lightgbm\\callback.py:325: UserWarning: Early stopping is not available in dart mode\n",
      "  _log_warning('Early stopping is not available in dart mode')\n"
     ]
    },
    {
     "name": "stdout",
     "output_type": "stream",
     "text": [
      "Fold: Tuning: n_train=263581, eval_set=43930\n"
     ]
    },
    {
     "name": "stderr",
     "output_type": "stream",
     "text": [
      "C:\\Users\\Paulius\\AppData\\Local\\pypoetry\\Cache\\virtualenvs\\ppuodz-ml-4-1-dqELbViF-py3.12\\Lib\\site-packages\\lightgbm\\callback.py:325: UserWarning: Early stopping is not available in dart mode\n",
      "  _log_warning('Early stopping is not available in dart mode')\n"
     ]
    },
    {
     "name": "stdout",
     "output_type": "stream",
     "text": [
      "Fold: Tuning: n_train=263581, eval_set=43930\n"
     ]
    },
    {
     "name": "stderr",
     "output_type": "stream",
     "text": [
      "C:\\Users\\Paulius\\AppData\\Local\\pypoetry\\Cache\\virtualenvs\\ppuodz-ml-4-1-dqELbViF-py3.12\\Lib\\site-packages\\lightgbm\\callback.py:325: UserWarning: Early stopping is not available in dart mode\n",
      "  _log_warning('Early stopping is not available in dart mode')\n"
     ]
    },
    {
     "name": "stdout",
     "output_type": "stream",
     "text": [
      "Fold: Tuning: n_train=263581, eval_set=43930\n",
      "Tune: val_score:0.7747, std_test_score:0.00357 train_set_score:0.8023\n",
      "folds val/train: [0.7752, 0.7711, 0.772, 0.7778, 0.7813, 0.7748, 0.7707] / [0.8025, 0.8019, 0.8032, 0.8024, 0.801, 0.8024, 0.8025], mean fold time: 16.35\n"
     ]
    },
    {
     "name": "stderr",
     "output_type": "stream",
     "text": [
      "[I 2024-04-20 19:54:11,225] Trial 73 finished with value: 0.7747027883577191 and parameters: {'model__n_estimators': 950, 'model__learning_rate': 0.21000000000000002, 'model__max_depth': 3, 'model__num_leaves': 216, 'model__min_gain_to_split': 4.0, 'model__min_data_in_leaf': 2700, 'model__lambda_l1': 65, 'model__lambda_l2': 45, 'model__bagging_fraction': 0.30000000000000004, 'model__feature_fraction': 0.6000000000000001, 'model__max_bin': 475}. Best is trial 66 with value: 0.7765879174187701.\n",
      "C:\\Users\\Paulius\\AppData\\Local\\pypoetry\\Cache\\virtualenvs\\ppuodz-ml-4-1-dqELbViF-py3.12\\Lib\\site-packages\\lightgbm\\callback.py:325: UserWarning: Early stopping is not available in dart mode\n",
      "  _log_warning('Early stopping is not available in dart mode')\n"
     ]
    },
    {
     "name": "stdout",
     "output_type": "stream",
     "text": [
      "Fold: Tuning: n_train=263580, eval_set=43931\n"
     ]
    },
    {
     "name": "stderr",
     "output_type": "stream",
     "text": [
      "C:\\Users\\Paulius\\AppData\\Local\\pypoetry\\Cache\\virtualenvs\\ppuodz-ml-4-1-dqELbViF-py3.12\\Lib\\site-packages\\lightgbm\\callback.py:325: UserWarning: Early stopping is not available in dart mode\n",
      "  _log_warning('Early stopping is not available in dart mode')\n"
     ]
    },
    {
     "name": "stdout",
     "output_type": "stream",
     "text": [
      "Fold: Tuning: n_train=263581, eval_set=43930\n"
     ]
    },
    {
     "name": "stderr",
     "output_type": "stream",
     "text": [
      "C:\\Users\\Paulius\\AppData\\Local\\pypoetry\\Cache\\virtualenvs\\ppuodz-ml-4-1-dqELbViF-py3.12\\Lib\\site-packages\\lightgbm\\callback.py:325: UserWarning: Early stopping is not available in dart mode\n",
      "  _log_warning('Early stopping is not available in dart mode')\n"
     ]
    },
    {
     "name": "stdout",
     "output_type": "stream",
     "text": [
      "Fold: Tuning: n_train=263581, eval_set=43930\n"
     ]
    },
    {
     "name": "stderr",
     "output_type": "stream",
     "text": [
      "C:\\Users\\Paulius\\AppData\\Local\\pypoetry\\Cache\\virtualenvs\\ppuodz-ml-4-1-dqELbViF-py3.12\\Lib\\site-packages\\lightgbm\\callback.py:325: UserWarning: Early stopping is not available in dart mode\n",
      "  _log_warning('Early stopping is not available in dart mode')\n"
     ]
    },
    {
     "name": "stdout",
     "output_type": "stream",
     "text": [
      "Fold: Tuning: n_train=263581, eval_set=43930\n"
     ]
    },
    {
     "name": "stderr",
     "output_type": "stream",
     "text": [
      "C:\\Users\\Paulius\\AppData\\Local\\pypoetry\\Cache\\virtualenvs\\ppuodz-ml-4-1-dqELbViF-py3.12\\Lib\\site-packages\\lightgbm\\callback.py:325: UserWarning: Early stopping is not available in dart mode\n",
      "  _log_warning('Early stopping is not available in dart mode')\n"
     ]
    },
    {
     "name": "stdout",
     "output_type": "stream",
     "text": [
      "Fold: Tuning: n_train=263581, eval_set=43930\n"
     ]
    },
    {
     "name": "stderr",
     "output_type": "stream",
     "text": [
      "C:\\Users\\Paulius\\AppData\\Local\\pypoetry\\Cache\\virtualenvs\\ppuodz-ml-4-1-dqELbViF-py3.12\\Lib\\site-packages\\lightgbm\\callback.py:325: UserWarning: Early stopping is not available in dart mode\n",
      "  _log_warning('Early stopping is not available in dart mode')\n"
     ]
    },
    {
     "name": "stdout",
     "output_type": "stream",
     "text": [
      "Fold: Tuning: n_train=263581, eval_set=43930\n"
     ]
    },
    {
     "name": "stderr",
     "output_type": "stream",
     "text": [
      "C:\\Users\\Paulius\\AppData\\Local\\pypoetry\\Cache\\virtualenvs\\ppuodz-ml-4-1-dqELbViF-py3.12\\Lib\\site-packages\\lightgbm\\callback.py:325: UserWarning: Early stopping is not available in dart mode\n",
      "  _log_warning('Early stopping is not available in dart mode')\n"
     ]
    },
    {
     "name": "stdout",
     "output_type": "stream",
     "text": [
      "Fold: Tuning: n_train=263581, eval_set=43930\n",
      "Tune: val_score:0.7767, std_test_score:0.00327 train_set_score:0.8310\n",
      "folds val/train: [0.7764, 0.7739, 0.7736, 0.7799, 0.7829, 0.7767, 0.7738] / [0.8306, 0.8325, 0.8316, 0.831, 0.8284, 0.8321, 0.8307], mean fold time: 23.57\n"
     ]
    },
    {
     "name": "stderr",
     "output_type": "stream",
     "text": [
      "[I 2024-04-20 19:56:57,038] Trial 74 finished with value: 0.7767466861525171 and parameters: {'model__n_estimators': 900, 'model__learning_rate': 0.2, 'model__max_depth': 5, 'model__num_leaves': 184, 'model__min_gain_to_split': 2.0, 'model__min_data_in_leaf': 2500, 'model__lambda_l1': 75, 'model__lambda_l2': 40, 'model__bagging_fraction': 0.2, 'model__feature_fraction': 0.7, 'model__max_bin': 450}. Best is trial 74 with value: 0.7767466861525171.\n",
      "C:\\Users\\Paulius\\AppData\\Local\\pypoetry\\Cache\\virtualenvs\\ppuodz-ml-4-1-dqELbViF-py3.12\\Lib\\site-packages\\lightgbm\\callback.py:325: UserWarning: Early stopping is not available in dart mode\n",
      "  _log_warning('Early stopping is not available in dart mode')\n"
     ]
    },
    {
     "name": "stdout",
     "output_type": "stream",
     "text": [
      "Fold: Tuning: n_train=263580, eval_set=43931\n"
     ]
    },
    {
     "name": "stderr",
     "output_type": "stream",
     "text": [
      "C:\\Users\\Paulius\\AppData\\Local\\pypoetry\\Cache\\virtualenvs\\ppuodz-ml-4-1-dqELbViF-py3.12\\Lib\\site-packages\\lightgbm\\callback.py:325: UserWarning: Early stopping is not available in dart mode\n",
      "  _log_warning('Early stopping is not available in dart mode')\n"
     ]
    },
    {
     "name": "stdout",
     "output_type": "stream",
     "text": [
      "Fold: Tuning: n_train=263581, eval_set=43930\n"
     ]
    },
    {
     "name": "stderr",
     "output_type": "stream",
     "text": [
      "C:\\Users\\Paulius\\AppData\\Local\\pypoetry\\Cache\\virtualenvs\\ppuodz-ml-4-1-dqELbViF-py3.12\\Lib\\site-packages\\lightgbm\\callback.py:325: UserWarning: Early stopping is not available in dart mode\n",
      "  _log_warning('Early stopping is not available in dart mode')\n"
     ]
    },
    {
     "name": "stdout",
     "output_type": "stream",
     "text": [
      "Fold: Tuning: n_train=263581, eval_set=43930\n"
     ]
    },
    {
     "name": "stderr",
     "output_type": "stream",
     "text": [
      "C:\\Users\\Paulius\\AppData\\Local\\pypoetry\\Cache\\virtualenvs\\ppuodz-ml-4-1-dqELbViF-py3.12\\Lib\\site-packages\\lightgbm\\callback.py:325: UserWarning: Early stopping is not available in dart mode\n",
      "  _log_warning('Early stopping is not available in dart mode')\n"
     ]
    },
    {
     "name": "stdout",
     "output_type": "stream",
     "text": [
      "Fold: Tuning: n_train=263581, eval_set=43930\n"
     ]
    },
    {
     "name": "stderr",
     "output_type": "stream",
     "text": [
      "C:\\Users\\Paulius\\AppData\\Local\\pypoetry\\Cache\\virtualenvs\\ppuodz-ml-4-1-dqELbViF-py3.12\\Lib\\site-packages\\lightgbm\\callback.py:325: UserWarning: Early stopping is not available in dart mode\n",
      "  _log_warning('Early stopping is not available in dart mode')\n"
     ]
    },
    {
     "name": "stdout",
     "output_type": "stream",
     "text": [
      "Fold: Tuning: n_train=263581, eval_set=43930\n"
     ]
    },
    {
     "name": "stderr",
     "output_type": "stream",
     "text": [
      "C:\\Users\\Paulius\\AppData\\Local\\pypoetry\\Cache\\virtualenvs\\ppuodz-ml-4-1-dqELbViF-py3.12\\Lib\\site-packages\\lightgbm\\callback.py:325: UserWarning: Early stopping is not available in dart mode\n",
      "  _log_warning('Early stopping is not available in dart mode')\n"
     ]
    },
    {
     "name": "stdout",
     "output_type": "stream",
     "text": [
      "Fold: Tuning: n_train=263581, eval_set=43930\n"
     ]
    },
    {
     "name": "stderr",
     "output_type": "stream",
     "text": [
      "C:\\Users\\Paulius\\AppData\\Local\\pypoetry\\Cache\\virtualenvs\\ppuodz-ml-4-1-dqELbViF-py3.12\\Lib\\site-packages\\lightgbm\\callback.py:325: UserWarning: Early stopping is not available in dart mode\n",
      "  _log_warning('Early stopping is not available in dart mode')\n"
     ]
    },
    {
     "name": "stdout",
     "output_type": "stream",
     "text": [
      "Fold: Tuning: n_train=263581, eval_set=43930\n",
      "Tune: val_score:0.7766, std_test_score:0.00358 train_set_score:0.8318\n",
      "folds val/train: [0.7763, 0.7735, 0.7732, 0.779, 0.784, 0.7764, 0.7737] / [0.8311, 0.8319, 0.834, 0.8315, 0.8298, 0.8312, 0.8332], mean fold time: 23.55\n"
     ]
    },
    {
     "name": "stderr",
     "output_type": "stream",
     "text": [
      "[I 2024-04-20 19:59:42,700] Trial 75 finished with value: 0.776592673058957 and parameters: {'model__n_estimators': 900, 'model__learning_rate': 0.24000000000000002, 'model__max_depth': 5, 'model__num_leaves': 184, 'model__min_gain_to_split': 2.0, 'model__min_data_in_leaf': 2400, 'model__lambda_l1': 75, 'model__lambda_l2': 40, 'model__bagging_fraction': 0.2, 'model__feature_fraction': 0.7, 'model__max_bin': 450}. Best is trial 74 with value: 0.7767466861525171.\n",
      "C:\\Users\\Paulius\\AppData\\Local\\pypoetry\\Cache\\virtualenvs\\ppuodz-ml-4-1-dqELbViF-py3.12\\Lib\\site-packages\\lightgbm\\callback.py:325: UserWarning: Early stopping is not available in dart mode\n",
      "  _log_warning('Early stopping is not available in dart mode')\n"
     ]
    },
    {
     "name": "stdout",
     "output_type": "stream",
     "text": [
      "Fold: Tuning: n_train=263580, eval_set=43931\n"
     ]
    },
    {
     "name": "stderr",
     "output_type": "stream",
     "text": [
      "C:\\Users\\Paulius\\AppData\\Local\\pypoetry\\Cache\\virtualenvs\\ppuodz-ml-4-1-dqELbViF-py3.12\\Lib\\site-packages\\lightgbm\\callback.py:325: UserWarning: Early stopping is not available in dart mode\n",
      "  _log_warning('Early stopping is not available in dart mode')\n"
     ]
    },
    {
     "name": "stdout",
     "output_type": "stream",
     "text": [
      "Fold: Tuning: n_train=263581, eval_set=43930\n"
     ]
    },
    {
     "name": "stderr",
     "output_type": "stream",
     "text": [
      "C:\\Users\\Paulius\\AppData\\Local\\pypoetry\\Cache\\virtualenvs\\ppuodz-ml-4-1-dqELbViF-py3.12\\Lib\\site-packages\\lightgbm\\callback.py:325: UserWarning: Early stopping is not available in dart mode\n",
      "  _log_warning('Early stopping is not available in dart mode')\n"
     ]
    },
    {
     "name": "stdout",
     "output_type": "stream",
     "text": [
      "Fold: Tuning: n_train=263581, eval_set=43930\n"
     ]
    },
    {
     "name": "stderr",
     "output_type": "stream",
     "text": [
      "C:\\Users\\Paulius\\AppData\\Local\\pypoetry\\Cache\\virtualenvs\\ppuodz-ml-4-1-dqELbViF-py3.12\\Lib\\site-packages\\lightgbm\\callback.py:325: UserWarning: Early stopping is not available in dart mode\n",
      "  _log_warning('Early stopping is not available in dart mode')\n"
     ]
    },
    {
     "name": "stdout",
     "output_type": "stream",
     "text": [
      "Fold: Tuning: n_train=263581, eval_set=43930\n"
     ]
    },
    {
     "name": "stderr",
     "output_type": "stream",
     "text": [
      "C:\\Users\\Paulius\\AppData\\Local\\pypoetry\\Cache\\virtualenvs\\ppuodz-ml-4-1-dqELbViF-py3.12\\Lib\\site-packages\\lightgbm\\callback.py:325: UserWarning: Early stopping is not available in dart mode\n",
      "  _log_warning('Early stopping is not available in dart mode')\n"
     ]
    },
    {
     "name": "stdout",
     "output_type": "stream",
     "text": [
      "Fold: Tuning: n_train=263581, eval_set=43930\n"
     ]
    },
    {
     "name": "stderr",
     "output_type": "stream",
     "text": [
      "C:\\Users\\Paulius\\AppData\\Local\\pypoetry\\Cache\\virtualenvs\\ppuodz-ml-4-1-dqELbViF-py3.12\\Lib\\site-packages\\lightgbm\\callback.py:325: UserWarning: Early stopping is not available in dart mode\n",
      "  _log_warning('Early stopping is not available in dart mode')\n"
     ]
    },
    {
     "name": "stdout",
     "output_type": "stream",
     "text": [
      "Fold: Tuning: n_train=263581, eval_set=43930\n"
     ]
    },
    {
     "name": "stderr",
     "output_type": "stream",
     "text": [
      "C:\\Users\\Paulius\\AppData\\Local\\pypoetry\\Cache\\virtualenvs\\ppuodz-ml-4-1-dqELbViF-py3.12\\Lib\\site-packages\\lightgbm\\callback.py:325: UserWarning: Early stopping is not available in dart mode\n",
      "  _log_warning('Early stopping is not available in dart mode')\n"
     ]
    },
    {
     "name": "stdout",
     "output_type": "stream",
     "text": [
      "Fold: Tuning: n_train=263581, eval_set=43930\n",
      "Tune: val_score:0.7755, std_test_score:0.00380 train_set_score:0.8538\n",
      "folds val/train: [0.7754, 0.7738, 0.7703, 0.7793, 0.7824, 0.7746, 0.7726] / [0.8533, 0.8536, 0.855, 0.8534, 0.8529, 0.8544, 0.8541], mean fold time: 27.27\n"
     ]
    },
    {
     "name": "stderr",
     "output_type": "stream",
     "text": [
      "[I 2024-04-20 20:02:54,403] Trial 76 finished with value: 0.7754936706726638 and parameters: {'model__n_estimators': 1000, 'model__learning_rate': 0.24000000000000002, 'model__max_depth': 5, 'model__num_leaves': 184, 'model__min_gain_to_split': 0.5, 'model__min_data_in_leaf': 2100, 'model__lambda_l1': 75, 'model__lambda_l2': 40, 'model__bagging_fraction': 0.2, 'model__feature_fraction': 0.7, 'model__max_bin': 450}. Best is trial 74 with value: 0.7767466861525171.\n",
      "C:\\Users\\Paulius\\AppData\\Local\\pypoetry\\Cache\\virtualenvs\\ppuodz-ml-4-1-dqELbViF-py3.12\\Lib\\site-packages\\lightgbm\\callback.py:325: UserWarning: Early stopping is not available in dart mode\n",
      "  _log_warning('Early stopping is not available in dart mode')\n"
     ]
    },
    {
     "name": "stdout",
     "output_type": "stream",
     "text": [
      "Fold: Tuning: n_train=263580, eval_set=43931\n"
     ]
    },
    {
     "name": "stderr",
     "output_type": "stream",
     "text": [
      "C:\\Users\\Paulius\\AppData\\Local\\pypoetry\\Cache\\virtualenvs\\ppuodz-ml-4-1-dqELbViF-py3.12\\Lib\\site-packages\\lightgbm\\callback.py:325: UserWarning: Early stopping is not available in dart mode\n",
      "  _log_warning('Early stopping is not available in dart mode')\n"
     ]
    },
    {
     "name": "stdout",
     "output_type": "stream",
     "text": [
      "Fold: Tuning: n_train=263581, eval_set=43930\n"
     ]
    },
    {
     "name": "stderr",
     "output_type": "stream",
     "text": [
      "C:\\Users\\Paulius\\AppData\\Local\\pypoetry\\Cache\\virtualenvs\\ppuodz-ml-4-1-dqELbViF-py3.12\\Lib\\site-packages\\lightgbm\\callback.py:325: UserWarning: Early stopping is not available in dart mode\n",
      "  _log_warning('Early stopping is not available in dart mode')\n"
     ]
    },
    {
     "name": "stdout",
     "output_type": "stream",
     "text": [
      "Fold: Tuning: n_train=263581, eval_set=43930\n"
     ]
    },
    {
     "name": "stderr",
     "output_type": "stream",
     "text": [
      "C:\\Users\\Paulius\\AppData\\Local\\pypoetry\\Cache\\virtualenvs\\ppuodz-ml-4-1-dqELbViF-py3.12\\Lib\\site-packages\\lightgbm\\callback.py:325: UserWarning: Early stopping is not available in dart mode\n",
      "  _log_warning('Early stopping is not available in dart mode')\n"
     ]
    },
    {
     "name": "stdout",
     "output_type": "stream",
     "text": [
      "Fold: Tuning: n_train=263581, eval_set=43930\n"
     ]
    },
    {
     "name": "stderr",
     "output_type": "stream",
     "text": [
      "C:\\Users\\Paulius\\AppData\\Local\\pypoetry\\Cache\\virtualenvs\\ppuodz-ml-4-1-dqELbViF-py3.12\\Lib\\site-packages\\lightgbm\\callback.py:325: UserWarning: Early stopping is not available in dart mode\n",
      "  _log_warning('Early stopping is not available in dart mode')\n"
     ]
    },
    {
     "name": "stdout",
     "output_type": "stream",
     "text": [
      "Fold: Tuning: n_train=263581, eval_set=43930\n"
     ]
    },
    {
     "name": "stderr",
     "output_type": "stream",
     "text": [
      "C:\\Users\\Paulius\\AppData\\Local\\pypoetry\\Cache\\virtualenvs\\ppuodz-ml-4-1-dqELbViF-py3.12\\Lib\\site-packages\\lightgbm\\callback.py:325: UserWarning: Early stopping is not available in dart mode\n",
      "  _log_warning('Early stopping is not available in dart mode')\n"
     ]
    },
    {
     "name": "stdout",
     "output_type": "stream",
     "text": [
      "Fold: Tuning: n_train=263581, eval_set=43930\n"
     ]
    },
    {
     "name": "stderr",
     "output_type": "stream",
     "text": [
      "C:\\Users\\Paulius\\AppData\\Local\\pypoetry\\Cache\\virtualenvs\\ppuodz-ml-4-1-dqELbViF-py3.12\\Lib\\site-packages\\lightgbm\\callback.py:325: UserWarning: Early stopping is not available in dart mode\n",
      "  _log_warning('Early stopping is not available in dart mode')\n"
     ]
    },
    {
     "name": "stdout",
     "output_type": "stream",
     "text": [
      "Fold: Tuning: n_train=263581, eval_set=43930\n",
      "Tune: val_score:0.7698, std_test_score:0.00362 train_set_score:0.7983\n",
      "folds val/train: [0.7699, 0.766, 0.7665, 0.7729, 0.7767, 0.7698, 0.7668] / [0.7978, 0.7989, 0.7987, 0.7979, 0.7976, 0.7982, 0.7989], mean fold time: 4.81\n"
     ]
    },
    {
     "name": "stderr",
     "output_type": "stream",
     "text": [
      "[I 2024-04-20 20:03:28,870] Trial 77 finished with value: 0.7698086978030112 and parameters: {'model__n_estimators': 250, 'model__learning_rate': 0.21000000000000002, 'model__max_depth': 5, 'model__num_leaves': 200, 'model__min_gain_to_split': 2.0, 'model__min_data_in_leaf': 2300, 'model__lambda_l1': 85, 'model__lambda_l2': 35, 'model__bagging_fraction': 0.2, 'model__feature_fraction': 0.6000000000000001, 'model__max_bin': 400}. Best is trial 74 with value: 0.7767466861525171.\n",
      "C:\\Users\\Paulius\\AppData\\Local\\pypoetry\\Cache\\virtualenvs\\ppuodz-ml-4-1-dqELbViF-py3.12\\Lib\\site-packages\\lightgbm\\callback.py:325: UserWarning: Early stopping is not available in dart mode\n",
      "  _log_warning('Early stopping is not available in dart mode')\n"
     ]
    },
    {
     "name": "stdout",
     "output_type": "stream",
     "text": [
      "Fold: Tuning: n_train=263580, eval_set=43931\n"
     ]
    },
    {
     "name": "stderr",
     "output_type": "stream",
     "text": [
      "C:\\Users\\Paulius\\AppData\\Local\\pypoetry\\Cache\\virtualenvs\\ppuodz-ml-4-1-dqELbViF-py3.12\\Lib\\site-packages\\lightgbm\\callback.py:325: UserWarning: Early stopping is not available in dart mode\n",
      "  _log_warning('Early stopping is not available in dart mode')\n"
     ]
    },
    {
     "name": "stdout",
     "output_type": "stream",
     "text": [
      "Fold: Tuning: n_train=263581, eval_set=43930\n"
     ]
    },
    {
     "name": "stderr",
     "output_type": "stream",
     "text": [
      "C:\\Users\\Paulius\\AppData\\Local\\pypoetry\\Cache\\virtualenvs\\ppuodz-ml-4-1-dqELbViF-py3.12\\Lib\\site-packages\\lightgbm\\callback.py:325: UserWarning: Early stopping is not available in dart mode\n",
      "  _log_warning('Early stopping is not available in dart mode')\n"
     ]
    },
    {
     "name": "stdout",
     "output_type": "stream",
     "text": [
      "Fold: Tuning: n_train=263581, eval_set=43930\n"
     ]
    },
    {
     "name": "stderr",
     "output_type": "stream",
     "text": [
      "C:\\Users\\Paulius\\AppData\\Local\\pypoetry\\Cache\\virtualenvs\\ppuodz-ml-4-1-dqELbViF-py3.12\\Lib\\site-packages\\lightgbm\\callback.py:325: UserWarning: Early stopping is not available in dart mode\n",
      "  _log_warning('Early stopping is not available in dart mode')\n"
     ]
    },
    {
     "name": "stdout",
     "output_type": "stream",
     "text": [
      "Fold: Tuning: n_train=263581, eval_set=43930\n"
     ]
    },
    {
     "name": "stderr",
     "output_type": "stream",
     "text": [
      "C:\\Users\\Paulius\\AppData\\Local\\pypoetry\\Cache\\virtualenvs\\ppuodz-ml-4-1-dqELbViF-py3.12\\Lib\\site-packages\\lightgbm\\callback.py:325: UserWarning: Early stopping is not available in dart mode\n",
      "  _log_warning('Early stopping is not available in dart mode')\n"
     ]
    },
    {
     "name": "stdout",
     "output_type": "stream",
     "text": [
      "Fold: Tuning: n_train=263581, eval_set=43930\n"
     ]
    },
    {
     "name": "stderr",
     "output_type": "stream",
     "text": [
      "C:\\Users\\Paulius\\AppData\\Local\\pypoetry\\Cache\\virtualenvs\\ppuodz-ml-4-1-dqELbViF-py3.12\\Lib\\site-packages\\lightgbm\\callback.py:325: UserWarning: Early stopping is not available in dart mode\n",
      "  _log_warning('Early stopping is not available in dart mode')\n"
     ]
    },
    {
     "name": "stdout",
     "output_type": "stream",
     "text": [
      "Fold: Tuning: n_train=263581, eval_set=43930\n"
     ]
    },
    {
     "name": "stderr",
     "output_type": "stream",
     "text": [
      "C:\\Users\\Paulius\\AppData\\Local\\pypoetry\\Cache\\virtualenvs\\ppuodz-ml-4-1-dqELbViF-py3.12\\Lib\\site-packages\\lightgbm\\callback.py:325: UserWarning: Early stopping is not available in dart mode\n",
      "  _log_warning('Early stopping is not available in dart mode')\n"
     ]
    },
    {
     "name": "stdout",
     "output_type": "stream",
     "text": [
      "Fold: Tuning: n_train=263581, eval_set=43930\n",
      "Tune: val_score:0.7756, std_test_score:0.00360 train_set_score:0.8154\n",
      "folds val/train: [0.775, 0.7715, 0.7732, 0.7779, 0.7829, 0.7756, 0.7727] / [0.8147, 0.8154, 0.8161, 0.815, 0.8146, 0.8157, 0.816], mean fold time: 19.23\n"
     ]
    },
    {
     "name": "stderr",
     "output_type": "stream",
     "text": [
      "[I 2024-04-20 20:05:44,305] Trial 78 finished with value: 0.7755611635939976 and parameters: {'model__n_estimators': 900, 'model__learning_rate': 0.2, 'model__max_depth': 4, 'model__num_leaves': 240, 'model__min_gain_to_split': 1.0, 'model__min_data_in_leaf': 2500, 'model__lambda_l1': 65, 'model__lambda_l2': 45, 'model__bagging_fraction': 0.2, 'model__feature_fraction': 0.30000000000000004, 'model__max_bin': 350}. Best is trial 74 with value: 0.7767466861525171.\n",
      "C:\\Users\\Paulius\\AppData\\Local\\pypoetry\\Cache\\virtualenvs\\ppuodz-ml-4-1-dqELbViF-py3.12\\Lib\\site-packages\\lightgbm\\callback.py:325: UserWarning: Early stopping is not available in dart mode\n",
      "  _log_warning('Early stopping is not available in dart mode')\n"
     ]
    },
    {
     "name": "stdout",
     "output_type": "stream",
     "text": [
      "Fold: Tuning: n_train=263580, eval_set=43931\n"
     ]
    },
    {
     "name": "stderr",
     "output_type": "stream",
     "text": [
      "C:\\Users\\Paulius\\AppData\\Local\\pypoetry\\Cache\\virtualenvs\\ppuodz-ml-4-1-dqELbViF-py3.12\\Lib\\site-packages\\lightgbm\\callback.py:325: UserWarning: Early stopping is not available in dart mode\n",
      "  _log_warning('Early stopping is not available in dart mode')\n"
     ]
    },
    {
     "name": "stdout",
     "output_type": "stream",
     "text": [
      "Fold: Tuning: n_train=263581, eval_set=43930\n"
     ]
    },
    {
     "name": "stderr",
     "output_type": "stream",
     "text": [
      "C:\\Users\\Paulius\\AppData\\Local\\pypoetry\\Cache\\virtualenvs\\ppuodz-ml-4-1-dqELbViF-py3.12\\Lib\\site-packages\\lightgbm\\callback.py:325: UserWarning: Early stopping is not available in dart mode\n",
      "  _log_warning('Early stopping is not available in dart mode')\n"
     ]
    },
    {
     "name": "stdout",
     "output_type": "stream",
     "text": [
      "Fold: Tuning: n_train=263581, eval_set=43930\n"
     ]
    },
    {
     "name": "stderr",
     "output_type": "stream",
     "text": [
      "C:\\Users\\Paulius\\AppData\\Local\\pypoetry\\Cache\\virtualenvs\\ppuodz-ml-4-1-dqELbViF-py3.12\\Lib\\site-packages\\lightgbm\\callback.py:325: UserWarning: Early stopping is not available in dart mode\n",
      "  _log_warning('Early stopping is not available in dart mode')\n"
     ]
    },
    {
     "name": "stdout",
     "output_type": "stream",
     "text": [
      "Fold: Tuning: n_train=263581, eval_set=43930\n"
     ]
    },
    {
     "name": "stderr",
     "output_type": "stream",
     "text": [
      "C:\\Users\\Paulius\\AppData\\Local\\pypoetry\\Cache\\virtualenvs\\ppuodz-ml-4-1-dqELbViF-py3.12\\Lib\\site-packages\\lightgbm\\callback.py:325: UserWarning: Early stopping is not available in dart mode\n",
      "  _log_warning('Early stopping is not available in dart mode')\n"
     ]
    },
    {
     "name": "stdout",
     "output_type": "stream",
     "text": [
      "Fold: Tuning: n_train=263581, eval_set=43930\n"
     ]
    },
    {
     "name": "stderr",
     "output_type": "stream",
     "text": [
      "C:\\Users\\Paulius\\AppData\\Local\\pypoetry\\Cache\\virtualenvs\\ppuodz-ml-4-1-dqELbViF-py3.12\\Lib\\site-packages\\lightgbm\\callback.py:325: UserWarning: Early stopping is not available in dart mode\n",
      "  _log_warning('Early stopping is not available in dart mode')\n"
     ]
    },
    {
     "name": "stdout",
     "output_type": "stream",
     "text": [
      "Fold: Tuning: n_train=263581, eval_set=43930\n"
     ]
    },
    {
     "name": "stderr",
     "output_type": "stream",
     "text": [
      "C:\\Users\\Paulius\\AppData\\Local\\pypoetry\\Cache\\virtualenvs\\ppuodz-ml-4-1-dqELbViF-py3.12\\Lib\\site-packages\\lightgbm\\callback.py:325: UserWarning: Early stopping is not available in dart mode\n",
      "  _log_warning('Early stopping is not available in dart mode')\n"
     ]
    },
    {
     "name": "stdout",
     "output_type": "stream",
     "text": [
      "Fold: Tuning: n_train=263581, eval_set=43930\n",
      "Tune: val_score:0.7741, std_test_score:0.00362 train_set_score:0.8045\n",
      "folds val/train: [0.7738, 0.7703, 0.7712, 0.7766, 0.7814, 0.7742, 0.771] / [0.805, 0.8049, 0.8061, 0.8036, 0.8028, 0.8046, 0.8048], mean fold time: 23.48\n"
     ]
    },
    {
     "name": "stderr",
     "output_type": "stream",
     "text": [
      "[I 2024-04-20 20:08:29,461] Trial 79 finished with value: 0.7740844638770507 and parameters: {'model__n_estimators': 950, 'model__learning_rate': 0.23, 'model__max_depth': 5, 'model__num_leaves': 208, 'model__min_gain_to_split': 8.5, 'model__min_data_in_leaf': 2800, 'model__lambda_l1': 80, 'model__lambda_l2': 50, 'model__bagging_fraction': 0.2, 'model__feature_fraction': 0.7, 'model__max_bin': 425}. Best is trial 74 with value: 0.7767466861525171.\n"
     ]
    },
    {
     "name": "stdout",
     "output_type": "stream",
     "text": [
      "\n",
      " -- -- --\n",
      " TUNING RESULT: \n",
      " LGBM_Dart_AUC: auc = 0.7767466861525171 params: {'model__n_estimators': 900, 'model__learning_rate': 0.2, 'model__max_depth': 5, 'model__num_leaves': 184, 'model__min_gain_to_split': 2.0, 'model__min_data_in_leaf': 2500, 'model__lambda_l1': 75, 'model__lambda_l2': 40, 'model__bagging_fraction': 0.2, 'model__feature_fraction': 0.7, 'model__max_bin': 450}\n",
      " -- --\n",
      "\n",
      "LGBM_Dart_AUC Fit, total time:11933.7\n",
      "\n"
     ]
    },
    {
     "name": "stderr",
     "output_type": "stream",
     "text": [
      "C:\\Users\\Paulius\\AppData\\Local\\pypoetry\\Cache\\virtualenvs\\ppuodz-ml-4-1-dqELbViF-py3.12\\Lib\\site-packages\\woodwork\\type_sys\\utils.py:40: UserWarning: Could not infer format, so each element will be parsed individually, falling back to `dateutil`. To ensure parsing is consistent and as-expected, please specify a format.\n",
      "  pd.to_datetime(\n",
      "C:\\Users\\Paulius\\AppData\\Local\\pypoetry\\Cache\\virtualenvs\\ppuodz-ml-4-1-dqELbViF-py3.12\\Lib\\site-packages\\woodwork\\type_sys\\utils.py:40: UserWarning: Could not infer format, so each element will be parsed individually, falling back to `dateutil`. To ensure parsing is consistent and as-expected, please specify a format.\n",
      "  pd.to_datetime(\n",
      "C:\\Users\\Paulius\\AppData\\Local\\pypoetry\\Cache\\virtualenvs\\ppuodz-ml-4-1-dqELbViF-py3.12\\Lib\\site-packages\\woodwork\\type_sys\\utils.py:40: UserWarning: Could not infer format, so each element will be parsed individually, falling back to `dateutil`. To ensure parsing is consistent and as-expected, please specify a format.\n",
      "  pd.to_datetime(\n",
      "C:\\Users\\Paulius\\AppData\\Local\\pypoetry\\Cache\\virtualenvs\\ppuodz-ml-4-1-dqELbViF-py3.12\\Lib\\site-packages\\woodwork\\type_sys\\utils.py:40: UserWarning: Could not infer format, so each element will be parsed individually, falling back to `dateutil`. To ensure parsing is consistent and as-expected, please specify a format.\n",
      "  pd.to_datetime(\n",
      "C:\\Users\\Paulius\\AppData\\Local\\pypoetry\\Cache\\virtualenvs\\ppuodz-ml-4-1-dqELbViF-py3.12\\Lib\\site-packages\\woodwork\\type_sys\\utils.py:40: UserWarning: Could not infer format, so each element will be parsed individually, falling back to `dateutil`. To ensure parsing is consistent and as-expected, please specify a format.\n",
      "  pd.to_datetime(\n",
      "C:\\Users\\Paulius\\AppData\\Local\\pypoetry\\Cache\\virtualenvs\\ppuodz-ml-4-1-dqELbViF-py3.12\\Lib\\site-packages\\woodwork\\type_sys\\utils.py:40: UserWarning: Could not infer format, so each element will be parsed individually, falling back to `dateutil`. To ensure parsing is consistent and as-expected, please specify a format.\n",
      "  pd.to_datetime(\n",
      "C:\\Users\\Paulius\\AppData\\Local\\pypoetry\\Cache\\virtualenvs\\ppuodz-ml-4-1-dqELbViF-py3.12\\Lib\\site-packages\\woodwork\\type_sys\\utils.py:40: UserWarning: Could not infer format, so each element will be parsed individually, falling back to `dateutil`. To ensure parsing is consistent and as-expected, please specify a format.\n",
      "  pd.to_datetime(\n",
      "C:\\Users\\Paulius\\AppData\\Local\\pypoetry\\Cache\\virtualenvs\\ppuodz-ml-4-1-dqELbViF-py3.12\\Lib\\site-packages\\woodwork\\type_sys\\utils.py:40: UserWarning: Could not infer format, so each element will be parsed individually, falling back to `dateutil`. To ensure parsing is consistent and as-expected, please specify a format.\n",
      "  pd.to_datetime(\n",
      "C:\\Users\\Paulius\\AppData\\Local\\pypoetry\\Cache\\virtualenvs\\ppuodz-ml-4-1-dqELbViF-py3.12\\Lib\\site-packages\\woodwork\\type_sys\\utils.py:40: UserWarning: Could not infer format, so each element will be parsed individually, falling back to `dateutil`. To ensure parsing is consistent and as-expected, please specify a format.\n",
      "  pd.to_datetime(\n",
      "C:\\Users\\Paulius\\AppData\\Local\\pypoetry\\Cache\\virtualenvs\\ppuodz-ml-4-1-dqELbViF-py3.12\\Lib\\site-packages\\woodwork\\type_sys\\utils.py:40: UserWarning: Could not infer format, so each element will be parsed individually, falling back to `dateutil`. To ensure parsing is consistent and as-expected, please specify a format.\n",
      "  pd.to_datetime(\n",
      "C:\\Users\\Paulius\\AppData\\Local\\pypoetry\\Cache\\virtualenvs\\ppuodz-ml-4-1-dqELbViF-py3.12\\Lib\\site-packages\\woodwork\\type_sys\\utils.py:40: UserWarning: Could not infer format, so each element will be parsed individually, falling back to `dateutil`. To ensure parsing is consistent and as-expected, please specify a format.\n",
      "  pd.to_datetime(\n",
      "C:\\Users\\Paulius\\AppData\\Local\\pypoetry\\Cache\\virtualenvs\\ppuodz-ml-4-1-dqELbViF-py3.12\\Lib\\site-packages\\woodwork\\type_sys\\utils.py:40: UserWarning: Could not infer format, so each element will be parsed individually, falling back to `dateutil`. To ensure parsing is consistent and as-expected, please specify a format.\n",
      "  pd.to_datetime(\n",
      "C:\\Users\\Paulius\\AppData\\Local\\pypoetry\\Cache\\virtualenvs\\ppuodz-ml-4-1-dqELbViF-py3.12\\Lib\\site-packages\\woodwork\\type_sys\\utils.py:40: UserWarning: Could not infer format, so each element will be parsed individually, falling back to `dateutil`. To ensure parsing is consistent and as-expected, please specify a format.\n",
      "  pd.to_datetime(\n",
      "C:\\Users\\Paulius\\AppData\\Local\\pypoetry\\Cache\\virtualenvs\\ppuodz-ml-4-1-dqELbViF-py3.12\\Lib\\site-packages\\woodwork\\type_sys\\utils.py:40: UserWarning: Could not infer format, so each element will be parsed individually, falling back to `dateutil`. To ensure parsing is consistent and as-expected, please specify a format.\n",
      "  pd.to_datetime(\n",
      "C:\\Users\\Paulius\\AppData\\Local\\pypoetry\\Cache\\virtualenvs\\ppuodz-ml-4-1-dqELbViF-py3.12\\Lib\\site-packages\\woodwork\\type_sys\\utils.py:40: UserWarning: Could not infer format, so each element will be parsed individually, falling back to `dateutil`. To ensure parsing is consistent and as-expected, please specify a format.\n",
      "  pd.to_datetime(\n",
      "C:\\Users\\Paulius\\AppData\\Local\\pypoetry\\Cache\\virtualenvs\\ppuodz-ml-4-1-dqELbViF-py3.12\\Lib\\site-packages\\woodwork\\type_sys\\utils.py:40: UserWarning: Could not infer format, so each element will be parsed individually, falling back to `dateutil`. To ensure parsing is consistent and as-expected, please specify a format.\n",
      "  pd.to_datetime(\n",
      "C:\\Users\\Paulius\\AppData\\Local\\pypoetry\\Cache\\virtualenvs\\ppuodz-ml-4-1-dqELbViF-py3.12\\Lib\\site-packages\\woodwork\\type_sys\\utils.py:40: UserWarning: Could not infer format, so each element will be parsed individually, falling back to `dateutil`. To ensure parsing is consistent and as-expected, please specify a format.\n",
      "  pd.to_datetime(\n",
      "C:\\Users\\Paulius\\AppData\\Local\\pypoetry\\Cache\\virtualenvs\\ppuodz-ml-4-1-dqELbViF-py3.12\\Lib\\site-packages\\woodwork\\type_sys\\utils.py:40: UserWarning: Could not infer format, so each element will be parsed individually, falling back to `dateutil`. To ensure parsing is consistent and as-expected, please specify a format.\n",
      "  pd.to_datetime(\n",
      "C:\\Users\\Paulius\\AppData\\Local\\pypoetry\\Cache\\virtualenvs\\ppuodz-ml-4-1-dqELbViF-py3.12\\Lib\\site-packages\\woodwork\\type_sys\\utils.py:40: UserWarning: Could not infer format, so each element will be parsed individually, falling back to `dateutil`. To ensure parsing is consistent and as-expected, please specify a format.\n",
      "  pd.to_datetime(\n",
      "C:\\Users\\Paulius\\AppData\\Local\\pypoetry\\Cache\\virtualenvs\\ppuodz-ml-4-1-dqELbViF-py3.12\\Lib\\site-packages\\woodwork\\type_sys\\utils.py:40: UserWarning: Could not infer format, so each element will be parsed individually, falling back to `dateutil`. To ensure parsing is consistent and as-expected, please specify a format.\n",
      "  pd.to_datetime(\n",
      "C:\\Users\\Paulius\\AppData\\Local\\pypoetry\\Cache\\virtualenvs\\ppuodz-ml-4-1-dqELbViF-py3.12\\Lib\\site-packages\\woodwork\\type_sys\\utils.py:40: UserWarning: Could not infer format, so each element will be parsed individually, falling back to `dateutil`. To ensure parsing is consistent and as-expected, please specify a format.\n",
      "  pd.to_datetime(\n",
      "C:\\Users\\Paulius\\AppData\\Local\\pypoetry\\Cache\\virtualenvs\\ppuodz-ml-4-1-dqELbViF-py3.12\\Lib\\site-packages\\woodwork\\type_sys\\utils.py:40: UserWarning: Could not infer format, so each element will be parsed individually, falling back to `dateutil`. To ensure parsing is consistent and as-expected, please specify a format.\n",
      "  pd.to_datetime(\n",
      "C:\\Users\\Paulius\\AppData\\Local\\pypoetry\\Cache\\virtualenvs\\ppuodz-ml-4-1-dqELbViF-py3.12\\Lib\\site-packages\\woodwork\\type_sys\\utils.py:40: UserWarning: Could not infer format, so each element will be parsed individually, falling back to `dateutil`. To ensure parsing is consistent and as-expected, please specify a format.\n",
      "  pd.to_datetime(\n",
      "C:\\Users\\Paulius\\AppData\\Local\\pypoetry\\Cache\\virtualenvs\\ppuodz-ml-4-1-dqELbViF-py3.12\\Lib\\site-packages\\woodwork\\type_sys\\utils.py:40: UserWarning: Could not infer format, so each element will be parsed individually, falling back to `dateutil`. To ensure parsing is consistent and as-expected, please specify a format.\n",
      "  pd.to_datetime(\n",
      "C:\\Users\\Paulius\\AppData\\Local\\pypoetry\\Cache\\virtualenvs\\ppuodz-ml-4-1-dqELbViF-py3.12\\Lib\\site-packages\\woodwork\\type_sys\\utils.py:40: UserWarning: Could not infer format, so each element will be parsed individually, falling back to `dateutil`. To ensure parsing is consistent and as-expected, please specify a format.\n",
      "  pd.to_datetime(\n",
      "C:\\Users\\Paulius\\AppData\\Local\\pypoetry\\Cache\\virtualenvs\\ppuodz-ml-4-1-dqELbViF-py3.12\\Lib\\site-packages\\woodwork\\type_sys\\utils.py:40: UserWarning: Could not infer format, so each element will be parsed individually, falling back to `dateutil`. To ensure parsing is consistent and as-expected, please specify a format.\n",
      "  pd.to_datetime(\n",
      "C:\\Users\\Paulius\\AppData\\Local\\pypoetry\\Cache\\virtualenvs\\ppuodz-ml-4-1-dqELbViF-py3.12\\Lib\\site-packages\\woodwork\\type_sys\\utils.py:40: UserWarning: Could not infer format, so each element will be parsed individually, falling back to `dateutil`. To ensure parsing is consistent and as-expected, please specify a format.\n",
      "  pd.to_datetime(\n",
      "C:\\Users\\Paulius\\AppData\\Local\\pypoetry\\Cache\\virtualenvs\\ppuodz-ml-4-1-dqELbViF-py3.12\\Lib\\site-packages\\woodwork\\type_sys\\utils.py:40: UserWarning: Could not infer format, so each element will be parsed individually, falling back to `dateutil`. To ensure parsing is consistent and as-expected, please specify a format.\n",
      "  pd.to_datetime(\n",
      "C:\\Users\\Paulius\\AppData\\Local\\pypoetry\\Cache\\virtualenvs\\ppuodz-ml-4-1-dqELbViF-py3.12\\Lib\\site-packages\\woodwork\\type_sys\\utils.py:40: UserWarning: Could not infer format, so each element will be parsed individually, falling back to `dateutil`. To ensure parsing is consistent and as-expected, please specify a format.\n",
      "  pd.to_datetime(\n",
      "C:\\Users\\Paulius\\AppData\\Local\\pypoetry\\Cache\\virtualenvs\\ppuodz-ml-4-1-dqELbViF-py3.12\\Lib\\site-packages\\woodwork\\type_sys\\utils.py:40: UserWarning: Could not infer format, so each element will be parsed individually, falling back to `dateutil`. To ensure parsing is consistent and as-expected, please specify a format.\n",
      "  pd.to_datetime(\n",
      "C:\\Users\\Paulius\\AppData\\Local\\pypoetry\\Cache\\virtualenvs\\ppuodz-ml-4-1-dqELbViF-py3.12\\Lib\\site-packages\\woodwork\\type_sys\\utils.py:40: UserWarning: Could not infer format, so each element will be parsed individually, falling back to `dateutil`. To ensure parsing is consistent and as-expected, please specify a format.\n",
      "  pd.to_datetime(\n",
      "C:\\Users\\Paulius\\AppData\\Local\\pypoetry\\Cache\\virtualenvs\\ppuodz-ml-4-1-dqELbViF-py3.12\\Lib\\site-packages\\woodwork\\type_sys\\utils.py:40: UserWarning: Could not infer format, so each element will be parsed individually, falling back to `dateutil`. To ensure parsing is consistent and as-expected, please specify a format.\n",
      "  pd.to_datetime(\n",
      "C:\\Users\\Paulius\\AppData\\Local\\pypoetry\\Cache\\virtualenvs\\ppuodz-ml-4-1-dqELbViF-py3.12\\Lib\\site-packages\\featuretools\\entityset\\entityset.py:1914: UserWarning: index SK_BUREAU_ID not found in dataframe, creating new integer column\n",
      "  warnings.warn(\n",
      "C:\\Users\\Paulius\\AppData\\Local\\pypoetry\\Cache\\virtualenvs\\ppuodz-ml-4-1-dqELbViF-py3.12\\Lib\\site-packages\\woodwork\\type_sys\\utils.py:40: UserWarning: Could not infer format, so each element will be parsed individually, falling back to `dateutil`. To ensure parsing is consistent and as-expected, please specify a format.\n",
      "  pd.to_datetime(\n",
      "C:\\Users\\Paulius\\AppData\\Local\\pypoetry\\Cache\\virtualenvs\\ppuodz-ml-4-1-dqELbViF-py3.12\\Lib\\site-packages\\woodwork\\type_sys\\utils.py:40: UserWarning: Could not infer format, so each element will be parsed individually, falling back to `dateutil`. To ensure parsing is consistent and as-expected, please specify a format.\n",
      "  pd.to_datetime(\n",
      "C:\\Users\\Paulius\\AppData\\Local\\pypoetry\\Cache\\virtualenvs\\ppuodz-ml-4-1-dqELbViF-py3.12\\Lib\\site-packages\\woodwork\\type_sys\\utils.py:40: UserWarning: Could not infer format, so each element will be parsed individually, falling back to `dateutil`. To ensure parsing is consistent and as-expected, please specify a format.\n",
      "  pd.to_datetime(\n",
      "C:\\Users\\Paulius\\AppData\\Local\\pypoetry\\Cache\\virtualenvs\\ppuodz-ml-4-1-dqELbViF-py3.12\\Lib\\site-packages\\woodwork\\type_sys\\utils.py:40: UserWarning: Could not infer format, so each element will be parsed individually, falling back to `dateutil`. To ensure parsing is consistent and as-expected, please specify a format.\n",
      "  pd.to_datetime(\n",
      "C:\\Users\\Paulius\\AppData\\Local\\pypoetry\\Cache\\virtualenvs\\ppuodz-ml-4-1-dqELbViF-py3.12\\Lib\\site-packages\\woodwork\\type_sys\\utils.py:40: UserWarning: Could not infer format, so each element will be parsed individually, falling back to `dateutil`. To ensure parsing is consistent and as-expected, please specify a format.\n",
      "  pd.to_datetime(\n",
      "C:\\Users\\Paulius\\AppData\\Local\\pypoetry\\Cache\\virtualenvs\\ppuodz-ml-4-1-dqELbViF-py3.12\\Lib\\site-packages\\woodwork\\type_sys\\utils.py:40: UserWarning: Could not infer format, so each element will be parsed individually, falling back to `dateutil`. To ensure parsing is consistent and as-expected, please specify a format.\n",
      "  pd.to_datetime(\n",
      "C:\\Users\\Paulius\\AppData\\Local\\pypoetry\\Cache\\virtualenvs\\ppuodz-ml-4-1-dqELbViF-py3.12\\Lib\\site-packages\\featuretools\\computational_backends\\feature_set_calculator.py:828: FutureWarning: The provided callable <function mean at 0x0000020748304D60> is currently using SeriesGroupBy.mean. In a future version of pandas, the provided callable will be used directly. To keep current behavior pass the string \"mean\" instead.\n",
      "  ).agg(to_agg)\n",
      "C:\\Users\\Paulius\\AppData\\Local\\pypoetry\\Cache\\virtualenvs\\ppuodz-ml-4-1-dqELbViF-py3.12\\Lib\\site-packages\\featuretools\\computational_backends\\feature_set_calculator.py:828: FutureWarning: The provided callable <function min at 0x00000207483044A0> is currently using SeriesGroupBy.min. In a future version of pandas, the provided callable will be used directly. To keep current behavior pass the string \"min\" instead.\n",
      "  ).agg(to_agg)\n",
      "C:\\Users\\Paulius\\AppData\\Local\\pypoetry\\Cache\\virtualenvs\\ppuodz-ml-4-1-dqELbViF-py3.12\\Lib\\site-packages\\featuretools\\computational_backends\\feature_set_calculator.py:828: FutureWarning: The provided callable <function max at 0x0000020748304360> is currently using SeriesGroupBy.max. In a future version of pandas, the provided callable will be used directly. To keep current behavior pass the string \"max\" instead.\n",
      "  ).agg(to_agg)\n"
     ]
    },
    {
     "name": "stdout",
     "output_type": "stream",
     "text": [
      "Appending previous history\n"
     ]
    },
    {
     "name": "stderr",
     "output_type": "stream",
     "text": [
      "[I 2024-04-20 20:08:48,751] A new study created in memory with name: no-name-f12583d3-7484-4977-b645-30d2cfdd91a7\n"
     ]
    },
    {
     "name": "stdout",
     "output_type": "stream",
     "text": [
      "drop drop_cols_post_proc: 227\n",
      "after drop_cols_post_proc: 121\n",
      "Full DS size: 307511\n",
      "Tunning: - transformers: transformers: 0\n",
      " total options: 0\n",
      "[]\n",
      "search_grid:\n",
      "{}\n",
      "\n",
      " - model: LGBM_AUC n_iters=10 with:\n",
      " {'model__n_estimators': Range(50, 1000, 50, int), 'model__learning_rate': Range(0.01, 0.3, 0.01, float), 'model__max_depth': Range(3, 11, 1, int), 'model__num_leaves': Range(8, 256, 8, int), 'model__min_gain_to_split': Range(0.0, 15.0, 0.5, float), 'model__min_data_in_leaf': Range(0, 3000, 100, int), 'model__lambda_l1': Range(0, 110, 5, int), 'model__lambda_l2': Range(0, 110, 5, int), 'model__bagging_fraction': Range(0.2, 1.0, 0.1, float), 'model__feature_fraction': Range(0.2, 1.0, 0.1, float), 'model__max_bin': Range(50, 500, 25, int)}\n",
      "Fold: Tuning: n_train=263580, eval_set=43931\n",
      "Fold: Tuning: n_train=263581, eval_set=43930\n",
      "Fold: Tuning: n_train=263581, eval_set=43930\n",
      "Fold: Tuning: n_train=263581, eval_set=43930\n",
      "Fold: Tuning: n_train=263581, eval_set=43930\n",
      "Fold: Tuning: n_train=263581, eval_set=43930\n",
      "Fold: Tuning: n_train=263581, eval_set=43930\n",
      "Tune: val_score:0.7671, std_test_score:0.00397 train_set_score:0.8029\n",
      "folds val/train: [0.7675, 0.763, 0.7638, 0.7703, 0.7748, 0.7668, 0.7635] / [0.8021, 0.8036, 0.8032, 0.8037, 0.8015, 0.8027, 0.8032], mean fold time: 1.46\n"
     ]
    },
    {
     "name": "stderr",
     "output_type": "stream",
     "text": [
      "[I 2024-04-20 20:08:59,760] Trial 0 finished with value: 0.7671217627078867 and parameters: {'model__n_estimators': 300, 'model__learning_rate': 0.3, 'model__max_depth': 10, 'model__num_leaves': 184, 'model__min_gain_to_split': 9.5, 'model__min_data_in_leaf': 600, 'model__lambda_l1': 85, 'model__lambda_l2': 25, 'model__bagging_fraction': 0.5, 'model__feature_fraction': 0.4, 'model__max_bin': 175}. Best is trial 0 with value: 0.7671217627078867.\n"
     ]
    },
    {
     "name": "stdout",
     "output_type": "stream",
     "text": [
      "Fold: Tuning: n_train=263580, eval_set=43931\n",
      "Fold: Tuning: n_train=263581, eval_set=43930\n",
      "Fold: Tuning: n_train=263581, eval_set=43930\n",
      "Fold: Tuning: n_train=263581, eval_set=43930\n",
      "Fold: Tuning: n_train=263581, eval_set=43930\n",
      "Fold: Tuning: n_train=263581, eval_set=43930\n",
      "Fold: Tuning: n_train=263581, eval_set=43930\n",
      "Tune: val_score:0.7704, std_test_score:0.00376 train_set_score:0.7867\n",
      "folds val/train: [0.7709, 0.7672, 0.7685, 0.7728, 0.7778, 0.7701, 0.7654] / [0.7874, 0.7877, 0.7875, 0.7873, 0.7858, 0.7875, 0.7839], mean fold time: 1.87\n"
     ]
    },
    {
     "name": "stderr",
     "output_type": "stream",
     "text": [
      "[I 2024-04-20 20:09:13,636] Trial 1 finished with value: 0.7703948980131833 and parameters: {'model__n_estimators': 900, 'model__learning_rate': 0.25, 'model__max_depth': 3, 'model__num_leaves': 240, 'model__min_gain_to_split': 5.0, 'model__min_data_in_leaf': 1100, 'model__lambda_l1': 95, 'model__lambda_l2': 105, 'model__bagging_fraction': 0.5, 'model__feature_fraction': 0.30000000000000004, 'model__max_bin': 175}. Best is trial 1 with value: 0.7703948980131833.\n"
     ]
    },
    {
     "name": "stdout",
     "output_type": "stream",
     "text": [
      "Fold: Tuning: n_train=263580, eval_set=43931\n",
      "Fold: Tuning: n_train=263581, eval_set=43930\n",
      "Fold: Tuning: n_train=263581, eval_set=43930\n",
      "Fold: Tuning: n_train=263581, eval_set=43930\n",
      "Fold: Tuning: n_train=263581, eval_set=43930\n",
      "Fold: Tuning: n_train=263581, eval_set=43930\n",
      "Fold: Tuning: n_train=263581, eval_set=43930\n",
      "Tune: val_score:0.7727, std_test_score:0.00371 train_set_score:0.8023\n",
      "folds val/train: [0.7718, 0.7695, 0.7696, 0.7751, 0.7801, 0.7735, 0.769] / [0.8016, 0.8028, 0.8027, 0.8028, 0.8009, 0.8023, 0.8033], mean fold time: 2.24\n"
     ]
    },
    {
     "name": "stderr",
     "output_type": "stream",
     "text": [
      "[I 2024-04-20 20:09:30,085] Trial 2 finished with value: 0.7726608173722743 and parameters: {'model__n_estimators': 500, 'model__learning_rate': 0.09999999999999999, 'model__max_depth': 6, 'model__num_leaves': 152, 'model__min_gain_to_split': 6.0, 'model__min_data_in_leaf': 100, 'model__lambda_l1': 70, 'model__lambda_l2': 10, 'model__bagging_fraction': 0.4, 'model__feature_fraction': 0.2, 'model__max_bin': 200}. Best is trial 2 with value: 0.7726608173722743.\n"
     ]
    },
    {
     "name": "stdout",
     "output_type": "stream",
     "text": [
      "Fold: Tuning: n_train=263580, eval_set=43931\n",
      "Fold: Tuning: n_train=263581, eval_set=43930\n",
      "Fold: Tuning: n_train=263581, eval_set=43930\n",
      "Fold: Tuning: n_train=263581, eval_set=43930\n",
      "Fold: Tuning: n_train=263581, eval_set=43930\n",
      "Fold: Tuning: n_train=263581, eval_set=43930\n",
      "Fold: Tuning: n_train=263581, eval_set=43930\n",
      "Tune: val_score:0.7705, std_test_score:0.00348 train_set_score:0.8286\n",
      "folds val/train: [0.7703, 0.7674, 0.7684, 0.7714, 0.7779, 0.771, 0.7667] / [0.8296, 0.8283, 0.8297, 0.8284, 0.8275, 0.8284, 0.8282], mean fold time: 1.78\n"
     ]
    },
    {
     "name": "stderr",
     "output_type": "stream",
     "text": [
      "[I 2024-04-20 20:09:43,330] Trial 3 finished with value: 0.7704541990649905 and parameters: {'model__n_estimators': 250, 'model__learning_rate': 0.18000000000000002, 'model__max_depth': 8, 'model__num_leaves': 192, 'model__min_gain_to_split': 10.0, 'model__min_data_in_leaf': 1700, 'model__lambda_l1': 0, 'model__lambda_l2': 15, 'model__bagging_fraction': 1.0, 'model__feature_fraction': 0.4, 'model__max_bin': 375}. Best is trial 2 with value: 0.7726608173722743.\n"
     ]
    },
    {
     "name": "stdout",
     "output_type": "stream",
     "text": [
      "Fold: Tuning: n_train=263580, eval_set=43931\n",
      "Fold: Tuning: n_train=263581, eval_set=43930\n",
      "Fold: Tuning: n_train=263581, eval_set=43930\n",
      "Fold: Tuning: n_train=263581, eval_set=43930\n",
      "Fold: Tuning: n_train=263581, eval_set=43930\n",
      "Fold: Tuning: n_train=263581, eval_set=43930\n",
      "Fold: Tuning: n_train=263581, eval_set=43930\n",
      "Tune: val_score:0.7679, std_test_score:0.00387 train_set_score:0.8096\n",
      "folds val/train: [0.7691, 0.7656, 0.7644, 0.7719, 0.7747, 0.7668, 0.7631] / [0.8103, 0.8094, 0.8101, 0.8096, 0.8082, 0.8091, 0.8107], mean fold time: 1.44\n"
     ]
    },
    {
     "name": "stderr",
     "output_type": "stream",
     "text": [
      "[I 2024-04-20 20:09:54,171] Trial 4 finished with value: 0.7679338290045211 and parameters: {'model__n_estimators': 950, 'model__learning_rate': 0.3, 'model__max_depth': 9, 'model__num_leaves': 88, 'model__min_gain_to_split': 14.0, 'model__min_data_in_leaf': 800, 'model__lambda_l1': 20, 'model__lambda_l2': 85, 'model__bagging_fraction': 0.5, 'model__feature_fraction': 0.5, 'model__max_bin': 50}. Best is trial 2 with value: 0.7726608173722743.\n"
     ]
    },
    {
     "name": "stdout",
     "output_type": "stream",
     "text": [
      "Fold: Tuning: n_train=263580, eval_set=43931\n",
      "Fold: Tuning: n_train=263581, eval_set=43930\n",
      "Fold: Tuning: n_train=263581, eval_set=43930\n",
      "Fold: Tuning: n_train=263581, eval_set=43930\n",
      "Fold: Tuning: n_train=263581, eval_set=43930\n",
      "Fold: Tuning: n_train=263581, eval_set=43930\n",
      "Fold: Tuning: n_train=263581, eval_set=43930\n",
      "Tune: val_score:0.7696, std_test_score:0.00340 train_set_score:0.7885\n",
      "folds val/train: [0.7707, 0.7662, 0.7676, 0.7729, 0.7758, 0.767, 0.7668] / [0.7886, 0.7894, 0.7892, 0.7884, 0.7869, 0.7881, 0.789], mean fold time: 1.82\n"
     ]
    },
    {
     "name": "stderr",
     "output_type": "stream",
     "text": [
      "[I 2024-04-20 20:10:07,668] Trial 5 finished with value: 0.7695590158098015 and parameters: {'model__n_estimators': 200, 'model__learning_rate': 0.13, 'model__max_depth': 4, 'model__num_leaves': 184, 'model__min_gain_to_split': 14.5, 'model__min_data_in_leaf': 500, 'model__lambda_l1': 95, 'model__lambda_l2': 110, 'model__bagging_fraction': 0.30000000000000004, 'model__feature_fraction': 0.7, 'model__max_bin': 300}. Best is trial 2 with value: 0.7726608173722743.\n"
     ]
    },
    {
     "name": "stdout",
     "output_type": "stream",
     "text": [
      "Fold: Tuning: n_train=263580, eval_set=43931\n",
      "Fold: Tuning: n_train=263581, eval_set=43930\n",
      "Fold: Tuning: n_train=263581, eval_set=43930\n",
      "Fold: Tuning: n_train=263581, eval_set=43930\n",
      "Fold: Tuning: n_train=263581, eval_set=43930\n",
      "Fold: Tuning: n_train=263581, eval_set=43930\n",
      "Fold: Tuning: n_train=263581, eval_set=43930\n",
      "Tune: val_score:0.7687, std_test_score:0.00257 train_set_score:0.8090\n",
      "folds val/train: [0.769, 0.7677, 0.7655, 0.7712, 0.7733, 0.7677, 0.7663] / [0.8095, 0.8089, 0.8097, 0.8088, 0.8076, 0.8088, 0.8093], mean fold time: 1.55\n"
     ]
    },
    {
     "name": "stderr",
     "output_type": "stream",
     "text": [
      "[I 2024-04-20 20:10:19,330] Trial 6 finished with value: 0.7686574305006469 and parameters: {'model__n_estimators': 150, 'model__learning_rate': 0.29000000000000004, 'model__max_depth': 9, 'model__num_leaves': 64, 'model__min_gain_to_split': 4.5, 'model__min_data_in_leaf': 500, 'model__lambda_l1': 110, 'model__lambda_l2': 95, 'model__bagging_fraction': 0.2, 'model__feature_fraction': 0.5, 'model__max_bin': 175}. Best is trial 2 with value: 0.7726608173722743.\n"
     ]
    },
    {
     "name": "stdout",
     "output_type": "stream",
     "text": [
      "Fold: Tuning: n_train=263580, eval_set=43931\n",
      "Fold: Tuning: n_train=263581, eval_set=43930\n",
      "Fold: Tuning: n_train=263581, eval_set=43930\n",
      "Fold: Tuning: n_train=263581, eval_set=43930\n",
      "Fold: Tuning: n_train=263581, eval_set=43930\n",
      "Fold: Tuning: n_train=263581, eval_set=43930\n",
      "Fold: Tuning: n_train=263581, eval_set=43930\n",
      "Tune: val_score:0.7743, std_test_score:0.00337 train_set_score:0.8167\n",
      "folds val/train: [0.7747, 0.7711, 0.7717, 0.7788, 0.7797, 0.7734, 0.7708] / [0.8142, 0.8177, 0.8182, 0.8159, 0.816, 0.8177, 0.8173], mean fold time: 4.69\n"
     ]
    },
    {
     "name": "stderr",
     "output_type": "stream",
     "text": [
      "[I 2024-04-20 20:10:52,915] Trial 7 finished with value: 0.7743178490082526 and parameters: {'model__n_estimators': 1000, 'model__learning_rate': 0.05, 'model__max_depth': 6, 'model__num_leaves': 168, 'model__min_gain_to_split': 2.5, 'model__min_data_in_leaf': 2800, 'model__lambda_l1': 90, 'model__lambda_l2': 85, 'model__bagging_fraction': 0.30000000000000004, 'model__feature_fraction': 1.0, 'model__max_bin': 475}. Best is trial 7 with value: 0.7743178490082526.\n"
     ]
    },
    {
     "name": "stdout",
     "output_type": "stream",
     "text": [
      "Fold: Tuning: n_train=263580, eval_set=43931\n",
      "Fold: Tuning: n_train=263581, eval_set=43930\n",
      "Fold: Tuning: n_train=263581, eval_set=43930\n",
      "Fold: Tuning: n_train=263581, eval_set=43930\n",
      "Fold: Tuning: n_train=263581, eval_set=43930\n",
      "Fold: Tuning: n_train=263581, eval_set=43930\n",
      "Fold: Tuning: n_train=263581, eval_set=43930\n",
      "Tune: val_score:0.7689, std_test_score:0.00370 train_set_score:0.8184\n",
      "folds val/train: [0.7686, 0.7658, 0.7651, 0.7723, 0.776, 0.7687, 0.7658] / [0.8191, 0.8179, 0.8199, 0.8177, 0.8163, 0.8178, 0.8199], mean fold time: 1.66\n"
     ]
    },
    {
     "name": "stderr",
     "output_type": "stream",
     "text": [
      "[I 2024-04-20 20:11:05,323] Trial 8 finished with value: 0.7688991073144936 and parameters: {'model__n_estimators': 100, 'model__learning_rate': 0.18000000000000002, 'model__max_depth': 9, 'model__num_leaves': 144, 'model__min_gain_to_split': 14.5, 'model__min_data_in_leaf': 1200, 'model__lambda_l1': 10, 'model__lambda_l2': 5, 'model__bagging_fraction': 0.7, 'model__feature_fraction': 0.5, 'model__max_bin': 50}. Best is trial 7 with value: 0.7743178490082526.\n"
     ]
    },
    {
     "name": "stdout",
     "output_type": "stream",
     "text": [
      "Fold: Tuning: n_train=263580, eval_set=43931\n",
      "Fold: Tuning: n_train=263581, eval_set=43930\n",
      "Fold: Tuning: n_train=263581, eval_set=43930\n",
      "Fold: Tuning: n_train=263581, eval_set=43930\n",
      "Fold: Tuning: n_train=263581, eval_set=43930\n",
      "Fold: Tuning: n_train=263581, eval_set=43930\n",
      "Fold: Tuning: n_train=263581, eval_set=43930\n",
      "Tune: val_score:0.7687, std_test_score:0.00380 train_set_score:0.8126\n",
      "folds val/train: [0.7683, 0.7669, 0.7648, 0.7728, 0.7755, 0.7683, 0.7644] / [0.813, 0.8122, 0.8146, 0.8127, 0.8109, 0.8123, 0.8125], mean fold time: 1.50\n"
     ]
    },
    {
     "name": "stderr",
     "output_type": "stream",
     "text": [
      "[I 2024-04-20 20:11:16,583] Trial 9 finished with value: 0.7687062715173042 and parameters: {'model__n_estimators': 250, 'model__learning_rate': 0.24000000000000002, 'model__max_depth': 9, 'model__num_leaves': 56, 'model__min_gain_to_split': 9.0, 'model__min_data_in_leaf': 1100, 'model__lambda_l1': 65, 'model__lambda_l2': 5, 'model__bagging_fraction': 0.6000000000000001, 'model__feature_fraction': 0.7, 'model__max_bin': 175}. Best is trial 7 with value: 0.7743178490082526.\n"
     ]
    },
    {
     "name": "stdout",
     "output_type": "stream",
     "text": [
      "Fold: Tuning: n_train=263580, eval_set=43931\n",
      "Fold: Tuning: n_train=263581, eval_set=43930\n",
      "Fold: Tuning: n_train=263581, eval_set=43930\n",
      "Fold: Tuning: n_train=263581, eval_set=43930\n",
      "Fold: Tuning: n_train=263581, eval_set=43930\n",
      "Fold: Tuning: n_train=263581, eval_set=43930\n",
      "Fold: Tuning: n_train=263581, eval_set=43930\n",
      "Tune: val_score:0.7614, std_test_score:0.00363 train_set_score:0.7708\n",
      "folds val/train: [0.7622, 0.758, 0.7592, 0.7656, 0.7678, 0.7587, 0.7583] / [0.7707, 0.7711, 0.7715, 0.7706, 0.7697, 0.771, 0.7714], mean fold time: 5.82\n"
     ]
    },
    {
     "name": "stderr",
     "output_type": "stream",
     "text": [
      "[I 2024-04-20 20:11:58,104] Trial 10 finished with value: 0.7613964122473578 and parameters: {'model__n_estimators': 700, 'model__learning_rate': 0.01, 'model__max_depth': 6, 'model__num_leaves': 8, 'model__min_gain_to_split': 1.0, 'model__min_data_in_leaf': 2900, 'model__lambda_l1': 40, 'model__lambda_l2': 65, 'model__bagging_fraction': 0.9000000000000001, 'model__feature_fraction': 1.0, 'model__max_bin': 450}. Best is trial 7 with value: 0.7743178490082526.\n"
     ]
    },
    {
     "name": "stdout",
     "output_type": "stream",
     "text": [
      "Fold: Tuning: n_train=263580, eval_set=43931\n",
      "Fold: Tuning: n_train=263581, eval_set=43930\n",
      "Fold: Tuning: n_train=263581, eval_set=43930\n",
      "Fold: Tuning: n_train=263581, eval_set=43930\n",
      "Fold: Tuning: n_train=263581, eval_set=43930\n",
      "Fold: Tuning: n_train=263581, eval_set=43930\n",
      "Fold: Tuning: n_train=263581, eval_set=43930\n",
      "Tune: val_score:0.7730, std_test_score:0.00386 train_set_score:0.8248\n",
      "folds val/train: [0.7725, 0.7687, 0.7696, 0.7782, 0.7793, 0.7726, 0.7705] / [0.8166, 0.8193, 0.8188, 0.8256, 0.8253, 0.8381, 0.8301], mean fold time: 4.13\n"
     ]
    },
    {
     "name": "stderr",
     "output_type": "stream",
     "text": [
      "[I 2024-04-20 20:12:27,830] Trial 11 finished with value: 0.773046320740864 and parameters: {'model__n_estimators': 650, 'model__learning_rate': 0.060000000000000005, 'model__max_depth': 6, 'model__num_leaves': 128, 'model__min_gain_to_split': 0.0, 'model__min_data_in_leaf': 2100, 'model__lambda_l1': 65, 'model__lambda_l2': 40, 'model__bagging_fraction': 0.30000000000000004, 'model__feature_fraction': 1.0, 'model__max_bin': 500}. Best is trial 7 with value: 0.7743178490082526.\n"
     ]
    },
    {
     "name": "stdout",
     "output_type": "stream",
     "text": [
      "Fold: Tuning: n_train=263580, eval_set=43931\n",
      "Fold: Tuning: n_train=263581, eval_set=43930\n",
      "Fold: Tuning: n_train=263581, eval_set=43930\n",
      "Fold: Tuning: n_train=263581, eval_set=43930\n",
      "Fold: Tuning: n_train=263581, eval_set=43930\n",
      "Fold: Tuning: n_train=263581, eval_set=43930\n",
      "Fold: Tuning: n_train=263581, eval_set=43930\n",
      "Tune: val_score:0.7736, std_test_score:0.00390 train_set_score:0.8172\n",
      "folds val/train: [0.7741, 0.7698, 0.7702, 0.7783, 0.7803, 0.7718, 0.7705] / [0.8156, 0.8167, 0.8125, 0.8169, 0.8229, 0.8161, 0.8195], mean fold time: 5.52\n"
     ]
    },
    {
     "name": "stderr",
     "output_type": "stream",
     "text": [
      "[I 2024-04-20 20:13:07,272] Trial 12 finished with value: 0.7735684372683205 and parameters: {'model__n_estimators': 750, 'model__learning_rate': 0.04, 'model__max_depth': 5, 'model__num_leaves': 112, 'model__min_gain_to_split': 0.0, 'model__min_data_in_leaf': 2600, 'model__lambda_l1': 45, 'model__lambda_l2': 45, 'model__bagging_fraction': 0.2, 'model__feature_fraction': 1.0, 'model__max_bin': 475}. Best is trial 7 with value: 0.7743178490082526.\n"
     ]
    },
    {
     "name": "stdout",
     "output_type": "stream",
     "text": [
      "Fold: Tuning: n_train=263580, eval_set=43931\n",
      "Fold: Tuning: n_train=263581, eval_set=43930\n",
      "Fold: Tuning: n_train=263581, eval_set=43930\n",
      "Fold: Tuning: n_train=263581, eval_set=43930\n",
      "Fold: Tuning: n_train=263581, eval_set=43930\n",
      "Fold: Tuning: n_train=263581, eval_set=43930\n",
      "Fold: Tuning: n_train=263581, eval_set=43930\n",
      "Tune: val_score:0.7639, std_test_score:0.00348 train_set_score:0.7792\n",
      "folds val/train: [0.7648, 0.76, 0.7616, 0.768, 0.7698, 0.7611, 0.7618] / [0.7791, 0.7794, 0.7796, 0.7786, 0.7781, 0.7796, 0.7798], mean fold time: 6.09\n"
     ]
    },
    {
     "name": "stderr",
     "output_type": "stream",
     "text": [
      "[I 2024-04-20 20:13:50,723] Trial 13 finished with value: 0.7638543328457814 and parameters: {'model__n_estimators': 800, 'model__learning_rate': 0.01, 'model__max_depth': 4, 'model__num_leaves': 104, 'model__min_gain_to_split': 2.5, 'model__min_data_in_leaf': 2900, 'model__lambda_l1': 40, 'model__lambda_l2': 65, 'model__bagging_fraction': 0.2, 'model__feature_fraction': 0.9000000000000001, 'model__max_bin': 400}. Best is trial 7 with value: 0.7743178490082526.\n"
     ]
    },
    {
     "name": "stdout",
     "output_type": "stream",
     "text": [
      "Fold: Tuning: n_train=263580, eval_set=43931\n",
      "Fold: Tuning: n_train=263581, eval_set=43930\n",
      "Fold: Tuning: n_train=263581, eval_set=43930\n",
      "Fold: Tuning: n_train=263581, eval_set=43930\n",
      "Fold: Tuning: n_train=263581, eval_set=43930\n",
      "Fold: Tuning: n_train=263581, eval_set=43930\n",
      "Fold: Tuning: n_train=263581, eval_set=43930\n",
      "Tune: val_score:0.7755, std_test_score:0.00364 train_set_score:0.8232\n",
      "folds val/train: [0.7738, 0.7723, 0.7723, 0.7805, 0.7817, 0.7748, 0.7731] / [0.8152, 0.8246, 0.8212, 0.8247, 0.8182, 0.8276, 0.8306], mean fold time: 4.26\n"
     ]
    },
    {
     "name": "stderr",
     "output_type": "stream",
     "text": [
      "[I 2024-04-20 20:14:21,370] Trial 14 finished with value: 0.7754762116288143 and parameters: {'model__n_estimators': 1000, 'model__learning_rate': 0.060000000000000005, 'model__max_depth': 5, 'model__num_leaves': 248, 'model__min_gain_to_split': 2.5, 'model__min_data_in_leaf': 2400, 'model__lambda_l1': 35, 'model__lambda_l2': 40, 'model__bagging_fraction': 0.2, 'model__feature_fraction': 0.8, 'model__max_bin': 500}. Best is trial 14 with value: 0.7754762116288143.\n"
     ]
    },
    {
     "name": "stdout",
     "output_type": "stream",
     "text": [
      "Fold: Tuning: n_train=263580, eval_set=43931\n",
      "Fold: Tuning: n_train=263581, eval_set=43930\n",
      "Fold: Tuning: n_train=263581, eval_set=43930\n",
      "Fold: Tuning: n_train=263581, eval_set=43930\n",
      "Fold: Tuning: n_train=263581, eval_set=43930\n",
      "Fold: Tuning: n_train=263581, eval_set=43930\n",
      "Fold: Tuning: n_train=263581, eval_set=43930\n",
      "Tune: val_score:0.7750, std_test_score:0.00379 train_set_score:0.8405\n",
      "folds val/train: [0.7754, 0.7718, 0.7713, 0.779, 0.7816, 0.7749, 0.7709] / [0.839, 0.8407, 0.8377, 0.8359, 0.8436, 0.8442, 0.8427], mean fold time: 3.22\n"
     ]
    },
    {
     "name": "stderr",
     "output_type": "stream",
     "text": [
      "[I 2024-04-20 20:14:44,719] Trial 15 finished with value: 0.7749693629654651 and parameters: {'model__n_estimators': 1000, 'model__learning_rate': 0.09, 'model__max_depth': 7, 'model__num_leaves': 256, 'model__min_gain_to_split': 3.0, 'model__min_data_in_leaf': 2300, 'model__lambda_l1': 25, 'model__lambda_l2': 70, 'model__bagging_fraction': 0.30000000000000004, 'model__feature_fraction': 0.8, 'model__max_bin': 375}. Best is trial 14 with value: 0.7754762116288143.\n"
     ]
    },
    {
     "name": "stdout",
     "output_type": "stream",
     "text": [
      "Fold: Tuning: n_train=263580, eval_set=43931\n",
      "Fold: Tuning: n_train=263581, eval_set=43930\n",
      "Fold: Tuning: n_train=263581, eval_set=43930\n",
      "Fold: Tuning: n_train=263581, eval_set=43930\n",
      "Fold: Tuning: n_train=263581, eval_set=43930\n",
      "Fold: Tuning: n_train=263581, eval_set=43930\n",
      "Fold: Tuning: n_train=263581, eval_set=43930\n",
      "Tune: val_score:0.7741, std_test_score:0.00399 train_set_score:0.8383\n",
      "folds val/train: [0.7748, 0.7729, 0.7707, 0.7777, 0.7809, 0.7742, 0.7678] / [0.8346, 0.8448, 0.8443, 0.8391, 0.841, 0.8465, 0.8181], mean fold time: 2.91\n"
     ]
    },
    {
     "name": "stderr",
     "output_type": "stream",
     "text": [
      "[I 2024-04-20 20:15:05,882] Trial 16 finished with value: 0.7741397560587461 and parameters: {'model__n_estimators': 500, 'model__learning_rate': 0.09999999999999999, 'model__max_depth': 7, 'model__num_leaves': 256, 'model__min_gain_to_split': 3.0, 'model__min_data_in_leaf': 2300, 'model__lambda_l1': 25, 'model__lambda_l2': 60, 'model__bagging_fraction': 0.7, 'model__feature_fraction': 0.8, 'model__max_bin': 350}. Best is trial 14 with value: 0.7754762116288143.\n"
     ]
    },
    {
     "name": "stdout",
     "output_type": "stream",
     "text": [
      "Fold: Tuning: n_train=263580, eval_set=43931\n",
      "Fold: Tuning: n_train=263581, eval_set=43930\n",
      "Fold: Tuning: n_train=263581, eval_set=43930\n",
      "Fold: Tuning: n_train=263581, eval_set=43930\n",
      "Fold: Tuning: n_train=263581, eval_set=43930\n",
      "Fold: Tuning: n_train=263581, eval_set=43930\n",
      "Fold: Tuning: n_train=263581, eval_set=43930\n",
      "Tune: val_score:0.7733, std_test_score:0.00354 train_set_score:0.8404\n",
      "folds val/train: [0.7738, 0.77, 0.7694, 0.7768, 0.7795, 0.7736, 0.7702] / [0.8405, 0.8402, 0.8409, 0.8404, 0.8393, 0.8399, 0.8418], mean fold time: 2.60\n"
     ]
    },
    {
     "name": "stderr",
     "output_type": "stream",
     "text": [
      "[I 2024-04-20 20:15:24,838] Trial 17 finished with value: 0.7733238994212198 and parameters: {'model__n_estimators': 850, 'model__learning_rate': 0.09, 'model__max_depth': 11, 'model__num_leaves': 216, 'model__min_gain_to_split': 7.0, 'model__min_data_in_leaf': 1800, 'model__lambda_l1': 25, 'model__lambda_l2': 35, 'model__bagging_fraction': 0.4, 'model__feature_fraction': 0.8, 'model__max_bin': 425}. Best is trial 14 with value: 0.7754762116288143.\n"
     ]
    },
    {
     "name": "stdout",
     "output_type": "stream",
     "text": [
      "Fold: Tuning: n_train=263580, eval_set=43931\n",
      "Fold: Tuning: n_train=263581, eval_set=43930\n",
      "Fold: Tuning: n_train=263581, eval_set=43930\n",
      "Fold: Tuning: n_train=263581, eval_set=43930\n",
      "Fold: Tuning: n_train=263581, eval_set=43930\n",
      "Fold: Tuning: n_train=263581, eval_set=43930\n",
      "Fold: Tuning: n_train=263581, eval_set=43930\n",
      "Tune: val_score:0.7730, std_test_score:0.00405 train_set_score:0.8228\n",
      "folds val/train: [0.7733, 0.7695, 0.7693, 0.7773, 0.7805, 0.7719, 0.7694] / [0.8211, 0.8233, 0.8245, 0.8222, 0.8211, 0.824, 0.8231], mean fold time: 2.18\n"
     ]
    },
    {
     "name": "stderr",
     "output_type": "stream",
     "text": [
      "[I 2024-04-20 20:15:40,901] Trial 18 finished with value: 0.7730146242826691 and parameters: {'model__n_estimators': 1000, 'model__learning_rate': 0.14, 'model__max_depth': 7, 'model__num_leaves': 232, 'model__min_gain_to_split': 4.0, 'model__min_data_in_leaf': 2300, 'model__lambda_l1': 55, 'model__lambda_l2': 75, 'model__bagging_fraction': 0.4, 'model__feature_fraction': 0.7, 'model__max_bin': 325}. Best is trial 14 with value: 0.7754762116288143.\n"
     ]
    },
    {
     "name": "stdout",
     "output_type": "stream",
     "text": [
      "Fold: Tuning: n_train=263580, eval_set=43931\n",
      "Fold: Tuning: n_train=263581, eval_set=43930\n",
      "Fold: Tuning: n_train=263581, eval_set=43930\n",
      "Fold: Tuning: n_train=263581, eval_set=43930\n",
      "Fold: Tuning: n_train=263581, eval_set=43930\n",
      "Fold: Tuning: n_train=263581, eval_set=43930\n",
      "Fold: Tuning: n_train=263581, eval_set=43930\n",
      "Tune: val_score:0.7743, std_test_score:0.00403 train_set_score:0.8246\n",
      "folds val/train: [0.7743, 0.7715, 0.771, 0.7791, 0.7816, 0.7723, 0.7704] / [0.8248, 0.8308, 0.8241, 0.8248, 0.8312, 0.8218, 0.8147], mean fold time: 3.40\n"
     ]
    },
    {
     "name": "stderr",
     "output_type": "stream",
     "text": [
      "[I 2024-04-20 20:16:05,464] Trial 19 finished with value: 0.7743000154048904 and parameters: {'model__n_estimators': 600, 'model__learning_rate': 0.08, 'model__max_depth': 5, 'model__num_leaves': 208, 'model__min_gain_to_split': 1.5, 'model__min_data_in_leaf': 1900, 'model__lambda_l1': 30, 'model__lambda_l2': 50, 'model__bagging_fraction': 0.2, 'model__feature_fraction': 0.8, 'model__max_bin': 400}. Best is trial 14 with value: 0.7754762116288143.\n"
     ]
    },
    {
     "name": "stdout",
     "output_type": "stream",
     "text": [
      "Fold: Tuning: n_train=263580, eval_set=43931\n",
      "Fold: Tuning: n_train=263581, eval_set=43930\n",
      "Fold: Tuning: n_train=263581, eval_set=43930\n",
      "Fold: Tuning: n_train=263581, eval_set=43930\n",
      "Fold: Tuning: n_train=263581, eval_set=43930\n",
      "Fold: Tuning: n_train=263581, eval_set=43930\n",
      "Fold: Tuning: n_train=263581, eval_set=43930\n",
      "Tune: val_score:0.7723, std_test_score:0.00386 train_set_score:0.7966\n",
      "folds val/train: [0.7722, 0.7694, 0.7693, 0.7756, 0.7794, 0.773, 0.7673] / [0.7975, 0.7982, 0.7953, 0.7984, 0.7974, 0.7975, 0.7918], mean fold time: 2.17\n"
     ]
    },
    {
     "name": "stderr",
     "output_type": "stream",
     "text": [
      "[I 2024-04-20 20:16:21,479] Trial 20 finished with value: 0.7723225921932223 and parameters: {'model__n_estimators': 350, 'model__learning_rate': 0.17, 'model__max_depth': 3, 'model__num_leaves': 256, 'model__min_gain_to_split': 7.5, 'model__min_data_in_leaf': 2400, 'model__lambda_l1': 10, 'model__lambda_l2': 30, 'model__bagging_fraction': 0.8, 'model__feature_fraction': 0.6000000000000001, 'model__max_bin': 275}. Best is trial 14 with value: 0.7754762116288143.\n"
     ]
    },
    {
     "name": "stdout",
     "output_type": "stream",
     "text": [
      "Fold: Tuning: n_train=263580, eval_set=43931\n",
      "Fold: Tuning: n_train=263581, eval_set=43930\n",
      "Fold: Tuning: n_train=263581, eval_set=43930\n",
      "Fold: Tuning: n_train=263581, eval_set=43930\n",
      "Fold: Tuning: n_train=263581, eval_set=43930\n",
      "Fold: Tuning: n_train=263581, eval_set=43930\n",
      "Fold: Tuning: n_train=263581, eval_set=43930\n",
      "Tune: val_score:0.7752, std_test_score:0.00334 train_set_score:0.8174\n",
      "folds val/train: [0.7759, 0.7725, 0.7721, 0.7792, 0.7808, 0.7742, 0.7718] / [0.8165, 0.818, 0.8195, 0.8152, 0.8163, 0.8182, 0.8183], mean fold time: 4.30\n"
     ]
    },
    {
     "name": "stderr",
     "output_type": "stream",
     "text": [
      "[I 2024-04-20 20:16:52,375] Trial 21 finished with value: 0.7752015699575395 and parameters: {'model__n_estimators': 1000, 'model__learning_rate': 0.060000000000000005, 'model__max_depth': 5, 'model__num_leaves': 168, 'model__min_gain_to_split': 3.0, 'model__min_data_in_leaf': 2700, 'model__lambda_l1': 55, 'model__lambda_l2': 80, 'model__bagging_fraction': 0.30000000000000004, 'model__feature_fraction': 0.9000000000000001, 'model__max_bin': 500}. Best is trial 14 with value: 0.7754762116288143.\n"
     ]
    },
    {
     "name": "stdout",
     "output_type": "stream",
     "text": [
      "Fold: Tuning: n_train=263580, eval_set=43931\n",
      "Fold: Tuning: n_train=263581, eval_set=43930\n",
      "Fold: Tuning: n_train=263581, eval_set=43930\n",
      "Fold: Tuning: n_train=263581, eval_set=43930\n",
      "Fold: Tuning: n_train=263581, eval_set=43930\n",
      "Fold: Tuning: n_train=263581, eval_set=43930\n",
      "Fold: Tuning: n_train=263581, eval_set=43930\n",
      "Tune: val_score:0.7750, std_test_score:0.00376 train_set_score:0.8154\n",
      "folds val/train: [0.7757, 0.7724, 0.7721, 0.7801, 0.7808, 0.7742, 0.7701] / [0.8172, 0.8172, 0.8174, 0.8177, 0.8115, 0.8178, 0.8092], mean fold time: 5.46\n"
     ]
    },
    {
     "name": "stderr",
     "output_type": "stream",
     "text": [
      "[I 2024-04-20 20:17:31,394] Trial 22 finished with value: 0.7750419053832699 and parameters: {'model__n_estimators': 900, 'model__learning_rate': 0.04, 'model__max_depth': 5, 'model__num_leaves': 224, 'model__min_gain_to_split': 3.5, 'model__min_data_in_leaf': 2600, 'model__lambda_l1': 50, 'model__lambda_l2': 75, 'model__bagging_fraction': 0.30000000000000004, 'model__feature_fraction': 0.9000000000000001, 'model__max_bin': 500}. Best is trial 14 with value: 0.7754762116288143.\n"
     ]
    },
    {
     "name": "stdout",
     "output_type": "stream",
     "text": [
      "Fold: Tuning: n_train=263580, eval_set=43931\n",
      "Fold: Tuning: n_train=263581, eval_set=43930\n",
      "Fold: Tuning: n_train=263581, eval_set=43930\n",
      "Fold: Tuning: n_train=263581, eval_set=43930\n",
      "Fold: Tuning: n_train=263581, eval_set=43930\n",
      "Fold: Tuning: n_train=263581, eval_set=43930\n",
      "Fold: Tuning: n_train=263581, eval_set=43930\n",
      "Tune: val_score:0.7745, std_test_score:0.00375 train_set_score:0.8108\n",
      "folds val/train: [0.7746, 0.7713, 0.7716, 0.7794, 0.7807, 0.7732, 0.7706] / [0.8107, 0.8113, 0.8115, 0.8105, 0.8096, 0.8111, 0.8109], mean fold time: 6.17\n"
     ]
    },
    {
     "name": "stderr",
     "output_type": "stream",
     "text": [
      "[I 2024-04-20 20:18:15,413] Trial 23 finished with value: 0.774469366957401 and parameters: {'model__n_estimators': 850, 'model__learning_rate': 0.03, 'model__max_depth': 5, 'model__num_leaves': 224, 'model__min_gain_to_split': 5.5, 'model__min_data_in_leaf': 2600, 'model__lambda_l1': 50, 'model__lambda_l2': 80, 'model__bagging_fraction': 0.4, 'model__feature_fraction': 0.9000000000000001, 'model__max_bin': 500}. Best is trial 14 with value: 0.7754762116288143.\n"
     ]
    },
    {
     "name": "stdout",
     "output_type": "stream",
     "text": [
      "Fold: Tuning: n_train=263580, eval_set=43931\n",
      "Fold: Tuning: n_train=263581, eval_set=43930\n",
      "Fold: Tuning: n_train=263581, eval_set=43930\n",
      "Fold: Tuning: n_train=263581, eval_set=43930\n",
      "Fold: Tuning: n_train=263581, eval_set=43930\n",
      "Fold: Tuning: n_train=263581, eval_set=43930\n",
      "Fold: Tuning: n_train=263581, eval_set=43930\n",
      "Tune: val_score:0.7740, std_test_score:0.00373 train_set_score:0.8035\n",
      "folds val/train: [0.7747, 0.7708, 0.7709, 0.7785, 0.7805, 0.7721, 0.7707] / [0.8039, 0.8037, 0.8038, 0.8034, 0.8023, 0.8033, 0.8043], mean fold time: 3.91\n"
     ]
    },
    {
     "name": "stderr",
     "output_type": "stream",
     "text": [
      "[I 2024-04-20 20:18:43,564] Trial 24 finished with value: 0.7740358910582028 and parameters: {'model__n_estimators': 900, 'model__learning_rate': 0.060000000000000005, 'model__max_depth': 4, 'model__num_leaves': 192, 'model__min_gain_to_split': 4.0, 'model__min_data_in_leaf': 2600, 'model__lambda_l1': 75, 'model__lambda_l2': 55, 'model__bagging_fraction': 0.30000000000000004, 'model__feature_fraction': 0.9000000000000001, 'model__max_bin': 450}. Best is trial 14 with value: 0.7754762116288143.\n"
     ]
    },
    {
     "name": "stdout",
     "output_type": "stream",
     "text": [
      "Fold: Tuning: n_train=263580, eval_set=43931\n",
      "Fold: Tuning: n_train=263581, eval_set=43930\n",
      "Fold: Tuning: n_train=263581, eval_set=43930\n",
      "Fold: Tuning: n_train=263581, eval_set=43930\n",
      "Fold: Tuning: n_train=263581, eval_set=43930\n",
      "Fold: Tuning: n_train=263581, eval_set=43930\n",
      "Fold: Tuning: n_train=263581, eval_set=43930\n",
      "Tune: val_score:0.7744, std_test_score:0.00359 train_set_score:0.8231\n",
      "folds val/train: [0.7747, 0.7726, 0.769, 0.7792, 0.7796, 0.7739, 0.7719] / [0.8205, 0.8321, 0.8089, 0.8241, 0.8199, 0.8271, 0.8292], mean fold time: 2.91\n"
     ]
    },
    {
     "name": "stderr",
     "output_type": "stream",
     "text": [
      "[I 2024-04-20 20:19:04,780] Trial 25 finished with value: 0.7744094960187924 and parameters: {'model__n_estimators': 800, 'model__learning_rate': 0.12, 'model__max_depth': 5, 'model__num_leaves': 160, 'model__min_gain_to_split': 1.5, 'model__min_data_in_leaf': 2100, 'model__lambda_l1': 55, 'model__lambda_l2': 95, 'model__bagging_fraction': 0.2, 'model__feature_fraction': 0.9000000000000001, 'model__max_bin': 500}. Best is trial 14 with value: 0.7754762116288143.\n"
     ]
    },
    {
     "name": "stdout",
     "output_type": "stream",
     "text": [
      "Fold: Tuning: n_train=263580, eval_set=43931\n",
      "Fold: Tuning: n_train=263581, eval_set=43930\n",
      "Fold: Tuning: n_train=263581, eval_set=43930\n",
      "Fold: Tuning: n_train=263581, eval_set=43930\n",
      "Fold: Tuning: n_train=263581, eval_set=43930\n",
      "Fold: Tuning: n_train=263581, eval_set=43930\n",
      "Fold: Tuning: n_train=263581, eval_set=43930\n",
      "Tune: val_score:0.7738, std_test_score:0.00321 train_set_score:0.8046\n",
      "folds val/train: [0.7749, 0.7706, 0.7706, 0.7781, 0.7786, 0.7724, 0.7712] / [0.8051, 0.8057, 0.8052, 0.8047, 0.8004, 0.8054, 0.8056], mean fold time: 6.18\n"
     ]
    },
    {
     "name": "stderr",
     "output_type": "stream",
     "text": [
      "[I 2024-04-20 20:19:48,855] Trial 26 finished with value: 0.7737627984752852 and parameters: {'model__n_estimators': 900, 'model__learning_rate': 0.03, 'model__max_depth': 4, 'model__num_leaves': 208, 'model__min_gain_to_split': 6.5, 'model__min_data_in_leaf': 1500, 'model__lambda_l1': 40, 'model__lambda_l2': 95, 'model__bagging_fraction': 0.6000000000000001, 'model__feature_fraction': 0.9000000000000001, 'model__max_bin': 450}. Best is trial 14 with value: 0.7754762116288143.\n"
     ]
    },
    {
     "name": "stdout",
     "output_type": "stream",
     "text": [
      "Fold: Tuning: n_train=263580, eval_set=43931\n",
      "Fold: Tuning: n_train=263581, eval_set=43930\n",
      "Fold: Tuning: n_train=263581, eval_set=43930\n",
      "Fold: Tuning: n_train=263581, eval_set=43930\n",
      "Fold: Tuning: n_train=263581, eval_set=43930\n",
      "Fold: Tuning: n_train=263581, eval_set=43930\n",
      "Fold: Tuning: n_train=263581, eval_set=43930\n",
      "Tune: val_score:0.7721, std_test_score:0.00327 train_set_score:0.7913\n",
      "folds val/train: [0.7726, 0.7692, 0.7695, 0.7753, 0.7783, 0.7712, 0.769] / [0.7916, 0.7917, 0.7922, 0.7906, 0.7902, 0.791, 0.792], mean fold time: 3.00\n"
     ]
    },
    {
     "name": "stderr",
     "output_type": "stream",
     "text": [
      "[I 2024-04-20 20:20:10,622] Trial 27 finished with value: 0.7721432725360806 and parameters: {'model__n_estimators': 950, 'model__learning_rate': 0.06999999999999999, 'model__max_depth': 3, 'model__num_leaves': 240, 'model__min_gain_to_split': 11.0, 'model__min_data_in_leaf': 2700, 'model__lambda_l1': 35, 'model__lambda_l2': 55, 'model__bagging_fraction': 0.30000000000000004, 'model__feature_fraction': 0.7, 'model__max_bin': 250}. Best is trial 14 with value: 0.7754762116288143.\n"
     ]
    },
    {
     "name": "stdout",
     "output_type": "stream",
     "text": [
      "Fold: Tuning: n_train=263580, eval_set=43931\n",
      "Fold: Tuning: n_train=263581, eval_set=43930\n",
      "Fold: Tuning: n_train=263581, eval_set=43930\n",
      "Fold: Tuning: n_train=263581, eval_set=43930\n",
      "Fold: Tuning: n_train=263581, eval_set=43930\n",
      "Fold: Tuning: n_train=263581, eval_set=43930\n",
      "Fold: Tuning: n_train=263581, eval_set=43930\n",
      "Tune: val_score:0.7740, std_test_score:0.00340 train_set_score:0.8144\n",
      "folds val/train: [0.7739, 0.7712, 0.7706, 0.7782, 0.78, 0.7731, 0.7713] / [0.8159, 0.814, 0.8153, 0.8143, 0.8131, 0.8135, 0.8147], mean fold time: 2.62\n"
     ]
    },
    {
     "name": "stderr",
     "output_type": "stream",
     "text": [
      "[I 2024-04-20 20:20:29,799] Trial 28 finished with value: 0.7740236850836845 and parameters: {'model__n_estimators': 600, 'model__learning_rate': 0.11, 'model__max_depth': 5, 'model__num_leaves': 176, 'model__min_gain_to_split': 3.5, 'model__min_data_in_leaf': 2000, 'model__lambda_l1': 60, 'model__lambda_l2': 20, 'model__bagging_fraction': 0.4, 'model__feature_fraction': 0.6000000000000001, 'model__max_bin': 425}. Best is trial 14 with value: 0.7754762116288143.\n"
     ]
    },
    {
     "name": "stdout",
     "output_type": "stream",
     "text": [
      "Fold: Tuning: n_train=263580, eval_set=43931\n",
      "Fold: Tuning: n_train=263581, eval_set=43930\n",
      "Fold: Tuning: n_train=263581, eval_set=43930\n",
      "Fold: Tuning: n_train=263581, eval_set=43930\n",
      "Fold: Tuning: n_train=263581, eval_set=43930\n",
      "Fold: Tuning: n_train=263581, eval_set=43930\n",
      "Fold: Tuning: n_train=263581, eval_set=43930\n",
      "Tune: val_score:0.7592, std_test_score:0.00342 train_set_score:0.7791\n",
      "folds val/train: [0.7596, 0.756, 0.7571, 0.7627, 0.7656, 0.7565, 0.7567] / [0.7792, 0.7795, 0.7793, 0.7788, 0.778, 0.7793, 0.7799], mean fold time: 4.28\n"
     ]
    },
    {
     "name": "stderr",
     "output_type": "stream",
     "text": [
      "[I 2024-04-20 20:21:00,569] Trial 29 finished with value: 0.7591692729826303 and parameters: {'model__n_estimators': 400, 'model__learning_rate': 0.01, 'model__max_depth': 7, 'model__num_leaves': 200, 'model__min_gain_to_split': 8.5, 'model__min_data_in_leaf': 3000, 'model__lambda_l1': 80, 'model__lambda_l2': 80, 'model__bagging_fraction': 0.5, 'model__feature_fraction': 0.8, 'model__max_bin': 100}. Best is trial 14 with value: 0.7754762116288143.\n"
     ]
    },
    {
     "name": "stdout",
     "output_type": "stream",
     "text": [
      "Fold: Tuning: n_train=263580, eval_set=43931\n",
      "Fold: Tuning: n_train=263581, eval_set=43930\n",
      "Fold: Tuning: n_train=263581, eval_set=43930\n",
      "Fold: Tuning: n_train=263581, eval_set=43930\n",
      "Fold: Tuning: n_train=263581, eval_set=43930\n",
      "Fold: Tuning: n_train=263581, eval_set=43930\n",
      "Fold: Tuning: n_train=263581, eval_set=43930\n",
      "Tune: val_score:0.7724, std_test_score:0.00409 train_set_score:0.8088\n",
      "folds val/train: [0.7737, 0.7712, 0.7677, 0.7763, 0.7797, 0.7696, 0.7684] / [0.8082, 0.8213, 0.802, 0.8101, 0.8088, 0.8066, 0.8044], mean fold time: 2.29\n"
     ]
    },
    {
     "name": "stderr",
     "output_type": "stream",
     "text": [
      "[I 2024-04-20 20:21:17,437] Trial 30 finished with value: 0.7723831161212205 and parameters: {'model__n_estimators': 750, 'model__learning_rate': 0.15000000000000002, 'model__max_depth': 4, 'model__num_leaves': 224, 'model__min_gain_to_split': 1.0, 'model__min_data_in_leaf': 1500, 'model__lambda_l1': 50, 'model__lambda_l2': 45, 'model__bagging_fraction': 0.2, 'model__feature_fraction': 0.9000000000000001, 'model__max_bin': 475}. Best is trial 14 with value: 0.7754762116288143.\n"
     ]
    },
    {
     "name": "stdout",
     "output_type": "stream",
     "text": [
      "Fold: Tuning: n_train=263580, eval_set=43931\n",
      "Fold: Tuning: n_train=263581, eval_set=43930\n",
      "Fold: Tuning: n_train=263581, eval_set=43930\n",
      "Fold: Tuning: n_train=263581, eval_set=43930\n",
      "Fold: Tuning: n_train=263581, eval_set=43930\n",
      "Fold: Tuning: n_train=263581, eval_set=43930\n",
      "Fold: Tuning: n_train=263581, eval_set=43930\n",
      "Tune: val_score:0.7733, std_test_score:0.00478 train_set_score:0.8382\n",
      "folds val/train: [0.7743, 0.7667, 0.7699, 0.7781, 0.7813, 0.7736, 0.7691] / [0.8429, 0.8199, 0.8384, 0.8463, 0.848, 0.841, 0.8311], mean fold time: 3.09\n"
     ]
    },
    {
     "name": "stderr",
     "output_type": "stream",
     "text": [
      "[I 2024-04-20 20:21:39,866] Trial 31 finished with value: 0.7732667751527698 and parameters: {'model__n_estimators': 1000, 'model__learning_rate': 0.08, 'model__max_depth': 8, 'model__num_leaves': 256, 'model__min_gain_to_split': 2.5, 'model__min_data_in_leaf': 2400, 'model__lambda_l1': 15, 'model__lambda_l2': 70, 'model__bagging_fraction': 0.30000000000000004, 'model__feature_fraction': 0.8, 'model__max_bin': 400}. Best is trial 14 with value: 0.7754762116288143.\n"
     ]
    },
    {
     "name": "stdout",
     "output_type": "stream",
     "text": [
      "Fold: Tuning: n_train=263580, eval_set=43931\n",
      "Fold: Tuning: n_train=263581, eval_set=43930\n",
      "Fold: Tuning: n_train=263581, eval_set=43930\n",
      "Fold: Tuning: n_train=263581, eval_set=43930\n",
      "Fold: Tuning: n_train=263581, eval_set=43930\n",
      "Fold: Tuning: n_train=263581, eval_set=43930\n",
      "Fold: Tuning: n_train=263581, eval_set=43930\n",
      "Tune: val_score:0.7750, std_test_score:0.00377 train_set_score:0.8246\n",
      "folds val/train: [0.7754, 0.7722, 0.7719, 0.7793, 0.7817, 0.7738, 0.7708] / [0.8238, 0.8251, 0.8256, 0.8247, 0.8237, 0.8244, 0.8247], mean fold time: 4.94\n"
     ]
    },
    {
     "name": "stderr",
     "output_type": "stream",
     "text": [
      "[I 2024-04-20 20:22:15,240] Trial 32 finished with value: 0.7750082462046973 and parameters: {'model__n_estimators': 950, 'model__learning_rate': 0.04, 'model__max_depth': 6, 'model__num_leaves': 240, 'model__min_gain_to_split': 5.0, 'model__min_data_in_leaf': 2200, 'model__lambda_l1': 30, 'model__lambda_l2': 70, 'model__bagging_fraction': 0.30000000000000004, 'model__feature_fraction': 0.8, 'model__max_bin': 350}. Best is trial 14 with value: 0.7754762116288143.\n"
     ]
    },
    {
     "name": "stdout",
     "output_type": "stream",
     "text": [
      "Fold: Tuning: n_train=263580, eval_set=43931\n",
      "Fold: Tuning: n_train=263581, eval_set=43930\n",
      "Fold: Tuning: n_train=263581, eval_set=43930\n",
      "Fold: Tuning: n_train=263581, eval_set=43930\n",
      "Fold: Tuning: n_train=263581, eval_set=43930\n",
      "Fold: Tuning: n_train=263581, eval_set=43930\n",
      "Fold: Tuning: n_train=263581, eval_set=43930\n",
      "Tune: val_score:0.7749, std_test_score:0.00371 train_set_score:0.8181\n",
      "folds val/train: [0.7747, 0.7716, 0.7717, 0.7794, 0.7813, 0.7745, 0.7711] / [0.8183, 0.8184, 0.8192, 0.8179, 0.8162, 0.8182, 0.8183], mean fold time: 4.46\n"
     ]
    },
    {
     "name": "stderr",
     "output_type": "stream",
     "text": [
      "[I 2024-04-20 20:22:47,274] Trial 33 finished with value: 0.7749025300970167 and parameters: {'model__n_estimators': 900, 'model__learning_rate': 0.04, 'model__max_depth': 6, 'model__num_leaves': 240, 'model__min_gain_to_split': 5.5, 'model__min_data_in_leaf': 2500, 'model__lambda_l1': 35, 'model__lambda_l2': 75, 'model__bagging_fraction': 0.5, 'model__feature_fraction': 0.7, 'model__max_bin': 225}. Best is trial 14 with value: 0.7754762116288143.\n"
     ]
    },
    {
     "name": "stdout",
     "output_type": "stream",
     "text": [
      "Fold: Tuning: n_train=263580, eval_set=43931\n",
      "Fold: Tuning: n_train=263581, eval_set=43930\n",
      "Fold: Tuning: n_train=263581, eval_set=43930\n",
      "Fold: Tuning: n_train=263581, eval_set=43930\n",
      "Fold: Tuning: n_train=263581, eval_set=43930\n",
      "Fold: Tuning: n_train=263581, eval_set=43930\n",
      "Fold: Tuning: n_train=263581, eval_set=43930\n",
      "Tune: val_score:0.7726, std_test_score:0.00399 train_set_score:0.8139\n",
      "folds val/train: [0.773, 0.7693, 0.7701, 0.7785, 0.7787, 0.7706, 0.7683] / [0.8125, 0.8148, 0.8143, 0.8146, 0.8121, 0.814, 0.8148], mean fold time: 1.91\n"
     ]
    },
    {
     "name": "stderr",
     "output_type": "stream",
     "text": [
      "[I 2024-04-20 20:23:01,486] Trial 34 finished with value: 0.7726383607638744 and parameters: {'model__n_estimators': 950, 'model__learning_rate': 0.21000000000000002, 'model__max_depth': 5, 'model__num_leaves': 232, 'model__min_gain_to_split': 4.5, 'model__min_data_in_leaf': 2200, 'model__lambda_l1': 50, 'model__lambda_l2': 90, 'model__bagging_fraction': 0.4, 'model__feature_fraction': 1.0, 'model__max_bin': 500}. Best is trial 14 with value: 0.7754762116288143.\n"
     ]
    },
    {
     "name": "stdout",
     "output_type": "stream",
     "text": [
      "Fold: Tuning: n_train=263580, eval_set=43931\n",
      "Fold: Tuning: n_train=263581, eval_set=43930\n",
      "Fold: Tuning: n_train=263581, eval_set=43930\n",
      "Fold: Tuning: n_train=263581, eval_set=43930\n",
      "Fold: Tuning: n_train=263581, eval_set=43930\n",
      "Fold: Tuning: n_train=263581, eval_set=43930\n",
      "Fold: Tuning: n_train=263581, eval_set=43930\n",
      "Tune: val_score:0.7750, std_test_score:0.00389 train_set_score:0.8168\n",
      "folds val/train: [0.7747, 0.7714, 0.7713, 0.7792, 0.7822, 0.7741, 0.772] / [0.8133, 0.8161, 0.8172, 0.8248, 0.814, 0.8119, 0.8204], mean fold time: 5.39\n"
     ]
    },
    {
     "name": "stderr",
     "output_type": "stream",
     "text": [
      "[I 2024-04-20 20:23:40,010] Trial 35 finished with value: 0.7749853797731416 and parameters: {'model__n_estimators': 850, 'model__learning_rate': 0.03, 'model__max_depth': 6, 'model__num_leaves': 216, 'model__min_gain_to_split': 5.0, 'model__min_data_in_leaf': 2800, 'model__lambda_l1': 0, 'model__lambda_l2': 60, 'model__bagging_fraction': 0.2, 'model__feature_fraction': 0.30000000000000004, 'model__max_bin': 425}. Best is trial 14 with value: 0.7754762116288143.\n"
     ]
    },
    {
     "name": "stdout",
     "output_type": "stream",
     "text": [
      "Fold: Tuning: n_train=263580, eval_set=43931\n",
      "Fold: Tuning: n_train=263581, eval_set=43930\n",
      "Fold: Tuning: n_train=263581, eval_set=43930\n",
      "Fold: Tuning: n_train=263581, eval_set=43930\n",
      "Fold: Tuning: n_train=263581, eval_set=43930\n",
      "Fold: Tuning: n_train=263581, eval_set=43930\n",
      "Fold: Tuning: n_train=263581, eval_set=43930\n",
      "Tune: val_score:0.7742, std_test_score:0.00337 train_set_score:0.7984\n",
      "folds val/train: [0.7735, 0.7718, 0.7713, 0.7777, 0.7805, 0.7738, 0.7706] / [0.7944, 0.8021, 0.7983, 0.7979, 0.7956, 0.8018, 0.799], mean fold time: 4.81\n"
     ]
    },
    {
     "name": "stderr",
     "output_type": "stream",
     "text": [
      "[I 2024-04-20 20:24:14,474] Trial 36 finished with value: 0.7741589075011268 and parameters: {'model__n_estimators': 950, 'model__learning_rate': 0.060000000000000005, 'model__max_depth': 3, 'model__num_leaves': 144, 'model__min_gain_to_split': 2.0, 'model__min_data_in_leaf': 3000, 'model__lambda_l1': 70, 'model__lambda_l2': 100, 'model__bagging_fraction': 0.30000000000000004, 'model__feature_fraction': 0.9000000000000001, 'model__max_bin': 350}. Best is trial 14 with value: 0.7754762116288143.\n"
     ]
    },
    {
     "name": "stdout",
     "output_type": "stream",
     "text": [
      "Fold: Tuning: n_train=263580, eval_set=43931\n",
      "Fold: Tuning: n_train=263581, eval_set=43930\n",
      "Fold: Tuning: n_train=263581, eval_set=43930\n",
      "Fold: Tuning: n_train=263581, eval_set=43930\n",
      "Fold: Tuning: n_train=263581, eval_set=43930\n",
      "Fold: Tuning: n_train=263581, eval_set=43930\n",
      "Fold: Tuning: n_train=263581, eval_set=43930\n",
      "Tune: val_score:0.7748, std_test_score:0.00375 train_set_score:0.8316\n",
      "folds val/train: [0.7746, 0.7724, 0.7704, 0.779, 0.7813, 0.7745, 0.7712] / [0.8314, 0.832, 0.8326, 0.8319, 0.8299, 0.8316, 0.8319], mean fold time: 3.90\n"
     ]
    },
    {
     "name": "stderr",
     "output_type": "stream",
     "text": [
      "[I 2024-04-20 20:24:42,559] Trial 37 finished with value: 0.7747623108343251 and parameters: {'model__n_estimators': 800, 'model__learning_rate': 0.05, 'model__max_depth': 8, 'model__num_leaves': 184, 'model__min_gain_to_split': 6.0, 'model__min_data_in_leaf': 1700, 'model__lambda_l1': 35, 'model__lambda_l2': 85, 'model__bagging_fraction': 0.4, 'model__feature_fraction': 0.8, 'model__max_bin': 475}. Best is trial 14 with value: 0.7754762116288143.\n"
     ]
    },
    {
     "name": "stdout",
     "output_type": "stream",
     "text": [
      "Fold: Tuning: n_train=263580, eval_set=43931\n",
      "Fold: Tuning: n_train=263581, eval_set=43930\n",
      "Fold: Tuning: n_train=263581, eval_set=43930\n",
      "Fold: Tuning: n_train=263581, eval_set=43930\n",
      "Fold: Tuning: n_train=263581, eval_set=43930\n",
      "Fold: Tuning: n_train=263581, eval_set=43930\n",
      "Fold: Tuning: n_train=263581, eval_set=43930\n",
      "Tune: val_score:0.7736, std_test_score:0.00333 train_set_score:0.8232\n",
      "folds val/train: [0.774, 0.7709, 0.7697, 0.777, 0.7796, 0.7734, 0.771] / [0.8242, 0.8243, 0.8243, 0.8157, 0.8238, 0.8251, 0.8253], mean fold time: 2.51\n"
     ]
    },
    {
     "name": "stderr",
     "output_type": "stream",
     "text": [
      "[I 2024-04-20 20:25:00,917] Trial 38 finished with value: 0.7736410287018692 and parameters: {'model__n_estimators': 900, 'model__learning_rate': 0.12, 'model__max_depth': 5, 'model__num_leaves': 200, 'model__min_gain_to_split': 3.5, 'model__min_data_in_leaf': 0, 'model__lambda_l1': 45, 'model__lambda_l2': 25, 'model__bagging_fraction': 0.5, 'model__feature_fraction': 0.6000000000000001, 'model__max_bin': 300}. Best is trial 14 with value: 0.7754762116288143.\n"
     ]
    },
    {
     "name": "stdout",
     "output_type": "stream",
     "text": [
      "Fold: Tuning: n_train=263580, eval_set=43931\n",
      "Fold: Tuning: n_train=263581, eval_set=43930\n",
      "Fold: Tuning: n_train=263581, eval_set=43930\n",
      "Fold: Tuning: n_train=263581, eval_set=43930\n",
      "Fold: Tuning: n_train=263581, eval_set=43930\n",
      "Fold: Tuning: n_train=263581, eval_set=43930\n",
      "Fold: Tuning: n_train=263581, eval_set=43930\n",
      "Tune: val_score:0.7542, std_test_score:0.02187 train_set_score:0.7693\n",
      "folds val/train: [0.7299, 0.7278, 0.7687, 0.7754, 0.778, 0.77, 0.7299] / [0.7342, 0.7352, 0.7954, 0.7951, 0.7942, 0.7956, 0.7355], mean fold time: 4.36\n"
     ]
    },
    {
     "name": "stderr",
     "output_type": "stream",
     "text": [
      "[I 2024-04-20 20:25:32,262] Trial 39 finished with value: 0.7542393929439106 and parameters: {'model__n_estimators': 1000, 'model__learning_rate': 0.02, 'model__max_depth': 4, 'model__num_leaves': 240, 'model__min_gain_to_split': 4.5, 'model__min_data_in_leaf': 2700, 'model__lambda_l1': 60, 'model__lambda_l2': 105, 'model__bagging_fraction': 0.30000000000000004, 'model__feature_fraction': 0.7, 'model__max_bin': 450}. Best is trial 14 with value: 0.7754762116288143.\n"
     ]
    },
    {
     "name": "stdout",
     "output_type": "stream",
     "text": [
      "Fold: Tuning: n_train=263580, eval_set=43931\n",
      "Fold: Tuning: n_train=263581, eval_set=43930\n",
      "Fold: Tuning: n_train=263581, eval_set=43930\n",
      "Fold: Tuning: n_train=263581, eval_set=43930\n",
      "Fold: Tuning: n_train=263581, eval_set=43930\n",
      "Fold: Tuning: n_train=263581, eval_set=43930\n",
      "Fold: Tuning: n_train=263581, eval_set=43930\n",
      "Tune: val_score:0.7727, std_test_score:0.00368 train_set_score:0.7997\n",
      "folds val/train: [0.7719, 0.7696, 0.7702, 0.7755, 0.7798, 0.7735, 0.7683] / [0.7998, 0.8002, 0.8006, 0.7998, 0.7977, 0.7996, 0.8001], mean fold time: 2.46\n"
     ]
    },
    {
     "name": "stderr",
     "output_type": "stream",
     "text": [
      "[I 2024-04-20 20:25:50,294] Trial 40 finished with value: 0.7727010717311444 and parameters: {'model__n_estimators': 700, 'model__learning_rate': 0.06999999999999999, 'model__max_depth': 6, 'model__num_leaves': 224, 'model__min_gain_to_split': 12.0, 'model__min_data_in_leaf': 1300, 'model__lambda_l1': 20, 'model__lambda_l2': 75, 'model__bagging_fraction': 1.0, 'model__feature_fraction': 0.2, 'model__max_bin': 125}. Best is trial 14 with value: 0.7754762116288143.\n"
     ]
    },
    {
     "name": "stdout",
     "output_type": "stream",
     "text": [
      "Fold: Tuning: n_train=263580, eval_set=43931\n",
      "Fold: Tuning: n_train=263581, eval_set=43930\n",
      "Fold: Tuning: n_train=263581, eval_set=43930\n",
      "Fold: Tuning: n_train=263581, eval_set=43930\n",
      "Fold: Tuning: n_train=263581, eval_set=43930\n",
      "Fold: Tuning: n_train=263581, eval_set=43930\n",
      "Fold: Tuning: n_train=263581, eval_set=43930\n",
      "Tune: val_score:0.7750, std_test_score:0.00389 train_set_score:0.8168\n",
      "folds val/train: [0.7747, 0.7714, 0.7713, 0.7792, 0.7822, 0.7741, 0.772] / [0.8133, 0.8161, 0.8172, 0.8248, 0.814, 0.8119, 0.8204], mean fold time: 5.41\n"
     ]
    },
    {
     "name": "stderr",
     "output_type": "stream",
     "text": [
      "[I 2024-04-20 20:26:28,952] Trial 41 finished with value: 0.7749853797731416 and parameters: {'model__n_estimators': 900, 'model__learning_rate': 0.03, 'model__max_depth': 6, 'model__num_leaves': 216, 'model__min_gain_to_split': 5.0, 'model__min_data_in_leaf': 2800, 'model__lambda_l1': 0, 'model__lambda_l2': 60, 'model__bagging_fraction': 0.2, 'model__feature_fraction': 0.30000000000000004, 'model__max_bin': 425}. Best is trial 14 with value: 0.7754762116288143.\n"
     ]
    },
    {
     "name": "stdout",
     "output_type": "stream",
     "text": [
      "Fold: Tuning: n_train=263580, eval_set=43931\n",
      "Fold: Tuning: n_train=263581, eval_set=43930\n",
      "Fold: Tuning: n_train=263581, eval_set=43930\n",
      "Fold: Tuning: n_train=263581, eval_set=43930\n",
      "Fold: Tuning: n_train=263581, eval_set=43930\n",
      "Fold: Tuning: n_train=263581, eval_set=43930\n",
      "Fold: Tuning: n_train=263581, eval_set=43930\n",
      "Tune: val_score:0.7746, std_test_score:0.00344 train_set_score:0.8301\n",
      "folds val/train: [0.7744, 0.7719, 0.7706, 0.7783, 0.7804, 0.7754, 0.7712] / [0.8264, 0.8326, 0.8283, 0.8328, 0.8248, 0.8321, 0.8333], mean fold time: 4.49\n"
     ]
    },
    {
     "name": "stderr",
     "output_type": "stream",
     "text": [
      "[I 2024-04-20 20:27:01,166] Trial 42 finished with value: 0.7745868982317908 and parameters: {'model__n_estimators': 850, 'model__learning_rate': 0.04, 'model__max_depth': 6, 'model__num_leaves': 168, 'model__min_gain_to_split': 7.5, 'model__min_data_in_leaf': 800, 'model__lambda_l1': 0, 'model__lambda_l2': 65, 'model__bagging_fraction': 0.2, 'model__feature_fraction': 0.4, 'model__max_bin': 375}. Best is trial 14 with value: 0.7754762116288143.\n"
     ]
    },
    {
     "name": "stdout",
     "output_type": "stream",
     "text": [
      "Fold: Tuning: n_train=263580, eval_set=43931\n",
      "Fold: Tuning: n_train=263581, eval_set=43930\n",
      "Fold: Tuning: n_train=263581, eval_set=43930\n",
      "Fold: Tuning: n_train=263581, eval_set=43930\n",
      "Fold: Tuning: n_train=263581, eval_set=43930\n",
      "Fold: Tuning: n_train=263581, eval_set=43930\n",
      "Fold: Tuning: n_train=263581, eval_set=43930\n",
      "Tune: val_score:0.7754, std_test_score:0.00328 train_set_score:0.8257\n",
      "folds val/train: [0.7754, 0.7713, 0.7724, 0.7794, 0.7803, 0.7765, 0.7726] / [0.8284, 0.8201, 0.8236, 0.8312, 0.8165, 0.8298, 0.8304], mean fold time: 3.92\n"
     ]
    },
    {
     "name": "stderr",
     "output_type": "stream",
     "text": [
      "[I 2024-04-20 20:27:29,408] Trial 43 finished with value: 0.7754267322514304 and parameters: {'model__n_estimators': 950, 'model__learning_rate': 0.05, 'model__max_depth': 7, 'model__num_leaves': 240, 'model__min_gain_to_split': 5.0, 'model__min_data_in_leaf': 2500, 'model__lambda_l1': 10, 'model__lambda_l2': 50, 'model__bagging_fraction': 0.2, 'model__feature_fraction': 0.30000000000000004, 'model__max_bin': 475}. Best is trial 14 with value: 0.7754762116288143.\n"
     ]
    },
    {
     "name": "stdout",
     "output_type": "stream",
     "text": [
      "Fold: Tuning: n_train=263580, eval_set=43931\n",
      "Fold: Tuning: n_train=263581, eval_set=43930\n",
      "Fold: Tuning: n_train=263581, eval_set=43930\n",
      "Fold: Tuning: n_train=263581, eval_set=43930\n",
      "Fold: Tuning: n_train=263581, eval_set=43930\n",
      "Fold: Tuning: n_train=263581, eval_set=43930\n",
      "Fold: Tuning: n_train=263581, eval_set=43930\n",
      "Tune: val_score:0.7734, std_test_score:0.00347 train_set_score:0.8145\n",
      "folds val/train: [0.7733, 0.7709, 0.7708, 0.7778, 0.7794, 0.7721, 0.7696] / [0.8143, 0.8145, 0.8156, 0.8141, 0.813, 0.8146, 0.8151], mean fold time: 4.08\n"
     ]
    },
    {
     "name": "stderr",
     "output_type": "stream",
     "text": [
      "[I 2024-04-20 20:27:58,802] Trial 44 finished with value: 0.7734205912874813 and parameters: {'model__n_estimators': 950, 'model__learning_rate': 0.05, 'model__max_depth': 7, 'model__num_leaves': 240, 'model__min_gain_to_split': 3.5, 'model__min_data_in_leaf': 2400, 'model__lambda_l1': 110, 'model__lambda_l2': 50, 'model__bagging_fraction': 0.30000000000000004, 'model__feature_fraction': 1.0, 'model__max_bin': 475}. Best is trial 14 with value: 0.7754762116288143.\n"
     ]
    },
    {
     "name": "stdout",
     "output_type": "stream",
     "text": [
      "Fold: Tuning: n_train=263580, eval_set=43931\n",
      "Fold: Tuning: n_train=263581, eval_set=43930\n",
      "Fold: Tuning: n_train=263581, eval_set=43930\n",
      "Fold: Tuning: n_train=263581, eval_set=43930\n",
      "Fold: Tuning: n_train=263581, eval_set=43930\n",
      "Fold: Tuning: n_train=263581, eval_set=43930\n",
      "Fold: Tuning: n_train=263581, eval_set=43930\n",
      "Tune: val_score:0.7743, std_test_score:0.00375 train_set_score:0.8170\n",
      "folds val/train: [0.7733, 0.7708, 0.7714, 0.777, 0.7814, 0.7757, 0.7702] / [0.8165, 0.8175, 0.8163, 0.8172, 0.8156, 0.8172, 0.8186], mean fold time: 3.14\n"
     ]
    },
    {
     "name": "stderr",
     "output_type": "stream",
     "text": [
      "[I 2024-04-20 20:28:21,586] Trial 45 finished with value: 0.7742636650636374 and parameters: {'model__n_estimators': 1000, 'model__learning_rate': 0.06999999999999999, 'model__max_depth': 8, 'model__num_leaves': 184, 'model__min_gain_to_split': 6.0, 'model__min_data_in_leaf': 2100, 'model__lambda_l1': 30, 'model__lambda_l2': 40, 'model__bagging_fraction': 0.2, 'model__feature_fraction': 0.2, 'model__max_bin': 500}. Best is trial 14 with value: 0.7754762116288143.\n"
     ]
    },
    {
     "name": "stdout",
     "output_type": "stream",
     "text": [
      "Fold: Tuning: n_train=263580, eval_set=43931\n",
      "Fold: Tuning: n_train=263581, eval_set=43930\n",
      "Fold: Tuning: n_train=263581, eval_set=43930\n",
      "Fold: Tuning: n_train=263581, eval_set=43930\n",
      "Fold: Tuning: n_train=263581, eval_set=43930\n",
      "Fold: Tuning: n_train=263581, eval_set=43930\n",
      "Fold: Tuning: n_train=263581, eval_set=43930\n",
      "Tune: val_score:0.7737, std_test_score:0.00377 train_set_score:0.8159\n",
      "folds val/train: [0.7726, 0.7704, 0.7698, 0.7771, 0.781, 0.7737, 0.771] / [0.8099, 0.8234, 0.815, 0.8148, 0.8144, 0.8183, 0.8155], mean fold time: 2.80\n"
     ]
    },
    {
     "name": "stderr",
     "output_type": "stream",
     "text": [
      "[I 2024-04-20 20:28:42,017] Trial 46 finished with value: 0.7736626982838021 and parameters: {'model__n_estimators': 950, 'model__learning_rate': 0.09999999999999999, 'model__max_depth': 5, 'model__num_leaves': 248, 'model__min_gain_to_split': 0.5, 'model__min_data_in_leaf': 2500, 'model__lambda_l1': 15, 'model__lambda_l2': 70, 'model__bagging_fraction': 0.30000000000000004, 'model__feature_fraction': 0.4, 'model__max_bin': 475}. Best is trial 14 with value: 0.7754762116288143.\n"
     ]
    },
    {
     "name": "stdout",
     "output_type": "stream",
     "text": [
      "Fold: Tuning: n_train=263580, eval_set=43931\n",
      "Fold: Tuning: n_train=263581, eval_set=43930\n",
      "Fold: Tuning: n_train=263581, eval_set=43930\n",
      "Fold: Tuning: n_train=263581, eval_set=43930\n",
      "Fold: Tuning: n_train=263581, eval_set=43930\n",
      "Fold: Tuning: n_train=263581, eval_set=43930\n",
      "Fold: Tuning: n_train=263581, eval_set=43930\n",
      "Tune: val_score:0.7695, std_test_score:0.00339 train_set_score:0.7968\n",
      "folds val/train: [0.7693, 0.7662, 0.7675, 0.7726, 0.7762, 0.7681, 0.7664] / [0.7967, 0.7968, 0.7972, 0.7967, 0.7957, 0.7969, 0.7975], mean fold time: 4.61\n"
     ]
    },
    {
     "name": "stderr",
     "output_type": "stream",
     "text": [
      "[I 2024-04-20 20:29:15,106] Trial 47 finished with value: 0.7694618374557625 and parameters: {'model__n_estimators': 450, 'model__learning_rate': 0.02, 'model__max_depth': 6, 'model__num_leaves': 80, 'model__min_gain_to_split': 2.0, 'model__min_data_in_leaf': 2700, 'model__lambda_l1': 45, 'model__lambda_l2': 80, 'model__bagging_fraction': 0.2, 'model__feature_fraction': 0.5, 'model__max_bin': 450}. Best is trial 14 with value: 0.7754762116288143.\n"
     ]
    },
    {
     "name": "stdout",
     "output_type": "stream",
     "text": [
      "Fold: Tuning: n_train=263580, eval_set=43931\n",
      "Fold: Tuning: n_train=263581, eval_set=43930\n",
      "Fold: Tuning: n_train=263581, eval_set=43930\n",
      "Fold: Tuning: n_train=263581, eval_set=43930\n",
      "Fold: Tuning: n_train=263581, eval_set=43930\n",
      "Fold: Tuning: n_train=263581, eval_set=43930\n",
      "Fold: Tuning: n_train=263581, eval_set=43930\n",
      "Tune: val_score:0.7741, std_test_score:0.00435 train_set_score:0.8316\n",
      "folds val/train: [0.7752, 0.7717, 0.7696, 0.7802, 0.7804, 0.7727, 0.7689] / [0.8364, 0.836, 0.8245, 0.8466, 0.8256, 0.8307, 0.8211], mean fold time: 4.37\n"
     ]
    },
    {
     "name": "stderr",
     "output_type": "stream",
     "text": [
      "[I 2024-04-20 20:29:46,503] Trial 48 finished with value: 0.7740865717908473 and parameters: {'model__n_estimators': 750, 'model__learning_rate': 0.05, 'model__max_depth': 7, 'model__num_leaves': 32, 'model__min_gain_to_split': 3.0, 'model__min_data_in_leaf': 2200, 'model__lambda_l1': 10, 'model__lambda_l2': 35, 'model__bagging_fraction': 0.30000000000000004, 'model__feature_fraction': 0.9000000000000001, 'model__max_bin': 500}. Best is trial 14 with value: 0.7754762116288143.\n"
     ]
    },
    {
     "name": "stdout",
     "output_type": "stream",
     "text": [
      "Fold: Tuning: n_train=263580, eval_set=43931\n",
      "Fold: Tuning: n_train=263581, eval_set=43930\n",
      "Fold: Tuning: n_train=263581, eval_set=43930\n",
      "Fold: Tuning: n_train=263581, eval_set=43930\n",
      "Fold: Tuning: n_train=263581, eval_set=43930\n",
      "Fold: Tuning: n_train=263581, eval_set=43930\n",
      "Fold: Tuning: n_train=263581, eval_set=43930\n",
      "Tune: val_score:0.7743, std_test_score:0.00405 train_set_score:0.8159\n",
      "folds val/train: [0.7751, 0.7714, 0.7702, 0.7787, 0.7811, 0.7741, 0.7694] / [0.8183, 0.8178, 0.8152, 0.8179, 0.8156, 0.8169, 0.81], mean fold time: 3.29\n"
     ]
    },
    {
     "name": "stderr",
     "output_type": "stream",
     "text": [
      "[I 2024-04-20 20:30:10,308] Trial 49 finished with value: 0.774290464337164 and parameters: {'model__n_estimators': 1000, 'model__learning_rate': 0.08, 'model__max_depth': 4, 'model__num_leaves': 128, 'model__min_gain_to_split': 5.0, 'model__min_data_in_leaf': 300, 'model__lambda_l1': 20, 'model__lambda_l2': 45, 'model__bagging_fraction': 0.4, 'model__feature_fraction': 0.8, 'model__max_bin': 350}. Best is trial 14 with value: 0.7754762116288143.\n"
     ]
    },
    {
     "name": "stdout",
     "output_type": "stream",
     "text": [
      "Fold: Tuning: n_train=263580, eval_set=43931\n",
      "Fold: Tuning: n_train=263581, eval_set=43930\n",
      "Fold: Tuning: n_train=263581, eval_set=43930\n",
      "Fold: Tuning: n_train=263581, eval_set=43930\n",
      "Fold: Tuning: n_train=263581, eval_set=43930\n",
      "Fold: Tuning: n_train=263581, eval_set=43930\n",
      "Fold: Tuning: n_train=263581, eval_set=43930\n",
      "Tune: val_score:0.7708, std_test_score:0.00455 train_set_score:0.8454\n",
      "folds val/train: [0.77, 0.7666, 0.7678, 0.7749, 0.78, 0.7686, 0.7674] / [0.846, 0.8462, 0.8471, 0.8454, 0.8442, 0.8417, 0.8472], mean fold time: 2.06\n"
     ]
    },
    {
     "name": "stderr",
     "output_type": "stream",
     "text": [
      "[I 2024-04-20 20:30:25,536] Trial 50 finished with value: 0.770765578707616 and parameters: {'model__n_estimators': 800, 'model__learning_rate': 0.2, 'model__max_depth': 10, 'model__num_leaves': 248, 'model__min_gain_to_split': 4.0, 'model__min_data_in_leaf': 2500, 'model__lambda_l1': 30, 'model__lambda_l2': 50, 'model__bagging_fraction': 0.5, 'model__feature_fraction': 1.0, 'model__max_bin': 400}. Best is trial 14 with value: 0.7754762116288143.\n"
     ]
    },
    {
     "name": "stdout",
     "output_type": "stream",
     "text": [
      "Fold: Tuning: n_train=263580, eval_set=43931\n",
      "Fold: Tuning: n_train=263581, eval_set=43930\n",
      "Fold: Tuning: n_train=263581, eval_set=43930\n",
      "Fold: Tuning: n_train=263581, eval_set=43930\n",
      "Fold: Tuning: n_train=263581, eval_set=43930\n",
      "Fold: Tuning: n_train=263581, eval_set=43930\n",
      "Fold: Tuning: n_train=263581, eval_set=43930\n",
      "Tune: val_score:0.7702, std_test_score:0.01134 train_set_score:0.8033\n",
      "folds val/train: [0.774, 0.7712, 0.7697, 0.7775, 0.7809, 0.7746, 0.7438] / [0.8105, 0.8132, 0.8046, 0.8134, 0.8095, 0.8134, 0.7587], mean fold time: 5.77\n"
     ]
    },
    {
     "name": "stderr",
     "output_type": "stream",
     "text": [
      "[I 2024-04-20 20:31:06,764] Trial 51 finished with value: 0.7702495890702812 and parameters: {'model__n_estimators': 850, 'model__learning_rate': 0.02, 'model__max_depth': 6, 'model__num_leaves': 216, 'model__min_gain_to_split': 5.5, 'model__min_data_in_leaf': 2800, 'model__lambda_l1': 5, 'model__lambda_l2': 60, 'model__bagging_fraction': 0.2, 'model__feature_fraction': 0.30000000000000004, 'model__max_bin': 425}. Best is trial 14 with value: 0.7754762116288143.\n"
     ]
    },
    {
     "name": "stdout",
     "output_type": "stream",
     "text": [
      "Fold: Tuning: n_train=263580, eval_set=43931\n",
      "Fold: Tuning: n_train=263581, eval_set=43930\n",
      "Fold: Tuning: n_train=263581, eval_set=43930\n",
      "Fold: Tuning: n_train=263581, eval_set=43930\n",
      "Fold: Tuning: n_train=263581, eval_set=43930\n",
      "Fold: Tuning: n_train=263581, eval_set=43930\n",
      "Fold: Tuning: n_train=263581, eval_set=43930\n",
      "Tune: val_score:0.7544, std_test_score:0.00354 train_set_score:0.7691\n",
      "folds val/train: [0.7546, 0.7499, 0.7538, 0.7571, 0.7614, 0.7526, 0.7517] / [0.7695, 0.7695, 0.7697, 0.7686, 0.7681, 0.7695, 0.769], mean fold time: 1.45\n"
     ]
    },
    {
     "name": "stderr",
     "output_type": "stream",
     "text": [
      "[I 2024-04-20 20:31:17,706] Trial 52 finished with value: 0.7544223312951759 and parameters: {'model__n_estimators': 50, 'model__learning_rate': 0.04, 'model__max_depth': 6, 'model__num_leaves': 232, 'model__min_gain_to_split': 6.5, 'model__min_data_in_leaf': 2900, 'model__lambda_l1': 5, 'model__lambda_l2': 65, 'model__bagging_fraction': 0.2, 'model__feature_fraction': 0.30000000000000004, 'model__max_bin': 450}. Best is trial 14 with value: 0.7754762116288143.\n"
     ]
    },
    {
     "name": "stdout",
     "output_type": "stream",
     "text": [
      "Fold: Tuning: n_train=263580, eval_set=43931\n",
      "Fold: Tuning: n_train=263581, eval_set=43930\n",
      "Fold: Tuning: n_train=263581, eval_set=43930\n",
      "Fold: Tuning: n_train=263581, eval_set=43930\n",
      "Fold: Tuning: n_train=263581, eval_set=43930\n",
      "Fold: Tuning: n_train=263581, eval_set=43930\n",
      "Fold: Tuning: n_train=263581, eval_set=43930\n",
      "Tune: val_score:0.7737, std_test_score:0.00332 train_set_score:0.8096\n",
      "folds val/train: [0.7738, 0.7719, 0.7707, 0.7754, 0.7807, 0.7735, 0.7701] / [0.8144, 0.8196, 0.8094, 0.802, 0.8058, 0.8077, 0.8084], mean fold time: 3.34\n"
     ]
    },
    {
     "name": "stderr",
     "output_type": "stream",
     "text": [
      "[I 2024-04-20 20:31:41,856] Trial 53 finished with value: 0.773700123878899 and parameters: {'model__n_estimators': 850, 'model__learning_rate': 0.060000000000000005, 'model__max_depth': 5, 'model__num_leaves': 200, 'model__min_gain_to_split': 2.0, 'model__min_data_in_leaf': 2700, 'model__lambda_l1': 5, 'model__lambda_l2': 60, 'model__bagging_fraction': 0.2, 'model__feature_fraction': 0.4, 'model__max_bin': 475}. Best is trial 14 with value: 0.7754762116288143.\n"
     ]
    },
    {
     "name": "stdout",
     "output_type": "stream",
     "text": [
      "Fold: Tuning: n_train=263580, eval_set=43931\n",
      "Fold: Tuning: n_train=263581, eval_set=43930\n",
      "Fold: Tuning: n_train=263581, eval_set=43930\n",
      "Fold: Tuning: n_train=263581, eval_set=43930\n",
      "Fold: Tuning: n_train=263581, eval_set=43930\n",
      "Fold: Tuning: n_train=263581, eval_set=43930\n",
      "Fold: Tuning: n_train=263581, eval_set=43930\n",
      "Tune: val_score:0.7701, std_test_score:0.00360 train_set_score:0.8120\n",
      "folds val/train: [0.7692, 0.7678, 0.7669, 0.7735, 0.777, 0.77, 0.7661] / [0.8133, 0.8123, 0.8103, 0.8111, 0.8117, 0.8127, 0.8125], mean fold time: 1.57\n"
     ]
    },
    {
     "name": "stderr",
     "output_type": "stream",
     "text": [
      "[I 2024-04-20 20:31:53,682] Trial 54 finished with value: 0.7700661912712777 and parameters: {'model__n_estimators': 950, 'model__learning_rate': 0.28, 'model__max_depth': 7, 'model__num_leaves': 248, 'model__min_gain_to_split': 8.5, 'model__min_data_in_leaf': 2900, 'model__lambda_l1': 15, 'model__lambda_l2': 90, 'model__bagging_fraction': 0.30000000000000004, 'model__feature_fraction': 0.5, 'model__max_bin': 500}. Best is trial 14 with value: 0.7754762116288143.\n"
     ]
    },
    {
     "name": "stdout",
     "output_type": "stream",
     "text": [
      "Fold: Tuning: n_train=263580, eval_set=43931\n",
      "Fold: Tuning: n_train=263581, eval_set=43930\n",
      "Fold: Tuning: n_train=263581, eval_set=43930\n",
      "Fold: Tuning: n_train=263581, eval_set=43930\n",
      "Fold: Tuning: n_train=263581, eval_set=43930\n",
      "Fold: Tuning: n_train=263581, eval_set=43930\n",
      "Fold: Tuning: n_train=263581, eval_set=43930\n",
      "Tune: val_score:0.7742, std_test_score:0.00361 train_set_score:0.8003\n",
      "folds val/train: [0.7734, 0.771, 0.7709, 0.7766, 0.7811, 0.7755, 0.7705] / [0.7988, 0.8011, 0.7996, 0.8011, 0.8001, 0.801, 0.7999], mean fold time: 5.69\n"
     ]
    },
    {
     "name": "stderr",
     "output_type": "stream",
     "text": [
      "[I 2024-04-20 20:32:34,336] Trial 55 finished with value: 0.7741609656916448 and parameters: {'model__n_estimators': 1000, 'model__learning_rate': 0.03, 'model__max_depth': 5, 'model__num_leaves': 224, 'model__min_gain_to_split': 4.5, 'model__min_data_in_leaf': 2600, 'model__lambda_l1': 60, 'model__lambda_l2': 70, 'model__bagging_fraction': 0.30000000000000004, 'model__feature_fraction': 0.2, 'model__max_bin': 375}. Best is trial 14 with value: 0.7754762116288143.\n"
     ]
    },
    {
     "name": "stdout",
     "output_type": "stream",
     "text": [
      "Fold: Tuning: n_train=263580, eval_set=43931\n",
      "Fold: Tuning: n_train=263581, eval_set=43930\n",
      "Fold: Tuning: n_train=263581, eval_set=43930\n",
      "Fold: Tuning: n_train=263581, eval_set=43930\n",
      "Fold: Tuning: n_train=263581, eval_set=43930\n",
      "Fold: Tuning: n_train=263581, eval_set=43930\n",
      "Fold: Tuning: n_train=263581, eval_set=43930\n",
      "Tune: val_score:0.7745, std_test_score:0.00342 train_set_score:0.8227\n",
      "folds val/train: [0.7736, 0.7726, 0.7714, 0.7776, 0.7813, 0.7742, 0.771] / [0.8164, 0.8266, 0.8241, 0.8237, 0.8247, 0.8205, 0.823], mean fold time: 3.04\n"
     ]
    },
    {
     "name": "stderr",
     "output_type": "stream",
     "text": [
      "[I 2024-04-20 20:32:56,427] Trial 56 finished with value: 0.7745237803337662 and parameters: {'model__n_estimators': 950, 'model__learning_rate': 0.09, 'model__max_depth': 6, 'model__num_leaves': 208, 'model__min_gain_to_split': 3.0, 'model__min_data_in_leaf': 2300, 'model__lambda_l1': 40, 'model__lambda_l2': 55, 'model__bagging_fraction': 0.9000000000000001, 'model__feature_fraction': 0.4, 'model__max_bin': 425}. Best is trial 14 with value: 0.7754762116288143.\n"
     ]
    },
    {
     "name": "stdout",
     "output_type": "stream",
     "text": [
      "Fold: Tuning: n_train=263580, eval_set=43931\n",
      "Fold: Tuning: n_train=263581, eval_set=43930\n",
      "Fold: Tuning: n_train=263581, eval_set=43930\n",
      "Fold: Tuning: n_train=263581, eval_set=43930\n",
      "Fold: Tuning: n_train=263581, eval_set=43930\n",
      "Fold: Tuning: n_train=263581, eval_set=43930\n",
      "Fold: Tuning: n_train=263581, eval_set=43930\n",
      "Tune: val_score:0.7470, std_test_score:0.00393 train_set_score:0.7608\n",
      "folds val/train: [0.7479, 0.7421, 0.7465, 0.7495, 0.7547, 0.7437, 0.7443] / [0.7609, 0.7604, 0.762, 0.7611, 0.76, 0.7603, 0.7609], mean fold time: 1.49\n"
     ]
    },
    {
     "name": "stderr",
     "output_type": "stream",
     "text": [
      "[I 2024-04-20 20:33:07,669] Trial 57 finished with value: 0.7469545667216637 and parameters: {'model__n_estimators': 900, 'model__learning_rate': 0.01, 'model__max_depth': 8, 'model__num_leaves': 192, 'model__min_gain_to_split': 4.0, 'model__min_data_in_leaf': 2800, 'model__lambda_l1': 20, 'model__lambda_l2': 40, 'model__bagging_fraction': 0.7, 'model__feature_fraction': 0.30000000000000004, 'model__max_bin': 475}. Best is trial 14 with value: 0.7754762116288143.\n"
     ]
    },
    {
     "name": "stdout",
     "output_type": "stream",
     "text": [
      "Fold: Tuning: n_train=263580, eval_set=43931\n",
      "Fold: Tuning: n_train=263581, eval_set=43930\n",
      "Fold: Tuning: n_train=263581, eval_set=43930\n",
      "Fold: Tuning: n_train=263581, eval_set=43930\n",
      "Fold: Tuning: n_train=263581, eval_set=43930\n",
      "Fold: Tuning: n_train=263581, eval_set=43930\n",
      "Fold: Tuning: n_train=263581, eval_set=43930\n",
      "Tune: val_score:0.7746, std_test_score:0.00369 train_set_score:0.8220\n",
      "folds val/train: [0.7748, 0.7718, 0.7715, 0.7787, 0.7813, 0.7731, 0.7709] / [0.8221, 0.8226, 0.8225, 0.8221, 0.821, 0.8217, 0.8221], mean fold time: 3.33\n"
     ]
    },
    {
     "name": "stderr",
     "output_type": "stream",
     "text": [
      "[I 2024-04-20 20:33:31,806] Trial 58 finished with value: 0.774594123160324 and parameters: {'model__n_estimators': 850, 'model__learning_rate': 0.060000000000000005, 'model__max_depth': 6, 'model__num_leaves': 232, 'model__min_gain_to_split': 7.0, 'model__min_data_in_leaf': 1900, 'model__lambda_l1': 25, 'model__lambda_l2': 35, 'model__bagging_fraction': 0.2, 'model__feature_fraction': 0.8, 'model__max_bin': 450}. Best is trial 14 with value: 0.7754762116288143.\n"
     ]
    },
    {
     "name": "stdout",
     "output_type": "stream",
     "text": [
      "Fold: Tuning: n_train=263580, eval_set=43931\n",
      "Fold: Tuning: n_train=263581, eval_set=43930\n",
      "Fold: Tuning: n_train=263581, eval_set=43930\n",
      "Fold: Tuning: n_train=263581, eval_set=43930\n",
      "Fold: Tuning: n_train=263581, eval_set=43930\n",
      "Fold: Tuning: n_train=263581, eval_set=43930\n",
      "Fold: Tuning: n_train=263581, eval_set=43930\n",
      "Tune: val_score:0.7741, std_test_score:0.00371 train_set_score:0.8035\n",
      "folds val/train: [0.7737, 0.7706, 0.7708, 0.7778, 0.781, 0.7742, 0.7707] / [0.8034, 0.8036, 0.8044, 0.8035, 0.802, 0.8034, 0.804], mean fold time: 4.51\n"
     ]
    },
    {
     "name": "stderr",
     "output_type": "stream",
     "text": [
      "[I 2024-04-20 20:34:04,175] Trial 59 finished with value: 0.7741174279779671 and parameters: {'model__n_estimators': 750, 'model__learning_rate': 0.04, 'model__max_depth': 5, 'model__num_leaves': 256, 'model__min_gain_to_split': 5.0, 'model__min_data_in_leaf': 2500, 'model__lambda_l1': 65, 'model__lambda_l2': 0, 'model__bagging_fraction': 0.4, 'model__feature_fraction': 0.30000000000000004, 'model__max_bin': 325}. Best is trial 14 with value: 0.7754762116288143.\n"
     ]
    },
    {
     "name": "stdout",
     "output_type": "stream",
     "text": [
      "Fold: Tuning: n_train=263580, eval_set=43931\n",
      "Fold: Tuning: n_train=263581, eval_set=43930\n",
      "Fold: Tuning: n_train=263581, eval_set=43930\n",
      "Fold: Tuning: n_train=263581, eval_set=43930\n",
      "Fold: Tuning: n_train=263581, eval_set=43930\n",
      "Fold: Tuning: n_train=263581, eval_set=43930\n",
      "Fold: Tuning: n_train=263581, eval_set=43930\n",
      "Tune: val_score:0.7740, std_test_score:0.00384 train_set_score:0.8305\n",
      "folds val/train: [0.774, 0.7702, 0.7703, 0.7792, 0.78, 0.7736, 0.7705] / [0.8294, 0.83, 0.8258, 0.8313, 0.8292, 0.8339, 0.8336], mean fold time: 9.21\n"
     ]
    },
    {
     "name": "stderr",
     "output_type": "stream",
     "text": [
      "[I 2024-04-20 20:35:09,396] Trial 60 finished with value: 0.7739544162957733 and parameters: {'model__n_estimators': 900, 'model__learning_rate': 0.02, 'model__max_depth': 7, 'model__num_leaves': 152, 'model__min_gain_to_split': 1.0, 'model__min_data_in_leaf': 2200, 'model__lambda_l1': 45, 'model__lambda_l2': 75, 'model__bagging_fraction': 0.2, 'model__feature_fraction': 0.9000000000000001, 'model__max_bin': 400}. Best is trial 14 with value: 0.7754762116288143.\n"
     ]
    },
    {
     "name": "stdout",
     "output_type": "stream",
     "text": [
      "Fold: Tuning: n_train=263580, eval_set=43931\n",
      "Fold: Tuning: n_train=263581, eval_set=43930\n",
      "Fold: Tuning: n_train=263581, eval_set=43930\n",
      "Fold: Tuning: n_train=263581, eval_set=43930\n",
      "Fold: Tuning: n_train=263581, eval_set=43930\n",
      "Fold: Tuning: n_train=263581, eval_set=43930\n",
      "Fold: Tuning: n_train=263581, eval_set=43930\n",
      "Tune: val_score:0.7749, std_test_score:0.00357 train_set_score:0.8144\n",
      "folds val/train: [0.7746, 0.7715, 0.7711, 0.7782, 0.7815, 0.7754, 0.772] / [0.8168, 0.8139, 0.8098, 0.8195, 0.8083, 0.8127, 0.8197], mean fold time: 5.19\n"
     ]
    },
    {
     "name": "stderr",
     "output_type": "stream",
     "text": [
      "[I 2024-04-20 20:35:46,551] Trial 61 finished with value: 0.7749172914346624 and parameters: {'model__n_estimators': 900, 'model__learning_rate': 0.03, 'model__max_depth': 6, 'model__num_leaves': 216, 'model__min_gain_to_split': 5.0, 'model__min_data_in_leaf': 2800, 'model__lambda_l1': 0, 'model__lambda_l2': 60, 'model__bagging_fraction': 0.2, 'model__feature_fraction': 0.2, 'model__max_bin': 425}. Best is trial 14 with value: 0.7754762116288143.\n"
     ]
    },
    {
     "name": "stdout",
     "output_type": "stream",
     "text": [
      "Fold: Tuning: n_train=263580, eval_set=43931\n",
      "Fold: Tuning: n_train=263581, eval_set=43930\n",
      "Fold: Tuning: n_train=263581, eval_set=43930\n",
      "Fold: Tuning: n_train=263581, eval_set=43930\n",
      "Fold: Tuning: n_train=263581, eval_set=43930\n",
      "Fold: Tuning: n_train=263581, eval_set=43930\n",
      "Fold: Tuning: n_train=263581, eval_set=43930\n",
      "Tune: val_score:0.7747, std_test_score:0.00345 train_set_score:0.8173\n",
      "folds val/train: [0.7747, 0.772, 0.7711, 0.7774, 0.7814, 0.7748, 0.7713] / [0.8177, 0.8189, 0.8142, 0.8148, 0.8181, 0.8178, 0.8191], mean fold time: 3.67\n"
     ]
    },
    {
     "name": "stderr",
     "output_type": "stream",
     "text": [
      "[I 2024-04-20 20:36:13,027] Trial 62 finished with value: 0.7746757475843487 and parameters: {'model__n_estimators': 950, 'model__learning_rate': 0.05, 'model__max_depth': 6, 'model__num_leaves': 208, 'model__min_gain_to_split': 2.5, 'model__min_data_in_leaf': 2600, 'model__lambda_l1': 0, 'model__lambda_l2': 65, 'model__bagging_fraction': 0.2, 'model__feature_fraction': 0.30000000000000004, 'model__max_bin': 500}. Best is trial 14 with value: 0.7754762116288143.\n"
     ]
    },
    {
     "name": "stdout",
     "output_type": "stream",
     "text": [
      "Fold: Tuning: n_train=263580, eval_set=43931\n",
      "Fold: Tuning: n_train=263581, eval_set=43930\n",
      "Fold: Tuning: n_train=263581, eval_set=43930\n",
      "Fold: Tuning: n_train=263581, eval_set=43930\n",
      "Fold: Tuning: n_train=263581, eval_set=43930\n",
      "Fold: Tuning: n_train=263581, eval_set=43930\n",
      "Fold: Tuning: n_train=263581, eval_set=43930\n",
      "Tune: val_score:0.7744, std_test_score:0.00324 train_set_score:0.8100\n",
      "folds val/train: [0.7746, 0.7707, 0.771, 0.7775, 0.7799, 0.7751, 0.7718] / [0.813, 0.811, 0.8047, 0.8101, 0.8029, 0.8126, 0.8157], mean fold time: 3.11\n"
     ]
    },
    {
     "name": "stderr",
     "output_type": "stream",
     "text": [
      "[I 2024-04-20 20:36:35,632] Trial 63 finished with value: 0.7743855209418247 and parameters: {'model__n_estimators': 1000, 'model__learning_rate': 0.06999999999999999, 'model__max_depth': 5, 'model__num_leaves': 216, 'model__min_gain_to_split': 3.5, 'model__min_data_in_leaf': 3000, 'model__lambda_l1': 5, 'model__lambda_l2': 55, 'model__bagging_fraction': 0.30000000000000004, 'model__feature_fraction': 0.30000000000000004, 'model__max_bin': 425}. Best is trial 14 with value: 0.7754762116288143.\n"
     ]
    },
    {
     "name": "stdout",
     "output_type": "stream",
     "text": [
      "Fold: Tuning: n_train=263580, eval_set=43931\n",
      "Fold: Tuning: n_train=263581, eval_set=43930\n",
      "Fold: Tuning: n_train=263581, eval_set=43930\n",
      "Fold: Tuning: n_train=263581, eval_set=43930\n",
      "Fold: Tuning: n_train=263581, eval_set=43930\n",
      "Fold: Tuning: n_train=263581, eval_set=43930\n",
      "Fold: Tuning: n_train=263581, eval_set=43930\n",
      "Tune: val_score:0.7749, std_test_score:0.00414 train_set_score:0.8265\n",
      "folds val/train: [0.7748, 0.7715, 0.7705, 0.7786, 0.7828, 0.775, 0.7713] / [0.8289, 0.8262, 0.8178, 0.8283, 0.8283, 0.8273, 0.829], mean fold time: 5.99\n"
     ]
    },
    {
     "name": "stderr",
     "output_type": "stream",
     "text": [
      "[I 2024-04-20 20:37:18,350] Trial 64 finished with value: 0.7749364061754626 and parameters: {'model__n_estimators': 800, 'model__learning_rate': 0.03, 'model__max_depth': 7, 'model__num_leaves': 248, 'model__min_gain_to_split': 5.5, 'model__min_data_in_leaf': 2400, 'model__lambda_l1': 10, 'model__lambda_l2': 80, 'model__bagging_fraction': 0.2, 'model__feature_fraction': 0.4, 'model__max_bin': 450}. Best is trial 14 with value: 0.7754762116288143.\n"
     ]
    },
    {
     "name": "stdout",
     "output_type": "stream",
     "text": [
      "Fold: Tuning: n_train=263580, eval_set=43931\n",
      "Fold: Tuning: n_train=263581, eval_set=43930\n",
      "Fold: Tuning: n_train=263581, eval_set=43930\n",
      "Fold: Tuning: n_train=263581, eval_set=43930\n",
      "Fold: Tuning: n_train=263581, eval_set=43930\n",
      "Fold: Tuning: n_train=263581, eval_set=43930\n",
      "Fold: Tuning: n_train=263581, eval_set=43930\n",
      "Tune: val_score:0.7331, std_test_score:0.01188 train_set_score:0.7396\n",
      "folds val/train: [0.7414, 0.7375, 0.7376, 0.7217, 0.7455, 0.7093, 0.7384] / [0.7474, 0.7482, 0.748, 0.7175, 0.7467, 0.7212, 0.7482], mean fold time: 2.04\n"
     ]
    },
    {
     "name": "stderr",
     "output_type": "stream",
     "text": [
      "[I 2024-04-20 20:37:33,398] Trial 65 finished with value: 0.7330630484574528 and parameters: {'model__n_estimators': 200, 'model__learning_rate': 0.01, 'model__max_depth': 4, 'model__num_leaves': 232, 'model__min_gain_to_split': 6.0, 'model__min_data_in_leaf': 2900, 'model__lambda_l1': 0, 'model__lambda_l2': 50, 'model__bagging_fraction': 0.30000000000000004, 'model__feature_fraction': 0.9000000000000001, 'model__max_bin': 500}. Best is trial 14 with value: 0.7754762116288143.\n"
     ]
    },
    {
     "name": "stdout",
     "output_type": "stream",
     "text": [
      "Fold: Tuning: n_train=263580, eval_set=43931\n",
      "Fold: Tuning: n_train=263581, eval_set=43930\n",
      "Fold: Tuning: n_train=263581, eval_set=43930\n",
      "Fold: Tuning: n_train=263581, eval_set=43930\n",
      "Fold: Tuning: n_train=263581, eval_set=43930\n",
      "Fold: Tuning: n_train=263581, eval_set=43930\n",
      "Fold: Tuning: n_train=263581, eval_set=43930\n",
      "Tune: val_score:0.7741, std_test_score:0.00371 train_set_score:0.8261\n",
      "folds val/train: [0.7751, 0.7709, 0.7701, 0.7777, 0.7809, 0.7733, 0.7709] / [0.8263, 0.8261, 0.8258, 0.8215, 0.8265, 0.8265, 0.8302], mean fold time: 3.10\n"
     ]
    },
    {
     "name": "stderr",
     "output_type": "stream",
     "text": [
      "[I 2024-04-20 20:37:55,914] Trial 66 finished with value: 0.7741240045432729 and parameters: {'model__n_estimators': 900, 'model__learning_rate': 0.08, 'model__max_depth': 6, 'model__num_leaves': 176, 'model__min_gain_to_split': 4.5, 'model__min_data_in_leaf': 2800, 'model__lambda_l1': 10, 'model__lambda_l2': 45, 'model__bagging_fraction': 0.2, 'model__feature_fraction': 0.7, 'model__max_bin': 475}. Best is trial 14 with value: 0.7754762116288143.\n"
     ]
    },
    {
     "name": "stdout",
     "output_type": "stream",
     "text": [
      "Fold: Tuning: n_train=263580, eval_set=43931\n",
      "Fold: Tuning: n_train=263581, eval_set=43930\n",
      "Fold: Tuning: n_train=263581, eval_set=43930\n",
      "Fold: Tuning: n_train=263581, eval_set=43930\n",
      "Fold: Tuning: n_train=263581, eval_set=43930\n",
      "Fold: Tuning: n_train=263581, eval_set=43930\n",
      "Fold: Tuning: n_train=263581, eval_set=43930\n",
      "Tune: val_score:0.7751, std_test_score:0.00370 train_set_score:0.8147\n",
      "folds val/train: [0.7746, 0.7719, 0.7722, 0.7792, 0.7819, 0.7743, 0.7716] / [0.8128, 0.8148, 0.8163, 0.815, 0.8136, 0.8146, 0.8158], mean fold time: 4.41\n"
     ]
    },
    {
     "name": "stderr",
     "output_type": "stream",
     "text": [
      "[I 2024-04-20 20:38:27,575] Trial 67 finished with value: 0.7751184614048228 and parameters: {'model__n_estimators': 550, 'model__learning_rate': 0.05, 'model__max_depth': 5, 'model__num_leaves': 224, 'model__min_gain_to_split': 4.0, 'model__min_data_in_leaf': 2600, 'model__lambda_l1': 50, 'model__lambda_l2': 70, 'model__bagging_fraction': 0.30000000000000004, 'model__feature_fraction': 0.8, 'model__max_bin': 475}. Best is trial 14 with value: 0.7754762116288143.\n"
     ]
    },
    {
     "name": "stdout",
     "output_type": "stream",
     "text": [
      "Fold: Tuning: n_train=263580, eval_set=43931\n",
      "Fold: Tuning: n_train=263581, eval_set=43930\n",
      "Fold: Tuning: n_train=263581, eval_set=43930\n",
      "Fold: Tuning: n_train=263581, eval_set=43930\n",
      "Fold: Tuning: n_train=263581, eval_set=43930\n",
      "Fold: Tuning: n_train=263581, eval_set=43930\n",
      "Fold: Tuning: n_train=263581, eval_set=43930\n",
      "Tune: val_score:0.7751, std_test_score:0.00336 train_set_score:0.8200\n",
      "folds val/train: [0.7758, 0.7732, 0.7715, 0.7791, 0.7806, 0.7747, 0.7711] / [0.8205, 0.825, 0.822, 0.8155, 0.8149, 0.825, 0.8172], mean fold time: 4.94\n"
     ]
    },
    {
     "name": "stderr",
     "output_type": "stream",
     "text": [
      "[I 2024-04-20 20:39:02,988] Trial 68 finished with value: 0.7751460874835396 and parameters: {'model__n_estimators': 650, 'model__learning_rate': 0.05, 'model__max_depth': 5, 'model__num_leaves': 240, 'model__min_gain_to_split': 1.5, 'model__min_data_in_leaf': 2300, 'model__lambda_l1': 55, 'model__lambda_l2': 90, 'model__bagging_fraction': 0.4, 'model__feature_fraction': 0.8, 'model__max_bin': 500}. Best is trial 14 with value: 0.7754762116288143.\n"
     ]
    },
    {
     "name": "stdout",
     "output_type": "stream",
     "text": [
      "Fold: Tuning: n_train=263580, eval_set=43931\n",
      "Fold: Tuning: n_train=263581, eval_set=43930\n",
      "Fold: Tuning: n_train=263581, eval_set=43930\n",
      "Fold: Tuning: n_train=263581, eval_set=43930\n",
      "Fold: Tuning: n_train=263581, eval_set=43930\n",
      "Fold: Tuning: n_train=263581, eval_set=43930\n",
      "Fold: Tuning: n_train=263581, eval_set=43930\n",
      "Tune: val_score:0.7748, std_test_score:0.00396 train_set_score:0.8246\n",
      "folds val/train: [0.7745, 0.7713, 0.7724, 0.7792, 0.7822, 0.7729, 0.7711] / [0.8184, 0.828, 0.8352, 0.8237, 0.8287, 0.8189, 0.8189], mean fold time: 3.23\n"
     ]
    },
    {
     "name": "stderr",
     "output_type": "stream",
     "text": [
      "[I 2024-04-20 20:39:26,413] Trial 69 finished with value: 0.7747812029835786 and parameters: {'model__n_estimators': 550, 'model__learning_rate': 0.09999999999999999, 'model__max_depth': 5, 'model__num_leaves': 240, 'model__min_gain_to_split': 1.5, 'model__min_data_in_leaf': 2000, 'model__lambda_l1': 50, 'model__lambda_l2': 85, 'model__bagging_fraction': 0.4, 'model__feature_fraction': 0.8, 'model__max_bin': 475}. Best is trial 14 with value: 0.7754762116288143.\n"
     ]
    },
    {
     "name": "stdout",
     "output_type": "stream",
     "text": [
      "Fold: Tuning: n_train=263580, eval_set=43931\n",
      "Fold: Tuning: n_train=263581, eval_set=43930\n",
      "Fold: Tuning: n_train=263581, eval_set=43930\n",
      "Fold: Tuning: n_train=263581, eval_set=43930\n",
      "Fold: Tuning: n_train=263581, eval_set=43930\n",
      "Fold: Tuning: n_train=263581, eval_set=43930\n",
      "Fold: Tuning: n_train=263581, eval_set=43930\n",
      "Tune: val_score:0.7730, std_test_score:0.00359 train_set_score:0.8048\n",
      "folds val/train: [0.774, 0.7699, 0.77, 0.7773, 0.779, 0.7715, 0.7693] / [0.805, 0.8056, 0.8051, 0.8044, 0.8034, 0.8048, 0.8053], mean fold time: 4.06\n"
     ]
    },
    {
     "name": "stderr",
     "output_type": "stream",
     "text": [
      "[I 2024-04-20 20:39:55,639] Trial 70 finished with value: 0.7730031155857932 and parameters: {'model__n_estimators': 550, 'model__learning_rate': 0.05, 'model__max_depth': 4, 'model__num_leaves': 256, 'model__min_gain_to_split': 0.5, 'model__min_data_in_leaf': 2300, 'model__lambda_l1': 55, 'model__lambda_l2': 85, 'model__bagging_fraction': 0.30000000000000004, 'model__feature_fraction': 0.8, 'model__max_bin': 200}. Best is trial 14 with value: 0.7754762116288143.\n"
     ]
    },
    {
     "name": "stdout",
     "output_type": "stream",
     "text": [
      "Fold: Tuning: n_train=263580, eval_set=43931\n",
      "Fold: Tuning: n_train=263581, eval_set=43930\n",
      "Fold: Tuning: n_train=263581, eval_set=43930\n",
      "Fold: Tuning: n_train=263581, eval_set=43930\n",
      "Fold: Tuning: n_train=263581, eval_set=43930\n",
      "Fold: Tuning: n_train=263581, eval_set=43930\n",
      "Fold: Tuning: n_train=263581, eval_set=43930\n",
      "Tune: val_score:0.7739, std_test_score:0.00390 train_set_score:0.8074\n",
      "folds val/train: [0.7742, 0.771, 0.7713, 0.7784, 0.7811, 0.7711, 0.7704] / [0.808, 0.8087, 0.8086, 0.8075, 0.8066, 0.8044, 0.8083], mean fold time: 5.04\n"
     ]
    },
    {
     "name": "stderr",
     "output_type": "stream",
     "text": [
      "[I 2024-04-20 20:40:31,753] Trial 71 finished with value: 0.773927920998638 and parameters: {'model__n_estimators': 600, 'model__learning_rate': 0.04, 'model__max_depth': 5, 'model__num_leaves': 224, 'model__min_gain_to_split': 3.0, 'model__min_data_in_leaf': 2400, 'model__lambda_l1': 100, 'model__lambda_l2': 90, 'model__bagging_fraction': 0.4, 'model__feature_fraction': 0.9000000000000001, 'model__max_bin': 500}. Best is trial 14 with value: 0.7754762116288143.\n"
     ]
    },
    {
     "name": "stdout",
     "output_type": "stream",
     "text": [
      "Fold: Tuning: n_train=263580, eval_set=43931\n",
      "Fold: Tuning: n_train=263581, eval_set=43930\n",
      "Fold: Tuning: n_train=263581, eval_set=43930\n",
      "Fold: Tuning: n_train=263581, eval_set=43930\n",
      "Fold: Tuning: n_train=263581, eval_set=43930\n",
      "Fold: Tuning: n_train=263581, eval_set=43930\n",
      "Fold: Tuning: n_train=263581, eval_set=43930\n",
      "Tune: val_score:0.7750, std_test_score:0.00377 train_set_score:0.8174\n",
      "folds val/train: [0.7753, 0.7718, 0.7716, 0.7789, 0.7821, 0.7742, 0.7715] / [0.8164, 0.8195, 0.8191, 0.8091, 0.8196, 0.8204, 0.8174], mean fold time: 3.73\n"
     ]
    },
    {
     "name": "stderr",
     "output_type": "stream",
     "text": [
      "[I 2024-04-20 20:40:58,654] Trial 72 finished with value: 0.7750479348659434 and parameters: {'model__n_estimators': 450, 'model__learning_rate': 0.06999999999999999, 'model__max_depth': 5, 'model__num_leaves': 248, 'model__min_gain_to_split': 2.5, 'model__min_data_in_leaf': 2500, 'model__lambda_l1': 55, 'model__lambda_l2': 75, 'model__bagging_fraction': 0.30000000000000004, 'model__feature_fraction': 0.8, 'model__max_bin': 500}. Best is trial 14 with value: 0.7754762116288143.\n"
     ]
    },
    {
     "name": "stdout",
     "output_type": "stream",
     "text": [
      "Fold: Tuning: n_train=263580, eval_set=43931\n",
      "Fold: Tuning: n_train=263581, eval_set=43930\n",
      "Fold: Tuning: n_train=263581, eval_set=43930\n",
      "Fold: Tuning: n_train=263581, eval_set=43930\n",
      "Fold: Tuning: n_train=263581, eval_set=43930\n",
      "Fold: Tuning: n_train=263581, eval_set=43930\n",
      "Fold: Tuning: n_train=263581, eval_set=43930\n",
      "Tune: val_score:0.7726, std_test_score:0.00377 train_set_score:0.8007\n",
      "folds val/train: [0.7728, 0.7692, 0.7698, 0.7775, 0.7789, 0.7709, 0.769] / [0.8005, 0.8013, 0.8013, 0.8007, 0.7995, 0.8007, 0.801], mean fold time: 3.35\n"
     ]
    },
    {
     "name": "stderr",
     "output_type": "stream",
     "text": [
      "[I 2024-04-20 20:41:22,938] Trial 73 finished with value: 0.7725940305928706 and parameters: {'model__n_estimators': 400, 'model__learning_rate': 0.060000000000000005, 'model__max_depth': 4, 'model__num_leaves': 248, 'model__min_gain_to_split': 2.5, 'model__min_data_in_leaf': 2600, 'model__lambda_l1': 55, 'model__lambda_l2': 75, 'model__bagging_fraction': 0.30000000000000004, 'model__feature_fraction': 0.7, 'model__max_bin': 500}. Best is trial 14 with value: 0.7754762116288143.\n"
     ]
    },
    {
     "name": "stdout",
     "output_type": "stream",
     "text": [
      "Fold: Tuning: n_train=263580, eval_set=43931\n",
      "Fold: Tuning: n_train=263581, eval_set=43930\n",
      "Fold: Tuning: n_train=263581, eval_set=43930\n",
      "Fold: Tuning: n_train=263581, eval_set=43930\n",
      "Fold: Tuning: n_train=263581, eval_set=43930\n",
      "Fold: Tuning: n_train=263581, eval_set=43930\n",
      "Fold: Tuning: n_train=263581, eval_set=43930\n",
      "Tune: val_score:0.7740, std_test_score:0.00388 train_set_score:0.8098\n",
      "folds val/train: [0.7732, 0.7705, 0.771, 0.7789, 0.7809, 0.7731, 0.7706] / [0.8067, 0.8114, 0.8109, 0.8101, 0.809, 0.81, 0.8108], mean fold time: 2.81\n"
     ]
    },
    {
     "name": "stderr",
     "output_type": "stream",
     "text": [
      "[I 2024-04-20 20:41:43,390] Trial 74 finished with value: 0.7740442258859606 and parameters: {'model__n_estimators': 500, 'model__learning_rate': 0.09, 'model__max_depth': 5, 'model__num_leaves': 232, 'model__min_gain_to_split': 4.0, 'model__min_data_in_leaf': 2200, 'model__lambda_l1': 70, 'model__lambda_l2': 95, 'model__bagging_fraction': 0.4, 'model__feature_fraction': 0.8, 'model__max_bin': 475}. Best is trial 14 with value: 0.7754762116288143.\n"
     ]
    },
    {
     "name": "stdout",
     "output_type": "stream",
     "text": [
      "Fold: Tuning: n_train=263580, eval_set=43931\n",
      "Fold: Tuning: n_train=263581, eval_set=43930\n",
      "Fold: Tuning: n_train=263581, eval_set=43930\n",
      "Fold: Tuning: n_train=263581, eval_set=43930\n",
      "Fold: Tuning: n_train=263581, eval_set=43930\n",
      "Fold: Tuning: n_train=263581, eval_set=43930\n",
      "Fold: Tuning: n_train=263581, eval_set=43930\n",
      "Tune: val_score:0.7742, std_test_score:0.00391 train_set_score:0.8146\n",
      "folds val/train: [0.7753, 0.7704, 0.7708, 0.7784, 0.7809, 0.773, 0.7703] / [0.8144, 0.8146, 0.8156, 0.8142, 0.8136, 0.8149, 0.8146], mean fold time: 3.53\n"
     ]
    },
    {
     "name": "stderr",
     "output_type": "stream",
     "text": [
      "[I 2024-04-20 20:42:08,917] Trial 75 finished with value: 0.7741608510718765 and parameters: {'model__n_estimators': 350, 'model__learning_rate': 0.06999999999999999, 'model__max_depth': 5, 'model__num_leaves': 112, 'model__min_gain_to_split': 1.5, 'model__min_data_in_leaf': 2500, 'model__lambda_l1': 60, 'model__lambda_l2': 80, 'model__bagging_fraction': 0.30000000000000004, 'model__feature_fraction': 0.8, 'model__max_bin': 450}. Best is trial 14 with value: 0.7754762116288143.\n"
     ]
    },
    {
     "name": "stdout",
     "output_type": "stream",
     "text": [
      "Fold: Tuning: n_train=263580, eval_set=43931\n",
      "Fold: Tuning: n_train=263581, eval_set=43930\n",
      "Fold: Tuning: n_train=263581, eval_set=43930\n",
      "Fold: Tuning: n_train=263581, eval_set=43930\n",
      "Fold: Tuning: n_train=263581, eval_set=43930\n",
      "Fold: Tuning: n_train=263581, eval_set=43930\n",
      "Fold: Tuning: n_train=263581, eval_set=43930\n",
      "Tune: val_score:0.7741, std_test_score:0.00358 train_set_score:0.8081\n",
      "folds val/train: [0.7746, 0.7712, 0.7693, 0.778, 0.7803, 0.7735, 0.772] / [0.8122, 0.8128, 0.8, 0.8038, 0.8064, 0.8095, 0.8122], mean fold time: 3.32\n"
     ]
    },
    {
     "name": "stderr",
     "output_type": "stream",
     "text": [
      "[I 2024-04-20 20:42:32,979] Trial 76 finished with value: 0.7741268622643868 and parameters: {'model__n_estimators': 450, 'model__learning_rate': 0.08, 'model__max_depth': 4, 'model__num_leaves': 248, 'model__min_gain_to_split': 2.0, 'model__min_data_in_leaf': 1700, 'model__lambda_l1': 50, 'model__lambda_l2': 90, 'model__bagging_fraction': 0.4, 'model__feature_fraction': 0.7, 'model__max_bin': 500}. Best is trial 14 with value: 0.7754762116288143.\n"
     ]
    },
    {
     "name": "stdout",
     "output_type": "stream",
     "text": [
      "Fold: Tuning: n_train=263580, eval_set=43931\n",
      "Fold: Tuning: n_train=263581, eval_set=43930\n",
      "Fold: Tuning: n_train=263581, eval_set=43930\n",
      "Fold: Tuning: n_train=263581, eval_set=43930\n",
      "Fold: Tuning: n_train=263581, eval_set=43930\n",
      "Fold: Tuning: n_train=263581, eval_set=43930\n",
      "Fold: Tuning: n_train=263581, eval_set=43930\n",
      "Tune: val_score:0.7751, std_test_score:0.00357 train_set_score:0.8142\n",
      "folds val/train: [0.7756, 0.7719, 0.7721, 0.7791, 0.7814, 0.774, 0.7716] / [0.8136, 0.8143, 0.8152, 0.8146, 0.8128, 0.8143, 0.8146], mean fold time: 4.42\n"
     ]
    },
    {
     "name": "stderr",
     "output_type": "stream",
     "text": [
      "[I 2024-04-20 20:43:04,700] Trial 77 finished with value: 0.7750753565837444 and parameters: {'model__n_estimators': 650, 'model__learning_rate': 0.05, 'model__max_depth': 5, 'model__num_leaves': 240, 'model__min_gain_to_split': 3.5, 'model__min_data_in_leaf': 2000, 'model__lambda_l1': 65, 'model__lambda_l2': 70, 'model__bagging_fraction': 0.30000000000000004, 'model__feature_fraction': 0.8, 'model__max_bin': 475}. Best is trial 14 with value: 0.7754762116288143.\n"
     ]
    },
    {
     "name": "stdout",
     "output_type": "stream",
     "text": [
      "Fold: Tuning: n_train=263580, eval_set=43931\n",
      "Fold: Tuning: n_train=263581, eval_set=43930\n",
      "Fold: Tuning: n_train=263581, eval_set=43930\n",
      "Fold: Tuning: n_train=263581, eval_set=43930\n",
      "Fold: Tuning: n_train=263581, eval_set=43930\n",
      "Fold: Tuning: n_train=263581, eval_set=43930\n",
      "Fold: Tuning: n_train=263581, eval_set=43930\n",
      "Tune: val_score:0.7738, std_test_score:0.00350 train_set_score:0.7977\n",
      "folds val/train: [0.7741, 0.7708, 0.7713, 0.7772, 0.7805, 0.7718, 0.7706] / [0.798, 0.799, 0.7998, 0.7959, 0.797, 0.7951, 0.7993], mean fold time: 3.03\n"
     ]
    },
    {
     "name": "stderr",
     "output_type": "stream",
     "text": [
      "[I 2024-04-20 20:43:26,695] Trial 78 finished with value: 0.773772370853644 and parameters: {'model__n_estimators': 650, 'model__learning_rate': 0.11, 'model__max_depth': 3, 'model__num_leaves': 224, 'model__min_gain_to_split': 3.5, 'model__min_data_in_leaf': 2300, 'model__lambda_l1': 65, 'model__lambda_l2': 100, 'model__bagging_fraction': 0.6000000000000001, 'model__feature_fraction': 0.9000000000000001, 'model__max_bin': 475}. Best is trial 14 with value: 0.7754762116288143.\n"
     ]
    },
    {
     "name": "stdout",
     "output_type": "stream",
     "text": [
      "Fold: Tuning: n_train=263580, eval_set=43931\n",
      "Fold: Tuning: n_train=263581, eval_set=43930\n",
      "Fold: Tuning: n_train=263581, eval_set=43930\n",
      "Fold: Tuning: n_train=263581, eval_set=43930\n",
      "Fold: Tuning: n_train=263581, eval_set=43930\n",
      "Fold: Tuning: n_train=263581, eval_set=43930\n",
      "Fold: Tuning: n_train=263581, eval_set=43930\n",
      "Tune: val_score:0.7745, std_test_score:0.00359 train_set_score:0.8071\n",
      "folds val/train: [0.7745, 0.7716, 0.7712, 0.7791, 0.7807, 0.7723, 0.7718] / [0.8045, 0.8098, 0.8043, 0.8102, 0.8046, 0.8053, 0.8108], mean fold time: 4.41\n"
     ]
    },
    {
     "name": "stderr",
     "output_type": "stream",
     "text": [
      "[I 2024-04-20 20:43:58,340] Trial 79 finished with value: 0.7744567878266669 and parameters: {'model__n_estimators': 650, 'model__learning_rate': 0.060000000000000005, 'model__max_depth': 4, 'model__num_leaves': 240, 'model__min_gain_to_split': 0.5, 'model__min_data_in_leaf': 2400, 'model__lambda_l1': 80, 'model__lambda_l2': 70, 'model__bagging_fraction': 0.30000000000000004, 'model__feature_fraction': 0.6000000000000001, 'model__max_bin': 450}. Best is trial 14 with value: 0.7754762116288143.\n"
     ]
    },
    {
     "name": "stdout",
     "output_type": "stream",
     "text": [
      "\n",
      " -- -- --\n",
      " TUNING RESULT: \n",
      " LGBM_AUC: auc = 0.7754762116288143 params: {'model__n_estimators': 1000, 'model__learning_rate': 0.060000000000000005, 'model__max_depth': 5, 'model__num_leaves': 248, 'model__min_gain_to_split': 2.5, 'model__min_data_in_leaf': 2400, 'model__lambda_l1': 35, 'model__lambda_l2': 40, 'model__bagging_fraction': 0.2, 'model__feature_fraction': 0.8, 'model__max_bin': 500}\n",
      " -- --\n",
      "\n",
      "LGBM_AUC Fit, total time:2109.6\n",
      "\n"
     ]
    }
   ],
   "execution_count": 3
  },
  {
   "cell_type": "code",
   "source": [
    "for t, v in tuning_results.items():\n",
    "    display(t)\n",
    "    display(v.hyper_param_all_cv_results)\n",
    "\n"
   ],
   "metadata": {
    "collapsed": false,
    "ExecuteTime": {
     "end_time": "2024-04-20T18:45:03.605451Z",
     "start_time": "2024-04-20T18:45:03.589112Z"
    }
   },
   "id": "23fac5165a6b77dd",
   "outputs": [
    {
     "data": {
      "text/plain": [
       "'LGBM_Dart_AUC'"
      ]
     },
     "metadata": {},
     "output_type": "display_data"
    },
    {
     "data": {
      "text/plain": [
       "    Trial Number  Mean Test Score (AUC)  mean_test_score  mean_train_score  \\\n",
       "74            74               0.776747         0.776747          0.830984   \n",
       "75            75               0.776593         0.776593          0.831826   \n",
       "66            66               0.776588         0.776588          0.830350   \n",
       "53            53               0.776571         0.776571          0.835537   \n",
       "61            61               0.776485         0.776485          0.823652   \n",
       "..           ...                    ...              ...               ...   \n",
       "3              3               0.763828         0.763828          0.780082   \n",
       "1              1               0.763399         0.763399          0.799970   \n",
       "9              9               0.759342         0.759342          0.780662   \n",
       "59            59               0.756181         0.756181          0.778146   \n",
       "48            48               0.746004         0.746004          0.762822   \n",
       "\n",
       "    std_test_score  macro_f1  micro_f1  f1_target1  precision_target1  \\\n",
       "74        0.003274  0.563643  0.734462    0.290626           0.185269   \n",
       "75        0.003579  0.563294  0.734393    0.289944           0.184870   \n",
       "66        0.003268  0.562434  0.733112    0.289152           0.184177   \n",
       "53        0.003876  0.563642  0.735268    0.289980           0.185059   \n",
       "61        0.003715  0.561293  0.730559    0.288790           0.183496   \n",
       "..             ...       ...       ...         ...                ...   \n",
       "3         0.003558  0.544386  0.705672    0.273306           0.170671   \n",
       "1         0.003901  0.548395  0.712277    0.276348           0.173377   \n",
       "9         0.003533  0.542149  0.703402    0.270432           0.168719   \n",
       "59        0.003688  0.540110  0.700619    0.268418           0.167191   \n",
       "48        0.003829  0.532915  0.690648    0.261484           0.161954   \n",
       "\n",
       "    recall_target1  log_loss    pr_auc  mean_fold_time  \\\n",
       "74        0.673797  0.535689  0.265447       23.572300   \n",
       "75        0.671742  0.534938  0.266426       23.550009   \n",
       "66        0.672387  0.536449  0.265445       25.292503   \n",
       "53        0.669648  0.533383  0.265848       29.795808   \n",
       "61        0.677623  0.540832  0.265591       25.213860   \n",
       "..             ...       ...       ...             ...   \n",
       "3         0.685599  0.575386  0.247912        7.348157   \n",
       "1         0.680524  0.565564  0.246568        1.834589   \n",
       "9         0.680926  0.594038  0.241080       17.656200   \n",
       "59        0.680322  0.589754  0.236230       38.954780   \n",
       "48        0.678389  0.610848  0.222366        1.706895   \n",
       "\n",
       "                                           Parameters  \n",
       "74  {'model__boosting_type': 'dart', 'model__objec...  \n",
       "75  {'model__boosting_type': 'dart', 'model__objec...  \n",
       "66  {'model__boosting_type': 'dart', 'model__objec...  \n",
       "53  {'model__boosting_type': 'dart', 'model__objec...  \n",
       "61  {'model__boosting_type': 'dart', 'model__objec...  \n",
       "..                                                ...  \n",
       "3   {'model__boosting_type': 'dart', 'model__objec...  \n",
       "1   {'model__boosting_type': 'dart', 'model__objec...  \n",
       "9   {'model__boosting_type': 'dart', 'model__objec...  \n",
       "59  {'model__boosting_type': 'dart', 'model__objec...  \n",
       "48  {'model__boosting_type': 'dart', 'model__objec...  \n",
       "\n",
       "[80 rows x 14 columns]"
      ],
      "text/html": [
       "<div>\n",
       "<style scoped>\n",
       "    .dataframe tbody tr th:only-of-type {\n",
       "        vertical-align: middle;\n",
       "    }\n",
       "\n",
       "    .dataframe tbody tr th {\n",
       "        vertical-align: top;\n",
       "    }\n",
       "\n",
       "    .dataframe thead th {\n",
       "        text-align: right;\n",
       "    }\n",
       "</style>\n",
       "<table border=\"1\" class=\"dataframe\">\n",
       "  <thead>\n",
       "    <tr style=\"text-align: right;\">\n",
       "      <th></th>\n",
       "      <th>Trial Number</th>\n",
       "      <th>Mean Test Score (AUC)</th>\n",
       "      <th>mean_test_score</th>\n",
       "      <th>mean_train_score</th>\n",
       "      <th>std_test_score</th>\n",
       "      <th>macro_f1</th>\n",
       "      <th>micro_f1</th>\n",
       "      <th>f1_target1</th>\n",
       "      <th>precision_target1</th>\n",
       "      <th>recall_target1</th>\n",
       "      <th>log_loss</th>\n",
       "      <th>pr_auc</th>\n",
       "      <th>mean_fold_time</th>\n",
       "      <th>Parameters</th>\n",
       "    </tr>\n",
       "  </thead>\n",
       "  <tbody>\n",
       "    <tr>\n",
       "      <th>74</th>\n",
       "      <td>74</td>\n",
       "      <td>0.776747</td>\n",
       "      <td>0.776747</td>\n",
       "      <td>0.830984</td>\n",
       "      <td>0.003274</td>\n",
       "      <td>0.563643</td>\n",
       "      <td>0.734462</td>\n",
       "      <td>0.290626</td>\n",
       "      <td>0.185269</td>\n",
       "      <td>0.673797</td>\n",
       "      <td>0.535689</td>\n",
       "      <td>0.265447</td>\n",
       "      <td>23.572300</td>\n",
       "      <td>{'model__boosting_type': 'dart', 'model__objec...</td>\n",
       "    </tr>\n",
       "    <tr>\n",
       "      <th>75</th>\n",
       "      <td>75</td>\n",
       "      <td>0.776593</td>\n",
       "      <td>0.776593</td>\n",
       "      <td>0.831826</td>\n",
       "      <td>0.003579</td>\n",
       "      <td>0.563294</td>\n",
       "      <td>0.734393</td>\n",
       "      <td>0.289944</td>\n",
       "      <td>0.184870</td>\n",
       "      <td>0.671742</td>\n",
       "      <td>0.534938</td>\n",
       "      <td>0.266426</td>\n",
       "      <td>23.550009</td>\n",
       "      <td>{'model__boosting_type': 'dart', 'model__objec...</td>\n",
       "    </tr>\n",
       "    <tr>\n",
       "      <th>66</th>\n",
       "      <td>66</td>\n",
       "      <td>0.776588</td>\n",
       "      <td>0.776588</td>\n",
       "      <td>0.830350</td>\n",
       "      <td>0.003268</td>\n",
       "      <td>0.562434</td>\n",
       "      <td>0.733112</td>\n",
       "      <td>0.289152</td>\n",
       "      <td>0.184177</td>\n",
       "      <td>0.672387</td>\n",
       "      <td>0.536449</td>\n",
       "      <td>0.265445</td>\n",
       "      <td>25.292503</td>\n",
       "      <td>{'model__boosting_type': 'dart', 'model__objec...</td>\n",
       "    </tr>\n",
       "    <tr>\n",
       "      <th>53</th>\n",
       "      <td>53</td>\n",
       "      <td>0.776571</td>\n",
       "      <td>0.776571</td>\n",
       "      <td>0.835537</td>\n",
       "      <td>0.003876</td>\n",
       "      <td>0.563642</td>\n",
       "      <td>0.735268</td>\n",
       "      <td>0.289980</td>\n",
       "      <td>0.185059</td>\n",
       "      <td>0.669648</td>\n",
       "      <td>0.533383</td>\n",
       "      <td>0.265848</td>\n",
       "      <td>29.795808</td>\n",
       "      <td>{'model__boosting_type': 'dart', 'model__objec...</td>\n",
       "    </tr>\n",
       "    <tr>\n",
       "      <th>61</th>\n",
       "      <td>61</td>\n",
       "      <td>0.776485</td>\n",
       "      <td>0.776485</td>\n",
       "      <td>0.823652</td>\n",
       "      <td>0.003715</td>\n",
       "      <td>0.561293</td>\n",
       "      <td>0.730559</td>\n",
       "      <td>0.288790</td>\n",
       "      <td>0.183496</td>\n",
       "      <td>0.677623</td>\n",
       "      <td>0.540832</td>\n",
       "      <td>0.265591</td>\n",
       "      <td>25.213860</td>\n",
       "      <td>{'model__boosting_type': 'dart', 'model__objec...</td>\n",
       "    </tr>\n",
       "    <tr>\n",
       "      <th>...</th>\n",
       "      <td>...</td>\n",
       "      <td>...</td>\n",
       "      <td>...</td>\n",
       "      <td>...</td>\n",
       "      <td>...</td>\n",
       "      <td>...</td>\n",
       "      <td>...</td>\n",
       "      <td>...</td>\n",
       "      <td>...</td>\n",
       "      <td>...</td>\n",
       "      <td>...</td>\n",
       "      <td>...</td>\n",
       "      <td>...</td>\n",
       "      <td>...</td>\n",
       "    </tr>\n",
       "    <tr>\n",
       "      <th>3</th>\n",
       "      <td>3</td>\n",
       "      <td>0.763828</td>\n",
       "      <td>0.763828</td>\n",
       "      <td>0.780082</td>\n",
       "      <td>0.003558</td>\n",
       "      <td>0.544386</td>\n",
       "      <td>0.705672</td>\n",
       "      <td>0.273306</td>\n",
       "      <td>0.170671</td>\n",
       "      <td>0.685599</td>\n",
       "      <td>0.575386</td>\n",
       "      <td>0.247912</td>\n",
       "      <td>7.348157</td>\n",
       "      <td>{'model__boosting_type': 'dart', 'model__objec...</td>\n",
       "    </tr>\n",
       "    <tr>\n",
       "      <th>1</th>\n",
       "      <td>1</td>\n",
       "      <td>0.763399</td>\n",
       "      <td>0.763399</td>\n",
       "      <td>0.799970</td>\n",
       "      <td>0.003901</td>\n",
       "      <td>0.548395</td>\n",
       "      <td>0.712277</td>\n",
       "      <td>0.276348</td>\n",
       "      <td>0.173377</td>\n",
       "      <td>0.680524</td>\n",
       "      <td>0.565564</td>\n",
       "      <td>0.246568</td>\n",
       "      <td>1.834589</td>\n",
       "      <td>{'model__boosting_type': 'dart', 'model__objec...</td>\n",
       "    </tr>\n",
       "    <tr>\n",
       "      <th>9</th>\n",
       "      <td>9</td>\n",
       "      <td>0.759342</td>\n",
       "      <td>0.759342</td>\n",
       "      <td>0.780662</td>\n",
       "      <td>0.003533</td>\n",
       "      <td>0.542149</td>\n",
       "      <td>0.703402</td>\n",
       "      <td>0.270432</td>\n",
       "      <td>0.168719</td>\n",
       "      <td>0.680926</td>\n",
       "      <td>0.594038</td>\n",
       "      <td>0.241080</td>\n",
       "      <td>17.656200</td>\n",
       "      <td>{'model__boosting_type': 'dart', 'model__objec...</td>\n",
       "    </tr>\n",
       "    <tr>\n",
       "      <th>59</th>\n",
       "      <td>59</td>\n",
       "      <td>0.756181</td>\n",
       "      <td>0.756181</td>\n",
       "      <td>0.778146</td>\n",
       "      <td>0.003688</td>\n",
       "      <td>0.540110</td>\n",
       "      <td>0.700619</td>\n",
       "      <td>0.268418</td>\n",
       "      <td>0.167191</td>\n",
       "      <td>0.680322</td>\n",
       "      <td>0.589754</td>\n",
       "      <td>0.236230</td>\n",
       "      <td>38.954780</td>\n",
       "      <td>{'model__boosting_type': 'dart', 'model__objec...</td>\n",
       "    </tr>\n",
       "    <tr>\n",
       "      <th>48</th>\n",
       "      <td>48</td>\n",
       "      <td>0.746004</td>\n",
       "      <td>0.746004</td>\n",
       "      <td>0.762822</td>\n",
       "      <td>0.003829</td>\n",
       "      <td>0.532915</td>\n",
       "      <td>0.690648</td>\n",
       "      <td>0.261484</td>\n",
       "      <td>0.161954</td>\n",
       "      <td>0.678389</td>\n",
       "      <td>0.610848</td>\n",
       "      <td>0.222366</td>\n",
       "      <td>1.706895</td>\n",
       "      <td>{'model__boosting_type': 'dart', 'model__objec...</td>\n",
       "    </tr>\n",
       "  </tbody>\n",
       "</table>\n",
       "<p>80 rows × 14 columns</p>\n",
       "</div>"
      ]
     },
     "metadata": {},
     "output_type": "display_data"
    },
    {
     "data": {
      "text/plain": [
       "'LGBM_AUC'"
      ]
     },
     "metadata": {},
     "output_type": "display_data"
    },
    {
     "data": {
      "text/plain": [
       "    Trial Number  Mean Test Score (AUC)  mean_test_score  mean_train_score  \\\n",
       "14            14               0.775476         0.775476          0.823154   \n",
       "43            43               0.775427         0.775427          0.825715   \n",
       "21            21               0.775202         0.775202          0.817431   \n",
       "68            68               0.775146         0.775146          0.820013   \n",
       "67            67               0.775118         0.775118          0.814689   \n",
       "..           ...                    ...              ...               ...   \n",
       "29            29               0.759169         0.759169          0.779126   \n",
       "52            52               0.754422         0.754422          0.769147   \n",
       "39            39               0.754239         0.754239          0.769312   \n",
       "57            57               0.746955         0.746955          0.760794   \n",
       "65            65               0.733063         0.733063          0.739608   \n",
       "\n",
       "    std_test_score  macro_f1  micro_f1  f1_target1  precision_target1  \\\n",
       "14        0.003640  0.559619  0.728325    0.287048           0.182104   \n",
       "43        0.003278  0.560401  0.729642    0.287641           0.182678   \n",
       "21        0.003338  0.558119  0.725493    0.286164           0.181100   \n",
       "68        0.003356  0.558903  0.726878    0.286702           0.181649   \n",
       "67        0.003698  0.557178  0.724000    0.285382           0.180399   \n",
       "..             ...       ...       ...         ...                ...   \n",
       "29        0.003418  0.541233  0.701191    0.270339           0.168358   \n",
       "52        0.003537  0.536445  0.695026    0.265317           0.164686   \n",
       "39        0.021872  0.537541  0.696375    0.266517           0.165543   \n",
       "57        0.003926  0.531099  0.687982    0.259876           0.160713   \n",
       "65        0.011882  0.521903  0.676974    0.249619           0.153617   \n",
       "\n",
       "    recall_target1  log_loss    pr_auc  mean_fold_time  \\\n",
       "14        0.677462  0.540545  0.263373        4.263146   \n",
       "43        0.676133  0.539546  0.264757        3.921048   \n",
       "21        0.681571  0.544117  0.262951        4.297749   \n",
       "68        0.679919  0.542659  0.262858        4.943454   \n",
       "67        0.682659  0.545808  0.263104        4.407532   \n",
       "..             ...       ...       ...             ...   \n",
       "29        0.685680  0.579674  0.240910        4.282165   \n",
       "52        0.682135  0.605123  0.234764        1.449826   \n",
       "39        0.683303  0.603860  0.220045        4.363283   \n",
       "57        0.678550  0.663753  0.216402        1.490487   \n",
       "65        0.665539  0.628889  0.197056        2.035689   \n",
       "\n",
       "                                           Parameters  \n",
       "14  {'model__objective': 'binary', 'model__class_w...  \n",
       "43  {'model__objective': 'binary', 'model__class_w...  \n",
       "21  {'model__objective': 'binary', 'model__class_w...  \n",
       "68  {'model__objective': 'binary', 'model__class_w...  \n",
       "67  {'model__objective': 'binary', 'model__class_w...  \n",
       "..                                                ...  \n",
       "29  {'model__objective': 'binary', 'model__class_w...  \n",
       "52  {'model__objective': 'binary', 'model__class_w...  \n",
       "39  {'model__objective': 'binary', 'model__class_w...  \n",
       "57  {'model__objective': 'binary', 'model__class_w...  \n",
       "65  {'model__objective': 'binary', 'model__class_w...  \n",
       "\n",
       "[80 rows x 14 columns]"
      ],
      "text/html": [
       "<div>\n",
       "<style scoped>\n",
       "    .dataframe tbody tr th:only-of-type {\n",
       "        vertical-align: middle;\n",
       "    }\n",
       "\n",
       "    .dataframe tbody tr th {\n",
       "        vertical-align: top;\n",
       "    }\n",
       "\n",
       "    .dataframe thead th {\n",
       "        text-align: right;\n",
       "    }\n",
       "</style>\n",
       "<table border=\"1\" class=\"dataframe\">\n",
       "  <thead>\n",
       "    <tr style=\"text-align: right;\">\n",
       "      <th></th>\n",
       "      <th>Trial Number</th>\n",
       "      <th>Mean Test Score (AUC)</th>\n",
       "      <th>mean_test_score</th>\n",
       "      <th>mean_train_score</th>\n",
       "      <th>std_test_score</th>\n",
       "      <th>macro_f1</th>\n",
       "      <th>micro_f1</th>\n",
       "      <th>f1_target1</th>\n",
       "      <th>precision_target1</th>\n",
       "      <th>recall_target1</th>\n",
       "      <th>log_loss</th>\n",
       "      <th>pr_auc</th>\n",
       "      <th>mean_fold_time</th>\n",
       "      <th>Parameters</th>\n",
       "    </tr>\n",
       "  </thead>\n",
       "  <tbody>\n",
       "    <tr>\n",
       "      <th>14</th>\n",
       "      <td>14</td>\n",
       "      <td>0.775476</td>\n",
       "      <td>0.775476</td>\n",
       "      <td>0.823154</td>\n",
       "      <td>0.003640</td>\n",
       "      <td>0.559619</td>\n",
       "      <td>0.728325</td>\n",
       "      <td>0.287048</td>\n",
       "      <td>0.182104</td>\n",
       "      <td>0.677462</td>\n",
       "      <td>0.540545</td>\n",
       "      <td>0.263373</td>\n",
       "      <td>4.263146</td>\n",
       "      <td>{'model__objective': 'binary', 'model__class_w...</td>\n",
       "    </tr>\n",
       "    <tr>\n",
       "      <th>43</th>\n",
       "      <td>43</td>\n",
       "      <td>0.775427</td>\n",
       "      <td>0.775427</td>\n",
       "      <td>0.825715</td>\n",
       "      <td>0.003278</td>\n",
       "      <td>0.560401</td>\n",
       "      <td>0.729642</td>\n",
       "      <td>0.287641</td>\n",
       "      <td>0.182678</td>\n",
       "      <td>0.676133</td>\n",
       "      <td>0.539546</td>\n",
       "      <td>0.264757</td>\n",
       "      <td>3.921048</td>\n",
       "      <td>{'model__objective': 'binary', 'model__class_w...</td>\n",
       "    </tr>\n",
       "    <tr>\n",
       "      <th>21</th>\n",
       "      <td>21</td>\n",
       "      <td>0.775202</td>\n",
       "      <td>0.775202</td>\n",
       "      <td>0.817431</td>\n",
       "      <td>0.003338</td>\n",
       "      <td>0.558119</td>\n",
       "      <td>0.725493</td>\n",
       "      <td>0.286164</td>\n",
       "      <td>0.181100</td>\n",
       "      <td>0.681571</td>\n",
       "      <td>0.544117</td>\n",
       "      <td>0.262951</td>\n",
       "      <td>4.297749</td>\n",
       "      <td>{'model__objective': 'binary', 'model__class_w...</td>\n",
       "    </tr>\n",
       "    <tr>\n",
       "      <th>68</th>\n",
       "      <td>68</td>\n",
       "      <td>0.775146</td>\n",
       "      <td>0.775146</td>\n",
       "      <td>0.820013</td>\n",
       "      <td>0.003356</td>\n",
       "      <td>0.558903</td>\n",
       "      <td>0.726878</td>\n",
       "      <td>0.286702</td>\n",
       "      <td>0.181649</td>\n",
       "      <td>0.679919</td>\n",
       "      <td>0.542659</td>\n",
       "      <td>0.262858</td>\n",
       "      <td>4.943454</td>\n",
       "      <td>{'model__objective': 'binary', 'model__class_w...</td>\n",
       "    </tr>\n",
       "    <tr>\n",
       "      <th>67</th>\n",
       "      <td>67</td>\n",
       "      <td>0.775118</td>\n",
       "      <td>0.775118</td>\n",
       "      <td>0.814689</td>\n",
       "      <td>0.003698</td>\n",
       "      <td>0.557178</td>\n",
       "      <td>0.724000</td>\n",
       "      <td>0.285382</td>\n",
       "      <td>0.180399</td>\n",
       "      <td>0.682659</td>\n",
       "      <td>0.545808</td>\n",
       "      <td>0.263104</td>\n",
       "      <td>4.407532</td>\n",
       "      <td>{'model__objective': 'binary', 'model__class_w...</td>\n",
       "    </tr>\n",
       "    <tr>\n",
       "      <th>...</th>\n",
       "      <td>...</td>\n",
       "      <td>...</td>\n",
       "      <td>...</td>\n",
       "      <td>...</td>\n",
       "      <td>...</td>\n",
       "      <td>...</td>\n",
       "      <td>...</td>\n",
       "      <td>...</td>\n",
       "      <td>...</td>\n",
       "      <td>...</td>\n",
       "      <td>...</td>\n",
       "      <td>...</td>\n",
       "      <td>...</td>\n",
       "      <td>...</td>\n",
       "    </tr>\n",
       "    <tr>\n",
       "      <th>29</th>\n",
       "      <td>29</td>\n",
       "      <td>0.759169</td>\n",
       "      <td>0.759169</td>\n",
       "      <td>0.779126</td>\n",
       "      <td>0.003418</td>\n",
       "      <td>0.541233</td>\n",
       "      <td>0.701191</td>\n",
       "      <td>0.270339</td>\n",
       "      <td>0.168358</td>\n",
       "      <td>0.685680</td>\n",
       "      <td>0.579674</td>\n",
       "      <td>0.240910</td>\n",
       "      <td>4.282165</td>\n",
       "      <td>{'model__objective': 'binary', 'model__class_w...</td>\n",
       "    </tr>\n",
       "    <tr>\n",
       "      <th>52</th>\n",
       "      <td>52</td>\n",
       "      <td>0.754422</td>\n",
       "      <td>0.754422</td>\n",
       "      <td>0.769147</td>\n",
       "      <td>0.003537</td>\n",
       "      <td>0.536445</td>\n",
       "      <td>0.695026</td>\n",
       "      <td>0.265317</td>\n",
       "      <td>0.164686</td>\n",
       "      <td>0.682135</td>\n",
       "      <td>0.605123</td>\n",
       "      <td>0.234764</td>\n",
       "      <td>1.449826</td>\n",
       "      <td>{'model__objective': 'binary', 'model__class_w...</td>\n",
       "    </tr>\n",
       "    <tr>\n",
       "      <th>39</th>\n",
       "      <td>39</td>\n",
       "      <td>0.754239</td>\n",
       "      <td>0.754239</td>\n",
       "      <td>0.769312</td>\n",
       "      <td>0.021872</td>\n",
       "      <td>0.537541</td>\n",
       "      <td>0.696375</td>\n",
       "      <td>0.266517</td>\n",
       "      <td>0.165543</td>\n",
       "      <td>0.683303</td>\n",
       "      <td>0.603860</td>\n",
       "      <td>0.220045</td>\n",
       "      <td>4.363283</td>\n",
       "      <td>{'model__objective': 'binary', 'model__class_w...</td>\n",
       "    </tr>\n",
       "    <tr>\n",
       "      <th>57</th>\n",
       "      <td>57</td>\n",
       "      <td>0.746955</td>\n",
       "      <td>0.746955</td>\n",
       "      <td>0.760794</td>\n",
       "      <td>0.003926</td>\n",
       "      <td>0.531099</td>\n",
       "      <td>0.687982</td>\n",
       "      <td>0.259876</td>\n",
       "      <td>0.160713</td>\n",
       "      <td>0.678550</td>\n",
       "      <td>0.663753</td>\n",
       "      <td>0.216402</td>\n",
       "      <td>1.490487</td>\n",
       "      <td>{'model__objective': 'binary', 'model__class_w...</td>\n",
       "    </tr>\n",
       "    <tr>\n",
       "      <th>65</th>\n",
       "      <td>65</td>\n",
       "      <td>0.733063</td>\n",
       "      <td>0.733063</td>\n",
       "      <td>0.739608</td>\n",
       "      <td>0.011882</td>\n",
       "      <td>0.521903</td>\n",
       "      <td>0.676974</td>\n",
       "      <td>0.249619</td>\n",
       "      <td>0.153617</td>\n",
       "      <td>0.665539</td>\n",
       "      <td>0.628889</td>\n",
       "      <td>0.197056</td>\n",
       "      <td>2.035689</td>\n",
       "      <td>{'model__objective': 'binary', 'model__class_w...</td>\n",
       "    </tr>\n",
       "  </tbody>\n",
       "</table>\n",
       "<p>80 rows × 14 columns</p>\n",
       "</div>"
      ]
     },
     "metadata": {},
     "output_type": "display_data"
    }
   ],
   "execution_count": 13
  },
  {
   "cell_type": "code",
   "source": "tuning_results.keys()",
   "metadata": {
    "collapsed": false,
    "ExecuteTime": {
     "end_time": "2024-04-20T17:43:58.384059Z",
     "start_time": "2024-04-20T17:43:58.380984Z"
    }
   },
   "id": "27ceb3ef64dae1f2",
   "outputs": [
    {
     "data": {
      "text/plain": [
       "dict_keys(['LGBM_Dart_AUC', 'LGBM_AUC'])"
      ]
     },
     "execution_count": 5,
     "metadata": {},
     "output_type": "execute_result"
    }
   ],
   "execution_count": 5
  },
  {
   "cell_type": "code",
   "source": [
    "# Results:\n",
    "\n",
    "# Only main dataset:\n",
    "# - top res      : 0.753\n",
    "# - full + gbdt  : 0.765\n",
    "# - full + dart  : 0.766\n"
   ],
   "metadata": {
    "collapsed": false,
    "ExecuteTime": {
     "end_time": "2024-04-20T17:43:58.386175Z",
     "start_time": "2024-04-20T17:43:58.384059Z"
    }
   },
   "id": "455694eed5002c55",
   "outputs": [],
   "execution_count": 6
  },
  {
   "cell_type": "code",
   "source": [
    "from Draft.feature_builder_v2 import DatasetType\n",
    "\n",
    "importlib.reload(feature_builder_v2)\n",
    "features_matrix_full = feature_builder_v2.load_datasets_and_prepare_features(drop_meta_data=True,\n",
    "                                                                             ds_type=DatasetType.FULL)\n"
   ],
   "metadata": {
    "collapsed": false,
    "ExecuteTime": {
     "end_time": "2024-04-20T17:44:17.764720Z",
     "start_time": "2024-04-20T17:43:58.386175Z"
    }
   },
   "id": "fed6d85344fbd3e1",
   "outputs": [
    {
     "name": "stderr",
     "output_type": "stream",
     "text": [
      "C:\\Users\\Paulius\\AppData\\Local\\pypoetry\\Cache\\virtualenvs\\ppuodz-ml-4-1-dqELbViF-py3.12\\Lib\\site-packages\\woodwork\\type_sys\\utils.py:40: UserWarning: Could not infer format, so each element will be parsed individually, falling back to `dateutil`. To ensure parsing is consistent and as-expected, please specify a format.\n",
      "  pd.to_datetime(\n",
      "C:\\Users\\Paulius\\AppData\\Local\\pypoetry\\Cache\\virtualenvs\\ppuodz-ml-4-1-dqELbViF-py3.12\\Lib\\site-packages\\woodwork\\type_sys\\utils.py:40: UserWarning: Could not infer format, so each element will be parsed individually, falling back to `dateutil`. To ensure parsing is consistent and as-expected, please specify a format.\n",
      "  pd.to_datetime(\n",
      "C:\\Users\\Paulius\\AppData\\Local\\pypoetry\\Cache\\virtualenvs\\ppuodz-ml-4-1-dqELbViF-py3.12\\Lib\\site-packages\\woodwork\\type_sys\\utils.py:40: UserWarning: Could not infer format, so each element will be parsed individually, falling back to `dateutil`. To ensure parsing is consistent and as-expected, please specify a format.\n",
      "  pd.to_datetime(\n",
      "C:\\Users\\Paulius\\AppData\\Local\\pypoetry\\Cache\\virtualenvs\\ppuodz-ml-4-1-dqELbViF-py3.12\\Lib\\site-packages\\woodwork\\type_sys\\utils.py:40: UserWarning: Could not infer format, so each element will be parsed individually, falling back to `dateutil`. To ensure parsing is consistent and as-expected, please specify a format.\n",
      "  pd.to_datetime(\n",
      "C:\\Users\\Paulius\\AppData\\Local\\pypoetry\\Cache\\virtualenvs\\ppuodz-ml-4-1-dqELbViF-py3.12\\Lib\\site-packages\\woodwork\\type_sys\\utils.py:40: UserWarning: Could not infer format, so each element will be parsed individually, falling back to `dateutil`. To ensure parsing is consistent and as-expected, please specify a format.\n",
      "  pd.to_datetime(\n",
      "C:\\Users\\Paulius\\AppData\\Local\\pypoetry\\Cache\\virtualenvs\\ppuodz-ml-4-1-dqELbViF-py3.12\\Lib\\site-packages\\woodwork\\type_sys\\utils.py:40: UserWarning: Could not infer format, so each element will be parsed individually, falling back to `dateutil`. To ensure parsing is consistent and as-expected, please specify a format.\n",
      "  pd.to_datetime(\n",
      "C:\\Users\\Paulius\\AppData\\Local\\pypoetry\\Cache\\virtualenvs\\ppuodz-ml-4-1-dqELbViF-py3.12\\Lib\\site-packages\\woodwork\\type_sys\\utils.py:40: UserWarning: Could not infer format, so each element will be parsed individually, falling back to `dateutil`. To ensure parsing is consistent and as-expected, please specify a format.\n",
      "  pd.to_datetime(\n",
      "C:\\Users\\Paulius\\AppData\\Local\\pypoetry\\Cache\\virtualenvs\\ppuodz-ml-4-1-dqELbViF-py3.12\\Lib\\site-packages\\woodwork\\type_sys\\utils.py:40: UserWarning: Could not infer format, so each element will be parsed individually, falling back to `dateutil`. To ensure parsing is consistent and as-expected, please specify a format.\n",
      "  pd.to_datetime(\n",
      "C:\\Users\\Paulius\\AppData\\Local\\pypoetry\\Cache\\virtualenvs\\ppuodz-ml-4-1-dqELbViF-py3.12\\Lib\\site-packages\\woodwork\\type_sys\\utils.py:40: UserWarning: Could not infer format, so each element will be parsed individually, falling back to `dateutil`. To ensure parsing is consistent and as-expected, please specify a format.\n",
      "  pd.to_datetime(\n",
      "C:\\Users\\Paulius\\AppData\\Local\\pypoetry\\Cache\\virtualenvs\\ppuodz-ml-4-1-dqELbViF-py3.12\\Lib\\site-packages\\woodwork\\type_sys\\utils.py:40: UserWarning: Could not infer format, so each element will be parsed individually, falling back to `dateutil`. To ensure parsing is consistent and as-expected, please specify a format.\n",
      "  pd.to_datetime(\n",
      "C:\\Users\\Paulius\\AppData\\Local\\pypoetry\\Cache\\virtualenvs\\ppuodz-ml-4-1-dqELbViF-py3.12\\Lib\\site-packages\\woodwork\\type_sys\\utils.py:40: UserWarning: Could not infer format, so each element will be parsed individually, falling back to `dateutil`. To ensure parsing is consistent and as-expected, please specify a format.\n",
      "  pd.to_datetime(\n",
      "C:\\Users\\Paulius\\AppData\\Local\\pypoetry\\Cache\\virtualenvs\\ppuodz-ml-4-1-dqELbViF-py3.12\\Lib\\site-packages\\woodwork\\type_sys\\utils.py:40: UserWarning: Could not infer format, so each element will be parsed individually, falling back to `dateutil`. To ensure parsing is consistent and as-expected, please specify a format.\n",
      "  pd.to_datetime(\n",
      "C:\\Users\\Paulius\\AppData\\Local\\pypoetry\\Cache\\virtualenvs\\ppuodz-ml-4-1-dqELbViF-py3.12\\Lib\\site-packages\\woodwork\\type_sys\\utils.py:40: UserWarning: Could not infer format, so each element will be parsed individually, falling back to `dateutil`. To ensure parsing is consistent and as-expected, please specify a format.\n",
      "  pd.to_datetime(\n",
      "C:\\Users\\Paulius\\AppData\\Local\\pypoetry\\Cache\\virtualenvs\\ppuodz-ml-4-1-dqELbViF-py3.12\\Lib\\site-packages\\woodwork\\type_sys\\utils.py:40: UserWarning: Could not infer format, so each element will be parsed individually, falling back to `dateutil`. To ensure parsing is consistent and as-expected, please specify a format.\n",
      "  pd.to_datetime(\n",
      "C:\\Users\\Paulius\\AppData\\Local\\pypoetry\\Cache\\virtualenvs\\ppuodz-ml-4-1-dqELbViF-py3.12\\Lib\\site-packages\\woodwork\\type_sys\\utils.py:40: UserWarning: Could not infer format, so each element will be parsed individually, falling back to `dateutil`. To ensure parsing is consistent and as-expected, please specify a format.\n",
      "  pd.to_datetime(\n",
      "C:\\Users\\Paulius\\AppData\\Local\\pypoetry\\Cache\\virtualenvs\\ppuodz-ml-4-1-dqELbViF-py3.12\\Lib\\site-packages\\woodwork\\type_sys\\utils.py:40: UserWarning: Could not infer format, so each element will be parsed individually, falling back to `dateutil`. To ensure parsing is consistent and as-expected, please specify a format.\n",
      "  pd.to_datetime(\n",
      "C:\\Users\\Paulius\\AppData\\Local\\pypoetry\\Cache\\virtualenvs\\ppuodz-ml-4-1-dqELbViF-py3.12\\Lib\\site-packages\\woodwork\\type_sys\\utils.py:40: UserWarning: Could not infer format, so each element will be parsed individually, falling back to `dateutil`. To ensure parsing is consistent and as-expected, please specify a format.\n",
      "  pd.to_datetime(\n",
      "C:\\Users\\Paulius\\AppData\\Local\\pypoetry\\Cache\\virtualenvs\\ppuodz-ml-4-1-dqELbViF-py3.12\\Lib\\site-packages\\woodwork\\type_sys\\utils.py:40: UserWarning: Could not infer format, so each element will be parsed individually, falling back to `dateutil`. To ensure parsing is consistent and as-expected, please specify a format.\n",
      "  pd.to_datetime(\n",
      "C:\\Users\\Paulius\\AppData\\Local\\pypoetry\\Cache\\virtualenvs\\ppuodz-ml-4-1-dqELbViF-py3.12\\Lib\\site-packages\\woodwork\\type_sys\\utils.py:40: UserWarning: Could not infer format, so each element will be parsed individually, falling back to `dateutil`. To ensure parsing is consistent and as-expected, please specify a format.\n",
      "  pd.to_datetime(\n",
      "C:\\Users\\Paulius\\AppData\\Local\\pypoetry\\Cache\\virtualenvs\\ppuodz-ml-4-1-dqELbViF-py3.12\\Lib\\site-packages\\woodwork\\type_sys\\utils.py:40: UserWarning: Could not infer format, so each element will be parsed individually, falling back to `dateutil`. To ensure parsing is consistent and as-expected, please specify a format.\n",
      "  pd.to_datetime(\n",
      "C:\\Users\\Paulius\\AppData\\Local\\pypoetry\\Cache\\virtualenvs\\ppuodz-ml-4-1-dqELbViF-py3.12\\Lib\\site-packages\\woodwork\\type_sys\\utils.py:40: UserWarning: Could not infer format, so each element will be parsed individually, falling back to `dateutil`. To ensure parsing is consistent and as-expected, please specify a format.\n",
      "  pd.to_datetime(\n",
      "C:\\Users\\Paulius\\AppData\\Local\\pypoetry\\Cache\\virtualenvs\\ppuodz-ml-4-1-dqELbViF-py3.12\\Lib\\site-packages\\woodwork\\type_sys\\utils.py:40: UserWarning: Could not infer format, so each element will be parsed individually, falling back to `dateutil`. To ensure parsing is consistent and as-expected, please specify a format.\n",
      "  pd.to_datetime(\n",
      "C:\\Users\\Paulius\\AppData\\Local\\pypoetry\\Cache\\virtualenvs\\ppuodz-ml-4-1-dqELbViF-py3.12\\Lib\\site-packages\\woodwork\\type_sys\\utils.py:40: UserWarning: Could not infer format, so each element will be parsed individually, falling back to `dateutil`. To ensure parsing is consistent and as-expected, please specify a format.\n",
      "  pd.to_datetime(\n",
      "C:\\Users\\Paulius\\AppData\\Local\\pypoetry\\Cache\\virtualenvs\\ppuodz-ml-4-1-dqELbViF-py3.12\\Lib\\site-packages\\woodwork\\type_sys\\utils.py:40: UserWarning: Could not infer format, so each element will be parsed individually, falling back to `dateutil`. To ensure parsing is consistent and as-expected, please specify a format.\n",
      "  pd.to_datetime(\n",
      "C:\\Users\\Paulius\\AppData\\Local\\pypoetry\\Cache\\virtualenvs\\ppuodz-ml-4-1-dqELbViF-py3.12\\Lib\\site-packages\\woodwork\\type_sys\\utils.py:40: UserWarning: Could not infer format, so each element will be parsed individually, falling back to `dateutil`. To ensure parsing is consistent and as-expected, please specify a format.\n",
      "  pd.to_datetime(\n",
      "C:\\Users\\Paulius\\AppData\\Local\\pypoetry\\Cache\\virtualenvs\\ppuodz-ml-4-1-dqELbViF-py3.12\\Lib\\site-packages\\woodwork\\type_sys\\utils.py:40: UserWarning: Could not infer format, so each element will be parsed individually, falling back to `dateutil`. To ensure parsing is consistent and as-expected, please specify a format.\n",
      "  pd.to_datetime(\n",
      "C:\\Users\\Paulius\\AppData\\Local\\pypoetry\\Cache\\virtualenvs\\ppuodz-ml-4-1-dqELbViF-py3.12\\Lib\\site-packages\\woodwork\\type_sys\\utils.py:40: UserWarning: Could not infer format, so each element will be parsed individually, falling back to `dateutil`. To ensure parsing is consistent and as-expected, please specify a format.\n",
      "  pd.to_datetime(\n",
      "C:\\Users\\Paulius\\AppData\\Local\\pypoetry\\Cache\\virtualenvs\\ppuodz-ml-4-1-dqELbViF-py3.12\\Lib\\site-packages\\woodwork\\type_sys\\utils.py:40: UserWarning: Could not infer format, so each element will be parsed individually, falling back to `dateutil`. To ensure parsing is consistent and as-expected, please specify a format.\n",
      "  pd.to_datetime(\n",
      "C:\\Users\\Paulius\\AppData\\Local\\pypoetry\\Cache\\virtualenvs\\ppuodz-ml-4-1-dqELbViF-py3.12\\Lib\\site-packages\\woodwork\\type_sys\\utils.py:40: UserWarning: Could not infer format, so each element will be parsed individually, falling back to `dateutil`. To ensure parsing is consistent and as-expected, please specify a format.\n",
      "  pd.to_datetime(\n",
      "C:\\Users\\Paulius\\AppData\\Local\\pypoetry\\Cache\\virtualenvs\\ppuodz-ml-4-1-dqELbViF-py3.12\\Lib\\site-packages\\woodwork\\type_sys\\utils.py:40: UserWarning: Could not infer format, so each element will be parsed individually, falling back to `dateutil`. To ensure parsing is consistent and as-expected, please specify a format.\n",
      "  pd.to_datetime(\n",
      "C:\\Users\\Paulius\\AppData\\Local\\pypoetry\\Cache\\virtualenvs\\ppuodz-ml-4-1-dqELbViF-py3.12\\Lib\\site-packages\\woodwork\\type_sys\\utils.py:40: UserWarning: Could not infer format, so each element will be parsed individually, falling back to `dateutil`. To ensure parsing is consistent and as-expected, please specify a format.\n",
      "  pd.to_datetime(\n",
      "C:\\Users\\Paulius\\AppData\\Local\\pypoetry\\Cache\\virtualenvs\\ppuodz-ml-4-1-dqELbViF-py3.12\\Lib\\site-packages\\woodwork\\type_sys\\utils.py:40: UserWarning: Could not infer format, so each element will be parsed individually, falling back to `dateutil`. To ensure parsing is consistent and as-expected, please specify a format.\n",
      "  pd.to_datetime(\n",
      "C:\\Users\\Paulius\\AppData\\Local\\pypoetry\\Cache\\virtualenvs\\ppuodz-ml-4-1-dqELbViF-py3.12\\Lib\\site-packages\\featuretools\\entityset\\entityset.py:1914: UserWarning: index SK_BUREAU_ID not found in dataframe, creating new integer column\n",
      "  warnings.warn(\n",
      "C:\\Users\\Paulius\\AppData\\Local\\pypoetry\\Cache\\virtualenvs\\ppuodz-ml-4-1-dqELbViF-py3.12\\Lib\\site-packages\\woodwork\\type_sys\\utils.py:40: UserWarning: Could not infer format, so each element will be parsed individually, falling back to `dateutil`. To ensure parsing is consistent and as-expected, please specify a format.\n",
      "  pd.to_datetime(\n",
      "C:\\Users\\Paulius\\AppData\\Local\\pypoetry\\Cache\\virtualenvs\\ppuodz-ml-4-1-dqELbViF-py3.12\\Lib\\site-packages\\woodwork\\type_sys\\utils.py:40: UserWarning: Could not infer format, so each element will be parsed individually, falling back to `dateutil`. To ensure parsing is consistent and as-expected, please specify a format.\n",
      "  pd.to_datetime(\n",
      "C:\\Users\\Paulius\\AppData\\Local\\pypoetry\\Cache\\virtualenvs\\ppuodz-ml-4-1-dqELbViF-py3.12\\Lib\\site-packages\\woodwork\\type_sys\\utils.py:40: UserWarning: Could not infer format, so each element will be parsed individually, falling back to `dateutil`. To ensure parsing is consistent and as-expected, please specify a format.\n",
      "  pd.to_datetime(\n",
      "C:\\Users\\Paulius\\AppData\\Local\\pypoetry\\Cache\\virtualenvs\\ppuodz-ml-4-1-dqELbViF-py3.12\\Lib\\site-packages\\woodwork\\type_sys\\utils.py:40: UserWarning: Could not infer format, so each element will be parsed individually, falling back to `dateutil`. To ensure parsing is consistent and as-expected, please specify a format.\n",
      "  pd.to_datetime(\n",
      "C:\\Users\\Paulius\\AppData\\Local\\pypoetry\\Cache\\virtualenvs\\ppuodz-ml-4-1-dqELbViF-py3.12\\Lib\\site-packages\\woodwork\\type_sys\\utils.py:40: UserWarning: Could not infer format, so each element will be parsed individually, falling back to `dateutil`. To ensure parsing is consistent and as-expected, please specify a format.\n",
      "  pd.to_datetime(\n",
      "C:\\Users\\Paulius\\AppData\\Local\\pypoetry\\Cache\\virtualenvs\\ppuodz-ml-4-1-dqELbViF-py3.12\\Lib\\site-packages\\woodwork\\type_sys\\utils.py:40: UserWarning: Could not infer format, so each element will be parsed individually, falling back to `dateutil`. To ensure parsing is consistent and as-expected, please specify a format.\n",
      "  pd.to_datetime(\n",
      "C:\\Users\\Paulius\\AppData\\Local\\pypoetry\\Cache\\virtualenvs\\ppuodz-ml-4-1-dqELbViF-py3.12\\Lib\\site-packages\\featuretools\\computational_backends\\feature_set_calculator.py:828: FutureWarning: The provided callable <function mean at 0x0000020748304D60> is currently using SeriesGroupBy.mean. In a future version of pandas, the provided callable will be used directly. To keep current behavior pass the string \"mean\" instead.\n",
      "  ).agg(to_agg)\n",
      "C:\\Users\\Paulius\\AppData\\Local\\pypoetry\\Cache\\virtualenvs\\ppuodz-ml-4-1-dqELbViF-py3.12\\Lib\\site-packages\\featuretools\\computational_backends\\feature_set_calculator.py:828: FutureWarning: The provided callable <function min at 0x00000207483044A0> is currently using SeriesGroupBy.min. In a future version of pandas, the provided callable will be used directly. To keep current behavior pass the string \"min\" instead.\n",
      "  ).agg(to_agg)\n",
      "C:\\Users\\Paulius\\AppData\\Local\\pypoetry\\Cache\\virtualenvs\\ppuodz-ml-4-1-dqELbViF-py3.12\\Lib\\site-packages\\featuretools\\computational_backends\\feature_set_calculator.py:828: FutureWarning: The provided callable <function max at 0x0000020748304360> is currently using SeriesGroupBy.max. In a future version of pandas, the provided callable will be used directly. To keep current behavior pass the string \"max\" instead.\n",
      "  ).agg(to_agg)\n"
     ]
    },
    {
     "name": "stdout",
     "output_type": "stream",
     "text": [
      "Appending previous history\n",
      "Full DS size: 307511\n"
     ]
    }
   ],
   "execution_count": 7
  },
  {
   "cell_type": "code",
   "source": [
    "features_matrix_full"
   ],
   "metadata": {
    "collapsed": false,
    "ExecuteTime": {
     "end_time": "2024-04-20T17:44:17.804201Z",
     "start_time": "2024-04-20T17:44:17.764720Z"
    }
   },
   "id": "554658483974d14c",
   "outputs": [
    {
     "data": {
      "text/plain": [
       "        TARGET NameContractType CodeGender  FlagOwnCar  FlagOwnRealty  \\\n",
       "0            1       Cash loans          M       False           True   \n",
       "1            0       Cash loans          F       False          False   \n",
       "2            0  Revolving loans          M        True           True   \n",
       "3            0       Cash loans          F       False           True   \n",
       "4            0       Cash loans          M       False           True   \n",
       "...        ...              ...        ...         ...            ...   \n",
       "307506       0       Cash loans          M       False          False   \n",
       "307507       0       Cash loans          F       False           True   \n",
       "307508       0       Cash loans          F       False           True   \n",
       "307509       1       Cash loans          F       False           True   \n",
       "307510       0       Cash loans          F       False          False   \n",
       "\n",
       "        CntChildren  AmtIncomeTotal  AmtCredit  AmtAnnuity  AmtGoodsPrice  \\\n",
       "0                 0        202500.0   406597.5     24700.5       351000.0   \n",
       "1                 0        270000.0  1293502.5     35698.5      1129500.0   \n",
       "2                 0         67500.0   135000.0      6750.0       135000.0   \n",
       "3                 0        135000.0   312682.5     29686.5       297000.0   \n",
       "4                 0        121500.0   513000.0     21865.5       513000.0   \n",
       "...             ...             ...        ...         ...            ...   \n",
       "307506            0        157500.0   254700.0     27558.0       225000.0   \n",
       "307507            0         72000.0   269550.0     12001.5       225000.0   \n",
       "307508            0        153000.0   677664.0     29979.0       585000.0   \n",
       "307509            0        171000.0   370107.0     20205.0       319500.0   \n",
       "307510            0        157500.0   675000.0     49117.5       675000.0   \n",
       "\n",
       "        ... PrevCodeRejectReasonHcCount PrevCodeRejectReasonLimitCount  \\\n",
       "0       ...                         0.0                            0.0   \n",
       "1       ...                         0.0                            0.0   \n",
       "2       ...                         0.0                            0.0   \n",
       "3       ...                         0.0                            1.0   \n",
       "4       ...                         0.0                            0.0   \n",
       "...     ...                         ...                            ...   \n",
       "307506  ...                         0.0                            0.0   \n",
       "307507  ...                         0.0                            0.0   \n",
       "307508  ...                         0.0                            0.0   \n",
       "307509  ...                         0.0                            0.0   \n",
       "307510  ...                         2.0                            0.0   \n",
       "\n",
       "       PrevCodeRejectReasonScoCount PrevCodeRejectReasonScofrCount  \\\n",
       "0                               0.0                            0.0   \n",
       "1                               0.0                            0.0   \n",
       "2                               0.0                            0.0   \n",
       "3                               0.0                            0.0   \n",
       "4                               0.0                            0.0   \n",
       "...                             ...                            ...   \n",
       "307506                          0.0                            0.0   \n",
       "307507                          0.0                            0.0   \n",
       "307508                          0.0                            0.0   \n",
       "307509                          0.0                            0.0   \n",
       "307510                          0.0                            0.0   \n",
       "\n",
       "       PrevCodeRejectReasonSystemCount  PrevCodeRejectReasonVerifCount  \\\n",
       "0                                  0.0                             0.0   \n",
       "1                                  0.0                             0.0   \n",
       "2                                  0.0                             0.0   \n",
       "3                                  0.0                             0.0   \n",
       "4                                  0.0                             0.0   \n",
       "...                                ...                             ...   \n",
       "307506                             0.0                             0.0   \n",
       "307507                             0.0                             0.0   \n",
       "307508                             0.0                             0.0   \n",
       "307509                             0.0                             0.0   \n",
       "307510                             0.0                             0.0   \n",
       "\n",
       "        PrevCodeRejectReasonXapCount  PrevCodeRejectReasonXnaCount  \\\n",
       "0                                1.0                           0.0   \n",
       "1                                3.0                           0.0   \n",
       "2                                1.0                           0.0   \n",
       "3                                8.0                           0.0   \n",
       "4                                6.0                           0.0   \n",
       "...                              ...                           ...   \n",
       "307506                           1.0                           0.0   \n",
       "307507                           1.0                           0.0   \n",
       "307508                           2.0                           0.0   \n",
       "307509                           2.0                           0.0   \n",
       "307510                           6.0                           0.0   \n",
       "\n",
       "        PrevLastLoanNflagInsuredOnApproval  PrevAvgNflagInsuredOnApproval  \n",
       "0                                      0.0                       0.000000  \n",
       "1                                      1.0                       0.666667  \n",
       "2                                      0.0                       0.000000  \n",
       "3                                      NaN                       0.000000  \n",
       "4                                      1.0                       0.600000  \n",
       "...                                    ...                            ...  \n",
       "307506                                 0.0                       0.000000  \n",
       "307507                                 1.0                       1.000000  \n",
       "307508                                 0.0                       0.500000  \n",
       "307509                                 1.0                       0.500000  \n",
       "307510                                 NaN                       0.333333  \n",
       "\n",
       "[307511 rows x 227 columns]"
      ],
      "text/html": [
       "<div>\n",
       "<style scoped>\n",
       "    .dataframe tbody tr th:only-of-type {\n",
       "        vertical-align: middle;\n",
       "    }\n",
       "\n",
       "    .dataframe tbody tr th {\n",
       "        vertical-align: top;\n",
       "    }\n",
       "\n",
       "    .dataframe thead th {\n",
       "        text-align: right;\n",
       "    }\n",
       "</style>\n",
       "<table border=\"1\" class=\"dataframe\">\n",
       "  <thead>\n",
       "    <tr style=\"text-align: right;\">\n",
       "      <th></th>\n",
       "      <th>TARGET</th>\n",
       "      <th>NameContractType</th>\n",
       "      <th>CodeGender</th>\n",
       "      <th>FlagOwnCar</th>\n",
       "      <th>FlagOwnRealty</th>\n",
       "      <th>CntChildren</th>\n",
       "      <th>AmtIncomeTotal</th>\n",
       "      <th>AmtCredit</th>\n",
       "      <th>AmtAnnuity</th>\n",
       "      <th>AmtGoodsPrice</th>\n",
       "      <th>...</th>\n",
       "      <th>PrevCodeRejectReasonHcCount</th>\n",
       "      <th>PrevCodeRejectReasonLimitCount</th>\n",
       "      <th>PrevCodeRejectReasonScoCount</th>\n",
       "      <th>PrevCodeRejectReasonScofrCount</th>\n",
       "      <th>PrevCodeRejectReasonSystemCount</th>\n",
       "      <th>PrevCodeRejectReasonVerifCount</th>\n",
       "      <th>PrevCodeRejectReasonXapCount</th>\n",
       "      <th>PrevCodeRejectReasonXnaCount</th>\n",
       "      <th>PrevLastLoanNflagInsuredOnApproval</th>\n",
       "      <th>PrevAvgNflagInsuredOnApproval</th>\n",
       "    </tr>\n",
       "  </thead>\n",
       "  <tbody>\n",
       "    <tr>\n",
       "      <th>0</th>\n",
       "      <td>1</td>\n",
       "      <td>Cash loans</td>\n",
       "      <td>M</td>\n",
       "      <td>False</td>\n",
       "      <td>True</td>\n",
       "      <td>0</td>\n",
       "      <td>202500.0</td>\n",
       "      <td>406597.5</td>\n",
       "      <td>24700.5</td>\n",
       "      <td>351000.0</td>\n",
       "      <td>...</td>\n",
       "      <td>0.0</td>\n",
       "      <td>0.0</td>\n",
       "      <td>0.0</td>\n",
       "      <td>0.0</td>\n",
       "      <td>0.0</td>\n",
       "      <td>0.0</td>\n",
       "      <td>1.0</td>\n",
       "      <td>0.0</td>\n",
       "      <td>0.0</td>\n",
       "      <td>0.000000</td>\n",
       "    </tr>\n",
       "    <tr>\n",
       "      <th>1</th>\n",
       "      <td>0</td>\n",
       "      <td>Cash loans</td>\n",
       "      <td>F</td>\n",
       "      <td>False</td>\n",
       "      <td>False</td>\n",
       "      <td>0</td>\n",
       "      <td>270000.0</td>\n",
       "      <td>1293502.5</td>\n",
       "      <td>35698.5</td>\n",
       "      <td>1129500.0</td>\n",
       "      <td>...</td>\n",
       "      <td>0.0</td>\n",
       "      <td>0.0</td>\n",
       "      <td>0.0</td>\n",
       "      <td>0.0</td>\n",
       "      <td>0.0</td>\n",
       "      <td>0.0</td>\n",
       "      <td>3.0</td>\n",
       "      <td>0.0</td>\n",
       "      <td>1.0</td>\n",
       "      <td>0.666667</td>\n",
       "    </tr>\n",
       "    <tr>\n",
       "      <th>2</th>\n",
       "      <td>0</td>\n",
       "      <td>Revolving loans</td>\n",
       "      <td>M</td>\n",
       "      <td>True</td>\n",
       "      <td>True</td>\n",
       "      <td>0</td>\n",
       "      <td>67500.0</td>\n",
       "      <td>135000.0</td>\n",
       "      <td>6750.0</td>\n",
       "      <td>135000.0</td>\n",
       "      <td>...</td>\n",
       "      <td>0.0</td>\n",
       "      <td>0.0</td>\n",
       "      <td>0.0</td>\n",
       "      <td>0.0</td>\n",
       "      <td>0.0</td>\n",
       "      <td>0.0</td>\n",
       "      <td>1.0</td>\n",
       "      <td>0.0</td>\n",
       "      <td>0.0</td>\n",
       "      <td>0.000000</td>\n",
       "    </tr>\n",
       "    <tr>\n",
       "      <th>3</th>\n",
       "      <td>0</td>\n",
       "      <td>Cash loans</td>\n",
       "      <td>F</td>\n",
       "      <td>False</td>\n",
       "      <td>True</td>\n",
       "      <td>0</td>\n",
       "      <td>135000.0</td>\n",
       "      <td>312682.5</td>\n",
       "      <td>29686.5</td>\n",
       "      <td>297000.0</td>\n",
       "      <td>...</td>\n",
       "      <td>0.0</td>\n",
       "      <td>1.0</td>\n",
       "      <td>0.0</td>\n",
       "      <td>0.0</td>\n",
       "      <td>0.0</td>\n",
       "      <td>0.0</td>\n",
       "      <td>8.0</td>\n",
       "      <td>0.0</td>\n",
       "      <td>NaN</td>\n",
       "      <td>0.000000</td>\n",
       "    </tr>\n",
       "    <tr>\n",
       "      <th>4</th>\n",
       "      <td>0</td>\n",
       "      <td>Cash loans</td>\n",
       "      <td>M</td>\n",
       "      <td>False</td>\n",
       "      <td>True</td>\n",
       "      <td>0</td>\n",
       "      <td>121500.0</td>\n",
       "      <td>513000.0</td>\n",
       "      <td>21865.5</td>\n",
       "      <td>513000.0</td>\n",
       "      <td>...</td>\n",
       "      <td>0.0</td>\n",
       "      <td>0.0</td>\n",
       "      <td>0.0</td>\n",
       "      <td>0.0</td>\n",
       "      <td>0.0</td>\n",
       "      <td>0.0</td>\n",
       "      <td>6.0</td>\n",
       "      <td>0.0</td>\n",
       "      <td>1.0</td>\n",
       "      <td>0.600000</td>\n",
       "    </tr>\n",
       "    <tr>\n",
       "      <th>...</th>\n",
       "      <td>...</td>\n",
       "      <td>...</td>\n",
       "      <td>...</td>\n",
       "      <td>...</td>\n",
       "      <td>...</td>\n",
       "      <td>...</td>\n",
       "      <td>...</td>\n",
       "      <td>...</td>\n",
       "      <td>...</td>\n",
       "      <td>...</td>\n",
       "      <td>...</td>\n",
       "      <td>...</td>\n",
       "      <td>...</td>\n",
       "      <td>...</td>\n",
       "      <td>...</td>\n",
       "      <td>...</td>\n",
       "      <td>...</td>\n",
       "      <td>...</td>\n",
       "      <td>...</td>\n",
       "      <td>...</td>\n",
       "      <td>...</td>\n",
       "    </tr>\n",
       "    <tr>\n",
       "      <th>307506</th>\n",
       "      <td>0</td>\n",
       "      <td>Cash loans</td>\n",
       "      <td>M</td>\n",
       "      <td>False</td>\n",
       "      <td>False</td>\n",
       "      <td>0</td>\n",
       "      <td>157500.0</td>\n",
       "      <td>254700.0</td>\n",
       "      <td>27558.0</td>\n",
       "      <td>225000.0</td>\n",
       "      <td>...</td>\n",
       "      <td>0.0</td>\n",
       "      <td>0.0</td>\n",
       "      <td>0.0</td>\n",
       "      <td>0.0</td>\n",
       "      <td>0.0</td>\n",
       "      <td>0.0</td>\n",
       "      <td>1.0</td>\n",
       "      <td>0.0</td>\n",
       "      <td>0.0</td>\n",
       "      <td>0.000000</td>\n",
       "    </tr>\n",
       "    <tr>\n",
       "      <th>307507</th>\n",
       "      <td>0</td>\n",
       "      <td>Cash loans</td>\n",
       "      <td>F</td>\n",
       "      <td>False</td>\n",
       "      <td>True</td>\n",
       "      <td>0</td>\n",
       "      <td>72000.0</td>\n",
       "      <td>269550.0</td>\n",
       "      <td>12001.5</td>\n",
       "      <td>225000.0</td>\n",
       "      <td>...</td>\n",
       "      <td>0.0</td>\n",
       "      <td>0.0</td>\n",
       "      <td>0.0</td>\n",
       "      <td>0.0</td>\n",
       "      <td>0.0</td>\n",
       "      <td>0.0</td>\n",
       "      <td>1.0</td>\n",
       "      <td>0.0</td>\n",
       "      <td>1.0</td>\n",
       "      <td>1.000000</td>\n",
       "    </tr>\n",
       "    <tr>\n",
       "      <th>307508</th>\n",
       "      <td>0</td>\n",
       "      <td>Cash loans</td>\n",
       "      <td>F</td>\n",
       "      <td>False</td>\n",
       "      <td>True</td>\n",
       "      <td>0</td>\n",
       "      <td>153000.0</td>\n",
       "      <td>677664.0</td>\n",
       "      <td>29979.0</td>\n",
       "      <td>585000.0</td>\n",
       "      <td>...</td>\n",
       "      <td>0.0</td>\n",
       "      <td>0.0</td>\n",
       "      <td>0.0</td>\n",
       "      <td>0.0</td>\n",
       "      <td>0.0</td>\n",
       "      <td>0.0</td>\n",
       "      <td>2.0</td>\n",
       "      <td>0.0</td>\n",
       "      <td>0.0</td>\n",
       "      <td>0.500000</td>\n",
       "    </tr>\n",
       "    <tr>\n",
       "      <th>307509</th>\n",
       "      <td>1</td>\n",
       "      <td>Cash loans</td>\n",
       "      <td>F</td>\n",
       "      <td>False</td>\n",
       "      <td>True</td>\n",
       "      <td>0</td>\n",
       "      <td>171000.0</td>\n",
       "      <td>370107.0</td>\n",
       "      <td>20205.0</td>\n",
       "      <td>319500.0</td>\n",
       "      <td>...</td>\n",
       "      <td>0.0</td>\n",
       "      <td>0.0</td>\n",
       "      <td>0.0</td>\n",
       "      <td>0.0</td>\n",
       "      <td>0.0</td>\n",
       "      <td>0.0</td>\n",
       "      <td>2.0</td>\n",
       "      <td>0.0</td>\n",
       "      <td>1.0</td>\n",
       "      <td>0.500000</td>\n",
       "    </tr>\n",
       "    <tr>\n",
       "      <th>307510</th>\n",
       "      <td>0</td>\n",
       "      <td>Cash loans</td>\n",
       "      <td>F</td>\n",
       "      <td>False</td>\n",
       "      <td>False</td>\n",
       "      <td>0</td>\n",
       "      <td>157500.0</td>\n",
       "      <td>675000.0</td>\n",
       "      <td>49117.5</td>\n",
       "      <td>675000.0</td>\n",
       "      <td>...</td>\n",
       "      <td>2.0</td>\n",
       "      <td>0.0</td>\n",
       "      <td>0.0</td>\n",
       "      <td>0.0</td>\n",
       "      <td>0.0</td>\n",
       "      <td>0.0</td>\n",
       "      <td>6.0</td>\n",
       "      <td>0.0</td>\n",
       "      <td>NaN</td>\n",
       "      <td>0.333333</td>\n",
       "    </tr>\n",
       "  </tbody>\n",
       "</table>\n",
       "<p>307511 rows × 227 columns</p>\n",
       "</div>"
      ]
     },
     "execution_count": 8,
     "metadata": {},
     "output_type": "execute_result"
    }
   ],
   "execution_count": 8
  },
  {
   "cell_type": "code",
   "source": [],
   "metadata": {
    "collapsed": false,
    "ExecuteTime": {
     "end_time": "2024-04-20T17:44:17.806403Z",
     "start_time": "2024-04-20T17:44:17.804201Z"
    }
   },
   "id": "e88fb97a1bdb7db8",
   "outputs": [],
   "execution_count": 8
  },
  {
   "cell_type": "code",
   "source": [],
   "metadata": {
    "collapsed": false,
    "ExecuteTime": {
     "end_time": "2024-04-20T17:44:17.808241Z",
     "start_time": "2024-04-20T17:44:17.806403Z"
    }
   },
   "id": "b8958a4e18afe0d4",
   "outputs": [],
   "execution_count": 8
  },
  {
   "cell_type": "code",
   "source": [],
   "metadata": {
    "collapsed": false,
    "ExecuteTime": {
     "end_time": "2024-04-20T17:44:17.810205Z",
     "start_time": "2024-04-20T17:44:17.808241Z"
    }
   },
   "id": "f502809aea6263b",
   "outputs": [],
   "execution_count": 8
  },
  {
   "cell_type": "code",
   "source": [],
   "metadata": {
    "collapsed": false,
    "ExecuteTime": {
     "end_time": "2024-04-20T17:44:17.812824Z",
     "start_time": "2024-04-20T17:44:17.810205Z"
    }
   },
   "id": "f2e21b82c3053120",
   "outputs": [],
   "execution_count": 8
  },
  {
   "cell_type": "code",
   "source": [],
   "metadata": {
    "collapsed": false,
    "ExecuteTime": {
     "end_time": "2024-04-20T17:44:17.814701Z",
     "start_time": "2024-04-20T17:44:17.812824Z"
    }
   },
   "id": "4cbda67e3cec9bce",
   "outputs": [],
   "execution_count": 8
  },
  {
   "cell_type": "code",
   "source": [
    "from Draft.feature_builder_v2 import DatasetType\n",
    "\n",
    "importlib.reload(feature_builder_v2)\n",
    "features_matrix_full = feature_builder_v2.load_datasets_and_prepare_features(drop_meta_data=True,\n",
    "                                                                             ds_type=DatasetType.FULL)\n",
    "features_matrix_base = feature_builder_v2.load_datasets_and_prepare_features(drop_meta_data=True,\n",
    "                                                                             ds_type=DatasetType.BASE)\n"
   ],
   "metadata": {
    "collapsed": false,
    "ExecuteTime": {
     "end_time": "2024-04-20T17:44:37.458433Z",
     "start_time": "2024-04-20T17:44:17.814701Z"
    }
   },
   "id": "3417c5b9b8374dd",
   "outputs": [
    {
     "name": "stderr",
     "output_type": "stream",
     "text": [
      "C:\\Users\\Paulius\\AppData\\Local\\pypoetry\\Cache\\virtualenvs\\ppuodz-ml-4-1-dqELbViF-py3.12\\Lib\\site-packages\\woodwork\\type_sys\\utils.py:40: UserWarning: Could not infer format, so each element will be parsed individually, falling back to `dateutil`. To ensure parsing is consistent and as-expected, please specify a format.\n",
      "  pd.to_datetime(\n",
      "C:\\Users\\Paulius\\AppData\\Local\\pypoetry\\Cache\\virtualenvs\\ppuodz-ml-4-1-dqELbViF-py3.12\\Lib\\site-packages\\woodwork\\type_sys\\utils.py:40: UserWarning: Could not infer format, so each element will be parsed individually, falling back to `dateutil`. To ensure parsing is consistent and as-expected, please specify a format.\n",
      "  pd.to_datetime(\n",
      "C:\\Users\\Paulius\\AppData\\Local\\pypoetry\\Cache\\virtualenvs\\ppuodz-ml-4-1-dqELbViF-py3.12\\Lib\\site-packages\\woodwork\\type_sys\\utils.py:40: UserWarning: Could not infer format, so each element will be parsed individually, falling back to `dateutil`. To ensure parsing is consistent and as-expected, please specify a format.\n",
      "  pd.to_datetime(\n",
      "C:\\Users\\Paulius\\AppData\\Local\\pypoetry\\Cache\\virtualenvs\\ppuodz-ml-4-1-dqELbViF-py3.12\\Lib\\site-packages\\woodwork\\type_sys\\utils.py:40: UserWarning: Could not infer format, so each element will be parsed individually, falling back to `dateutil`. To ensure parsing is consistent and as-expected, please specify a format.\n",
      "  pd.to_datetime(\n",
      "C:\\Users\\Paulius\\AppData\\Local\\pypoetry\\Cache\\virtualenvs\\ppuodz-ml-4-1-dqELbViF-py3.12\\Lib\\site-packages\\woodwork\\type_sys\\utils.py:40: UserWarning: Could not infer format, so each element will be parsed individually, falling back to `dateutil`. To ensure parsing is consistent and as-expected, please specify a format.\n",
      "  pd.to_datetime(\n",
      "C:\\Users\\Paulius\\AppData\\Local\\pypoetry\\Cache\\virtualenvs\\ppuodz-ml-4-1-dqELbViF-py3.12\\Lib\\site-packages\\woodwork\\type_sys\\utils.py:40: UserWarning: Could not infer format, so each element will be parsed individually, falling back to `dateutil`. To ensure parsing is consistent and as-expected, please specify a format.\n",
      "  pd.to_datetime(\n",
      "C:\\Users\\Paulius\\AppData\\Local\\pypoetry\\Cache\\virtualenvs\\ppuodz-ml-4-1-dqELbViF-py3.12\\Lib\\site-packages\\woodwork\\type_sys\\utils.py:40: UserWarning: Could not infer format, so each element will be parsed individually, falling back to `dateutil`. To ensure parsing is consistent and as-expected, please specify a format.\n",
      "  pd.to_datetime(\n",
      "C:\\Users\\Paulius\\AppData\\Local\\pypoetry\\Cache\\virtualenvs\\ppuodz-ml-4-1-dqELbViF-py3.12\\Lib\\site-packages\\woodwork\\type_sys\\utils.py:40: UserWarning: Could not infer format, so each element will be parsed individually, falling back to `dateutil`. To ensure parsing is consistent and as-expected, please specify a format.\n",
      "  pd.to_datetime(\n",
      "C:\\Users\\Paulius\\AppData\\Local\\pypoetry\\Cache\\virtualenvs\\ppuodz-ml-4-1-dqELbViF-py3.12\\Lib\\site-packages\\woodwork\\type_sys\\utils.py:40: UserWarning: Could not infer format, so each element will be parsed individually, falling back to `dateutil`. To ensure parsing is consistent and as-expected, please specify a format.\n",
      "  pd.to_datetime(\n",
      "C:\\Users\\Paulius\\AppData\\Local\\pypoetry\\Cache\\virtualenvs\\ppuodz-ml-4-1-dqELbViF-py3.12\\Lib\\site-packages\\woodwork\\type_sys\\utils.py:40: UserWarning: Could not infer format, so each element will be parsed individually, falling back to `dateutil`. To ensure parsing is consistent and as-expected, please specify a format.\n",
      "  pd.to_datetime(\n",
      "C:\\Users\\Paulius\\AppData\\Local\\pypoetry\\Cache\\virtualenvs\\ppuodz-ml-4-1-dqELbViF-py3.12\\Lib\\site-packages\\woodwork\\type_sys\\utils.py:40: UserWarning: Could not infer format, so each element will be parsed individually, falling back to `dateutil`. To ensure parsing is consistent and as-expected, please specify a format.\n",
      "  pd.to_datetime(\n",
      "C:\\Users\\Paulius\\AppData\\Local\\pypoetry\\Cache\\virtualenvs\\ppuodz-ml-4-1-dqELbViF-py3.12\\Lib\\site-packages\\woodwork\\type_sys\\utils.py:40: UserWarning: Could not infer format, so each element will be parsed individually, falling back to `dateutil`. To ensure parsing is consistent and as-expected, please specify a format.\n",
      "  pd.to_datetime(\n",
      "C:\\Users\\Paulius\\AppData\\Local\\pypoetry\\Cache\\virtualenvs\\ppuodz-ml-4-1-dqELbViF-py3.12\\Lib\\site-packages\\woodwork\\type_sys\\utils.py:40: UserWarning: Could not infer format, so each element will be parsed individually, falling back to `dateutil`. To ensure parsing is consistent and as-expected, please specify a format.\n",
      "  pd.to_datetime(\n",
      "C:\\Users\\Paulius\\AppData\\Local\\pypoetry\\Cache\\virtualenvs\\ppuodz-ml-4-1-dqELbViF-py3.12\\Lib\\site-packages\\woodwork\\type_sys\\utils.py:40: UserWarning: Could not infer format, so each element will be parsed individually, falling back to `dateutil`. To ensure parsing is consistent and as-expected, please specify a format.\n",
      "  pd.to_datetime(\n",
      "C:\\Users\\Paulius\\AppData\\Local\\pypoetry\\Cache\\virtualenvs\\ppuodz-ml-4-1-dqELbViF-py3.12\\Lib\\site-packages\\woodwork\\type_sys\\utils.py:40: UserWarning: Could not infer format, so each element will be parsed individually, falling back to `dateutil`. To ensure parsing is consistent and as-expected, please specify a format.\n",
      "  pd.to_datetime(\n",
      "C:\\Users\\Paulius\\AppData\\Local\\pypoetry\\Cache\\virtualenvs\\ppuodz-ml-4-1-dqELbViF-py3.12\\Lib\\site-packages\\woodwork\\type_sys\\utils.py:40: UserWarning: Could not infer format, so each element will be parsed individually, falling back to `dateutil`. To ensure parsing is consistent and as-expected, please specify a format.\n",
      "  pd.to_datetime(\n",
      "C:\\Users\\Paulius\\AppData\\Local\\pypoetry\\Cache\\virtualenvs\\ppuodz-ml-4-1-dqELbViF-py3.12\\Lib\\site-packages\\woodwork\\type_sys\\utils.py:40: UserWarning: Could not infer format, so each element will be parsed individually, falling back to `dateutil`. To ensure parsing is consistent and as-expected, please specify a format.\n",
      "  pd.to_datetime(\n",
      "C:\\Users\\Paulius\\AppData\\Local\\pypoetry\\Cache\\virtualenvs\\ppuodz-ml-4-1-dqELbViF-py3.12\\Lib\\site-packages\\woodwork\\type_sys\\utils.py:40: UserWarning: Could not infer format, so each element will be parsed individually, falling back to `dateutil`. To ensure parsing is consistent and as-expected, please specify a format.\n",
      "  pd.to_datetime(\n",
      "C:\\Users\\Paulius\\AppData\\Local\\pypoetry\\Cache\\virtualenvs\\ppuodz-ml-4-1-dqELbViF-py3.12\\Lib\\site-packages\\woodwork\\type_sys\\utils.py:40: UserWarning: Could not infer format, so each element will be parsed individually, falling back to `dateutil`. To ensure parsing is consistent and as-expected, please specify a format.\n",
      "  pd.to_datetime(\n",
      "C:\\Users\\Paulius\\AppData\\Local\\pypoetry\\Cache\\virtualenvs\\ppuodz-ml-4-1-dqELbViF-py3.12\\Lib\\site-packages\\woodwork\\type_sys\\utils.py:40: UserWarning: Could not infer format, so each element will be parsed individually, falling back to `dateutil`. To ensure parsing is consistent and as-expected, please specify a format.\n",
      "  pd.to_datetime(\n",
      "C:\\Users\\Paulius\\AppData\\Local\\pypoetry\\Cache\\virtualenvs\\ppuodz-ml-4-1-dqELbViF-py3.12\\Lib\\site-packages\\woodwork\\type_sys\\utils.py:40: UserWarning: Could not infer format, so each element will be parsed individually, falling back to `dateutil`. To ensure parsing is consistent and as-expected, please specify a format.\n",
      "  pd.to_datetime(\n",
      "C:\\Users\\Paulius\\AppData\\Local\\pypoetry\\Cache\\virtualenvs\\ppuodz-ml-4-1-dqELbViF-py3.12\\Lib\\site-packages\\woodwork\\type_sys\\utils.py:40: UserWarning: Could not infer format, so each element will be parsed individually, falling back to `dateutil`. To ensure parsing is consistent and as-expected, please specify a format.\n",
      "  pd.to_datetime(\n",
      "C:\\Users\\Paulius\\AppData\\Local\\pypoetry\\Cache\\virtualenvs\\ppuodz-ml-4-1-dqELbViF-py3.12\\Lib\\site-packages\\woodwork\\type_sys\\utils.py:40: UserWarning: Could not infer format, so each element will be parsed individually, falling back to `dateutil`. To ensure parsing is consistent and as-expected, please specify a format.\n",
      "  pd.to_datetime(\n",
      "C:\\Users\\Paulius\\AppData\\Local\\pypoetry\\Cache\\virtualenvs\\ppuodz-ml-4-1-dqELbViF-py3.12\\Lib\\site-packages\\woodwork\\type_sys\\utils.py:40: UserWarning: Could not infer format, so each element will be parsed individually, falling back to `dateutil`. To ensure parsing is consistent and as-expected, please specify a format.\n",
      "  pd.to_datetime(\n",
      "C:\\Users\\Paulius\\AppData\\Local\\pypoetry\\Cache\\virtualenvs\\ppuodz-ml-4-1-dqELbViF-py3.12\\Lib\\site-packages\\woodwork\\type_sys\\utils.py:40: UserWarning: Could not infer format, so each element will be parsed individually, falling back to `dateutil`. To ensure parsing is consistent and as-expected, please specify a format.\n",
      "  pd.to_datetime(\n",
      "C:\\Users\\Paulius\\AppData\\Local\\pypoetry\\Cache\\virtualenvs\\ppuodz-ml-4-1-dqELbViF-py3.12\\Lib\\site-packages\\woodwork\\type_sys\\utils.py:40: UserWarning: Could not infer format, so each element will be parsed individually, falling back to `dateutil`. To ensure parsing is consistent and as-expected, please specify a format.\n",
      "  pd.to_datetime(\n",
      "C:\\Users\\Paulius\\AppData\\Local\\pypoetry\\Cache\\virtualenvs\\ppuodz-ml-4-1-dqELbViF-py3.12\\Lib\\site-packages\\woodwork\\type_sys\\utils.py:40: UserWarning: Could not infer format, so each element will be parsed individually, falling back to `dateutil`. To ensure parsing is consistent and as-expected, please specify a format.\n",
      "  pd.to_datetime(\n",
      "C:\\Users\\Paulius\\AppData\\Local\\pypoetry\\Cache\\virtualenvs\\ppuodz-ml-4-1-dqELbViF-py3.12\\Lib\\site-packages\\woodwork\\type_sys\\utils.py:40: UserWarning: Could not infer format, so each element will be parsed individually, falling back to `dateutil`. To ensure parsing is consistent and as-expected, please specify a format.\n",
      "  pd.to_datetime(\n",
      "C:\\Users\\Paulius\\AppData\\Local\\pypoetry\\Cache\\virtualenvs\\ppuodz-ml-4-1-dqELbViF-py3.12\\Lib\\site-packages\\woodwork\\type_sys\\utils.py:40: UserWarning: Could not infer format, so each element will be parsed individually, falling back to `dateutil`. To ensure parsing is consistent and as-expected, please specify a format.\n",
      "  pd.to_datetime(\n",
      "C:\\Users\\Paulius\\AppData\\Local\\pypoetry\\Cache\\virtualenvs\\ppuodz-ml-4-1-dqELbViF-py3.12\\Lib\\site-packages\\woodwork\\type_sys\\utils.py:40: UserWarning: Could not infer format, so each element will be parsed individually, falling back to `dateutil`. To ensure parsing is consistent and as-expected, please specify a format.\n",
      "  pd.to_datetime(\n",
      "C:\\Users\\Paulius\\AppData\\Local\\pypoetry\\Cache\\virtualenvs\\ppuodz-ml-4-1-dqELbViF-py3.12\\Lib\\site-packages\\woodwork\\type_sys\\utils.py:40: UserWarning: Could not infer format, so each element will be parsed individually, falling back to `dateutil`. To ensure parsing is consistent and as-expected, please specify a format.\n",
      "  pd.to_datetime(\n",
      "C:\\Users\\Paulius\\AppData\\Local\\pypoetry\\Cache\\virtualenvs\\ppuodz-ml-4-1-dqELbViF-py3.12\\Lib\\site-packages\\woodwork\\type_sys\\utils.py:40: UserWarning: Could not infer format, so each element will be parsed individually, falling back to `dateutil`. To ensure parsing is consistent and as-expected, please specify a format.\n",
      "  pd.to_datetime(\n",
      "C:\\Users\\Paulius\\AppData\\Local\\pypoetry\\Cache\\virtualenvs\\ppuodz-ml-4-1-dqELbViF-py3.12\\Lib\\site-packages\\featuretools\\entityset\\entityset.py:1914: UserWarning: index SK_BUREAU_ID not found in dataframe, creating new integer column\n",
      "  warnings.warn(\n",
      "C:\\Users\\Paulius\\AppData\\Local\\pypoetry\\Cache\\virtualenvs\\ppuodz-ml-4-1-dqELbViF-py3.12\\Lib\\site-packages\\woodwork\\type_sys\\utils.py:40: UserWarning: Could not infer format, so each element will be parsed individually, falling back to `dateutil`. To ensure parsing is consistent and as-expected, please specify a format.\n",
      "  pd.to_datetime(\n",
      "C:\\Users\\Paulius\\AppData\\Local\\pypoetry\\Cache\\virtualenvs\\ppuodz-ml-4-1-dqELbViF-py3.12\\Lib\\site-packages\\woodwork\\type_sys\\utils.py:40: UserWarning: Could not infer format, so each element will be parsed individually, falling back to `dateutil`. To ensure parsing is consistent and as-expected, please specify a format.\n",
      "  pd.to_datetime(\n",
      "C:\\Users\\Paulius\\AppData\\Local\\pypoetry\\Cache\\virtualenvs\\ppuodz-ml-4-1-dqELbViF-py3.12\\Lib\\site-packages\\woodwork\\type_sys\\utils.py:40: UserWarning: Could not infer format, so each element will be parsed individually, falling back to `dateutil`. To ensure parsing is consistent and as-expected, please specify a format.\n",
      "  pd.to_datetime(\n",
      "C:\\Users\\Paulius\\AppData\\Local\\pypoetry\\Cache\\virtualenvs\\ppuodz-ml-4-1-dqELbViF-py3.12\\Lib\\site-packages\\woodwork\\type_sys\\utils.py:40: UserWarning: Could not infer format, so each element will be parsed individually, falling back to `dateutil`. To ensure parsing is consistent and as-expected, please specify a format.\n",
      "  pd.to_datetime(\n",
      "C:\\Users\\Paulius\\AppData\\Local\\pypoetry\\Cache\\virtualenvs\\ppuodz-ml-4-1-dqELbViF-py3.12\\Lib\\site-packages\\woodwork\\type_sys\\utils.py:40: UserWarning: Could not infer format, so each element will be parsed individually, falling back to `dateutil`. To ensure parsing is consistent and as-expected, please specify a format.\n",
      "  pd.to_datetime(\n",
      "C:\\Users\\Paulius\\AppData\\Local\\pypoetry\\Cache\\virtualenvs\\ppuodz-ml-4-1-dqELbViF-py3.12\\Lib\\site-packages\\woodwork\\type_sys\\utils.py:40: UserWarning: Could not infer format, so each element will be parsed individually, falling back to `dateutil`. To ensure parsing is consistent and as-expected, please specify a format.\n",
      "  pd.to_datetime(\n",
      "C:\\Users\\Paulius\\AppData\\Local\\pypoetry\\Cache\\virtualenvs\\ppuodz-ml-4-1-dqELbViF-py3.12\\Lib\\site-packages\\featuretools\\computational_backends\\feature_set_calculator.py:828: FutureWarning: The provided callable <function mean at 0x0000020748304D60> is currently using SeriesGroupBy.mean. In a future version of pandas, the provided callable will be used directly. To keep current behavior pass the string \"mean\" instead.\n",
      "  ).agg(to_agg)\n",
      "C:\\Users\\Paulius\\AppData\\Local\\pypoetry\\Cache\\virtualenvs\\ppuodz-ml-4-1-dqELbViF-py3.12\\Lib\\site-packages\\featuretools\\computational_backends\\feature_set_calculator.py:828: FutureWarning: The provided callable <function min at 0x00000207483044A0> is currently using SeriesGroupBy.min. In a future version of pandas, the provided callable will be used directly. To keep current behavior pass the string \"min\" instead.\n",
      "  ).agg(to_agg)\n",
      "C:\\Users\\Paulius\\AppData\\Local\\pypoetry\\Cache\\virtualenvs\\ppuodz-ml-4-1-dqELbViF-py3.12\\Lib\\site-packages\\featuretools\\computational_backends\\feature_set_calculator.py:828: FutureWarning: The provided callable <function max at 0x0000020748304360> is currently using SeriesGroupBy.max. In a future version of pandas, the provided callable will be used directly. To keep current behavior pass the string \"max\" instead.\n",
      "  ).agg(to_agg)\n"
     ]
    },
    {
     "name": "stdout",
     "output_type": "stream",
     "text": [
      "Appending previous history\n",
      "Full DS size: 307511\n",
      "Full DS size: 307511\n"
     ]
    }
   ],
   "execution_count": 9
  },
  {
   "cell_type": "code",
   "source": [
    "features_matrix_full"
   ],
   "metadata": {
    "collapsed": false,
    "ExecuteTime": {
     "end_time": "2024-04-20T17:44:37.502277Z",
     "start_time": "2024-04-20T17:44:37.458433Z"
    }
   },
   "id": "af6d9fe4aba1c40",
   "outputs": [
    {
     "data": {
      "text/plain": [
       "        TARGET NameContractType CodeGender  FlagOwnCar  FlagOwnRealty  \\\n",
       "0            1       Cash loans          M       False           True   \n",
       "1            0       Cash loans          F       False          False   \n",
       "2            0  Revolving loans          M        True           True   \n",
       "3            0       Cash loans          F       False           True   \n",
       "4            0       Cash loans          M       False           True   \n",
       "...        ...              ...        ...         ...            ...   \n",
       "307506       0       Cash loans          M       False          False   \n",
       "307507       0       Cash loans          F       False           True   \n",
       "307508       0       Cash loans          F       False           True   \n",
       "307509       1       Cash loans          F       False           True   \n",
       "307510       0       Cash loans          F       False          False   \n",
       "\n",
       "        CntChildren  AmtIncomeTotal  AmtCredit  AmtAnnuity  AmtGoodsPrice  \\\n",
       "0                 0        202500.0   406597.5     24700.5       351000.0   \n",
       "1                 0        270000.0  1293502.5     35698.5      1129500.0   \n",
       "2                 0         67500.0   135000.0      6750.0       135000.0   \n",
       "3                 0        135000.0   312682.5     29686.5       297000.0   \n",
       "4                 0        121500.0   513000.0     21865.5       513000.0   \n",
       "...             ...             ...        ...         ...            ...   \n",
       "307506            0        157500.0   254700.0     27558.0       225000.0   \n",
       "307507            0         72000.0   269550.0     12001.5       225000.0   \n",
       "307508            0        153000.0   677664.0     29979.0       585000.0   \n",
       "307509            0        171000.0   370107.0     20205.0       319500.0   \n",
       "307510            0        157500.0   675000.0     49117.5       675000.0   \n",
       "\n",
       "        ... PrevCodeRejectReasonHcCount PrevCodeRejectReasonLimitCount  \\\n",
       "0       ...                         0.0                            0.0   \n",
       "1       ...                         0.0                            0.0   \n",
       "2       ...                         0.0                            0.0   \n",
       "3       ...                         0.0                            1.0   \n",
       "4       ...                         0.0                            0.0   \n",
       "...     ...                         ...                            ...   \n",
       "307506  ...                         0.0                            0.0   \n",
       "307507  ...                         0.0                            0.0   \n",
       "307508  ...                         0.0                            0.0   \n",
       "307509  ...                         0.0                            0.0   \n",
       "307510  ...                         2.0                            0.0   \n",
       "\n",
       "       PrevCodeRejectReasonScoCount PrevCodeRejectReasonScofrCount  \\\n",
       "0                               0.0                            0.0   \n",
       "1                               0.0                            0.0   \n",
       "2                               0.0                            0.0   \n",
       "3                               0.0                            0.0   \n",
       "4                               0.0                            0.0   \n",
       "...                             ...                            ...   \n",
       "307506                          0.0                            0.0   \n",
       "307507                          0.0                            0.0   \n",
       "307508                          0.0                            0.0   \n",
       "307509                          0.0                            0.0   \n",
       "307510                          0.0                            0.0   \n",
       "\n",
       "       PrevCodeRejectReasonSystemCount  PrevCodeRejectReasonVerifCount  \\\n",
       "0                                  0.0                             0.0   \n",
       "1                                  0.0                             0.0   \n",
       "2                                  0.0                             0.0   \n",
       "3                                  0.0                             0.0   \n",
       "4                                  0.0                             0.0   \n",
       "...                                ...                             ...   \n",
       "307506                             0.0                             0.0   \n",
       "307507                             0.0                             0.0   \n",
       "307508                             0.0                             0.0   \n",
       "307509                             0.0                             0.0   \n",
       "307510                             0.0                             0.0   \n",
       "\n",
       "        PrevCodeRejectReasonXapCount  PrevCodeRejectReasonXnaCount  \\\n",
       "0                                1.0                           0.0   \n",
       "1                                3.0                           0.0   \n",
       "2                                1.0                           0.0   \n",
       "3                                8.0                           0.0   \n",
       "4                                6.0                           0.0   \n",
       "...                              ...                           ...   \n",
       "307506                           1.0                           0.0   \n",
       "307507                           1.0                           0.0   \n",
       "307508                           2.0                           0.0   \n",
       "307509                           2.0                           0.0   \n",
       "307510                           6.0                           0.0   \n",
       "\n",
       "        PrevLastLoanNflagInsuredOnApproval  PrevAvgNflagInsuredOnApproval  \n",
       "0                                      0.0                       0.000000  \n",
       "1                                      1.0                       0.666667  \n",
       "2                                      0.0                       0.000000  \n",
       "3                                      NaN                       0.000000  \n",
       "4                                      1.0                       0.600000  \n",
       "...                                    ...                            ...  \n",
       "307506                                 0.0                       0.000000  \n",
       "307507                                 1.0                       1.000000  \n",
       "307508                                 0.0                       0.500000  \n",
       "307509                                 1.0                       0.500000  \n",
       "307510                                 NaN                       0.333333  \n",
       "\n",
       "[307511 rows x 227 columns]"
      ],
      "text/html": [
       "<div>\n",
       "<style scoped>\n",
       "    .dataframe tbody tr th:only-of-type {\n",
       "        vertical-align: middle;\n",
       "    }\n",
       "\n",
       "    .dataframe tbody tr th {\n",
       "        vertical-align: top;\n",
       "    }\n",
       "\n",
       "    .dataframe thead th {\n",
       "        text-align: right;\n",
       "    }\n",
       "</style>\n",
       "<table border=\"1\" class=\"dataframe\">\n",
       "  <thead>\n",
       "    <tr style=\"text-align: right;\">\n",
       "      <th></th>\n",
       "      <th>TARGET</th>\n",
       "      <th>NameContractType</th>\n",
       "      <th>CodeGender</th>\n",
       "      <th>FlagOwnCar</th>\n",
       "      <th>FlagOwnRealty</th>\n",
       "      <th>CntChildren</th>\n",
       "      <th>AmtIncomeTotal</th>\n",
       "      <th>AmtCredit</th>\n",
       "      <th>AmtAnnuity</th>\n",
       "      <th>AmtGoodsPrice</th>\n",
       "      <th>...</th>\n",
       "      <th>PrevCodeRejectReasonHcCount</th>\n",
       "      <th>PrevCodeRejectReasonLimitCount</th>\n",
       "      <th>PrevCodeRejectReasonScoCount</th>\n",
       "      <th>PrevCodeRejectReasonScofrCount</th>\n",
       "      <th>PrevCodeRejectReasonSystemCount</th>\n",
       "      <th>PrevCodeRejectReasonVerifCount</th>\n",
       "      <th>PrevCodeRejectReasonXapCount</th>\n",
       "      <th>PrevCodeRejectReasonXnaCount</th>\n",
       "      <th>PrevLastLoanNflagInsuredOnApproval</th>\n",
       "      <th>PrevAvgNflagInsuredOnApproval</th>\n",
       "    </tr>\n",
       "  </thead>\n",
       "  <tbody>\n",
       "    <tr>\n",
       "      <th>0</th>\n",
       "      <td>1</td>\n",
       "      <td>Cash loans</td>\n",
       "      <td>M</td>\n",
       "      <td>False</td>\n",
       "      <td>True</td>\n",
       "      <td>0</td>\n",
       "      <td>202500.0</td>\n",
       "      <td>406597.5</td>\n",
       "      <td>24700.5</td>\n",
       "      <td>351000.0</td>\n",
       "      <td>...</td>\n",
       "      <td>0.0</td>\n",
       "      <td>0.0</td>\n",
       "      <td>0.0</td>\n",
       "      <td>0.0</td>\n",
       "      <td>0.0</td>\n",
       "      <td>0.0</td>\n",
       "      <td>1.0</td>\n",
       "      <td>0.0</td>\n",
       "      <td>0.0</td>\n",
       "      <td>0.000000</td>\n",
       "    </tr>\n",
       "    <tr>\n",
       "      <th>1</th>\n",
       "      <td>0</td>\n",
       "      <td>Cash loans</td>\n",
       "      <td>F</td>\n",
       "      <td>False</td>\n",
       "      <td>False</td>\n",
       "      <td>0</td>\n",
       "      <td>270000.0</td>\n",
       "      <td>1293502.5</td>\n",
       "      <td>35698.5</td>\n",
       "      <td>1129500.0</td>\n",
       "      <td>...</td>\n",
       "      <td>0.0</td>\n",
       "      <td>0.0</td>\n",
       "      <td>0.0</td>\n",
       "      <td>0.0</td>\n",
       "      <td>0.0</td>\n",
       "      <td>0.0</td>\n",
       "      <td>3.0</td>\n",
       "      <td>0.0</td>\n",
       "      <td>1.0</td>\n",
       "      <td>0.666667</td>\n",
       "    </tr>\n",
       "    <tr>\n",
       "      <th>2</th>\n",
       "      <td>0</td>\n",
       "      <td>Revolving loans</td>\n",
       "      <td>M</td>\n",
       "      <td>True</td>\n",
       "      <td>True</td>\n",
       "      <td>0</td>\n",
       "      <td>67500.0</td>\n",
       "      <td>135000.0</td>\n",
       "      <td>6750.0</td>\n",
       "      <td>135000.0</td>\n",
       "      <td>...</td>\n",
       "      <td>0.0</td>\n",
       "      <td>0.0</td>\n",
       "      <td>0.0</td>\n",
       "      <td>0.0</td>\n",
       "      <td>0.0</td>\n",
       "      <td>0.0</td>\n",
       "      <td>1.0</td>\n",
       "      <td>0.0</td>\n",
       "      <td>0.0</td>\n",
       "      <td>0.000000</td>\n",
       "    </tr>\n",
       "    <tr>\n",
       "      <th>3</th>\n",
       "      <td>0</td>\n",
       "      <td>Cash loans</td>\n",
       "      <td>F</td>\n",
       "      <td>False</td>\n",
       "      <td>True</td>\n",
       "      <td>0</td>\n",
       "      <td>135000.0</td>\n",
       "      <td>312682.5</td>\n",
       "      <td>29686.5</td>\n",
       "      <td>297000.0</td>\n",
       "      <td>...</td>\n",
       "      <td>0.0</td>\n",
       "      <td>1.0</td>\n",
       "      <td>0.0</td>\n",
       "      <td>0.0</td>\n",
       "      <td>0.0</td>\n",
       "      <td>0.0</td>\n",
       "      <td>8.0</td>\n",
       "      <td>0.0</td>\n",
       "      <td>NaN</td>\n",
       "      <td>0.000000</td>\n",
       "    </tr>\n",
       "    <tr>\n",
       "      <th>4</th>\n",
       "      <td>0</td>\n",
       "      <td>Cash loans</td>\n",
       "      <td>M</td>\n",
       "      <td>False</td>\n",
       "      <td>True</td>\n",
       "      <td>0</td>\n",
       "      <td>121500.0</td>\n",
       "      <td>513000.0</td>\n",
       "      <td>21865.5</td>\n",
       "      <td>513000.0</td>\n",
       "      <td>...</td>\n",
       "      <td>0.0</td>\n",
       "      <td>0.0</td>\n",
       "      <td>0.0</td>\n",
       "      <td>0.0</td>\n",
       "      <td>0.0</td>\n",
       "      <td>0.0</td>\n",
       "      <td>6.0</td>\n",
       "      <td>0.0</td>\n",
       "      <td>1.0</td>\n",
       "      <td>0.600000</td>\n",
       "    </tr>\n",
       "    <tr>\n",
       "      <th>...</th>\n",
       "      <td>...</td>\n",
       "      <td>...</td>\n",
       "      <td>...</td>\n",
       "      <td>...</td>\n",
       "      <td>...</td>\n",
       "      <td>...</td>\n",
       "      <td>...</td>\n",
       "      <td>...</td>\n",
       "      <td>...</td>\n",
       "      <td>...</td>\n",
       "      <td>...</td>\n",
       "      <td>...</td>\n",
       "      <td>...</td>\n",
       "      <td>...</td>\n",
       "      <td>...</td>\n",
       "      <td>...</td>\n",
       "      <td>...</td>\n",
       "      <td>...</td>\n",
       "      <td>...</td>\n",
       "      <td>...</td>\n",
       "      <td>...</td>\n",
       "    </tr>\n",
       "    <tr>\n",
       "      <th>307506</th>\n",
       "      <td>0</td>\n",
       "      <td>Cash loans</td>\n",
       "      <td>M</td>\n",
       "      <td>False</td>\n",
       "      <td>False</td>\n",
       "      <td>0</td>\n",
       "      <td>157500.0</td>\n",
       "      <td>254700.0</td>\n",
       "      <td>27558.0</td>\n",
       "      <td>225000.0</td>\n",
       "      <td>...</td>\n",
       "      <td>0.0</td>\n",
       "      <td>0.0</td>\n",
       "      <td>0.0</td>\n",
       "      <td>0.0</td>\n",
       "      <td>0.0</td>\n",
       "      <td>0.0</td>\n",
       "      <td>1.0</td>\n",
       "      <td>0.0</td>\n",
       "      <td>0.0</td>\n",
       "      <td>0.000000</td>\n",
       "    </tr>\n",
       "    <tr>\n",
       "      <th>307507</th>\n",
       "      <td>0</td>\n",
       "      <td>Cash loans</td>\n",
       "      <td>F</td>\n",
       "      <td>False</td>\n",
       "      <td>True</td>\n",
       "      <td>0</td>\n",
       "      <td>72000.0</td>\n",
       "      <td>269550.0</td>\n",
       "      <td>12001.5</td>\n",
       "      <td>225000.0</td>\n",
       "      <td>...</td>\n",
       "      <td>0.0</td>\n",
       "      <td>0.0</td>\n",
       "      <td>0.0</td>\n",
       "      <td>0.0</td>\n",
       "      <td>0.0</td>\n",
       "      <td>0.0</td>\n",
       "      <td>1.0</td>\n",
       "      <td>0.0</td>\n",
       "      <td>1.0</td>\n",
       "      <td>1.000000</td>\n",
       "    </tr>\n",
       "    <tr>\n",
       "      <th>307508</th>\n",
       "      <td>0</td>\n",
       "      <td>Cash loans</td>\n",
       "      <td>F</td>\n",
       "      <td>False</td>\n",
       "      <td>True</td>\n",
       "      <td>0</td>\n",
       "      <td>153000.0</td>\n",
       "      <td>677664.0</td>\n",
       "      <td>29979.0</td>\n",
       "      <td>585000.0</td>\n",
       "      <td>...</td>\n",
       "      <td>0.0</td>\n",
       "      <td>0.0</td>\n",
       "      <td>0.0</td>\n",
       "      <td>0.0</td>\n",
       "      <td>0.0</td>\n",
       "      <td>0.0</td>\n",
       "      <td>2.0</td>\n",
       "      <td>0.0</td>\n",
       "      <td>0.0</td>\n",
       "      <td>0.500000</td>\n",
       "    </tr>\n",
       "    <tr>\n",
       "      <th>307509</th>\n",
       "      <td>1</td>\n",
       "      <td>Cash loans</td>\n",
       "      <td>F</td>\n",
       "      <td>False</td>\n",
       "      <td>True</td>\n",
       "      <td>0</td>\n",
       "      <td>171000.0</td>\n",
       "      <td>370107.0</td>\n",
       "      <td>20205.0</td>\n",
       "      <td>319500.0</td>\n",
       "      <td>...</td>\n",
       "      <td>0.0</td>\n",
       "      <td>0.0</td>\n",
       "      <td>0.0</td>\n",
       "      <td>0.0</td>\n",
       "      <td>0.0</td>\n",
       "      <td>0.0</td>\n",
       "      <td>2.0</td>\n",
       "      <td>0.0</td>\n",
       "      <td>1.0</td>\n",
       "      <td>0.500000</td>\n",
       "    </tr>\n",
       "    <tr>\n",
       "      <th>307510</th>\n",
       "      <td>0</td>\n",
       "      <td>Cash loans</td>\n",
       "      <td>F</td>\n",
       "      <td>False</td>\n",
       "      <td>False</td>\n",
       "      <td>0</td>\n",
       "      <td>157500.0</td>\n",
       "      <td>675000.0</td>\n",
       "      <td>49117.5</td>\n",
       "      <td>675000.0</td>\n",
       "      <td>...</td>\n",
       "      <td>2.0</td>\n",
       "      <td>0.0</td>\n",
       "      <td>0.0</td>\n",
       "      <td>0.0</td>\n",
       "      <td>0.0</td>\n",
       "      <td>0.0</td>\n",
       "      <td>6.0</td>\n",
       "      <td>0.0</td>\n",
       "      <td>NaN</td>\n",
       "      <td>0.333333</td>\n",
       "    </tr>\n",
       "  </tbody>\n",
       "</table>\n",
       "<p>307511 rows × 227 columns</p>\n",
       "</div>"
      ]
     },
     "execution_count": 10,
     "metadata": {},
     "output_type": "execute_result"
    }
   ],
   "execution_count": 10
  },
  {
   "cell_type": "code",
   "source": [
    "importlib.reload(feature_builder_v2)\n",
    "features_matrix = feature_builder_v2.load_datasets_and_prepare_features(drop_meta_data=True,\n",
    "                                                                        ds_type=feature_builder_v2.DatasetType.BASE_ONLY_CREDIT_RATINGS)\n",
    "from shared import stats_utils\n",
    "\n",
    "stats_utils.nan_summary(features_matrix)"
   ],
   "metadata": {
    "collapsed": false,
    "ExecuteTime": {
     "end_time": "2024-04-20T17:44:37.683723Z",
     "start_time": "2024-04-20T17:44:37.502277Z"
    }
   },
   "id": "cdea310c0e82a4aa",
   "outputs": [
    {
     "name": "stdout",
     "output_type": "stream",
     "text": [
      "Full DS size: 307511\n"
     ]
    },
    {
     "data": {
      "text/plain": [
       "            Total NaN Values  Proportion NaN (%)\n",
       "ExtSource1            173378                56.0\n",
       "ExtSource2               660                 0.0\n",
       "ExtSource3             60965                20.0"
      ],
      "text/html": [
       "<div>\n",
       "<style scoped>\n",
       "    .dataframe tbody tr th:only-of-type {\n",
       "        vertical-align: middle;\n",
       "    }\n",
       "\n",
       "    .dataframe tbody tr th {\n",
       "        vertical-align: top;\n",
       "    }\n",
       "\n",
       "    .dataframe thead th {\n",
       "        text-align: right;\n",
       "    }\n",
       "</style>\n",
       "<table border=\"1\" class=\"dataframe\">\n",
       "  <thead>\n",
       "    <tr style=\"text-align: right;\">\n",
       "      <th></th>\n",
       "      <th>Total NaN Values</th>\n",
       "      <th>Proportion NaN (%)</th>\n",
       "    </tr>\n",
       "  </thead>\n",
       "  <tbody>\n",
       "    <tr>\n",
       "      <th>ExtSource1</th>\n",
       "      <td>173378</td>\n",
       "      <td>56.0</td>\n",
       "    </tr>\n",
       "    <tr>\n",
       "      <th>ExtSource2</th>\n",
       "      <td>660</td>\n",
       "      <td>0.0</td>\n",
       "    </tr>\n",
       "    <tr>\n",
       "      <th>ExtSource3</th>\n",
       "      <td>60965</td>\n",
       "      <td>20.0</td>\n",
       "    </tr>\n",
       "  </tbody>\n",
       "</table>\n",
       "</div>"
      ]
     },
     "execution_count": 11,
     "metadata": {},
     "output_type": "execute_result"
    }
   ],
   "execution_count": 11
  },
  {
   "cell_type": "code",
   "source": [],
   "metadata": {
    "collapsed": false,
    "ExecuteTime": {
     "end_time": "2024-04-20T17:44:37.685801Z",
     "start_time": "2024-04-20T17:44:37.683723Z"
    }
   },
   "id": "37dad6ce569a8ada",
   "outputs": [],
   "execution_count": 11
  }
 ],
 "metadata": {
  "kernelspec": {
   "display_name": "Python 3",
   "language": "python",
   "name": "python3"
  },
  "language_info": {
   "codemirror_mode": {
    "name": "ipython",
    "version": 2
   },
   "file_extension": ".py",
   "mimetype": "text/x-python",
   "name": "python",
   "nbconvert_exporter": "python",
   "pygments_lexer": "ipython2",
   "version": "2.7.6"
  }
 },
 "nbformat": 4,
 "nbformat_minor": 5
}
