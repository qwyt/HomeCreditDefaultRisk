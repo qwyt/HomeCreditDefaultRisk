{
 "cells": [
  {
   "cell_type": "code",
   "id": "initial_id",
   "metadata": {
    "collapsed": true,
    "ExecuteTime": {
     "end_time": "2024-04-30T11:10:20.753018Z",
     "start_time": "2024-04-30T11:10:18.517380Z"
    }
   },
   "source": [
    "from itertools import chain\n",
    "from src_draft.utils import LOW_IMP_FEATURES, ZERO_IMP_FEATURES\n",
    "import shared.ml_config_core as ml_config_core\n",
    "import pandas as pd\n",
    "from shared.ml_config_core import ModelConfigsCollection\n",
    "from shared.ml_config_runner import run_tuning_for_configs_collection\n",
    "from shared.definitions import TuningResult\n",
    "\n",
    "from Draft import feature_builder_v2\n",
    "\n",
    "import importlib\n",
    "\n",
    "VERBOSE = True\n",
    "importlib.reload(feature_builder_v2)\n",
    "features_matrix = feature_builder_v2.load_datasets_and_prepare_features(drop_meta_data=True,\n",
    "                                                                        ds_type=feature_builder_v2.DatasetType.BASE)\n",
    "display(\"Distribution of Samples\")\n",
    "value_counts = features_matrix[\"TARGET\"].value_counts()\n",
    "df_value_counts = pd.DataFrame(\n",
    "    {\"Total Rows\": value_counts, \"Proportion\": value_counts / len(features_matrix)}\n",
    ")\n",
    "df_value_counts.round(2)\n",
    "transformers = [\n",
    "    # No feature engineering tuning for for rejected/accepted df\n",
    "    # ml_config_core.AcceptedRejectedDropAllButEmployment,  # Only used for testing\n",
    "]\n",
    "\n",
    "baseline_only_credit_ratings_config = {\n",
    "    # Only uses  ExtScore1/2/3\n",
    "    \"Baseline_Only_CreditRatings\": ml_config_core.ModelPipelineConfig(\n",
    "        model_config=ml_config_core.LGBMTuneAUC(),\n",
    "        transformer_config=ml_config_core.PipelineTransformerConfig(transformers),\n",
    "        data_loader_params={\n",
    "            \"drop_meta_data\": True,\n",
    "            \"ds_type\": feature_builder_v2.DatasetType.BASE_ONLY_CREDIT_RATINGS\n",
    "        })\n",
    "}\n",
    "\n",
    "baseline_only_base_feats = {\n",
    "    # Only includes base table (i.e. no aggregations from client history)\n",
    "    \"LGBM_AUC_Base_Features\": ml_config_core.ModelPipelineConfig(\n",
    "        model_config=ml_config_core.LGBMTuneAUC(),\n",
    "        transformer_config=ml_config_core.PipelineTransformerConfig(transformers),\n",
    "        data_loader_params={\n",
    "            \"drop_meta_data\": True,\n",
    "            \"ds_type\": feature_builder_v2.DatasetType.BASE,\n",
    "        }),\n",
    "}\n",
    "\n",
    "weighted_log_loss_config = {\n",
    "    # Tuned on score combined from logloss and F1 score\n",
    "    \"LGBM_Weighted_LogLoss\": ml_config_core.ModelPipelineConfig(\n",
    "        model_config=ml_config_core.LGBMTuneWeightedLogLossF1(),\n",
    "        transformer_config=ml_config_core.PipelineTransformerConfig(transformers),\n",
    "        data_loader_params={\n",
    "            \"drop_meta_data\": True,\n",
    "            \"drop_cols_post_proc\": ZERO_IMP_FEATURES + LOW_IMP_FEATURES\n",
    "        }),\n",
    "}\n",
    "\n",
    "tune_auc_config: ModelConfigsCollection = {\n",
    "    \"LGBM_AUC\": ml_config_core.ModelPipelineConfig(\n",
    "        model_config=ml_config_core.LGBMTuneAUC(),\n",
    "        transformer_config=ml_config_core.PipelineTransformerConfig(transformers),\n",
    "        data_loader_params={\n",
    "            \"drop_meta_data\": True,\n",
    "            \"ds_type\": feature_builder_v2.DatasetType.FULL,\n",
    "            \"drop_cols_post_proc\": ZERO_IMP_FEATURES + LOW_IMP_FEATURES\n",
    "        }),\n",
    "}\n",
    "\n",
    "dart_tune_auc_config: ModelConfigsCollection = {\n",
    "    \"LGBM_Dart_AUC_NEW\": ml_config_core.ModelPipelineConfig(\n",
    "        model_config=ml_config_core.LGBMDartTuneAUC(),\n",
    "        transformer_config=ml_config_core.PipelineTransformerConfig(transformers),\n",
    "        data_loader_params={\n",
    "            \"drop_meta_data\": True,\n",
    "            \"ds_type\": feature_builder_v2.DatasetType.FULL,\n",
    "            \"drop_cols_post_proc\": ZERO_IMP_FEATURES + LOW_IMP_FEATURES\n",
    "        }),\n",
    "}\n",
    "\n",
    "tune_auc_all_features_config: ModelConfigsCollection = {\n",
    "    \"LGBM_AUC_All_Features\": ml_config_core.ModelPipelineConfig(\n",
    "        model_config=ml_config_core.LGBMTuneAUC(),\n",
    "        transformer_config=ml_config_core.PipelineTransformerConfig(transformers),\n",
    "        data_loader_params={\n",
    "            \"drop_meta_data\": True,\n",
    "            \"ds_type\": feature_builder_v2.DatasetType.FULL,\n",
    "            # \"drop_cols_post_proc\": ZERO_IMP_FEATURES + LOW_IMP_FEATURES\n",
    "        }),\n",
    "}\n",
    "\n",
    "configs: ModelConfigsCollection = {\n",
    "    # **baseline_only_credit_ratings_config,\n",
    "    # **baseline_only_base_feats,\n",
    "    # **weighted_log_loss_config,\n",
    "    # **tune_auc_config,\n",
    "    **dart_tune_auc_config,\n",
    "    # **tune_auc_all_features_config\n",
    "}"
   ],
   "outputs": [
    {
     "name": "stdout",
     "output_type": "stream",
     "text": [
      "Full DS size: 307511\n"
     ]
    },
    {
     "data": {
      "text/plain": [
       "'Distribution of Samples'"
      ]
     },
     "metadata": {},
     "output_type": "display_data"
    }
   ],
   "execution_count": 1
  },
  {
   "cell_type": "code",
   "source": "configs.keys()",
   "metadata": {
    "collapsed": false,
    "ExecuteTime": {
     "end_time": "2024-04-30T11:10:20.755933Z",
     "start_time": "2024-04-30T11:10:20.753018Z"
    }
   },
   "id": "a61836a0a428f5e2",
   "outputs": [
    {
     "data": {
      "text/plain": [
       "dict_keys(['LGBM_Dart_AUC_NEW'])"
      ]
     },
     "execution_count": 2,
     "metadata": {},
     "output_type": "execute_result"
    }
   ],
   "execution_count": 2
  },
  {
   "cell_type": "code",
   "source": "",
   "metadata": {
    "collapsed": false,
    "ExecuteTime": {
     "end_time": "2024-04-30T11:10:20.758132Z",
     "start_time": "2024-04-30T11:10:20.755933Z"
    }
   },
   "id": "eed3fa27393d896b",
   "outputs": [],
   "execution_count": 2
  },
  {
   "cell_type": "code",
   "source": "tuning_results = run_tuning_for_configs_collection(configs, feature_builder_v2.load_datasets_and_prepare_features)",
   "metadata": {
    "collapsed": false,
    "jupyter": {
     "is_executing": true
    },
    "ExecuteTime": {
     "start_time": "2024-04-30T11:10:20.758132Z"
    }
   },
   "id": "4b5d63234ede2e6a",
   "outputs": [
    {
     "name": "stderr",
     "output_type": "stream",
     "text": [
      "C:\\Users\\Paulius\\AppData\\Local\\pypoetry\\Cache\\virtualenvs\\ppuodz-ml-4-1-dqELbViF-py3.12\\Lib\\site-packages\\woodwork\\type_sys\\utils.py:40: UserWarning: Could not infer format, so each element will be parsed individually, falling back to `dateutil`. To ensure parsing is consistent and as-expected, please specify a format.\n",
      "  pd.to_datetime(\n",
      "C:\\Users\\Paulius\\AppData\\Local\\pypoetry\\Cache\\virtualenvs\\ppuodz-ml-4-1-dqELbViF-py3.12\\Lib\\site-packages\\woodwork\\type_sys\\utils.py:40: UserWarning: Could not infer format, so each element will be parsed individually, falling back to `dateutil`. To ensure parsing is consistent and as-expected, please specify a format.\n",
      "  pd.to_datetime(\n",
      "C:\\Users\\Paulius\\AppData\\Local\\pypoetry\\Cache\\virtualenvs\\ppuodz-ml-4-1-dqELbViF-py3.12\\Lib\\site-packages\\woodwork\\type_sys\\utils.py:40: UserWarning: Could not infer format, so each element will be parsed individually, falling back to `dateutil`. To ensure parsing is consistent and as-expected, please specify a format.\n",
      "  pd.to_datetime(\n",
      "C:\\Users\\Paulius\\AppData\\Local\\pypoetry\\Cache\\virtualenvs\\ppuodz-ml-4-1-dqELbViF-py3.12\\Lib\\site-packages\\woodwork\\type_sys\\utils.py:40: UserWarning: Could not infer format, so each element will be parsed individually, falling back to `dateutil`. To ensure parsing is consistent and as-expected, please specify a format.\n",
      "  pd.to_datetime(\n",
      "C:\\Users\\Paulius\\AppData\\Local\\pypoetry\\Cache\\virtualenvs\\ppuodz-ml-4-1-dqELbViF-py3.12\\Lib\\site-packages\\woodwork\\type_sys\\utils.py:40: UserWarning: Could not infer format, so each element will be parsed individually, falling back to `dateutil`. To ensure parsing is consistent and as-expected, please specify a format.\n",
      "  pd.to_datetime(\n",
      "C:\\Users\\Paulius\\AppData\\Local\\pypoetry\\Cache\\virtualenvs\\ppuodz-ml-4-1-dqELbViF-py3.12\\Lib\\site-packages\\woodwork\\type_sys\\utils.py:40: UserWarning: Could not infer format, so each element will be parsed individually, falling back to `dateutil`. To ensure parsing is consistent and as-expected, please specify a format.\n",
      "  pd.to_datetime(\n",
      "C:\\Users\\Paulius\\AppData\\Local\\pypoetry\\Cache\\virtualenvs\\ppuodz-ml-4-1-dqELbViF-py3.12\\Lib\\site-packages\\woodwork\\type_sys\\utils.py:40: UserWarning: Could not infer format, so each element will be parsed individually, falling back to `dateutil`. To ensure parsing is consistent and as-expected, please specify a format.\n",
      "  pd.to_datetime(\n",
      "C:\\Users\\Paulius\\AppData\\Local\\pypoetry\\Cache\\virtualenvs\\ppuodz-ml-4-1-dqELbViF-py3.12\\Lib\\site-packages\\woodwork\\type_sys\\utils.py:40: UserWarning: Could not infer format, so each element will be parsed individually, falling back to `dateutil`. To ensure parsing is consistent and as-expected, please specify a format.\n",
      "  pd.to_datetime(\n",
      "C:\\Users\\Paulius\\AppData\\Local\\pypoetry\\Cache\\virtualenvs\\ppuodz-ml-4-1-dqELbViF-py3.12\\Lib\\site-packages\\woodwork\\type_sys\\utils.py:40: UserWarning: Could not infer format, so each element will be parsed individually, falling back to `dateutil`. To ensure parsing is consistent and as-expected, please specify a format.\n",
      "  pd.to_datetime(\n",
      "C:\\Users\\Paulius\\AppData\\Local\\pypoetry\\Cache\\virtualenvs\\ppuodz-ml-4-1-dqELbViF-py3.12\\Lib\\site-packages\\woodwork\\type_sys\\utils.py:40: UserWarning: Could not infer format, so each element will be parsed individually, falling back to `dateutil`. To ensure parsing is consistent and as-expected, please specify a format.\n",
      "  pd.to_datetime(\n",
      "C:\\Users\\Paulius\\AppData\\Local\\pypoetry\\Cache\\virtualenvs\\ppuodz-ml-4-1-dqELbViF-py3.12\\Lib\\site-packages\\woodwork\\type_sys\\utils.py:40: UserWarning: Could not infer format, so each element will be parsed individually, falling back to `dateutil`. To ensure parsing is consistent and as-expected, please specify a format.\n",
      "  pd.to_datetime(\n",
      "C:\\Users\\Paulius\\AppData\\Local\\pypoetry\\Cache\\virtualenvs\\ppuodz-ml-4-1-dqELbViF-py3.12\\Lib\\site-packages\\woodwork\\type_sys\\utils.py:40: UserWarning: Could not infer format, so each element will be parsed individually, falling back to `dateutil`. To ensure parsing is consistent and as-expected, please specify a format.\n",
      "  pd.to_datetime(\n",
      "C:\\Users\\Paulius\\AppData\\Local\\pypoetry\\Cache\\virtualenvs\\ppuodz-ml-4-1-dqELbViF-py3.12\\Lib\\site-packages\\woodwork\\type_sys\\utils.py:40: UserWarning: Could not infer format, so each element will be parsed individually, falling back to `dateutil`. To ensure parsing is consistent and as-expected, please specify a format.\n",
      "  pd.to_datetime(\n",
      "C:\\Users\\Paulius\\AppData\\Local\\pypoetry\\Cache\\virtualenvs\\ppuodz-ml-4-1-dqELbViF-py3.12\\Lib\\site-packages\\woodwork\\type_sys\\utils.py:40: UserWarning: Could not infer format, so each element will be parsed individually, falling back to `dateutil`. To ensure parsing is consistent and as-expected, please specify a format.\n",
      "  pd.to_datetime(\n",
      "C:\\Users\\Paulius\\AppData\\Local\\pypoetry\\Cache\\virtualenvs\\ppuodz-ml-4-1-dqELbViF-py3.12\\Lib\\site-packages\\woodwork\\type_sys\\utils.py:40: UserWarning: Could not infer format, so each element will be parsed individually, falling back to `dateutil`. To ensure parsing is consistent and as-expected, please specify a format.\n",
      "  pd.to_datetime(\n",
      "C:\\Users\\Paulius\\AppData\\Local\\pypoetry\\Cache\\virtualenvs\\ppuodz-ml-4-1-dqELbViF-py3.12\\Lib\\site-packages\\woodwork\\type_sys\\utils.py:40: UserWarning: Could not infer format, so each element will be parsed individually, falling back to `dateutil`. To ensure parsing is consistent and as-expected, please specify a format.\n",
      "  pd.to_datetime(\n",
      "C:\\Users\\Paulius\\AppData\\Local\\pypoetry\\Cache\\virtualenvs\\ppuodz-ml-4-1-dqELbViF-py3.12\\Lib\\site-packages\\woodwork\\type_sys\\utils.py:40: UserWarning: Could not infer format, so each element will be parsed individually, falling back to `dateutil`. To ensure parsing is consistent and as-expected, please specify a format.\n",
      "  pd.to_datetime(\n",
      "C:\\Users\\Paulius\\AppData\\Local\\pypoetry\\Cache\\virtualenvs\\ppuodz-ml-4-1-dqELbViF-py3.12\\Lib\\site-packages\\woodwork\\type_sys\\utils.py:40: UserWarning: Could not infer format, so each element will be parsed individually, falling back to `dateutil`. To ensure parsing is consistent and as-expected, please specify a format.\n",
      "  pd.to_datetime(\n",
      "C:\\Users\\Paulius\\AppData\\Local\\pypoetry\\Cache\\virtualenvs\\ppuodz-ml-4-1-dqELbViF-py3.12\\Lib\\site-packages\\woodwork\\type_sys\\utils.py:40: UserWarning: Could not infer format, so each element will be parsed individually, falling back to `dateutil`. To ensure parsing is consistent and as-expected, please specify a format.\n",
      "  pd.to_datetime(\n",
      "C:\\Users\\Paulius\\AppData\\Local\\pypoetry\\Cache\\virtualenvs\\ppuodz-ml-4-1-dqELbViF-py3.12\\Lib\\site-packages\\woodwork\\type_sys\\utils.py:40: UserWarning: Could not infer format, so each element will be parsed individually, falling back to `dateutil`. To ensure parsing is consistent and as-expected, please specify a format.\n",
      "  pd.to_datetime(\n",
      "C:\\Users\\Paulius\\AppData\\Local\\pypoetry\\Cache\\virtualenvs\\ppuodz-ml-4-1-dqELbViF-py3.12\\Lib\\site-packages\\woodwork\\type_sys\\utils.py:40: UserWarning: Could not infer format, so each element will be parsed individually, falling back to `dateutil`. To ensure parsing is consistent and as-expected, please specify a format.\n",
      "  pd.to_datetime(\n",
      "C:\\Users\\Paulius\\AppData\\Local\\pypoetry\\Cache\\virtualenvs\\ppuodz-ml-4-1-dqELbViF-py3.12\\Lib\\site-packages\\woodwork\\type_sys\\utils.py:40: UserWarning: Could not infer format, so each element will be parsed individually, falling back to `dateutil`. To ensure parsing is consistent and as-expected, please specify a format.\n",
      "  pd.to_datetime(\n",
      "C:\\Users\\Paulius\\AppData\\Local\\pypoetry\\Cache\\virtualenvs\\ppuodz-ml-4-1-dqELbViF-py3.12\\Lib\\site-packages\\woodwork\\type_sys\\utils.py:40: UserWarning: Could not infer format, so each element will be parsed individually, falling back to `dateutil`. To ensure parsing is consistent and as-expected, please specify a format.\n",
      "  pd.to_datetime(\n",
      "C:\\Users\\Paulius\\AppData\\Local\\pypoetry\\Cache\\virtualenvs\\ppuodz-ml-4-1-dqELbViF-py3.12\\Lib\\site-packages\\woodwork\\type_sys\\utils.py:40: UserWarning: Could not infer format, so each element will be parsed individually, falling back to `dateutil`. To ensure parsing is consistent and as-expected, please specify a format.\n",
      "  pd.to_datetime(\n",
      "C:\\Users\\Paulius\\AppData\\Local\\pypoetry\\Cache\\virtualenvs\\ppuodz-ml-4-1-dqELbViF-py3.12\\Lib\\site-packages\\woodwork\\type_sys\\utils.py:40: UserWarning: Could not infer format, so each element will be parsed individually, falling back to `dateutil`. To ensure parsing is consistent and as-expected, please specify a format.\n",
      "  pd.to_datetime(\n",
      "C:\\Users\\Paulius\\AppData\\Local\\pypoetry\\Cache\\virtualenvs\\ppuodz-ml-4-1-dqELbViF-py3.12\\Lib\\site-packages\\woodwork\\type_sys\\utils.py:40: UserWarning: Could not infer format, so each element will be parsed individually, falling back to `dateutil`. To ensure parsing is consistent and as-expected, please specify a format.\n",
      "  pd.to_datetime(\n",
      "C:\\Users\\Paulius\\AppData\\Local\\pypoetry\\Cache\\virtualenvs\\ppuodz-ml-4-1-dqELbViF-py3.12\\Lib\\site-packages\\woodwork\\type_sys\\utils.py:40: UserWarning: Could not infer format, so each element will be parsed individually, falling back to `dateutil`. To ensure parsing is consistent and as-expected, please specify a format.\n",
      "  pd.to_datetime(\n",
      "C:\\Users\\Paulius\\AppData\\Local\\pypoetry\\Cache\\virtualenvs\\ppuodz-ml-4-1-dqELbViF-py3.12\\Lib\\site-packages\\woodwork\\type_sys\\utils.py:40: UserWarning: Could not infer format, so each element will be parsed individually, falling back to `dateutil`. To ensure parsing is consistent and as-expected, please specify a format.\n",
      "  pd.to_datetime(\n",
      "C:\\Users\\Paulius\\AppData\\Local\\pypoetry\\Cache\\virtualenvs\\ppuodz-ml-4-1-dqELbViF-py3.12\\Lib\\site-packages\\woodwork\\type_sys\\utils.py:40: UserWarning: Could not infer format, so each element will be parsed individually, falling back to `dateutil`. To ensure parsing is consistent and as-expected, please specify a format.\n",
      "  pd.to_datetime(\n",
      "C:\\Users\\Paulius\\AppData\\Local\\pypoetry\\Cache\\virtualenvs\\ppuodz-ml-4-1-dqELbViF-py3.12\\Lib\\site-packages\\woodwork\\type_sys\\utils.py:40: UserWarning: Could not infer format, so each element will be parsed individually, falling back to `dateutil`. To ensure parsing is consistent and as-expected, please specify a format.\n",
      "  pd.to_datetime(\n",
      "C:\\Users\\Paulius\\AppData\\Local\\pypoetry\\Cache\\virtualenvs\\ppuodz-ml-4-1-dqELbViF-py3.12\\Lib\\site-packages\\woodwork\\type_sys\\utils.py:40: UserWarning: Could not infer format, so each element will be parsed individually, falling back to `dateutil`. To ensure parsing is consistent and as-expected, please specify a format.\n",
      "  pd.to_datetime(\n",
      "C:\\Users\\Paulius\\AppData\\Local\\pypoetry\\Cache\\virtualenvs\\ppuodz-ml-4-1-dqELbViF-py3.12\\Lib\\site-packages\\woodwork\\type_sys\\utils.py:40: UserWarning: Could not infer format, so each element will be parsed individually, falling back to `dateutil`. To ensure parsing is consistent and as-expected, please specify a format.\n",
      "  pd.to_datetime(\n",
      "C:\\Users\\Paulius\\AppData\\Local\\pypoetry\\Cache\\virtualenvs\\ppuodz-ml-4-1-dqELbViF-py3.12\\Lib\\site-packages\\featuretools\\entityset\\entityset.py:1914: UserWarning: index SK_BUREAU_ID not found in dataframe, creating new integer column\n",
      "  warnings.warn(\n",
      "C:\\Users\\Paulius\\AppData\\Local\\pypoetry\\Cache\\virtualenvs\\ppuodz-ml-4-1-dqELbViF-py3.12\\Lib\\site-packages\\woodwork\\type_sys\\utils.py:40: UserWarning: Could not infer format, so each element will be parsed individually, falling back to `dateutil`. To ensure parsing is consistent and as-expected, please specify a format.\n",
      "  pd.to_datetime(\n",
      "C:\\Users\\Paulius\\AppData\\Local\\pypoetry\\Cache\\virtualenvs\\ppuodz-ml-4-1-dqELbViF-py3.12\\Lib\\site-packages\\woodwork\\type_sys\\utils.py:40: UserWarning: Could not infer format, so each element will be parsed individually, falling back to `dateutil`. To ensure parsing is consistent and as-expected, please specify a format.\n",
      "  pd.to_datetime(\n",
      "C:\\Users\\Paulius\\AppData\\Local\\pypoetry\\Cache\\virtualenvs\\ppuodz-ml-4-1-dqELbViF-py3.12\\Lib\\site-packages\\woodwork\\type_sys\\utils.py:40: UserWarning: Could not infer format, so each element will be parsed individually, falling back to `dateutil`. To ensure parsing is consistent and as-expected, please specify a format.\n",
      "  pd.to_datetime(\n",
      "C:\\Users\\Paulius\\AppData\\Local\\pypoetry\\Cache\\virtualenvs\\ppuodz-ml-4-1-dqELbViF-py3.12\\Lib\\site-packages\\woodwork\\type_sys\\utils.py:40: UserWarning: Could not infer format, so each element will be parsed individually, falling back to `dateutil`. To ensure parsing is consistent and as-expected, please specify a format.\n",
      "  pd.to_datetime(\n",
      "C:\\Users\\Paulius\\AppData\\Local\\pypoetry\\Cache\\virtualenvs\\ppuodz-ml-4-1-dqELbViF-py3.12\\Lib\\site-packages\\woodwork\\type_sys\\utils.py:40: UserWarning: Could not infer format, so each element will be parsed individually, falling back to `dateutil`. To ensure parsing is consistent and as-expected, please specify a format.\n",
      "  pd.to_datetime(\n",
      "C:\\Users\\Paulius\\AppData\\Local\\pypoetry\\Cache\\virtualenvs\\ppuodz-ml-4-1-dqELbViF-py3.12\\Lib\\site-packages\\woodwork\\type_sys\\utils.py:40: UserWarning: Could not infer format, so each element will be parsed individually, falling back to `dateutil`. To ensure parsing is consistent and as-expected, please specify a format.\n",
      "  pd.to_datetime(\n",
      "C:\\Users\\Paulius\\AppData\\Local\\pypoetry\\Cache\\virtualenvs\\ppuodz-ml-4-1-dqELbViF-py3.12\\Lib\\site-packages\\featuretools\\computational_backends\\feature_set_calculator.py:828: FutureWarning: The provided callable <function min at 0x000001D77E574400> is currently using SeriesGroupBy.min. In a future version of pandas, the provided callable will be used directly. To keep current behavior pass the string \"min\" instead.\n",
      "  ).agg(to_agg)\n",
      "C:\\Users\\Paulius\\AppData\\Local\\pypoetry\\Cache\\virtualenvs\\ppuodz-ml-4-1-dqELbViF-py3.12\\Lib\\site-packages\\featuretools\\computational_backends\\feature_set_calculator.py:828: FutureWarning: The provided callable <function max at 0x000001D77E5742C0> is currently using SeriesGroupBy.max. In a future version of pandas, the provided callable will be used directly. To keep current behavior pass the string \"max\" instead.\n",
      "  ).agg(to_agg)\n",
      "C:\\Users\\Paulius\\AppData\\Local\\pypoetry\\Cache\\virtualenvs\\ppuodz-ml-4-1-dqELbViF-py3.12\\Lib\\site-packages\\featuretools\\computational_backends\\feature_set_calculator.py:828: FutureWarning: The provided callable <function mean at 0x000001D77E574CC0> is currently using SeriesGroupBy.mean. In a future version of pandas, the provided callable will be used directly. To keep current behavior pass the string \"mean\" instead.\n",
      "  ).agg(to_agg)\n"
     ]
    },
    {
     "name": "stdout",
     "output_type": "stream",
     "text": [
      "Appending previous history\n"
     ]
    },
    {
     "name": "stderr",
     "output_type": "stream",
     "text": [
      "[I 2024-04-30 14:10:40,243] A new study created in memory with name: no-name-4805c4d6-1ec9-4777-906c-84869c0c80c2\n"
     ]
    },
    {
     "name": "stdout",
     "output_type": "stream",
     "text": [
      "drop drop_cols_post_proc: 227\n",
      "after drop_cols_post_proc: 121\n",
      "Full DS size: 307511\n",
      "Tunning: - transformers: transformers: 0\n",
      " total options: 0\n",
      "[]\n",
      "search_grid:\n",
      "{}\n",
      "\n",
      " - model: LGBM_Dart_AUC_NEW n_iters=10 with:\n",
      " {'model__class_weight': ['balanced', None], 'model__objective': ['binary'], 'model__boosting_type': ['gbdt', 'rf', 'dart'], 'model__n_estimators': Range(50, 1000, 50, int), 'model__learning_rate': Range(0.01, 0.3, 0.01, float), 'model__max_depth': Range(3, 11, 1, int), 'model__num_leaves': Range(8, 256, 8, int), 'model__min_gain_to_split': Range(0.0, 15.0, 0.5, float), 'model__min_data_in_leaf': Range(0, 3000, 100, int), 'model__lambda_l1': Range(0, 110, 5, int), 'model__lambda_l2': Range(0, 110, 5, int), 'model__bagging_fraction': Range(0.2, 1.0, 0.1, float), 'model__feature_fraction': Range(0.2, 1.0, 0.1, float), 'model__max_bin': Range(50, 500, 25, int), 'model__drop_rate': Range(0.0, 1.0, 0.025, float)}\n",
      "Fold: Tuning: n_train=246008, eval_set=61503\n",
      "Fold: Tuning: n_train=246009, eval_set=61502\n",
      "Fold: Tuning: n_train=246009, eval_set=61502\n",
      "Fold: Tuning: n_train=246009, eval_set=61502\n",
      "Fold: Tuning: n_train=246009, eval_set=61502\n",
      "Tune: val_score:0.7248, std_test_score:0.00209 train_set_score:0.7308\n",
      "folds val/train: [0.727, 0.7253, 0.7214, 0.7266, 0.7235] / [0.7308, 0.7311, 0.732, 0.7298, 0.7304], mean fold time: 1.24\n"
     ]
    },
    {
     "name": "stderr",
     "output_type": "stream",
     "text": [
      "C:\\Users\\Paulius\\AppData\\Local\\pypoetry\\Cache\\virtualenvs\\ppuodz-ml-4-1-dqELbViF-py3.12\\Lib\\site-packages\\sklearn\\metrics\\_classification.py:1509: UndefinedMetricWarning: Precision is ill-defined and being set to 0.0 due to no predicted samples. Use `zero_division` parameter to control this behavior.\n",
      "  _warn_prf(average, modifier, f\"{metric.capitalize()} is\", len(result))\n",
      "[I 2024-04-30 14:10:47,163] Trial 0 finished with value: 0.7247591221654156 and parameters: {'model__class_weight': None, 'model__objective': 'binary', 'model__boosting_type': 'rf', 'model__n_estimators': 900, 'model__learning_rate': 0.08, 'model__max_depth': 11, 'model__num_leaves': 112, 'model__min_gain_to_split': 12.5, 'model__min_data_in_leaf': 2700, 'model__lambda_l1': 50, 'model__lambda_l2': 15, 'model__bagging_fraction': 0.4, 'model__feature_fraction': 0.8, 'model__max_bin': 225, 'model__drop_rate': 0.55}. Best is trial 0 with value: 0.7247591221654156.\n",
      "C:\\Users\\Paulius\\AppData\\Local\\pypoetry\\Cache\\virtualenvs\\ppuodz-ml-4-1-dqELbViF-py3.12\\Lib\\site-packages\\lightgbm\\callback.py:325: UserWarning: Early stopping is not available in dart mode\n",
      "  _log_warning('Early stopping is not available in dart mode')\n"
     ]
    },
    {
     "name": "stdout",
     "output_type": "stream",
     "text": [
      "Fold: Tuning: n_train=246008, eval_set=61503\n"
     ]
    },
    {
     "name": "stderr",
     "output_type": "stream",
     "text": [
      "C:\\Users\\Paulius\\AppData\\Local\\pypoetry\\Cache\\virtualenvs\\ppuodz-ml-4-1-dqELbViF-py3.12\\Lib\\site-packages\\lightgbm\\callback.py:325: UserWarning: Early stopping is not available in dart mode\n",
      "  _log_warning('Early stopping is not available in dart mode')\n"
     ]
    },
    {
     "name": "stdout",
     "output_type": "stream",
     "text": [
      "Fold: Tuning: n_train=246009, eval_set=61502\n"
     ]
    },
    {
     "name": "stderr",
     "output_type": "stream",
     "text": [
      "C:\\Users\\Paulius\\AppData\\Local\\pypoetry\\Cache\\virtualenvs\\ppuodz-ml-4-1-dqELbViF-py3.12\\Lib\\site-packages\\lightgbm\\callback.py:325: UserWarning: Early stopping is not available in dart mode\n",
      "  _log_warning('Early stopping is not available in dart mode')\n"
     ]
    },
    {
     "name": "stdout",
     "output_type": "stream",
     "text": [
      "Fold: Tuning: n_train=246009, eval_set=61502\n"
     ]
    },
    {
     "name": "stderr",
     "output_type": "stream",
     "text": [
      "C:\\Users\\Paulius\\AppData\\Local\\pypoetry\\Cache\\virtualenvs\\ppuodz-ml-4-1-dqELbViF-py3.12\\Lib\\site-packages\\lightgbm\\callback.py:325: UserWarning: Early stopping is not available in dart mode\n",
      "  _log_warning('Early stopping is not available in dart mode')\n"
     ]
    },
    {
     "name": "stdout",
     "output_type": "stream",
     "text": [
      "Fold: Tuning: n_train=246009, eval_set=61502\n"
     ]
    },
    {
     "name": "stderr",
     "output_type": "stream",
     "text": [
      "C:\\Users\\Paulius\\AppData\\Local\\pypoetry\\Cache\\virtualenvs\\ppuodz-ml-4-1-dqELbViF-py3.12\\Lib\\site-packages\\lightgbm\\callback.py:325: UserWarning: Early stopping is not available in dart mode\n",
      "  _log_warning('Early stopping is not available in dart mode')\n"
     ]
    },
    {
     "name": "stdout",
     "output_type": "stream",
     "text": [
      "Fold: Tuning: n_train=246009, eval_set=61502\n",
      "Tune: val_score:0.7332, std_test_score:0.00291 train_set_score:0.7374\n",
      "folds val/train: [0.7347, 0.732, 0.729, 0.7378, 0.7323] / [0.7368, 0.7383, 0.7361, 0.7382, 0.7374], mean fold time: 5.41\n"
     ]
    },
    {
     "name": "stderr",
     "output_type": "stream",
     "text": [
      "C:\\Users\\Paulius\\AppData\\Local\\pypoetry\\Cache\\virtualenvs\\ppuodz-ml-4-1-dqELbViF-py3.12\\Lib\\site-packages\\sklearn\\metrics\\_classification.py:1509: UndefinedMetricWarning: Precision is ill-defined and being set to 0.0 due to no predicted samples. Use `zero_division` parameter to control this behavior.\n",
      "  _warn_prf(average, modifier, f\"{metric.capitalize()} is\", len(result))\n",
      "[I 2024-04-30 14:11:14,958] Trial 1 finished with value: 0.733164335671028 and parameters: {'model__class_weight': None, 'model__objective': 'binary', 'model__boosting_type': 'dart', 'model__n_estimators': 500, 'model__learning_rate': 0.01, 'model__max_depth': 4, 'model__num_leaves': 216, 'model__min_gain_to_split': 7.0, 'model__min_data_in_leaf': 1400, 'model__lambda_l1': 60, 'model__lambda_l2': 75, 'model__bagging_fraction': 0.5, 'model__feature_fraction': 0.30000000000000004, 'model__max_bin': 200, 'model__drop_rate': 0.05}. Best is trial 1 with value: 0.733164335671028.\n"
     ]
    },
    {
     "name": "stdout",
     "output_type": "stream",
     "text": [
      "Fold: Tuning: n_train=246008, eval_set=61503\n",
      "Fold: Tuning: n_train=246009, eval_set=61502\n",
      "Fold: Tuning: n_train=246009, eval_set=61502\n",
      "Fold: Tuning: n_train=246009, eval_set=61502\n",
      "Fold: Tuning: n_train=246009, eval_set=61502\n",
      "Tune: val_score:0.7266, std_test_score:0.00277 train_set_score:0.7356\n",
      "folds val/train: [0.7285, 0.7245, 0.7238, 0.7311, 0.7252] / [0.7353, 0.7356, 0.7359, 0.7363, 0.7348], mean fold time: 1.25\n"
     ]
    },
    {
     "name": "stderr",
     "output_type": "stream",
     "text": [
      "C:\\Users\\Paulius\\AppData\\Local\\pypoetry\\Cache\\virtualenvs\\ppuodz-ml-4-1-dqELbViF-py3.12\\Lib\\site-packages\\sklearn\\metrics\\_classification.py:1509: UndefinedMetricWarning: Precision is ill-defined and being set to 0.0 due to no predicted samples. Use `zero_division` parameter to control this behavior.\n",
      "  _warn_prf(average, modifier, f\"{metric.capitalize()} is\", len(result))\n",
      "[I 2024-04-30 14:11:21,928] Trial 2 finished with value: 0.726644314510903 and parameters: {'model__class_weight': None, 'model__objective': 'binary', 'model__boosting_type': 'rf', 'model__n_estimators': 750, 'model__learning_rate': 0.2, 'model__max_depth': 7, 'model__num_leaves': 160, 'model__min_gain_to_split': 10.5, 'model__min_data_in_leaf': 1500, 'model__lambda_l1': 30, 'model__lambda_l2': 20, 'model__bagging_fraction': 0.9000000000000001, 'model__feature_fraction': 0.2, 'model__max_bin': 175, 'model__drop_rate': 0.30000000000000004}. Best is trial 1 with value: 0.733164335671028.\n",
      "C:\\Users\\Paulius\\AppData\\Local\\pypoetry\\Cache\\virtualenvs\\ppuodz-ml-4-1-dqELbViF-py3.12\\Lib\\site-packages\\lightgbm\\callback.py:325: UserWarning: Early stopping is not available in dart mode\n",
      "  _log_warning('Early stopping is not available in dart mode')\n"
     ]
    },
    {
     "name": "stdout",
     "output_type": "stream",
     "text": [
      "Fold: Tuning: n_train=246008, eval_set=61503\n"
     ]
    },
    {
     "name": "stderr",
     "output_type": "stream",
     "text": [
      "C:\\Users\\Paulius\\AppData\\Local\\pypoetry\\Cache\\virtualenvs\\ppuodz-ml-4-1-dqELbViF-py3.12\\Lib\\site-packages\\lightgbm\\callback.py:325: UserWarning: Early stopping is not available in dart mode\n",
      "  _log_warning('Early stopping is not available in dart mode')\n"
     ]
    },
    {
     "name": "stdout",
     "output_type": "stream",
     "text": [
      "Fold: Tuning: n_train=246009, eval_set=61502\n"
     ]
    },
    {
     "name": "stderr",
     "output_type": "stream",
     "text": [
      "C:\\Users\\Paulius\\AppData\\Local\\pypoetry\\Cache\\virtualenvs\\ppuodz-ml-4-1-dqELbViF-py3.12\\Lib\\site-packages\\lightgbm\\callback.py:325: UserWarning: Early stopping is not available in dart mode\n",
      "  _log_warning('Early stopping is not available in dart mode')\n"
     ]
    },
    {
     "name": "stdout",
     "output_type": "stream",
     "text": [
      "Fold: Tuning: n_train=246009, eval_set=61502\n"
     ]
    },
    {
     "name": "stderr",
     "output_type": "stream",
     "text": [
      "C:\\Users\\Paulius\\AppData\\Local\\pypoetry\\Cache\\virtualenvs\\ppuodz-ml-4-1-dqELbViF-py3.12\\Lib\\site-packages\\lightgbm\\callback.py:325: UserWarning: Early stopping is not available in dart mode\n",
      "  _log_warning('Early stopping is not available in dart mode')\n"
     ]
    },
    {
     "name": "stdout",
     "output_type": "stream",
     "text": [
      "Fold: Tuning: n_train=246009, eval_set=61502\n"
     ]
    },
    {
     "name": "stderr",
     "output_type": "stream",
     "text": [
      "C:\\Users\\Paulius\\AppData\\Local\\pypoetry\\Cache\\virtualenvs\\ppuodz-ml-4-1-dqELbViF-py3.12\\Lib\\site-packages\\lightgbm\\callback.py:325: UserWarning: Early stopping is not available in dart mode\n",
      "  _log_warning('Early stopping is not available in dart mode')\n"
     ]
    },
    {
     "name": "stdout",
     "output_type": "stream",
     "text": [
      "Fold: Tuning: n_train=246009, eval_set=61502\n",
      "Tune: val_score:0.7681, std_test_score:0.00153 train_set_score:0.8038\n",
      "folds val/train: [0.7694, 0.7654, 0.7673, 0.7693, 0.769] / [0.8039, 0.8033, 0.8042, 0.8038, 0.8038], mean fold time: 21.81\n"
     ]
    },
    {
     "name": "stderr",
     "output_type": "stream",
     "text": [
      "[I 2024-04-30 14:13:11,758] Trial 3 finished with value: 0.7680802042485764 and parameters: {'model__class_weight': 'balanced', 'model__objective': 'binary', 'model__boosting_type': 'dart', 'model__n_estimators': 350, 'model__learning_rate': 0.08, 'model__max_depth': 9, 'model__num_leaves': 144, 'model__min_gain_to_split': 7.5, 'model__min_data_in_leaf': 700, 'model__lambda_l1': 90, 'model__lambda_l2': 0, 'model__bagging_fraction': 0.6000000000000001, 'model__feature_fraction': 0.4, 'model__max_bin': 375, 'model__drop_rate': 0.6000000000000001}. Best is trial 3 with value: 0.7680802042485764.\n"
     ]
    },
    {
     "name": "stdout",
     "output_type": "stream",
     "text": [
      "Fold: Tuning: n_train=246008, eval_set=61503\n",
      "Fold: Tuning: n_train=246009, eval_set=61502\n",
      "Fold: Tuning: n_train=246009, eval_set=61502\n",
      "Fold: Tuning: n_train=246009, eval_set=61502\n",
      "Fold: Tuning: n_train=246009, eval_set=61502\n",
      "Tune: val_score:0.7713, std_test_score:0.00130 train_set_score:0.8122\n",
      "folds val/train: [0.7734, 0.7696, 0.7704, 0.771, 0.7718] / [0.8116, 0.8118, 0.8124, 0.813, 0.8122], mean fold time: 2.36\n"
     ]
    },
    {
     "name": "stderr",
     "output_type": "stream",
     "text": [
      "[I 2024-04-30 14:13:24,340] Trial 4 finished with value: 0.771269722930656 and parameters: {'model__class_weight': 'balanced', 'model__objective': 'binary', 'model__boosting_type': 'gbdt', 'model__n_estimators': 950, 'model__learning_rate': 0.11, 'model__max_depth': 6, 'model__num_leaves': 224, 'model__min_gain_to_split': 13.0, 'model__min_data_in_leaf': 0, 'model__lambda_l1': 15, 'model__lambda_l2': 80, 'model__bagging_fraction': 0.9000000000000001, 'model__feature_fraction': 0.4, 'model__max_bin': 500, 'model__drop_rate': 0.875}. Best is trial 4 with value: 0.771269722930656.\n"
     ]
    },
    {
     "name": "stdout",
     "output_type": "stream",
     "text": [
      "Fold: Tuning: n_train=246008, eval_set=61503\n",
      "Fold: Tuning: n_train=246009, eval_set=61502\n",
      "Fold: Tuning: n_train=246009, eval_set=61502\n",
      "Fold: Tuning: n_train=246009, eval_set=61502\n",
      "Fold: Tuning: n_train=246009, eval_set=61502\n",
      "Tune: val_score:0.7296, std_test_score:0.00302 train_set_score:0.7395\n",
      "folds val/train: [0.7331, 0.7296, 0.7247, 0.7322, 0.7283] / [0.7379, 0.7399, 0.7407, 0.7397, 0.7391], mean fold time: 1.35\n"
     ]
    },
    {
     "name": "stderr",
     "output_type": "stream",
     "text": [
      "C:\\Users\\Paulius\\AppData\\Local\\pypoetry\\Cache\\virtualenvs\\ppuodz-ml-4-1-dqELbViF-py3.12\\Lib\\site-packages\\sklearn\\metrics\\_classification.py:1509: UndefinedMetricWarning: Precision is ill-defined and being set to 0.0 due to no predicted samples. Use `zero_division` parameter to control this behavior.\n",
      "  _warn_prf(average, modifier, f\"{metric.capitalize()} is\", len(result))\n",
      "[I 2024-04-30 14:13:31,840] Trial 5 finished with value: 0.7295734635518236 and parameters: {'model__class_weight': None, 'model__objective': 'binary', 'model__boosting_type': 'rf', 'model__n_estimators': 600, 'model__learning_rate': 0.17, 'model__max_depth': 11, 'model__num_leaves': 256, 'model__min_gain_to_split': 4.0, 'model__min_data_in_leaf': 300, 'model__lambda_l1': 110, 'model__lambda_l2': 85, 'model__bagging_fraction': 1.0, 'model__feature_fraction': 0.7, 'model__max_bin': 275, 'model__drop_rate': 0.325}. Best is trial 4 with value: 0.771269722930656.\n"
     ]
    },
    {
     "name": "stdout",
     "output_type": "stream",
     "text": [
      "Fold: Tuning: n_train=246008, eval_set=61503\n",
      "Fold: Tuning: n_train=246009, eval_set=61502\n",
      "Fold: Tuning: n_train=246009, eval_set=61502\n",
      "Fold: Tuning: n_train=246009, eval_set=61502\n",
      "Fold: Tuning: n_train=246009, eval_set=61502\n",
      "Tune: val_score:0.7702, std_test_score:0.00128 train_set_score:0.8221\n",
      "folds val/train: [0.7725, 0.7697, 0.7689, 0.7692, 0.7706] / [0.8388, 0.8306, 0.8252, 0.8057, 0.81], mean fold time: 2.27\n"
     ]
    },
    {
     "name": "stderr",
     "output_type": "stream",
     "text": [
      "[I 2024-04-30 14:13:44,003] Trial 6 finished with value: 0.7701777822813336 and parameters: {'model__class_weight': 'balanced', 'model__objective': 'binary', 'model__boosting_type': 'gbdt', 'model__n_estimators': 450, 'model__learning_rate': 0.24000000000000002, 'model__max_depth': 8, 'model__num_leaves': 24, 'model__min_gain_to_split': 4.5, 'model__min_data_in_leaf': 2800, 'model__lambda_l1': 0, 'model__lambda_l2': 70, 'model__bagging_fraction': 0.30000000000000004, 'model__feature_fraction': 1.0, 'model__max_bin': 450, 'model__drop_rate': 0.225}. Best is trial 4 with value: 0.771269722930656.\n"
     ]
    },
    {
     "name": "stdout",
     "output_type": "stream",
     "text": [
      "Fold: Tuning: n_train=246008, eval_set=61503\n",
      "Fold: Tuning: n_train=246009, eval_set=61502\n",
      "Fold: Tuning: n_train=246009, eval_set=61502\n",
      "Fold: Tuning: n_train=246009, eval_set=61502\n",
      "Fold: Tuning: n_train=246009, eval_set=61502\n",
      "Tune: val_score:0.7646, std_test_score:0.00148 train_set_score:0.7801\n",
      "folds val/train: [0.765, 0.7623, 0.7635, 0.7657, 0.7664] / [0.7801, 0.7805, 0.7804, 0.78, 0.7794], mean fold time: 3.33\n"
     ]
    },
    {
     "name": "stderr",
     "output_type": "stream",
     "text": [
      "[I 2024-04-30 14:14:01,738] Trial 7 finished with value: 0.7645755916988988 and parameters: {'model__class_weight': None, 'model__objective': 'binary', 'model__boosting_type': 'gbdt', 'model__n_estimators': 850, 'model__learning_rate': 0.11, 'model__max_depth': 8, 'model__num_leaves': 192, 'model__min_gain_to_split': 14.0, 'model__min_data_in_leaf': 2600, 'model__lambda_l1': 25, 'model__lambda_l2': 105, 'model__bagging_fraction': 0.2, 'model__feature_fraction': 0.9000000000000001, 'model__max_bin': 225, 'model__drop_rate': 0.17500000000000002}. Best is trial 4 with value: 0.771269722930656.\n"
     ]
    },
    {
     "name": "stdout",
     "output_type": "stream",
     "text": [
      "Fold: Tuning: n_train=246008, eval_set=61503\n",
      "Fold: Tuning: n_train=246009, eval_set=61502\n",
      "Fold: Tuning: n_train=246009, eval_set=61502\n",
      "Fold: Tuning: n_train=246009, eval_set=61502\n",
      "Fold: Tuning: n_train=246009, eval_set=61502\n",
      "Tune: val_score:0.7633, std_test_score:0.00208 train_set_score:0.7764\n",
      "folds val/train: [0.7656, 0.7601, 0.7617, 0.764, 0.765] / [0.7759, 0.7759, 0.7766, 0.777, 0.7768], mean fold time: 1.92\n"
     ]
    },
    {
     "name": "stderr",
     "output_type": "stream",
     "text": [
      "[I 2024-04-30 14:14:12,368] Trial 8 finished with value: 0.7632609111571824 and parameters: {'model__class_weight': None, 'model__objective': 'binary', 'model__boosting_type': 'gbdt', 'model__n_estimators': 550, 'model__learning_rate': 0.28, 'model__max_depth': 5, 'model__num_leaves': 240, 'model__min_gain_to_split': 14.5, 'model__min_data_in_leaf': 0, 'model__lambda_l1': 20, 'model__lambda_l2': 90, 'model__bagging_fraction': 1.0, 'model__feature_fraction': 0.6000000000000001, 'model__max_bin': 100, 'model__drop_rate': 0.9}. Best is trial 4 with value: 0.771269722930656.\n"
     ]
    },
    {
     "name": "stdout",
     "output_type": "stream",
     "text": [
      "Fold: Tuning: n_train=246008, eval_set=61503\n",
      "Fold: Tuning: n_train=246009, eval_set=61502\n",
      "Fold: Tuning: n_train=246009, eval_set=61502\n",
      "Fold: Tuning: n_train=246009, eval_set=61502\n",
      "Fold: Tuning: n_train=246009, eval_set=61502\n",
      "Tune: val_score:0.7257, std_test_score:0.00200 train_set_score:0.7356\n",
      "folds val/train: [0.7258, 0.7237, 0.7239, 0.7293, 0.7258] / [0.7357, 0.7354, 0.7359, 0.7356, 0.7351], mean fold time: 2.34\n"
     ]
    },
    {
     "name": "stderr",
     "output_type": "stream",
     "text": [
      "[I 2024-04-30 14:14:25,096] Trial 9 finished with value: 0.7256979936912922 and parameters: {'model__class_weight': None, 'model__objective': 'binary', 'model__boosting_type': 'rf', 'model__n_estimators': 650, 'model__learning_rate': 0.05, 'model__max_depth': 10, 'model__num_leaves': 56, 'model__min_gain_to_split': 7.0, 'model__min_data_in_leaf': 2100, 'model__lambda_l1': 15, 'model__lambda_l2': 5, 'model__bagging_fraction': 0.30000000000000004, 'model__feature_fraction': 0.9000000000000001, 'model__max_bin': 75, 'model__drop_rate': 0.625}. Best is trial 4 with value: 0.771269722930656.\n"
     ]
    },
    {
     "name": "stdout",
     "output_type": "stream",
     "text": [
      "Fold: Tuning: n_train=246008, eval_set=61503\n",
      "Fold: Tuning: n_train=246009, eval_set=61502\n",
      "Fold: Tuning: n_train=246009, eval_set=61502\n",
      "Fold: Tuning: n_train=246009, eval_set=61502\n",
      "Fold: Tuning: n_train=246009, eval_set=61502\n",
      "Tune: val_score:0.7638, std_test_score:0.00140 train_set_score:0.7937\n",
      "folds val/train: [0.7656, 0.7613, 0.7638, 0.7642, 0.7643] / [0.7935, 0.7939, 0.794, 0.7938, 0.7933], mean fold time: 1.91\n"
     ]
    },
    {
     "name": "stderr",
     "output_type": "stream",
     "text": [
      "[I 2024-04-30 14:14:35,466] Trial 10 finished with value: 0.7638478396414092 and parameters: {'model__class_weight': 'balanced', 'model__objective': 'binary', 'model__boosting_type': 'gbdt', 'model__n_estimators': 50, 'model__learning_rate': 0.12, 'model__max_depth': 6, 'model__num_leaves': 88, 'model__min_gain_to_split': 1.0, 'model__min_data_in_leaf': 700, 'model__lambda_l1': 50, 'model__lambda_l2': 45, 'model__bagging_fraction': 0.7, 'model__feature_fraction': 0.5, 'model__max_bin': 500, 'model__drop_rate': 0.9750000000000001}. Best is trial 4 with value: 0.771269722930656.\n"
     ]
    },
    {
     "name": "stdout",
     "output_type": "stream",
     "text": [
      "Fold: Tuning: n_train=246008, eval_set=61503\n",
      "Fold: Tuning: n_train=246009, eval_set=61502\n",
      "Fold: Tuning: n_train=246009, eval_set=61502\n",
      "Fold: Tuning: n_train=246009, eval_set=61502\n",
      "Fold: Tuning: n_train=246009, eval_set=61502\n",
      "Tune: val_score:0.7709, std_test_score:0.00211 train_set_score:0.7988\n",
      "folds val/train: [0.7743, 0.7703, 0.7685, 0.7691, 0.7722] / [0.807, 0.8008, 0.7974, 0.7913, 0.7973], mean fold time: 2.18\n"
     ]
    },
    {
     "name": "stderr",
     "output_type": "stream",
     "text": [
      "[I 2024-04-30 14:14:47,169] Trial 11 finished with value: 0.7708781891661243 and parameters: {'model__class_weight': 'balanced', 'model__objective': 'binary', 'model__boosting_type': 'gbdt', 'model__n_estimators': 300, 'model__learning_rate': 0.23, 'model__max_depth': 3, 'model__num_leaves': 8, 'model__min_gain_to_split': 3.5, 'model__min_data_in_leaf': 2100, 'model__lambda_l1': 0, 'model__lambda_l2': 60, 'model__bagging_fraction': 0.8, 'model__feature_fraction': 1.0, 'model__max_bin': 475, 'model__drop_rate': 0.775}. Best is trial 4 with value: 0.771269722930656.\n"
     ]
    },
    {
     "name": "stdout",
     "output_type": "stream",
     "text": [
      "Fold: Tuning: n_train=246008, eval_set=61503\n",
      "Fold: Tuning: n_train=246009, eval_set=61502\n",
      "Fold: Tuning: n_train=246009, eval_set=61502\n",
      "Fold: Tuning: n_train=246009, eval_set=61502\n",
      "Fold: Tuning: n_train=246009, eval_set=61502\n",
      "Tune: val_score:0.7730, std_test_score:0.00203 train_set_score:0.7982\n",
      "folds val/train: [0.7767, 0.7722, 0.7707, 0.7722, 0.7731] / [0.8062, 0.797, 0.795, 0.7971, 0.7957], mean fold time: 6.12\n"
     ]
    },
    {
     "name": "stderr",
     "output_type": "stream",
     "text": [
      "[I 2024-04-30 14:15:19,006] Trial 12 finished with value: 0.7729736600713923 and parameters: {'model__class_weight': 'balanced', 'model__objective': 'binary', 'model__boosting_type': 'gbdt', 'model__n_estimators': 250, 'model__learning_rate': 0.21000000000000002, 'model__max_depth': 3, 'model__num_leaves': 16, 'model__min_gain_to_split': 0.0, 'model__min_data_in_leaf': 2000, 'model__lambda_l1': 0, 'model__lambda_l2': 50, 'model__bagging_fraction': 0.8, 'model__feature_fraction': 0.5, 'model__max_bin': 375, 'model__drop_rate': 0.8}. Best is trial 12 with value: 0.7729736600713923.\n"
     ]
    },
    {
     "name": "stdout",
     "output_type": "stream",
     "text": [
      "Fold: Tuning: n_train=246008, eval_set=61503\n",
      "Fold: Tuning: n_train=246009, eval_set=61502\n",
      "Fold: Tuning: n_train=246009, eval_set=61502\n",
      "Fold: Tuning: n_train=246009, eval_set=61502\n",
      "Fold: Tuning: n_train=246009, eval_set=61502\n",
      "Tune: val_score:0.7673, std_test_score:0.00125 train_set_score:0.7823\n",
      "folds val/train: [0.7684, 0.7661, 0.7661, 0.7666, 0.7692] / [0.782, 0.7827, 0.7823, 0.7819, 0.7825], mean fold time: 3.38\n"
     ]
    },
    {
     "name": "stderr",
     "output_type": "stream",
     "text": [
      "[I 2024-04-30 14:15:36,908] Trial 13 finished with value: 0.7672730632046433 and parameters: {'model__class_weight': 'balanced', 'model__objective': 'binary', 'model__boosting_type': 'gbdt', 'model__n_estimators': 100, 'model__learning_rate': 0.16, 'model__max_depth': 3, 'model__num_leaves': 184, 'model__min_gain_to_split': 0.0, 'model__min_data_in_leaf': 2000, 'model__lambda_l1': 0, 'model__lambda_l2': 40, 'model__bagging_fraction': 0.8, 'model__feature_fraction': 0.5, 'model__max_bin': 400, 'model__drop_rate': 0.775}. Best is trial 12 with value: 0.7729736600713923.\n"
     ]
    },
    {
     "name": "stdout",
     "output_type": "stream",
     "text": [
      "Fold: Tuning: n_train=246008, eval_set=61503\n",
      "Fold: Tuning: n_train=246009, eval_set=61502\n",
      "Fold: Tuning: n_train=246009, eval_set=61502\n",
      "Fold: Tuning: n_train=246009, eval_set=61502\n",
      "Fold: Tuning: n_train=246009, eval_set=61502\n",
      "Tune: val_score:0.7689, std_test_score:0.00186 train_set_score:0.7956\n",
      "folds val/train: [0.7712, 0.7661, 0.7674, 0.7699, 0.7697] / [0.7959, 0.7955, 0.7953, 0.7962, 0.7952], mean fold time: 2.21\n"
     ]
    },
    {
     "name": "stderr",
     "output_type": "stream",
     "text": [
      "[I 2024-04-30 14:15:48,764] Trial 14 finished with value: 0.7688614622014904 and parameters: {'model__class_weight': 'balanced', 'model__objective': 'binary', 'model__boosting_type': 'gbdt', 'model__n_estimators': 1000, 'model__learning_rate': 0.3, 'model__max_depth': 5, 'model__num_leaves': 80, 'model__min_gain_to_split': 10.0, 'model__min_data_in_leaf': 1100, 'model__lambda_l1': 65, 'model__lambda_l2': 35, 'model__bagging_fraction': 0.8, 'model__feature_fraction': 0.4, 'model__max_bin': 350, 'model__drop_rate': 0.8}. Best is trial 12 with value: 0.7729736600713923.\n"
     ]
    },
    {
     "name": "stdout",
     "output_type": "stream",
     "text": [
      "Fold: Tuning: n_train=246008, eval_set=61503\n",
      "Fold: Tuning: n_train=246009, eval_set=61502\n",
      "Fold: Tuning: n_train=246009, eval_set=61502\n",
      "Fold: Tuning: n_train=246009, eval_set=61502\n",
      "Fold: Tuning: n_train=246009, eval_set=61502\n",
      "Tune: val_score:0.7710, std_test_score:0.00142 train_set_score:0.7985\n",
      "folds val/train: [0.7735, 0.7698, 0.7705, 0.7697, 0.7717] / [0.7988, 0.7982, 0.7994, 0.7984, 0.7977], mean fold time: 1.99\n"
     ]
    },
    {
     "name": "stderr",
     "output_type": "stream",
     "text": [
      "[I 2024-04-30 14:15:59,500] Trial 15 finished with value: 0.7710315875391158 and parameters: {'model__class_weight': 'balanced', 'model__objective': 'binary', 'model__boosting_type': 'gbdt', 'model__n_estimators': 200, 'model__learning_rate': 0.19, 'model__max_depth': 6, 'model__num_leaves': 120, 'model__min_gain_to_split': 10.0, 'model__min_data_in_leaf': 1900, 'model__lambda_l1': 35, 'model__lambda_l2': 60, 'model__bagging_fraction': 0.6000000000000001, 'model__feature_fraction': 0.2, 'model__max_bin': 325, 'model__drop_rate': 1.0}. Best is trial 12 with value: 0.7729736600713923.\n",
      "C:\\Users\\Paulius\\AppData\\Local\\pypoetry\\Cache\\virtualenvs\\ppuodz-ml-4-1-dqELbViF-py3.12\\Lib\\site-packages\\lightgbm\\callback.py:325: UserWarning: Early stopping is not available in dart mode\n",
      "  _log_warning('Early stopping is not available in dart mode')\n"
     ]
    },
    {
     "name": "stdout",
     "output_type": "stream",
     "text": [
      "Fold: Tuning: n_train=246008, eval_set=61503\n"
     ]
    },
    {
     "name": "stderr",
     "output_type": "stream",
     "text": [
      "C:\\Users\\Paulius\\AppData\\Local\\pypoetry\\Cache\\virtualenvs\\ppuodz-ml-4-1-dqELbViF-py3.12\\Lib\\site-packages\\lightgbm\\callback.py:325: UserWarning: Early stopping is not available in dart mode\n",
      "  _log_warning('Early stopping is not available in dart mode')\n"
     ]
    },
    {
     "name": "stdout",
     "output_type": "stream",
     "text": [
      "Fold: Tuning: n_train=246009, eval_set=61502\n"
     ]
    },
    {
     "name": "stderr",
     "output_type": "stream",
     "text": [
      "C:\\Users\\Paulius\\AppData\\Local\\pypoetry\\Cache\\virtualenvs\\ppuodz-ml-4-1-dqELbViF-py3.12\\Lib\\site-packages\\lightgbm\\callback.py:325: UserWarning: Early stopping is not available in dart mode\n",
      "  _log_warning('Early stopping is not available in dart mode')\n"
     ]
    },
    {
     "name": "stdout",
     "output_type": "stream",
     "text": [
      "Fold: Tuning: n_train=246009, eval_set=61502\n"
     ]
    },
    {
     "name": "stderr",
     "output_type": "stream",
     "text": [
      "C:\\Users\\Paulius\\AppData\\Local\\pypoetry\\Cache\\virtualenvs\\ppuodz-ml-4-1-dqELbViF-py3.12\\Lib\\site-packages\\lightgbm\\callback.py:325: UserWarning: Early stopping is not available in dart mode\n",
      "  _log_warning('Early stopping is not available in dart mode')\n"
     ]
    },
    {
     "name": "stdout",
     "output_type": "stream",
     "text": [
      "Fold: Tuning: n_train=246009, eval_set=61502\n"
     ]
    },
    {
     "name": "stderr",
     "output_type": "stream",
     "text": [
      "C:\\Users\\Paulius\\AppData\\Local\\pypoetry\\Cache\\virtualenvs\\ppuodz-ml-4-1-dqELbViF-py3.12\\Lib\\site-packages\\lightgbm\\callback.py:325: UserWarning: Early stopping is not available in dart mode\n",
      "  _log_warning('Early stopping is not available in dart mode')\n"
     ]
    },
    {
     "name": "stdout",
     "output_type": "stream",
     "text": [
      "Fold: Tuning: n_train=246009, eval_set=61502\n",
      "Tune: val_score:0.7676, std_test_score:0.00100 train_set_score:0.7938\n",
      "folds val/train: [0.7684, 0.7662, 0.7665, 0.7681, 0.7687] / [0.7934, 0.7942, 0.7944, 0.7936, 0.7934], mean fold time: 38.04\n"
     ]
    },
    {
     "name": "stderr",
     "output_type": "stream",
     "text": [
      "[I 2024-04-30 14:19:10,473] Trial 16 finished with value: 0.7675725766548119 and parameters: {'model__class_weight': 'balanced', 'model__objective': 'binary', 'model__boosting_type': 'dart', 'model__n_estimators': 300, 'model__learning_rate': 0.13, 'model__max_depth': 4, 'model__num_leaves': 48, 'model__min_gain_to_split': 2.0, 'model__min_data_in_leaf': 1000, 'model__lambda_l1': 10, 'model__lambda_l2': 100, 'model__bagging_fraction': 0.9000000000000001, 'model__feature_fraction': 0.6000000000000001, 'model__max_bin': 425, 'model__drop_rate': 0.42500000000000004}. Best is trial 12 with value: 0.7729736600713923.\n"
     ]
    },
    {
     "name": "stdout",
     "output_type": "stream",
     "text": [
      "Fold: Tuning: n_train=246008, eval_set=61503\n",
      "Fold: Tuning: n_train=246009, eval_set=61502\n",
      "Fold: Tuning: n_train=246009, eval_set=61502\n",
      "Fold: Tuning: n_train=246009, eval_set=61502\n",
      "Fold: Tuning: n_train=246009, eval_set=61502\n",
      "Tune: val_score:0.7691, std_test_score:0.00187 train_set_score:0.7993\n",
      "folds val/train: [0.7723, 0.7666, 0.7685, 0.7687, 0.7696] / [0.7991, 0.7992, 0.8001, 0.7993, 0.7987], mean fold time: 1.62\n"
     ]
    },
    {
     "name": "stderr",
     "output_type": "stream",
     "text": [
      "[I 2024-04-30 14:19:19,385] Trial 17 finished with value: 0.7691357518070465 and parameters: {'model__class_weight': 'balanced', 'model__objective': 'binary', 'model__boosting_type': 'gbdt', 'model__n_estimators': 750, 'model__learning_rate': 0.25, 'model__max_depth': 6, 'model__num_leaves': 176, 'model__min_gain_to_split': 11.5, 'model__min_data_in_leaf': 2400, 'model__lambda_l1': 40, 'model__lambda_l2': 75, 'model__bagging_fraction': 0.7, 'model__feature_fraction': 0.4, 'model__max_bin': 300, 'model__drop_rate': 0.7000000000000001}. Best is trial 12 with value: 0.7729736600713923.\n"
     ]
    },
    {
     "name": "stdout",
     "output_type": "stream",
     "text": [
      "Fold: Tuning: n_train=246008, eval_set=61503\n",
      "Fold: Tuning: n_train=246009, eval_set=61502\n",
      "Fold: Tuning: n_train=246009, eval_set=61502\n",
      "Fold: Tuning: n_train=246009, eval_set=61502\n",
      "Fold: Tuning: n_train=246009, eval_set=61502\n",
      "Tune: val_score:0.7712, std_test_score:0.00147 train_set_score:0.7943\n",
      "folds val/train: [0.7729, 0.7687, 0.7706, 0.7714, 0.7724] / [0.7932, 0.7941, 0.796, 0.7939, 0.7941], mean fold time: 2.13\n"
     ]
    },
    {
     "name": "stderr",
     "output_type": "stream",
     "text": [
      "[I 2024-04-30 14:19:31,234] Trial 18 finished with value: 0.7712175359581087 and parameters: {'model__class_weight': 'balanced', 'model__objective': 'binary', 'model__boosting_type': 'gbdt', 'model__n_estimators': 200, 'model__learning_rate': 0.19, 'model__max_depth': 4, 'model__num_leaves': 216, 'model__min_gain_to_split': 8.0, 'model__min_data_in_leaf': 1500, 'model__lambda_l1': 75, 'model__lambda_l2': 45, 'model__bagging_fraction': 0.9000000000000001, 'model__feature_fraction': 0.5, 'model__max_bin': 500, 'model__drop_rate': 0.875}. Best is trial 12 with value: 0.7729736600713923.\n",
      "C:\\Users\\Paulius\\AppData\\Local\\pypoetry\\Cache\\virtualenvs\\ppuodz-ml-4-1-dqELbViF-py3.12\\Lib\\site-packages\\lightgbm\\callback.py:325: UserWarning: Early stopping is not available in dart mode\n",
      "  _log_warning('Early stopping is not available in dart mode')\n"
     ]
    },
    {
     "name": "stdout",
     "output_type": "stream",
     "text": [
      "Fold: Tuning: n_train=246008, eval_set=61503\n"
     ]
    },
    {
     "name": "stderr",
     "output_type": "stream",
     "text": [
      "C:\\Users\\Paulius\\AppData\\Local\\pypoetry\\Cache\\virtualenvs\\ppuodz-ml-4-1-dqELbViF-py3.12\\Lib\\site-packages\\lightgbm\\callback.py:325: UserWarning: Early stopping is not available in dart mode\n",
      "  _log_warning('Early stopping is not available in dart mode')\n"
     ]
    },
    {
     "name": "stdout",
     "output_type": "stream",
     "text": [
      "Fold: Tuning: n_train=246009, eval_set=61502\n"
     ]
    },
    {
     "name": "stderr",
     "output_type": "stream",
     "text": [
      "C:\\Users\\Paulius\\AppData\\Local\\pypoetry\\Cache\\virtualenvs\\ppuodz-ml-4-1-dqELbViF-py3.12\\Lib\\site-packages\\lightgbm\\callback.py:325: UserWarning: Early stopping is not available in dart mode\n",
      "  _log_warning('Early stopping is not available in dart mode')\n"
     ]
    },
    {
     "name": "stdout",
     "output_type": "stream",
     "text": [
      "Fold: Tuning: n_train=246009, eval_set=61502\n"
     ]
    },
    {
     "name": "stderr",
     "output_type": "stream",
     "text": [
      "C:\\Users\\Paulius\\AppData\\Local\\pypoetry\\Cache\\virtualenvs\\ppuodz-ml-4-1-dqELbViF-py3.12\\Lib\\site-packages\\lightgbm\\callback.py:325: UserWarning: Early stopping is not available in dart mode\n",
      "  _log_warning('Early stopping is not available in dart mode')\n"
     ]
    },
    {
     "name": "stdout",
     "output_type": "stream",
     "text": [
      "Fold: Tuning: n_train=246009, eval_set=61502\n"
     ]
    },
    {
     "name": "stderr",
     "output_type": "stream",
     "text": [
      "C:\\Users\\Paulius\\AppData\\Local\\pypoetry\\Cache\\virtualenvs\\ppuodz-ml-4-1-dqELbViF-py3.12\\Lib\\site-packages\\lightgbm\\callback.py:325: UserWarning: Early stopping is not available in dart mode\n",
      "  _log_warning('Early stopping is not available in dart mode')\n"
     ]
    },
    {
     "name": "stdout",
     "output_type": "stream",
     "text": [
      "Fold: Tuning: n_train=246009, eval_set=61502\n",
      "Tune: val_score:0.7732, std_test_score:0.00156 train_set_score:0.8209\n",
      "folds val/train: [0.7756, 0.7711, 0.7719, 0.7735, 0.7739] / [0.8221, 0.8203, 0.8207, 0.8213, 0.8203], mean fold time: 25.83\n"
     ]
    },
    {
     "name": "stderr",
     "output_type": "stream",
     "text": [
      "[I 2024-04-30 14:21:41,235] Trial 19 finished with value: 0.7732021037088023 and parameters: {'model__class_weight': 'balanced', 'model__objective': 'binary', 'model__boosting_type': 'dart', 'model__n_estimators': 400, 'model__learning_rate': 0.14, 'model__max_depth': 7, 'model__num_leaves': 88, 'model__min_gain_to_split': 13.5, 'model__min_data_in_leaf': 0, 'model__lambda_l1': 10, 'model__lambda_l2': 90, 'model__bagging_fraction': 0.7, 'model__feature_fraction': 0.30000000000000004, 'model__max_bin': 425, 'model__drop_rate': 0.45}. Best is trial 19 with value: 0.7732021037088023.\n",
      "C:\\Users\\Paulius\\AppData\\Local\\pypoetry\\Cache\\virtualenvs\\ppuodz-ml-4-1-dqELbViF-py3.12\\Lib\\site-packages\\lightgbm\\callback.py:325: UserWarning: Early stopping is not available in dart mode\n",
      "  _log_warning('Early stopping is not available in dart mode')\n"
     ]
    },
    {
     "name": "stdout",
     "output_type": "stream",
     "text": [
      "Fold: Tuning: n_train=246008, eval_set=61503\n"
     ]
    },
    {
     "name": "stderr",
     "output_type": "stream",
     "text": [
      "C:\\Users\\Paulius\\AppData\\Local\\pypoetry\\Cache\\virtualenvs\\ppuodz-ml-4-1-dqELbViF-py3.12\\Lib\\site-packages\\lightgbm\\callback.py:325: UserWarning: Early stopping is not available in dart mode\n",
      "  _log_warning('Early stopping is not available in dart mode')\n"
     ]
    },
    {
     "name": "stdout",
     "output_type": "stream",
     "text": [
      "Fold: Tuning: n_train=246009, eval_set=61502\n"
     ]
    },
    {
     "name": "stderr",
     "output_type": "stream",
     "text": [
      "C:\\Users\\Paulius\\AppData\\Local\\pypoetry\\Cache\\virtualenvs\\ppuodz-ml-4-1-dqELbViF-py3.12\\Lib\\site-packages\\lightgbm\\callback.py:325: UserWarning: Early stopping is not available in dart mode\n",
      "  _log_warning('Early stopping is not available in dart mode')\n"
     ]
    },
    {
     "name": "stdout",
     "output_type": "stream",
     "text": [
      "Fold: Tuning: n_train=246009, eval_set=61502\n"
     ]
    },
    {
     "name": "stderr",
     "output_type": "stream",
     "text": [
      "C:\\Users\\Paulius\\AppData\\Local\\pypoetry\\Cache\\virtualenvs\\ppuodz-ml-4-1-dqELbViF-py3.12\\Lib\\site-packages\\lightgbm\\callback.py:325: UserWarning: Early stopping is not available in dart mode\n",
      "  _log_warning('Early stopping is not available in dart mode')\n"
     ]
    },
    {
     "name": "stdout",
     "output_type": "stream",
     "text": [
      "Fold: Tuning: n_train=246009, eval_set=61502\n"
     ]
    },
    {
     "name": "stderr",
     "output_type": "stream",
     "text": [
      "C:\\Users\\Paulius\\AppData\\Local\\pypoetry\\Cache\\virtualenvs\\ppuodz-ml-4-1-dqELbViF-py3.12\\Lib\\site-packages\\lightgbm\\callback.py:325: UserWarning: Early stopping is not available in dart mode\n",
      "  _log_warning('Early stopping is not available in dart mode')\n"
     ]
    },
    {
     "name": "stdout",
     "output_type": "stream",
     "text": [
      "Fold: Tuning: n_train=246009, eval_set=61502\n",
      "Tune: val_score:0.7737, std_test_score:0.00150 train_set_score:0.8402\n",
      "folds val/train: [0.7753, 0.7722, 0.7717, 0.7744, 0.7751] / [0.8404, 0.8396, 0.8411, 0.8404, 0.8397], mean fold time: 19.83\n"
     ]
    },
    {
     "name": "stderr",
     "output_type": "stream",
     "text": [
      "[I 2024-04-30 14:23:21,211] Trial 20 finished with value: 0.773736619748256 and parameters: {'model__class_weight': 'balanced', 'model__objective': 'binary', 'model__boosting_type': 'dart', 'model__n_estimators': 400, 'model__learning_rate': 0.22, 'model__max_depth': 8, 'model__num_leaves': 40, 'model__min_gain_to_split': 5.0, 'model__min_data_in_leaf': 3000, 'model__lambda_l1': 10, 'model__lambda_l2': 110, 'model__bagging_fraction': 0.5, 'model__feature_fraction': 0.30000000000000004, 'model__max_bin': 425, 'model__drop_rate': 0.45}. Best is trial 20 with value: 0.773736619748256.\n",
      "C:\\Users\\Paulius\\AppData\\Local\\pypoetry\\Cache\\virtualenvs\\ppuodz-ml-4-1-dqELbViF-py3.12\\Lib\\site-packages\\lightgbm\\callback.py:325: UserWarning: Early stopping is not available in dart mode\n",
      "  _log_warning('Early stopping is not available in dart mode')\n"
     ]
    },
    {
     "name": "stdout",
     "output_type": "stream",
     "text": [
      "Fold: Tuning: n_train=246008, eval_set=61503\n"
     ]
    },
    {
     "name": "stderr",
     "output_type": "stream",
     "text": [
      "C:\\Users\\Paulius\\AppData\\Local\\pypoetry\\Cache\\virtualenvs\\ppuodz-ml-4-1-dqELbViF-py3.12\\Lib\\site-packages\\lightgbm\\callback.py:325: UserWarning: Early stopping is not available in dart mode\n",
      "  _log_warning('Early stopping is not available in dart mode')\n"
     ]
    },
    {
     "name": "stdout",
     "output_type": "stream",
     "text": [
      "Fold: Tuning: n_train=246009, eval_set=61502\n"
     ]
    },
    {
     "name": "stderr",
     "output_type": "stream",
     "text": [
      "C:\\Users\\Paulius\\AppData\\Local\\pypoetry\\Cache\\virtualenvs\\ppuodz-ml-4-1-dqELbViF-py3.12\\Lib\\site-packages\\lightgbm\\callback.py:325: UserWarning: Early stopping is not available in dart mode\n",
      "  _log_warning('Early stopping is not available in dart mode')\n"
     ]
    },
    {
     "name": "stdout",
     "output_type": "stream",
     "text": [
      "Fold: Tuning: n_train=246009, eval_set=61502\n"
     ]
    },
    {
     "name": "stderr",
     "output_type": "stream",
     "text": [
      "C:\\Users\\Paulius\\AppData\\Local\\pypoetry\\Cache\\virtualenvs\\ppuodz-ml-4-1-dqELbViF-py3.12\\Lib\\site-packages\\lightgbm\\callback.py:325: UserWarning: Early stopping is not available in dart mode\n",
      "  _log_warning('Early stopping is not available in dart mode')\n"
     ]
    },
    {
     "name": "stdout",
     "output_type": "stream",
     "text": [
      "Fold: Tuning: n_train=246009, eval_set=61502\n"
     ]
    },
    {
     "name": "stderr",
     "output_type": "stream",
     "text": [
      "C:\\Users\\Paulius\\AppData\\Local\\pypoetry\\Cache\\virtualenvs\\ppuodz-ml-4-1-dqELbViF-py3.12\\Lib\\site-packages\\lightgbm\\callback.py:325: UserWarning: Early stopping is not available in dart mode\n",
      "  _log_warning('Early stopping is not available in dart mode')\n"
     ]
    },
    {
     "name": "stdout",
     "output_type": "stream",
     "text": [
      "Fold: Tuning: n_train=246009, eval_set=61502\n",
      "Tune: val_score:0.7745, std_test_score:0.00123 train_set_score:0.8443\n",
      "folds val/train: [0.776, 0.7732, 0.7729, 0.7746, 0.7756] / [0.8443, 0.843, 0.844, 0.8456, 0.8444], mean fold time: 19.61\n"
     ]
    },
    {
     "name": "stderr",
     "output_type": "stream",
     "text": [
      "[I 2024-04-30 14:25:00,094] Trial 21 finished with value: 0.7744710826089047 and parameters: {'model__class_weight': 'balanced', 'model__objective': 'binary', 'model__boosting_type': 'dart', 'model__n_estimators': 450, 'model__learning_rate': 0.23, 'model__max_depth': 8, 'model__num_leaves': 48, 'model__min_gain_to_split': 5.5, 'model__min_data_in_leaf': 2900, 'model__lambda_l1': 10, 'model__lambda_l2': 110, 'model__bagging_fraction': 0.5, 'model__feature_fraction': 0.30000000000000004, 'model__max_bin': 400, 'model__drop_rate': 0.42500000000000004}. Best is trial 21 with value: 0.7744710826089047.\n",
      "C:\\Users\\Paulius\\AppData\\Local\\pypoetry\\Cache\\virtualenvs\\ppuodz-ml-4-1-dqELbViF-py3.12\\Lib\\site-packages\\lightgbm\\callback.py:325: UserWarning: Early stopping is not available in dart mode\n",
      "  _log_warning('Early stopping is not available in dart mode')\n"
     ]
    },
    {
     "name": "stdout",
     "output_type": "stream",
     "text": [
      "Fold: Tuning: n_train=246008, eval_set=61503\n"
     ]
    },
    {
     "name": "stderr",
     "output_type": "stream",
     "text": [
      "C:\\Users\\Paulius\\AppData\\Local\\pypoetry\\Cache\\virtualenvs\\ppuodz-ml-4-1-dqELbViF-py3.12\\Lib\\site-packages\\lightgbm\\callback.py:325: UserWarning: Early stopping is not available in dart mode\n",
      "  _log_warning('Early stopping is not available in dart mode')\n"
     ]
    },
    {
     "name": "stdout",
     "output_type": "stream",
     "text": [
      "Fold: Tuning: n_train=246009, eval_set=61502\n"
     ]
    },
    {
     "name": "stderr",
     "output_type": "stream",
     "text": [
      "C:\\Users\\Paulius\\AppData\\Local\\pypoetry\\Cache\\virtualenvs\\ppuodz-ml-4-1-dqELbViF-py3.12\\Lib\\site-packages\\lightgbm\\callback.py:325: UserWarning: Early stopping is not available in dart mode\n",
      "  _log_warning('Early stopping is not available in dart mode')\n"
     ]
    },
    {
     "name": "stdout",
     "output_type": "stream",
     "text": [
      "Fold: Tuning: n_train=246009, eval_set=61502\n"
     ]
    },
    {
     "name": "stderr",
     "output_type": "stream",
     "text": [
      "C:\\Users\\Paulius\\AppData\\Local\\pypoetry\\Cache\\virtualenvs\\ppuodz-ml-4-1-dqELbViF-py3.12\\Lib\\site-packages\\lightgbm\\callback.py:325: UserWarning: Early stopping is not available in dart mode\n",
      "  _log_warning('Early stopping is not available in dart mode')\n"
     ]
    },
    {
     "name": "stdout",
     "output_type": "stream",
     "text": [
      "Fold: Tuning: n_train=246009, eval_set=61502\n"
     ]
    },
    {
     "name": "stderr",
     "output_type": "stream",
     "text": [
      "C:\\Users\\Paulius\\AppData\\Local\\pypoetry\\Cache\\virtualenvs\\ppuodz-ml-4-1-dqELbViF-py3.12\\Lib\\site-packages\\lightgbm\\callback.py:325: UserWarning: Early stopping is not available in dart mode\n",
      "  _log_warning('Early stopping is not available in dart mode')\n"
     ]
    },
    {
     "name": "stdout",
     "output_type": "stream",
     "text": [
      "Fold: Tuning: n_train=246009, eval_set=61502\n",
      "Tune: val_score:0.7732, std_test_score:0.00163 train_set_score:0.8425\n",
      "folds val/train: [0.7754, 0.7708, 0.7719, 0.7734, 0.7744] / [0.8433, 0.8433, 0.8425, 0.8428, 0.8406], mean fold time: 18.03\n"
     ]
    },
    {
     "name": "stderr",
     "output_type": "stream",
     "text": [
      "[I 2024-04-30 14:26:31,031] Trial 22 finished with value: 0.7731975885382104 and parameters: {'model__class_weight': 'balanced', 'model__objective': 'binary', 'model__boosting_type': 'dart', 'model__n_estimators': 400, 'model__learning_rate': 0.25, 'model__max_depth': 8, 'model__num_leaves': 56, 'model__min_gain_to_split': 5.5, 'model__min_data_in_leaf': 2900, 'model__lambda_l1': 10, 'model__lambda_l2': 110, 'model__bagging_fraction': 0.5, 'model__feature_fraction': 0.30000000000000004, 'model__max_bin': 450, 'model__drop_rate': 0.42500000000000004}. Best is trial 21 with value: 0.7744710826089047.\n",
      "C:\\Users\\Paulius\\AppData\\Local\\pypoetry\\Cache\\virtualenvs\\ppuodz-ml-4-1-dqELbViF-py3.12\\Lib\\site-packages\\lightgbm\\callback.py:325: UserWarning: Early stopping is not available in dart mode\n",
      "  _log_warning('Early stopping is not available in dart mode')\n"
     ]
    },
    {
     "name": "stdout",
     "output_type": "stream",
     "text": [
      "Fold: Tuning: n_train=246008, eval_set=61503\n"
     ]
    },
    {
     "name": "stderr",
     "output_type": "stream",
     "text": [
      "C:\\Users\\Paulius\\AppData\\Local\\pypoetry\\Cache\\virtualenvs\\ppuodz-ml-4-1-dqELbViF-py3.12\\Lib\\site-packages\\lightgbm\\callback.py:325: UserWarning: Early stopping is not available in dart mode\n",
      "  _log_warning('Early stopping is not available in dart mode')\n"
     ]
    },
    {
     "name": "stdout",
     "output_type": "stream",
     "text": [
      "Fold: Tuning: n_train=246009, eval_set=61502\n"
     ]
    },
    {
     "name": "stderr",
     "output_type": "stream",
     "text": [
      "C:\\Users\\Paulius\\AppData\\Local\\pypoetry\\Cache\\virtualenvs\\ppuodz-ml-4-1-dqELbViF-py3.12\\Lib\\site-packages\\lightgbm\\callback.py:325: UserWarning: Early stopping is not available in dart mode\n",
      "  _log_warning('Early stopping is not available in dart mode')\n"
     ]
    },
    {
     "name": "stdout",
     "output_type": "stream",
     "text": [
      "Fold: Tuning: n_train=246009, eval_set=61502\n"
     ]
    },
    {
     "name": "stderr",
     "output_type": "stream",
     "text": [
      "C:\\Users\\Paulius\\AppData\\Local\\pypoetry\\Cache\\virtualenvs\\ppuodz-ml-4-1-dqELbViF-py3.12\\Lib\\site-packages\\lightgbm\\callback.py:325: UserWarning: Early stopping is not available in dart mode\n",
      "  _log_warning('Early stopping is not available in dart mode')\n"
     ]
    },
    {
     "name": "stdout",
     "output_type": "stream",
     "text": [
      "Fold: Tuning: n_train=246009, eval_set=61502\n"
     ]
    },
    {
     "name": "stderr",
     "output_type": "stream",
     "text": [
      "C:\\Users\\Paulius\\AppData\\Local\\pypoetry\\Cache\\virtualenvs\\ppuodz-ml-4-1-dqELbViF-py3.12\\Lib\\site-packages\\lightgbm\\callback.py:325: UserWarning: Early stopping is not available in dart mode\n",
      "  _log_warning('Early stopping is not available in dart mode')\n"
     ]
    },
    {
     "name": "stdout",
     "output_type": "stream",
     "text": [
      "Fold: Tuning: n_train=246009, eval_set=61502\n",
      "Tune: val_score:0.7736, std_test_score:0.00140 train_set_score:0.8264\n",
      "folds val/train: [0.7753, 0.7721, 0.7719, 0.7739, 0.7748] / [0.8266, 0.8246, 0.8273, 0.8272, 0.8262], mean fold time: 20.32\n"
     ]
    },
    {
     "name": "stderr",
     "output_type": "stream",
     "text": [
      "[I 2024-04-30 14:28:13,425] Trial 23 finished with value: 0.7736188555317012 and parameters: {'model__class_weight': 'balanced', 'model__objective': 'binary', 'model__boosting_type': 'dart', 'model__n_estimators': 400, 'model__learning_rate': 0.27, 'model__max_depth': 9, 'model__num_leaves': 80, 'model__min_gain_to_split': 5.5, 'model__min_data_in_leaf': 2400, 'model__lambda_l1': 40, 'model__lambda_l2': 95, 'model__bagging_fraction': 0.5, 'model__feature_fraction': 0.30000000000000004, 'model__max_bin': 425, 'model__drop_rate': 0.45}. Best is trial 21 with value: 0.7744710826089047.\n",
      "C:\\Users\\Paulius\\AppData\\Local\\pypoetry\\Cache\\virtualenvs\\ppuodz-ml-4-1-dqELbViF-py3.12\\Lib\\site-packages\\lightgbm\\callback.py:325: UserWarning: Early stopping is not available in dart mode\n",
      "  _log_warning('Early stopping is not available in dart mode')\n"
     ]
    },
    {
     "name": "stdout",
     "output_type": "stream",
     "text": [
      "Fold: Tuning: n_train=246008, eval_set=61503\n"
     ]
    },
    {
     "name": "stderr",
     "output_type": "stream",
     "text": [
      "C:\\Users\\Paulius\\AppData\\Local\\pypoetry\\Cache\\virtualenvs\\ppuodz-ml-4-1-dqELbViF-py3.12\\Lib\\site-packages\\lightgbm\\callback.py:325: UserWarning: Early stopping is not available in dart mode\n",
      "  _log_warning('Early stopping is not available in dart mode')\n"
     ]
    },
    {
     "name": "stdout",
     "output_type": "stream",
     "text": [
      "Fold: Tuning: n_train=246009, eval_set=61502\n"
     ]
    },
    {
     "name": "stderr",
     "output_type": "stream",
     "text": [
      "C:\\Users\\Paulius\\AppData\\Local\\pypoetry\\Cache\\virtualenvs\\ppuodz-ml-4-1-dqELbViF-py3.12\\Lib\\site-packages\\lightgbm\\callback.py:325: UserWarning: Early stopping is not available in dart mode\n",
      "  _log_warning('Early stopping is not available in dart mode')\n"
     ]
    },
    {
     "name": "stdout",
     "output_type": "stream",
     "text": [
      "Fold: Tuning: n_train=246009, eval_set=61502\n"
     ]
    },
    {
     "name": "stderr",
     "output_type": "stream",
     "text": [
      "C:\\Users\\Paulius\\AppData\\Local\\pypoetry\\Cache\\virtualenvs\\ppuodz-ml-4-1-dqELbViF-py3.12\\Lib\\site-packages\\lightgbm\\callback.py:325: UserWarning: Early stopping is not available in dart mode\n",
      "  _log_warning('Early stopping is not available in dart mode')\n"
     ]
    },
    {
     "name": "stdout",
     "output_type": "stream",
     "text": [
      "Fold: Tuning: n_train=246009, eval_set=61502\n"
     ]
    },
    {
     "name": "stderr",
     "output_type": "stream",
     "text": [
      "C:\\Users\\Paulius\\AppData\\Local\\pypoetry\\Cache\\virtualenvs\\ppuodz-ml-4-1-dqELbViF-py3.12\\Lib\\site-packages\\lightgbm\\callback.py:325: UserWarning: Early stopping is not available in dart mode\n",
      "  _log_warning('Early stopping is not available in dart mode')\n"
     ]
    },
    {
     "name": "stdout",
     "output_type": "stream",
     "text": [
      "Fold: Tuning: n_train=246009, eval_set=61502\n",
      "Tune: val_score:0.7743, std_test_score:0.00114 train_set_score:0.8227\n",
      "folds val/train: [0.7754, 0.7741, 0.7725, 0.7737, 0.7756] / [0.8235, 0.8217, 0.8219, 0.8236, 0.8225], mean fold time: 24.82\n"
     ]
    },
    {
     "name": "stderr",
     "output_type": "stream",
     "text": [
      "[I 2024-04-30 14:30:18,349] Trial 24 finished with value: 0.7742569892640564 and parameters: {'model__class_weight': 'balanced', 'model__objective': 'binary', 'model__boosting_type': 'dart', 'model__n_estimators': 500, 'model__learning_rate': 0.28, 'model__max_depth': 9, 'model__num_leaves': 40, 'model__min_gain_to_split': 5.5, 'model__min_data_in_leaf': 3000, 'model__lambda_l1': 40, 'model__lambda_l2': 100, 'model__bagging_fraction': 0.5, 'model__feature_fraction': 0.30000000000000004, 'model__max_bin': 350, 'model__drop_rate': 0.35000000000000003}. Best is trial 21 with value: 0.7744710826089047.\n",
      "C:\\Users\\Paulius\\AppData\\Local\\pypoetry\\Cache\\virtualenvs\\ppuodz-ml-4-1-dqELbViF-py3.12\\Lib\\site-packages\\lightgbm\\callback.py:325: UserWarning: Early stopping is not available in dart mode\n",
      "  _log_warning('Early stopping is not available in dart mode')\n"
     ]
    },
    {
     "name": "stdout",
     "output_type": "stream",
     "text": [
      "Fold: Tuning: n_train=246008, eval_set=61503\n"
     ]
    },
    {
     "name": "stderr",
     "output_type": "stream",
     "text": [
      "C:\\Users\\Paulius\\AppData\\Local\\pypoetry\\Cache\\virtualenvs\\ppuodz-ml-4-1-dqELbViF-py3.12\\Lib\\site-packages\\lightgbm\\callback.py:325: UserWarning: Early stopping is not available in dart mode\n",
      "  _log_warning('Early stopping is not available in dart mode')\n"
     ]
    },
    {
     "name": "stdout",
     "output_type": "stream",
     "text": [
      "Fold: Tuning: n_train=246009, eval_set=61502\n"
     ]
    },
    {
     "name": "stderr",
     "output_type": "stream",
     "text": [
      "C:\\Users\\Paulius\\AppData\\Local\\pypoetry\\Cache\\virtualenvs\\ppuodz-ml-4-1-dqELbViF-py3.12\\Lib\\site-packages\\lightgbm\\callback.py:325: UserWarning: Early stopping is not available in dart mode\n",
      "  _log_warning('Early stopping is not available in dart mode')\n"
     ]
    },
    {
     "name": "stdout",
     "output_type": "stream",
     "text": [
      "Fold: Tuning: n_train=246009, eval_set=61502\n"
     ]
    },
    {
     "name": "stderr",
     "output_type": "stream",
     "text": [
      "C:\\Users\\Paulius\\AppData\\Local\\pypoetry\\Cache\\virtualenvs\\ppuodz-ml-4-1-dqELbViF-py3.12\\Lib\\site-packages\\lightgbm\\callback.py:325: UserWarning: Early stopping is not available in dart mode\n",
      "  _log_warning('Early stopping is not available in dart mode')\n"
     ]
    },
    {
     "name": "stdout",
     "output_type": "stream",
     "text": [
      "Fold: Tuning: n_train=246009, eval_set=61502\n"
     ]
    },
    {
     "name": "stderr",
     "output_type": "stream",
     "text": [
      "C:\\Users\\Paulius\\AppData\\Local\\pypoetry\\Cache\\virtualenvs\\ppuodz-ml-4-1-dqELbViF-py3.12\\Lib\\site-packages\\lightgbm\\callback.py:325: UserWarning: Early stopping is not available in dart mode\n",
      "  _log_warning('Early stopping is not available in dart mode')\n"
     ]
    },
    {
     "name": "stdout",
     "output_type": "stream",
     "text": [
      "Fold: Tuning: n_train=246009, eval_set=61502\n",
      "Tune: val_score:0.7730, std_test_score:0.00176 train_set_score:0.8582\n",
      "folds val/train: [0.776, 0.7708, 0.772, 0.7735, 0.7727] / [0.8573, 0.8581, 0.859, 0.8597, 0.8572], mean fold time: 35.85\n"
     ]
    },
    {
     "name": "stderr",
     "output_type": "stream",
     "text": [
      "[I 2024-04-30 14:33:18,399] Trial 25 finished with value: 0.772998044701975 and parameters: {'model__class_weight': 'balanced', 'model__objective': 'binary', 'model__boosting_type': 'dart', 'model__n_estimators': 700, 'model__learning_rate': 0.3, 'model__max_depth': 9, 'model__num_leaves': 40, 'model__min_gain_to_split': 2.5, 'model__min_data_in_leaf': 3000, 'model__lambda_l1': 25, 'model__lambda_l2': 110, 'model__bagging_fraction': 0.4, 'model__feature_fraction': 0.2, 'model__max_bin': 375, 'model__drop_rate': 0.325}. Best is trial 21 with value: 0.7744710826089047.\n",
      "C:\\Users\\Paulius\\AppData\\Local\\pypoetry\\Cache\\virtualenvs\\ppuodz-ml-4-1-dqELbViF-py3.12\\Lib\\site-packages\\lightgbm\\callback.py:325: UserWarning: Early stopping is not available in dart mode\n",
      "  _log_warning('Early stopping is not available in dart mode')\n"
     ]
    },
    {
     "name": "stdout",
     "output_type": "stream",
     "text": [
      "Fold: Tuning: n_train=246008, eval_set=61503\n"
     ]
    },
    {
     "name": "stderr",
     "output_type": "stream",
     "text": [
      "C:\\Users\\Paulius\\AppData\\Local\\pypoetry\\Cache\\virtualenvs\\ppuodz-ml-4-1-dqELbViF-py3.12\\Lib\\site-packages\\lightgbm\\callback.py:325: UserWarning: Early stopping is not available in dart mode\n",
      "  _log_warning('Early stopping is not available in dart mode')\n"
     ]
    },
    {
     "name": "stdout",
     "output_type": "stream",
     "text": [
      "Fold: Tuning: n_train=246009, eval_set=61502\n"
     ]
    },
    {
     "name": "stderr",
     "output_type": "stream",
     "text": [
      "C:\\Users\\Paulius\\AppData\\Local\\pypoetry\\Cache\\virtualenvs\\ppuodz-ml-4-1-dqELbViF-py3.12\\Lib\\site-packages\\lightgbm\\callback.py:325: UserWarning: Early stopping is not available in dart mode\n",
      "  _log_warning('Early stopping is not available in dart mode')\n"
     ]
    },
    {
     "name": "stdout",
     "output_type": "stream",
     "text": [
      "Fold: Tuning: n_train=246009, eval_set=61502\n"
     ]
    },
    {
     "name": "stderr",
     "output_type": "stream",
     "text": [
      "C:\\Users\\Paulius\\AppData\\Local\\pypoetry\\Cache\\virtualenvs\\ppuodz-ml-4-1-dqELbViF-py3.12\\Lib\\site-packages\\lightgbm\\callback.py:325: UserWarning: Early stopping is not available in dart mode\n",
      "  _log_warning('Early stopping is not available in dart mode')\n"
     ]
    },
    {
     "name": "stdout",
     "output_type": "stream",
     "text": [
      "Fold: Tuning: n_train=246009, eval_set=61502\n"
     ]
    },
    {
     "name": "stderr",
     "output_type": "stream",
     "text": [
      "C:\\Users\\Paulius\\AppData\\Local\\pypoetry\\Cache\\virtualenvs\\ppuodz-ml-4-1-dqELbViF-py3.12\\Lib\\site-packages\\lightgbm\\callback.py:325: UserWarning: Early stopping is not available in dart mode\n",
      "  _log_warning('Early stopping is not available in dart mode')\n"
     ]
    },
    {
     "name": "stdout",
     "output_type": "stream",
     "text": [
      "Fold: Tuning: n_train=246009, eval_set=61502\n",
      "Tune: val_score:0.7740, std_test_score:0.00162 train_set_score:0.8036\n",
      "folds val/train: [0.7761, 0.7716, 0.7726, 0.7746, 0.7748] / [0.8038, 0.8028, 0.804, 0.8039, 0.8036], mean fold time: 19.51\n"
     ]
    },
    {
     "name": "stderr",
     "output_type": "stream",
     "text": [
      "[I 2024-04-30 14:34:56,749] Trial 26 finished with value: 0.7739512652732408 and parameters: {'model__class_weight': 'balanced', 'model__objective': 'binary', 'model__boosting_type': 'dart', 'model__n_estimators': 500, 'model__learning_rate': 0.22, 'model__max_depth': 10, 'model__num_leaves': 32, 'model__min_gain_to_split': 8.5, 'model__min_data_in_leaf': 2500, 'model__lambda_l1': 45, 'model__lambda_l2': 100, 'model__bagging_fraction': 0.4, 'model__feature_fraction': 0.2, 'model__max_bin': 325, 'model__drop_rate': 0.15000000000000002}. Best is trial 21 with value: 0.7744710826089047.\n",
      "C:\\Users\\Paulius\\AppData\\Local\\pypoetry\\Cache\\virtualenvs\\ppuodz-ml-4-1-dqELbViF-py3.12\\Lib\\site-packages\\lightgbm\\callback.py:325: UserWarning: Early stopping is not available in dart mode\n",
      "  _log_warning('Early stopping is not available in dart mode')\n"
     ]
    },
    {
     "name": "stdout",
     "output_type": "stream",
     "text": [
      "Fold: Tuning: n_train=246008, eval_set=61503\n"
     ]
    },
    {
     "name": "stderr",
     "output_type": "stream",
     "text": [
      "C:\\Users\\Paulius\\AppData\\Local\\pypoetry\\Cache\\virtualenvs\\ppuodz-ml-4-1-dqELbViF-py3.12\\Lib\\site-packages\\lightgbm\\callback.py:325: UserWarning: Early stopping is not available in dart mode\n",
      "  _log_warning('Early stopping is not available in dart mode')\n"
     ]
    },
    {
     "name": "stdout",
     "output_type": "stream",
     "text": [
      "Fold: Tuning: n_train=246009, eval_set=61502\n"
     ]
    },
    {
     "name": "stderr",
     "output_type": "stream",
     "text": [
      "C:\\Users\\Paulius\\AppData\\Local\\pypoetry\\Cache\\virtualenvs\\ppuodz-ml-4-1-dqELbViF-py3.12\\Lib\\site-packages\\lightgbm\\callback.py:325: UserWarning: Early stopping is not available in dart mode\n",
      "  _log_warning('Early stopping is not available in dart mode')\n"
     ]
    },
    {
     "name": "stdout",
     "output_type": "stream",
     "text": [
      "Fold: Tuning: n_train=246009, eval_set=61502\n"
     ]
    },
    {
     "name": "stderr",
     "output_type": "stream",
     "text": [
      "C:\\Users\\Paulius\\AppData\\Local\\pypoetry\\Cache\\virtualenvs\\ppuodz-ml-4-1-dqELbViF-py3.12\\Lib\\site-packages\\lightgbm\\callback.py:325: UserWarning: Early stopping is not available in dart mode\n",
      "  _log_warning('Early stopping is not available in dart mode')\n"
     ]
    },
    {
     "name": "stdout",
     "output_type": "stream",
     "text": [
      "Fold: Tuning: n_train=246009, eval_set=61502\n"
     ]
    },
    {
     "name": "stderr",
     "output_type": "stream",
     "text": [
      "C:\\Users\\Paulius\\AppData\\Local\\pypoetry\\Cache\\virtualenvs\\ppuodz-ml-4-1-dqELbViF-py3.12\\Lib\\site-packages\\lightgbm\\callback.py:325: UserWarning: Early stopping is not available in dart mode\n",
      "  _log_warning('Early stopping is not available in dart mode')\n"
     ]
    },
    {
     "name": "stdout",
     "output_type": "stream",
     "text": [
      "Fold: Tuning: n_train=246009, eval_set=61502\n",
      "Tune: val_score:0.7738, std_test_score:0.00148 train_set_score:0.7986\n",
      "folds val/train: [0.7757, 0.772, 0.7726, 0.7734, 0.7754] / [0.7985, 0.7979, 0.7994, 0.7984, 0.7986], mean fold time: 5.78\n"
     ]
    },
    {
     "name": "stderr",
     "output_type": "stream",
     "text": [
      "[I 2024-04-30 14:35:26,433] Trial 27 finished with value: 0.7738168190120491 and parameters: {'model__class_weight': 'balanced', 'model__objective': 'binary', 'model__boosting_type': 'dart', 'model__n_estimators': 550, 'model__learning_rate': 0.27, 'model__max_depth': 10, 'model__num_leaves': 64, 'model__min_gain_to_split': 8.0, 'model__min_data_in_leaf': 2500, 'model__lambda_l1': 75, 'model__lambda_l2': 100, 'model__bagging_fraction': 0.4, 'model__feature_fraction': 0.2, 'model__max_bin': 300, 'model__drop_rate': 0.025}. Best is trial 21 with value: 0.7744710826089047.\n",
      "C:\\Users\\Paulius\\AppData\\Local\\pypoetry\\Cache\\virtualenvs\\ppuodz-ml-4-1-dqELbViF-py3.12\\Lib\\site-packages\\lightgbm\\callback.py:325: UserWarning: Early stopping is not available in dart mode\n",
      "  _log_warning('Early stopping is not available in dart mode')\n"
     ]
    },
    {
     "name": "stdout",
     "output_type": "stream",
     "text": [
      "Fold: Tuning: n_train=246008, eval_set=61503\n"
     ]
    },
    {
     "name": "stderr",
     "output_type": "stream",
     "text": [
      "C:\\Users\\Paulius\\AppData\\Local\\pypoetry\\Cache\\virtualenvs\\ppuodz-ml-4-1-dqELbViF-py3.12\\Lib\\site-packages\\lightgbm\\callback.py:325: UserWarning: Early stopping is not available in dart mode\n",
      "  _log_warning('Early stopping is not available in dart mode')\n"
     ]
    },
    {
     "name": "stdout",
     "output_type": "stream",
     "text": [
      "Fold: Tuning: n_train=246009, eval_set=61502\n"
     ]
    },
    {
     "name": "stderr",
     "output_type": "stream",
     "text": [
      "C:\\Users\\Paulius\\AppData\\Local\\pypoetry\\Cache\\virtualenvs\\ppuodz-ml-4-1-dqELbViF-py3.12\\Lib\\site-packages\\lightgbm\\callback.py:325: UserWarning: Early stopping is not available in dart mode\n",
      "  _log_warning('Early stopping is not available in dart mode')\n"
     ]
    },
    {
     "name": "stdout",
     "output_type": "stream",
     "text": [
      "Fold: Tuning: n_train=246009, eval_set=61502\n"
     ]
    },
    {
     "name": "stderr",
     "output_type": "stream",
     "text": [
      "C:\\Users\\Paulius\\AppData\\Local\\pypoetry\\Cache\\virtualenvs\\ppuodz-ml-4-1-dqELbViF-py3.12\\Lib\\site-packages\\lightgbm\\callback.py:325: UserWarning: Early stopping is not available in dart mode\n",
      "  _log_warning('Early stopping is not available in dart mode')\n"
     ]
    },
    {
     "name": "stdout",
     "output_type": "stream",
     "text": [
      "Fold: Tuning: n_train=246009, eval_set=61502\n"
     ]
    },
    {
     "name": "stderr",
     "output_type": "stream",
     "text": [
      "C:\\Users\\Paulius\\AppData\\Local\\pypoetry\\Cache\\virtualenvs\\ppuodz-ml-4-1-dqELbViF-py3.12\\Lib\\site-packages\\lightgbm\\callback.py:325: UserWarning: Early stopping is not available in dart mode\n",
      "  _log_warning('Early stopping is not available in dart mode')\n"
     ]
    },
    {
     "name": "stdout",
     "output_type": "stream",
     "text": [
      "Fold: Tuning: n_train=246009, eval_set=61502\n",
      "Tune: val_score:0.7751, std_test_score:0.00160 train_set_score:0.8100\n",
      "folds val/train: [0.7774, 0.7736, 0.7732, 0.7748, 0.7763] / [0.8103, 0.8095, 0.81, 0.81, 0.8101], mean fold time: 21.19\n"
     ]
    },
    {
     "name": "stderr",
     "output_type": "stream",
     "text": [
      "[I 2024-04-30 14:37:13,206] Trial 28 finished with value: 0.77509084497967 and parameters: {'model__class_weight': 'balanced', 'model__objective': 'binary', 'model__boosting_type': 'dart', 'model__n_estimators': 600, 'model__learning_rate': 0.26, 'model__max_depth': 10, 'model__num_leaves': 24, 'model__min_gain_to_split': 6.0, 'model__min_data_in_leaf': 2300, 'model__lambda_l1': 45, 'model__lambda_l2': 95, 'model__bagging_fraction': 0.30000000000000004, 'model__feature_fraction': 0.2, 'model__max_bin': 325, 'model__drop_rate': 0.125}. Best is trial 28 with value: 0.77509084497967.\n",
      "C:\\Users\\Paulius\\AppData\\Local\\pypoetry\\Cache\\virtualenvs\\ppuodz-ml-4-1-dqELbViF-py3.12\\Lib\\site-packages\\lightgbm\\callback.py:325: UserWarning: Early stopping is not available in dart mode\n",
      "  _log_warning('Early stopping is not available in dart mode')\n"
     ]
    },
    {
     "name": "stdout",
     "output_type": "stream",
     "text": [
      "Fold: Tuning: n_train=246008, eval_set=61503\n"
     ]
    },
    {
     "name": "stderr",
     "output_type": "stream",
     "text": [
      "C:\\Users\\Paulius\\AppData\\Local\\pypoetry\\Cache\\virtualenvs\\ppuodz-ml-4-1-dqELbViF-py3.12\\Lib\\site-packages\\lightgbm\\callback.py:325: UserWarning: Early stopping is not available in dart mode\n",
      "  _log_warning('Early stopping is not available in dart mode')\n"
     ]
    },
    {
     "name": "stdout",
     "output_type": "stream",
     "text": [
      "Fold: Tuning: n_train=246009, eval_set=61502\n"
     ]
    },
    {
     "name": "stderr",
     "output_type": "stream",
     "text": [
      "C:\\Users\\Paulius\\AppData\\Local\\pypoetry\\Cache\\virtualenvs\\ppuodz-ml-4-1-dqELbViF-py3.12\\Lib\\site-packages\\lightgbm\\callback.py:325: UserWarning: Early stopping is not available in dart mode\n",
      "  _log_warning('Early stopping is not available in dart mode')\n"
     ]
    },
    {
     "name": "stdout",
     "output_type": "stream",
     "text": [
      "Fold: Tuning: n_train=246009, eval_set=61502\n"
     ]
    },
    {
     "name": "stderr",
     "output_type": "stream",
     "text": [
      "C:\\Users\\Paulius\\AppData\\Local\\pypoetry\\Cache\\virtualenvs\\ppuodz-ml-4-1-dqELbViF-py3.12\\Lib\\site-packages\\lightgbm\\callback.py:325: UserWarning: Early stopping is not available in dart mode\n",
      "  _log_warning('Early stopping is not available in dart mode')\n"
     ]
    },
    {
     "name": "stdout",
     "output_type": "stream",
     "text": [
      "Fold: Tuning: n_train=246009, eval_set=61502\n"
     ]
    },
    {
     "name": "stderr",
     "output_type": "stream",
     "text": [
      "C:\\Users\\Paulius\\AppData\\Local\\pypoetry\\Cache\\virtualenvs\\ppuodz-ml-4-1-dqELbViF-py3.12\\Lib\\site-packages\\lightgbm\\callback.py:325: UserWarning: Early stopping is not available in dart mode\n",
      "  _log_warning('Early stopping is not available in dart mode')\n"
     ]
    },
    {
     "name": "stdout",
     "output_type": "stream",
     "text": [
      "Fold: Tuning: n_train=246009, eval_set=61502\n",
      "Tune: val_score:0.7750, std_test_score:0.00135 train_set_score:0.8244\n",
      "folds val/train: [0.7767, 0.7738, 0.7732, 0.7752, 0.7762] / [0.824, 0.8238, 0.8252, 0.8246, 0.8244], mean fold time: 33.81\n"
     ]
    },
    {
     "name": "stderr",
     "output_type": "stream",
     "text": [
      "[I 2024-04-30 14:40:03,043] Trial 29 finished with value: 0.7750172313526884 and parameters: {'model__class_weight': 'balanced', 'model__objective': 'binary', 'model__boosting_type': 'dart', 'model__n_estimators': 850, 'model__learning_rate': 0.28, 'model__max_depth': 11, 'model__num_leaves': 112, 'model__min_gain_to_split': 6.0, 'model__min_data_in_leaf': 2700, 'model__lambda_l1': 55, 'model__lambda_l2': 65, 'model__bagging_fraction': 0.2, 'model__feature_fraction': 0.7, 'model__max_bin': 250, 'model__drop_rate': 0.125}. Best is trial 28 with value: 0.77509084497967.\n",
      "C:\\Users\\Paulius\\AppData\\Local\\pypoetry\\Cache\\virtualenvs\\ppuodz-ml-4-1-dqELbViF-py3.12\\Lib\\site-packages\\lightgbm\\callback.py:325: UserWarning: Early stopping is not available in dart mode\n",
      "  _log_warning('Early stopping is not available in dart mode')\n"
     ]
    },
    {
     "name": "stdout",
     "output_type": "stream",
     "text": [
      "Fold: Tuning: n_train=246008, eval_set=61503\n"
     ]
    },
    {
     "name": "stderr",
     "output_type": "stream",
     "text": [
      "C:\\Users\\Paulius\\AppData\\Local\\pypoetry\\Cache\\virtualenvs\\ppuodz-ml-4-1-dqELbViF-py3.12\\Lib\\site-packages\\lightgbm\\callback.py:325: UserWarning: Early stopping is not available in dart mode\n",
      "  _log_warning('Early stopping is not available in dart mode')\n"
     ]
    },
    {
     "name": "stdout",
     "output_type": "stream",
     "text": [
      "Fold: Tuning: n_train=246009, eval_set=61502\n"
     ]
    },
    {
     "name": "stderr",
     "output_type": "stream",
     "text": [
      "C:\\Users\\Paulius\\AppData\\Local\\pypoetry\\Cache\\virtualenvs\\ppuodz-ml-4-1-dqELbViF-py3.12\\Lib\\site-packages\\lightgbm\\callback.py:325: UserWarning: Early stopping is not available in dart mode\n",
      "  _log_warning('Early stopping is not available in dart mode')\n"
     ]
    }
   ],
   "execution_count": null
  },
  {
   "cell_type": "code",
   "source": [
    "for t, v in tuning_results.items():\n",
    "    display(t)\n",
    "    display(v.hyper_param_all_cv_results)\n",
    "\n"
   ],
   "metadata": {
    "collapsed": false,
    "jupyter": {
     "is_executing": true
    }
   },
   "id": "23fac5165a6b77dd",
   "outputs": [],
   "execution_count": null
  },
  {
   "cell_type": "code",
   "source": "tuning_results.keys()",
   "metadata": {
    "collapsed": false,
    "jupyter": {
     "is_executing": true
    }
   },
   "id": "27ceb3ef64dae1f2",
   "outputs": [],
   "execution_count": null
  },
  {
   "cell_type": "code",
   "source": [
    "# Results:\n",
    "\n",
    "# Only main dataset:\n",
    "# - top res      : 0.753\n",
    "# - full + gbdt  : 0.765\n",
    "# - full + dart  : 0.766\n"
   ],
   "metadata": {
    "collapsed": false,
    "jupyter": {
     "is_executing": true
    }
   },
   "id": "455694eed5002c55",
   "outputs": [],
   "execution_count": null
  },
  {
   "cell_type": "code",
   "source": [
    "from Draft.feature_builder_v2 import DatasetType\n",
    "\n",
    "importlib.reload(feature_builder_v2)\n",
    "features_matrix_full = feature_builder_v2.load_datasets_and_prepare_features(drop_meta_data=True,\n",
    "                                                                             ds_type=DatasetType.FULL)\n"
   ],
   "metadata": {
    "collapsed": false,
    "jupyter": {
     "is_executing": true
    }
   },
   "id": "fed6d85344fbd3e1",
   "outputs": [],
   "execution_count": null
  },
  {
   "cell_type": "code",
   "source": [
    "features_matrix_full"
   ],
   "metadata": {
    "collapsed": false,
    "jupyter": {
     "is_executing": true
    }
   },
   "id": "554658483974d14c",
   "outputs": [],
   "execution_count": null
  },
  {
   "cell_type": "code",
   "source": [],
   "metadata": {
    "collapsed": false,
    "jupyter": {
     "is_executing": true
    }
   },
   "id": "e88fb97a1bdb7db8",
   "outputs": [],
   "execution_count": null
  },
  {
   "cell_type": "code",
   "source": [],
   "metadata": {
    "collapsed": false,
    "jupyter": {
     "is_executing": true
    }
   },
   "id": "b8958a4e18afe0d4",
   "outputs": [],
   "execution_count": null
  },
  {
   "cell_type": "code",
   "source": [],
   "metadata": {
    "collapsed": false,
    "jupyter": {
     "is_executing": true
    }
   },
   "id": "f502809aea6263b",
   "outputs": [],
   "execution_count": null
  },
  {
   "cell_type": "code",
   "source": [],
   "metadata": {
    "collapsed": false,
    "jupyter": {
     "is_executing": true
    }
   },
   "id": "f2e21b82c3053120",
   "outputs": [],
   "execution_count": null
  },
  {
   "cell_type": "code",
   "source": [],
   "metadata": {
    "collapsed": false,
    "jupyter": {
     "is_executing": true
    }
   },
   "id": "4cbda67e3cec9bce",
   "outputs": [],
   "execution_count": null
  },
  {
   "cell_type": "code",
   "source": [
    "from Draft.feature_builder_v2 import DatasetType\n",
    "\n",
    "importlib.reload(feature_builder_v2)\n",
    "features_matrix_full = feature_builder_v2.load_datasets_and_prepare_features(drop_meta_data=True,\n",
    "                                                                             ds_type=DatasetType.FULL)\n",
    "features_matrix_base = feature_builder_v2.load_datasets_and_prepare_features(drop_meta_data=True,\n",
    "                                                                             ds_type=DatasetType.BASE)\n"
   ],
   "metadata": {
    "collapsed": false,
    "jupyter": {
     "is_executing": true
    }
   },
   "id": "3417c5b9b8374dd",
   "outputs": [],
   "execution_count": null
  },
  {
   "cell_type": "code",
   "source": [
    "features_matrix_full"
   ],
   "metadata": {
    "collapsed": false,
    "jupyter": {
     "is_executing": true
    }
   },
   "id": "af6d9fe4aba1c40",
   "outputs": [],
   "execution_count": null
  },
  {
   "cell_type": "code",
   "source": [
    "importlib.reload(feature_builder_v2)\n",
    "features_matrix = feature_builder_v2.load_datasets_and_prepare_features(drop_meta_data=True,\n",
    "                                                                        ds_type=feature_builder_v2.DatasetType.BASE_ONLY_CREDIT_RATINGS)\n",
    "from shared import stats_utils\n",
    "\n",
    "stats_utils.nan_summary(features_matrix)"
   ],
   "metadata": {
    "collapsed": false,
    "jupyter": {
     "is_executing": true
    }
   },
   "id": "cdea310c0e82a4aa",
   "outputs": [],
   "execution_count": null
  },
  {
   "cell_type": "code",
   "source": [],
   "metadata": {
    "collapsed": false,
    "jupyter": {
     "is_executing": true
    }
   },
   "id": "37dad6ce569a8ada",
   "outputs": [],
   "execution_count": null
  }
 ],
 "metadata": {
  "kernelspec": {
   "display_name": "Python 3",
   "language": "python",
   "name": "python3"
  },
  "language_info": {
   "codemirror_mode": {
    "name": "ipython",
    "version": 2
   },
   "file_extension": ".py",
   "mimetype": "text/x-python",
   "name": "python",
   "nbconvert_exporter": "python",
   "pygments_lexer": "ipython2",
   "version": "2.7.6"
  }
 },
 "nbformat": 4,
 "nbformat_minor": 5
}
