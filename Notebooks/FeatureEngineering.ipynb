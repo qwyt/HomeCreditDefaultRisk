{
 "cells": [
  {
   "cell_type": "code",
   "execution_count": 1,
   "id": "initial_id",
   "metadata": {
    "collapsed": true,
    "ExecuteTime": {
     "end_time": "2024-04-02T12:51:09.636478550Z",
     "start_time": "2024-04-02T12:51:08.543128754Z"
    }
   },
   "outputs": [],
   "source": [
    "import pandas as pd\n",
    "import importlib\n",
    "import Draft.feature_builder as feature_builder"
   ]
  },
  {
   "cell_type": "code",
   "outputs": [],
   "source": [
    "application_df = pd.read_csv(\n",
    "    \"../home-credit-default-risk/application_train.csv\", nrows=2500\n",
    ")\n",
    "bureau_df = pd.read_csv(\"../home-credit-default-risk/bureau.csv\")"
   ],
   "metadata": {
    "collapsed": false,
    "ExecuteTime": {
     "end_time": "2024-04-02T12:51:14.464288288Z",
     "start_time": "2024-04-02T12:51:12.841647251Z"
    }
   },
   "id": "12bfa9d7e91ecda",
   "execution_count": 2
  },
  {
   "cell_type": "markdown",
   "source": [
    "### {bureau.csv}"
   ],
   "metadata": {
    "collapsed": false
   },
   "id": "a1d809fabdd40fd9"
  },
  {
   "cell_type": "code",
   "outputs": [
    {
     "name": "stderr",
     "output_type": "stream",
     "text": [
      "/home/paulius/miniconda3/envs/rapids_v2/lib/python3.10/site-packages/featuretools/entityset/entityset.py:1914: UserWarning: index SK_BUREAU_ID not found in dataframe, creating new integer column\n",
      "  warnings.warn(\n"
     ]
    }
   ],
   "source": [
    "importlib.reload(feature_builder)\n",
    "features_df = feature_builder.aggregate_bureu_features_dfs(\n",
    "    application_df=application_df, bureau_df=bureau_df\n",
    ")"
   ],
   "metadata": {
    "collapsed": false,
    "ExecuteTime": {
     "end_time": "2024-04-02T12:54:17.274987351Z",
     "start_time": "2024-04-02T12:54:13.768047053Z"
    }
   },
   "id": "e84529e4ea67b02a",
   "execution_count": 8
  },
  {
   "cell_type": "code",
   "outputs": [
    {
     "data": {
      "text/plain": "['SK_ID_CURR',\n 'TARGET',\n 'NAME_CONTRACT_TYPE',\n 'CODE_GENDER',\n 'FLAG_OWN_CAR',\n 'FLAG_OWN_REALTY',\n 'CNT_CHILDREN',\n 'AMT_INCOME_TOTAL',\n 'AMT_CREDIT',\n 'AMT_ANNUITY',\n 'AMT_GOODS_PRICE',\n 'NAME_TYPE_SUITE',\n 'NAME_INCOME_TYPE',\n 'NAME_EDUCATION_TYPE',\n 'NAME_FAMILY_STATUS',\n 'NAME_HOUSING_TYPE',\n 'REGION_POPULATION_RELATIVE',\n 'DAYS_BIRTH',\n 'DAYS_EMPLOYED',\n 'DAYS_REGISTRATION',\n 'DAYS_ID_PUBLISH',\n 'OWN_CAR_AGE',\n 'FLAG_MOBIL',\n 'FLAG_EMP_PHONE',\n 'FLAG_WORK_PHONE',\n 'FLAG_CONT_MOBILE',\n 'FLAG_PHONE',\n 'FLAG_EMAIL',\n 'OCCUPATION_TYPE',\n 'CNT_FAM_MEMBERS',\n 'REGION_RATING_CLIENT',\n 'REGION_RATING_CLIENT_W_CITY',\n 'WEEKDAY_APPR_PROCESS_START',\n 'HOUR_APPR_PROCESS_START',\n 'REG_REGION_NOT_LIVE_REGION',\n 'REG_REGION_NOT_WORK_REGION',\n 'LIVE_REGION_NOT_WORK_REGION',\n 'REG_CITY_NOT_LIVE_CITY',\n 'REG_CITY_NOT_WORK_CITY',\n 'LIVE_CITY_NOT_WORK_CITY',\n 'ORGANIZATION_TYPE',\n 'EXT_SOURCE_1',\n 'EXT_SOURCE_2',\n 'EXT_SOURCE_3',\n 'APARTMENTS_AVG',\n 'BASEMENTAREA_AVG',\n 'YEARS_BEGINEXPLUATATION_AVG',\n 'YEARS_BUILD_AVG',\n 'COMMONAREA_AVG',\n 'ELEVATORS_AVG',\n 'ENTRANCES_AVG',\n 'FLOORSMAX_AVG',\n 'FLOORSMIN_AVG',\n 'LANDAREA_AVG',\n 'LIVINGAPARTMENTS_AVG',\n 'LIVINGAREA_AVG',\n 'NONLIVINGAPARTMENTS_AVG',\n 'NONLIVINGAREA_AVG',\n 'APARTMENTS_MODE',\n 'BASEMENTAREA_MODE',\n 'YEARS_BEGINEXPLUATATION_MODE',\n 'YEARS_BUILD_MODE',\n 'COMMONAREA_MODE',\n 'ELEVATORS_MODE',\n 'ENTRANCES_MODE',\n 'FLOORSMAX_MODE',\n 'FLOORSMIN_MODE',\n 'LANDAREA_MODE',\n 'LIVINGAPARTMENTS_MODE',\n 'LIVINGAREA_MODE',\n 'NONLIVINGAPARTMENTS_MODE',\n 'NONLIVINGAREA_MODE',\n 'APARTMENTS_MEDI',\n 'BASEMENTAREA_MEDI',\n 'YEARS_BEGINEXPLUATATION_MEDI',\n 'YEARS_BUILD_MEDI',\n 'COMMONAREA_MEDI',\n 'ELEVATORS_MEDI',\n 'ENTRANCES_MEDI',\n 'FLOORSMAX_MEDI',\n 'FLOORSMIN_MEDI',\n 'LANDAREA_MEDI',\n 'LIVINGAPARTMENTS_MEDI',\n 'LIVINGAREA_MEDI',\n 'NONLIVINGAPARTMENTS_MEDI',\n 'NONLIVINGAREA_MEDI',\n 'FONDKAPREMONT_MODE',\n 'HOUSETYPE_MODE',\n 'TOTALAREA_MODE',\n 'WALLSMATERIAL_MODE',\n 'EMERGENCYSTATE_MODE',\n 'OBS_30_CNT_SOCIAL_CIRCLE',\n 'DEF_30_CNT_SOCIAL_CIRCLE',\n 'OBS_60_CNT_SOCIAL_CIRCLE',\n 'DEF_60_CNT_SOCIAL_CIRCLE',\n 'DAYS_LAST_PHONE_CHANGE',\n 'FLAG_DOCUMENT_2',\n 'FLAG_DOCUMENT_3',\n 'FLAG_DOCUMENT_4',\n 'FLAG_DOCUMENT_5',\n 'FLAG_DOCUMENT_6',\n 'FLAG_DOCUMENT_7',\n 'FLAG_DOCUMENT_8',\n 'FLAG_DOCUMENT_9',\n 'FLAG_DOCUMENT_10',\n 'FLAG_DOCUMENT_11',\n 'FLAG_DOCUMENT_12',\n 'FLAG_DOCUMENT_13',\n 'FLAG_DOCUMENT_14',\n 'FLAG_DOCUMENT_15',\n 'FLAG_DOCUMENT_16',\n 'FLAG_DOCUMENT_17',\n 'FLAG_DOCUMENT_18',\n 'FLAG_DOCUMENT_19',\n 'FLAG_DOCUMENT_20',\n 'FLAG_DOCUMENT_21',\n 'AMT_REQ_CREDIT_BUREAU_HOUR',\n 'AMT_REQ_CREDIT_BUREAU_DAY',\n 'AMT_REQ_CREDIT_BUREAU_WEEK',\n 'AMT_REQ_CREDIT_BUREAU_MON',\n 'AMT_REQ_CREDIT_BUREAU_QRT',\n 'AMT_REQ_CREDIT_BUREAU_YEAR',\n 'COUNT(bureau)',\n 'MAX(bureau.AMT_ANNUITY)',\n 'MAX(bureau.AMT_CREDIT_MAX_OVERDUE)',\n 'MAX(bureau.AMT_CREDIT_SUM)',\n 'MAX(bureau.AMT_CREDIT_SUM_DEBT)',\n 'MAX(bureau.AMT_CREDIT_SUM_LIMIT)',\n 'MAX(bureau.AMT_CREDIT_SUM_OVERDUE)',\n 'MAX(bureau.CNT_CREDIT_PROLONG)',\n 'MAX(bureau.CREDIT_DAY_OVERDUE)',\n 'MAX(bureau.DAYS_CREDIT)',\n 'MAX(bureau.DAYS_CREDIT_ENDDATE)',\n 'MAX(bureau.DAYS_CREDIT_UPDATE)',\n 'MAX(bureau.DAYS_ENDDATE_FACT)',\n 'MAX(bureau.SK_ID_BUREAU)',\n 'MEAN(bureau.AMT_ANNUITY)',\n 'MEAN(bureau.AMT_CREDIT_MAX_OVERDUE)',\n 'MEAN(bureau.AMT_CREDIT_SUM)',\n 'MEAN(bureau.AMT_CREDIT_SUM_DEBT)',\n 'MEAN(bureau.AMT_CREDIT_SUM_LIMIT)',\n 'MEAN(bureau.AMT_CREDIT_SUM_OVERDUE)',\n 'MEAN(bureau.CNT_CREDIT_PROLONG)',\n 'MEAN(bureau.CREDIT_DAY_OVERDUE)',\n 'MEAN(bureau.DAYS_CREDIT)',\n 'MEAN(bureau.DAYS_CREDIT_ENDDATE)',\n 'MEAN(bureau.DAYS_CREDIT_UPDATE)',\n 'MEAN(bureau.DAYS_ENDDATE_FACT)',\n 'MEAN(bureau.SK_ID_BUREAU)',\n 'MIN(bureau.AMT_ANNUITY)',\n 'MIN(bureau.AMT_CREDIT_MAX_OVERDUE)',\n 'MIN(bureau.AMT_CREDIT_SUM)',\n 'MIN(bureau.AMT_CREDIT_SUM_DEBT)',\n 'MIN(bureau.AMT_CREDIT_SUM_LIMIT)',\n 'MIN(bureau.AMT_CREDIT_SUM_OVERDUE)',\n 'MIN(bureau.CNT_CREDIT_PROLONG)',\n 'MIN(bureau.CREDIT_DAY_OVERDUE)',\n 'MIN(bureau.DAYS_CREDIT)',\n 'MIN(bureau.DAYS_CREDIT_ENDDATE)',\n 'MIN(bureau.DAYS_CREDIT_UPDATE)',\n 'MIN(bureau.DAYS_ENDDATE_FACT)',\n 'MIN(bureau.SK_ID_BUREAU)',\n 'DAYS_SINCE_LAST_DEFAULT']"
     },
     "execution_count": 9,
     "metadata": {},
     "output_type": "execute_result"
    }
   ],
   "source": [
    "list(features_df.columns)"
   ],
   "metadata": {
    "collapsed": false,
    "ExecuteTime": {
     "end_time": "2024-04-02T12:54:18.856626927Z",
     "start_time": "2024-04-02T12:54:18.846438260Z"
    }
   },
   "id": "60d7002cd9635e65",
   "execution_count": 9
  },
  {
   "cell_type": "markdown",
   "source": [
    "#### Previous Client History:\n",
    "\n",
    "##### 1. How many clients have any previous loans in {BUREU DF}?"
   ],
   "metadata": {
    "collapsed": false
   },
   "id": "b14b9b4aacade706"
  },
  {
   "cell_type": "code",
   "outputs": [
    {
     "data": {
      "text/plain": "0      NaN\n1      NaN\n2      NaN\n3      NaN\n4      NaN\n        ..\n2495   NaN\n2496   NaN\n2497   NaN\n2498   NaN\n2499   NaN\nName: DAYS_SINCE_LAST_DEFAULT, Length: 2500, dtype: float64"
     },
     "execution_count": 6,
     "metadata": {},
     "output_type": "execute_result"
    }
   ],
   "source": [
    "# Chart showing the proportion of clients that had any loans and the proportion of default within those\n",
    "\n",
    "features_df[\"DAYS_SINCE_LAST_DEFAULT\"]\n",
    "\n",
    "# TODO: used shared graph\n",
    "# Show donut chart instead"
   ],
   "metadata": {
    "collapsed": false,
    "ExecuteTime": {
     "end_time": "2024-04-02T12:51:49.705052824Z",
     "start_time": "2024-04-02T12:51:49.701913737Z"
    }
   },
   "id": "c94fcc7bd0da922e",
   "execution_count": 6
  },
  {
   "cell_type": "markdown",
   "source": [],
   "metadata": {
    "collapsed": false
   },
   "id": "f9435caaf0b1aa2a"
  }
 ],
 "metadata": {
  "kernelspec": {
   "display_name": "Python 3",
   "language": "python",
   "name": "python3"
  },
  "language_info": {
   "codemirror_mode": {
    "name": "ipython",
    "version": 2
   },
   "file_extension": ".py",
   "mimetype": "text/x-python",
   "name": "python",
   "nbconvert_exporter": "python",
   "pygments_lexer": "ipython2",
   "version": "2.7.6"
  }
 },
 "nbformat": 4,
 "nbformat_minor": 5
}
