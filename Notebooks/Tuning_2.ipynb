{
 "cells": [
  {
   "cell_type": "code",
   "execution_count": 1,
   "id": "initial_id",
   "metadata": {
    "collapsed": true,
    "ExecuteTime": {
     "end_time": "2024-04-10T15:55:10.255222945Z",
     "start_time": "2024-04-10T15:55:07.259849147Z"
    }
   },
   "outputs": [
    {
     "name": "stdout",
     "output_type": "stream",
     "text": [
      "Full DS size: 307511\n"
     ]
    },
    {
     "data": {
      "text/plain": "'Distribution of Samples'"
     },
     "metadata": {},
     "output_type": "display_data"
    }
   ],
   "source": [
    "from itertools import chain\n",
    "from src_draft.utils import LOW_IMP_FEATURES, ZERO_IMP_FEATURES\n",
    "import shared.ml_config_core as ml_config_core\n",
    "import pandas as pd\n",
    "from shared.ml_config_core import ModelConfigsCollection\n",
    "from shared.ml_config_runner import run_tuning_for_configs_collection\n",
    "from shared.definitions import TuningResult\n",
    "\n",
    "from Draft import feature_builder_v2\n",
    "\n",
    "import importlib\n",
    "\n",
    "VERBOSE = True\n",
    "importlib.reload(feature_builder_v2)\n",
    "features_matrix = feature_builder_v2.load_datasets_and_prepare_features(drop_meta_data=True,\n",
    "                                                                        ds_type=feature_builder_v2.DatasetType.BASE)\n",
    "display(\"Distribution of Samples\")\n",
    "value_counts = features_matrix[\"TARGET\"].value_counts()\n",
    "df_value_counts = pd.DataFrame(\n",
    "    {\"Total Rows\": value_counts, \"Proportion\": value_counts / len(features_matrix)}\n",
    ")\n",
    "df_value_counts.round(2)\n",
    "transformers = [\n",
    "    # No feature engineering tuning for for rejected/accepted df\n",
    "    # ml_config_core.AcceptedRejectedDropAllButEmployment,  # Only used for testing\n",
    "]\n",
    "configs: ModelConfigsCollection = {\n",
    "    # \"BaselineOnlyEmplDuration\": ml_config_core.ModelPipelineConfig(\n",
    "    #     model_config=ml_config_core.XGBoostTuneF1(),\n",
    "    #     transformer_config=ml_config_core.PipelineTransformerConfig([ml_config_core.AcceptedRejectedDropAllButEmployment]),\n",
    "    # ),\n",
    "    # \"XGBoostTunePRAUC\": ml_config_core.ModelPipelineConfig(\n",
    "    #     model_config=ml_config_core.XGBoostTunePRAUC(),\n",
    "    #     transformer_config=ml_config_core.PipelineTransformerConfig(transformers),\n",
    "    # ),\n",
    "    # \"XGBoostTuneF1Failed\": ml_config_core.ModelPipelineConfig(\n",
    "    #     model_config=ml_config_core.XGBoostTuneF1(),\n",
    "    #     transformer_config=ml_config_core.PipelineTransformerConfig(transformers),\n",
    "    # ),\n",
    "    # \"BaselelineOnlyCreditRatings\": ml_config_core.ModelPipelineConfig(\n",
    "    #     model_config=ml_config_core.LGBMTuneAUC(),\n",
    "    #     transformer_config=ml_confg_core.PipelineTransformerConfig(transformers),\n",
    "    #     data_loader_params={\n",
    "    #         \"drop_meta_data\": True,\n",
    "    #         \"ds_type\": feature_builder_v2.DatasetType.BASE_ONLY_CREDIT_RATINGS\n",
    "    #     }),\n",
    "    # \"TEST_LOG_LOSS_BaselelineOnlyCreditRatings\": ml_config_core.ModelPipelineConfig(\n",
    "    #     model_config=ml_config_core.LGBMTuneLogLoss(),\n",
    "    #     transformer_config=ml_config_core.PipelineTransformerConfig(transformers),\n",
    "    #     data_loader_params={\n",
    "    #         \"drop_meta_data\": True,\n",
    "    #         \"ds_type\": feature_builder_v2.DatasetType.BASE_ONLY_CREDIT_RATINGS\n",
    "    #     }),\n",
    "    # \"TEST_LGBMTuneAUC_Full_DS_Drop_Ratings\": ml_config_core.ModelPipelineConfig(\n",
    "    #     model_config=ml_config_core.LGBMTuneAUC(),\n",
    "    #     transformer_config=ml_config_core.PipelineTransformerConfig(transformers),\n",
    "    #     data_loader_params={\n",
    "    #         \"drop_meta_data\": True,\n",
    "    #         \"ds_type\": feature_builder_v2.DatasetType.FULL,\n",
    "    #         \"drop_cols\": [\"EXT_SOURCE_1\", \"EXT_SOURCE_2\", \"EXT_SOURCE_3\"]\n",
    "    #     }),\n",
    "    # \"LGBMTuneWeightedLogLoss_Full_DS\": ml_config_core.ModelPipelineConfig(\n",
    "    #     model_config=ml_config_core.LGBMTuneWeightedLogLossF1(),\n",
    "    #     transformer_config=ml_config_core.PipelineTransformerConfig(transformers),\n",
    "    #     data_loader_params={\n",
    "    #         \"drop_meta_data\": True,\n",
    "    #         \"ds_type\": feature_builder_v2.DatasetType.BASE,\n",
    "    #         # \"drop_cols\": [\"EXT_SOURCE_1\", \"EXT_SOURCE_2\", \"EXT_SOURCE_3\"]\n",
    "    #     }),\n",
    "\n",
    "    # \"TEST_LGBMTuneAUC_Base_DS\": ml_config_core.ModelPipelineConfig(\n",
    "    #     model_config=ml_config_core.LGBMTuneAUC(),\n",
    "    #     transformer_config=ml_config_core.PipelineTransformerConfig(transformers),\n",
    "    #     data_loader_params={\n",
    "    #         \"drop_meta_data\": True,\n",
    "    #         \"ds_type\": feature_builder_v2.DatasetType.BASE\n",
    "    #     }\n",
    "    # ),\n",
    "    # \"TEST_LGBMTuneAUC_Full_DS\": ml_config_core.ModelPipelineConfig(\n",
    "    #     model_config=ml_config_core.LGBMTuneAUC(),\n",
    "    #     transformer_config=ml_config_core.PipelineTransformerConfig(transformers),\n",
    "    #     data_loader_params={\n",
    "    #         \"drop_meta_data\": True,\n",
    "    #         \"ds_type\": feature_builder_v2.DatasetType.FULL\n",
    "    #     }\n",
    "\n",
    "    \"LGBMDTuneAUC_Full_DropLowImp\": ml_config_core.ModelPipelineConfig(\n",
    "        model_config=ml_config_core.LGBMTuneAUC(),\n",
    "        transformer_config=ml_config_core.PipelineTransformerConfig(transformers),\n",
    "        data_loader_params={\n",
    "            \"drop_meta_data\": True,\n",
    "            \"ds_type\": feature_builder_v2.DatasetType.FULL,\n",
    "            \"drop_cols_post_proc\" : ZERO_IMP_FEATURES + LOW_IMP_FEATURES\n",
    "        }),\n",
    "\n",
    "    # \"LGBMDartTuneAUC_Full_DS\": ml_config_core.ModelPipelineConfig(\n",
    "    #     model_config=ml_config_core.LGBMDartTuneAUC(),\n",
    "    #     transformer_config=ml_config_core.PipelineTransformerConfig(transformers),\n",
    "    #     data_loader_params={\n",
    "    #         \"drop_meta_data\": True,\n",
    "    #         \"ds_type\": feature_builder_v2.DatasetType.FULL,\n",
    "    #         # \"drop_cols_post_proc\" : ZERO_IMP_FEATURES + LOW_IMP_FEATURES\n",
    "    #     }),\n",
    "    # \n",
    "    # \"LGBMDartTuneAUC\": ml_config_core.ModelPipelineConfig(\n",
    "    #     model_config=ml_config_core.LGBMDartTuneAUC(),\n",
    "    #     transformer_config=ml_config_core.PipelineTransformerConfig(transformers),\n",
    "    #     data_loader_params={\n",
    "    #         \"drop_meta_data\": True,\n",
    "    #         \"ds_type\": feature_builder_v2.DatasetType.BASE\n",
    "    #     }\n",
    "    # ),\n",
    "\n",
    "}"
   ]
  },
  {
   "cell_type": "code",
   "outputs": [
    {
     "name": "stdout",
     "output_type": "stream",
     "text": [
      "1\n"
     ]
    }
   ],
   "source": [
    "print(1)"
   ],
   "metadata": {
    "collapsed": false,
    "ExecuteTime": {
     "end_time": "2024-04-10T15:55:10.256165121Z",
     "start_time": "2024-04-10T15:55:10.253367403Z"
    }
   },
   "id": "a61836a0a428f5e2",
   "execution_count": 2
  },
  {
   "cell_type": "code",
   "outputs": [],
   "source": [],
   "metadata": {
    "collapsed": false,
    "ExecuteTime": {
     "end_time": "2024-04-10T15:55:10.258060320Z",
     "start_time": "2024-04-10T15:55:10.253497052Z"
    }
   },
   "id": "eed3fa27393d896b",
   "execution_count": 2
  },
  {
   "cell_type": "code",
   "outputs": [
    {
     "name": "stderr",
     "output_type": "stream",
     "text": [
      "/home/paulius/miniconda3/envs/rapids_v2/lib/python3.10/site-packages/featuretools/entityset/entityset.py:1914: UserWarning: index SK_BUREAU_ID not found in dataframe, creating new integer column\n",
      "  warnings.warn(\n"
     ]
    },
    {
     "name": "stdout",
     "output_type": "stream",
     "text": [
      "Appending previous history\n"
     ]
    },
    {
     "name": "stderr",
     "output_type": "stream",
     "text": [
      "[I 2024-04-10 18:55:39,872] A new study created in memory with name: no-name-b146b1fe-fce6-4e56-8ece-8475a8820a67\n"
     ]
    },
    {
     "name": "stdout",
     "output_type": "stream",
     "text": [
      "drop drop_cols_post_proc: 227\n",
      "after drop_cols_post_proc: 121\n",
      "Full DS size: 307511\n",
      "Tunning: - transformers: transformers: 0\n",
      " total options: 0\n",
      "[]\n",
      "search_grid:\n",
      "{}\n",
      "\n",
      " - model: LGBMDTuneAUC_Full_DropLowImp n_iters=10 with:\n",
      " {'model__n_estimators': Range(50, 1000, 50, int), 'model__learning_rate': Range(0.01, 0.3, 0.01, float), 'model__max_depth': Range(3, 11, 1, int), 'model__num_leaves': Range(8, 256, 8, int), 'model__min_gain_to_split': Range(0.0, 15.0, 0.5, float), 'model__min_data_in_leaf': Range(0, 3000, 100, int), 'model__lambda_l1': Range(0, 110, 5, int), 'model__lambda_l2': Range(0, 110, 5, int), 'model__bagging_fraction': Range(0.2, 1.0, 0.1, float), 'model__feature_fraction': Range(0.2, 1.0, 0.1, float), 'model__max_bin': Range(50, 500, 25, int)}\n",
      "Fold: Tuning: n_train=230633, eval_set=76878\n",
      "Fold: Tuning: n_train=230633, eval_set=76878\n",
      "Fold: Tuning: n_train=230633, eval_set=76878\n",
      "Fold: Tuning: n_train=230634, eval_set=76877\n",
      "Tune: val_score:0.7736652299166041, train_set_score:0.8108896919816025, folds val/train: [0.7703853477570993, 0.7743770034073572, 0.7774676523808783, 0.7724309161210816] / [0.8120563660201534, 0.8114933928457757, 0.8094660380891978, 0.8105429709712832]\n"
     ]
    },
    {
     "name": "stderr",
     "output_type": "stream",
     "text": [
      "[I 2024-04-10 18:56:41,191] Trial 0 finished with value: 0.7736652299166041 and parameters: {'model__n_estimators': 800, 'model__learning_rate': 0.06999999999999999, 'model__max_depth': 5, 'model__num_leaves': 48, 'model__min_gain_to_split': 2.5, 'model__min_data_in_leaf': 2800, 'model__lambda_l1': 90, 'model__lambda_l2': 45, 'model__bagging_fraction': 0.2, 'model__feature_fraction': 0.8, 'model__max_bin': 325}. Best is trial 0 with value: 0.7736652299166041.\n"
     ]
    },
    {
     "name": "stdout",
     "output_type": "stream",
     "text": [
      "Fold: Tuning: n_train=230633, eval_set=76878\n",
      "Fold: Tuning: n_train=230633, eval_set=76878\n",
      "Fold: Tuning: n_train=230633, eval_set=76878\n",
      "Fold: Tuning: n_train=230634, eval_set=76877\n",
      "Tune: val_score:0.7705242282579795, train_set_score:0.8317599846203645, folds val/train: [0.7675019038461237, 0.7698937249081236, 0.7752942231091531, 0.7694070611685174] / [0.8320784556447443, 0.8336795170360825, 0.8303831806314894, 0.8308987851691418]\n"
     ]
    },
    {
     "name": "stderr",
     "output_type": "stream",
     "text": [
      "[I 2024-04-10 18:57:12,233] Trial 1 finished with value: 0.7705242282579795 and parameters: {'model__n_estimators': 900, 'model__learning_rate': 0.24000000000000002, 'model__max_depth': 6, 'model__num_leaves': 160, 'model__min_gain_to_split': 2.0, 'model__min_data_in_leaf': 900, 'model__lambda_l1': 70, 'model__lambda_l2': 10, 'model__bagging_fraction': 0.8, 'model__feature_fraction': 0.6000000000000001, 'model__max_bin': 475}. Best is trial 0 with value: 0.7736652299166041.\n"
     ]
    },
    {
     "name": "stdout",
     "output_type": "stream",
     "text": [
      "Fold: Tuning: n_train=230633, eval_set=76878\n",
      "Fold: Tuning: n_train=230633, eval_set=76878\n",
      "Fold: Tuning: n_train=230633, eval_set=76878\n",
      "Fold: Tuning: n_train=230634, eval_set=76877\n",
      "Tune: val_score:0.7693924355280825, train_set_score:0.8240026804740845, folds val/train: [0.7660922979259244, 0.7716484176047421, 0.7728938508579232, 0.7669351757237401] / [0.8244157602559262, 0.8250734932071044, 0.8221435614846926, 0.8243779069486148]\n"
     ]
    },
    {
     "name": "stderr",
     "output_type": "stream",
     "text": [
      "[I 2024-04-10 18:57:38,004] Trial 2 finished with value: 0.7693924355280825 and parameters: {'model__n_estimators': 450, 'model__learning_rate': 0.14, 'model__max_depth': 11, 'model__num_leaves': 256, 'model__min_gain_to_split': 10.0, 'model__min_data_in_leaf': 700, 'model__lambda_l1': 60, 'model__lambda_l2': 5, 'model__bagging_fraction': 0.8, 'model__feature_fraction': 0.9000000000000001, 'model__max_bin': 250}. Best is trial 0 with value: 0.7736652299166041.\n"
     ]
    },
    {
     "name": "stdout",
     "output_type": "stream",
     "text": [
      "Fold: Tuning: n_train=230633, eval_set=76878\n",
      "Fold: Tuning: n_train=230633, eval_set=76878\n",
      "Fold: Tuning: n_train=230633, eval_set=76878\n",
      "Fold: Tuning: n_train=230634, eval_set=76877\n",
      "Tune: val_score:0.7707121922491205, train_set_score:0.8233496779712084, folds val/train: [0.7675225677945583, 0.7719299757867149, 0.774533199379462, 0.7688630260357467] / [0.8240778165535163, 0.8246988297275993, 0.8221972387360941, 0.822424826867624]\n"
     ]
    },
    {
     "name": "stderr",
     "output_type": "stream",
     "text": [
      "[I 2024-04-10 18:58:02,606] Trial 3 finished with value: 0.7707121922491205 and parameters: {'model__n_estimators': 200, 'model__learning_rate': 0.24000000000000002, 'model__max_depth': 5, 'model__num_leaves': 80, 'model__min_gain_to_split': 4.5, 'model__min_data_in_leaf': 100, 'model__lambda_l1': 40, 'model__lambda_l2': 105, 'model__bagging_fraction': 0.30000000000000004, 'model__feature_fraction': 1.0, 'model__max_bin': 350}. Best is trial 0 with value: 0.7736652299166041.\n"
     ]
    },
    {
     "name": "stdout",
     "output_type": "stream",
     "text": [
      "Fold: Tuning: n_train=230633, eval_set=76878\n",
      "Fold: Tuning: n_train=230633, eval_set=76878\n",
      "Fold: Tuning: n_train=230633, eval_set=76878\n",
      "Fold: Tuning: n_train=230634, eval_set=76877\n",
      "Tune: val_score:0.7709467870027399, train_set_score:0.7895568950409586, folds val/train: [0.7681083187829973, 0.7722869751035443, 0.7741638602104759, 0.769227993913942] / [0.7908924194800124, 0.7902392435716001, 0.787471959654079, 0.789623957458143]\n"
     ]
    },
    {
     "name": "stderr",
     "output_type": "stream",
     "text": [
      "[I 2024-04-10 18:58:35,106] Trial 4 finished with value: 0.7709467870027399 and parameters: {'model__n_estimators': 650, 'model__learning_rate': 0.12, 'model__max_depth': 3, 'model__num_leaves': 16, 'model__min_gain_to_split': 6.0, 'model__min_data_in_leaf': 500, 'model__lambda_l1': 90, 'model__lambda_l2': 0, 'model__bagging_fraction': 1.0, 'model__feature_fraction': 0.4, 'model__max_bin': 325}. Best is trial 0 with value: 0.7736652299166041.\n"
     ]
    },
    {
     "name": "stdout",
     "output_type": "stream",
     "text": [
      "Fold: Tuning: n_train=230633, eval_set=76878\n",
      "Fold: Tuning: n_train=230633, eval_set=76878\n",
      "Fold: Tuning: n_train=230633, eval_set=76878\n",
      "Fold: Tuning: n_train=230634, eval_set=76877\n",
      "Tune: val_score:0.7703062583139989, train_set_score:0.7979391305229018, folds val/train: [0.7662488512226104, 0.7712619820333104, 0.7747564317318686, 0.7689577682682064] / [0.7982654943981065, 0.7983730934261704, 0.7967898521805287, 0.7983280820868015]\n"
     ]
    },
    {
     "name": "stderr",
     "output_type": "stream",
     "text": [
      "[I 2024-04-10 18:59:00,248] Trial 5 finished with value: 0.7703062583139989 and parameters: {'model__n_estimators': 200, 'model__learning_rate': 0.12, 'model__max_depth': 11, 'model__num_leaves': 152, 'model__min_gain_to_split': 11.0, 'model__min_data_in_leaf': 700, 'model__lambda_l1': 65, 'model__lambda_l2': 5, 'model__bagging_fraction': 0.4, 'model__feature_fraction': 0.2, 'model__max_bin': 225}. Best is trial 0 with value: 0.7736652299166041.\n"
     ]
    },
    {
     "name": "stdout",
     "output_type": "stream",
     "text": [
      "Fold: Tuning: n_train=230633, eval_set=76878\n",
      "Fold: Tuning: n_train=230633, eval_set=76878\n",
      "Fold: Tuning: n_train=230633, eval_set=76878\n",
      "Fold: Tuning: n_train=230634, eval_set=76877\n",
      "Tune: val_score:0.770474310615082, train_set_score:0.8288551654307355, folds val/train: [0.7671012719045911, 0.771258111577052, 0.7747321855475129, 0.7688056734311715] / [0.8292157379785356, 0.8293065235699086, 0.8274663823717343, 0.8294320178027637]\n"
     ]
    },
    {
     "name": "stderr",
     "output_type": "stream",
     "text": [
      "[I 2024-04-10 18:59:39,453] Trial 6 finished with value: 0.770474310615082 and parameters: {'model__n_estimators': 500, 'model__learning_rate': 0.05, 'model__max_depth': 9, 'model__num_leaves': 152, 'model__min_gain_to_split': 11.0, 'model__min_data_in_leaf': 100, 'model__lambda_l1': 45, 'model__lambda_l2': 90, 'model__bagging_fraction': 0.2, 'model__feature_fraction': 1.0, 'model__max_bin': 200}. Best is trial 0 with value: 0.7736652299166041.\n"
     ]
    },
    {
     "name": "stdout",
     "output_type": "stream",
     "text": [
      "Fold: Tuning: n_train=230633, eval_set=76878\n",
      "Fold: Tuning: n_train=230633, eval_set=76878\n",
      "Fold: Tuning: n_train=230633, eval_set=76878\n",
      "Fold: Tuning: n_train=230634, eval_set=76877\n",
      "Tune: val_score:0.7723348678140156, train_set_score:0.8499048083724023, folds val/train: [0.7679210815374768, 0.7731706389041001, 0.7760322507463329, 0.772215500068153] / [0.8433665988899415, 0.8474707230247893, 0.8502136371302368, 0.8585682744446419]\n"
     ]
    },
    {
     "name": "stderr",
     "output_type": "stream",
     "text": [
      "[I 2024-04-10 19:00:35,711] Trial 7 finished with value: 0.7723348678140156 and parameters: {'model__n_estimators': 400, 'model__learning_rate': 0.06999999999999999, 'model__max_depth': 9, 'model__num_leaves': 56, 'model__min_gain_to_split': 0.0, 'model__min_data_in_leaf': 1900, 'model__lambda_l1': 95, 'model__lambda_l2': 60, 'model__bagging_fraction': 0.5, 'model__feature_fraction': 1.0, 'model__max_bin': 275}. Best is trial 0 with value: 0.7736652299166041.\n"
     ]
    },
    {
     "name": "stdout",
     "output_type": "stream",
     "text": [
      "Fold: Tuning: n_train=230633, eval_set=76878\n",
      "Fold: Tuning: n_train=230633, eval_set=76878\n",
      "Fold: Tuning: n_train=230633, eval_set=76878\n",
      "Fold: Tuning: n_train=230634, eval_set=76877\n",
      "Tune: val_score:0.7698846551160865, train_set_score:0.8149331296812794, folds val/train: [0.7666891786666455, 0.7698946332113437, 0.774054085354256, 0.768900723232101] / [0.8148271326355545, 0.8154650181821175, 0.8138768224602653, 0.8155635454471806]\n"
     ]
    },
    {
     "name": "stderr",
     "output_type": "stream",
     "text": [
      "[I 2024-04-10 19:00:52,376] Trial 8 finished with value: 0.7698846551160865 and parameters: {'model__n_estimators': 300, 'model__learning_rate': 0.2, 'model__max_depth': 11, 'model__num_leaves': 192, 'model__min_gain_to_split': 9.0, 'model__min_data_in_leaf': 2600, 'model__lambda_l1': 20, 'model__lambda_l2': 110, 'model__bagging_fraction': 0.4, 'model__feature_fraction': 0.4, 'model__max_bin': 275}. Best is trial 0 with value: 0.7736652299166041.\n"
     ]
    },
    {
     "name": "stdout",
     "output_type": "stream",
     "text": [
      "Fold: Tuning: n_train=230633, eval_set=76878\n",
      "Fold: Tuning: n_train=230633, eval_set=76878\n",
      "Fold: Tuning: n_train=230633, eval_set=76878\n",
      "Fold: Tuning: n_train=230634, eval_set=76877\n",
      "Tune: val_score:0.7715306691574446, train_set_score:0.8137039165625207, folds val/train: [0.7678746008922405, 0.7724615952678577, 0.7752845535554459, 0.770501926914234] / [0.8140584672115945, 0.8141946324114284, 0.8124057403393642, 0.8141568262876957]\n"
     ]
    },
    {
     "name": "stderr",
     "output_type": "stream",
     "text": [
      "[I 2024-04-10 19:01:21,931] Trial 9 finished with value: 0.7715306691574446 and parameters: {'model__n_estimators': 850, 'model__learning_rate': 0.060000000000000005, 'model__max_depth': 7, 'model__num_leaves': 112, 'model__min_gain_to_split': 7.0, 'model__min_data_in_leaf': 1100, 'model__lambda_l1': 70, 'model__lambda_l2': 30, 'model__bagging_fraction': 0.9000000000000001, 'model__feature_fraction': 0.6000000000000001, 'model__max_bin': 125}. Best is trial 0 with value: 0.7736652299166041.\n"
     ]
    },
    {
     "name": "stdout",
     "output_type": "stream",
     "text": [
      "Fold: Tuning: n_train=230633, eval_set=76878\n",
      "Fold: Tuning: n_train=230633, eval_set=76878\n",
      "Fold: Tuning: n_train=230633, eval_set=76878\n",
      "Fold: Tuning: n_train=230634, eval_set=76877\n",
      "Tune: val_score:0.7564573002111804, train_set_score:0.7656089069997789, folds val/train: [0.7537416481961283, 0.7582893920938938, 0.759042056578709, 0.7547561039759905] / [0.7664285488578371, 0.7654815217251341, 0.7643920091338396, 0.7661335482823048]\n"
     ]
    },
    {
     "name": "stderr",
     "output_type": "stream",
     "text": [
      "[I 2024-04-10 19:02:15,310] Trial 10 finished with value: 0.7564573002111804 and parameters: {'model__n_estimators': 700, 'model__learning_rate': 0.01, 'model__max_depth': 3, 'model__num_leaves': 8, 'model__min_gain_to_split': 15.0, 'model__min_data_in_leaf': 2900, 'model__lambda_l1': 110, 'model__lambda_l2': 55, 'model__bagging_fraction': 0.6000000000000001, 'model__feature_fraction': 0.8, 'model__max_bin': 450}. Best is trial 0 with value: 0.7736652299166041.\n"
     ]
    },
    {
     "name": "stdout",
     "output_type": "stream",
     "text": [
      "Fold: Tuning: n_train=230633, eval_set=76878\n",
      "Fold: Tuning: n_train=230633, eval_set=76878\n",
      "Fold: Tuning: n_train=230633, eval_set=76878\n",
      "Fold: Tuning: n_train=230634, eval_set=76877\n",
      "Tune: val_score:0.7732439753293711, train_set_score:0.8283786900895925, folds val/train: [0.7703240765598023, 0.7734559116395396, 0.7772714486000856, 0.7719244645180566] / [0.8296527817782985, 0.828836317582073, 0.8273871264077245, 0.8276385345902741]\n"
     ]
    },
    {
     "name": "stderr",
     "output_type": "stream",
     "text": [
      "[I 2024-04-10 19:02:53,236] Trial 11 finished with value: 0.7732439753293711 and parameters: {'model__n_estimators': 1000, 'model__learning_rate': 0.06999999999999999, 'model__max_depth': 9, 'model__num_leaves': 64, 'model__min_gain_to_split': 1.5, 'model__min_data_in_leaf': 2000, 'model__lambda_l1': 110, 'model__lambda_l2': 60, 'model__bagging_fraction': 0.6000000000000001, 'model__feature_fraction': 0.8, 'model__max_bin': 375}. Best is trial 0 with value: 0.7736652299166041.\n"
     ]
    },
    {
     "name": "stdout",
     "output_type": "stream",
     "text": [
      "Fold: Tuning: n_train=230633, eval_set=76878\n",
      "Fold: Tuning: n_train=230633, eval_set=76878\n",
      "Fold: Tuning: n_train=230633, eval_set=76878\n",
      "Fold: Tuning: n_train=230634, eval_set=76877\n",
      "Tune: val_score:0.7700048339622265, train_set_score:0.8123380426178608, folds val/train: [0.7669859544091824, 0.7713379676982068, 0.7731913423975066, 0.7685040713440102] / [0.8129608678736459, 0.8126550044793712, 0.811007872483665, 0.8127284256347613]\n"
     ]
    },
    {
     "name": "stderr",
     "output_type": "stream",
     "text": [
      "[I 2024-04-10 19:05:06,368] Trial 12 finished with value: 0.7700048339622265 and parameters: {'model__n_estimators': 1000, 'model__learning_rate': 0.01, 'model__max_depth': 9, 'model__num_leaves': 56, 'model__min_gain_to_split': 3.0, 'model__min_data_in_leaf': 2000, 'model__lambda_l1': 110, 'model__lambda_l2': 55, 'model__bagging_fraction': 0.6000000000000001, 'model__feature_fraction': 0.8, 'model__max_bin': 400}. Best is trial 0 with value: 0.7736652299166041.\n"
     ]
    },
    {
     "name": "stdout",
     "output_type": "stream",
     "text": [
      "Fold: Tuning: n_train=230633, eval_set=76878\n",
      "Fold: Tuning: n_train=230633, eval_set=76878\n",
      "Fold: Tuning: n_train=230633, eval_set=76878\n",
      "Fold: Tuning: n_train=230634, eval_set=76877\n",
      "Tune: val_score:0.7695565763007288, train_set_score:0.8175390151501634, folds val/train: [0.7678346291029623, 0.7695661098782991, 0.772964159195129, 0.7678614070265247] / [0.8283135683019962, 0.8115805737615783, 0.808186099406534, 0.8220758191305446]\n"
     ]
    },
    {
     "name": "stderr",
     "output_type": "stream",
     "text": [
      "[I 2024-04-10 19:05:23,030] Trial 13 finished with value: 0.7695565763007288 and parameters: {'model__n_estimators': 750, 'model__learning_rate': 0.3, 'model__max_depth': 5, 'model__num_leaves': 96, 'model__min_gain_to_split': 0.0, 'model__min_data_in_leaf': 2400, 'model__lambda_l1': 90, 'model__lambda_l2': 75, 'model__bagging_fraction': 0.7, 'model__feature_fraction': 0.7, 'model__max_bin': 375}. Best is trial 0 with value: 0.7736652299166041.\n"
     ]
    },
    {
     "name": "stdout",
     "output_type": "stream",
     "text": [
      "Fold: Tuning: n_train=230633, eval_set=76878\n",
      "Fold: Tuning: n_train=230633, eval_set=76878\n",
      "Fold: Tuning: n_train=230633, eval_set=76878\n",
      "Fold: Tuning: n_train=230634, eval_set=76877\n",
      "Tune: val_score:0.7726987140805256, train_set_score:0.8296666013871936, folds val/train: [0.7692225326969283, 0.7735927716958617, 0.7763846180527219, 0.7715949338765902] / [0.8305761900216976, 0.8303231135234169, 0.8280829514770729, 0.8296841505265871]\n"
     ]
    },
    {
     "name": "stderr",
     "output_type": "stream",
     "text": [
      "[I 2024-04-10 19:05:52,583] Trial 14 finished with value: 0.7726987140805256 and parameters: {'model__n_estimators': 1000, 'model__learning_rate': 0.09, 'model__max_depth': 8, 'model__num_leaves': 48, 'model__min_gain_to_split': 2.5, 'model__min_data_in_leaf': 1500, 'model__lambda_l1': 85, 'model__lambda_l2': 30, 'model__bagging_fraction': 0.2, 'model__feature_fraction': 0.8, 'model__max_bin': 400}. Best is trial 0 with value: 0.7736652299166041.\n"
     ]
    },
    {
     "name": "stdout",
     "output_type": "stream",
     "text": [
      "Fold: Tuning: n_train=230633, eval_set=76878\n",
      "Fold: Tuning: n_train=230633, eval_set=76878\n",
      "Fold: Tuning: n_train=230633, eval_set=76878\n",
      "Fold: Tuning: n_train=230634, eval_set=76877\n",
      "Tune: val_score:0.7720646833641099, train_set_score:0.8282750544415841, folds val/train: [0.7696997812637597, 0.7724004000330063, 0.7756984902174342, 0.7704600619422393] / [0.8328429243622341, 0.8295110079198051, 0.820888967913347, 0.8298573175709506]\n"
     ]
    },
    {
     "name": "stderr",
     "output_type": "stream",
     "text": [
      "[I 2024-04-10 19:06:13,863] Trial 15 finished with value: 0.7720646833641099 and parameters: {'model__n_estimators': 850, 'model__learning_rate': 0.18000000000000002, 'model__max_depth': 5, 'model__num_leaves': 32, 'model__min_gain_to_split': 4.5, 'model__min_data_in_leaf': 2100, 'model__lambda_l1': 5, 'model__lambda_l2': 35, 'model__bagging_fraction': 0.5, 'model__feature_fraction': 0.7, 'model__max_bin': 500}. Best is trial 0 with value: 0.7736652299166041.\n"
     ]
    },
    {
     "name": "stdout",
     "output_type": "stream",
     "text": [
      "Fold: Tuning: n_train=230633, eval_set=76878\n",
      "Fold: Tuning: n_train=230633, eval_set=76878\n",
      "Fold: Tuning: n_train=230633, eval_set=76878\n",
      "Fold: Tuning: n_train=230634, eval_set=76877\n",
      "Tune: val_score:0.7724110355137235, train_set_score:0.810811775025011, folds val/train: [0.7698290604509019, 0.7721018371494571, 0.7762317966570007, 0.7714814477975337] / [0.8122994543084694, 0.8096377593766536, 0.8101920414780378, 0.8111178449368834]\n"
     ]
    },
    {
     "name": "stderr",
     "output_type": "stream",
     "text": [
      "[I 2024-04-10 19:06:40,076] Trial 16 finished with value: 0.7724110355137235 and parameters: {'model__n_estimators': 600, 'model__learning_rate': 0.09999999999999999, 'model__max_depth': 7, 'model__num_leaves': 72, 'model__min_gain_to_split': 1.5, 'model__min_data_in_leaf': 2900, 'model__lambda_l1': 105, 'model__lambda_l2': 70, 'model__bagging_fraction': 0.7, 'model__feature_fraction': 0.5, 'model__max_bin': 50}. Best is trial 0 with value: 0.7736652299166041.\n"
     ]
    },
    {
     "name": "stdout",
     "output_type": "stream",
     "text": [
      "Fold: Tuning: n_train=230633, eval_set=76878\n",
      "Fold: Tuning: n_train=230633, eval_set=76878\n",
      "Fold: Tuning: n_train=230633, eval_set=76878\n",
      "Fold: Tuning: n_train=230634, eval_set=76877\n",
      "Tune: val_score:0.7730271860904643, train_set_score:0.802841253633197, folds val/train: [0.7701696621832383, 0.7737652476319271, 0.7769167490327926, 0.771257085513899] / [0.8035839194005301, 0.8034099318326753, 0.8011425663889623, 0.8032285969106201]\n"
     ]
    },
    {
     "name": "stderr",
     "output_type": "stream",
     "text": [
      "[I 2024-04-10 19:07:36,047] Trial 17 finished with value: 0.7730271860904643 and parameters: {'model__n_estimators': 800, 'model__learning_rate': 0.04, 'model__max_depth': 4, 'model__num_leaves': 104, 'model__min_gain_to_split': 4.5, 'model__min_data_in_leaf': 1500, 'model__lambda_l1': 80, 'model__lambda_l2': 40, 'model__bagging_fraction': 0.4, 'model__feature_fraction': 0.9000000000000001, 'model__max_bin': 325}. Best is trial 0 with value: 0.7736652299166041.\n"
     ]
    },
    {
     "name": "stdout",
     "output_type": "stream",
     "text": [
      "Fold: Tuning: n_train=230633, eval_set=76878\n",
      "Fold: Tuning: n_train=230633, eval_set=76878\n",
      "Fold: Tuning: n_train=230633, eval_set=76878\n",
      "Fold: Tuning: n_train=230634, eval_set=76877\n",
      "Tune: val_score:0.767533936567385, train_set_score:0.7977710903740398, folds val/train: [0.7639077858810643, 0.7691957910403705, 0.7712745061381562, 0.7657576632099492] / [0.7988944685838115, 0.7978022594189319, 0.7961811591350421, 0.7982064743583732]\n"
     ]
    },
    {
     "name": "stderr",
     "output_type": "stream",
     "text": [
      "[I 2024-04-10 19:07:51,295] Trial 18 finished with value: 0.767533936567385 and parameters: {'model__n_estimators': 950, 'model__learning_rate': 0.15000000000000002, 'model__max_depth': 8, 'model__num_leaves': 128, 'model__min_gain_to_split': 14.0, 'model__min_data_in_leaf': 2300, 'model__lambda_l1': 100, 'model__lambda_l2': 45, 'model__bagging_fraction': 0.30000000000000004, 'model__feature_fraction': 0.7, 'model__max_bin': 425}. Best is trial 0 with value: 0.7736652299166041.\n"
     ]
    },
    {
     "name": "stdout",
     "output_type": "stream",
     "text": [
      "Fold: Tuning: n_train=230633, eval_set=76878\n",
      "Fold: Tuning: n_train=230633, eval_set=76878\n",
      "Fold: Tuning: n_train=230633, eval_set=76878\n",
      "Fold: Tuning: n_train=230634, eval_set=76877\n",
      "Tune: val_score:0.7714090988976627, train_set_score:0.8151074017677621, folds val/train: [0.7686069795749475, 0.7725439706877446, 0.7746808898011946, 0.7698045555267645] / [0.8161438836318644, 0.815964906082858, 0.8136993807812173, 0.8146214365751088]\n"
     ]
    },
    {
     "name": "stderr",
     "output_type": "stream",
     "text": [
      "[I 2024-04-10 19:08:14,089] Trial 19 finished with value: 0.7714090988976627 and parameters: {'model__n_estimators': 600, 'model__learning_rate': 0.09, 'model__max_depth': 10, 'model__num_leaves': 208, 'model__min_gain_to_split': 6.0, 'model__min_data_in_leaf': 2600, 'model__lambda_l1': 80, 'model__lambda_l2': 80, 'model__bagging_fraction': 0.5, 'model__feature_fraction': 0.9000000000000001, 'model__max_bin': 150}. Best is trial 0 with value: 0.7736652299166041.\n"
     ]
    },
    {
     "name": "stdout",
     "output_type": "stream",
     "text": [
      "Fold: Tuning: n_train=230633, eval_set=76878\n",
      "Fold: Tuning: n_train=230633, eval_set=76878\n",
      "Fold: Tuning: n_train=230633, eval_set=76878\n",
      "Fold: Tuning: n_train=230634, eval_set=76877\n",
      "Tune: val_score:0.774205806491604, train_set_score:0.816593058287755, folds val/train: [0.7707395750322588, 0.7739812837117193, 0.7789830482321631, 0.7731193189902745] / [0.8180465862598245, 0.812274344040397, 0.8171791993881914, 0.8188721034626071]\n"
     ]
    },
    {
     "name": "stderr",
     "output_type": "stream",
     "text": [
      "[I 2024-04-10 19:09:11,392] Trial 20 finished with value: 0.774205806491604 and parameters: {'model__n_estimators': 750, 'model__learning_rate': 0.03, 'model__max_depth': 6, 'model__num_leaves': 32, 'model__min_gain_to_split': 1.0, 'model__min_data_in_leaf': 1700, 'model__lambda_l1': 45, 'model__lambda_l2': 90, 'model__bagging_fraction': 0.7, 'model__feature_fraction': 0.2, 'model__max_bin': 300}. Best is trial 20 with value: 0.774205806491604.\n"
     ]
    },
    {
     "name": "stdout",
     "output_type": "stream",
     "text": [
      "Fold: Tuning: n_train=230633, eval_set=76878\n",
      "Fold: Tuning: n_train=230633, eval_set=76878\n",
      "Fold: Tuning: n_train=230633, eval_set=76878\n",
      "Fold: Tuning: n_train=230634, eval_set=76877\n",
      "Tune: val_score:0.741099015851264, train_set_score:0.754957742496605, folds val/train: [0.7358605752861663, 0.745172454245242, 0.7443461401138016, 0.7390168937598462] / [0.7562429690331696, 0.7545791424100061, 0.7535585159646699, 0.7554503425785739]\n"
     ]
    },
    {
     "name": "stderr",
     "output_type": "stream",
     "text": [
      "[I 2024-04-10 19:09:22,048] Trial 21 finished with value: 0.741099015851264 and parameters: {'model__n_estimators': 50, 'model__learning_rate': 0.03, 'model__max_depth': 6, 'model__num_leaves': 32, 'model__min_gain_to_split': 1.0, 'model__min_data_in_leaf': 1700, 'model__lambda_l1': 45, 'model__lambda_l2': 90, 'model__bagging_fraction': 0.7, 'model__feature_fraction': 0.2, 'model__max_bin': 300}. Best is trial 20 with value: 0.774205806491604.\n"
     ]
    },
    {
     "name": "stdout",
     "output_type": "stream",
     "text": [
      "Fold: Tuning: n_train=230633, eval_set=76878\n",
      "Fold: Tuning: n_train=230633, eval_set=76878\n",
      "Fold: Tuning: n_train=230633, eval_set=76878\n",
      "Fold: Tuning: n_train=230634, eval_set=76877\n",
      "Tune: val_score:0.7742675520550966, train_set_score:0.8120307747506342, folds val/train: [0.7715544414342489, 0.7731508708820312, 0.7787276516696321, 0.7736372442344741] / [0.8155828662948661, 0.802908086871563, 0.8137529390946102, 0.8158792067414975]\n"
     ]
    },
    {
     "name": "stderr",
     "output_type": "stream",
     "text": [
      "[I 2024-04-10 19:09:57,935] Trial 22 finished with value: 0.7742675520550966 and parameters: {'model__n_estimators': 750, 'model__learning_rate': 0.06999999999999999, 'model__max_depth': 4, 'model__num_leaves': 80, 'model__min_gain_to_split': 3.5, 'model__min_data_in_leaf': 1400, 'model__lambda_l1': 25, 'model__lambda_l2': 20, 'model__bagging_fraction': 0.8, 'model__feature_fraction': 0.30000000000000004, 'model__max_bin': 350}. Best is trial 22 with value: 0.7742675520550966.\n"
     ]
    },
    {
     "name": "stdout",
     "output_type": "stream",
     "text": [
      "Fold: Tuning: n_train=230633, eval_set=76878\n",
      "Fold: Tuning: n_train=230633, eval_set=76878\n",
      "Fold: Tuning: n_train=230633, eval_set=76878\n",
      "Fold: Tuning: n_train=230634, eval_set=76877\n",
      "Tune: val_score:0.7729374027739804, train_set_score:0.8028422858885631, folds val/train: [0.7695230014727006, 0.7737286534056808, 0.7769203197242365, 0.7715776364933038] / [0.8033949123160805, 0.8029193017269984, 0.8018648047486164, 0.8031901247625569]\n"
     ]
    },
    {
     "name": "stderr",
     "output_type": "stream",
     "text": [
      "[I 2024-04-10 19:10:47,770] Trial 23 finished with value: 0.7729374027739804 and parameters: {'model__n_estimators': 750, 'model__learning_rate': 0.03, 'model__max_depth': 4, 'model__num_leaves': 32, 'model__min_gain_to_split': 3.5, 'model__min_data_in_leaf': 1200, 'model__lambda_l1': 25, 'model__lambda_l2': 20, 'model__bagging_fraction': 0.9000000000000001, 'model__feature_fraction': 0.30000000000000004, 'model__max_bin': 200}. Best is trial 22 with value: 0.7742675520550966.\n"
     ]
    },
    {
     "name": "stdout",
     "output_type": "stream",
     "text": [
      "Fold: Tuning: n_train=230633, eval_set=76878\n",
      "Fold: Tuning: n_train=230633, eval_set=76878\n",
      "Fold: Tuning: n_train=230633, eval_set=76878\n",
      "Fold: Tuning: n_train=230634, eval_set=76877\n",
      "Tune: val_score:0.7734214129935035, train_set_score:0.8112770194730854, folds val/train: [0.7697382841283471, 0.7739882383318962, 0.7769129917604767, 0.7730461377532938] / [0.8123043133471342, 0.8145523679031436, 0.8044599202021715, 0.8137914764398924]\n"
     ]
    },
    {
     "name": "stderr",
     "output_type": "stream",
     "text": [
      "[I 2024-04-10 19:11:13,361] Trial 24 finished with value: 0.7734214129935035 and parameters: {'model__n_estimators': 600, 'model__learning_rate': 0.11, 'model__max_depth': 4, 'model__num_leaves': 88, 'model__min_gain_to_split': 3.5, 'model__min_data_in_leaf': 1200, 'model__lambda_l1': 30, 'model__lambda_l2': 20, 'model__bagging_fraction': 0.8, 'model__feature_fraction': 0.30000000000000004, 'model__max_bin': 325}. Best is trial 22 with value: 0.7742675520550966.\n"
     ]
    },
    {
     "name": "stdout",
     "output_type": "stream",
     "text": [
      "Fold: Tuning: n_train=230633, eval_set=76878\n",
      "Fold: Tuning: n_train=230633, eval_set=76878\n",
      "Fold: Tuning: n_train=230633, eval_set=76878\n",
      "Fold: Tuning: n_train=230634, eval_set=76877\n",
      "Tune: val_score:0.7734378717452399, train_set_score:0.8309038663091701, folds val/train: [0.769870729101461, 0.774128092173707, 0.7768947464834263, 0.7728579192223656] / [0.8282216111909626, 0.8344169720430434, 0.8276051194099363, 0.8333717625927377]\n"
     ]
    },
    {
     "name": "stderr",
     "output_type": "stream",
     "text": [
      "[I 2024-04-10 19:11:39,466] Trial 25 finished with value: 0.7734378717452399 and parameters: {'model__n_estimators': 750, 'model__learning_rate': 0.08, 'model__max_depth': 6, 'model__num_leaves': 40, 'model__min_gain_to_split': 0.0, 'model__min_data_in_leaf': 1500, 'model__lambda_l1': 0, 'model__lambda_l2': 20, 'model__bagging_fraction': 1.0, 'model__feature_fraction': 0.30000000000000004, 'model__max_bin': 300}. Best is trial 22 with value: 0.7742675520550966.\n"
     ]
    },
    {
     "name": "stdout",
     "output_type": "stream",
     "text": [
      "Fold: Tuning: n_train=230633, eval_set=76878\n",
      "Fold: Tuning: n_train=230633, eval_set=76878\n",
      "Fold: Tuning: n_train=230633, eval_set=76878\n",
      "Fold: Tuning: n_train=230634, eval_set=76877\n",
      "Tune: val_score:0.7155381214084933, train_set_score:0.7198898633180346, folds val/train: [0.7102299035215789, 0.7213460769028253, 0.717405547211659, 0.7131709579979104] / [0.7207912567847576, 0.7186077093300716, 0.7189872828518914, 0.7211732043054175]\n"
     ]
    },
    {
     "name": "stderr",
     "output_type": "stream",
     "text": [
      "[I 2024-04-10 19:11:48,502] Trial 26 finished with value: 0.7155381214084933 and parameters: {'model__n_estimators': 850, 'model__learning_rate': 0.01, 'model__max_depth': 5, 'model__num_leaves': 8, 'model__min_gain_to_split': 5.5, 'model__min_data_in_leaf': 1700, 'model__lambda_l1': 15, 'model__lambda_l2': 45, 'model__bagging_fraction': 0.9000000000000001, 'model__feature_fraction': 0.2, 'model__max_bin': 350}. Best is trial 22 with value: 0.7742675520550966.\n"
     ]
    },
    {
     "name": "stdout",
     "output_type": "stream",
     "text": [
      "Fold: Tuning: n_train=230633, eval_set=76878\n",
      "Fold: Tuning: n_train=230633, eval_set=76878\n",
      "Fold: Tuning: n_train=230633, eval_set=76878\n",
      "Fold: Tuning: n_train=230634, eval_set=76877\n",
      "Tune: val_score:0.7740153288215421, train_set_score:0.8085954886353464, folds val/train: [0.7711012965862099, 0.7740376301438092, 0.777630376556397, 0.7732920119997526] / [0.8092507472978248, 0.8065068388465919, 0.8072409234421227, 0.811383444954846]\n"
     ]
    },
    {
     "name": "stderr",
     "output_type": "stream",
     "text": [
      "[I 2024-04-10 19:12:36,382] Trial 27 finished with value: 0.7740153288215421 and parameters: {'model__n_estimators': 700, 'model__learning_rate': 0.05, 'model__max_depth': 4, 'model__num_leaves': 120, 'model__min_gain_to_split': 1.0, 'model__min_data_in_leaf': 2300, 'model__lambda_l1': 35, 'model__lambda_l2': 90, 'model__bagging_fraction': 0.7, 'model__feature_fraction': 0.4, 'model__max_bin': 250}. Best is trial 22 with value: 0.7742675520550966.\n"
     ]
    },
    {
     "name": "stdout",
     "output_type": "stream",
     "text": [
      "Fold: Tuning: n_train=230633, eval_set=76878\n",
      "Fold: Tuning: n_train=230633, eval_set=76878\n",
      "Fold: Tuning: n_train=230633, eval_set=76878\n",
      "Fold: Tuning: n_train=230634, eval_set=76877\n",
      "Tune: val_score:0.7709451943830199, train_set_score:0.7895515952756818, folds val/train: [0.7676043118419367, 0.7718379886208134, 0.7746463979946886, 0.769692079074641] / [0.7901129413504109, 0.7893265460304568, 0.7888282887245418, 0.7899386049973174]\n"
     ]
    },
    {
     "name": "stderr",
     "output_type": "stream",
     "text": [
      "[I 2024-04-10 19:13:23,314] Trial 28 finished with value: 0.7709451943830199 and parameters: {'model__n_estimators': 650, 'model__learning_rate': 0.04, 'model__max_depth': 3, 'model__num_leaves': 120, 'model__min_gain_to_split': 1.0, 'model__min_data_in_leaf': 1800, 'model__lambda_l1': 35, 'model__lambda_l2': 95, 'model__bagging_fraction': 0.7, 'model__feature_fraction': 0.4, 'model__max_bin': 175}. Best is trial 22 with value: 0.7742675520550966.\n"
     ]
    },
    {
     "name": "stdout",
     "output_type": "stream",
     "text": [
      "Fold: Tuning: n_train=230633, eval_set=76878\n",
      "Fold: Tuning: n_train=230633, eval_set=76878\n",
      "Fold: Tuning: n_train=230633, eval_set=76878\n",
      "Fold: Tuning: n_train=230634, eval_set=76877\n",
      "Tune: val_score:0.7743257356848868, train_set_score:0.8069802427887509, folds val/train: [0.7712893097370921, 0.7752299566174499, 0.7781827818805045, 0.7726008945045008] / [0.807683988245202, 0.8068994144342221, 0.8054950012313755, 0.8078425672442038]\n"
     ]
    },
    {
     "name": "stderr",
     "output_type": "stream",
     "text": [
      "[I 2024-04-10 19:14:12,098] Trial 29 finished with value: 0.7743257356848868 and parameters: {'model__n_estimators': 550, 'model__learning_rate': 0.060000000000000005, 'model__max_depth': 4, 'model__num_leaves': 136, 'model__min_gain_to_split': 3.5, 'model__min_data_in_leaf': 2300, 'model__lambda_l1': 50, 'model__lambda_l2': 80, 'model__bagging_fraction': 0.8, 'model__feature_fraction': 0.5, 'model__max_bin': 250}. Best is trial 29 with value: 0.7743257356848868.\n"
     ]
    },
    {
     "name": "stdout",
     "output_type": "stream",
     "text": [
      "Fold: Tuning: n_train=230633, eval_set=76878\n",
      "Fold: Tuning: n_train=230633, eval_set=76878\n",
      "Fold: Tuning: n_train=230633, eval_set=76878\n",
      "Fold: Tuning: n_train=230634, eval_set=76877\n",
      "Tune: val_score:0.7702373022372185, train_set_score:0.8037456465072756, folds val/train: [0.7675000389103875, 0.7706221004905109, 0.7739699140582381, 0.7688571554897377] / [0.804350810440834, 0.8038216318284868, 0.8025069495491083, 0.8043031942106731]\n"
     ]
    },
    {
     "name": "stderr",
     "output_type": "stream",
     "text": [
      "[I 2024-04-10 19:14:28,151] Trial 30 finished with value: 0.7702373022372185 and parameters: {'model__n_estimators': 550, 'model__learning_rate': 0.17, 'model__max_depth': 6, 'model__num_leaves': 144, 'model__min_gain_to_split': 7.5, 'model__min_data_in_leaf': 2600, 'model__lambda_l1': 50, 'model__lambda_l2': 70, 'model__bagging_fraction': 0.8, 'model__feature_fraction': 0.5, 'model__max_bin': 75}. Best is trial 29 with value: 0.7743257356848868.\n"
     ]
    },
    {
     "name": "stdout",
     "output_type": "stream",
     "text": [
      "Fold: Tuning: n_train=230633, eval_set=76878\n",
      "Fold: Tuning: n_train=230633, eval_set=76878\n",
      "Fold: Tuning: n_train=230633, eval_set=76878\n",
      "Fold: Tuning: n_train=230634, eval_set=76877\n",
      "Tune: val_score:0.7747365785437048, train_set_score:0.8102517290119774, folds val/train: [0.7719594617307359, 0.7754257705235632, 0.7785509385932122, 0.773010143327308] / [0.8104452415684089, 0.8106000921055321, 0.8091295083997243, 0.8108320739742444]\n"
     ]
    },
    {
     "name": "stderr",
     "output_type": "stream",
     "text": [
      "[I 2024-04-10 19:15:17,384] Trial 31 finished with value: 0.7747365785437048 and parameters: {'model__n_estimators': 700, 'model__learning_rate': 0.060000000000000005, 'model__max_depth': 4, 'model__num_leaves': 176, 'model__min_gain_to_split': 2.5, 'model__min_data_in_leaf': 2300, 'model__lambda_l1': 55, 'model__lambda_l2': 100, 'model__bagging_fraction': 0.7, 'model__feature_fraction': 0.5, 'model__max_bin': 250}. Best is trial 31 with value: 0.7747365785437048.\n"
     ]
    },
    {
     "name": "stdout",
     "output_type": "stream",
     "text": [
      "Fold: Tuning: n_train=230633, eval_set=76878\n",
      "Fold: Tuning: n_train=230633, eval_set=76878\n",
      "Fold: Tuning: n_train=230633, eval_set=76878\n",
      "Fold: Tuning: n_train=230634, eval_set=76877\n",
      "Tune: val_score:0.7743068439084955, train_set_score:0.8084576711174394, folds val/train: [0.7718452539872096, 0.774284132792304, 0.778225464587305, 0.7728725242671632] / [0.8095754774350794, 0.8068967913838174, 0.8077241693260211, 0.8096342463248397]\n"
     ]
    },
    {
     "name": "stderr",
     "output_type": "stream",
     "text": [
      "[I 2024-04-10 19:16:01,718] Trial 32 finished with value: 0.7743068439084955 and parameters: {'model__n_estimators': 500, 'model__learning_rate': 0.06999999999999999, 'model__max_depth': 4, 'model__num_leaves': 168, 'model__min_gain_to_split': 2.5, 'model__min_data_in_leaf': 2100, 'model__lambda_l1': 55, 'model__lambda_l2': 100, 'model__bagging_fraction': 0.8, 'model__feature_fraction': 0.5, 'model__max_bin': 250}. Best is trial 31 with value: 0.7747365785437048.\n"
     ]
    },
    {
     "name": "stdout",
     "output_type": "stream",
     "text": [
      "Fold: Tuning: n_train=230633, eval_set=76878\n",
      "Fold: Tuning: n_train=230633, eval_set=76878\n",
      "Fold: Tuning: n_train=230633, eval_set=76878\n",
      "Fold: Tuning: n_train=230634, eval_set=76877\n",
      "Tune: val_score:0.7733367145536663, train_set_score:0.8078380833931729, folds val/train: [0.7702576134735115, 0.7737267848316435, 0.7772392727286568, 0.7721231871808529] / [0.808400306699955, 0.8085670367063813, 0.8068541274824077, 0.807530862683947]\n"
     ]
    },
    {
     "name": "stderr",
     "output_type": "stream",
     "text": [
      "[I 2024-04-10 19:16:28,337] Trial 33 finished with value: 0.7733367145536663 and parameters: {'model__n_estimators': 400, 'model__learning_rate': 0.13, 'model__max_depth': 4, 'model__num_leaves': 176, 'model__min_gain_to_split': 3.0, 'model__min_data_in_leaf': 2300, 'model__lambda_l1': 55, 'model__lambda_l2': 100, 'model__bagging_fraction': 0.9000000000000001, 'model__feature_fraction': 0.5, 'model__max_bin': 225}. Best is trial 31 with value: 0.7747365785437048.\n"
     ]
    },
    {
     "name": "stdout",
     "output_type": "stream",
     "text": [
      "Fold: Tuning: n_train=230633, eval_set=76878\n",
      "Fold: Tuning: n_train=230633, eval_set=76878\n",
      "Fold: Tuning: n_train=230633, eval_set=76878\n",
      "Fold: Tuning: n_train=230634, eval_set=76877\n",
      "Tune: val_score:0.7730653047962718, train_set_score:0.7963428386094107, folds val/train: [0.7700025961747359, 0.7738373741378688, 0.776434579745803, 0.7719866691266795] / [0.7971038654903762, 0.7970329855375333, 0.7955324750071602, 0.7957020284025731]\n"
     ]
    },
    {
     "name": "stderr",
     "output_type": "stream",
     "text": [
      "[I 2024-04-10 19:17:05,343] Trial 34 finished with value: 0.7730653047962718 and parameters: {'model__n_estimators': 500, 'model__learning_rate': 0.08, 'model__max_depth': 3, 'model__num_leaves': 224, 'model__min_gain_to_split': 4.0, 'model__min_data_in_leaf': 2100, 'model__lambda_l1': 60, 'model__lambda_l2': 110, 'model__bagging_fraction': 0.8, 'model__feature_fraction': 0.6000000000000001, 'model__max_bin': 250}. Best is trial 31 with value: 0.7747365785437048.\n"
     ]
    },
    {
     "name": "stdout",
     "output_type": "stream",
     "text": [
      "Fold: Tuning: n_train=230633, eval_set=76878\n",
      "Fold: Tuning: n_train=230633, eval_set=76878\n",
      "Fold: Tuning: n_train=230633, eval_set=76878\n",
      "Fold: Tuning: n_train=230634, eval_set=76877\n",
      "Tune: val_score:0.772675772317332, train_set_score:0.8010258103504124, folds val/train: [0.7690247090631179, 0.7740106905933317, 0.7762444235175338, 0.7714232660953444] / [0.8016927948342473, 0.8016959961918196, 0.7993270868167366, 0.801387363558846]\n"
     ]
    },
    {
     "name": "stderr",
     "output_type": "stream",
     "text": [
      "[I 2024-04-10 19:17:30,776] Trial 35 finished with value: 0.772675772317332 and parameters: {'model__n_estimators': 400, 'model__learning_rate': 0.09999999999999999, 'model__max_depth': 4, 'model__num_leaves': 176, 'model__min_gain_to_split': 5.0, 'model__min_data_in_leaf': 2500, 'model__lambda_l1': 55, 'model__lambda_l2': 80, 'model__bagging_fraction': 0.8, 'model__feature_fraction': 0.5, 'model__max_bin': 225}. Best is trial 31 with value: 0.7747365785437048.\n"
     ]
    },
    {
     "name": "stdout",
     "output_type": "stream",
     "text": [
      "Fold: Tuning: n_train=230633, eval_set=76878\n",
      "Fold: Tuning: n_train=230633, eval_set=76878\n",
      "Fold: Tuning: n_train=230633, eval_set=76878\n",
      "Fold: Tuning: n_train=230634, eval_set=76877\n",
      "Tune: val_score:0.77166116793218, train_set_score:0.7918549503333232, folds val/train: [0.7681257501761558, 0.7731501727086605, 0.7753202068278822, 0.7700485420160215] / [0.7924610721007352, 0.7916876974427314, 0.7910055309488238, 0.7922655008410026]\n"
     ]
    },
    {
     "name": "stderr",
     "output_type": "stream",
     "text": [
      "[I 2024-04-10 19:18:10,625] Trial 36 finished with value: 0.77166116793218 and parameters: {'model__n_estimators': 550, 'model__learning_rate': 0.060000000000000005, 'model__max_depth': 3, 'model__num_leaves': 168, 'model__min_gain_to_split': 2.5, 'model__min_data_in_leaf': 2700, 'model__lambda_l1': 70, 'model__lambda_l2': 100, 'model__bagging_fraction': 1.0, 'model__feature_fraction': 0.5, 'model__max_bin': 125}. Best is trial 31 with value: 0.7747365785437048.\n"
     ]
    },
    {
     "name": "stdout",
     "output_type": "stream",
     "text": [
      "Fold: Tuning: n_train=230633, eval_set=76878\n",
      "Fold: Tuning: n_train=230633, eval_set=76878\n",
      "Fold: Tuning: n_train=230633, eval_set=76878\n",
      "Fold: Tuning: n_train=230634, eval_set=76877\n",
      "Tune: val_score:0.7706405321336345, train_set_score:0.8016784685106977, folds val/train: [0.7681074024318577, 0.771386708785425, 0.773748118378548, 0.7693198989387067] / [0.8024269013147098, 0.8022538496188081, 0.7997750347662211, 0.8022580883430519]\n"
     ]
    },
    {
     "name": "stderr",
     "output_type": "stream",
     "text": [
      "[I 2024-04-10 19:18:26,967] Trial 37 finished with value: 0.7706405321336345 and parameters: {'model__n_estimators': 300, 'model__learning_rate': 0.14, 'model__max_depth': 5, 'model__num_leaves': 240, 'model__min_gain_to_split': 8.5, 'model__min_data_in_leaf': 1000, 'model__lambda_l1': 65, 'model__lambda_l2': 100, 'model__bagging_fraction': 0.9000000000000001, 'model__feature_fraction': 0.6000000000000001, 'model__max_bin': 200}. Best is trial 31 with value: 0.7747365785437048.\n"
     ]
    },
    {
     "name": "stdout",
     "output_type": "stream",
     "text": [
      "Fold: Tuning: n_train=230633, eval_set=76878\n",
      "Fold: Tuning: n_train=230633, eval_set=76878\n",
      "Fold: Tuning: n_train=230633, eval_set=76878\n",
      "Fold: Tuning: n_train=230634, eval_set=76877\n",
      "Tune: val_score:0.7727601123177286, train_set_score:0.8139511411003001, folds val/train: [0.7698709754571694, 0.7725285634249159, 0.7768119815407333, 0.7718289288480953] / [0.8150436185520262, 0.8146773336529354, 0.8112291122672064, 0.8148544999290325]\n"
     ]
    },
    {
     "name": "stderr",
     "output_type": "stream",
     "text": [
      "[I 2024-04-10 19:18:49,062] Trial 38 finished with value: 0.7727601123177286 and parameters: {'model__n_estimators': 450, 'model__learning_rate': 0.12, 'model__max_depth': 5, 'model__num_leaves': 136, 'model__min_gain_to_split': 6.5, 'model__min_data_in_leaf': 2200, 'model__lambda_l1': 10, 'model__lambda_l2': 80, 'model__bagging_fraction': 0.8, 'model__feature_fraction': 0.4, 'model__max_bin': 275}. Best is trial 31 with value: 0.7747365785437048.\n"
     ]
    },
    {
     "name": "stdout",
     "output_type": "stream",
     "text": [
      "Fold: Tuning: n_train=230633, eval_set=76878\n",
      "Fold: Tuning: n_train=230633, eval_set=76878\n",
      "Fold: Tuning: n_train=230633, eval_set=76878\n",
      "Fold: Tuning: n_train=230634, eval_set=76877\n",
      "Tune: val_score:0.7715441049918313, train_set_score:0.7975178892284276, folds val/train: [0.7695202616288412, 0.7689766165696017, 0.776464733547028, 0.7712148082218543] / [0.8042930620427399, 0.785641840431445, 0.8012237331562035, 0.7989129212833219]\n"
     ]
    },
    {
     "name": "stderr",
     "output_type": "stream",
     "text": [
      "[I 2024-04-10 19:19:07,232] Trial 39 finished with value: 0.7715441049918313 and parameters: {'model__n_estimators': 650, 'model__learning_rate': 0.24000000000000002, 'model__max_depth': 3, 'model__num_leaves': 192, 'model__min_gain_to_split': 2.0, 'model__min_data_in_leaf': 1300, 'model__lambda_l1': 50, 'model__lambda_l2': 105, 'model__bagging_fraction': 0.8, 'model__feature_fraction': 0.30000000000000004, 'model__max_bin': 175}. Best is trial 31 with value: 0.7747365785437048.\n"
     ]
    },
    {
     "name": "stdout",
     "output_type": "stream",
     "text": [
      "Fold: Tuning: n_train=230633, eval_set=76878\n",
      "Fold: Tuning: n_train=230633, eval_set=76878\n",
      "Fold: Tuning: n_train=230633, eval_set=76878\n",
      "Fold: Tuning: n_train=230634, eval_set=76877\n",
      "Tune: val_score:0.7708186765685232, train_set_score:0.7965500004486861, folds val/train: [0.7681901249949001, 0.7714695971029013, 0.7743899099340545, 0.7692250742422369] / [0.7974157666343139, 0.7962333385975258, 0.795980077960983, 0.7965708186019215]\n"
     ]
    },
    {
     "name": "stderr",
     "output_type": "stream",
     "text": [
      "[I 2024-04-10 19:19:34,011] Trial 40 finished with value: 0.7708186765685232 and parameters: {'model__n_estimators': 300, 'model__learning_rate': 0.060000000000000005, 'model__max_depth': 4, 'model__num_leaves': 200, 'model__min_gain_to_split': 4.0, 'model__min_data_in_leaf': 700, 'model__lambda_l1': 40, 'model__lambda_l2': 85, 'model__bagging_fraction': 0.9000000000000001, 'model__feature_fraction': 0.4, 'model__max_bin': 250}. Best is trial 31 with value: 0.7747365785437048.\n"
     ]
    },
    {
     "name": "stdout",
     "output_type": "stream",
     "text": [
      "Fold: Tuning: n_train=230633, eval_set=76878\n",
      "Fold: Tuning: n_train=230633, eval_set=76878\n",
      "Fold: Tuning: n_train=230633, eval_set=76878\n",
      "Fold: Tuning: n_train=230634, eval_set=76877\n",
      "Tune: val_score:0.7738055097671629, train_set_score:0.8143031105893676, folds val/train: [0.7698165699862491, 0.7742303169562497, 0.7782478962726777, 0.772927255853475] / [0.8149809626334599, 0.8120725897160306, 0.8140608147821585, 0.8160980752258212]\n"
     ]
    },
    {
     "name": "stderr",
     "output_type": "stream",
     "text": [
      "[I 2024-04-10 19:20:29,133] Trial 41 finished with value: 0.7738055097671629 and parameters: {'model__n_estimators': 700, 'model__learning_rate': 0.03, 'model__max_depth': 6, 'model__num_leaves': 160, 'model__min_gain_to_split': 2.0, 'model__min_data_in_leaf': 1800, 'model__lambda_l1': 45, 'model__lambda_l2': 95, 'model__bagging_fraction': 0.7, 'model__feature_fraction': 0.2, 'model__max_bin': 350}. Best is trial 31 with value: 0.7747365785437048.\n"
     ]
    },
    {
     "name": "stdout",
     "output_type": "stream",
     "text": [
      "Fold: Tuning: n_train=230633, eval_set=76878\n",
      "Fold: Tuning: n_train=230633, eval_set=76878\n",
      "Fold: Tuning: n_train=230633, eval_set=76878\n",
      "Fold: Tuning: n_train=230634, eval_set=76877\n",
      "Tune: val_score:0.7748358635606075, train_set_score:0.8177073362845398, folds val/train: [0.772091416294823, 0.7743592824567244, 0.7795392364834566, 0.7733535190074261] / [0.8221066639259631, 0.8115534155468833, 0.8203913559273014, 0.8167779097380116]\n"
     ]
    },
    {
     "name": "stderr",
     "output_type": "stream",
     "text": [
      "[I 2024-04-10 19:21:23,824] Trial 42 finished with value: 0.7748358635606075 and parameters: {'model__n_estimators': 800, 'model__learning_rate': 0.04, 'model__max_depth': 5, 'model__num_leaves': 144, 'model__min_gain_to_split': 3.0, 'model__min_data_in_leaf': 1600, 'model__lambda_l1': 30, 'model__lambda_l2': 105, 'model__bagging_fraction': 0.7, 'model__feature_fraction': 0.30000000000000004, 'model__max_bin': 300}. Best is trial 42 with value: 0.7748358635606075.\n"
     ]
    },
    {
     "name": "stdout",
     "output_type": "stream",
     "text": [
      "Fold: Tuning: n_train=230633, eval_set=76878\n",
      "Fold: Tuning: n_train=230633, eval_set=76878\n",
      "Fold: Tuning: n_train=230633, eval_set=76878\n",
      "Fold: Tuning: n_train=230634, eval_set=76877\n",
      "Tune: val_score:0.7742662364553137, train_set_score:0.814802046753244, folds val/train: [0.7709255114275433, 0.7751041317674126, 0.7778436314966573, 0.7731916711296413] / [0.8151452500562604, 0.8153033640298482, 0.8132743878674207, 0.8154851850594464]\n"
     ]
    },
    {
     "name": "stderr",
     "output_type": "stream",
     "text": [
      "[I 2024-04-10 19:22:06,315] Trial 43 finished with value: 0.7742662364553137 and parameters: {'model__n_estimators': 800, 'model__learning_rate': 0.05, 'model__max_depth': 5, 'model__num_leaves': 144, 'model__min_gain_to_split': 5.0, 'model__min_data_in_leaf': 1400, 'model__lambda_l1': 25, 'model__lambda_l2': 110, 'model__bagging_fraction': 0.6000000000000001, 'model__feature_fraction': 0.30000000000000004, 'model__max_bin': 300}. Best is trial 42 with value: 0.7748358635606075.\n"
     ]
    },
    {
     "name": "stdout",
     "output_type": "stream",
     "text": [
      "Fold: Tuning: n_train=230633, eval_set=76878\n",
      "Fold: Tuning: n_train=230633, eval_set=76878\n",
      "Fold: Tuning: n_train=230633, eval_set=76878\n",
      "Fold: Tuning: n_train=230634, eval_set=76877\n",
      "Tune: val_score:0.7743244960931046, train_set_score:0.8125671239161684, folds val/train: [0.7713945335556276, 0.7739866951202063, 0.7783038985214995, 0.7736128571750849] / [0.8146292427749191, 0.8067662758864824, 0.8138229568693953, 0.8150500201338766]\n"
     ]
    },
    {
     "name": "stderr",
     "output_type": "stream",
     "text": [
      "[I 2024-04-10 19:22:44,437] Trial 44 finished with value: 0.7743244960931046 and parameters: {'model__n_estimators': 900, 'model__learning_rate': 0.08, 'model__max_depth': 4, 'model__num_leaves': 160, 'model__min_gain_to_split': 3.0, 'model__min_data_in_leaf': 2000, 'model__lambda_l1': 35, 'model__lambda_l2': 105, 'model__bagging_fraction': 0.7, 'model__feature_fraction': 0.6000000000000001, 'model__max_bin': 275}. Best is trial 42 with value: 0.7748358635606075.\n"
     ]
    },
    {
     "name": "stdout",
     "output_type": "stream",
     "text": [
      "Fold: Tuning: n_train=230633, eval_set=76878\n",
      "Fold: Tuning: n_train=230633, eval_set=76878\n",
      "Fold: Tuning: n_train=230633, eval_set=76878\n",
      "Fold: Tuning: n_train=230634, eval_set=76877\n",
      "Tune: val_score:0.7736608367887662, train_set_score:0.8011899112331937, folds val/train: [0.770904548168435, 0.7722099975353802, 0.7778674532095287, 0.7736613482417208] / [0.802614692313819, 0.7933625996135726, 0.8037911315275387, 0.8049912214778446]\n"
     ]
    },
    {
     "name": "stderr",
     "output_type": "stream",
     "text": [
      "[I 2024-04-10 19:23:27,337] Trial 45 finished with value: 0.7736608367887662 and parameters: {'model__n_estimators': 900, 'model__learning_rate': 0.08, 'model__max_depth': 3, 'model__num_leaves': 184, 'model__min_gain_to_split': 3.0, 'model__min_data_in_leaf': 1900, 'model__lambda_l1': 35, 'model__lambda_l2': 105, 'model__bagging_fraction': 0.6000000000000001, 'model__feature_fraction': 0.6000000000000001, 'model__max_bin': 250}. Best is trial 42 with value: 0.7748358635606075.\n"
     ]
    },
    {
     "name": "stdout",
     "output_type": "stream",
     "text": [
      "Fold: Tuning: n_train=230633, eval_set=76878\n",
      "Fold: Tuning: n_train=230633, eval_set=76878\n",
      "Fold: Tuning: n_train=230633, eval_set=76878\n",
      "Fold: Tuning: n_train=230634, eval_set=76877\n",
      "Tune: val_score:0.7708296554328085, train_set_score:0.7943258878188357, folds val/train: [0.7676818885637813, 0.7721315174258199, 0.7739871914470134, 0.7695180242946195] / [0.7951899640698799, 0.7940980370849128, 0.7933135149619923, 0.7947020351585581]\n"
     ]
    },
    {
     "name": "stderr",
     "output_type": "stream",
     "text": [
      "[I 2024-04-10 19:24:37,552] Trial 46 finished with value: 0.7708296554328085 and parameters: {'model__n_estimators': 900, 'model__learning_rate': 0.02, 'model__max_depth': 4, 'model__num_leaves': 160, 'model__min_gain_to_split': 2.0, 'model__min_data_in_leaf': 2100, 'model__lambda_l1': 60, 'model__lambda_l2': 95, 'model__bagging_fraction': 0.7, 'model__feature_fraction': 0.5, 'model__max_bin': 275}. Best is trial 42 with value: 0.7748358635606075.\n"
     ]
    },
    {
     "name": "stdout",
     "output_type": "stream",
     "text": [
      "Fold: Tuning: n_train=230633, eval_set=76878\n",
      "Fold: Tuning: n_train=230633, eval_set=76878\n",
      "Fold: Tuning: n_train=230633, eval_set=76878\n",
      "Fold: Tuning: n_train=230634, eval_set=76877\n",
      "Tune: val_score:0.7742450617406971, train_set_score:0.8026888430786033, folds val/train: [0.7716375507987774, 0.7733043063423876, 0.7779634957135471, 0.7740748941080762] / [0.8061613054684211, 0.7955663652064942, 0.8036215374939768, 0.8054061641455212]\n"
     ]
    },
    {
     "name": "stderr",
     "output_type": "stream",
     "text": [
      "[I 2024-04-10 19:25:32,733] Trial 47 finished with value: 0.7742450617406971 and parameters: {'model__n_estimators': 900, 'model__learning_rate': 0.060000000000000005, 'model__max_depth': 3, 'model__num_leaves': 216, 'model__min_gain_to_split': 2.5, 'model__min_data_in_leaf': 2400, 'model__lambda_l1': 40, 'model__lambda_l2': 110, 'model__bagging_fraction': 0.6000000000000001, 'model__feature_fraction': 0.7, 'model__max_bin': 275}. Best is trial 42 with value: 0.7748358635606075.\n"
     ]
    },
    {
     "name": "stdout",
     "output_type": "stream",
     "text": [
      "Fold: Tuning: n_train=230633, eval_set=76878\n",
      "Fold: Tuning: n_train=230633, eval_set=76878\n",
      "Fold: Tuning: n_train=230633, eval_set=76878\n",
      "Fold: Tuning: n_train=230634, eval_set=76877\n",
      "Tune: val_score:0.7708660176914989, train_set_score:0.7981235982639343, folds val/train: [0.7679062380304511, 0.7713518023763563, 0.7748266770980301, 0.769379353261158] / [0.7985624616302476, 0.7984954142731566, 0.7971114975199985, 0.7983250196323346]\n"
     ]
    },
    {
     "name": "stderr",
     "output_type": "stream",
     "text": [
      "[I 2024-04-10 19:25:52,098] Trial 48 finished with value: 0.7708660176914989 and parameters: {'model__n_estimators': 450, 'model__learning_rate': 0.09999999999999999, 'model__max_depth': 5, 'model__num_leaves': 152, 'model__min_gain_to_split': 11.5, 'model__min_data_in_leaf': 3000, 'model__lambda_l1': 50, 'model__lambda_l2': 100, 'model__bagging_fraction': 0.5, 'model__feature_fraction': 0.6000000000000001, 'model__max_bin': 225}. Best is trial 42 with value: 0.7748358635606075.\n"
     ]
    },
    {
     "name": "stdout",
     "output_type": "stream",
     "text": [
      "Fold: Tuning: n_train=230633, eval_set=76878\n",
      "Fold: Tuning: n_train=230633, eval_set=76878\n",
      "Fold: Tuning: n_train=230633, eval_set=76878\n",
      "Fold: Tuning: n_train=230634, eval_set=76877\n",
      "Tune: val_score:0.7748167887410453, train_set_score:0.8374345317020369, folds val/train: [0.7729225467783444, 0.7732539158488247, 0.7792568160138332, 0.773833876323179] / [0.8502563445275622, 0.8204745913988017, 0.8409167981400626, 0.8380903927417211]\n"
     ]
    },
    {
     "name": "stderr",
     "output_type": "stream",
     "text": [
      "[I 2024-04-10 19:26:47,411] Trial 49 finished with value: 0.7748167887410453 and parameters: {'model__n_estimators': 950, 'model__learning_rate': 0.05, 'model__max_depth': 7, 'model__num_leaves': 136, 'model__min_gain_to_split': 0.5, 'model__min_data_in_leaf': 2000, 'model__lambda_l1': 65, 'model__lambda_l2': 105, 'model__bagging_fraction': 0.8, 'model__feature_fraction': 0.5, 'model__max_bin': 225}. Best is trial 42 with value: 0.7748358635606075.\n"
     ]
    },
    {
     "name": "stdout",
     "output_type": "stream",
     "text": [
      "\n",
      " -- -- --\n",
      " TUNING RESULT: \n",
      " LGBMDTuneAUC_Full_DropLowImp: auc = 0.7748358635606075 params: {'model__n_estimators': 800, 'model__learning_rate': 0.04, 'model__max_depth': 5, 'model__num_leaves': 144, 'model__min_gain_to_split': 3.0, 'model__min_data_in_leaf': 1600, 'model__lambda_l1': 30, 'model__lambda_l2': 105, 'model__bagging_fraction': 0.7, 'model__feature_fraction': 0.30000000000000004, 'model__max_bin': 300}\n",
      " -- --\n",
      "\n",
      "LGBMDTuneAUC_Full_DropLowImp Fit, total time:1867.5\n"
     ]
    }
   ],
   "source": [
    "tuning_results = run_tuning_for_configs_collection(configs, feature_builder_v2.load_datasets_and_prepare_features)"
   ],
   "metadata": {
    "collapsed": false,
    "ExecuteTime": {
     "end_time": "2024-04-10T16:26:47.432123723Z",
     "start_time": "2024-04-10T15:55:10.253565511Z"
    }
   },
   "id": "4b5d63234ede2e6a",
   "execution_count": 3
  },
  {
   "cell_type": "code",
   "outputs": [
    {
     "name": "stdout",
     "output_type": "stream",
     "text": [
      "LGBMDTuneAUC_Full_DropLowImp\n"
     ]
    },
    {
     "data": {
      "text/plain": "    Trial Number  Mean Test Score (AUC)  mean_test_score  mean_train_score  \\\n42            42               0.774836         0.774836          0.817707   \n49            49               0.774817         0.774817          0.837435   \n31            31               0.774737         0.774737          0.810252   \n29            29               0.774326         0.774326          0.806980   \n44            44               0.774324         0.774324          0.812567   \n32            32               0.774307         0.774307          0.808458   \n22            22               0.774268         0.774268          0.812031   \n43            43               0.774266         0.774266          0.814802   \n47            47               0.774245         0.774245          0.802689   \n20            20               0.774206         0.774206          0.816593   \n27            27               0.774015         0.774015          0.808595   \n41            41               0.773806         0.773806          0.814303   \n0              0               0.773665         0.773665          0.810890   \n45            45               0.773661         0.773661          0.801190   \n25            25               0.773438         0.773438          0.830904   \n24            24               0.773421         0.773421          0.811277   \n33            33               0.773337         0.773337          0.807838   \n11            11               0.773244         0.773244          0.828379   \n34            34               0.773065         0.773065          0.796343   \n17            17               0.773027         0.773027          0.802841   \n23            23               0.772937         0.772937          0.802842   \n38            38               0.772760         0.772760          0.813951   \n14            14               0.772699         0.772699          0.829667   \n35            35               0.772676         0.772676          0.801026   \n16            16               0.772411         0.772411          0.810812   \n7              7               0.772335         0.772335          0.849905   \n15            15               0.772065         0.772065          0.828275   \n36            36               0.771661         0.771661          0.791855   \n39            39               0.771544         0.771544          0.797518   \n9              9               0.771531         0.771531          0.813704   \n19            19               0.771409         0.771409          0.815107   \n4              4               0.770947         0.770947          0.789557   \n28            28               0.770945         0.770945          0.789552   \n48            48               0.770866         0.770866          0.798124   \n46            46               0.770830         0.770830          0.794326   \n40            40               0.770819         0.770819          0.796550   \n3              3               0.770712         0.770712          0.823350   \n37            37               0.770641         0.770641          0.801678   \n1              1               0.770524         0.770524          0.831760   \n6              6               0.770474         0.770474          0.828855   \n5              5               0.770306         0.770306          0.797939   \n30            30               0.770237         0.770237          0.803746   \n12            12               0.770005         0.770005          0.812338   \n8              8               0.769885         0.769885          0.814933   \n13            13               0.769557         0.769557          0.817539   \n2              2               0.769392         0.769392          0.824003   \n18            18               0.767534         0.767534          0.797771   \n10            10               0.756457         0.756457          0.765609   \n21            21               0.741099         0.741099          0.754958   \n26            26               0.715538         0.715538          0.719890   \n\n    macro_f1  micro_f1  f1_target1  precision_target1  recall_target1  \\\n42  0.559122  0.727402    0.286743           0.181765        0.678751   \n49  0.563070  0.735076    0.288926           0.184425        0.666707   \n31  0.556612  0.723181    0.284850           0.179957        0.682900   \n29  0.555539  0.721200    0.284190           0.179247        0.685559   \n44  0.557075  0.723922    0.285228           0.180298        0.682336   \n32  0.555490  0.721737    0.283648           0.179031        0.682417   \n22  0.557461  0.724891    0.285258           0.180483        0.680040   \n43  0.557688  0.725216    0.285475           0.180662        0.679960   \n47  0.554358  0.719347    0.283201           0.178380        0.686767   \n20  0.558262  0.726341    0.285780           0.181032        0.678187   \n27  0.556148  0.722182    0.284681           0.179691        0.684794   \n41  0.557780  0.725350    0.285562           0.180735        0.679919   \n0   0.555805  0.722052    0.284058           0.179317        0.683021   \n45  0.553589  0.717965    0.282704           0.177872        0.688459   \n25  0.560771  0.732058    0.286481           0.182467        0.666304   \n24  0.556610  0.723838    0.284311           0.179764        0.679476   \n33  0.554859  0.720901    0.282991           0.178519        0.682256   \n11  0.559696  0.729509    0.286256           0.181870        0.671903   \n34  0.552326  0.715935    0.281690           0.176971        0.689950   \n17  0.553914  0.718589    0.282880           0.178074        0.687533   \n23  0.554534  0.719766    0.283231           0.178466        0.685841   \n38  0.557103  0.724566    0.284764           0.180147        0.679194   \n14  0.559652  0.730371    0.285471           0.181582        0.667190   \n35  0.553672  0.718332    0.282576           0.177860        0.687130   \n16  0.555101  0.721327    0.283157           0.178685        0.681772   \n7   0.565175  0.739518    0.289841           0.185818        0.658449   \n15  0.559625  0.729837    0.285842           0.181695        0.669728   \n36  0.550795  0.713155    0.280733           0.175992        0.693414   \n39  0.552218  0.716950    0.280623           0.176531        0.683867   \n9   0.556024  0.723285    0.283518           0.179221        0.678187   \n19  0.555804  0.722758    0.283481           0.179110        0.679355   \n4   0.549789  0.712300    0.279300           0.175050        0.690554   \n28  0.549621  0.711783    0.279372           0.175011        0.692044   \n48  0.551237  0.714843    0.280276           0.175999        0.687774   \n46  0.550777  0.714026    0.279971           0.175698        0.688701   \n40  0.551802  0.715779    0.280703           0.176389        0.686969   \n3   0.557907  0.727691    0.283936           0.180227        0.668761   \n37  0.552348  0.717061    0.280809           0.176654        0.684230   \n1   0.560118  0.731548    0.285512           0.181822        0.664411   \n6   0.559370  0.730162    0.285042           0.181301        0.666304   \n5   0.552180  0.716719    0.280732           0.176556        0.684794   \n30  0.552437  0.717656    0.280508           0.176580        0.681772   \n12  0.554061  0.720472    0.281648           0.177688        0.678792   \n8   0.554665  0.722114    0.281588           0.177929        0.674602   \n13  0.555946  0.723841    0.282899           0.178966        0.674763   \n2   0.557435  0.726764    0.283685           0.179921        0.670211   \n18  0.549562  0.713207    0.278062           0.174490        0.684149   \n10  0.536269  0.693819    0.265970           0.164899        0.687130   \n21  0.526522  0.682141    0.255078           0.157299        0.674119   \n26  0.508110  0.658019    0.236561           0.144283        0.656314   \n\n    log_loss    pr_auc                                         Parameters  \n42  0.544391  0.263785  {'model__objective': 'binary', 'model__class_w...  \n49  0.531953  0.263765  {'model__objective': 'binary', 'model__class_w...  \n31  0.548690  0.263365  {'model__objective': 'binary', 'model__class_w...  \n29  0.551165  0.262403  {'model__objective': 'binary', 'model__class_w...  \n44  0.547310  0.262296  {'model__objective': 'binary', 'model__class_w...  \n32  0.550035  0.262227  {'model__objective': 'binary', 'model__class_w...  \n22  0.547917  0.262534  {'model__objective': 'binary', 'model__class_w...  \n43  0.546347  0.263198  {'model__objective': 'binary', 'model__class_w...  \n47  0.553553  0.262095  {'model__objective': 'binary', 'model__class_w...  \n20  0.546253  0.262447  {'model__objective': 'binary', 'model__class_w...  \n27  0.550223  0.262326  {'model__objective': 'binary', 'model__class_w...  \n41  0.547773  0.261853  {'model__objective': 'binary', 'model__class_w...  \n0   0.548541  0.261089  {'model__objective': 'binary', 'model__class_w...  \n45  0.554493  0.261455  {'model__objective': 'binary', 'model__class_w...  \n25  0.536773  0.262799  {'model__objective': 'binary', 'model__class_w...  \n24  0.548577  0.262138  {'model__objective': 'binary', 'model__class_w...  \n33  0.550683  0.261024  {'model__objective': 'binary', 'model__class_w...  \n11  0.537876  0.260213  {'model__objective': 'binary', 'model__class_w...  \n34  0.557712  0.260038  {'model__objective': 'binary', 'model__class_w...  \n17  0.553995  0.260443  {'model__objective': 'binary', 'model__class_w...  \n23  0.554338  0.261089  {'model__objective': 'binary', 'model__class_w...  \n38  0.546878  0.261770  {'model__objective': 'binary', 'model__class_w...  \n14  0.537071  0.260163  {'model__objective': 'binary', 'model__class_w...  \n35  0.555125  0.260170  {'model__objective': 'binary', 'model__class_w...  \n16  0.548846  0.259654  {'model__objective': 'binary', 'model__class_w...  \n7   0.524639  0.258021  {'model__objective': 'binary', 'model__class_w...  \n15  0.538294  0.259857  {'model__objective': 'binary', 'model__class_w...  \n36  0.561125  0.258664  {'model__objective': 'binary', 'model__class_w...  \n39  0.557353  0.257449  {'model__objective': 'binary', 'model__class_w...  \n9   0.548192  0.258780  {'model__objective': 'binary', 'model__class_w...  \n19  0.547094  0.257697  {'model__objective': 'binary', 'model__class_w...  \n4   0.562484  0.257304  {'model__objective': 'binary', 'model__class_w...  \n28  0.563114  0.257943  {'model__objective': 'binary', 'model__class_w...  \n48  0.557819  0.257684  {'model__objective': 'binary', 'model__class_w...  \n46  0.560434  0.257916  {'model__objective': 'binary', 'model__class_w...  \n40  0.558983  0.258120  {'model__objective': 'binary', 'model__class_w...  \n3   0.541200  0.256293  {'model__objective': 'binary', 'model__class_w...  \n37  0.555274  0.257344  {'model__objective': 'binary', 'model__class_w...  \n1   0.535737  0.257220  {'model__objective': 'binary', 'model__class_w...  \n6   0.539256  0.256933  {'model__objective': 'binary', 'model__class_w...  \n5   0.557860  0.256853  {'model__objective': 'binary', 'model__class_w...  \n30  0.554131  0.257419  {'model__objective': 'binary', 'model__class_w...  \n12  0.551055  0.256168  {'model__objective': 'binary', 'model__class_w...  \n8   0.547290  0.256839  {'model__objective': 'binary', 'model__class_w...  \n13  0.545456  0.255012  {'model__objective': 'binary', 'model__class_w...  \n2   0.542293  0.254382  {'model__objective': 'binary', 'model__class_w...  \n18  0.559253  0.253230  {'model__objective': 'binary', 'model__class_w...  \n10  0.585940  0.238183  {'model__objective': 'binary', 'model__class_w...  \n21  0.627545  0.218513  {'model__objective': 'binary', 'model__class_w...  \n26  0.680209  0.193649  {'model__objective': 'binary', 'model__class_w...  ",
      "text/html": "<div>\n<style scoped>\n    .dataframe tbody tr th:only-of-type {\n        vertical-align: middle;\n    }\n\n    .dataframe tbody tr th {\n        vertical-align: top;\n    }\n\n    .dataframe thead th {\n        text-align: right;\n    }\n</style>\n<table border=\"1\" class=\"dataframe\">\n  <thead>\n    <tr style=\"text-align: right;\">\n      <th></th>\n      <th>Trial Number</th>\n      <th>Mean Test Score (AUC)</th>\n      <th>mean_test_score</th>\n      <th>mean_train_score</th>\n      <th>macro_f1</th>\n      <th>micro_f1</th>\n      <th>f1_target1</th>\n      <th>precision_target1</th>\n      <th>recall_target1</th>\n      <th>log_loss</th>\n      <th>pr_auc</th>\n      <th>Parameters</th>\n    </tr>\n  </thead>\n  <tbody>\n    <tr>\n      <th>42</th>\n      <td>42</td>\n      <td>0.774836</td>\n      <td>0.774836</td>\n      <td>0.817707</td>\n      <td>0.559122</td>\n      <td>0.727402</td>\n      <td>0.286743</td>\n      <td>0.181765</td>\n      <td>0.678751</td>\n      <td>0.544391</td>\n      <td>0.263785</td>\n      <td>{'model__objective': 'binary', 'model__class_w...</td>\n    </tr>\n    <tr>\n      <th>49</th>\n      <td>49</td>\n      <td>0.774817</td>\n      <td>0.774817</td>\n      <td>0.837435</td>\n      <td>0.563070</td>\n      <td>0.735076</td>\n      <td>0.288926</td>\n      <td>0.184425</td>\n      <td>0.666707</td>\n      <td>0.531953</td>\n      <td>0.263765</td>\n      <td>{'model__objective': 'binary', 'model__class_w...</td>\n    </tr>\n    <tr>\n      <th>31</th>\n      <td>31</td>\n      <td>0.774737</td>\n      <td>0.774737</td>\n      <td>0.810252</td>\n      <td>0.556612</td>\n      <td>0.723181</td>\n      <td>0.284850</td>\n      <td>0.179957</td>\n      <td>0.682900</td>\n      <td>0.548690</td>\n      <td>0.263365</td>\n      <td>{'model__objective': 'binary', 'model__class_w...</td>\n    </tr>\n    <tr>\n      <th>29</th>\n      <td>29</td>\n      <td>0.774326</td>\n      <td>0.774326</td>\n      <td>0.806980</td>\n      <td>0.555539</td>\n      <td>0.721200</td>\n      <td>0.284190</td>\n      <td>0.179247</td>\n      <td>0.685559</td>\n      <td>0.551165</td>\n      <td>0.262403</td>\n      <td>{'model__objective': 'binary', 'model__class_w...</td>\n    </tr>\n    <tr>\n      <th>44</th>\n      <td>44</td>\n      <td>0.774324</td>\n      <td>0.774324</td>\n      <td>0.812567</td>\n      <td>0.557075</td>\n      <td>0.723922</td>\n      <td>0.285228</td>\n      <td>0.180298</td>\n      <td>0.682336</td>\n      <td>0.547310</td>\n      <td>0.262296</td>\n      <td>{'model__objective': 'binary', 'model__class_w...</td>\n    </tr>\n    <tr>\n      <th>32</th>\n      <td>32</td>\n      <td>0.774307</td>\n      <td>0.774307</td>\n      <td>0.808458</td>\n      <td>0.555490</td>\n      <td>0.721737</td>\n      <td>0.283648</td>\n      <td>0.179031</td>\n      <td>0.682417</td>\n      <td>0.550035</td>\n      <td>0.262227</td>\n      <td>{'model__objective': 'binary', 'model__class_w...</td>\n    </tr>\n    <tr>\n      <th>22</th>\n      <td>22</td>\n      <td>0.774268</td>\n      <td>0.774268</td>\n      <td>0.812031</td>\n      <td>0.557461</td>\n      <td>0.724891</td>\n      <td>0.285258</td>\n      <td>0.180483</td>\n      <td>0.680040</td>\n      <td>0.547917</td>\n      <td>0.262534</td>\n      <td>{'model__objective': 'binary', 'model__class_w...</td>\n    </tr>\n    <tr>\n      <th>43</th>\n      <td>43</td>\n      <td>0.774266</td>\n      <td>0.774266</td>\n      <td>0.814802</td>\n      <td>0.557688</td>\n      <td>0.725216</td>\n      <td>0.285475</td>\n      <td>0.180662</td>\n      <td>0.679960</td>\n      <td>0.546347</td>\n      <td>0.263198</td>\n      <td>{'model__objective': 'binary', 'model__class_w...</td>\n    </tr>\n    <tr>\n      <th>47</th>\n      <td>47</td>\n      <td>0.774245</td>\n      <td>0.774245</td>\n      <td>0.802689</td>\n      <td>0.554358</td>\n      <td>0.719347</td>\n      <td>0.283201</td>\n      <td>0.178380</td>\n      <td>0.686767</td>\n      <td>0.553553</td>\n      <td>0.262095</td>\n      <td>{'model__objective': 'binary', 'model__class_w...</td>\n    </tr>\n    <tr>\n      <th>20</th>\n      <td>20</td>\n      <td>0.774206</td>\n      <td>0.774206</td>\n      <td>0.816593</td>\n      <td>0.558262</td>\n      <td>0.726341</td>\n      <td>0.285780</td>\n      <td>0.181032</td>\n      <td>0.678187</td>\n      <td>0.546253</td>\n      <td>0.262447</td>\n      <td>{'model__objective': 'binary', 'model__class_w...</td>\n    </tr>\n    <tr>\n      <th>27</th>\n      <td>27</td>\n      <td>0.774015</td>\n      <td>0.774015</td>\n      <td>0.808595</td>\n      <td>0.556148</td>\n      <td>0.722182</td>\n      <td>0.284681</td>\n      <td>0.179691</td>\n      <td>0.684794</td>\n      <td>0.550223</td>\n      <td>0.262326</td>\n      <td>{'model__objective': 'binary', 'model__class_w...</td>\n    </tr>\n    <tr>\n      <th>41</th>\n      <td>41</td>\n      <td>0.773806</td>\n      <td>0.773806</td>\n      <td>0.814303</td>\n      <td>0.557780</td>\n      <td>0.725350</td>\n      <td>0.285562</td>\n      <td>0.180735</td>\n      <td>0.679919</td>\n      <td>0.547773</td>\n      <td>0.261853</td>\n      <td>{'model__objective': 'binary', 'model__class_w...</td>\n    </tr>\n    <tr>\n      <th>0</th>\n      <td>0</td>\n      <td>0.773665</td>\n      <td>0.773665</td>\n      <td>0.810890</td>\n      <td>0.555805</td>\n      <td>0.722052</td>\n      <td>0.284058</td>\n      <td>0.179317</td>\n      <td>0.683021</td>\n      <td>0.548541</td>\n      <td>0.261089</td>\n      <td>{'model__objective': 'binary', 'model__class_w...</td>\n    </tr>\n    <tr>\n      <th>45</th>\n      <td>45</td>\n      <td>0.773661</td>\n      <td>0.773661</td>\n      <td>0.801190</td>\n      <td>0.553589</td>\n      <td>0.717965</td>\n      <td>0.282704</td>\n      <td>0.177872</td>\n      <td>0.688459</td>\n      <td>0.554493</td>\n      <td>0.261455</td>\n      <td>{'model__objective': 'binary', 'model__class_w...</td>\n    </tr>\n    <tr>\n      <th>25</th>\n      <td>25</td>\n      <td>0.773438</td>\n      <td>0.773438</td>\n      <td>0.830904</td>\n      <td>0.560771</td>\n      <td>0.732058</td>\n      <td>0.286481</td>\n      <td>0.182467</td>\n      <td>0.666304</td>\n      <td>0.536773</td>\n      <td>0.262799</td>\n      <td>{'model__objective': 'binary', 'model__class_w...</td>\n    </tr>\n    <tr>\n      <th>24</th>\n      <td>24</td>\n      <td>0.773421</td>\n      <td>0.773421</td>\n      <td>0.811277</td>\n      <td>0.556610</td>\n      <td>0.723838</td>\n      <td>0.284311</td>\n      <td>0.179764</td>\n      <td>0.679476</td>\n      <td>0.548577</td>\n      <td>0.262138</td>\n      <td>{'model__objective': 'binary', 'model__class_w...</td>\n    </tr>\n    <tr>\n      <th>33</th>\n      <td>33</td>\n      <td>0.773337</td>\n      <td>0.773337</td>\n      <td>0.807838</td>\n      <td>0.554859</td>\n      <td>0.720901</td>\n      <td>0.282991</td>\n      <td>0.178519</td>\n      <td>0.682256</td>\n      <td>0.550683</td>\n      <td>0.261024</td>\n      <td>{'model__objective': 'binary', 'model__class_w...</td>\n    </tr>\n    <tr>\n      <th>11</th>\n      <td>11</td>\n      <td>0.773244</td>\n      <td>0.773244</td>\n      <td>0.828379</td>\n      <td>0.559696</td>\n      <td>0.729509</td>\n      <td>0.286256</td>\n      <td>0.181870</td>\n      <td>0.671903</td>\n      <td>0.537876</td>\n      <td>0.260213</td>\n      <td>{'model__objective': 'binary', 'model__class_w...</td>\n    </tr>\n    <tr>\n      <th>34</th>\n      <td>34</td>\n      <td>0.773065</td>\n      <td>0.773065</td>\n      <td>0.796343</td>\n      <td>0.552326</td>\n      <td>0.715935</td>\n      <td>0.281690</td>\n      <td>0.176971</td>\n      <td>0.689950</td>\n      <td>0.557712</td>\n      <td>0.260038</td>\n      <td>{'model__objective': 'binary', 'model__class_w...</td>\n    </tr>\n    <tr>\n      <th>17</th>\n      <td>17</td>\n      <td>0.773027</td>\n      <td>0.773027</td>\n      <td>0.802841</td>\n      <td>0.553914</td>\n      <td>0.718589</td>\n      <td>0.282880</td>\n      <td>0.178074</td>\n      <td>0.687533</td>\n      <td>0.553995</td>\n      <td>0.260443</td>\n      <td>{'model__objective': 'binary', 'model__class_w...</td>\n    </tr>\n    <tr>\n      <th>23</th>\n      <td>23</td>\n      <td>0.772937</td>\n      <td>0.772937</td>\n      <td>0.802842</td>\n      <td>0.554534</td>\n      <td>0.719766</td>\n      <td>0.283231</td>\n      <td>0.178466</td>\n      <td>0.685841</td>\n      <td>0.554338</td>\n      <td>0.261089</td>\n      <td>{'model__objective': 'binary', 'model__class_w...</td>\n    </tr>\n    <tr>\n      <th>38</th>\n      <td>38</td>\n      <td>0.772760</td>\n      <td>0.772760</td>\n      <td>0.813951</td>\n      <td>0.557103</td>\n      <td>0.724566</td>\n      <td>0.284764</td>\n      <td>0.180147</td>\n      <td>0.679194</td>\n      <td>0.546878</td>\n      <td>0.261770</td>\n      <td>{'model__objective': 'binary', 'model__class_w...</td>\n    </tr>\n    <tr>\n      <th>14</th>\n      <td>14</td>\n      <td>0.772699</td>\n      <td>0.772699</td>\n      <td>0.829667</td>\n      <td>0.559652</td>\n      <td>0.730371</td>\n      <td>0.285471</td>\n      <td>0.181582</td>\n      <td>0.667190</td>\n      <td>0.537071</td>\n      <td>0.260163</td>\n      <td>{'model__objective': 'binary', 'model__class_w...</td>\n    </tr>\n    <tr>\n      <th>35</th>\n      <td>35</td>\n      <td>0.772676</td>\n      <td>0.772676</td>\n      <td>0.801026</td>\n      <td>0.553672</td>\n      <td>0.718332</td>\n      <td>0.282576</td>\n      <td>0.177860</td>\n      <td>0.687130</td>\n      <td>0.555125</td>\n      <td>0.260170</td>\n      <td>{'model__objective': 'binary', 'model__class_w...</td>\n    </tr>\n    <tr>\n      <th>16</th>\n      <td>16</td>\n      <td>0.772411</td>\n      <td>0.772411</td>\n      <td>0.810812</td>\n      <td>0.555101</td>\n      <td>0.721327</td>\n      <td>0.283157</td>\n      <td>0.178685</td>\n      <td>0.681772</td>\n      <td>0.548846</td>\n      <td>0.259654</td>\n      <td>{'model__objective': 'binary', 'model__class_w...</td>\n    </tr>\n    <tr>\n      <th>7</th>\n      <td>7</td>\n      <td>0.772335</td>\n      <td>0.772335</td>\n      <td>0.849905</td>\n      <td>0.565175</td>\n      <td>0.739518</td>\n      <td>0.289841</td>\n      <td>0.185818</td>\n      <td>0.658449</td>\n      <td>0.524639</td>\n      <td>0.258021</td>\n      <td>{'model__objective': 'binary', 'model__class_w...</td>\n    </tr>\n    <tr>\n      <th>15</th>\n      <td>15</td>\n      <td>0.772065</td>\n      <td>0.772065</td>\n      <td>0.828275</td>\n      <td>0.559625</td>\n      <td>0.729837</td>\n      <td>0.285842</td>\n      <td>0.181695</td>\n      <td>0.669728</td>\n      <td>0.538294</td>\n      <td>0.259857</td>\n      <td>{'model__objective': 'binary', 'model__class_w...</td>\n    </tr>\n    <tr>\n      <th>36</th>\n      <td>36</td>\n      <td>0.771661</td>\n      <td>0.771661</td>\n      <td>0.791855</td>\n      <td>0.550795</td>\n      <td>0.713155</td>\n      <td>0.280733</td>\n      <td>0.175992</td>\n      <td>0.693414</td>\n      <td>0.561125</td>\n      <td>0.258664</td>\n      <td>{'model__objective': 'binary', 'model__class_w...</td>\n    </tr>\n    <tr>\n      <th>39</th>\n      <td>39</td>\n      <td>0.771544</td>\n      <td>0.771544</td>\n      <td>0.797518</td>\n      <td>0.552218</td>\n      <td>0.716950</td>\n      <td>0.280623</td>\n      <td>0.176531</td>\n      <td>0.683867</td>\n      <td>0.557353</td>\n      <td>0.257449</td>\n      <td>{'model__objective': 'binary', 'model__class_w...</td>\n    </tr>\n    <tr>\n      <th>9</th>\n      <td>9</td>\n      <td>0.771531</td>\n      <td>0.771531</td>\n      <td>0.813704</td>\n      <td>0.556024</td>\n      <td>0.723285</td>\n      <td>0.283518</td>\n      <td>0.179221</td>\n      <td>0.678187</td>\n      <td>0.548192</td>\n      <td>0.258780</td>\n      <td>{'model__objective': 'binary', 'model__class_w...</td>\n    </tr>\n    <tr>\n      <th>19</th>\n      <td>19</td>\n      <td>0.771409</td>\n      <td>0.771409</td>\n      <td>0.815107</td>\n      <td>0.555804</td>\n      <td>0.722758</td>\n      <td>0.283481</td>\n      <td>0.179110</td>\n      <td>0.679355</td>\n      <td>0.547094</td>\n      <td>0.257697</td>\n      <td>{'model__objective': 'binary', 'model__class_w...</td>\n    </tr>\n    <tr>\n      <th>4</th>\n      <td>4</td>\n      <td>0.770947</td>\n      <td>0.770947</td>\n      <td>0.789557</td>\n      <td>0.549789</td>\n      <td>0.712300</td>\n      <td>0.279300</td>\n      <td>0.175050</td>\n      <td>0.690554</td>\n      <td>0.562484</td>\n      <td>0.257304</td>\n      <td>{'model__objective': 'binary', 'model__class_w...</td>\n    </tr>\n    <tr>\n      <th>28</th>\n      <td>28</td>\n      <td>0.770945</td>\n      <td>0.770945</td>\n      <td>0.789552</td>\n      <td>0.549621</td>\n      <td>0.711783</td>\n      <td>0.279372</td>\n      <td>0.175011</td>\n      <td>0.692044</td>\n      <td>0.563114</td>\n      <td>0.257943</td>\n      <td>{'model__objective': 'binary', 'model__class_w...</td>\n    </tr>\n    <tr>\n      <th>48</th>\n      <td>48</td>\n      <td>0.770866</td>\n      <td>0.770866</td>\n      <td>0.798124</td>\n      <td>0.551237</td>\n      <td>0.714843</td>\n      <td>0.280276</td>\n      <td>0.175999</td>\n      <td>0.687774</td>\n      <td>0.557819</td>\n      <td>0.257684</td>\n      <td>{'model__objective': 'binary', 'model__class_w...</td>\n    </tr>\n    <tr>\n      <th>46</th>\n      <td>46</td>\n      <td>0.770830</td>\n      <td>0.770830</td>\n      <td>0.794326</td>\n      <td>0.550777</td>\n      <td>0.714026</td>\n      <td>0.279971</td>\n      <td>0.175698</td>\n      <td>0.688701</td>\n      <td>0.560434</td>\n      <td>0.257916</td>\n      <td>{'model__objective': 'binary', 'model__class_w...</td>\n    </tr>\n    <tr>\n      <th>40</th>\n      <td>40</td>\n      <td>0.770819</td>\n      <td>0.770819</td>\n      <td>0.796550</td>\n      <td>0.551802</td>\n      <td>0.715779</td>\n      <td>0.280703</td>\n      <td>0.176389</td>\n      <td>0.686969</td>\n      <td>0.558983</td>\n      <td>0.258120</td>\n      <td>{'model__objective': 'binary', 'model__class_w...</td>\n    </tr>\n    <tr>\n      <th>3</th>\n      <td>3</td>\n      <td>0.770712</td>\n      <td>0.770712</td>\n      <td>0.823350</td>\n      <td>0.557907</td>\n      <td>0.727691</td>\n      <td>0.283936</td>\n      <td>0.180227</td>\n      <td>0.668761</td>\n      <td>0.541200</td>\n      <td>0.256293</td>\n      <td>{'model__objective': 'binary', 'model__class_w...</td>\n    </tr>\n    <tr>\n      <th>37</th>\n      <td>37</td>\n      <td>0.770641</td>\n      <td>0.770641</td>\n      <td>0.801678</td>\n      <td>0.552348</td>\n      <td>0.717061</td>\n      <td>0.280809</td>\n      <td>0.176654</td>\n      <td>0.684230</td>\n      <td>0.555274</td>\n      <td>0.257344</td>\n      <td>{'model__objective': 'binary', 'model__class_w...</td>\n    </tr>\n    <tr>\n      <th>1</th>\n      <td>1</td>\n      <td>0.770524</td>\n      <td>0.770524</td>\n      <td>0.831760</td>\n      <td>0.560118</td>\n      <td>0.731548</td>\n      <td>0.285512</td>\n      <td>0.181822</td>\n      <td>0.664411</td>\n      <td>0.535737</td>\n      <td>0.257220</td>\n      <td>{'model__objective': 'binary', 'model__class_w...</td>\n    </tr>\n    <tr>\n      <th>6</th>\n      <td>6</td>\n      <td>0.770474</td>\n      <td>0.770474</td>\n      <td>0.828855</td>\n      <td>0.559370</td>\n      <td>0.730162</td>\n      <td>0.285042</td>\n      <td>0.181301</td>\n      <td>0.666304</td>\n      <td>0.539256</td>\n      <td>0.256933</td>\n      <td>{'model__objective': 'binary', 'model__class_w...</td>\n    </tr>\n    <tr>\n      <th>5</th>\n      <td>5</td>\n      <td>0.770306</td>\n      <td>0.770306</td>\n      <td>0.797939</td>\n      <td>0.552180</td>\n      <td>0.716719</td>\n      <td>0.280732</td>\n      <td>0.176556</td>\n      <td>0.684794</td>\n      <td>0.557860</td>\n      <td>0.256853</td>\n      <td>{'model__objective': 'binary', 'model__class_w...</td>\n    </tr>\n    <tr>\n      <th>30</th>\n      <td>30</td>\n      <td>0.770237</td>\n      <td>0.770237</td>\n      <td>0.803746</td>\n      <td>0.552437</td>\n      <td>0.717656</td>\n      <td>0.280508</td>\n      <td>0.176580</td>\n      <td>0.681772</td>\n      <td>0.554131</td>\n      <td>0.257419</td>\n      <td>{'model__objective': 'binary', 'model__class_w...</td>\n    </tr>\n    <tr>\n      <th>12</th>\n      <td>12</td>\n      <td>0.770005</td>\n      <td>0.770005</td>\n      <td>0.812338</td>\n      <td>0.554061</td>\n      <td>0.720472</td>\n      <td>0.281648</td>\n      <td>0.177688</td>\n      <td>0.678792</td>\n      <td>0.551055</td>\n      <td>0.256168</td>\n      <td>{'model__objective': 'binary', 'model__class_w...</td>\n    </tr>\n    <tr>\n      <th>8</th>\n      <td>8</td>\n      <td>0.769885</td>\n      <td>0.769885</td>\n      <td>0.814933</td>\n      <td>0.554665</td>\n      <td>0.722114</td>\n      <td>0.281588</td>\n      <td>0.177929</td>\n      <td>0.674602</td>\n      <td>0.547290</td>\n      <td>0.256839</td>\n      <td>{'model__objective': 'binary', 'model__class_w...</td>\n    </tr>\n    <tr>\n      <th>13</th>\n      <td>13</td>\n      <td>0.769557</td>\n      <td>0.769557</td>\n      <td>0.817539</td>\n      <td>0.555946</td>\n      <td>0.723841</td>\n      <td>0.282899</td>\n      <td>0.178966</td>\n      <td>0.674763</td>\n      <td>0.545456</td>\n      <td>0.255012</td>\n      <td>{'model__objective': 'binary', 'model__class_w...</td>\n    </tr>\n    <tr>\n      <th>2</th>\n      <td>2</td>\n      <td>0.769392</td>\n      <td>0.769392</td>\n      <td>0.824003</td>\n      <td>0.557435</td>\n      <td>0.726764</td>\n      <td>0.283685</td>\n      <td>0.179921</td>\n      <td>0.670211</td>\n      <td>0.542293</td>\n      <td>0.254382</td>\n      <td>{'model__objective': 'binary', 'model__class_w...</td>\n    </tr>\n    <tr>\n      <th>18</th>\n      <td>18</td>\n      <td>0.767534</td>\n      <td>0.767534</td>\n      <td>0.797771</td>\n      <td>0.549562</td>\n      <td>0.713207</td>\n      <td>0.278062</td>\n      <td>0.174490</td>\n      <td>0.684149</td>\n      <td>0.559253</td>\n      <td>0.253230</td>\n      <td>{'model__objective': 'binary', 'model__class_w...</td>\n    </tr>\n    <tr>\n      <th>10</th>\n      <td>10</td>\n      <td>0.756457</td>\n      <td>0.756457</td>\n      <td>0.765609</td>\n      <td>0.536269</td>\n      <td>0.693819</td>\n      <td>0.265970</td>\n      <td>0.164899</td>\n      <td>0.687130</td>\n      <td>0.585940</td>\n      <td>0.238183</td>\n      <td>{'model__objective': 'binary', 'model__class_w...</td>\n    </tr>\n    <tr>\n      <th>21</th>\n      <td>21</td>\n      <td>0.741099</td>\n      <td>0.741099</td>\n      <td>0.754958</td>\n      <td>0.526522</td>\n      <td>0.682141</td>\n      <td>0.255078</td>\n      <td>0.157299</td>\n      <td>0.674119</td>\n      <td>0.627545</td>\n      <td>0.218513</td>\n      <td>{'model__objective': 'binary', 'model__class_w...</td>\n    </tr>\n    <tr>\n      <th>26</th>\n      <td>26</td>\n      <td>0.715538</td>\n      <td>0.715538</td>\n      <td>0.719890</td>\n      <td>0.508110</td>\n      <td>0.658019</td>\n      <td>0.236561</td>\n      <td>0.144283</td>\n      <td>0.656314</td>\n      <td>0.680209</td>\n      <td>0.193649</td>\n      <td>{'model__objective': 'binary', 'model__class_w...</td>\n    </tr>\n  </tbody>\n</table>\n</div>"
     },
     "metadata": {},
     "output_type": "display_data"
    }
   ],
   "source": [
    "for t, v in tuning_results.items():\n",
    "    print(v.model_key)\n",
    "    display(v.hyper_param_all_cv_results)\n",
    "\n"
   ],
   "metadata": {
    "collapsed": false,
    "ExecuteTime": {
     "end_time": "2024-04-10T16:37:44.281945620Z",
     "start_time": "2024-04-10T16:37:44.238825323Z"
    }
   },
   "id": "23fac5165a6b77dd",
   "execution_count": 11
  },
  {
   "cell_type": "code",
   "outputs": [],
   "source": [],
   "metadata": {
    "collapsed": false,
    "ExecuteTime": {
     "end_time": "2024-04-10T16:26:47.476986256Z",
     "start_time": "2024-04-10T16:26:47.460422271Z"
    }
   },
   "id": "27ceb3ef64dae1f2",
   "execution_count": 4
  },
  {
   "cell_type": "code",
   "outputs": [],
   "source": [
    "# Results:\n",
    "\n",
    "# Only main dataset:\n",
    "# - top res      : 0.753\n",
    "# - full + gbdt  : 0.765\n",
    "# - full + dart  : 0.766\n"
   ],
   "metadata": {
    "collapsed": false,
    "ExecuteTime": {
     "end_time": "2024-04-10T16:26:47.537708687Z",
     "start_time": "2024-04-10T16:26:47.462791403Z"
    }
   },
   "id": "455694eed5002c55",
   "execution_count": 5
  },
  {
   "cell_type": "code",
   "outputs": [
    {
     "name": "stderr",
     "output_type": "stream",
     "text": [
      "/home/paulius/miniconda3/envs/rapids_v2/lib/python3.10/site-packages/featuretools/entityset/entityset.py:1914: UserWarning: index SK_BUREAU_ID not found in dataframe, creating new integer column\n",
      "  warnings.warn(\n"
     ]
    },
    {
     "name": "stdout",
     "output_type": "stream",
     "text": [
      "Appending previous history\n",
      "Full DS size: 307511\n"
     ]
    }
   ],
   "source": [
    "from Draft.feature_builder_v2 import DatasetType\n",
    "\n",
    "importlib.reload(feature_builder_v2)\n",
    "features_matrix_full = feature_builder_v2.load_datasets_and_prepare_features(drop_meta_data=True,\n",
    "                                                                             ds_type=DatasetType.FULL)\n"
   ],
   "metadata": {
    "collapsed": false,
    "ExecuteTime": {
     "end_time": "2024-04-10T16:27:13.896621058Z",
     "start_time": "2024-04-10T16:26:47.506508639Z"
    }
   },
   "id": "fed6d85344fbd3e1",
   "execution_count": 6
  },
  {
   "cell_type": "code",
   "outputs": [
    {
     "data": {
      "text/plain": "        TARGET NameContractType CodeGender  FlagOwnCar  FlagOwnRealty  \\\n0            1       Cash loans          M       False           True   \n1            0       Cash loans          F       False          False   \n2            0  Revolving loans          M        True           True   \n3            0       Cash loans          F       False           True   \n4            0       Cash loans          M       False           True   \n...        ...              ...        ...         ...            ...   \n307506       0       Cash loans          M       False          False   \n307507       0       Cash loans          F       False           True   \n307508       0       Cash loans          F       False           True   \n307509       1       Cash loans          F       False           True   \n307510       0       Cash loans          F       False          False   \n\n        CntChildren  AmtIncomeTotal  AmtCredit  AmtAnnuity  AmtGoodsPrice  \\\n0                 0        202500.0   406597.5     24700.5       351000.0   \n1                 0        270000.0  1293502.5     35698.5      1129500.0   \n2                 0         67500.0   135000.0      6750.0       135000.0   \n3                 0        135000.0   312682.5     29686.5       297000.0   \n4                 0        121500.0   513000.0     21865.5       513000.0   \n...             ...             ...        ...         ...            ...   \n307506            0        157500.0   254700.0     27558.0       225000.0   \n307507            0         72000.0   269550.0     12001.5       225000.0   \n307508            0        153000.0   677664.0     29979.0       585000.0   \n307509            0        171000.0   370107.0     20205.0       319500.0   \n307510            0        157500.0   675000.0     49117.5       675000.0   \n\n        ... PrevCodeRejectReasonHcCount PrevCodeRejectReasonLimitCount  \\\n0       ...                         0.0                            0.0   \n1       ...                         0.0                            0.0   \n2       ...                         0.0                            0.0   \n3       ...                         0.0                            1.0   \n4       ...                         0.0                            0.0   \n...     ...                         ...                            ...   \n307506  ...                         0.0                            0.0   \n307507  ...                         0.0                            0.0   \n307508  ...                         0.0                            0.0   \n307509  ...                         0.0                            0.0   \n307510  ...                         2.0                            0.0   \n\n       PrevCodeRejectReasonScoCount PrevCodeRejectReasonScofrCount  \\\n0                               0.0                            0.0   \n1                               0.0                            0.0   \n2                               0.0                            0.0   \n3                               0.0                            0.0   \n4                               0.0                            0.0   \n...                             ...                            ...   \n307506                          0.0                            0.0   \n307507                          0.0                            0.0   \n307508                          0.0                            0.0   \n307509                          0.0                            0.0   \n307510                          0.0                            0.0   \n\n       PrevCodeRejectReasonSystemCount  PrevCodeRejectReasonVerifCount  \\\n0                                  0.0                             0.0   \n1                                  0.0                             0.0   \n2                                  0.0                             0.0   \n3                                  0.0                             0.0   \n4                                  0.0                             0.0   \n...                                ...                             ...   \n307506                             0.0                             0.0   \n307507                             0.0                             0.0   \n307508                             0.0                             0.0   \n307509                             0.0                             0.0   \n307510                             0.0                             0.0   \n\n        PrevCodeRejectReasonXapCount  PrevCodeRejectReasonXnaCount  \\\n0                                1.0                           0.0   \n1                                3.0                           0.0   \n2                                1.0                           0.0   \n3                                8.0                           0.0   \n4                                6.0                           0.0   \n...                              ...                           ...   \n307506                           1.0                           0.0   \n307507                           1.0                           0.0   \n307508                           2.0                           0.0   \n307509                           2.0                           0.0   \n307510                           6.0                           0.0   \n\n        PrevLastLoanNflagInsuredOnApproval  PrevAvgNflagInsuredOnApproval  \n0                                      0.0                       0.000000  \n1                                      1.0                       0.666667  \n2                                      0.0                       0.000000  \n3                                      NaN                       0.000000  \n4                                      1.0                       0.600000  \n...                                    ...                            ...  \n307506                                 0.0                       0.000000  \n307507                                 1.0                       1.000000  \n307508                                 0.0                       0.500000  \n307509                                 1.0                       0.500000  \n307510                                 NaN                       0.333333  \n\n[307511 rows x 227 columns]",
      "text/html": "<div>\n<style scoped>\n    .dataframe tbody tr th:only-of-type {\n        vertical-align: middle;\n    }\n\n    .dataframe tbody tr th {\n        vertical-align: top;\n    }\n\n    .dataframe thead th {\n        text-align: right;\n    }\n</style>\n<table border=\"1\" class=\"dataframe\">\n  <thead>\n    <tr style=\"text-align: right;\">\n      <th></th>\n      <th>TARGET</th>\n      <th>NameContractType</th>\n      <th>CodeGender</th>\n      <th>FlagOwnCar</th>\n      <th>FlagOwnRealty</th>\n      <th>CntChildren</th>\n      <th>AmtIncomeTotal</th>\n      <th>AmtCredit</th>\n      <th>AmtAnnuity</th>\n      <th>AmtGoodsPrice</th>\n      <th>...</th>\n      <th>PrevCodeRejectReasonHcCount</th>\n      <th>PrevCodeRejectReasonLimitCount</th>\n      <th>PrevCodeRejectReasonScoCount</th>\n      <th>PrevCodeRejectReasonScofrCount</th>\n      <th>PrevCodeRejectReasonSystemCount</th>\n      <th>PrevCodeRejectReasonVerifCount</th>\n      <th>PrevCodeRejectReasonXapCount</th>\n      <th>PrevCodeRejectReasonXnaCount</th>\n      <th>PrevLastLoanNflagInsuredOnApproval</th>\n      <th>PrevAvgNflagInsuredOnApproval</th>\n    </tr>\n  </thead>\n  <tbody>\n    <tr>\n      <th>0</th>\n      <td>1</td>\n      <td>Cash loans</td>\n      <td>M</td>\n      <td>False</td>\n      <td>True</td>\n      <td>0</td>\n      <td>202500.0</td>\n      <td>406597.5</td>\n      <td>24700.5</td>\n      <td>351000.0</td>\n      <td>...</td>\n      <td>0.0</td>\n      <td>0.0</td>\n      <td>0.0</td>\n      <td>0.0</td>\n      <td>0.0</td>\n      <td>0.0</td>\n      <td>1.0</td>\n      <td>0.0</td>\n      <td>0.0</td>\n      <td>0.000000</td>\n    </tr>\n    <tr>\n      <th>1</th>\n      <td>0</td>\n      <td>Cash loans</td>\n      <td>F</td>\n      <td>False</td>\n      <td>False</td>\n      <td>0</td>\n      <td>270000.0</td>\n      <td>1293502.5</td>\n      <td>35698.5</td>\n      <td>1129500.0</td>\n      <td>...</td>\n      <td>0.0</td>\n      <td>0.0</td>\n      <td>0.0</td>\n      <td>0.0</td>\n      <td>0.0</td>\n      <td>0.0</td>\n      <td>3.0</td>\n      <td>0.0</td>\n      <td>1.0</td>\n      <td>0.666667</td>\n    </tr>\n    <tr>\n      <th>2</th>\n      <td>0</td>\n      <td>Revolving loans</td>\n      <td>M</td>\n      <td>True</td>\n      <td>True</td>\n      <td>0</td>\n      <td>67500.0</td>\n      <td>135000.0</td>\n      <td>6750.0</td>\n      <td>135000.0</td>\n      <td>...</td>\n      <td>0.0</td>\n      <td>0.0</td>\n      <td>0.0</td>\n      <td>0.0</td>\n      <td>0.0</td>\n      <td>0.0</td>\n      <td>1.0</td>\n      <td>0.0</td>\n      <td>0.0</td>\n      <td>0.000000</td>\n    </tr>\n    <tr>\n      <th>3</th>\n      <td>0</td>\n      <td>Cash loans</td>\n      <td>F</td>\n      <td>False</td>\n      <td>True</td>\n      <td>0</td>\n      <td>135000.0</td>\n      <td>312682.5</td>\n      <td>29686.5</td>\n      <td>297000.0</td>\n      <td>...</td>\n      <td>0.0</td>\n      <td>1.0</td>\n      <td>0.0</td>\n      <td>0.0</td>\n      <td>0.0</td>\n      <td>0.0</td>\n      <td>8.0</td>\n      <td>0.0</td>\n      <td>NaN</td>\n      <td>0.000000</td>\n    </tr>\n    <tr>\n      <th>4</th>\n      <td>0</td>\n      <td>Cash loans</td>\n      <td>M</td>\n      <td>False</td>\n      <td>True</td>\n      <td>0</td>\n      <td>121500.0</td>\n      <td>513000.0</td>\n      <td>21865.5</td>\n      <td>513000.0</td>\n      <td>...</td>\n      <td>0.0</td>\n      <td>0.0</td>\n      <td>0.0</td>\n      <td>0.0</td>\n      <td>0.0</td>\n      <td>0.0</td>\n      <td>6.0</td>\n      <td>0.0</td>\n      <td>1.0</td>\n      <td>0.600000</td>\n    </tr>\n    <tr>\n      <th>...</th>\n      <td>...</td>\n      <td>...</td>\n      <td>...</td>\n      <td>...</td>\n      <td>...</td>\n      <td>...</td>\n      <td>...</td>\n      <td>...</td>\n      <td>...</td>\n      <td>...</td>\n      <td>...</td>\n      <td>...</td>\n      <td>...</td>\n      <td>...</td>\n      <td>...</td>\n      <td>...</td>\n      <td>...</td>\n      <td>...</td>\n      <td>...</td>\n      <td>...</td>\n      <td>...</td>\n    </tr>\n    <tr>\n      <th>307506</th>\n      <td>0</td>\n      <td>Cash loans</td>\n      <td>M</td>\n      <td>False</td>\n      <td>False</td>\n      <td>0</td>\n      <td>157500.0</td>\n      <td>254700.0</td>\n      <td>27558.0</td>\n      <td>225000.0</td>\n      <td>...</td>\n      <td>0.0</td>\n      <td>0.0</td>\n      <td>0.0</td>\n      <td>0.0</td>\n      <td>0.0</td>\n      <td>0.0</td>\n      <td>1.0</td>\n      <td>0.0</td>\n      <td>0.0</td>\n      <td>0.000000</td>\n    </tr>\n    <tr>\n      <th>307507</th>\n      <td>0</td>\n      <td>Cash loans</td>\n      <td>F</td>\n      <td>False</td>\n      <td>True</td>\n      <td>0</td>\n      <td>72000.0</td>\n      <td>269550.0</td>\n      <td>12001.5</td>\n      <td>225000.0</td>\n      <td>...</td>\n      <td>0.0</td>\n      <td>0.0</td>\n      <td>0.0</td>\n      <td>0.0</td>\n      <td>0.0</td>\n      <td>0.0</td>\n      <td>1.0</td>\n      <td>0.0</td>\n      <td>1.0</td>\n      <td>1.000000</td>\n    </tr>\n    <tr>\n      <th>307508</th>\n      <td>0</td>\n      <td>Cash loans</td>\n      <td>F</td>\n      <td>False</td>\n      <td>True</td>\n      <td>0</td>\n      <td>153000.0</td>\n      <td>677664.0</td>\n      <td>29979.0</td>\n      <td>585000.0</td>\n      <td>...</td>\n      <td>0.0</td>\n      <td>0.0</td>\n      <td>0.0</td>\n      <td>0.0</td>\n      <td>0.0</td>\n      <td>0.0</td>\n      <td>2.0</td>\n      <td>0.0</td>\n      <td>0.0</td>\n      <td>0.500000</td>\n    </tr>\n    <tr>\n      <th>307509</th>\n      <td>1</td>\n      <td>Cash loans</td>\n      <td>F</td>\n      <td>False</td>\n      <td>True</td>\n      <td>0</td>\n      <td>171000.0</td>\n      <td>370107.0</td>\n      <td>20205.0</td>\n      <td>319500.0</td>\n      <td>...</td>\n      <td>0.0</td>\n      <td>0.0</td>\n      <td>0.0</td>\n      <td>0.0</td>\n      <td>0.0</td>\n      <td>0.0</td>\n      <td>2.0</td>\n      <td>0.0</td>\n      <td>1.0</td>\n      <td>0.500000</td>\n    </tr>\n    <tr>\n      <th>307510</th>\n      <td>0</td>\n      <td>Cash loans</td>\n      <td>F</td>\n      <td>False</td>\n      <td>False</td>\n      <td>0</td>\n      <td>157500.0</td>\n      <td>675000.0</td>\n      <td>49117.5</td>\n      <td>675000.0</td>\n      <td>...</td>\n      <td>2.0</td>\n      <td>0.0</td>\n      <td>0.0</td>\n      <td>0.0</td>\n      <td>0.0</td>\n      <td>0.0</td>\n      <td>6.0</td>\n      <td>0.0</td>\n      <td>NaN</td>\n      <td>0.333333</td>\n    </tr>\n  </tbody>\n</table>\n<p>307511 rows × 227 columns</p>\n</div>"
     },
     "execution_count": 7,
     "metadata": {},
     "output_type": "execute_result"
    }
   ],
   "source": [
    "features_matrix_full"
   ],
   "metadata": {
    "collapsed": false,
    "ExecuteTime": {
     "end_time": "2024-04-10T16:27:13.898340298Z",
     "start_time": "2024-04-10T16:27:13.896555547Z"
    }
   },
   "id": "554658483974d14c",
   "execution_count": 7
  },
  {
   "cell_type": "code",
   "outputs": [],
   "source": [],
   "metadata": {
    "collapsed": false,
    "ExecuteTime": {
     "end_time": "2024-04-10T16:27:13.899047355Z",
     "start_time": "2024-04-10T16:27:13.896745120Z"
    }
   },
   "id": "e88fb97a1bdb7db8",
   "execution_count": 7
  },
  {
   "cell_type": "code",
   "outputs": [],
   "source": [],
   "metadata": {
    "collapsed": false,
    "ExecuteTime": {
     "end_time": "2024-04-10T16:27:13.899813102Z",
     "start_time": "2024-04-10T16:27:13.896781862Z"
    }
   },
   "id": "b8958a4e18afe0d4",
   "execution_count": 7
  },
  {
   "cell_type": "code",
   "outputs": [],
   "source": [],
   "metadata": {
    "collapsed": false,
    "ExecuteTime": {
     "end_time": "2024-04-10T16:27:13.900519927Z",
     "start_time": "2024-04-10T16:27:13.896810134Z"
    }
   },
   "id": "f502809aea6263b",
   "execution_count": 7
  },
  {
   "cell_type": "code",
   "outputs": [],
   "source": [],
   "metadata": {
    "collapsed": false,
    "ExecuteTime": {
     "end_time": "2024-04-10T16:27:13.901007542Z",
     "start_time": "2024-04-10T16:27:13.896837226Z"
    }
   },
   "id": "f2e21b82c3053120",
   "execution_count": 7
  },
  {
   "cell_type": "code",
   "outputs": [],
   "source": [],
   "metadata": {
    "collapsed": false,
    "ExecuteTime": {
     "end_time": "2024-04-10T16:27:13.903109731Z",
     "start_time": "2024-04-10T16:27:13.897575890Z"
    }
   },
   "id": "4cbda67e3cec9bce",
   "execution_count": 7
  },
  {
   "cell_type": "code",
   "outputs": [
    {
     "name": "stderr",
     "output_type": "stream",
     "text": [
      "/home/paulius/miniconda3/envs/rapids_v2/lib/python3.10/site-packages/featuretools/entityset/entityset.py:1914: UserWarning: index SK_BUREAU_ID not found in dataframe, creating new integer column\n",
      "  warnings.warn(\n"
     ]
    },
    {
     "name": "stdout",
     "output_type": "stream",
     "text": [
      "Appending previous history\n",
      "Full DS size: 307511\n",
      "Full DS size: 307511\n"
     ]
    }
   ],
   "source": [
    "from Draft.feature_builder_v2 import DatasetType\n",
    "\n",
    "importlib.reload(feature_builder_v2)\n",
    "features_matrix_full = feature_builder_v2.load_datasets_and_prepare_features(drop_meta_data=True,\n",
    "                                                                             ds_type=DatasetType.FULL)\n",
    "features_matrix_base = feature_builder_v2.load_datasets_and_prepare_features(drop_meta_data=True,\n",
    "                                                                             ds_type=DatasetType.BASE)\n"
   ],
   "metadata": {
    "collapsed": false,
    "ExecuteTime": {
     "end_time": "2024-04-10T16:27:41.107722979Z",
     "start_time": "2024-04-10T16:27:13.901714682Z"
    }
   },
   "id": "3417c5b9b8374dd",
   "execution_count": 8
  },
  {
   "cell_type": "code",
   "outputs": [
    {
     "data": {
      "text/plain": "        TARGET NameContractType CodeGender  FlagOwnCar  FlagOwnRealty  \\\n0            1       Cash loans          M       False           True   \n1            0       Cash loans          F       False          False   \n2            0  Revolving loans          M        True           True   \n3            0       Cash loans          F       False           True   \n4            0       Cash loans          M       False           True   \n...        ...              ...        ...         ...            ...   \n307506       0       Cash loans          M       False          False   \n307507       0       Cash loans          F       False           True   \n307508       0       Cash loans          F       False           True   \n307509       1       Cash loans          F       False           True   \n307510       0       Cash loans          F       False          False   \n\n        CntChildren  AmtIncomeTotal  AmtCredit  AmtAnnuity  AmtGoodsPrice  \\\n0                 0        202500.0   406597.5     24700.5       351000.0   \n1                 0        270000.0  1293502.5     35698.5      1129500.0   \n2                 0         67500.0   135000.0      6750.0       135000.0   \n3                 0        135000.0   312682.5     29686.5       297000.0   \n4                 0        121500.0   513000.0     21865.5       513000.0   \n...             ...             ...        ...         ...            ...   \n307506            0        157500.0   254700.0     27558.0       225000.0   \n307507            0         72000.0   269550.0     12001.5       225000.0   \n307508            0        153000.0   677664.0     29979.0       585000.0   \n307509            0        171000.0   370107.0     20205.0       319500.0   \n307510            0        157500.0   675000.0     49117.5       675000.0   \n\n        ... PrevCodeRejectReasonHcCount PrevCodeRejectReasonLimitCount  \\\n0       ...                         0.0                            0.0   \n1       ...                         0.0                            0.0   \n2       ...                         0.0                            0.0   \n3       ...                         0.0                            1.0   \n4       ...                         0.0                            0.0   \n...     ...                         ...                            ...   \n307506  ...                         0.0                            0.0   \n307507  ...                         0.0                            0.0   \n307508  ...                         0.0                            0.0   \n307509  ...                         0.0                            0.0   \n307510  ...                         2.0                            0.0   \n\n       PrevCodeRejectReasonScoCount PrevCodeRejectReasonScofrCount  \\\n0                               0.0                            0.0   \n1                               0.0                            0.0   \n2                               0.0                            0.0   \n3                               0.0                            0.0   \n4                               0.0                            0.0   \n...                             ...                            ...   \n307506                          0.0                            0.0   \n307507                          0.0                            0.0   \n307508                          0.0                            0.0   \n307509                          0.0                            0.0   \n307510                          0.0                            0.0   \n\n       PrevCodeRejectReasonSystemCount  PrevCodeRejectReasonVerifCount  \\\n0                                  0.0                             0.0   \n1                                  0.0                             0.0   \n2                                  0.0                             0.0   \n3                                  0.0                             0.0   \n4                                  0.0                             0.0   \n...                                ...                             ...   \n307506                             0.0                             0.0   \n307507                             0.0                             0.0   \n307508                             0.0                             0.0   \n307509                             0.0                             0.0   \n307510                             0.0                             0.0   \n\n        PrevCodeRejectReasonXapCount  PrevCodeRejectReasonXnaCount  \\\n0                                1.0                           0.0   \n1                                3.0                           0.0   \n2                                1.0                           0.0   \n3                                8.0                           0.0   \n4                                6.0                           0.0   \n...                              ...                           ...   \n307506                           1.0                           0.0   \n307507                           1.0                           0.0   \n307508                           2.0                           0.0   \n307509                           2.0                           0.0   \n307510                           6.0                           0.0   \n\n        PrevLastLoanNflagInsuredOnApproval  PrevAvgNflagInsuredOnApproval  \n0                                      0.0                       0.000000  \n1                                      1.0                       0.666667  \n2                                      0.0                       0.000000  \n3                                      NaN                       0.000000  \n4                                      1.0                       0.600000  \n...                                    ...                            ...  \n307506                                 0.0                       0.000000  \n307507                                 1.0                       1.000000  \n307508                                 0.0                       0.500000  \n307509                                 1.0                       0.500000  \n307510                                 NaN                       0.333333  \n\n[307511 rows x 227 columns]",
      "text/html": "<div>\n<style scoped>\n    .dataframe tbody tr th:only-of-type {\n        vertical-align: middle;\n    }\n\n    .dataframe tbody tr th {\n        vertical-align: top;\n    }\n\n    .dataframe thead th {\n        text-align: right;\n    }\n</style>\n<table border=\"1\" class=\"dataframe\">\n  <thead>\n    <tr style=\"text-align: right;\">\n      <th></th>\n      <th>TARGET</th>\n      <th>NameContractType</th>\n      <th>CodeGender</th>\n      <th>FlagOwnCar</th>\n      <th>FlagOwnRealty</th>\n      <th>CntChildren</th>\n      <th>AmtIncomeTotal</th>\n      <th>AmtCredit</th>\n      <th>AmtAnnuity</th>\n      <th>AmtGoodsPrice</th>\n      <th>...</th>\n      <th>PrevCodeRejectReasonHcCount</th>\n      <th>PrevCodeRejectReasonLimitCount</th>\n      <th>PrevCodeRejectReasonScoCount</th>\n      <th>PrevCodeRejectReasonScofrCount</th>\n      <th>PrevCodeRejectReasonSystemCount</th>\n      <th>PrevCodeRejectReasonVerifCount</th>\n      <th>PrevCodeRejectReasonXapCount</th>\n      <th>PrevCodeRejectReasonXnaCount</th>\n      <th>PrevLastLoanNflagInsuredOnApproval</th>\n      <th>PrevAvgNflagInsuredOnApproval</th>\n    </tr>\n  </thead>\n  <tbody>\n    <tr>\n      <th>0</th>\n      <td>1</td>\n      <td>Cash loans</td>\n      <td>M</td>\n      <td>False</td>\n      <td>True</td>\n      <td>0</td>\n      <td>202500.0</td>\n      <td>406597.5</td>\n      <td>24700.5</td>\n      <td>351000.0</td>\n      <td>...</td>\n      <td>0.0</td>\n      <td>0.0</td>\n      <td>0.0</td>\n      <td>0.0</td>\n      <td>0.0</td>\n      <td>0.0</td>\n      <td>1.0</td>\n      <td>0.0</td>\n      <td>0.0</td>\n      <td>0.000000</td>\n    </tr>\n    <tr>\n      <th>1</th>\n      <td>0</td>\n      <td>Cash loans</td>\n      <td>F</td>\n      <td>False</td>\n      <td>False</td>\n      <td>0</td>\n      <td>270000.0</td>\n      <td>1293502.5</td>\n      <td>35698.5</td>\n      <td>1129500.0</td>\n      <td>...</td>\n      <td>0.0</td>\n      <td>0.0</td>\n      <td>0.0</td>\n      <td>0.0</td>\n      <td>0.0</td>\n      <td>0.0</td>\n      <td>3.0</td>\n      <td>0.0</td>\n      <td>1.0</td>\n      <td>0.666667</td>\n    </tr>\n    <tr>\n      <th>2</th>\n      <td>0</td>\n      <td>Revolving loans</td>\n      <td>M</td>\n      <td>True</td>\n      <td>True</td>\n      <td>0</td>\n      <td>67500.0</td>\n      <td>135000.0</td>\n      <td>6750.0</td>\n      <td>135000.0</td>\n      <td>...</td>\n      <td>0.0</td>\n      <td>0.0</td>\n      <td>0.0</td>\n      <td>0.0</td>\n      <td>0.0</td>\n      <td>0.0</td>\n      <td>1.0</td>\n      <td>0.0</td>\n      <td>0.0</td>\n      <td>0.000000</td>\n    </tr>\n    <tr>\n      <th>3</th>\n      <td>0</td>\n      <td>Cash loans</td>\n      <td>F</td>\n      <td>False</td>\n      <td>True</td>\n      <td>0</td>\n      <td>135000.0</td>\n      <td>312682.5</td>\n      <td>29686.5</td>\n      <td>297000.0</td>\n      <td>...</td>\n      <td>0.0</td>\n      <td>1.0</td>\n      <td>0.0</td>\n      <td>0.0</td>\n      <td>0.0</td>\n      <td>0.0</td>\n      <td>8.0</td>\n      <td>0.0</td>\n      <td>NaN</td>\n      <td>0.000000</td>\n    </tr>\n    <tr>\n      <th>4</th>\n      <td>0</td>\n      <td>Cash loans</td>\n      <td>M</td>\n      <td>False</td>\n      <td>True</td>\n      <td>0</td>\n      <td>121500.0</td>\n      <td>513000.0</td>\n      <td>21865.5</td>\n      <td>513000.0</td>\n      <td>...</td>\n      <td>0.0</td>\n      <td>0.0</td>\n      <td>0.0</td>\n      <td>0.0</td>\n      <td>0.0</td>\n      <td>0.0</td>\n      <td>6.0</td>\n      <td>0.0</td>\n      <td>1.0</td>\n      <td>0.600000</td>\n    </tr>\n    <tr>\n      <th>...</th>\n      <td>...</td>\n      <td>...</td>\n      <td>...</td>\n      <td>...</td>\n      <td>...</td>\n      <td>...</td>\n      <td>...</td>\n      <td>...</td>\n      <td>...</td>\n      <td>...</td>\n      <td>...</td>\n      <td>...</td>\n      <td>...</td>\n      <td>...</td>\n      <td>...</td>\n      <td>...</td>\n      <td>...</td>\n      <td>...</td>\n      <td>...</td>\n      <td>...</td>\n      <td>...</td>\n    </tr>\n    <tr>\n      <th>307506</th>\n      <td>0</td>\n      <td>Cash loans</td>\n      <td>M</td>\n      <td>False</td>\n      <td>False</td>\n      <td>0</td>\n      <td>157500.0</td>\n      <td>254700.0</td>\n      <td>27558.0</td>\n      <td>225000.0</td>\n      <td>...</td>\n      <td>0.0</td>\n      <td>0.0</td>\n      <td>0.0</td>\n      <td>0.0</td>\n      <td>0.0</td>\n      <td>0.0</td>\n      <td>1.0</td>\n      <td>0.0</td>\n      <td>0.0</td>\n      <td>0.000000</td>\n    </tr>\n    <tr>\n      <th>307507</th>\n      <td>0</td>\n      <td>Cash loans</td>\n      <td>F</td>\n      <td>False</td>\n      <td>True</td>\n      <td>0</td>\n      <td>72000.0</td>\n      <td>269550.0</td>\n      <td>12001.5</td>\n      <td>225000.0</td>\n      <td>...</td>\n      <td>0.0</td>\n      <td>0.0</td>\n      <td>0.0</td>\n      <td>0.0</td>\n      <td>0.0</td>\n      <td>0.0</td>\n      <td>1.0</td>\n      <td>0.0</td>\n      <td>1.0</td>\n      <td>1.000000</td>\n    </tr>\n    <tr>\n      <th>307508</th>\n      <td>0</td>\n      <td>Cash loans</td>\n      <td>F</td>\n      <td>False</td>\n      <td>True</td>\n      <td>0</td>\n      <td>153000.0</td>\n      <td>677664.0</td>\n      <td>29979.0</td>\n      <td>585000.0</td>\n      <td>...</td>\n      <td>0.0</td>\n      <td>0.0</td>\n      <td>0.0</td>\n      <td>0.0</td>\n      <td>0.0</td>\n      <td>0.0</td>\n      <td>2.0</td>\n      <td>0.0</td>\n      <td>0.0</td>\n      <td>0.500000</td>\n    </tr>\n    <tr>\n      <th>307509</th>\n      <td>1</td>\n      <td>Cash loans</td>\n      <td>F</td>\n      <td>False</td>\n      <td>True</td>\n      <td>0</td>\n      <td>171000.0</td>\n      <td>370107.0</td>\n      <td>20205.0</td>\n      <td>319500.0</td>\n      <td>...</td>\n      <td>0.0</td>\n      <td>0.0</td>\n      <td>0.0</td>\n      <td>0.0</td>\n      <td>0.0</td>\n      <td>0.0</td>\n      <td>2.0</td>\n      <td>0.0</td>\n      <td>1.0</td>\n      <td>0.500000</td>\n    </tr>\n    <tr>\n      <th>307510</th>\n      <td>0</td>\n      <td>Cash loans</td>\n      <td>F</td>\n      <td>False</td>\n      <td>False</td>\n      <td>0</td>\n      <td>157500.0</td>\n      <td>675000.0</td>\n      <td>49117.5</td>\n      <td>675000.0</td>\n      <td>...</td>\n      <td>2.0</td>\n      <td>0.0</td>\n      <td>0.0</td>\n      <td>0.0</td>\n      <td>0.0</td>\n      <td>0.0</td>\n      <td>6.0</td>\n      <td>0.0</td>\n      <td>NaN</td>\n      <td>0.333333</td>\n    </tr>\n  </tbody>\n</table>\n<p>307511 rows × 227 columns</p>\n</div>"
     },
     "execution_count": 9,
     "metadata": {},
     "output_type": "execute_result"
    }
   ],
   "source": [
    "features_matrix_full"
   ],
   "metadata": {
    "collapsed": false,
    "ExecuteTime": {
     "end_time": "2024-04-10T16:27:41.156796230Z",
     "start_time": "2024-04-10T16:27:41.111180297Z"
    }
   },
   "id": "af6d9fe4aba1c40",
   "execution_count": 9
  },
  {
   "cell_type": "code",
   "outputs": [
    {
     "name": "stdout",
     "output_type": "stream",
     "text": [
      "Full DS size: 307511\n"
     ]
    },
    {
     "data": {
      "text/plain": "            Total NaN Values  Proportion NaN (%)\nExtSource1            173378                56.0\nExtSource2               660                 0.0\nExtSource3             60965                20.0",
      "text/html": "<div>\n<style scoped>\n    .dataframe tbody tr th:only-of-type {\n        vertical-align: middle;\n    }\n\n    .dataframe tbody tr th {\n        vertical-align: top;\n    }\n\n    .dataframe thead th {\n        text-align: right;\n    }\n</style>\n<table border=\"1\" class=\"dataframe\">\n  <thead>\n    <tr style=\"text-align: right;\">\n      <th></th>\n      <th>Total NaN Values</th>\n      <th>Proportion NaN (%)</th>\n    </tr>\n  </thead>\n  <tbody>\n    <tr>\n      <th>ExtSource1</th>\n      <td>173378</td>\n      <td>56.0</td>\n    </tr>\n    <tr>\n      <th>ExtSource2</th>\n      <td>660</td>\n      <td>0.0</td>\n    </tr>\n    <tr>\n      <th>ExtSource3</th>\n      <td>60965</td>\n      <td>20.0</td>\n    </tr>\n  </tbody>\n</table>\n</div>"
     },
     "execution_count": 10,
     "metadata": {},
     "output_type": "execute_result"
    }
   ],
   "source": [
    "importlib.reload(feature_builder_v2)\n",
    "features_matrix = feature_builder_v2.load_datasets_and_prepare_features(drop_meta_data=True,\n",
    "                                                                        ds_type=feature_builder_v2.DatasetType.BASE_ONLY_CREDIT_RATINGS)\n",
    "from shared import stats_utils\n",
    "\n",
    "stats_utils.nan_summary(features_matrix)"
   ],
   "metadata": {
    "collapsed": false,
    "ExecuteTime": {
     "end_time": "2024-04-10T16:27:41.319549757Z",
     "start_time": "2024-04-10T16:27:41.141871989Z"
    }
   },
   "id": "cdea310c0e82a4aa",
   "execution_count": 10
  },
  {
   "cell_type": "code",
   "outputs": [],
   "source": [],
   "metadata": {
    "collapsed": false,
    "ExecuteTime": {
     "end_time": "2024-04-10T16:27:41.320511372Z",
     "start_time": "2024-04-10T16:27:41.318265627Z"
    }
   },
   "id": "37dad6ce569a8ada",
   "execution_count": 10
  }
 ],
 "metadata": {
  "kernelspec": {
   "display_name": "Python 3",
   "language": "python",
   "name": "python3"
  },
  "language_info": {
   "codemirror_mode": {
    "name": "ipython",
    "version": 2
   },
   "file_extension": ".py",
   "mimetype": "text/x-python",
   "name": "python",
   "nbconvert_exporter": "python",
   "pygments_lexer": "ipython2",
   "version": "2.7.6"
  }
 },
 "nbformat": 4,
 "nbformat_minor": 5
}
