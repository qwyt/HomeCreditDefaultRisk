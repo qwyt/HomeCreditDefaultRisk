{
 "cells": [
  {
   "cell_type": "code",
   "execution_count": 1,
   "id": "initial_id",
   "metadata": {
    "collapsed": true,
    "ExecuteTime": {
     "end_time": "2024-04-09T19:07:05.309976698Z",
     "start_time": "2024-04-09T19:07:03.869564700Z"
    }
   },
   "outputs": [
    {
     "data": {
      "text/plain": "'Distribution of Samples'"
     },
     "metadata": {},
     "output_type": "display_data"
    }
   ],
   "source": [
    "import shared.ml_config_core as ml_config_core\n",
    "import pandas as pd\n",
    "from shared.ml_config_core import ModelConfigsCollection\n",
    "from shared.ml_config_runner import run_tuning_for_configs_collection\n",
    "from shared.definitions import TuningResult\n",
    "\n",
    "from Draft import feature_builder_v2\n",
    "\n",
    "import importlib\n",
    "\n",
    "VERBOSE = True\n",
    "importlib.reload(feature_builder_v2)\n",
    "features_matrix = feature_builder_v2.load_datasets_and_prepare_features(drop_meta_data=True,\n",
    "                                                                        ds_type=feature_builder_v2.DatasetType.BASE)\n",
    "display(\"Distribution of Samples\")\n",
    "value_counts = features_matrix[\"TARGET\"].value_counts()\n",
    "df_value_counts = pd.DataFrame(\n",
    "    {\"Total Rows\": value_counts, \"Proportion\": value_counts / len(features_matrix)}\n",
    ")\n",
    "df_value_counts.round(2)\n",
    "transformers = [\n",
    "    # No feature engineering tuning for for rejected/accepted df\n",
    "    # ml_config_core.AcceptedRejectedDropAllButEmployment,  # Only used for testing\n",
    "]\n",
    "configs: ModelConfigsCollection = {\n",
    "    # \"BaselineOnlyEmplDuration\": ml_config_core.ModelPipelineConfig(\n",
    "    #     model_config=ml_config_core.XGBoostTuneF1(),\n",
    "    #     transformer_config=ml_config_core.PipelineTransformerConfig([ml_config_core.AcceptedRejectedDropAllButEmployment]),\n",
    "    # ),\n",
    "    # \"XGBoostTunePRAUC\": ml_config_core.ModelPipelineConfig(\n",
    "    #     model_config=ml_config_core.XGBoostTunePRAUC(),\n",
    "    #     transformer_config=ml_config_core.PipelineTransformerConfig(transformers),\n",
    "    # ),\n",
    "    # \"XGBoostTuneF1Failed\": ml_config_core.ModelPipelineConfig(\n",
    "    #     model_config=ml_config_core.XGBoostTuneF1(),\n",
    "    #     transformer_config=ml_config_core.PipelineTransformerConfig(transformers),\n",
    "    # ),\n",
    "    # \"BaselelineOnlyCreditRatings\": ml_config_core.ModelPipelineConfig(\n",
    "    #     model_config=ml_config_core.LGBMTuneAUC(),\n",
    "    #     transformer_config=ml_confg_core.PipelineTransformerConfig(transformers),\n",
    "    #     data_loader_params={\n",
    "    #         \"drop_meta_data\": True,\n",
    "    #         \"ds_type\": feature_builder_v2.DatasetType.BASE_ONLY_CREDIT_RATINGS\n",
    "    #     }),\n",
    "    # \"TEST_LOG_LOSS_BaselelineOnlyCreditRatings\": ml_config_core.ModelPipelineConfig(\n",
    "    #     model_config=ml_config_core.LGBMTuneLogLoss(),\n",
    "    #     transformer_config=ml_config_core.PipelineTransformerConfig(transformers),\n",
    "    #     data_loader_params={\n",
    "    #         \"drop_meta_data\": True,\n",
    "    #         \"ds_type\": feature_builder_v2.DatasetType.BASE_ONLY_CREDIT_RATINGS\n",
    "    #     }),\n",
    "    # \"TEST_LGBMTuneAUC_Full_DS_Drop_Ratings\": ml_config_core.ModelPipelineConfig(\n",
    "    #     model_config=ml_config_core.LGBMTuneAUC(),\n",
    "    #     transformer_config=ml_config_core.PipelineTransformerConfig(transformers),\n",
    "    #     data_loader_params={\n",
    "    #         \"drop_meta_data\": True,\n",
    "    #         \"ds_type\": feature_builder_v2.DatasetType.FULL,\n",
    "    #         \"drop_cols\": [\"EXT_SOURCE_1\", \"EXT_SOURCE_2\", \"EXT_SOURCE_3\"]\n",
    "    #     }),\n",
    "    \"LGBMTuneWeightedLogLoss_Full_DS\": ml_config_core.ModelPipelineConfig(\n",
    "        model_config=ml_config_core.LGBMTuneWeightedLogLossF1(),\n",
    "        transformer_config=ml_config_core.PipelineTransformerConfig(transformers),\n",
    "        data_loader_params={\n",
    "            \"drop_meta_data\": True,\n",
    "            \"ds_type\": feature_builder_v2.DatasetType.BASE,\n",
    "            # \"drop_cols\": [\"EXT_SOURCE_1\", \"EXT_SOURCE_2\", \"EXT_SOURCE_3\"]\n",
    "        }),\n",
    "\n",
    "    # \"TEST_LGBMTuneAUC_Base_DS\": ml_config_core.ModelPipelineConfig(\n",
    "    #     model_config=ml_config_core.LGBMTuneAUC(),\n",
    "    #     transformer_config=ml_config_core.PipelineTransformerConfig(transformers),\n",
    "    #     data_loader_params={\n",
    "    #         \"drop_meta_data\": True,\n",
    "    #         \"ds_type\": feature_builder_v2.DatasetType.BASE\n",
    "    #     }\n",
    "    # ),\n",
    "    # \"TEST_LGBMTuneAUC_Full_DS\": ml_config_core.ModelPipelineConfig(\n",
    "    #     model_config=ml_config_core.LGBMTuneAUC(),\n",
    "    #     transformer_config=ml_config_core.PipelineTransformerConfig(transformers),\n",
    "    #     data_loader_params={\n",
    "    #         \"drop_meta_data\": True,\n",
    "    #         \"ds_type\": feature_builder_v2.DatasetType.FULL\n",
    "    #     }\n",
    "\n",
    "}"
   ]
  },
  {
   "cell_type": "code",
   "outputs": [
    {
     "name": "stdout",
     "output_type": "stream",
     "text": [
      "1\n"
     ]
    }
   ],
   "source": [
    "print(1)"
   ],
   "metadata": {
    "collapsed": false,
    "ExecuteTime": {
     "end_time": "2024-04-09T19:07:05.310616922Z",
     "start_time": "2024-04-09T19:07:05.307119823Z"
    }
   },
   "id": "a61836a0a428f5e2",
   "execution_count": 2
  },
  {
   "cell_type": "code",
   "outputs": [],
   "source": [],
   "metadata": {
    "collapsed": false,
    "ExecuteTime": {
     "end_time": "2024-04-09T19:04:28.409127832Z",
     "start_time": "2024-04-09T19:04:28.404410898Z"
    }
   },
   "id": "eed3fa27393d896b",
   "execution_count": 3
  },
  {
   "cell_type": "code",
   "outputs": [
    {
     "name": "stderr",
     "output_type": "stream",
     "text": [
      "[I 2024-04-09 22:07:05,543] A new study created in memory with name: no-name-bba26997-37f0-41a4-9147-25fcf39b79c5\n"
     ]
    },
    {
     "name": "stdout",
     "output_type": "stream",
     "text": [
      "Tunning: - transformers: transformers: 0\n",
      " total options: 0\n",
      "[]\n",
      "search_grid:\n",
      "{}\n",
      "\n",
      " - model: LGBMTuneWeightedLogLoss_Full_DS n_iters=10 with:\n",
      " {'model__n_estimators': Range(50, 1000, 50, int), 'model__learning_rate': Range(0.01, 0.3, 0.01, float), 'model__max_depth': Range(3, 10, 1, int), 'model__num_leaves': Range(8, 256, 8, int), 'model__min_gain_to_split': Range(0.5, 15.0, 0.5, float), 'model__min_data_in_leaf': Range(200, 3000, 100, int), 'model__lambda_l1': Range(0, 100, 5, int), 'model__lambda_l2': Range(0, 100, 5, int), 'model__bagging_fraction': Range(0.2, 1.0, 0.1, float), 'model__feature_fraction': Range(0.2, 1.0, 0.1, float), 'model__max_bin': Range(50, 500, 25, int)}\n"
     ]
    },
    {
     "name": "stderr",
     "output_type": "stream",
     "text": [
      "/home/paulius/miniconda3/envs/rapids_v2/lib/python3.10/site-packages/numpy/core/fromnumeric.py:3464: RuntimeWarning: Mean of empty slice.\n",
      "  return _methods._mean(a, axis=axis, dtype=dtype,\n",
      "/home/paulius/miniconda3/envs/rapids_v2/lib/python3.10/site-packages/numpy/core/_methods.py:192: RuntimeWarning: invalid value encountered in scalar divide\n",
      "  ret = ret.dtype.type(ret / rcount)\n",
      "/home/paulius/miniconda3/envs/rapids_v2/lib/python3.10/site-packages/numpy/core/fromnumeric.py:3464: RuntimeWarning: Mean of empty slice.\n",
      "  return _methods._mean(a, axis=axis, dtype=dtype,\n",
      "/home/paulius/miniconda3/envs/rapids_v2/lib/python3.10/site-packages/numpy/core/_methods.py:192: RuntimeWarning: invalid value encountered in scalar divide\n",
      "  ret = ret.dtype.type(ret / rcount)\n",
      "[I 2024-04-09 22:07:08,687] Trial 0 finished with value: -0.3220137394976551 and parameters: {'model__n_estimators': 1000, 'model__learning_rate': 0.3, 'model__max_depth': 10, 'model__num_leaves': 88, 'model__min_gain_to_split': 9.0, 'model__min_data_in_leaf': 2100, 'model__lambda_l1': 35, 'model__lambda_l2': 70, 'model__bagging_fraction': 0.5, 'model__feature_fraction': 1.0, 'model__max_bin': 175}. Best is trial 0 with value: -0.3220137394976551.\n",
      "/home/paulius/miniconda3/envs/rapids_v2/lib/python3.10/site-packages/numpy/core/fromnumeric.py:3464: RuntimeWarning: Mean of empty slice.\n",
      "  return _methods._mean(a, axis=axis, dtype=dtype,\n",
      "/home/paulius/miniconda3/envs/rapids_v2/lib/python3.10/site-packages/numpy/core/_methods.py:192: RuntimeWarning: invalid value encountered in scalar divide\n",
      "  ret = ret.dtype.type(ret / rcount)\n",
      "/home/paulius/miniconda3/envs/rapids_v2/lib/python3.10/site-packages/numpy/core/fromnumeric.py:3464: RuntimeWarning: Mean of empty slice.\n",
      "  return _methods._mean(a, axis=axis, dtype=dtype,\n",
      "/home/paulius/miniconda3/envs/rapids_v2/lib/python3.10/site-packages/numpy/core/_methods.py:192: RuntimeWarning: invalid value encountered in scalar divide\n",
      "  ret = ret.dtype.type(ret / rcount)\n",
      "[I 2024-04-09 22:07:13,013] Trial 1 finished with value: -0.3209339904255344 and parameters: {'model__n_estimators': 650, 'model__learning_rate': 0.17, 'model__max_depth': 8, 'model__num_leaves': 48, 'model__min_gain_to_split': 4.0, 'model__min_data_in_leaf': 1900, 'model__lambda_l1': 50, 'model__lambda_l2': 15, 'model__bagging_fraction': 0.30000000000000004, 'model__feature_fraction': 0.4, 'model__max_bin': 200}. Best is trial 1 with value: -0.3209339904255344.\n",
      "/home/paulius/miniconda3/envs/rapids_v2/lib/python3.10/site-packages/numpy/core/fromnumeric.py:3464: RuntimeWarning: Mean of empty slice.\n",
      "  return _methods._mean(a, axis=axis, dtype=dtype,\n",
      "/home/paulius/miniconda3/envs/rapids_v2/lib/python3.10/site-packages/numpy/core/_methods.py:192: RuntimeWarning: invalid value encountered in scalar divide\n",
      "  ret = ret.dtype.type(ret / rcount)\n",
      "/home/paulius/miniconda3/envs/rapids_v2/lib/python3.10/site-packages/numpy/core/fromnumeric.py:3464: RuntimeWarning: Mean of empty slice.\n",
      "  return _methods._mean(a, axis=axis, dtype=dtype,\n",
      "/home/paulius/miniconda3/envs/rapids_v2/lib/python3.10/site-packages/numpy/core/_methods.py:192: RuntimeWarning: invalid value encountered in scalar divide\n",
      "  ret = ret.dtype.type(ret / rcount)\n",
      "[I 2024-04-09 22:07:18,538] Trial 2 finished with value: -0.3132085986514134 and parameters: {'model__n_estimators': 900, 'model__learning_rate': 0.22, 'model__max_depth': 6, 'model__num_leaves': 176, 'model__min_gain_to_split': 1.5, 'model__min_data_in_leaf': 200, 'model__lambda_l1': 80, 'model__lambda_l2': 70, 'model__bagging_fraction': 0.2, 'model__feature_fraction': 0.8, 'model__max_bin': 325}. Best is trial 2 with value: -0.3132085986514134.\n",
      "/home/paulius/miniconda3/envs/rapids_v2/lib/python3.10/site-packages/numpy/core/fromnumeric.py:3464: RuntimeWarning: Mean of empty slice.\n",
      "  return _methods._mean(a, axis=axis, dtype=dtype,\n",
      "/home/paulius/miniconda3/envs/rapids_v2/lib/python3.10/site-packages/numpy/core/_methods.py:192: RuntimeWarning: invalid value encountered in scalar divide\n",
      "  ret = ret.dtype.type(ret / rcount)\n",
      "/home/paulius/miniconda3/envs/rapids_v2/lib/python3.10/site-packages/numpy/core/fromnumeric.py:3464: RuntimeWarning: Mean of empty slice.\n",
      "  return _methods._mean(a, axis=axis, dtype=dtype,\n",
      "/home/paulius/miniconda3/envs/rapids_v2/lib/python3.10/site-packages/numpy/core/_methods.py:192: RuntimeWarning: invalid value encountered in scalar divide\n",
      "  ret = ret.dtype.type(ret / rcount)\n",
      "[I 2024-04-09 22:07:30,626] Trial 3 finished with value: -0.29806529690271183 and parameters: {'model__n_estimators': 800, 'model__learning_rate': 0.04, 'model__max_depth': 9, 'model__num_leaves': 144, 'model__min_gain_to_split': 6.0, 'model__min_data_in_leaf': 700, 'model__lambda_l1': 10, 'model__lambda_l2': 10, 'model__bagging_fraction': 0.5, 'model__feature_fraction': 0.9000000000000001, 'model__max_bin': 400}. Best is trial 3 with value: -0.29806529690271183.\n",
      "/home/paulius/miniconda3/envs/rapids_v2/lib/python3.10/site-packages/numpy/core/fromnumeric.py:3464: RuntimeWarning: Mean of empty slice.\n",
      "  return _methods._mean(a, axis=axis, dtype=dtype,\n",
      "/home/paulius/miniconda3/envs/rapids_v2/lib/python3.10/site-packages/numpy/core/_methods.py:192: RuntimeWarning: invalid value encountered in scalar divide\n",
      "  ret = ret.dtype.type(ret / rcount)\n",
      "/home/paulius/miniconda3/envs/rapids_v2/lib/python3.10/site-packages/numpy/core/fromnumeric.py:3464: RuntimeWarning: Mean of empty slice.\n",
      "  return _methods._mean(a, axis=axis, dtype=dtype,\n",
      "/home/paulius/miniconda3/envs/rapids_v2/lib/python3.10/site-packages/numpy/core/_methods.py:192: RuntimeWarning: invalid value encountered in scalar divide\n",
      "  ret = ret.dtype.type(ret / rcount)\n",
      "[I 2024-04-09 22:07:35,808] Trial 4 finished with value: -0.32157509495829956 and parameters: {'model__n_estimators': 100, 'model__learning_rate': 0.27, 'model__max_depth': 5, 'model__num_leaves': 80, 'model__min_gain_to_split': 6.5, 'model__min_data_in_leaf': 1500, 'model__lambda_l1': 0, 'model__lambda_l2': 70, 'model__bagging_fraction': 0.8, 'model__feature_fraction': 0.30000000000000004, 'model__max_bin': 500}. Best is trial 3 with value: -0.29806529690271183.\n",
      "/home/paulius/miniconda3/envs/rapids_v2/lib/python3.10/site-packages/numpy/core/fromnumeric.py:3464: RuntimeWarning: Mean of empty slice.\n",
      "  return _methods._mean(a, axis=axis, dtype=dtype,\n",
      "/home/paulius/miniconda3/envs/rapids_v2/lib/python3.10/site-packages/numpy/core/_methods.py:192: RuntimeWarning: invalid value encountered in scalar divide\n",
      "  ret = ret.dtype.type(ret / rcount)\n",
      "/home/paulius/miniconda3/envs/rapids_v2/lib/python3.10/site-packages/numpy/core/fromnumeric.py:3464: RuntimeWarning: Mean of empty slice.\n",
      "  return _methods._mean(a, axis=axis, dtype=dtype,\n",
      "/home/paulius/miniconda3/envs/rapids_v2/lib/python3.10/site-packages/numpy/core/_methods.py:192: RuntimeWarning: invalid value encountered in scalar divide\n",
      "  ret = ret.dtype.type(ret / rcount)\n",
      "[I 2024-04-09 22:07:39,040] Trial 5 finished with value: -0.3263221265232086 and parameters: {'model__n_estimators': 700, 'model__learning_rate': 0.28, 'model__max_depth': 7, 'model__num_leaves': 88, 'model__min_gain_to_split': 4.0, 'model__min_data_in_leaf': 2400, 'model__lambda_l1': 95, 'model__lambda_l2': 30, 'model__bagging_fraction': 0.6000000000000001, 'model__feature_fraction': 0.6000000000000001, 'model__max_bin': 250}. Best is trial 3 with value: -0.29806529690271183.\n",
      "/home/paulius/miniconda3/envs/rapids_v2/lib/python3.10/site-packages/numpy/core/fromnumeric.py:3464: RuntimeWarning: Mean of empty slice.\n",
      "  return _methods._mean(a, axis=axis, dtype=dtype,\n",
      "/home/paulius/miniconda3/envs/rapids_v2/lib/python3.10/site-packages/numpy/core/_methods.py:192: RuntimeWarning: invalid value encountered in scalar divide\n",
      "  ret = ret.dtype.type(ret / rcount)\n",
      "/home/paulius/miniconda3/envs/rapids_v2/lib/python3.10/site-packages/numpy/core/fromnumeric.py:3464: RuntimeWarning: Mean of empty slice.\n",
      "  return _methods._mean(a, axis=axis, dtype=dtype,\n",
      "/home/paulius/miniconda3/envs/rapids_v2/lib/python3.10/site-packages/numpy/core/_methods.py:192: RuntimeWarning: invalid value encountered in scalar divide\n",
      "  ret = ret.dtype.type(ret / rcount)\n",
      "[I 2024-04-09 22:07:49,219] Trial 6 finished with value: -0.3268343959946807 and parameters: {'model__n_estimators': 250, 'model__learning_rate': 0.03, 'model__max_depth': 4, 'model__num_leaves': 120, 'model__min_gain_to_split': 0.5, 'model__min_data_in_leaf': 2000, 'model__lambda_l1': 10, 'model__lambda_l2': 5, 'model__bagging_fraction': 0.6000000000000001, 'model__feature_fraction': 0.9000000000000001, 'model__max_bin': 100}. Best is trial 3 with value: -0.29806529690271183.\n",
      "/home/paulius/miniconda3/envs/rapids_v2/lib/python3.10/site-packages/numpy/core/fromnumeric.py:3464: RuntimeWarning: Mean of empty slice.\n",
      "  return _methods._mean(a, axis=axis, dtype=dtype,\n",
      "/home/paulius/miniconda3/envs/rapids_v2/lib/python3.10/site-packages/numpy/core/_methods.py:192: RuntimeWarning: invalid value encountered in scalar divide\n",
      "  ret = ret.dtype.type(ret / rcount)\n",
      "/home/paulius/miniconda3/envs/rapids_v2/lib/python3.10/site-packages/numpy/core/fromnumeric.py:3464: RuntimeWarning: Mean of empty slice.\n",
      "  return _methods._mean(a, axis=axis, dtype=dtype,\n",
      "/home/paulius/miniconda3/envs/rapids_v2/lib/python3.10/site-packages/numpy/core/_methods.py:192: RuntimeWarning: invalid value encountered in scalar divide\n",
      "  ret = ret.dtype.type(ret / rcount)\n",
      "[I 2024-04-09 22:07:51,803] Trial 7 finished with value: -0.4120574270817986 and parameters: {'model__n_estimators': 650, 'model__learning_rate': 0.01, 'model__max_depth': 5, 'model__num_leaves': 216, 'model__min_gain_to_split': 9.5, 'model__min_data_in_leaf': 1300, 'model__lambda_l1': 75, 'model__lambda_l2': 95, 'model__bagging_fraction': 0.5, 'model__feature_fraction': 0.2, 'model__max_bin': 475}. Best is trial 3 with value: -0.29806529690271183.\n",
      "/home/paulius/miniconda3/envs/rapids_v2/lib/python3.10/site-packages/numpy/core/fromnumeric.py:3464: RuntimeWarning: Mean of empty slice.\n",
      "  return _methods._mean(a, axis=axis, dtype=dtype,\n",
      "/home/paulius/miniconda3/envs/rapids_v2/lib/python3.10/site-packages/numpy/core/_methods.py:192: RuntimeWarning: invalid value encountered in scalar divide\n",
      "  ret = ret.dtype.type(ret / rcount)\n",
      "/home/paulius/miniconda3/envs/rapids_v2/lib/python3.10/site-packages/numpy/core/fromnumeric.py:3464: RuntimeWarning: Mean of empty slice.\n",
      "  return _methods._mean(a, axis=axis, dtype=dtype,\n",
      "/home/paulius/miniconda3/envs/rapids_v2/lib/python3.10/site-packages/numpy/core/_methods.py:192: RuntimeWarning: invalid value encountered in scalar divide\n",
      "  ret = ret.dtype.type(ret / rcount)\n",
      "[I 2024-04-09 22:07:58,378] Trial 8 finished with value: -0.31475249177646236 and parameters: {'model__n_estimators': 200, 'model__learning_rate': 0.19, 'model__max_depth': 5, 'model__num_leaves': 152, 'model__min_gain_to_split': 2.5, 'model__min_data_in_leaf': 900, 'model__lambda_l1': 45, 'model__lambda_l2': 85, 'model__bagging_fraction': 0.4, 'model__feature_fraction': 0.5, 'model__max_bin': 325}. Best is trial 3 with value: -0.29806529690271183.\n",
      "/home/paulius/miniconda3/envs/rapids_v2/lib/python3.10/site-packages/numpy/core/fromnumeric.py:3464: RuntimeWarning: Mean of empty slice.\n",
      "  return _methods._mean(a, axis=axis, dtype=dtype,\n",
      "/home/paulius/miniconda3/envs/rapids_v2/lib/python3.10/site-packages/numpy/core/_methods.py:192: RuntimeWarning: invalid value encountered in scalar divide\n",
      "  ret = ret.dtype.type(ret / rcount)\n",
      "/home/paulius/miniconda3/envs/rapids_v2/lib/python3.10/site-packages/numpy/core/fromnumeric.py:3464: RuntimeWarning: Mean of empty slice.\n",
      "  return _methods._mean(a, axis=axis, dtype=dtype,\n",
      "/home/paulius/miniconda3/envs/rapids_v2/lib/python3.10/site-packages/numpy/core/_methods.py:192: RuntimeWarning: invalid value encountered in scalar divide\n",
      "  ret = ret.dtype.type(ret / rcount)\n",
      "[I 2024-04-09 22:08:06,490] Trial 9 finished with value: -0.3279453787369951 and parameters: {'model__n_estimators': 600, 'model__learning_rate': 0.09999999999999999, 'model__max_depth': 4, 'model__num_leaves': 240, 'model__min_gain_to_split': 12.0, 'model__min_data_in_leaf': 2700, 'model__lambda_l1': 20, 'model__lambda_l2': 95, 'model__bagging_fraction': 0.7, 'model__feature_fraction': 0.4, 'model__max_bin': 100}. Best is trial 3 with value: -0.29806529690271183.\n"
     ]
    },
    {
     "name": "stdout",
     "output_type": "stream",
     "text": [
      "\n",
      " -- -- --\n",
      " TUNING RESULT: \n",
      " LGBMTuneWeightedLogLoss_Full_DS: auc = -0.29806529690271183 params: {'model__n_estimators': 800, 'model__learning_rate': 0.04, 'model__max_depth': 9, 'model__num_leaves': 144, 'model__min_gain_to_split': 6.0, 'model__min_data_in_leaf': 700, 'model__lambda_l1': 10, 'model__lambda_l2': 10, 'model__bagging_fraction': 0.5, 'model__feature_fraction': 0.9000000000000001, 'model__max_bin': 400}\n",
      " -- --\n",
      "\n",
      "LGBMTuneWeightedLogLoss_Full_DS Fit, total time:61.0\n"
     ]
    }
   ],
   "source": [
    "tuning_results = run_tuning_for_configs_collection(configs, feature_builder_v2.load_datasets_and_prepare_features)"
   ],
   "metadata": {
    "collapsed": false,
    "ExecuteTime": {
     "end_time": "2024-04-09T19:08:06.503959326Z",
     "start_time": "2024-04-09T19:07:05.310485904Z"
    }
   },
   "id": "4b5d63234ede2e6a",
   "execution_count": 3
  },
  {
   "cell_type": "code",
   "outputs": [
    {
     "name": "stdout",
     "output_type": "stream",
     "text": [
      "LGBMTuneWeightedLogLoss_Full_DS\n"
     ]
    },
    {
     "data": {
      "text/plain": "   Trial Number  Mean Test Score (AUC)  mean_test_score  mean_train_score  \\\n8             8              -0.561691        -0.561691               NaN   \n9             9              -0.564844        -0.564844               NaN   \n1             1              -0.569669        -0.569669               NaN   \n3             3              -0.571545        -0.571545               NaN   \n4             4              -0.571931        -0.571931               NaN   \n6             6              -0.580518        -0.580518               NaN   \n7             7              -0.583514        -0.583514               NaN   \n0             0              -0.583648        -0.583648               NaN   \n5             5              -0.617790        -0.617790               NaN   \n2             2              -0.682970        -0.682970               NaN   \n\n   macro_f1  micro_f1  f1_target1  precision_target1  recall_target1  \\\n8  0.541331   0.70901    0.264006           0.165541        0.651561   \n9  0.541299   0.70674    0.265822           0.166249        0.662797   \n1  0.538613   0.70195    0.264092           0.164599        0.667665   \n3  0.539049   0.70461    0.262797           0.164228        0.657303   \n4  0.538236   0.70224    0.263043           0.164043        0.663421   \n6  0.536212   0.69911    0.261348           0.162659        0.664544   \n7  0.533869   0.69636    0.258655           0.160768        0.661298   \n0  0.534247   0.69460    0.260962           0.161854        0.673159   \n5  0.522409   0.67856    0.249323           0.153347        0.666417   \n2  0.508028   0.66115    0.233562           0.142620        0.644569   \n\n   log_loss    pr_auc                                         Parameters  \n8  0.561691  0.225589  {'model__objective': 'binary', 'model__class_w...  \n9  0.564844  0.229965  {'model__objective': 'binary', 'model__class_w...  \n1  0.569669  0.229723  {'model__objective': 'binary', 'model__class_w...  \n3  0.571545  0.225428  {'model__objective': 'binary', 'model__class_w...  \n4  0.571931  0.227629  {'model__objective': 'binary', 'model__class_w...  \n6  0.580518  0.223740  {'model__objective': 'binary', 'model__class_w...  \n7  0.583514  0.223081  {'model__objective': 'binary', 'model__class_w...  \n0  0.583648  0.225347  {'model__objective': 'binary', 'model__class_w...  \n5  0.617790  0.192757  {'model__objective': 'binary', 'model__class_w...  \n2  0.682970  0.181050  {'model__objective': 'binary', 'model__class_w...  ",
      "text/html": "<div>\n<style scoped>\n    .dataframe tbody tr th:only-of-type {\n        vertical-align: middle;\n    }\n\n    .dataframe tbody tr th {\n        vertical-align: top;\n    }\n\n    .dataframe thead th {\n        text-align: right;\n    }\n</style>\n<table border=\"1\" class=\"dataframe\">\n  <thead>\n    <tr style=\"text-align: right;\">\n      <th></th>\n      <th>Trial Number</th>\n      <th>Mean Test Score (AUC)</th>\n      <th>mean_test_score</th>\n      <th>mean_train_score</th>\n      <th>macro_f1</th>\n      <th>micro_f1</th>\n      <th>f1_target1</th>\n      <th>precision_target1</th>\n      <th>recall_target1</th>\n      <th>log_loss</th>\n      <th>pr_auc</th>\n      <th>Parameters</th>\n    </tr>\n  </thead>\n  <tbody>\n    <tr>\n      <th>8</th>\n      <td>8</td>\n      <td>-0.561691</td>\n      <td>-0.561691</td>\n      <td>NaN</td>\n      <td>0.541331</td>\n      <td>0.70901</td>\n      <td>0.264006</td>\n      <td>0.165541</td>\n      <td>0.651561</td>\n      <td>0.561691</td>\n      <td>0.225589</td>\n      <td>{'model__objective': 'binary', 'model__class_w...</td>\n    </tr>\n    <tr>\n      <th>9</th>\n      <td>9</td>\n      <td>-0.564844</td>\n      <td>-0.564844</td>\n      <td>NaN</td>\n      <td>0.541299</td>\n      <td>0.70674</td>\n      <td>0.265822</td>\n      <td>0.166249</td>\n      <td>0.662797</td>\n      <td>0.564844</td>\n      <td>0.229965</td>\n      <td>{'model__objective': 'binary', 'model__class_w...</td>\n    </tr>\n    <tr>\n      <th>1</th>\n      <td>1</td>\n      <td>-0.569669</td>\n      <td>-0.569669</td>\n      <td>NaN</td>\n      <td>0.538613</td>\n      <td>0.70195</td>\n      <td>0.264092</td>\n      <td>0.164599</td>\n      <td>0.667665</td>\n      <td>0.569669</td>\n      <td>0.229723</td>\n      <td>{'model__objective': 'binary', 'model__class_w...</td>\n    </tr>\n    <tr>\n      <th>3</th>\n      <td>3</td>\n      <td>-0.571545</td>\n      <td>-0.571545</td>\n      <td>NaN</td>\n      <td>0.539049</td>\n      <td>0.70461</td>\n      <td>0.262797</td>\n      <td>0.164228</td>\n      <td>0.657303</td>\n      <td>0.571545</td>\n      <td>0.225428</td>\n      <td>{'model__objective': 'binary', 'model__class_w...</td>\n    </tr>\n    <tr>\n      <th>4</th>\n      <td>4</td>\n      <td>-0.571931</td>\n      <td>-0.571931</td>\n      <td>NaN</td>\n      <td>0.538236</td>\n      <td>0.70224</td>\n      <td>0.263043</td>\n      <td>0.164043</td>\n      <td>0.663421</td>\n      <td>0.571931</td>\n      <td>0.227629</td>\n      <td>{'model__objective': 'binary', 'model__class_w...</td>\n    </tr>\n    <tr>\n      <th>6</th>\n      <td>6</td>\n      <td>-0.580518</td>\n      <td>-0.580518</td>\n      <td>NaN</td>\n      <td>0.536212</td>\n      <td>0.69911</td>\n      <td>0.261348</td>\n      <td>0.162659</td>\n      <td>0.664544</td>\n      <td>0.580518</td>\n      <td>0.223740</td>\n      <td>{'model__objective': 'binary', 'model__class_w...</td>\n    </tr>\n    <tr>\n      <th>7</th>\n      <td>7</td>\n      <td>-0.583514</td>\n      <td>-0.583514</td>\n      <td>NaN</td>\n      <td>0.533869</td>\n      <td>0.69636</td>\n      <td>0.258655</td>\n      <td>0.160768</td>\n      <td>0.661298</td>\n      <td>0.583514</td>\n      <td>0.223081</td>\n      <td>{'model__objective': 'binary', 'model__class_w...</td>\n    </tr>\n    <tr>\n      <th>0</th>\n      <td>0</td>\n      <td>-0.583648</td>\n      <td>-0.583648</td>\n      <td>NaN</td>\n      <td>0.534247</td>\n      <td>0.69460</td>\n      <td>0.260962</td>\n      <td>0.161854</td>\n      <td>0.673159</td>\n      <td>0.583648</td>\n      <td>0.225347</td>\n      <td>{'model__objective': 'binary', 'model__class_w...</td>\n    </tr>\n    <tr>\n      <th>5</th>\n      <td>5</td>\n      <td>-0.617790</td>\n      <td>-0.617790</td>\n      <td>NaN</td>\n      <td>0.522409</td>\n      <td>0.67856</td>\n      <td>0.249323</td>\n      <td>0.153347</td>\n      <td>0.666417</td>\n      <td>0.617790</td>\n      <td>0.192757</td>\n      <td>{'model__objective': 'binary', 'model__class_w...</td>\n    </tr>\n    <tr>\n      <th>2</th>\n      <td>2</td>\n      <td>-0.682970</td>\n      <td>-0.682970</td>\n      <td>NaN</td>\n      <td>0.508028</td>\n      <td>0.66115</td>\n      <td>0.233562</td>\n      <td>0.142620</td>\n      <td>0.644569</td>\n      <td>0.682970</td>\n      <td>0.181050</td>\n      <td>{'model__objective': 'binary', 'model__class_w...</td>\n    </tr>\n  </tbody>\n</table>\n</div>"
     },
     "metadata": {},
     "output_type": "display_data"
    }
   ],
   "source": [
    "for t, v in tuning_results.items():\n",
    "    print(v.model_key)\n",
    "    display(v.hyper_param_all_cv_results)\n",
    "\n"
   ],
   "metadata": {
    "collapsed": false,
    "ExecuteTime": {
     "end_time": "2024-04-09T19:05:19.926544134Z",
     "start_time": "2024-04-09T19:05:19.908091162Z"
    }
   },
   "id": "23fac5165a6b77dd",
   "execution_count": 5
  },
  {
   "cell_type": "code",
   "outputs": [],
   "source": [],
   "metadata": {
    "collapsed": false,
    "ExecuteTime": {
     "end_time": "2024-04-09T19:05:19.926782578Z",
     "start_time": "2024-04-09T19:05:19.926078236Z"
    }
   },
   "id": "27ceb3ef64dae1f2",
   "execution_count": 5
  },
  {
   "cell_type": "code",
   "outputs": [],
   "source": [
    "# Results:\n",
    "\n",
    "# Only main dataset:\n",
    "# - top res      : 0.753\n",
    "# - full + gbdt  : 0.765\n",
    "# - full + dart  : 0.765\n"
   ],
   "metadata": {
    "collapsed": false,
    "ExecuteTime": {
     "end_time": "2024-04-09T19:05:19.926902659Z",
     "start_time": "2024-04-09T19:05:19.926146290Z"
    }
   },
   "id": "455694eed5002c55",
   "execution_count": 6
  },
  {
   "cell_type": "code",
   "outputs": [
    {
     "name": "stderr",
     "output_type": "stream",
     "text": [
      "/home/paulius/miniconda3/envs/rapids_v2/lib/python3.10/site-packages/featuretools/entityset/entityset.py:1914: UserWarning: index SK_BUREAU_ID not found in dataframe, creating new integer column\n",
      "  warnings.warn(\n"
     ]
    },
    {
     "name": "stdout",
     "output_type": "stream",
     "text": [
      "Appending previous history\n"
     ]
    }
   ],
   "source": [
    "from Draft.feature_builder_v2 import DatasetType\n",
    "\n",
    "importlib.reload(feature_builder_v2)\n",
    "features_matrix_full = feature_builder_v2.load_datasets_and_prepare_features(drop_meta_data=True,\n",
    "                                                                             ds_type=DatasetType.FULL)\n"
   ],
   "metadata": {
    "collapsed": false,
    "ExecuteTime": {
     "end_time": "2024-04-09T19:05:40.986132881Z",
     "start_time": "2024-04-09T19:05:19.926179240Z"
    }
   },
   "id": "fed6d85344fbd3e1",
   "execution_count": 7
  },
  {
   "cell_type": "code",
   "outputs": [
    {
     "data": {
      "text/plain": "       TARGET NameContractType CodeGender  FlagOwnCar  FlagOwnRealty  \\\n0           0       Cash loans          M        True          False   \n1           0       Cash loans          F        True           True   \n2           0       Cash loans          F        True          False   \n3           0       Cash loans          F       False           True   \n4           0       Cash loans          M       False           True   \n...       ...              ...        ...         ...            ...   \n99995       0  Revolving loans          F       False           True   \n99996       0       Cash loans          M       False           True   \n99997       0  Revolving loans          M        True          False   \n99998       0       Cash loans          F        True           True   \n99999       0       Cash loans          M        True           True   \n\n       CntChildren  AmtIncomeTotal  AmtCredit  AmtAnnuity  AmtGoodsPrice  ...  \\\n0                2        207000.0   465457.5     52641.0       418500.0  ...   \n1                0        247500.0  1281712.5     48946.5      1179000.0  ...   \n2                0        202500.0   495000.0     39109.5       495000.0  ...   \n3                0        247500.0   254700.0     24939.0       225000.0  ...   \n4                0        112500.0   308133.0     15862.5       234000.0  ...   \n...            ...             ...        ...         ...            ...  ...   \n99995            1        202500.0   585000.0     29250.0       585000.0  ...   \n99996            0        225000.0   562500.0     31540.5       562500.0  ...   \n99997            1        135000.0   180000.0      9000.0       180000.0  ...   \n99998            0        135000.0   254700.0     17149.5       225000.0  ...   \n99999            2        157500.0   746280.0     59094.0       675000.0  ...   \n\n      PrevCodeRejectReasonHcCount PrevCodeRejectReasonLimitCount  \\\n0                             3.0                            0.0   \n1                             1.0                            1.0   \n2                             1.0                            0.0   \n3                             0.0                            0.0   \n4                             2.0                            0.0   \n...                           ...                            ...   \n99995                         0.0                            0.0   \n99996                         0.0                            0.0   \n99997                         0.0                            0.0   \n99998                         0.0                            0.0   \n99999                         0.0                            0.0   \n\n      PrevCodeRejectReasonScoCount PrevCodeRejectReasonScofrCount  \\\n0                              0.0                            0.0   \n1                              0.0                            0.0   \n2                              0.0                            0.0   \n3                              0.0                            0.0   \n4                              1.0                            0.0   \n...                            ...                            ...   \n99995                          0.0                            0.0   \n99996                          0.0                            0.0   \n99997                          0.0                            0.0   \n99998                          0.0                            0.0   \n99999                          1.0                            0.0   \n\n      PrevCodeRejectReasonSystemCount  PrevCodeRejectReasonVerifCount  \\\n0                                 0.0                             0.0   \n1                                 0.0                             0.0   \n2                                 0.0                             0.0   \n3                                 0.0                             0.0   \n4                                 0.0                             0.0   \n...                               ...                             ...   \n99995                             0.0                             0.0   \n99996                             0.0                             0.0   \n99997                             0.0                             0.0   \n99998                             0.0                             0.0   \n99999                             0.0                             0.0   \n\n       PrevCodeRejectReasonXapCount  PrevCodeRejectReasonXnaCount  \\\n0                               2.0                           0.0   \n1                              10.0                           0.0   \n2                               5.0                           0.0   \n3                               1.0                           0.0   \n4                               6.0                           0.0   \n...                             ...                           ...   \n99995                           3.0                           0.0   \n99996                           3.0                           0.0   \n99997                           1.0                           0.0   \n99998                           1.0                           0.0   \n99999                           3.0                           0.0   \n\n       PrevLastLoanNflagInsuredOnApproval  PrevAvgNflagInsuredOnApproval  \n0                                     NaN                       0.000000  \n1                                     NaN                       0.555556  \n2                                     NaN                       0.000000  \n3                                     0.0                       0.000000  \n4                                     NaN                       0.600000  \n...                                   ...                            ...  \n99995                                 1.0                       0.333333  \n99996                                 0.0                       0.333333  \n99997                                 0.0                       0.000000  \n99998                                 0.0                       0.000000  \n99999                                 0.0                       0.000000  \n\n[100000 rows x 227 columns]",
      "text/html": "<div>\n<style scoped>\n    .dataframe tbody tr th:only-of-type {\n        vertical-align: middle;\n    }\n\n    .dataframe tbody tr th {\n        vertical-align: top;\n    }\n\n    .dataframe thead th {\n        text-align: right;\n    }\n</style>\n<table border=\"1\" class=\"dataframe\">\n  <thead>\n    <tr style=\"text-align: right;\">\n      <th></th>\n      <th>TARGET</th>\n      <th>NameContractType</th>\n      <th>CodeGender</th>\n      <th>FlagOwnCar</th>\n      <th>FlagOwnRealty</th>\n      <th>CntChildren</th>\n      <th>AmtIncomeTotal</th>\n      <th>AmtCredit</th>\n      <th>AmtAnnuity</th>\n      <th>AmtGoodsPrice</th>\n      <th>...</th>\n      <th>PrevCodeRejectReasonHcCount</th>\n      <th>PrevCodeRejectReasonLimitCount</th>\n      <th>PrevCodeRejectReasonScoCount</th>\n      <th>PrevCodeRejectReasonScofrCount</th>\n      <th>PrevCodeRejectReasonSystemCount</th>\n      <th>PrevCodeRejectReasonVerifCount</th>\n      <th>PrevCodeRejectReasonXapCount</th>\n      <th>PrevCodeRejectReasonXnaCount</th>\n      <th>PrevLastLoanNflagInsuredOnApproval</th>\n      <th>PrevAvgNflagInsuredOnApproval</th>\n    </tr>\n  </thead>\n  <tbody>\n    <tr>\n      <th>0</th>\n      <td>0</td>\n      <td>Cash loans</td>\n      <td>M</td>\n      <td>True</td>\n      <td>False</td>\n      <td>2</td>\n      <td>207000.0</td>\n      <td>465457.5</td>\n      <td>52641.0</td>\n      <td>418500.0</td>\n      <td>...</td>\n      <td>3.0</td>\n      <td>0.0</td>\n      <td>0.0</td>\n      <td>0.0</td>\n      <td>0.0</td>\n      <td>0.0</td>\n      <td>2.0</td>\n      <td>0.0</td>\n      <td>NaN</td>\n      <td>0.000000</td>\n    </tr>\n    <tr>\n      <th>1</th>\n      <td>0</td>\n      <td>Cash loans</td>\n      <td>F</td>\n      <td>True</td>\n      <td>True</td>\n      <td>0</td>\n      <td>247500.0</td>\n      <td>1281712.5</td>\n      <td>48946.5</td>\n      <td>1179000.0</td>\n      <td>...</td>\n      <td>1.0</td>\n      <td>1.0</td>\n      <td>0.0</td>\n      <td>0.0</td>\n      <td>0.0</td>\n      <td>0.0</td>\n      <td>10.0</td>\n      <td>0.0</td>\n      <td>NaN</td>\n      <td>0.555556</td>\n    </tr>\n    <tr>\n      <th>2</th>\n      <td>0</td>\n      <td>Cash loans</td>\n      <td>F</td>\n      <td>True</td>\n      <td>False</td>\n      <td>0</td>\n      <td>202500.0</td>\n      <td>495000.0</td>\n      <td>39109.5</td>\n      <td>495000.0</td>\n      <td>...</td>\n      <td>1.0</td>\n      <td>0.0</td>\n      <td>0.0</td>\n      <td>0.0</td>\n      <td>0.0</td>\n      <td>0.0</td>\n      <td>5.0</td>\n      <td>0.0</td>\n      <td>NaN</td>\n      <td>0.000000</td>\n    </tr>\n    <tr>\n      <th>3</th>\n      <td>0</td>\n      <td>Cash loans</td>\n      <td>F</td>\n      <td>False</td>\n      <td>True</td>\n      <td>0</td>\n      <td>247500.0</td>\n      <td>254700.0</td>\n      <td>24939.0</td>\n      <td>225000.0</td>\n      <td>...</td>\n      <td>0.0</td>\n      <td>0.0</td>\n      <td>0.0</td>\n      <td>0.0</td>\n      <td>0.0</td>\n      <td>0.0</td>\n      <td>1.0</td>\n      <td>0.0</td>\n      <td>0.0</td>\n      <td>0.000000</td>\n    </tr>\n    <tr>\n      <th>4</th>\n      <td>0</td>\n      <td>Cash loans</td>\n      <td>M</td>\n      <td>False</td>\n      <td>True</td>\n      <td>0</td>\n      <td>112500.0</td>\n      <td>308133.0</td>\n      <td>15862.5</td>\n      <td>234000.0</td>\n      <td>...</td>\n      <td>2.0</td>\n      <td>0.0</td>\n      <td>1.0</td>\n      <td>0.0</td>\n      <td>0.0</td>\n      <td>0.0</td>\n      <td>6.0</td>\n      <td>0.0</td>\n      <td>NaN</td>\n      <td>0.600000</td>\n    </tr>\n    <tr>\n      <th>...</th>\n      <td>...</td>\n      <td>...</td>\n      <td>...</td>\n      <td>...</td>\n      <td>...</td>\n      <td>...</td>\n      <td>...</td>\n      <td>...</td>\n      <td>...</td>\n      <td>...</td>\n      <td>...</td>\n      <td>...</td>\n      <td>...</td>\n      <td>...</td>\n      <td>...</td>\n      <td>...</td>\n      <td>...</td>\n      <td>...</td>\n      <td>...</td>\n      <td>...</td>\n      <td>...</td>\n    </tr>\n    <tr>\n      <th>99995</th>\n      <td>0</td>\n      <td>Revolving loans</td>\n      <td>F</td>\n      <td>False</td>\n      <td>True</td>\n      <td>1</td>\n      <td>202500.0</td>\n      <td>585000.0</td>\n      <td>29250.0</td>\n      <td>585000.0</td>\n      <td>...</td>\n      <td>0.0</td>\n      <td>0.0</td>\n      <td>0.0</td>\n      <td>0.0</td>\n      <td>0.0</td>\n      <td>0.0</td>\n      <td>3.0</td>\n      <td>0.0</td>\n      <td>1.0</td>\n      <td>0.333333</td>\n    </tr>\n    <tr>\n      <th>99996</th>\n      <td>0</td>\n      <td>Cash loans</td>\n      <td>M</td>\n      <td>False</td>\n      <td>True</td>\n      <td>0</td>\n      <td>225000.0</td>\n      <td>562500.0</td>\n      <td>31540.5</td>\n      <td>562500.0</td>\n      <td>...</td>\n      <td>0.0</td>\n      <td>0.0</td>\n      <td>0.0</td>\n      <td>0.0</td>\n      <td>0.0</td>\n      <td>0.0</td>\n      <td>3.0</td>\n      <td>0.0</td>\n      <td>0.0</td>\n      <td>0.333333</td>\n    </tr>\n    <tr>\n      <th>99997</th>\n      <td>0</td>\n      <td>Revolving loans</td>\n      <td>M</td>\n      <td>True</td>\n      <td>False</td>\n      <td>1</td>\n      <td>135000.0</td>\n      <td>180000.0</td>\n      <td>9000.0</td>\n      <td>180000.0</td>\n      <td>...</td>\n      <td>0.0</td>\n      <td>0.0</td>\n      <td>0.0</td>\n      <td>0.0</td>\n      <td>0.0</td>\n      <td>0.0</td>\n      <td>1.0</td>\n      <td>0.0</td>\n      <td>0.0</td>\n      <td>0.000000</td>\n    </tr>\n    <tr>\n      <th>99998</th>\n      <td>0</td>\n      <td>Cash loans</td>\n      <td>F</td>\n      <td>True</td>\n      <td>True</td>\n      <td>0</td>\n      <td>135000.0</td>\n      <td>254700.0</td>\n      <td>17149.5</td>\n      <td>225000.0</td>\n      <td>...</td>\n      <td>0.0</td>\n      <td>0.0</td>\n      <td>0.0</td>\n      <td>0.0</td>\n      <td>0.0</td>\n      <td>0.0</td>\n      <td>1.0</td>\n      <td>0.0</td>\n      <td>0.0</td>\n      <td>0.000000</td>\n    </tr>\n    <tr>\n      <th>99999</th>\n      <td>0</td>\n      <td>Cash loans</td>\n      <td>M</td>\n      <td>True</td>\n      <td>True</td>\n      <td>2</td>\n      <td>157500.0</td>\n      <td>746280.0</td>\n      <td>59094.0</td>\n      <td>675000.0</td>\n      <td>...</td>\n      <td>0.0</td>\n      <td>0.0</td>\n      <td>1.0</td>\n      <td>0.0</td>\n      <td>0.0</td>\n      <td>0.0</td>\n      <td>3.0</td>\n      <td>0.0</td>\n      <td>0.0</td>\n      <td>0.000000</td>\n    </tr>\n  </tbody>\n</table>\n<p>100000 rows × 227 columns</p>\n</div>"
     },
     "execution_count": 8,
     "metadata": {},
     "output_type": "execute_result"
    }
   ],
   "source": [
    "features_matrix_full"
   ],
   "metadata": {
    "collapsed": false,
    "ExecuteTime": {
     "end_time": "2024-04-09T19:05:41.013725313Z",
     "start_time": "2024-04-09T19:05:40.987649684Z"
    }
   },
   "id": "554658483974d14c",
   "execution_count": 8
  },
  {
   "cell_type": "code",
   "outputs": [],
   "source": [],
   "metadata": {
    "collapsed": false,
    "ExecuteTime": {
     "end_time": "2024-04-09T19:05:41.014045074Z",
     "start_time": "2024-04-09T19:05:41.013078492Z"
    }
   },
   "id": "e88fb97a1bdb7db8",
   "execution_count": 8
  },
  {
   "cell_type": "code",
   "outputs": [],
   "source": [],
   "metadata": {
    "collapsed": false,
    "ExecuteTime": {
     "end_time": "2024-04-09T19:05:41.411758039Z",
     "start_time": "2024-04-09T19:05:41.014839533Z"
    }
   },
   "id": "b8958a4e18afe0d4",
   "execution_count": 8
  },
  {
   "cell_type": "code",
   "outputs": [],
   "source": [],
   "metadata": {
    "collapsed": false,
    "ExecuteTime": {
     "end_time": "2024-04-09T19:05:41.411973764Z",
     "start_time": "2024-04-09T19:05:41.060962321Z"
    }
   },
   "id": "f502809aea6263b",
   "execution_count": 8
  },
  {
   "cell_type": "code",
   "outputs": [],
   "source": [],
   "metadata": {
    "collapsed": false,
    "ExecuteTime": {
     "end_time": "2024-04-09T19:05:41.412111283Z",
     "start_time": "2024-04-09T19:05:41.061044417Z"
    }
   },
   "id": "f2e21b82c3053120",
   "execution_count": 8
  },
  {
   "cell_type": "code",
   "outputs": [],
   "source": [],
   "metadata": {
    "collapsed": false,
    "ExecuteTime": {
     "end_time": "2024-04-09T19:05:41.412228355Z",
     "start_time": "2024-04-09T19:05:41.061081368Z"
    }
   },
   "id": "4cbda67e3cec9bce",
   "execution_count": 8
  },
  {
   "cell_type": "code",
   "outputs": [
    {
     "name": "stderr",
     "output_type": "stream",
     "text": [
      "/home/paulius/miniconda3/envs/rapids_v2/lib/python3.10/site-packages/featuretools/entityset/entityset.py:1914: UserWarning: index SK_BUREAU_ID not found in dataframe, creating new integer column\n",
      "  warnings.warn(\n"
     ]
    },
    {
     "name": "stdout",
     "output_type": "stream",
     "text": [
      "Appending previous history\n"
     ]
    }
   ],
   "source": [
    "from Draft.feature_builder_v2 import DatasetType\n",
    "\n",
    "importlib.reload(feature_builder_v2)\n",
    "features_matrix_full = feature_builder_v2.load_datasets_and_prepare_features(drop_meta_data=True,\n",
    "                                                                             ds_type=DatasetType.FULL)\n",
    "features_matrix_base = feature_builder_v2.load_datasets_and_prepare_features(drop_meta_data=True,\n",
    "                                                                             ds_type=DatasetType.BASE)\n"
   ],
   "metadata": {
    "collapsed": false,
    "ExecuteTime": {
     "start_time": "2024-04-09T19:05:41.061111373Z"
    }
   },
   "id": "3417c5b9b8374dd",
   "execution_count": null
  },
  {
   "cell_type": "code",
   "outputs": [],
   "source": [
    "features_matrix_full"
   ],
   "metadata": {
    "collapsed": false
   },
   "id": "af6d9fe4aba1c40",
   "execution_count": null
  },
  {
   "cell_type": "code",
   "outputs": [],
   "source": [
    "importlib.reload(feature_builder_v2)\n",
    "features_matrix = feature_builder_v2.load_datasets_and_prepare_features(drop_meta_data=True,\n",
    "                                                                        ds_type=feature_builder_v2.DatasetType.BASE_ONLY_CREDIT_RATINGS)\n",
    "from shared import stats_utils\n",
    "\n",
    "stats_utils.nan_summary(features_matrix)"
   ],
   "metadata": {
    "collapsed": false
   },
   "id": "cdea310c0e82a4aa",
   "execution_count": null
  },
  {
   "cell_type": "code",
   "outputs": [],
   "source": [],
   "metadata": {
    "collapsed": false
   },
   "id": "37dad6ce569a8ada",
   "execution_count": null
  }
 ],
 "metadata": {
  "kernelspec": {
   "display_name": "Python 3",
   "language": "python",
   "name": "python3"
  },
  "language_info": {
   "codemirror_mode": {
    "name": "ipython",
    "version": 2
   },
   "file_extension": ".py",
   "mimetype": "text/x-python",
   "name": "python",
   "nbconvert_exporter": "python",
   "pygments_lexer": "ipython2",
   "version": "2.7.6"
  }
 },
 "nbformat": 4,
 "nbformat_minor": 5
}
